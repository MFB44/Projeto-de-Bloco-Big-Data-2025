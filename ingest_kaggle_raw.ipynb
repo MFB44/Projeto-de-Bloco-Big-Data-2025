{
 "cells": [
  {
   "cell_type": "code",
   "execution_count": 0,
   "metadata": {
    "application/vnd.databricks.v1+cell": {
     "cellMetadata": {
      "byteLimit": 2048000,
      "rowLimit": 10000
     },
     "inputWidgets": {},
     "nuid": "d8f3daec-d2b7-4c07-b8d7-6bb6eb02c673",
     "showTitle": false,
     "tableResultSettingsMap": {},
     "title": ""
    }
   },
   "outputs": [],
   "source": [
    "!pip install kagglehub"
   ]
  },
  {
   "cell_type": "code",
   "execution_count": 0,
   "metadata": {
    "application/vnd.databricks.v1+cell": {
     "cellMetadata": {
      "byteLimit": 2048000,
      "rowLimit": 10000
     },
     "inputWidgets": {},
     "nuid": "65ad8a2c-bc5c-40cd-9ff2-fd64bf5c25fb",
     "showTitle": false,
     "tableResultSettingsMap": {},
     "title": ""
    }
   },
   "outputs": [],
   "source": [
    "import kagglehub\n",
    "import matplotlib.pyplot as plt\n",
    "from datetime import datetime\n",
    "from pyspark.sql import SparkSession\n",
    "import os"
   ]
  },
  {
   "cell_type": "code",
   "execution_count": 0,
   "metadata": {
    "application/vnd.databricks.v1+cell": {
     "cellMetadata": {
      "byteLimit": 2048000,
      "rowLimit": 10000
     },
     "inputWidgets": {},
     "nuid": "a92df8b4-50d3-4714-ab5e-99461b03ce5f",
     "showTitle": false,
     "tableResultSettingsMap": {},
     "title": ""
    }
   },
   "outputs": [],
   "source": [
    "SparkSession.builder.appName(\"ProjBloco\").getOrCreate()"
   ]
  },
  {
   "cell_type": "code",
   "execution_count": 0,
   "metadata": {
    "application/vnd.databricks.v1+cell": {
     "cellMetadata": {
      "byteLimit": 2048000,
      "rowLimit": 10000
     },
     "inputWidgets": {},
     "nuid": "7ad05df3-cc55-4dfe-8f4a-49e970e66712",
     "showTitle": false,
     "tableResultSettingsMap": {},
     "title": ""
    }
   },
   "outputs": [],
   "source": [
    "import kagglehub\n",
    "import os\n",
    "from datetime import datetime\n",
    "\n",
    "# 1. Baixar o dataset\n",
    "dataset_path = kagglehub.dataset_download(\"gregorut/videogamesales\")\n",
    "\n",
    "# 2. Caminho do arquivo CSV dentro do dataset baixado\n",
    "csv_path = os.path.join(dataset_path, \"vgsales.csv\")\n",
    "\n",
    "# 3. Ler o CSV com Spark\n",
    "df = spark.read.option(\"header\", \"true\").csv(f\"file:{csv_path}\")\n",
    "\n",
    "# 4. Mostrar os dados para validar\n",
    "df.show(5)"
   ]
  },
  {
   "cell_type": "code",
   "execution_count": 0,
   "metadata": {
    "application/vnd.databricks.v1+cell": {
     "cellMetadata": {
      "byteLimit": 2048000,
      "rowLimit": 10000
     },
     "inputWidgets": {},
     "nuid": "94d3b9cb-17e9-4123-a133-243f0862b708",
     "showTitle": false,
     "tableResultSettingsMap": {},
     "title": ""
    }
   },
   "outputs": [],
   "source": [
    "# 5. Gerar caminho de saída com data atual\n",
    "data_hoje = datetime.today().strftime('%Y-%m-%d')\n",
    "mount_path = f\"/mnt/raw/kaggle/{data_hoje}\"\n",
    "\n",
    "# 6. Salvar como CSV no mount (com cabeçalho)\n",
    "df.write.mode(\"overwrite\").option(\"header\", \"true\").csv(mount_path)\n",
    "\n",
    "print(f\"✅ CSV salvo no mount: {mount_path}\")"
   ]
  },
  {
   "cell_type": "code",
   "execution_count": 0,
   "metadata": {
    "application/vnd.databricks.v1+cell": {
     "cellMetadata": {},
     "inputWidgets": {},
     "nuid": "e3795274-bc2b-47f2-9ef2-191c90b81b0a",
     "showTitle": false,
     "tableResultSettingsMap": {},
     "title": ""
    }
   },
   "outputs": [],
   "source": []
  }
 ],
 "metadata": {
  "application/vnd.databricks.v1+notebook": {
   "computePreferences": null,
   "dashboards": [],
   "environmentMetadata": {
    "base_environment": "",
    "environment_version": "2"
   },
   "inputWidgetPreferences": null,
   "language": "python",
   "notebookMetadata": {
    "pythonIndentUnit": 4
   },
   "notebookName": "ingest_kaggle_raw",
   "widgets": {}
  },
  "language_info": {
   "name": "python"
  }
 },
 "nbformat": 4,
 "nbformat_minor": 0
}
