{
 "cells": [
  {
   "cell_type": "code",
   "execution_count": 0,
   "metadata": {
    "application/vnd.databricks.v1+cell": {
     "cellMetadata": {
      "byteLimit": 2048000,
      "rowLimit": 10000
     },
     "inputWidgets": {},
     "nuid": "d8f3daec-d2b7-4c07-b8d7-6bb6eb02c673",
     "showTitle": false,
     "tableResultSettingsMap": {},
     "title": ""
    }
   },
   "outputs": [
    {
     "output_type": "stream",
     "name": "stdout",
     "output_type": "stream",
     "text": [
      "Collecting kagglehub\n  Obtaining dependency information for kagglehub from https://files.pythonhosted.org/packages/49/bf/c2a24567bb6bd80c1fe7cb2ed1a332666476f69c313256aff96094bef93e/kagglehub-0.3.12-py3-none-any.whl.metadata\n  Using cached kagglehub-0.3.12-py3-none-any.whl.metadata (38 kB)\nRequirement already satisfied: packaging in /databricks/python3/lib/python3.11/site-packages (from kagglehub) (23.2)\nRequirement already satisfied: pyyaml in /databricks/python3/lib/python3.11/site-packages (from kagglehub) (6.0)\nRequirement already satisfied: requests in /databricks/python3/lib/python3.11/site-packages (from kagglehub) (2.31.0)\nCollecting tqdm (from kagglehub)\n  Obtaining dependency information for tqdm from https://files.pythonhosted.org/packages/d0/30/dc54f88dd4a2b5dc8a0279bdd7270e735851848b762aeb1c1184ed1f6b14/tqdm-4.67.1-py3-none-any.whl.metadata\n  Using cached tqdm-4.67.1-py3-none-any.whl.metadata (57 kB)\nRequirement already satisfied: charset-normalizer<4,>=2 in /databricks/python3/lib/python3.11/site-packages (from requests->kagglehub) (2.0.4)\nRequirement already satisfied: idna<4,>=2.5 in /databricks/python3/lib/python3.11/site-packages (from requests->kagglehub) (3.4)\nRequirement already satisfied: urllib3<3,>=1.21.1 in /databricks/python3/lib/python3.11/site-packages (from requests->kagglehub) (1.26.16)\nRequirement already satisfied: certifi>=2017.4.17 in /databricks/python3/lib/python3.11/site-packages (from requests->kagglehub) (2023.7.22)\nUsing cached kagglehub-0.3.12-py3-none-any.whl (67 kB)\nUsing cached tqdm-4.67.1-py3-none-any.whl (78 kB)\nInstalling collected packages: tqdm, kagglehub\nSuccessfully installed kagglehub-0.3.12 tqdm-4.67.1\n\u001B[43mNote: you may need to restart the kernel using %restart_python or dbutils.library.restartPython() to use updated packages.\u001B[0m\n"
     ]
    }
   ],
   "source": [
    "!pip install kagglehub"
   ]
  },
  {
   "cell_type": "code",
   "execution_count": 0,
   "metadata": {
    "application/vnd.databricks.v1+cell": {
     "cellMetadata": {
      "byteLimit": 2048000,
      "rowLimit": 10000
     },
     "inputWidgets": {},
     "nuid": "65ad8a2c-bc5c-40cd-9ff2-fd64bf5c25fb",
     "showTitle": false,
     "tableResultSettingsMap": {},
     "title": ""
    }
   },
   "outputs": [],
   "source": [
    "import kagglehub\n",
    "import matplotlib.pyplot as plt\n",
    "from datetime import datetime\n",
    "from pyspark.sql import SparkSession\n",
    "import os"
   ]
  },
  {
   "cell_type": "code",
   "execution_count": 0,
   "metadata": {
    "application/vnd.databricks.v1+cell": {
     "cellMetadata": {
      "byteLimit": 2048000,
      "rowLimit": 10000
     },
     "inputWidgets": {},
     "nuid": "a92df8b4-50d3-4714-ab5e-99461b03ce5f",
     "showTitle": false,
     "tableResultSettingsMap": {},
     "title": ""
    }
   },
   "outputs": [
    {
     "output_type": "execute_result",
     "data": {
      "text/html": [
       "\n",
       "            <div>\n",
       "                <p><b>SparkSession - hive</b></p>\n",
       "                \n",
       "        <div>\n",
       "            <p><b>SparkContext</b></p>\n",
       "\n",
       "            <p><a href=\"/?o=246843388081552#setting/sparkui/0610-035811-yos1n10x/driver-6019130886330426266\">Spark UI</a></p>\n",
       "\n",
       "            <dl>\n",
       "              <dt>Version</dt>\n",
       "                <dd><code>v3.5.0</code></dd>\n",
       "              <dt>Master</dt>\n",
       "                <dd><code>local[*, 4]</code></dd>\n",
       "              <dt>AppName</dt>\n",
       "                <dd><code>Databricks Shell</code></dd>\n",
       "            </dl>\n",
       "        </div>\n",
       "        \n",
       "            </div>\n",
       "        "
      ],
      "text/plain": [
       "<pyspark.sql.session.SparkSession at 0x76ea4c6d4890>"
      ]
     },
     "execution_count": 5,
     "metadata": {},
     "output_type": "execute_result"
    }
   ],
   "source": [
    "SparkSession.builder.appName(\"ProjBloco\").getOrCreate()"
   ]
  },
  {
   "cell_type": "code",
   "execution_count": 0,
   "metadata": {
    "application/vnd.databricks.v1+cell": {
     "cellMetadata": {
      "byteLimit": 2048000,
      "rowLimit": 10000
     },
     "inputWidgets": {},
     "nuid": "7ad05df3-cc55-4dfe-8f4a-49e970e66712",
     "showTitle": false,
     "tableResultSettingsMap": {},
     "title": ""
    }
   },
   "outputs": [
    {
     "output_type": "stream",
     "name": "stdout",
     "output_type": "stream",
     "text": [
      "+----+--------------------+--------+----+------------+---------+--------+--------+--------+-----------+------------+\n|Rank|                Name|Platform|Year|       Genre|Publisher|NA_Sales|EU_Sales|JP_Sales|Other_Sales|Global_Sales|\n+----+--------------------+--------+----+------------+---------+--------+--------+--------+-----------+------------+\n|   1|          Wii Sports|     Wii|2006|      Sports| Nintendo|   41.49|   29.02|    3.77|       8.46|       82.74|\n|   2|   Super Mario Bros.|     NES|1985|    Platform| Nintendo|   29.08|    3.58|    6.81|       0.77|       40.24|\n|   3|      Mario Kart Wii|     Wii|2008|      Racing| Nintendo|   15.85|   12.88|    3.79|       3.31|       35.82|\n|   4|   Wii Sports Resort|     Wii|2009|      Sports| Nintendo|   15.75|   11.01|    3.28|       2.96|          33|\n|   5|Pokemon Red/Pokem...|      GB|1996|Role-Playing| Nintendo|   11.27|    8.89|   10.22|          1|       31.37|\n+----+--------------------+--------+----+------------+---------+--------+--------+--------+-----------+------------+\nonly showing top 5 rows\n\n"
     ]
    }
   ],
   "source": [
    "import kagglehub\n",
    "import os\n",
    "from datetime import datetime\n",
    "\n",
    "# 1. Baixar o dataset\n",
    "dataset_path = kagglehub.dataset_download(\"gregorut/videogamesales\")\n",
    "\n",
    "# 2. Caminho do arquivo CSV dentro do dataset baixado\n",
    "csv_path = os.path.join(dataset_path, \"vgsales.csv\")\n",
    "\n",
    "# 3. Ler o CSV com Spark\n",
    "df = spark.read.option(\"header\", \"true\").csv(f\"file:{csv_path}\")\n",
    "\n",
    "# 4. Mostrar os dados para validar\n",
    "df.show(5)"
   ]
  },
  {
   "cell_type": "code",
   "execution_count": 0,
   "metadata": {
    "application/vnd.databricks.v1+cell": {
     "cellMetadata": {
      "byteLimit": 2048000,
      "rowLimit": 10000
     },
     "inputWidgets": {},
     "nuid": "94d3b9cb-17e9-4123-a133-243f0862b708",
     "showTitle": false,
     "tableResultSettingsMap": {},
     "title": ""
    }
   },
   "outputs": [
    {
     "output_type": "stream",
     "name": "stdout",
     "output_type": "stream",
     "text": [
      "✅ CSV salvo no mount: /mnt/raw/kaggle/2025-06-11\n"
     ]
    }
   ],
   "source": [
    "# 5. Gerar caminho de saída com data atual\n",
    "data_hoje = datetime.today().strftime('%Y-%m-%d')\n",
    "mount_path = f\"/mnt/raw/kaggle/{data_hoje}\"\n",
    "\n",
    "# 6. Salvar como CSV no mount (com cabeçalho)\n",
    "df.write.mode(\"overwrite\").option(\"header\", \"true\").csv(mount_path)\n",
    "\n",
    "print(f\"✅ CSV salvo no mount: {mount_path}\")"
   ]
  },
  {
   "cell_type": "code",
   "execution_count": 0,
   "metadata": {
    "application/vnd.databricks.v1+cell": {
     "cellMetadata": {},
     "inputWidgets": {},
     "nuid": "e3795274-bc2b-47f2-9ef2-191c90b81b0a",
     "showTitle": false,
     "tableResultSettingsMap": {},
     "title": ""
    }
   },
   "outputs": [],
   "source": []
  }
 ],
 "metadata": {
  "application/vnd.databricks.v1+notebook": {
   "computePreferences": null,
   "dashboards": [],
   "environmentMetadata": {
    "base_environment": "",
    "environment_version": "2"
   },
   "inputWidgetPreferences": null,
   "language": "python",
   "notebookMetadata": {
    "pythonIndentUnit": 4
   },
   "notebookName": "ingest_kaggle_raw",
   "widgets": {}
  },
  "language_info": {
   "name": "python"
  }
 },
 "nbformat": 4,
 "nbformat_minor": 0
}
