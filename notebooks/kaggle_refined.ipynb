{
 "cells": [
  {
   "cell_type": "code",
   "execution_count": 0,
   "metadata": {
    "application/vnd.databricks.v1+cell": {
     "cellMetadata": {
      "byteLimit": 2048000,
      "rowLimit": 10000
     },
     "inputWidgets": {},
     "nuid": "fb9db635-180b-4065-b8af-c35503907ddc",
     "showTitle": false,
     "tableResultSettingsMap": {},
     "title": ""
    }
   },
   "outputs": [],
   "source": [
    "import matplotlib.pyplot as plt\n",
    "from datetime import datetime\n",
    "from pyspark.sql import SparkSession\n",
    "import pandas as pd\n",
    "import os"
   ]
  },
  {
   "cell_type": "code",
   "execution_count": 0,
   "metadata": {
    "application/vnd.databricks.v1+cell": {
     "cellMetadata": {
      "byteLimit": 2048000,
      "rowLimit": 10000
     },
     "inputWidgets": {},
     "nuid": "dc31b6ad-63df-4349-bd2c-dcd6e14f28b9",
     "showTitle": false,
     "tableResultSettingsMap": {},
     "title": ""
    }
   },
   "outputs": [],
   "source": [
    "input_path = \"/mnt/trusted/kaggle/vgsales.parquet\"\n",
    "\n",
    "df = spark.read.parquet(input_path)\n"
   ]
  },
  {
   "cell_type": "code",
   "execution_count": 0,
   "metadata": {
    "application/vnd.databricks.v1+cell": {
     "cellMetadata": {
      "byteLimit": 2048000,
      "rowLimit": 10000
     },
     "inputWidgets": {},
     "nuid": "422ce0fd-8130-40fa-a4fb-14bc99577fd4",
     "showTitle": false,
     "tableResultSettingsMap": {},
     "title": ""
    }
   },
   "outputs": [],
   "source": [
    "display(df)"
   ]
  },
  {
   "cell_type": "code",
   "execution_count": 0,
   "metadata": {
    "application/vnd.databricks.v1+cell": {
     "cellMetadata": {
      "byteLimit": 2048000,
      "rowLimit": 10000
     },
     "inputWidgets": {},
     "nuid": "6869e804-9810-4d5b-8f0b-2b66e96ce83b",
     "showTitle": false,
     "tableResultSettingsMap": {},
     "title": ""
    }
   },
   "outputs": [],
   "source": [
    "# Análise\n",
    "df_games_notnull = df.dropna(how=\"any\")\n",
    "display(df_games_notnull)\n",
    "\n",
    "\n",
    "\n",
    "#Salvamento\n",
    "file = \"vgsales_notnull\"\n",
    "output_path = f\"/mnt/refined/kaggle/{file}\"\n",
    "df_games_notnull.write.mode(\"overwrite\").parquet(output_path)"
   ]
  },
  {
   "cell_type": "code",
   "execution_count": 0,
   "metadata": {
    "application/vnd.databricks.v1+cell": {
     "cellMetadata": {
      "byteLimit": 2048000,
      "rowLimit": 10000
     },
     "inputWidgets": {},
     "nuid": "3c063839-2dff-45e2-af84-17dbf6268194",
     "showTitle": false,
     "tableResultSettingsMap": {},
     "title": ""
    }
   },
   "outputs": [],
   "source": [
    "# Análise\n",
    "df_avgsales_genre = df_games_notnull.select(\"Genre\", \"Global_Sales\")\n",
    "df_avgsales_genre = df_avgsales_genre.groupBy(\"Genre\").avg(\"Global_Sales\").orderBy(\"avg(Global_Sales)\", ascending=False)\n",
    "display(df_avgsales_genre)"
   ]
  },
  {
   "cell_type": "code",
   "execution_count": 0,
   "metadata": {
    "application/vnd.databricks.v1+cell": {
     "cellMetadata": {
      "byteLimit": 2048000,
      "rowLimit": 10000
     },
     "inputWidgets": {},
     "nuid": "ae24f164-0148-495e-a53a-6aa455d46cdb",
     "showTitle": false,
     "tableResultSettingsMap": {},
     "title": ""
    }
   },
   "outputs": [],
   "source": [
    "#Salvamento\n",
    "file = \"avg_vgsales_genre\"\n",
    "output_path = f\"/mnt/refined/kaggle/{file}\"\n",
    "df_avgsales_genre.write.mode(\"overwrite\").parquet(output_path)"
   ]
  },
  {
   "cell_type": "code",
   "execution_count": 0,
   "metadata": {
    "application/vnd.databricks.v1+cell": {
     "cellMetadata": {
      "byteLimit": 2048000,
      "rowLimit": 10000
     },
     "inputWidgets": {},
     "nuid": "395358cf-f985-4200-9366-2e354f4a1167",
     "showTitle": false,
     "tableResultSettingsMap": {},
     "title": ""
    }
   },
   "outputs": [],
   "source": [
    "# Análise\n",
    "df_sumsales_plat = df_games_notnull.select(\"Platform\", \"Global_Sales\")\n",
    "df_sumsales_plat = df_sumsales_plat.groupBy(\"Platform\").sum(\"Global_Sales\").orderBy(\"sum(Global_Sales)\", ascending=False)\n",
    "display(df_sumsales_plat)"
   ]
  },
  {
   "cell_type": "code",
   "execution_count": 0,
   "metadata": {
    "application/vnd.databricks.v1+cell": {
     "cellMetadata": {
      "byteLimit": 2048000,
      "rowLimit": 10000
     },
     "inputWidgets": {},
     "nuid": "23714c55-3a21-4888-bfdb-ef99fe25b254",
     "showTitle": false,
     "tableResultSettingsMap": {},
     "title": ""
    }
   },
   "outputs": [],
   "source": [
    "#Salvamento\n",
    "file = \"sum_vgsales_platform\"\n",
    "output_path = f\"/mnt/refined/kaggle/{file}\"\n",
    "df_sumsales_plat.write.mode(\"overwrite\").parquet(output_path)"
   ]
  },
  {
   "cell_type": "code",
   "execution_count": 0,
   "metadata": {
    "application/vnd.databricks.v1+cell": {
     "cellMetadata": {
      "byteLimit": 2048000,
      "rowLimit": 10000
     },
     "inputWidgets": {},
     "nuid": "091e29f8-125a-4f78-9edf-802143631cf8",
     "showTitle": false,
     "tableResultSettingsMap": {},
     "title": ""
    }
   },
   "outputs": [],
   "source": [
    "# Análise\n",
    "df_avgsales_publ = df_games_notnull.select(\"Publisher\", \"Global_Sales\")\n",
    "df_avgsales_publ = df_avgsales_publ.groupBy(\"Publisher\").avg(\"Global_Sales\").orderBy(\"avg(Global_Sales)\", ascending=False)\n",
    "display(df_avgsales_publ)"
   ]
  },
  {
   "cell_type": "code",
   "execution_count": 0,
   "metadata": {
    "application/vnd.databricks.v1+cell": {
     "cellMetadata": {
      "byteLimit": 2048000,
      "rowLimit": 10000
     },
     "inputWidgets": {},
     "nuid": "a775094d-7ea1-429b-8f75-d5ae900390dc",
     "showTitle": false,
     "tableResultSettingsMap": {},
     "title": ""
    }
   },
   "outputs": [],
   "source": [
    "#Salvamento\n",
    "file = \"avg_vgsales_publisher\"\n",
    "output_path = f\"/mnt/refined/kaggle/{file}\"\n",
    "df_avgsales_publ.write.mode(\"overwrite\").parquet(output_path)"
   ]
  },
  {
   "cell_type": "code",
   "execution_count": 0,
   "metadata": {
    "application/vnd.databricks.v1+cell": {
     "cellMetadata": {
      "byteLimit": 2048000,
      "rowLimit": 10000
     },
     "inputWidgets": {},
     "nuid": "266503f0-45be-44c0-86a9-7ae6df1c6600",
     "showTitle": false,
     "tableResultSettingsMap": {},
     "title": ""
    }
   },
   "outputs": [],
   "source": [
    "sum_sales_year = df_games_notnull.select(\"Year\", \"Global_Sales\")\n",
    "sum_sales_year = sum_sales_year.groupBy(\"Year\").sum(\"Global_Sales\").orderBy(\"Year\", ascending=True)\n",
    "display(sum_sales_year)"
   ]
  },
  {
   "cell_type": "code",
   "execution_count": 0,
   "metadata": {
    "application/vnd.databricks.v1+cell": {
     "cellMetadata": {
      "byteLimit": 2048000,
      "rowLimit": 10000
     },
     "inputWidgets": {},
     "nuid": "0fced9b2-f0a7-40ed-a1a4-c059939c5d1a",
     "showTitle": false,
     "tableResultSettingsMap": {},
     "title": ""
    }
   },
   "outputs": [],
   "source": [
    "avg_sales_year = df_games_notnull.select(\"Year\", \"Global_Sales\")\n",
    "avg_sales_year = avg_sales_year.groupBy(\"Year\").avg(\"Global_Sales\").orderBy(\"Year\", ascending=True)\n",
    "display(avg_sales_year)"
   ]
  },
  {
   "cell_type": "code",
   "execution_count": 0,
   "metadata": {
    "application/vnd.databricks.v1+cell": {
     "cellMetadata": {
      "byteLimit": 2048000,
      "rowLimit": 10000
     },
     "inputWidgets": {},
     "nuid": "1401730a-a930-4fa7-a453-9c9599a41f21",
     "showTitle": false,
     "tableResultSettingsMap": {},
     "title": ""
    }
   },
   "outputs": [],
   "source": [
    "#Salvamento\n",
    "file = \"sum_vgsales_year\"\n",
    "output_path = f\"/mnt/refined/kaggle/{file}\"\n",
    "sum_sales_year.write.mode(\"overwrite\").parquet(output_path)"
   ]
  },
  {
   "cell_type": "code",
   "execution_count": 0,
   "metadata": {
    "application/vnd.databricks.v1+cell": {
     "cellMetadata": {
      "byteLimit": 2048000,
      "rowLimit": 10000
     },
     "inputWidgets": {},
     "nuid": "7fcf6826-e5c1-422f-8140-8fb3a09044ac",
     "showTitle": false,
     "tableResultSettingsMap": {},
     "title": ""
    }
   },
   "outputs": [],
   "source": [
    "#Salvamento\n",
    "file = \"avg_vgsales_year\"\n",
    "output_path = f\"/mnt/refined/kaggle/{file}\"\n",
    "avg_sales_year.write.mode(\"overwrite\").parquet(output_path)"
   ]
  }
 ],
 "metadata": {
  "application/vnd.databricks.v1+notebook": {
   "computePreferences": null,
   "dashboards": [],
   "environmentMetadata": {
    "base_environment": "",
    "environment_version": "2"
   },
   "inputWidgetPreferences": null,
   "language": "python",
   "notebookMetadata": {
    "pythonIndentUnit": 4
   },
   "notebookName": "kaggle_refined",
   "widgets": {}
  },
  "language_info": {
   "name": "python"
  }
 },
 "nbformat": 4,
 "nbformat_minor": 0
}
