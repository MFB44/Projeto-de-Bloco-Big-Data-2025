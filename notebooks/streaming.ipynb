{
 "cells": [
  {
   "cell_type": "code",
   "execution_count": 0,
   "metadata": {
    "application/vnd.databricks.v1+cell": {
     "cellMetadata": {
      "byteLimit": 2048000,
      "rowLimit": 10000
     },
     "inputWidgets": {},
     "nuid": "ae0bb962-5ebe-47be-8aa2-a3faa32adca1",
     "showTitle": false,
     "tableResultSettingsMap": {},
     "title": ""
    }
   },
   "outputs": [],
   "source": [
    "!pip install python-dotenv"
   ]
  },
  {
   "cell_type": "code",
   "execution_count": 0,
   "metadata": {
    "application/vnd.databricks.v1+cell": {
     "cellMetadata": {
      "byteLimit": 2048000,
      "rowLimit": 10000
     },
     "inputWidgets": {},
     "nuid": "687e950f-a092-45cc-a9cb-43ecb326965f",
     "showTitle": false,
     "tableResultSettingsMap": {},
     "title": ""
    }
   },
   "outputs": [],
   "source": [
    "from pyspark.sql.types import StructType, IntegerType, StringType\n",
    "from pyspark.sql.functions import lit\n",
    "import pandas as pd\n",
    "import requests\n",
    "import time\n",
    "import threading\n",
    "from datetime import datetime\n",
    "from dotenv import load_dotenv\n",
    "import os"
   ]
  },
  {
   "cell_type": "code",
   "execution_count": 0,
   "metadata": {
    "application/vnd.databricks.v1+cell": {
     "cellMetadata": {
      "byteLimit": 2048000,
      "rowLimit": 10000
     },
     "inputWidgets": {},
     "nuid": "99137b1f-350e-4c6a-9adb-ee525949b0ef",
     "showTitle": false,
     "tableResultSettingsMap": {},
     "title": ""
    }
   },
   "outputs": [],
   "source": [
    "load_dotenv()\n",
    "CLIENT_ID = os.getenv(\"CLIENT_ID\")\n",
    "ACCESS_TOKEN = os.getenv(\"ACCESS_TOKEN\")"
   ]
  },
  {
   "cell_type": "code",
   "execution_count": 0,
   "metadata": {
    "application/vnd.databricks.v1+cell": {
     "cellMetadata": {
      "byteLimit": 2048000,
      "rowLimit": 10000
     },
     "inputWidgets": {},
     "nuid": "bf45a73e-4244-4ef2-b97a-31db72006c82",
     "showTitle": false,
     "tableResultSettingsMap": {},
     "title": ""
    }
   },
   "outputs": [],
   "source": [
    "# Função para obter dados da Twitch\n",
    "def get_twitch_data():\n",
    "    headers = {\n",
    "        \"Client-ID\": CLIENT_ID,\n",
    "        \"Authorization\": f\"Bearer {ACCESS_TOKEN}\"\n",
    "    }\n",
    "    url = 'https://api.twitch.tv/helix/games/top'\n",
    "    response = requests.get(url, headers=headers)\n",
    "    data = response.json().get('data', [])\n",
    "    return pd.DataFrame(data)\n",
    "\n",
    "# Definir esquema Spark\n",
    "schema = StructType() \\\n",
    "    .add(\"id\", StringType()) \\\n",
    "    .add(\"name\", StringType()) \\\n",
    "    .add(\"box_art_url\", StringType()) \\\n",
    "    .add(\"igdb_id\", StringType()) \n",
    "\n",
    "# Criar tabela Delta com o esquema definido\n",
    "spark.sql(\"\"\"\n",
    "    CREATE TABLE IF NOT EXISTS delta.`/mnt/raw/twitch/streams` (\n",
    "        id STRING,\n",
    "        name STRING,\n",
    "        box_art_url STRING,\n",
    "        igdb_id STRING,\n",
    "        ingestion_time STRING\n",
    "    ) USING DELTA\n",
    "\"\"\")\n",
    "\n",
    "# Ingestão contínua (streaming-like)\n",
    "def stream_twitch_data():\n",
    "    while True:\n",
    "        pdf = get_twitch_data()\n",
    "        if not pdf.empty:\n",
    "            spark_df = spark.createDataFrame(pdf, schema=schema)\n",
    "            spark_df = spark_df.withColumn(\"ingestion_time\", lit(datetime.now().isoformat()))\n",
    "            spark_df.write.mode(\"append\").format(\"delta\").save(\"/mnt/raw/twitch/streams\")\n",
    "\n",
    "            not_games = [\"IRL\", \"Just Chatting\", \"Music\", \"Kings League\", \"Special Events\", \"Art\"]\n",
    "            filtered_spark_df = spark_df[~spark_df['name'].isin(not_games)]\n",
    "            filtered_spark_df.write.mode(\"append\").format(\"delta\").save(\"/mnt/trusted/twitch/streams\")\n",
    "        time.sleep(60)  # A cada 1 minuto\n",
    "\n",
    "# Iniciar como thread\n",
    "threading.Thread(target=stream_twitch_data).start()\n",
    "\n",
    "df_stream = spark.readStream.format(\"delta\").load(\"/mnt/raw/twitch/streams\")\n",
    "\n",
    "df_stream.writeStream \\\n",
    "    .format(\"console\") \\\n",
    "    .outputMode(\"append\") \\\n",
    "    .start()"
   ]
  },
  {
   "cell_type": "code",
   "execution_count": 0,
   "metadata": {
    "application/vnd.databricks.v1+cell": {
     "cellMetadata": {
      "byteLimit": 2048000,
      "rowLimit": 10000
     },
     "inputWidgets": {},
     "nuid": "508271a6-56e8-4cf9-8e28-52dd5c2b3054",
     "showTitle": false,
     "tableResultSettingsMap": {},
     "title": ""
    }
   },
   "outputs": [],
   "source": [
    "display(spark.read.format(\"delta\").load(\"/mnt/trusted/twitch/streams\"))"
   ]
  }
 ],
 "metadata": {
  "application/vnd.databricks.v1+notebook": {
   "computePreferences": null,
   "dashboards": [],
   "environmentMetadata": {
    "base_environment": "",
    "environment_version": "2"
   },
   "inputWidgetPreferences": null,
   "language": "python",
   "notebookMetadata": {
    "pythonIndentUnit": 4
   },
   "notebookName": "streaming",
   "widgets": {}
  },
  "language_info": {
   "name": "python"
  }
 },
 "nbformat": 4,
 "nbformat_minor": 0
}
