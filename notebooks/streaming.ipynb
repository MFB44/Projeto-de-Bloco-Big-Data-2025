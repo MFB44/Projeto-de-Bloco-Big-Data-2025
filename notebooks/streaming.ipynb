{
 "cells": [
  {
   "cell_type": "code",
   "execution_count": 0,
   "metadata": {
    "application/vnd.databricks.v1+cell": {
     "cellMetadata": {
      "byteLimit": 2048000,
      "rowLimit": 10000
     },
     "inputWidgets": {},
     "nuid": "ae0bb962-5ebe-47be-8aa2-a3faa32adca1",
     "showTitle": false,
     "tableResultSettingsMap": {},
     "title": ""
    }
   },
   "outputs": [
    {
     "output_type": "stream",
     "name": "stdout",
     "output_type": "stream",
     "text": [
      "Collecting python-dotenv\n  Obtaining dependency information for python-dotenv from https://files.pythonhosted.org/packages/1e/18/98a99ad95133c6a6e2005fe89faedf294a748bd5dc803008059409ac9b1e/python_dotenv-1.1.0-py3-none-any.whl.metadata\n  Downloading python_dotenv-1.1.0-py3-none-any.whl.metadata (24 kB)\nDownloading python_dotenv-1.1.0-py3-none-any.whl (20 kB)\nInstalling collected packages: python-dotenv\nSuccessfully installed python-dotenv-1.1.0\n\u001B[43mNote: you may need to restart the kernel using %restart_python or dbutils.library.restartPython() to use updated packages.\u001B[0m\n"
     ]
    }
   ],
   "source": [
    "!pip install python-dotenv"
   ]
  },
  {
   "cell_type": "code",
   "execution_count": 0,
   "metadata": {
    "application/vnd.databricks.v1+cell": {
     "cellMetadata": {
      "byteLimit": 2048000,
      "rowLimit": 10000
     },
     "inputWidgets": {},
     "nuid": "687e950f-a092-45cc-a9cb-43ecb326965f",
     "showTitle": false,
     "tableResultSettingsMap": {},
     "title": ""
    }
   },
   "outputs": [],
   "source": [
    "from pyspark.sql.types import StructType, IntegerType, StringType\n",
    "from pyspark.sql.functions import lit\n",
    "import pandas as pd\n",
    "import requests\n",
    "import time\n",
    "import threading\n",
    "from datetime import datetime\n",
    "from dotenv import load_dotenv\n",
    "import os"
   ]
  },
  {
   "cell_type": "code",
   "execution_count": 0,
   "metadata": {
    "application/vnd.databricks.v1+cell": {
     "cellMetadata": {
      "byteLimit": 2048000,
      "rowLimit": 10000
     },
     "inputWidgets": {},
     "nuid": "99137b1f-350e-4c6a-9adb-ee525949b0ef",
     "showTitle": false,
     "tableResultSettingsMap": {},
     "title": ""
    }
   },
   "outputs": [],
   "source": [
    "load_dotenv()\n",
    "CLIENT_ID = os.getenv(\"CLIENT_ID\")\n",
    "ACCESS_TOKEN = os.getenv(\"ACCESS_TOKEN\")"
   ]
  },
  {
   "cell_type": "code",
   "execution_count": 0,
   "metadata": {
    "application/vnd.databricks.v1+cell": {
     "cellMetadata": {
      "byteLimit": 2048000,
      "rowLimit": 10000
     },
     "inputWidgets": {},
     "nuid": "bf45a73e-4244-4ef2-b97a-31db72006c82",
     "showTitle": false,
     "tableResultSettingsMap": {},
     "title": ""
    }
   },
   "outputs": [
    {
     "output_type": "execute_result",
     "data": {
      "text/plain": [
       "<pyspark.sql.streaming.query.StreamingQuery at 0x7069887403d0>"
      ]
     },
     "execution_count": 7,
     "metadata": {},
     "output_type": "execute_result"
    }
   ],
   "source": [
    "# Função para obter dados da Twitch\n",
    "def get_twitch_data():\n",
    "    headers = {\n",
    "        \"Client-ID\": CLIENT_ID,\n",
    "        \"Authorization\": f\"Bearer {ACCESS_TOKEN}\"\n",
    "    }\n",
    "    url = 'https://api.twitch.tv/helix/games/top'\n",
    "    response = requests.get(url, headers=headers)\n",
    "    data = response.json().get('data', [])\n",
    "    return pd.DataFrame(data)\n",
    "\n",
    "# Definir esquema Spark\n",
    "schema = StructType() \\\n",
    "    .add(\"id\", StringType()) \\\n",
    "    .add(\"name\", StringType()) \\\n",
    "    .add(\"box_art_url\", StringType()) \\\n",
    "    .add(\"igdb_id\", StringType()) \n",
    "\n",
    "# Criar tabela Delta com o esquema definido\n",
    "spark.sql(\"\"\"\n",
    "    CREATE TABLE IF NOT EXISTS delta.`/mnt/raw/twitch/streams` (\n",
    "        id STRING,\n",
    "        name STRING,\n",
    "        box_art_url STRING,\n",
    "        igdb_id STRING,\n",
    "        ingestion_time STRING\n",
    "    ) USING DELTA\n",
    "\"\"\")\n",
    "\n",
    "# Ingestão contínua (streaming-like)\n",
    "def stream_twitch_data():\n",
    "    while True:\n",
    "        pdf = get_twitch_data()\n",
    "        if not pdf.empty:\n",
    "            spark_df = spark.createDataFrame(pdf, schema=schema)\n",
    "            spark_df = spark_df.withColumn(\"ingestion_time\", lit(datetime.now().isoformat()))\n",
    "            spark_df.write.mode(\"append\").format(\"delta\").save(\"/mnt/raw/twitch/streams\")\n",
    "\n",
    "            not_games = [\"IRL\", \"Just Chatting\", \"Music\", \"Kings League\", \"Special Events\", \"Art\", \"ASMR\"]\n",
    "            filtered_spark_df = spark_df[~spark_df['name'].isin(not_games)]\n",
    "            filtered_spark_df.write.mode(\"append\").format(\"delta\").save(\"/mnt/trusted/twitch/streams\")\n",
    "        time.sleep(60)  # A cada 1 minuto\n",
    "\n",
    "# Iniciar como thread\n",
    "threading.Thread(target=stream_twitch_data).start()\n",
    "\n",
    "df_stream = spark.readStream.format(\"delta\").load(\"/mnt/raw/twitch/streams\")\n",
    "\n",
    "df_stream.writeStream \\\n",
    "    .format(\"console\") \\\n",
    "    .outputMode(\"append\") \\\n",
    "    .start()"
   ]
  },
  {
   "cell_type": "code",
   "execution_count": 0,
   "metadata": {
    "application/vnd.databricks.v1+cell": {
     "cellMetadata": {
      "byteLimit": 2048000,
      "rowLimit": 10000
     },
     "inputWidgets": {},
     "nuid": "508271a6-56e8-4cf9-8e28-52dd5c2b3054",
     "showTitle": false,
     "tableResultSettingsMap": {},
     "title": ""
    }
   },
   "outputs": [
    {
     "output_type": "display_data",
     "data": {
      "text/html": [
       "<style scoped>\n",
       "  .table-result-container {\n",
       "    max-height: 300px;\n",
       "    overflow: auto;\n",
       "  }\n",
       "  table, th, td {\n",
       "    border: 1px solid black;\n",
       "    border-collapse: collapse;\n",
       "  }\n",
       "  th, td {\n",
       "    padding: 5px;\n",
       "  }\n",
       "  th {\n",
       "    text-align: left;\n",
       "  }\n",
       "</style><div class='table-result-container'><table class='table-result'><thead style='background-color: white'><tr><th>id</th><th>name</th><th>box_art_url</th><th>igdb_id</th><th>ingestion_time</th></tr></thead><tbody><tr><td>32982</td><td>Grand Theft Auto V</td><td>https://static-cdn.jtvnw.net/ttv-boxart/32982_IGDB-{width}x{height}.jpg</td><td>1020</td><td>2025-06-13T02:02:13.935930</td></tr><tr><td>460630</td><td>Tom Clancy's Rainbow Six Siege X</td><td>https://static-cdn.jtvnw.net/ttv-boxart/460630-{width}x{height}.jpg</td><td>7360</td><td>2025-06-13T02:02:13.935930</td></tr><tr><td>1826300051</td><td>Mario Kart World</td><td>https://static-cdn.jtvnw.net/ttv-boxart/1826300051_IGDB-{width}x{height}.jpg</td><td>338067</td><td>2025-06-13T02:02:13.935930</td></tr><tr><td>33214</td><td>Fortnite</td><td>https://static-cdn.jtvnw.net/ttv-boxart/33214-{width}x{height}.jpg</td><td>1905</td><td>2025-06-13T02:02:13.935930</td></tr><tr><td>21779</td><td>League of Legends</td><td>https://static-cdn.jtvnw.net/ttv-boxart/21779-{width}x{height}.jpg</td><td>115</td><td>2025-06-13T02:02:13.935930</td></tr><tr><td>32399</td><td>Counter-Strike</td><td>https://static-cdn.jtvnw.net/ttv-boxart/32399-{width}x{height}.jpg</td><td></td><td>2025-06-13T02:02:13.935930</td></tr><tr><td>1264310518</td><td>Marvel Rivals</td><td>https://static-cdn.jtvnw.net/ttv-boxart/1264310518_IGDB-{width}x{height}.jpg</td><td>294041</td><td>2025-06-13T02:02:13.935930</td></tr><tr><td>1987896617</td><td>Dune: Awakening</td><td>https://static-cdn.jtvnw.net/ttv-boxart/1987896617_IGDB-{width}x{height}.jpg</td><td>214394</td><td>2025-06-13T02:02:13.935930</td></tr><tr><td>512710</td><td>Call of Duty: Warzone</td><td>https://static-cdn.jtvnw.net/ttv-boxart/512710-{width}x{height}.jpg</td><td>131800</td><td>2025-06-13T02:02:13.935930</td></tr><tr><td>516575</td><td>VALORANT</td><td>https://static-cdn.jtvnw.net/ttv-boxart/516575-{width}x{height}.jpg</td><td>126459</td><td>2025-06-13T02:02:13.935930</td></tr><tr><td>29595</td><td>Dota 2</td><td>https://static-cdn.jtvnw.net/ttv-boxart/29595-{width}x{height}.jpg</td><td></td><td>2025-06-13T02:02:13.935930</td></tr><tr><td>27471</td><td>Minecraft</td><td>https://static-cdn.jtvnw.net/ttv-boxart/27471_IGDB-{width}x{height}.jpg</td><td>135400</td><td>2025-06-13T02:02:13.935930</td></tr><tr><td>491487</td><td>Dead by Daylight</td><td>https://static-cdn.jtvnw.net/ttv-boxart/491487-{width}x{height}.jpg</td><td>18866</td><td>2025-06-13T02:02:13.935930</td></tr><tr><td>982348888</td><td>Elden Ring: Nightreign</td><td>https://static-cdn.jtvnw.net/ttv-boxart/982348888_IGDB-{width}x{height}.jpg</td><td>325591</td><td>2025-06-13T02:02:13.935930</td></tr><tr><td>29452</td><td>Virtual Casino</td><td>https://static-cdn.jtvnw.net/ttv-boxart/29452_IGDB-{width}x{height}.jpg</td><td>45517</td><td>2025-06-13T02:02:13.935930</td></tr><tr><td>511224</td><td>Apex Legends</td><td>https://static-cdn.jtvnw.net/ttv-boxart/511224-{width}x{height}.jpg</td><td>114795</td><td>2025-06-13T02:02:13.935930</td></tr><tr><td>515025</td><td>Overwatch 2</td><td>https://static-cdn.jtvnw.net/ttv-boxart/515025-{width}x{height}.jpg</td><td>125174</td><td>2025-06-13T02:02:13.935930</td></tr><tr><td>513143</td><td>Teamfight Tactics</td><td>https://static-cdn.jtvnw.net/ttv-boxart/513143-{width}x{height}.jpg</td><td>120176</td><td>2025-06-13T02:02:13.935930</td></tr><tr><td>32982</td><td>Grand Theft Auto V</td><td>https://static-cdn.jtvnw.net/ttv-boxart/32982_IGDB-{width}x{height}.jpg</td><td>1020</td><td>2025-06-13T02:02:00.975635</td></tr><tr><td>460630</td><td>Tom Clancy's Rainbow Six Siege X</td><td>https://static-cdn.jtvnw.net/ttv-boxart/460630-{width}x{height}.jpg</td><td>7360</td><td>2025-06-13T02:02:00.975635</td></tr><tr><td>1826300051</td><td>Mario Kart World</td><td>https://static-cdn.jtvnw.net/ttv-boxart/1826300051_IGDB-{width}x{height}.jpg</td><td>338067</td><td>2025-06-13T02:02:00.975635</td></tr><tr><td>33214</td><td>Fortnite</td><td>https://static-cdn.jtvnw.net/ttv-boxart/33214-{width}x{height}.jpg</td><td>1905</td><td>2025-06-13T02:02:00.975635</td></tr><tr><td>21779</td><td>League of Legends</td><td>https://static-cdn.jtvnw.net/ttv-boxart/21779-{width}x{height}.jpg</td><td>115</td><td>2025-06-13T02:02:00.975635</td></tr><tr><td>32399</td><td>Counter-Strike</td><td>https://static-cdn.jtvnw.net/ttv-boxart/32399-{width}x{height}.jpg</td><td></td><td>2025-06-13T02:02:00.975635</td></tr><tr><td>1264310518</td><td>Marvel Rivals</td><td>https://static-cdn.jtvnw.net/ttv-boxart/1264310518_IGDB-{width}x{height}.jpg</td><td>294041</td><td>2025-06-13T02:02:00.975635</td></tr><tr><td>1987896617</td><td>Dune: Awakening</td><td>https://static-cdn.jtvnw.net/ttv-boxart/1987896617_IGDB-{width}x{height}.jpg</td><td>214394</td><td>2025-06-13T02:02:00.975635</td></tr><tr><td>512710</td><td>Call of Duty: Warzone</td><td>https://static-cdn.jtvnw.net/ttv-boxart/512710-{width}x{height}.jpg</td><td>131800</td><td>2025-06-13T02:02:00.975635</td></tr><tr><td>516575</td><td>VALORANT</td><td>https://static-cdn.jtvnw.net/ttv-boxart/516575-{width}x{height}.jpg</td><td>126459</td><td>2025-06-13T02:02:00.975635</td></tr><tr><td>29595</td><td>Dota 2</td><td>https://static-cdn.jtvnw.net/ttv-boxart/29595-{width}x{height}.jpg</td><td></td><td>2025-06-13T02:02:00.975635</td></tr><tr><td>27471</td><td>Minecraft</td><td>https://static-cdn.jtvnw.net/ttv-boxart/27471_IGDB-{width}x{height}.jpg</td><td>135400</td><td>2025-06-13T02:02:00.975635</td></tr><tr><td>491487</td><td>Dead by Daylight</td><td>https://static-cdn.jtvnw.net/ttv-boxart/491487-{width}x{height}.jpg</td><td>18866</td><td>2025-06-13T02:02:00.975635</td></tr><tr><td>982348888</td><td>Elden Ring: Nightreign</td><td>https://static-cdn.jtvnw.net/ttv-boxart/982348888_IGDB-{width}x{height}.jpg</td><td>325591</td><td>2025-06-13T02:02:00.975635</td></tr><tr><td>29452</td><td>Virtual Casino</td><td>https://static-cdn.jtvnw.net/ttv-boxart/29452_IGDB-{width}x{height}.jpg</td><td>45517</td><td>2025-06-13T02:02:00.975635</td></tr><tr><td>511224</td><td>Apex Legends</td><td>https://static-cdn.jtvnw.net/ttv-boxart/511224-{width}x{height}.jpg</td><td>114795</td><td>2025-06-13T02:02:00.975635</td></tr><tr><td>515025</td><td>Overwatch 2</td><td>https://static-cdn.jtvnw.net/ttv-boxart/515025-{width}x{height}.jpg</td><td>125174</td><td>2025-06-13T02:02:00.975635</td></tr><tr><td>513143</td><td>Teamfight Tactics</td><td>https://static-cdn.jtvnw.net/ttv-boxart/513143-{width}x{height}.jpg</td><td>120176</td><td>2025-06-13T02:02:00.975635</td></tr><tr><td>32982</td><td>Grand Theft Auto V</td><td>https://static-cdn.jtvnw.net/ttv-boxart/32982_IGDB-{width}x{height}.jpg</td><td>1020</td><td>2025-06-13T03:49:49.715803</td></tr><tr><td>21779</td><td>League of Legends</td><td>https://static-cdn.jtvnw.net/ttv-boxart/21779-{width}x{height}.jpg</td><td>115</td><td>2025-06-13T03:49:49.715803</td></tr><tr><td>460630</td><td>Tom Clancy's Rainbow Six Siege X</td><td>https://static-cdn.jtvnw.net/ttv-boxart/460630-{width}x{height}.jpg</td><td>7360</td><td>2025-06-13T03:49:49.715803</td></tr><tr><td>33214</td><td>Fortnite</td><td>https://static-cdn.jtvnw.net/ttv-boxart/33214-{width}x{height}.jpg</td><td>1905</td><td>2025-06-13T03:49:49.715803</td></tr><tr><td>488820</td><td>Stranded Deep</td><td>https://static-cdn.jtvnw.net/ttv-boxart/488820_IGDB-{width}x{height}.jpg</td><td>8751</td><td>2025-06-13T03:49:49.715803</td></tr><tr><td>516575</td><td>VALORANT</td><td>https://static-cdn.jtvnw.net/ttv-boxart/516575-{width}x{height}.jpg</td><td>126459</td><td>2025-06-13T03:49:49.715803</td></tr><tr><td>32399</td><td>Counter-Strike</td><td>https://static-cdn.jtvnw.net/ttv-boxart/32399-{width}x{height}.jpg</td><td></td><td>2025-06-13T03:49:49.715803</td></tr><tr><td>1826300051</td><td>Mario Kart World</td><td>https://static-cdn.jtvnw.net/ttv-boxart/1826300051_IGDB-{width}x{height}.jpg</td><td>338067</td><td>2025-06-13T03:49:49.715803</td></tr><tr><td>1987896617</td><td>Dune: Awakening</td><td>https://static-cdn.jtvnw.net/ttv-boxart/1987896617_IGDB-{width}x{height}.jpg</td><td>214394</td><td>2025-06-13T03:49:49.715803</td></tr><tr><td>491487</td><td>Dead by Daylight</td><td>https://static-cdn.jtvnw.net/ttv-boxart/491487-{width}x{height}.jpg</td><td>18866</td><td>2025-06-13T03:49:49.715803</td></tr><tr><td>982348888</td><td>Elden Ring: Nightreign</td><td>https://static-cdn.jtvnw.net/ttv-boxart/982348888_IGDB-{width}x{height}.jpg</td><td>325591</td><td>2025-06-13T03:49:49.715803</td></tr><tr><td>512710</td><td>Call of Duty: Warzone</td><td>https://static-cdn.jtvnw.net/ttv-boxart/512710-{width}x{height}.jpg</td><td>131800</td><td>2025-06-13T03:49:49.715803</td></tr><tr><td>36799602</td><td>Clair Obscur: Expedition 33</td><td>https://static-cdn.jtvnw.net/ttv-boxart/36799602_IGDB-{width}x{height}.jpg</td><td>305152</td><td>2025-06-13T03:49:49.715803</td></tr><tr><td>1264310518</td><td>Marvel Rivals</td><td>https://static-cdn.jtvnw.net/ttv-boxart/1264310518_IGDB-{width}x{height}.jpg</td><td>294041</td><td>2025-06-13T03:49:49.715803</td></tr><tr><td>29595</td><td>Dota 2</td><td>https://static-cdn.jtvnw.net/ttv-boxart/29595-{width}x{height}.jpg</td><td></td><td>2025-06-13T03:49:49.715803</td></tr><tr><td>27471</td><td>Minecraft</td><td>https://static-cdn.jtvnw.net/ttv-boxart/27471_IGDB-{width}x{height}.jpg</td><td>135400</td><td>2025-06-13T03:49:49.715803</td></tr><tr><td>511224</td><td>Apex Legends</td><td>https://static-cdn.jtvnw.net/ttv-boxart/511224-{width}x{height}.jpg</td><td>114795</td><td>2025-06-13T03:49:49.715803</td></tr><tr><td>509659</td><td>ASMR</td><td>https://static-cdn.jtvnw.net/ttv-boxart/509659-{width}x{height}.jpg</td><td></td><td>2025-06-13T03:49:49.715803</td></tr><tr><td>32982</td><td>Grand Theft Auto V</td><td>https://static-cdn.jtvnw.net/ttv-boxart/32982_IGDB-{width}x{height}.jpg</td><td>1020</td><td>2025-06-13T03:50:53.299100</td></tr><tr><td>21779</td><td>League of Legends</td><td>https://static-cdn.jtvnw.net/ttv-boxart/21779-{width}x{height}.jpg</td><td>115</td><td>2025-06-13T03:50:53.299100</td></tr><tr><td>460630</td><td>Tom Clancy's Rainbow Six Siege X</td><td>https://static-cdn.jtvnw.net/ttv-boxart/460630-{width}x{height}.jpg</td><td>7360</td><td>2025-06-13T03:50:53.299100</td></tr><tr><td>33214</td><td>Fortnite</td><td>https://static-cdn.jtvnw.net/ttv-boxart/33214-{width}x{height}.jpg</td><td>1905</td><td>2025-06-13T03:50:53.299100</td></tr><tr><td>488820</td><td>Stranded Deep</td><td>https://static-cdn.jtvnw.net/ttv-boxart/488820_IGDB-{width}x{height}.jpg</td><td>8751</td><td>2025-06-13T03:50:53.299100</td></tr><tr><td>516575</td><td>VALORANT</td><td>https://static-cdn.jtvnw.net/ttv-boxart/516575-{width}x{height}.jpg</td><td>126459</td><td>2025-06-13T03:50:53.299100</td></tr><tr><td>32399</td><td>Counter-Strike</td><td>https://static-cdn.jtvnw.net/ttv-boxart/32399-{width}x{height}.jpg</td><td></td><td>2025-06-13T03:50:53.299100</td></tr><tr><td>1826300051</td><td>Mario Kart World</td><td>https://static-cdn.jtvnw.net/ttv-boxart/1826300051_IGDB-{width}x{height}.jpg</td><td>338067</td><td>2025-06-13T03:50:53.299100</td></tr><tr><td>1987896617</td><td>Dune: Awakening</td><td>https://static-cdn.jtvnw.net/ttv-boxart/1987896617_IGDB-{width}x{height}.jpg</td><td>214394</td><td>2025-06-13T03:50:53.299100</td></tr><tr><td>491487</td><td>Dead by Daylight</td><td>https://static-cdn.jtvnw.net/ttv-boxart/491487-{width}x{height}.jpg</td><td>18866</td><td>2025-06-13T03:50:53.299100</td></tr><tr><td>982348888</td><td>Elden Ring: Nightreign</td><td>https://static-cdn.jtvnw.net/ttv-boxart/982348888_IGDB-{width}x{height}.jpg</td><td>325591</td><td>2025-06-13T03:50:53.299100</td></tr><tr><td>512710</td><td>Call of Duty: Warzone</td><td>https://static-cdn.jtvnw.net/ttv-boxart/512710-{width}x{height}.jpg</td><td>131800</td><td>2025-06-13T03:50:53.299100</td></tr><tr><td>36799602</td><td>Clair Obscur: Expedition 33</td><td>https://static-cdn.jtvnw.net/ttv-boxart/36799602_IGDB-{width}x{height}.jpg</td><td>305152</td><td>2025-06-13T03:50:53.299100</td></tr><tr><td>1264310518</td><td>Marvel Rivals</td><td>https://static-cdn.jtvnw.net/ttv-boxart/1264310518_IGDB-{width}x{height}.jpg</td><td>294041</td><td>2025-06-13T03:50:53.299100</td></tr><tr><td>29595</td><td>Dota 2</td><td>https://static-cdn.jtvnw.net/ttv-boxart/29595-{width}x{height}.jpg</td><td></td><td>2025-06-13T03:50:53.299100</td></tr><tr><td>27471</td><td>Minecraft</td><td>https://static-cdn.jtvnw.net/ttv-boxart/27471_IGDB-{width}x{height}.jpg</td><td>135400</td><td>2025-06-13T03:50:53.299100</td></tr><tr><td>511224</td><td>Apex Legends</td><td>https://static-cdn.jtvnw.net/ttv-boxart/511224-{width}x{height}.jpg</td><td>114795</td><td>2025-06-13T03:50:53.299100</td></tr><tr><td>509659</td><td>ASMR</td><td>https://static-cdn.jtvnw.net/ttv-boxart/509659-{width}x{height}.jpg</td><td></td><td>2025-06-13T03:50:53.299100</td></tr><tr><td>32982</td><td>Grand Theft Auto V</td><td>https://static-cdn.jtvnw.net/ttv-boxart/32982_IGDB-{width}x{height}.jpg</td><td>1020</td><td>2025-06-13T03:53:03.465360</td></tr><tr><td>21779</td><td>League of Legends</td><td>https://static-cdn.jtvnw.net/ttv-boxart/21779-{width}x{height}.jpg</td><td>115</td><td>2025-06-13T03:53:03.465360</td></tr><tr><td>460630</td><td>Tom Clancy's Rainbow Six Siege X</td><td>https://static-cdn.jtvnw.net/ttv-boxart/460630-{width}x{height}.jpg</td><td>7360</td><td>2025-06-13T03:53:03.465360</td></tr><tr><td>33214</td><td>Fortnite</td><td>https://static-cdn.jtvnw.net/ttv-boxart/33214-{width}x{height}.jpg</td><td>1905</td><td>2025-06-13T03:53:03.465360</td></tr><tr><td>488820</td><td>Stranded Deep</td><td>https://static-cdn.jtvnw.net/ttv-boxart/488820_IGDB-{width}x{height}.jpg</td><td>8751</td><td>2025-06-13T03:53:03.465360</td></tr><tr><td>516575</td><td>VALORANT</td><td>https://static-cdn.jtvnw.net/ttv-boxart/516575-{width}x{height}.jpg</td><td>126459</td><td>2025-06-13T03:53:03.465360</td></tr><tr><td>1826300051</td><td>Mario Kart World</td><td>https://static-cdn.jtvnw.net/ttv-boxart/1826300051_IGDB-{width}x{height}.jpg</td><td>338067</td><td>2025-06-13T03:53:03.465360</td></tr><tr><td>32399</td><td>Counter-Strike</td><td>https://static-cdn.jtvnw.net/ttv-boxart/32399-{width}x{height}.jpg</td><td></td><td>2025-06-13T03:53:03.465360</td></tr><tr><td>982348888</td><td>Elden Ring: Nightreign</td><td>https://static-cdn.jtvnw.net/ttv-boxart/982348888_IGDB-{width}x{height}.jpg</td><td>325591</td><td>2025-06-13T03:53:03.465360</td></tr><tr><td>491487</td><td>Dead by Daylight</td><td>https://static-cdn.jtvnw.net/ttv-boxart/491487-{width}x{height}.jpg</td><td>18866</td><td>2025-06-13T03:53:03.465360</td></tr><tr><td>512710</td><td>Call of Duty: Warzone</td><td>https://static-cdn.jtvnw.net/ttv-boxart/512710-{width}x{height}.jpg</td><td>131800</td><td>2025-06-13T03:53:03.465360</td></tr><tr><td>1987896617</td><td>Dune: Awakening</td><td>https://static-cdn.jtvnw.net/ttv-boxart/1987896617_IGDB-{width}x{height}.jpg</td><td>214394</td><td>2025-06-13T03:53:03.465360</td></tr><tr><td>36799602</td><td>Clair Obscur: Expedition 33</td><td>https://static-cdn.jtvnw.net/ttv-boxart/36799602_IGDB-{width}x{height}.jpg</td><td>305152</td><td>2025-06-13T03:53:03.465360</td></tr><tr><td>1264310518</td><td>Marvel Rivals</td><td>https://static-cdn.jtvnw.net/ttv-boxart/1264310518_IGDB-{width}x{height}.jpg</td><td>294041</td><td>2025-06-13T03:53:03.465360</td></tr><tr><td>29595</td><td>Dota 2</td><td>https://static-cdn.jtvnw.net/ttv-boxart/29595-{width}x{height}.jpg</td><td></td><td>2025-06-13T03:53:03.465360</td></tr><tr><td>27471</td><td>Minecraft</td><td>https://static-cdn.jtvnw.net/ttv-boxart/27471_IGDB-{width}x{height}.jpg</td><td>135400</td><td>2025-06-13T03:53:03.465360</td></tr><tr><td>511224</td><td>Apex Legends</td><td>https://static-cdn.jtvnw.net/ttv-boxart/511224-{width}x{height}.jpg</td><td>114795</td><td>2025-06-13T03:53:03.465360</td></tr><tr><td>509659</td><td>ASMR</td><td>https://static-cdn.jtvnw.net/ttv-boxart/509659-{width}x{height}.jpg</td><td></td><td>2025-06-13T03:53:03.465360</td></tr><tr><td>32982</td><td>Grand Theft Auto V</td><td>https://static-cdn.jtvnw.net/ttv-boxart/32982_IGDB-{width}x{height}.jpg</td><td>1020</td><td>2025-06-13T03:51:59.710148</td></tr><tr><td>21779</td><td>League of Legends</td><td>https://static-cdn.jtvnw.net/ttv-boxart/21779-{width}x{height}.jpg</td><td>115</td><td>2025-06-13T03:51:59.710148</td></tr><tr><td>460630</td><td>Tom Clancy's Rainbow Six Siege X</td><td>https://static-cdn.jtvnw.net/ttv-boxart/460630-{width}x{height}.jpg</td><td>7360</td><td>2025-06-13T03:51:59.710148</td></tr><tr><td>33214</td><td>Fortnite</td><td>https://static-cdn.jtvnw.net/ttv-boxart/33214-{width}x{height}.jpg</td><td>1905</td><td>2025-06-13T03:51:59.710148</td></tr><tr><td>488820</td><td>Stranded Deep</td><td>https://static-cdn.jtvnw.net/ttv-boxart/488820_IGDB-{width}x{height}.jpg</td><td>8751</td><td>2025-06-13T03:51:59.710148</td></tr><tr><td>516575</td><td>VALORANT</td><td>https://static-cdn.jtvnw.net/ttv-boxart/516575-{width}x{height}.jpg</td><td>126459</td><td>2025-06-13T03:51:59.710148</td></tr><tr><td>1826300051</td><td>Mario Kart World</td><td>https://static-cdn.jtvnw.net/ttv-boxart/1826300051_IGDB-{width}x{height}.jpg</td><td>338067</td><td>2025-06-13T03:51:59.710148</td></tr><tr><td>32399</td><td>Counter-Strike</td><td>https://static-cdn.jtvnw.net/ttv-boxart/32399-{width}x{height}.jpg</td><td></td><td>2025-06-13T03:51:59.710148</td></tr><tr><td>1987896617</td><td>Dune: Awakening</td><td>https://static-cdn.jtvnw.net/ttv-boxart/1987896617_IGDB-{width}x{height}.jpg</td><td>214394</td><td>2025-06-13T03:51:59.710148</td></tr><tr><td>491487</td><td>Dead by Daylight</td><td>https://static-cdn.jtvnw.net/ttv-boxart/491487-{width}x{height}.jpg</td><td>18866</td><td>2025-06-13T03:51:59.710148</td></tr><tr><td>512710</td><td>Call of Duty: Warzone</td><td>https://static-cdn.jtvnw.net/ttv-boxart/512710-{width}x{height}.jpg</td><td>131800</td><td>2025-06-13T03:51:59.710148</td></tr><tr><td>982348888</td><td>Elden Ring: Nightreign</td><td>https://static-cdn.jtvnw.net/ttv-boxart/982348888_IGDB-{width}x{height}.jpg</td><td>325591</td><td>2025-06-13T03:51:59.710148</td></tr><tr><td>36799602</td><td>Clair Obscur: Expedition 33</td><td>https://static-cdn.jtvnw.net/ttv-boxart/36799602_IGDB-{width}x{height}.jpg</td><td>305152</td><td>2025-06-13T03:51:59.710148</td></tr><tr><td>1264310518</td><td>Marvel Rivals</td><td>https://static-cdn.jtvnw.net/ttv-boxart/1264310518_IGDB-{width}x{height}.jpg</td><td>294041</td><td>2025-06-13T03:51:59.710148</td></tr><tr><td>29595</td><td>Dota 2</td><td>https://static-cdn.jtvnw.net/ttv-boxart/29595-{width}x{height}.jpg</td><td></td><td>2025-06-13T03:51:59.710148</td></tr><tr><td>27471</td><td>Minecraft</td><td>https://static-cdn.jtvnw.net/ttv-boxart/27471_IGDB-{width}x{height}.jpg</td><td>135400</td><td>2025-06-13T03:51:59.710148</td></tr><tr><td>511224</td><td>Apex Legends</td><td>https://static-cdn.jtvnw.net/ttv-boxart/511224-{width}x{height}.jpg</td><td>114795</td><td>2025-06-13T03:51:59.710148</td></tr><tr><td>509659</td><td>ASMR</td><td>https://static-cdn.jtvnw.net/ttv-boxart/509659-{width}x{height}.jpg</td><td></td><td>2025-06-13T03:51:59.710148</td></tr><tr><td>32982</td><td>Grand Theft Auto V</td><td>https://static-cdn.jtvnw.net/ttv-boxart/32982_IGDB-{width}x{height}.jpg</td><td>1020</td><td>2025-06-13T03:55:10.148154</td></tr><tr><td>21779</td><td>League of Legends</td><td>https://static-cdn.jtvnw.net/ttv-boxart/21779-{width}x{height}.jpg</td><td>115</td><td>2025-06-13T03:55:10.148154</td></tr><tr><td>460630</td><td>Tom Clancy's Rainbow Six Siege X</td><td>https://static-cdn.jtvnw.net/ttv-boxart/460630-{width}x{height}.jpg</td><td>7360</td><td>2025-06-13T03:55:10.148154</td></tr><tr><td>33214</td><td>Fortnite</td><td>https://static-cdn.jtvnw.net/ttv-boxart/33214-{width}x{height}.jpg</td><td>1905</td><td>2025-06-13T03:55:10.148154</td></tr><tr><td>488820</td><td>Stranded Deep</td><td>https://static-cdn.jtvnw.net/ttv-boxart/488820_IGDB-{width}x{height}.jpg</td><td>8751</td><td>2025-06-13T03:55:10.148154</td></tr><tr><td>516575</td><td>VALORANT</td><td>https://static-cdn.jtvnw.net/ttv-boxart/516575-{width}x{height}.jpg</td><td>126459</td><td>2025-06-13T03:55:10.148154</td></tr><tr><td>32399</td><td>Counter-Strike</td><td>https://static-cdn.jtvnw.net/ttv-boxart/32399-{width}x{height}.jpg</td><td></td><td>2025-06-13T03:55:10.148154</td></tr><tr><td>1826300051</td><td>Mario Kart World</td><td>https://static-cdn.jtvnw.net/ttv-boxart/1826300051_IGDB-{width}x{height}.jpg</td><td>338067</td><td>2025-06-13T03:55:10.148154</td></tr><tr><td>982348888</td><td>Elden Ring: Nightreign</td><td>https://static-cdn.jtvnw.net/ttv-boxart/982348888_IGDB-{width}x{height}.jpg</td><td>325591</td><td>2025-06-13T03:55:10.148154</td></tr><tr><td>491487</td><td>Dead by Daylight</td><td>https://static-cdn.jtvnw.net/ttv-boxart/491487-{width}x{height}.jpg</td><td>18866</td><td>2025-06-13T03:55:10.148154</td></tr><tr><td>512710</td><td>Call of Duty: Warzone</td><td>https://static-cdn.jtvnw.net/ttv-boxart/512710-{width}x{height}.jpg</td><td>131800</td><td>2025-06-13T03:55:10.148154</td></tr><tr><td>1987896617</td><td>Dune: Awakening</td><td>https://static-cdn.jtvnw.net/ttv-boxart/1987896617_IGDB-{width}x{height}.jpg</td><td>214394</td><td>2025-06-13T03:55:10.148154</td></tr><tr><td>36799602</td><td>Clair Obscur: Expedition 33</td><td>https://static-cdn.jtvnw.net/ttv-boxart/36799602_IGDB-{width}x{height}.jpg</td><td>305152</td><td>2025-06-13T03:55:10.148154</td></tr><tr><td>29595</td><td>Dota 2</td><td>https://static-cdn.jtvnw.net/ttv-boxart/29595-{width}x{height}.jpg</td><td></td><td>2025-06-13T03:55:10.148154</td></tr><tr><td>1264310518</td><td>Marvel Rivals</td><td>https://static-cdn.jtvnw.net/ttv-boxart/1264310518_IGDB-{width}x{height}.jpg</td><td>294041</td><td>2025-06-13T03:55:10.148154</td></tr><tr><td>27471</td><td>Minecraft</td><td>https://static-cdn.jtvnw.net/ttv-boxart/27471_IGDB-{width}x{height}.jpg</td><td>135400</td><td>2025-06-13T03:55:10.148154</td></tr><tr><td>511224</td><td>Apex Legends</td><td>https://static-cdn.jtvnw.net/ttv-boxart/511224-{width}x{height}.jpg</td><td>114795</td><td>2025-06-13T03:55:10.148154</td></tr><tr><td>509659</td><td>ASMR</td><td>https://static-cdn.jtvnw.net/ttv-boxart/509659-{width}x{height}.jpg</td><td></td><td>2025-06-13T03:55:10.148154</td></tr><tr><td>32982</td><td>Grand Theft Auto V</td><td>https://static-cdn.jtvnw.net/ttv-boxart/32982_IGDB-{width}x{height}.jpg</td><td>1020</td><td>2025-06-13T03:54:06.518349</td></tr><tr><td>21779</td><td>League of Legends</td><td>https://static-cdn.jtvnw.net/ttv-boxart/21779-{width}x{height}.jpg</td><td>115</td><td>2025-06-13T03:54:06.518349</td></tr><tr><td>460630</td><td>Tom Clancy's Rainbow Six Siege X</td><td>https://static-cdn.jtvnw.net/ttv-boxart/460630-{width}x{height}.jpg</td><td>7360</td><td>2025-06-13T03:54:06.518349</td></tr><tr><td>33214</td><td>Fortnite</td><td>https://static-cdn.jtvnw.net/ttv-boxart/33214-{width}x{height}.jpg</td><td>1905</td><td>2025-06-13T03:54:06.518349</td></tr><tr><td>488820</td><td>Stranded Deep</td><td>https://static-cdn.jtvnw.net/ttv-boxart/488820_IGDB-{width}x{height}.jpg</td><td>8751</td><td>2025-06-13T03:54:06.518349</td></tr><tr><td>516575</td><td>VALORANT</td><td>https://static-cdn.jtvnw.net/ttv-boxart/516575-{width}x{height}.jpg</td><td>126459</td><td>2025-06-13T03:54:06.518349</td></tr><tr><td>32399</td><td>Counter-Strike</td><td>https://static-cdn.jtvnw.net/ttv-boxart/32399-{width}x{height}.jpg</td><td></td><td>2025-06-13T03:54:06.518349</td></tr><tr><td>1826300051</td><td>Mario Kart World</td><td>https://static-cdn.jtvnw.net/ttv-boxart/1826300051_IGDB-{width}x{height}.jpg</td><td>338067</td><td>2025-06-13T03:54:06.518349</td></tr><tr><td>982348888</td><td>Elden Ring: Nightreign</td><td>https://static-cdn.jtvnw.net/ttv-boxart/982348888_IGDB-{width}x{height}.jpg</td><td>325591</td><td>2025-06-13T03:54:06.518349</td></tr><tr><td>512710</td><td>Call of Duty: Warzone</td><td>https://static-cdn.jtvnw.net/ttv-boxart/512710-{width}x{height}.jpg</td><td>131800</td><td>2025-06-13T03:54:06.518349</td></tr><tr><td>491487</td><td>Dead by Daylight</td><td>https://static-cdn.jtvnw.net/ttv-boxart/491487-{width}x{height}.jpg</td><td>18866</td><td>2025-06-13T03:54:06.518349</td></tr><tr><td>1987896617</td><td>Dune: Awakening</td><td>https://static-cdn.jtvnw.net/ttv-boxart/1987896617_IGDB-{width}x{height}.jpg</td><td>214394</td><td>2025-06-13T03:54:06.518349</td></tr><tr><td>36799602</td><td>Clair Obscur: Expedition 33</td><td>https://static-cdn.jtvnw.net/ttv-boxart/36799602_IGDB-{width}x{height}.jpg</td><td>305152</td><td>2025-06-13T03:54:06.518349</td></tr><tr><td>1264310518</td><td>Marvel Rivals</td><td>https://static-cdn.jtvnw.net/ttv-boxart/1264310518_IGDB-{width}x{height}.jpg</td><td>294041</td><td>2025-06-13T03:54:06.518349</td></tr><tr><td>29595</td><td>Dota 2</td><td>https://static-cdn.jtvnw.net/ttv-boxart/29595-{width}x{height}.jpg</td><td></td><td>2025-06-13T03:54:06.518349</td></tr><tr><td>27471</td><td>Minecraft</td><td>https://static-cdn.jtvnw.net/ttv-boxart/27471_IGDB-{width}x{height}.jpg</td><td>135400</td><td>2025-06-13T03:54:06.518349</td></tr><tr><td>511224</td><td>Apex Legends</td><td>https://static-cdn.jtvnw.net/ttv-boxart/511224-{width}x{height}.jpg</td><td>114795</td><td>2025-06-13T03:54:06.518349</td></tr><tr><td>509659</td><td>ASMR</td><td>https://static-cdn.jtvnw.net/ttv-boxart/509659-{width}x{height}.jpg</td><td></td><td>2025-06-13T03:54:06.518349</td></tr><tr><td>32982</td><td>Grand Theft Auto V</td><td>https://static-cdn.jtvnw.net/ttv-boxart/32982_IGDB-{width}x{height}.jpg</td><td>1020</td><td>2025-06-13T04:00:27.281868</td></tr><tr><td>21779</td><td>League of Legends</td><td>https://static-cdn.jtvnw.net/ttv-boxart/21779-{width}x{height}.jpg</td><td>115</td><td>2025-06-13T04:00:27.281868</td></tr><tr><td>460630</td><td>Tom Clancy's Rainbow Six Siege X</td><td>https://static-cdn.jtvnw.net/ttv-boxart/460630-{width}x{height}.jpg</td><td>7360</td><td>2025-06-13T04:00:27.281868</td></tr><tr><td>488820</td><td>Stranded Deep</td><td>https://static-cdn.jtvnw.net/ttv-boxart/488820_IGDB-{width}x{height}.jpg</td><td>8751</td><td>2025-06-13T04:00:27.281868</td></tr><tr><td>33214</td><td>Fortnite</td><td>https://static-cdn.jtvnw.net/ttv-boxart/33214-{width}x{height}.jpg</td><td>1905</td><td>2025-06-13T04:00:27.281868</td></tr><tr><td>516575</td><td>VALORANT</td><td>https://static-cdn.jtvnw.net/ttv-boxart/516575-{width}x{height}.jpg</td><td>126459</td><td>2025-06-13T04:00:27.281868</td></tr><tr><td>32399</td><td>Counter-Strike</td><td>https://static-cdn.jtvnw.net/ttv-boxart/32399-{width}x{height}.jpg</td><td></td><td>2025-06-13T04:00:27.281868</td></tr><tr><td>1826300051</td><td>Mario Kart World</td><td>https://static-cdn.jtvnw.net/ttv-boxart/1826300051_IGDB-{width}x{height}.jpg</td><td>338067</td><td>2025-06-13T04:00:27.281868</td></tr><tr><td>982348888</td><td>Elden Ring: Nightreign</td><td>https://static-cdn.jtvnw.net/ttv-boxart/982348888_IGDB-{width}x{height}.jpg</td><td>325591</td><td>2025-06-13T04:00:27.281868</td></tr><tr><td>1987896617</td><td>Dune: Awakening</td><td>https://static-cdn.jtvnw.net/ttv-boxart/1987896617_IGDB-{width}x{height}.jpg</td><td>214394</td><td>2025-06-13T04:00:27.281868</td></tr><tr><td>491487</td><td>Dead by Daylight</td><td>https://static-cdn.jtvnw.net/ttv-boxart/491487-{width}x{height}.jpg</td><td>18866</td><td>2025-06-13T04:00:27.281868</td></tr><tr><td>512710</td><td>Call of Duty: Warzone</td><td>https://static-cdn.jtvnw.net/ttv-boxart/512710-{width}x{height}.jpg</td><td>131800</td><td>2025-06-13T04:00:27.281868</td></tr><tr><td>36799602</td><td>Clair Obscur: Expedition 33</td><td>https://static-cdn.jtvnw.net/ttv-boxart/36799602_IGDB-{width}x{height}.jpg</td><td>305152</td><td>2025-06-13T04:00:27.281868</td></tr><tr><td>1264310518</td><td>Marvel Rivals</td><td>https://static-cdn.jtvnw.net/ttv-boxart/1264310518_IGDB-{width}x{height}.jpg</td><td>294041</td><td>2025-06-13T04:00:27.281868</td></tr><tr><td>29595</td><td>Dota 2</td><td>https://static-cdn.jtvnw.net/ttv-boxart/29595-{width}x{height}.jpg</td><td></td><td>2025-06-13T04:00:27.281868</td></tr><tr><td>511224</td><td>Apex Legends</td><td>https://static-cdn.jtvnw.net/ttv-boxart/511224-{width}x{height}.jpg</td><td>114795</td><td>2025-06-13T04:00:27.281868</td></tr><tr><td>27471</td><td>Minecraft</td><td>https://static-cdn.jtvnw.net/ttv-boxart/27471_IGDB-{width}x{height}.jpg</td><td>135400</td><td>2025-06-13T04:00:27.281868</td></tr><tr><td>509659</td><td>ASMR</td><td>https://static-cdn.jtvnw.net/ttv-boxart/509659-{width}x{height}.jpg</td><td></td><td>2025-06-13T04:00:27.281868</td></tr><tr><td>32982</td><td>Grand Theft Auto V</td><td>https://static-cdn.jtvnw.net/ttv-boxart/32982_IGDB-{width}x{height}.jpg</td><td>1020</td><td>2025-06-13T03:56:13.670367</td></tr><tr><td>21779</td><td>League of Legends</td><td>https://static-cdn.jtvnw.net/ttv-boxart/21779-{width}x{height}.jpg</td><td>115</td><td>2025-06-13T03:56:13.670367</td></tr><tr><td>460630</td><td>Tom Clancy's Rainbow Six Siege X</td><td>https://static-cdn.jtvnw.net/ttv-boxart/460630-{width}x{height}.jpg</td><td>7360</td><td>2025-06-13T03:56:13.670367</td></tr><tr><td>488820</td><td>Stranded Deep</td><td>https://static-cdn.jtvnw.net/ttv-boxart/488820_IGDB-{width}x{height}.jpg</td><td>8751</td><td>2025-06-13T03:56:13.670367</td></tr><tr><td>33214</td><td>Fortnite</td><td>https://static-cdn.jtvnw.net/ttv-boxart/33214-{width}x{height}.jpg</td><td>1905</td><td>2025-06-13T03:56:13.670367</td></tr><tr><td>516575</td><td>VALORANT</td><td>https://static-cdn.jtvnw.net/ttv-boxart/516575-{width}x{height}.jpg</td><td>126459</td><td>2025-06-13T03:56:13.670367</td></tr><tr><td>32399</td><td>Counter-Strike</td><td>https://static-cdn.jtvnw.net/ttv-boxart/32399-{width}x{height}.jpg</td><td></td><td>2025-06-13T03:56:13.670367</td></tr><tr><td>1826300051</td><td>Mario Kart World</td><td>https://static-cdn.jtvnw.net/ttv-boxart/1826300051_IGDB-{width}x{height}.jpg</td><td>338067</td><td>2025-06-13T03:56:13.670367</td></tr><tr><td>982348888</td><td>Elden Ring: Nightreign</td><td>https://static-cdn.jtvnw.net/ttv-boxart/982348888_IGDB-{width}x{height}.jpg</td><td>325591</td><td>2025-06-13T03:56:13.670367</td></tr><tr><td>491487</td><td>Dead by Daylight</td><td>https://static-cdn.jtvnw.net/ttv-boxart/491487-{width}x{height}.jpg</td><td>18866</td><td>2025-06-13T03:56:13.670367</td></tr><tr><td>512710</td><td>Call of Duty: Warzone</td><td>https://static-cdn.jtvnw.net/ttv-boxart/512710-{width}x{height}.jpg</td><td>131800</td><td>2025-06-13T03:56:13.670367</td></tr><tr><td>1987896617</td><td>Dune: Awakening</td><td>https://static-cdn.jtvnw.net/ttv-boxart/1987896617_IGDB-{width}x{height}.jpg</td><td>214394</td><td>2025-06-13T03:56:13.670367</td></tr><tr><td>36799602</td><td>Clair Obscur: Expedition 33</td><td>https://static-cdn.jtvnw.net/ttv-boxart/36799602_IGDB-{width}x{height}.jpg</td><td>305152</td><td>2025-06-13T03:56:13.670367</td></tr><tr><td>1264310518</td><td>Marvel Rivals</td><td>https://static-cdn.jtvnw.net/ttv-boxart/1264310518_IGDB-{width}x{height}.jpg</td><td>294041</td><td>2025-06-13T03:56:13.670367</td></tr><tr><td>29595</td><td>Dota 2</td><td>https://static-cdn.jtvnw.net/ttv-boxart/29595-{width}x{height}.jpg</td><td></td><td>2025-06-13T03:56:13.670367</td></tr><tr><td>27471</td><td>Minecraft</td><td>https://static-cdn.jtvnw.net/ttv-boxart/27471_IGDB-{width}x{height}.jpg</td><td>135400</td><td>2025-06-13T03:56:13.670367</td></tr><tr><td>511224</td><td>Apex Legends</td><td>https://static-cdn.jtvnw.net/ttv-boxart/511224-{width}x{height}.jpg</td><td>114795</td><td>2025-06-13T03:56:13.670367</td></tr><tr><td>509659</td><td>ASMR</td><td>https://static-cdn.jtvnw.net/ttv-boxart/509659-{width}x{height}.jpg</td><td></td><td>2025-06-13T03:56:13.670367</td></tr><tr><td>32982</td><td>Grand Theft Auto V</td><td>https://static-cdn.jtvnw.net/ttv-boxart/32982_IGDB-{width}x{height}.jpg</td><td>1020</td><td>2025-06-13T04:09:01.681757</td></tr><tr><td>21779</td><td>League of Legends</td><td>https://static-cdn.jtvnw.net/ttv-boxart/21779-{width}x{height}.jpg</td><td>115</td><td>2025-06-13T04:09:01.681757</td></tr><tr><td>460630</td><td>Tom Clancy's Rainbow Six Siege X</td><td>https://static-cdn.jtvnw.net/ttv-boxart/460630-{width}x{height}.jpg</td><td>7360</td><td>2025-06-13T04:09:01.681757</td></tr><tr><td>488820</td><td>Stranded Deep</td><td>https://static-cdn.jtvnw.net/ttv-boxart/488820_IGDB-{width}x{height}.jpg</td><td>8751</td><td>2025-06-13T04:09:01.681757</td></tr><tr><td>516575</td><td>VALORANT</td><td>https://static-cdn.jtvnw.net/ttv-boxart/516575-{width}x{height}.jpg</td><td>126459</td><td>2025-06-13T04:09:01.681757</td></tr><tr><td>33214</td><td>Fortnite</td><td>https://static-cdn.jtvnw.net/ttv-boxart/33214-{width}x{height}.jpg</td><td>1905</td><td>2025-06-13T04:09:01.681757</td></tr><tr><td>32399</td><td>Counter-Strike</td><td>https://static-cdn.jtvnw.net/ttv-boxart/32399-{width}x{height}.jpg</td><td></td><td>2025-06-13T04:09:01.681757</td></tr><tr><td>1826300051</td><td>Mario Kart World</td><td>https://static-cdn.jtvnw.net/ttv-boxart/1826300051_IGDB-{width}x{height}.jpg</td><td>338067</td><td>2025-06-13T04:09:01.681757</td></tr><tr><td>982348888</td><td>Elden Ring: Nightreign</td><td>https://static-cdn.jtvnw.net/ttv-boxart/982348888_IGDB-{width}x{height}.jpg</td><td>325591</td><td>2025-06-13T04:09:01.681757</td></tr><tr><td>1987896617</td><td>Dune: Awakening</td><td>https://static-cdn.jtvnw.net/ttv-boxart/1987896617_IGDB-{width}x{height}.jpg</td><td>214394</td><td>2025-06-13T04:09:01.681757</td></tr><tr><td>491487</td><td>Dead by Daylight</td><td>https://static-cdn.jtvnw.net/ttv-boxart/491487-{width}x{height}.jpg</td><td>18866</td><td>2025-06-13T04:09:01.681757</td></tr><tr><td>512710</td><td>Call of Duty: Warzone</td><td>https://static-cdn.jtvnw.net/ttv-boxart/512710-{width}x{height}.jpg</td><td>131800</td><td>2025-06-13T04:09:01.681757</td></tr><tr><td>36799602</td><td>Clair Obscur: Expedition 33</td><td>https://static-cdn.jtvnw.net/ttv-boxart/36799602_IGDB-{width}x{height}.jpg</td><td>305152</td><td>2025-06-13T04:09:01.681757</td></tr><tr><td>1264310518</td><td>Marvel Rivals</td><td>https://static-cdn.jtvnw.net/ttv-boxart/1264310518_IGDB-{width}x{height}.jpg</td><td>294041</td><td>2025-06-13T04:09:01.681757</td></tr><tr><td>29595</td><td>Dota 2</td><td>https://static-cdn.jtvnw.net/ttv-boxart/29595-{width}x{height}.jpg</td><td></td><td>2025-06-13T04:09:01.681757</td></tr><tr><td>511224</td><td>Apex Legends</td><td>https://static-cdn.jtvnw.net/ttv-boxart/511224-{width}x{height}.jpg</td><td>114795</td><td>2025-06-13T04:09:01.681757</td></tr><tr><td>27471</td><td>Minecraft</td><td>https://static-cdn.jtvnw.net/ttv-boxart/27471_IGDB-{width}x{height}.jpg</td><td>135400</td><td>2025-06-13T04:09:01.681757</td></tr><tr><td>509659</td><td>ASMR</td><td>https://static-cdn.jtvnw.net/ttv-boxart/509659-{width}x{height}.jpg</td><td></td><td>2025-06-13T04:09:01.681757</td></tr><tr><td>32982</td><td>Grand Theft Auto V</td><td>https://static-cdn.jtvnw.net/ttv-boxart/32982_IGDB-{width}x{height}.jpg</td><td>1020</td><td>2025-06-13T04:07:57.591400</td></tr><tr><td>21779</td><td>League of Legends</td><td>https://static-cdn.jtvnw.net/ttv-boxart/21779-{width}x{height}.jpg</td><td>115</td><td>2025-06-13T04:07:57.591400</td></tr><tr><td>460630</td><td>Tom Clancy's Rainbow Six Siege X</td><td>https://static-cdn.jtvnw.net/ttv-boxart/460630-{width}x{height}.jpg</td><td>7360</td><td>2025-06-13T04:07:57.591400</td></tr><tr><td>488820</td><td>Stranded Deep</td><td>https://static-cdn.jtvnw.net/ttv-boxart/488820_IGDB-{width}x{height}.jpg</td><td>8751</td><td>2025-06-13T04:07:57.591400</td></tr><tr><td>516575</td><td>VALORANT</td><td>https://static-cdn.jtvnw.net/ttv-boxart/516575-{width}x{height}.jpg</td><td>126459</td><td>2025-06-13T04:07:57.591400</td></tr><tr><td>33214</td><td>Fortnite</td><td>https://static-cdn.jtvnw.net/ttv-boxart/33214-{width}x{height}.jpg</td><td>1905</td><td>2025-06-13T04:07:57.591400</td></tr><tr><td>32399</td><td>Counter-Strike</td><td>https://static-cdn.jtvnw.net/ttv-boxart/32399-{width}x{height}.jpg</td><td></td><td>2025-06-13T04:07:57.591400</td></tr><tr><td>1826300051</td><td>Mario Kart World</td><td>https://static-cdn.jtvnw.net/ttv-boxart/1826300051_IGDB-{width}x{height}.jpg</td><td>338067</td><td>2025-06-13T04:07:57.591400</td></tr><tr><td>982348888</td><td>Elden Ring: Nightreign</td><td>https://static-cdn.jtvnw.net/ttv-boxart/982348888_IGDB-{width}x{height}.jpg</td><td>325591</td><td>2025-06-13T04:07:57.591400</td></tr><tr><td>1987896617</td><td>Dune: Awakening</td><td>https://static-cdn.jtvnw.net/ttv-boxart/1987896617_IGDB-{width}x{height}.jpg</td><td>214394</td><td>2025-06-13T04:07:57.591400</td></tr><tr><td>491487</td><td>Dead by Daylight</td><td>https://static-cdn.jtvnw.net/ttv-boxart/491487-{width}x{height}.jpg</td><td>18866</td><td>2025-06-13T04:07:57.591400</td></tr><tr><td>512710</td><td>Call of Duty: Warzone</td><td>https://static-cdn.jtvnw.net/ttv-boxart/512710-{width}x{height}.jpg</td><td>131800</td><td>2025-06-13T04:07:57.591400</td></tr><tr><td>36799602</td><td>Clair Obscur: Expedition 33</td><td>https://static-cdn.jtvnw.net/ttv-boxart/36799602_IGDB-{width}x{height}.jpg</td><td>305152</td><td>2025-06-13T04:07:57.591400</td></tr><tr><td>1264310518</td><td>Marvel Rivals</td><td>https://static-cdn.jtvnw.net/ttv-boxart/1264310518_IGDB-{width}x{height}.jpg</td><td>294041</td><td>2025-06-13T04:07:57.591400</td></tr><tr><td>29595</td><td>Dota 2</td><td>https://static-cdn.jtvnw.net/ttv-boxart/29595-{width}x{height}.jpg</td><td></td><td>2025-06-13T04:07:57.591400</td></tr><tr><td>511224</td><td>Apex Legends</td><td>https://static-cdn.jtvnw.net/ttv-boxart/511224-{width}x{height}.jpg</td><td>114795</td><td>2025-06-13T04:07:57.591400</td></tr><tr><td>27471</td><td>Minecraft</td><td>https://static-cdn.jtvnw.net/ttv-boxart/27471_IGDB-{width}x{height}.jpg</td><td>135400</td><td>2025-06-13T04:07:57.591400</td></tr><tr><td>509659</td><td>ASMR</td><td>https://static-cdn.jtvnw.net/ttv-boxart/509659-{width}x{height}.jpg</td><td></td><td>2025-06-13T04:07:57.591400</td></tr><tr><td>32982</td><td>Grand Theft Auto V</td><td>https://static-cdn.jtvnw.net/ttv-boxart/32982_IGDB-{width}x{height}.jpg</td><td>1020</td><td>2025-06-13T04:01:30.602062</td></tr><tr><td>21779</td><td>League of Legends</td><td>https://static-cdn.jtvnw.net/ttv-boxart/21779-{width}x{height}.jpg</td><td>115</td><td>2025-06-13T04:01:30.602062</td></tr><tr><td>460630</td><td>Tom Clancy's Rainbow Six Siege X</td><td>https://static-cdn.jtvnw.net/ttv-boxart/460630-{width}x{height}.jpg</td><td>7360</td><td>2025-06-13T04:01:30.602062</td></tr><tr><td>488820</td><td>Stranded Deep</td><td>https://static-cdn.jtvnw.net/ttv-boxart/488820_IGDB-{width}x{height}.jpg</td><td>8751</td><td>2025-06-13T04:01:30.602062</td></tr><tr><td>33214</td><td>Fortnite</td><td>https://static-cdn.jtvnw.net/ttv-boxart/33214-{width}x{height}.jpg</td><td>1905</td><td>2025-06-13T04:01:30.602062</td></tr><tr><td>516575</td><td>VALORANT</td><td>https://static-cdn.jtvnw.net/ttv-boxart/516575-{width}x{height}.jpg</td><td>126459</td><td>2025-06-13T04:01:30.602062</td></tr><tr><td>32399</td><td>Counter-Strike</td><td>https://static-cdn.jtvnw.net/ttv-boxart/32399-{width}x{height}.jpg</td><td></td><td>2025-06-13T04:01:30.602062</td></tr><tr><td>1826300051</td><td>Mario Kart World</td><td>https://static-cdn.jtvnw.net/ttv-boxart/1826300051_IGDB-{width}x{height}.jpg</td><td>338067</td><td>2025-06-13T04:01:30.602062</td></tr><tr><td>982348888</td><td>Elden Ring: Nightreign</td><td>https://static-cdn.jtvnw.net/ttv-boxart/982348888_IGDB-{width}x{height}.jpg</td><td>325591</td><td>2025-06-13T04:01:30.602062</td></tr><tr><td>1987896617</td><td>Dune: Awakening</td><td>https://static-cdn.jtvnw.net/ttv-boxart/1987896617_IGDB-{width}x{height}.jpg</td><td>214394</td><td>2025-06-13T04:01:30.602062</td></tr><tr><td>491487</td><td>Dead by Daylight</td><td>https://static-cdn.jtvnw.net/ttv-boxart/491487-{width}x{height}.jpg</td><td>18866</td><td>2025-06-13T04:01:30.602062</td></tr><tr><td>512710</td><td>Call of Duty: Warzone</td><td>https://static-cdn.jtvnw.net/ttv-boxart/512710-{width}x{height}.jpg</td><td>131800</td><td>2025-06-13T04:01:30.602062</td></tr><tr><td>36799602</td><td>Clair Obscur: Expedition 33</td><td>https://static-cdn.jtvnw.net/ttv-boxart/36799602_IGDB-{width}x{height}.jpg</td><td>305152</td><td>2025-06-13T04:01:30.602062</td></tr><tr><td>1264310518</td><td>Marvel Rivals</td><td>https://static-cdn.jtvnw.net/ttv-boxart/1264310518_IGDB-{width}x{height}.jpg</td><td>294041</td><td>2025-06-13T04:01:30.602062</td></tr><tr><td>29595</td><td>Dota 2</td><td>https://static-cdn.jtvnw.net/ttv-boxart/29595-{width}x{height}.jpg</td><td></td><td>2025-06-13T04:01:30.602062</td></tr><tr><td>27471</td><td>Minecraft</td><td>https://static-cdn.jtvnw.net/ttv-boxart/27471_IGDB-{width}x{height}.jpg</td><td>135400</td><td>2025-06-13T04:01:30.602062</td></tr><tr><td>511224</td><td>Apex Legends</td><td>https://static-cdn.jtvnw.net/ttv-boxart/511224-{width}x{height}.jpg</td><td>114795</td><td>2025-06-13T04:01:30.602062</td></tr><tr><td>509659</td><td>ASMR</td><td>https://static-cdn.jtvnw.net/ttv-boxart/509659-{width}x{height}.jpg</td><td></td><td>2025-06-13T04:01:30.602062</td></tr><tr><td>32982</td><td>Grand Theft Auto V</td><td>https://static-cdn.jtvnw.net/ttv-boxart/32982_IGDB-{width}x{height}.jpg</td><td>1020</td><td>2025-06-13T04:10:04.727609</td></tr><tr><td>21779</td><td>League of Legends</td><td>https://static-cdn.jtvnw.net/ttv-boxart/21779-{width}x{height}.jpg</td><td>115</td><td>2025-06-13T04:10:04.727609</td></tr><tr><td>460630</td><td>Tom Clancy's Rainbow Six Siege X</td><td>https://static-cdn.jtvnw.net/ttv-boxart/460630-{width}x{height}.jpg</td><td>7360</td><td>2025-06-13T04:10:04.727609</td></tr><tr><td>488820</td><td>Stranded Deep</td><td>https://static-cdn.jtvnw.net/ttv-boxart/488820_IGDB-{width}x{height}.jpg</td><td>8751</td><td>2025-06-13T04:10:04.727609</td></tr><tr><td>516575</td><td>VALORANT</td><td>https://static-cdn.jtvnw.net/ttv-boxart/516575-{width}x{height}.jpg</td><td>126459</td><td>2025-06-13T04:10:04.727609</td></tr><tr><td>33214</td><td>Fortnite</td><td>https://static-cdn.jtvnw.net/ttv-boxart/33214-{width}x{height}.jpg</td><td>1905</td><td>2025-06-13T04:10:04.727609</td></tr><tr><td>1826300051</td><td>Mario Kart World</td><td>https://static-cdn.jtvnw.net/ttv-boxart/1826300051_IGDB-{width}x{height}.jpg</td><td>338067</td><td>2025-06-13T04:10:04.727609</td></tr><tr><td>32399</td><td>Counter-Strike</td><td>https://static-cdn.jtvnw.net/ttv-boxart/32399-{width}x{height}.jpg</td><td></td><td>2025-06-13T04:10:04.727609</td></tr><tr><td>982348888</td><td>Elden Ring: Nightreign</td><td>https://static-cdn.jtvnw.net/ttv-boxart/982348888_IGDB-{width}x{height}.jpg</td><td>325591</td><td>2025-06-13T04:10:04.727609</td></tr><tr><td>1987896617</td><td>Dune: Awakening</td><td>https://static-cdn.jtvnw.net/ttv-boxart/1987896617_IGDB-{width}x{height}.jpg</td><td>214394</td><td>2025-06-13T04:10:04.727609</td></tr><tr><td>491487</td><td>Dead by Daylight</td><td>https://static-cdn.jtvnw.net/ttv-boxart/491487-{width}x{height}.jpg</td><td>18866</td><td>2025-06-13T04:10:04.727609</td></tr><tr><td>512710</td><td>Call of Duty: Warzone</td><td>https://static-cdn.jtvnw.net/ttv-boxart/512710-{width}x{height}.jpg</td><td>131800</td><td>2025-06-13T04:10:04.727609</td></tr><tr><td>36799602</td><td>Clair Obscur: Expedition 33</td><td>https://static-cdn.jtvnw.net/ttv-boxart/36799602_IGDB-{width}x{height}.jpg</td><td>305152</td><td>2025-06-13T04:10:04.727609</td></tr><tr><td>1264310518</td><td>Marvel Rivals</td><td>https://static-cdn.jtvnw.net/ttv-boxart/1264310518_IGDB-{width}x{height}.jpg</td><td>294041</td><td>2025-06-13T04:10:04.727609</td></tr><tr><td>29595</td><td>Dota 2</td><td>https://static-cdn.jtvnw.net/ttv-boxart/29595-{width}x{height}.jpg</td><td></td><td>2025-06-13T04:10:04.727609</td></tr><tr><td>511224</td><td>Apex Legends</td><td>https://static-cdn.jtvnw.net/ttv-boxart/511224-{width}x{height}.jpg</td><td>114795</td><td>2025-06-13T04:10:04.727609</td></tr><tr><td>27471</td><td>Minecraft</td><td>https://static-cdn.jtvnw.net/ttv-boxart/27471_IGDB-{width}x{height}.jpg</td><td>135400</td><td>2025-06-13T04:10:04.727609</td></tr><tr><td>509659</td><td>ASMR</td><td>https://static-cdn.jtvnw.net/ttv-boxart/509659-{width}x{height}.jpg</td><td></td><td>2025-06-13T04:10:04.727609</td></tr><tr><td>32982</td><td>Grand Theft Auto V</td><td>https://static-cdn.jtvnw.net/ttv-boxart/32982_IGDB-{width}x{height}.jpg</td><td>1020</td><td>2025-06-13T03:58:20.802685</td></tr><tr><td>21779</td><td>League of Legends</td><td>https://static-cdn.jtvnw.net/ttv-boxart/21779-{width}x{height}.jpg</td><td>115</td><td>2025-06-13T03:58:20.802685</td></tr><tr><td>460630</td><td>Tom Clancy's Rainbow Six Siege X</td><td>https://static-cdn.jtvnw.net/ttv-boxart/460630-{width}x{height}.jpg</td><td>7360</td><td>2025-06-13T03:58:20.802685</td></tr><tr><td>488820</td><td>Stranded Deep</td><td>https://static-cdn.jtvnw.net/ttv-boxart/488820_IGDB-{width}x{height}.jpg</td><td>8751</td><td>2025-06-13T03:58:20.802685</td></tr><tr><td>33214</td><td>Fortnite</td><td>https://static-cdn.jtvnw.net/ttv-boxart/33214-{width}x{height}.jpg</td><td>1905</td><td>2025-06-13T03:58:20.802685</td></tr><tr><td>516575</td><td>VALORANT</td><td>https://static-cdn.jtvnw.net/ttv-boxart/516575-{width}x{height}.jpg</td><td>126459</td><td>2025-06-13T03:58:20.802685</td></tr><tr><td>1826300051</td><td>Mario Kart World</td><td>https://static-cdn.jtvnw.net/ttv-boxart/1826300051_IGDB-{width}x{height}.jpg</td><td>338067</td><td>2025-06-13T03:58:20.802685</td></tr><tr><td>32399</td><td>Counter-Strike</td><td>https://static-cdn.jtvnw.net/ttv-boxart/32399-{width}x{height}.jpg</td><td></td><td>2025-06-13T03:58:20.802685</td></tr><tr><td>982348888</td><td>Elden Ring: Nightreign</td><td>https://static-cdn.jtvnw.net/ttv-boxart/982348888_IGDB-{width}x{height}.jpg</td><td>325591</td><td>2025-06-13T03:58:20.802685</td></tr><tr><td>491487</td><td>Dead by Daylight</td><td>https://static-cdn.jtvnw.net/ttv-boxart/491487-{width}x{height}.jpg</td><td>18866</td><td>2025-06-13T03:58:20.802685</td></tr><tr><td>1987896617</td><td>Dune: Awakening</td><td>https://static-cdn.jtvnw.net/ttv-boxart/1987896617_IGDB-{width}x{height}.jpg</td><td>214394</td><td>2025-06-13T03:58:20.802685</td></tr><tr><td>512710</td><td>Call of Duty: Warzone</td><td>https://static-cdn.jtvnw.net/ttv-boxart/512710-{width}x{height}.jpg</td><td>131800</td><td>2025-06-13T03:58:20.802685</td></tr><tr><td>36799602</td><td>Clair Obscur: Expedition 33</td><td>https://static-cdn.jtvnw.net/ttv-boxart/36799602_IGDB-{width}x{height}.jpg</td><td>305152</td><td>2025-06-13T03:58:20.802685</td></tr><tr><td>1264310518</td><td>Marvel Rivals</td><td>https://static-cdn.jtvnw.net/ttv-boxart/1264310518_IGDB-{width}x{height}.jpg</td><td>294041</td><td>2025-06-13T03:58:20.802685</td></tr><tr><td>29595</td><td>Dota 2</td><td>https://static-cdn.jtvnw.net/ttv-boxart/29595-{width}x{height}.jpg</td><td></td><td>2025-06-13T03:58:20.802685</td></tr><tr><td>27471</td><td>Minecraft</td><td>https://static-cdn.jtvnw.net/ttv-boxart/27471_IGDB-{width}x{height}.jpg</td><td>135400</td><td>2025-06-13T03:58:20.802685</td></tr><tr><td>511224</td><td>Apex Legends</td><td>https://static-cdn.jtvnw.net/ttv-boxart/511224-{width}x{height}.jpg</td><td>114795</td><td>2025-06-13T03:58:20.802685</td></tr><tr><td>509659</td><td>ASMR</td><td>https://static-cdn.jtvnw.net/ttv-boxart/509659-{width}x{height}.jpg</td><td></td><td>2025-06-13T03:58:20.802685</td></tr><tr><td>32982</td><td>Grand Theft Auto V</td><td>https://static-cdn.jtvnw.net/ttv-boxart/32982_IGDB-{width}x{height}.jpg</td><td>1020</td><td>2025-06-13T03:57:17.110869</td></tr><tr><td>21779</td><td>League of Legends</td><td>https://static-cdn.jtvnw.net/ttv-boxart/21779-{width}x{height}.jpg</td><td>115</td><td>2025-06-13T03:57:17.110869</td></tr><tr><td>460630</td><td>Tom Clancy's Rainbow Six Siege X</td><td>https://static-cdn.jtvnw.net/ttv-boxart/460630-{width}x{height}.jpg</td><td>7360</td><td>2025-06-13T03:57:17.110869</td></tr><tr><td>488820</td><td>Stranded Deep</td><td>https://static-cdn.jtvnw.net/ttv-boxart/488820_IGDB-{width}x{height}.jpg</td><td>8751</td><td>2025-06-13T03:57:17.110869</td></tr><tr><td>33214</td><td>Fortnite</td><td>https://static-cdn.jtvnw.net/ttv-boxart/33214-{width}x{height}.jpg</td><td>1905</td><td>2025-06-13T03:57:17.110869</td></tr><tr><td>516575</td><td>VALORANT</td><td>https://static-cdn.jtvnw.net/ttv-boxart/516575-{width}x{height}.jpg</td><td>126459</td><td>2025-06-13T03:57:17.110869</td></tr><tr><td>1826300051</td><td>Mario Kart World</td><td>https://static-cdn.jtvnw.net/ttv-boxart/1826300051_IGDB-{width}x{height}.jpg</td><td>338067</td><td>2025-06-13T03:57:17.110869</td></tr><tr><td>32399</td><td>Counter-Strike</td><td>https://static-cdn.jtvnw.net/ttv-boxart/32399-{width}x{height}.jpg</td><td></td><td>2025-06-13T03:57:17.110869</td></tr><tr><td>982348888</td><td>Elden Ring: Nightreign</td><td>https://static-cdn.jtvnw.net/ttv-boxart/982348888_IGDB-{width}x{height}.jpg</td><td>325591</td><td>2025-06-13T03:57:17.110869</td></tr><tr><td>491487</td><td>Dead by Daylight</td><td>https://static-cdn.jtvnw.net/ttv-boxart/491487-{width}x{height}.jpg</td><td>18866</td><td>2025-06-13T03:57:17.110869</td></tr><tr><td>1987896617</td><td>Dune: Awakening</td><td>https://static-cdn.jtvnw.net/ttv-boxart/1987896617_IGDB-{width}x{height}.jpg</td><td>214394</td><td>2025-06-13T03:57:17.110869</td></tr><tr><td>512710</td><td>Call of Duty: Warzone</td><td>https://static-cdn.jtvnw.net/ttv-boxart/512710-{width}x{height}.jpg</td><td>131800</td><td>2025-06-13T03:57:17.110869</td></tr><tr><td>36799602</td><td>Clair Obscur: Expedition 33</td><td>https://static-cdn.jtvnw.net/ttv-boxart/36799602_IGDB-{width}x{height}.jpg</td><td>305152</td><td>2025-06-13T03:57:17.110869</td></tr><tr><td>1264310518</td><td>Marvel Rivals</td><td>https://static-cdn.jtvnw.net/ttv-boxart/1264310518_IGDB-{width}x{height}.jpg</td><td>294041</td><td>2025-06-13T03:57:17.110869</td></tr><tr><td>29595</td><td>Dota 2</td><td>https://static-cdn.jtvnw.net/ttv-boxart/29595-{width}x{height}.jpg</td><td></td><td>2025-06-13T03:57:17.110869</td></tr><tr><td>27471</td><td>Minecraft</td><td>https://static-cdn.jtvnw.net/ttv-boxart/27471_IGDB-{width}x{height}.jpg</td><td>135400</td><td>2025-06-13T03:57:17.110869</td></tr><tr><td>511224</td><td>Apex Legends</td><td>https://static-cdn.jtvnw.net/ttv-boxart/511224-{width}x{height}.jpg</td><td>114795</td><td>2025-06-13T03:57:17.110869</td></tr><tr><td>509659</td><td>ASMR</td><td>https://static-cdn.jtvnw.net/ttv-boxart/509659-{width}x{height}.jpg</td><td></td><td>2025-06-13T03:57:17.110869</td></tr><tr><td>32982</td><td>Grand Theft Auto V</td><td>https://static-cdn.jtvnw.net/ttv-boxart/32982_IGDB-{width}x{height}.jpg</td><td>1020</td><td>2025-06-13T04:06:54.705630</td></tr><tr><td>21779</td><td>League of Legends</td><td>https://static-cdn.jtvnw.net/ttv-boxart/21779-{width}x{height}.jpg</td><td>115</td><td>2025-06-13T04:06:54.705630</td></tr><tr><td>460630</td><td>Tom Clancy's Rainbow Six Siege X</td><td>https://static-cdn.jtvnw.net/ttv-boxart/460630-{width}x{height}.jpg</td><td>7360</td><td>2025-06-13T04:06:54.705630</td></tr><tr><td>488820</td><td>Stranded Deep</td><td>https://static-cdn.jtvnw.net/ttv-boxart/488820_IGDB-{width}x{height}.jpg</td><td>8751</td><td>2025-06-13T04:06:54.705630</td></tr><tr><td>516575</td><td>VALORANT</td><td>https://static-cdn.jtvnw.net/ttv-boxart/516575-{width}x{height}.jpg</td><td>126459</td><td>2025-06-13T04:06:54.705630</td></tr><tr><td>33214</td><td>Fortnite</td><td>https://static-cdn.jtvnw.net/ttv-boxart/33214-{width}x{height}.jpg</td><td>1905</td><td>2025-06-13T04:06:54.705630</td></tr><tr><td>32399</td><td>Counter-Strike</td><td>https://static-cdn.jtvnw.net/ttv-boxart/32399-{width}x{height}.jpg</td><td></td><td>2025-06-13T04:06:54.705630</td></tr><tr><td>1826300051</td><td>Mario Kart World</td><td>https://static-cdn.jtvnw.net/ttv-boxart/1826300051_IGDB-{width}x{height}.jpg</td><td>338067</td><td>2025-06-13T04:06:54.705630</td></tr><tr><td>982348888</td><td>Elden Ring: Nightreign</td><td>https://static-cdn.jtvnw.net/ttv-boxart/982348888_IGDB-{width}x{height}.jpg</td><td>325591</td><td>2025-06-13T04:06:54.705630</td></tr><tr><td>1987896617</td><td>Dune: Awakening</td><td>https://static-cdn.jtvnw.net/ttv-boxart/1987896617_IGDB-{width}x{height}.jpg</td><td>214394</td><td>2025-06-13T04:06:54.705630</td></tr><tr><td>491487</td><td>Dead by Daylight</td><td>https://static-cdn.jtvnw.net/ttv-boxart/491487-{width}x{height}.jpg</td><td>18866</td><td>2025-06-13T04:06:54.705630</td></tr><tr><td>512710</td><td>Call of Duty: Warzone</td><td>https://static-cdn.jtvnw.net/ttv-boxart/512710-{width}x{height}.jpg</td><td>131800</td><td>2025-06-13T04:06:54.705630</td></tr><tr><td>36799602</td><td>Clair Obscur: Expedition 33</td><td>https://static-cdn.jtvnw.net/ttv-boxart/36799602_IGDB-{width}x{height}.jpg</td><td>305152</td><td>2025-06-13T04:06:54.705630</td></tr><tr><td>1264310518</td><td>Marvel Rivals</td><td>https://static-cdn.jtvnw.net/ttv-boxart/1264310518_IGDB-{width}x{height}.jpg</td><td>294041</td><td>2025-06-13T04:06:54.705630</td></tr><tr><td>29595</td><td>Dota 2</td><td>https://static-cdn.jtvnw.net/ttv-boxart/29595-{width}x{height}.jpg</td><td></td><td>2025-06-13T04:06:54.705630</td></tr><tr><td>27471</td><td>Minecraft</td><td>https://static-cdn.jtvnw.net/ttv-boxart/27471_IGDB-{width}x{height}.jpg</td><td>135400</td><td>2025-06-13T04:06:54.705630</td></tr><tr><td>511224</td><td>Apex Legends</td><td>https://static-cdn.jtvnw.net/ttv-boxart/511224-{width}x{height}.jpg</td><td>114795</td><td>2025-06-13T04:06:54.705630</td></tr><tr><td>509659</td><td>ASMR</td><td>https://static-cdn.jtvnw.net/ttv-boxart/509659-{width}x{height}.jpg</td><td></td><td>2025-06-13T04:06:54.705630</td></tr><tr><td>32982</td><td>Grand Theft Auto V</td><td>https://static-cdn.jtvnw.net/ttv-boxart/32982_IGDB-{width}x{height}.jpg</td><td>1020</td><td>2025-06-13T04:05:51.100111</td></tr><tr><td>21779</td><td>League of Legends</td><td>https://static-cdn.jtvnw.net/ttv-boxart/21779-{width}x{height}.jpg</td><td>115</td><td>2025-06-13T04:05:51.100111</td></tr><tr><td>460630</td><td>Tom Clancy's Rainbow Six Siege X</td><td>https://static-cdn.jtvnw.net/ttv-boxart/460630-{width}x{height}.jpg</td><td>7360</td><td>2025-06-13T04:05:51.100111</td></tr><tr><td>488820</td><td>Stranded Deep</td><td>https://static-cdn.jtvnw.net/ttv-boxart/488820_IGDB-{width}x{height}.jpg</td><td>8751</td><td>2025-06-13T04:05:51.100111</td></tr><tr><td>516575</td><td>VALORANT</td><td>https://static-cdn.jtvnw.net/ttv-boxart/516575-{width}x{height}.jpg</td><td>126459</td><td>2025-06-13T04:05:51.100111</td></tr><tr><td>33214</td><td>Fortnite</td><td>https://static-cdn.jtvnw.net/ttv-boxart/33214-{width}x{height}.jpg</td><td>1905</td><td>2025-06-13T04:05:51.100111</td></tr><tr><td>32399</td><td>Counter-Strike</td><td>https://static-cdn.jtvnw.net/ttv-boxart/32399-{width}x{height}.jpg</td><td></td><td>2025-06-13T04:05:51.100111</td></tr><tr><td>1826300051</td><td>Mario Kart World</td><td>https://static-cdn.jtvnw.net/ttv-boxart/1826300051_IGDB-{width}x{height}.jpg</td><td>338067</td><td>2025-06-13T04:05:51.100111</td></tr><tr><td>982348888</td><td>Elden Ring: Nightreign</td><td>https://static-cdn.jtvnw.net/ttv-boxart/982348888_IGDB-{width}x{height}.jpg</td><td>325591</td><td>2025-06-13T04:05:51.100111</td></tr><tr><td>1987896617</td><td>Dune: Awakening</td><td>https://static-cdn.jtvnw.net/ttv-boxart/1987896617_IGDB-{width}x{height}.jpg</td><td>214394</td><td>2025-06-13T04:05:51.100111</td></tr><tr><td>491487</td><td>Dead by Daylight</td><td>https://static-cdn.jtvnw.net/ttv-boxart/491487-{width}x{height}.jpg</td><td>18866</td><td>2025-06-13T04:05:51.100111</td></tr><tr><td>512710</td><td>Call of Duty: Warzone</td><td>https://static-cdn.jtvnw.net/ttv-boxart/512710-{width}x{height}.jpg</td><td>131800</td><td>2025-06-13T04:05:51.100111</td></tr><tr><td>36799602</td><td>Clair Obscur: Expedition 33</td><td>https://static-cdn.jtvnw.net/ttv-boxart/36799602_IGDB-{width}x{height}.jpg</td><td>305152</td><td>2025-06-13T04:05:51.100111</td></tr><tr><td>1264310518</td><td>Marvel Rivals</td><td>https://static-cdn.jtvnw.net/ttv-boxart/1264310518_IGDB-{width}x{height}.jpg</td><td>294041</td><td>2025-06-13T04:05:51.100111</td></tr><tr><td>29595</td><td>Dota 2</td><td>https://static-cdn.jtvnw.net/ttv-boxart/29595-{width}x{height}.jpg</td><td></td><td>2025-06-13T04:05:51.100111</td></tr><tr><td>27471</td><td>Minecraft</td><td>https://static-cdn.jtvnw.net/ttv-boxart/27471_IGDB-{width}x{height}.jpg</td><td>135400</td><td>2025-06-13T04:05:51.100111</td></tr><tr><td>511224</td><td>Apex Legends</td><td>https://static-cdn.jtvnw.net/ttv-boxart/511224-{width}x{height}.jpg</td><td>114795</td><td>2025-06-13T04:05:51.100111</td></tr><tr><td>509659</td><td>ASMR</td><td>https://static-cdn.jtvnw.net/ttv-boxart/509659-{width}x{height}.jpg</td><td></td><td>2025-06-13T04:05:51.100111</td></tr><tr><td>32982</td><td>Grand Theft Auto V</td><td>https://static-cdn.jtvnw.net/ttv-boxart/32982_IGDB-{width}x{height}.jpg</td><td>1020</td><td>2025-06-13T03:59:24.408797</td></tr><tr><td>21779</td><td>League of Legends</td><td>https://static-cdn.jtvnw.net/ttv-boxart/21779-{width}x{height}.jpg</td><td>115</td><td>2025-06-13T03:59:24.408797</td></tr><tr><td>460630</td><td>Tom Clancy's Rainbow Six Siege X</td><td>https://static-cdn.jtvnw.net/ttv-boxart/460630-{width}x{height}.jpg</td><td>7360</td><td>2025-06-13T03:59:24.408797</td></tr><tr><td>488820</td><td>Stranded Deep</td><td>https://static-cdn.jtvnw.net/ttv-boxart/488820_IGDB-{width}x{height}.jpg</td><td>8751</td><td>2025-06-13T03:59:24.408797</td></tr><tr><td>33214</td><td>Fortnite</td><td>https://static-cdn.jtvnw.net/ttv-boxart/33214-{width}x{height}.jpg</td><td>1905</td><td>2025-06-13T03:59:24.408797</td></tr><tr><td>516575</td><td>VALORANT</td><td>https://static-cdn.jtvnw.net/ttv-boxart/516575-{width}x{height}.jpg</td><td>126459</td><td>2025-06-13T03:59:24.408797</td></tr><tr><td>1826300051</td><td>Mario Kart World</td><td>https://static-cdn.jtvnw.net/ttv-boxart/1826300051_IGDB-{width}x{height}.jpg</td><td>338067</td><td>2025-06-13T03:59:24.408797</td></tr><tr><td>32399</td><td>Counter-Strike</td><td>https://static-cdn.jtvnw.net/ttv-boxart/32399-{width}x{height}.jpg</td><td></td><td>2025-06-13T03:59:24.408797</td></tr><tr><td>982348888</td><td>Elden Ring: Nightreign</td><td>https://static-cdn.jtvnw.net/ttv-boxart/982348888_IGDB-{width}x{height}.jpg</td><td>325591</td><td>2025-06-13T03:59:24.408797</td></tr><tr><td>1987896617</td><td>Dune: Awakening</td><td>https://static-cdn.jtvnw.net/ttv-boxart/1987896617_IGDB-{width}x{height}.jpg</td><td>214394</td><td>2025-06-13T03:59:24.408797</td></tr><tr><td>491487</td><td>Dead by Daylight</td><td>https://static-cdn.jtvnw.net/ttv-boxart/491487-{width}x{height}.jpg</td><td>18866</td><td>2025-06-13T03:59:24.408797</td></tr><tr><td>512710</td><td>Call of Duty: Warzone</td><td>https://static-cdn.jtvnw.net/ttv-boxart/512710-{width}x{height}.jpg</td><td>131800</td><td>2025-06-13T03:59:24.408797</td></tr><tr><td>36799602</td><td>Clair Obscur: Expedition 33</td><td>https://static-cdn.jtvnw.net/ttv-boxart/36799602_IGDB-{width}x{height}.jpg</td><td>305152</td><td>2025-06-13T03:59:24.408797</td></tr><tr><td>1264310518</td><td>Marvel Rivals</td><td>https://static-cdn.jtvnw.net/ttv-boxart/1264310518_IGDB-{width}x{height}.jpg</td><td>294041</td><td>2025-06-13T03:59:24.408797</td></tr><tr><td>29595</td><td>Dota 2</td><td>https://static-cdn.jtvnw.net/ttv-boxart/29595-{width}x{height}.jpg</td><td></td><td>2025-06-13T03:59:24.408797</td></tr><tr><td>27471</td><td>Minecraft</td><td>https://static-cdn.jtvnw.net/ttv-boxart/27471_IGDB-{width}x{height}.jpg</td><td>135400</td><td>2025-06-13T03:59:24.408797</td></tr><tr><td>511224</td><td>Apex Legends</td><td>https://static-cdn.jtvnw.net/ttv-boxart/511224-{width}x{height}.jpg</td><td>114795</td><td>2025-06-13T03:59:24.408797</td></tr><tr><td>509659</td><td>ASMR</td><td>https://static-cdn.jtvnw.net/ttv-boxart/509659-{width}x{height}.jpg</td><td></td><td>2025-06-13T03:59:24.408797</td></tr><tr><td>21779</td><td>League of Legends</td><td>https://static-cdn.jtvnw.net/ttv-boxart/21779-{width}x{height}.jpg</td><td>115</td><td>2025-06-13T04:14:17.630351</td></tr><tr><td>32982</td><td>Grand Theft Auto V</td><td>https://static-cdn.jtvnw.net/ttv-boxart/32982_IGDB-{width}x{height}.jpg</td><td>1020</td><td>2025-06-13T04:14:17.630351</td></tr><tr><td>488820</td><td>Stranded Deep</td><td>https://static-cdn.jtvnw.net/ttv-boxart/488820_IGDB-{width}x{height}.jpg</td><td>8751</td><td>2025-06-13T04:14:17.630351</td></tr><tr><td>516575</td><td>VALORANT</td><td>https://static-cdn.jtvnw.net/ttv-boxart/516575-{width}x{height}.jpg</td><td>126459</td><td>2025-06-13T04:14:17.630351</td></tr><tr><td>460630</td><td>Tom Clancy's Rainbow Six Siege X</td><td>https://static-cdn.jtvnw.net/ttv-boxart/460630-{width}x{height}.jpg</td><td>7360</td><td>2025-06-13T04:14:17.630351</td></tr><tr><td>33214</td><td>Fortnite</td><td>https://static-cdn.jtvnw.net/ttv-boxart/33214-{width}x{height}.jpg</td><td>1905</td><td>2025-06-13T04:14:17.630351</td></tr><tr><td>1826300051</td><td>Mario Kart World</td><td>https://static-cdn.jtvnw.net/ttv-boxart/1826300051_IGDB-{width}x{height}.jpg</td><td>338067</td><td>2025-06-13T04:14:17.630351</td></tr><tr><td>32399</td><td>Counter-Strike</td><td>https://static-cdn.jtvnw.net/ttv-boxart/32399-{width}x{height}.jpg</td><td></td><td>2025-06-13T04:14:17.630351</td></tr><tr><td>982348888</td><td>Elden Ring: Nightreign</td><td>https://static-cdn.jtvnw.net/ttv-boxart/982348888_IGDB-{width}x{height}.jpg</td><td>325591</td><td>2025-06-13T04:14:17.630351</td></tr><tr><td>1987896617</td><td>Dune: Awakening</td><td>https://static-cdn.jtvnw.net/ttv-boxart/1987896617_IGDB-{width}x{height}.jpg</td><td>214394</td><td>2025-06-13T04:14:17.630351</td></tr><tr><td>491487</td><td>Dead by Daylight</td><td>https://static-cdn.jtvnw.net/ttv-boxart/491487-{width}x{height}.jpg</td><td>18866</td><td>2025-06-13T04:14:17.630351</td></tr><tr><td>512710</td><td>Call of Duty: Warzone</td><td>https://static-cdn.jtvnw.net/ttv-boxart/512710-{width}x{height}.jpg</td><td>131800</td><td>2025-06-13T04:14:17.630351</td></tr><tr><td>36799602</td><td>Clair Obscur: Expedition 33</td><td>https://static-cdn.jtvnw.net/ttv-boxart/36799602_IGDB-{width}x{height}.jpg</td><td>305152</td><td>2025-06-13T04:14:17.630351</td></tr><tr><td>1264310518</td><td>Marvel Rivals</td><td>https://static-cdn.jtvnw.net/ttv-boxart/1264310518_IGDB-{width}x{height}.jpg</td><td>294041</td><td>2025-06-13T04:14:17.630351</td></tr><tr><td>29595</td><td>Dota 2</td><td>https://static-cdn.jtvnw.net/ttv-boxart/29595-{width}x{height}.jpg</td><td></td><td>2025-06-13T04:14:17.630351</td></tr><tr><td>511224</td><td>Apex Legends</td><td>https://static-cdn.jtvnw.net/ttv-boxart/511224-{width}x{height}.jpg</td><td>114795</td><td>2025-06-13T04:14:17.630351</td></tr><tr><td>27471</td><td>Minecraft</td><td>https://static-cdn.jtvnw.net/ttv-boxart/27471_IGDB-{width}x{height}.jpg</td><td>135400</td><td>2025-06-13T04:14:17.630351</td></tr><tr><td>509659</td><td>ASMR</td><td>https://static-cdn.jtvnw.net/ttv-boxart/509659-{width}x{height}.jpg</td><td></td><td>2025-06-13T04:14:17.630351</td></tr><tr><td>32982</td><td>Grand Theft Auto V</td><td>https://static-cdn.jtvnw.net/ttv-boxart/32982_IGDB-{width}x{height}.jpg</td><td>1020</td><td>2025-06-13T04:04:47.091808</td></tr><tr><td>21779</td><td>League of Legends</td><td>https://static-cdn.jtvnw.net/ttv-boxart/21779-{width}x{height}.jpg</td><td>115</td><td>2025-06-13T04:04:47.091808</td></tr><tr><td>460630</td><td>Tom Clancy's Rainbow Six Siege X</td><td>https://static-cdn.jtvnw.net/ttv-boxart/460630-{width}x{height}.jpg</td><td>7360</td><td>2025-06-13T04:04:47.091808</td></tr><tr><td>488820</td><td>Stranded Deep</td><td>https://static-cdn.jtvnw.net/ttv-boxart/488820_IGDB-{width}x{height}.jpg</td><td>8751</td><td>2025-06-13T04:04:47.091808</td></tr><tr><td>516575</td><td>VALORANT</td><td>https://static-cdn.jtvnw.net/ttv-boxart/516575-{width}x{height}.jpg</td><td>126459</td><td>2025-06-13T04:04:47.091808</td></tr><tr><td>33214</td><td>Fortnite</td><td>https://static-cdn.jtvnw.net/ttv-boxart/33214-{width}x{height}.jpg</td><td>1905</td><td>2025-06-13T04:04:47.091808</td></tr><tr><td>32399</td><td>Counter-Strike</td><td>https://static-cdn.jtvnw.net/ttv-boxart/32399-{width}x{height}.jpg</td><td></td><td>2025-06-13T04:04:47.091808</td></tr><tr><td>1826300051</td><td>Mario Kart World</td><td>https://static-cdn.jtvnw.net/ttv-boxart/1826300051_IGDB-{width}x{height}.jpg</td><td>338067</td><td>2025-06-13T04:04:47.091808</td></tr><tr><td>982348888</td><td>Elden Ring: Nightreign</td><td>https://static-cdn.jtvnw.net/ttv-boxart/982348888_IGDB-{width}x{height}.jpg</td><td>325591</td><td>2025-06-13T04:04:47.091808</td></tr><tr><td>1987896617</td><td>Dune: Awakening</td><td>https://static-cdn.jtvnw.net/ttv-boxart/1987896617_IGDB-{width}x{height}.jpg</td><td>214394</td><td>2025-06-13T04:04:47.091808</td></tr><tr><td>491487</td><td>Dead by Daylight</td><td>https://static-cdn.jtvnw.net/ttv-boxart/491487-{width}x{height}.jpg</td><td>18866</td><td>2025-06-13T04:04:47.091808</td></tr><tr><td>512710</td><td>Call of Duty: Warzone</td><td>https://static-cdn.jtvnw.net/ttv-boxart/512710-{width}x{height}.jpg</td><td>131800</td><td>2025-06-13T04:04:47.091808</td></tr><tr><td>36799602</td><td>Clair Obscur: Expedition 33</td><td>https://static-cdn.jtvnw.net/ttv-boxart/36799602_IGDB-{width}x{height}.jpg</td><td>305152</td><td>2025-06-13T04:04:47.091808</td></tr><tr><td>29595</td><td>Dota 2</td><td>https://static-cdn.jtvnw.net/ttv-boxart/29595-{width}x{height}.jpg</td><td></td><td>2025-06-13T04:04:47.091808</td></tr><tr><td>1264310518</td><td>Marvel Rivals</td><td>https://static-cdn.jtvnw.net/ttv-boxart/1264310518_IGDB-{width}x{height}.jpg</td><td>294041</td><td>2025-06-13T04:04:47.091808</td></tr><tr><td>27471</td><td>Minecraft</td><td>https://static-cdn.jtvnw.net/ttv-boxart/27471_IGDB-{width}x{height}.jpg</td><td>135400</td><td>2025-06-13T04:04:47.091808</td></tr><tr><td>511224</td><td>Apex Legends</td><td>https://static-cdn.jtvnw.net/ttv-boxart/511224-{width}x{height}.jpg</td><td>114795</td><td>2025-06-13T04:04:47.091808</td></tr><tr><td>509659</td><td>ASMR</td><td>https://static-cdn.jtvnw.net/ttv-boxart/509659-{width}x{height}.jpg</td><td></td><td>2025-06-13T04:04:47.091808</td></tr><tr><td>32982</td><td>Grand Theft Auto V</td><td>https://static-cdn.jtvnw.net/ttv-boxart/32982_IGDB-{width}x{height}.jpg</td><td>1020</td><td>2025-06-13T04:02:40.540434</td></tr><tr><td>21779</td><td>League of Legends</td><td>https://static-cdn.jtvnw.net/ttv-boxart/21779-{width}x{height}.jpg</td><td>115</td><td>2025-06-13T04:02:40.540434</td></tr><tr><td>460630</td><td>Tom Clancy's Rainbow Six Siege X</td><td>https://static-cdn.jtvnw.net/ttv-boxart/460630-{width}x{height}.jpg</td><td>7360</td><td>2025-06-13T04:02:40.540434</td></tr><tr><td>488820</td><td>Stranded Deep</td><td>https://static-cdn.jtvnw.net/ttv-boxart/488820_IGDB-{width}x{height}.jpg</td><td>8751</td><td>2025-06-13T04:02:40.540434</td></tr><tr><td>516575</td><td>VALORANT</td><td>https://static-cdn.jtvnw.net/ttv-boxart/516575-{width}x{height}.jpg</td><td>126459</td><td>2025-06-13T04:02:40.540434</td></tr><tr><td>33214</td><td>Fortnite</td><td>https://static-cdn.jtvnw.net/ttv-boxart/33214-{width}x{height}.jpg</td><td>1905</td><td>2025-06-13T04:02:40.540434</td></tr><tr><td>32399</td><td>Counter-Strike</td><td>https://static-cdn.jtvnw.net/ttv-boxart/32399-{width}x{height}.jpg</td><td></td><td>2025-06-13T04:02:40.540434</td></tr><tr><td>1826300051</td><td>Mario Kart World</td><td>https://static-cdn.jtvnw.net/ttv-boxart/1826300051_IGDB-{width}x{height}.jpg</td><td>338067</td><td>2025-06-13T04:02:40.540434</td></tr><tr><td>982348888</td><td>Elden Ring: Nightreign</td><td>https://static-cdn.jtvnw.net/ttv-boxart/982348888_IGDB-{width}x{height}.jpg</td><td>325591</td><td>2025-06-13T04:02:40.540434</td></tr><tr><td>1987896617</td><td>Dune: Awakening</td><td>https://static-cdn.jtvnw.net/ttv-boxart/1987896617_IGDB-{width}x{height}.jpg</td><td>214394</td><td>2025-06-13T04:02:40.540434</td></tr><tr><td>491487</td><td>Dead by Daylight</td><td>https://static-cdn.jtvnw.net/ttv-boxart/491487-{width}x{height}.jpg</td><td>18866</td><td>2025-06-13T04:02:40.540434</td></tr><tr><td>512710</td><td>Call of Duty: Warzone</td><td>https://static-cdn.jtvnw.net/ttv-boxart/512710-{width}x{height}.jpg</td><td>131800</td><td>2025-06-13T04:02:40.540434</td></tr><tr><td>36799602</td><td>Clair Obscur: Expedition 33</td><td>https://static-cdn.jtvnw.net/ttv-boxart/36799602_IGDB-{width}x{height}.jpg</td><td>305152</td><td>2025-06-13T04:02:40.540434</td></tr><tr><td>29595</td><td>Dota 2</td><td>https://static-cdn.jtvnw.net/ttv-boxart/29595-{width}x{height}.jpg</td><td></td><td>2025-06-13T04:02:40.540434</td></tr><tr><td>1264310518</td><td>Marvel Rivals</td><td>https://static-cdn.jtvnw.net/ttv-boxart/1264310518_IGDB-{width}x{height}.jpg</td><td>294041</td><td>2025-06-13T04:02:40.540434</td></tr><tr><td>27471</td><td>Minecraft</td><td>https://static-cdn.jtvnw.net/ttv-boxart/27471_IGDB-{width}x{height}.jpg</td><td>135400</td><td>2025-06-13T04:02:40.540434</td></tr><tr><td>511224</td><td>Apex Legends</td><td>https://static-cdn.jtvnw.net/ttv-boxart/511224-{width}x{height}.jpg</td><td>114795</td><td>2025-06-13T04:02:40.540434</td></tr><tr><td>509659</td><td>ASMR</td><td>https://static-cdn.jtvnw.net/ttv-boxart/509659-{width}x{height}.jpg</td><td></td><td>2025-06-13T04:02:40.540434</td></tr><tr><td>21779</td><td>League of Legends</td><td>https://static-cdn.jtvnw.net/ttv-boxart/21779-{width}x{height}.jpg</td><td>115</td><td>2025-06-13T04:20:41.930625</td></tr><tr><td>488820</td><td>Stranded Deep</td><td>https://static-cdn.jtvnw.net/ttv-boxart/488820_IGDB-{width}x{height}.jpg</td><td>8751</td><td>2025-06-13T04:20:41.930625</td></tr><tr><td>32982</td><td>Grand Theft Auto V</td><td>https://static-cdn.jtvnw.net/ttv-boxart/32982_IGDB-{width}x{height}.jpg</td><td>1020</td><td>2025-06-13T04:20:41.930625</td></tr><tr><td>516575</td><td>VALORANT</td><td>https://static-cdn.jtvnw.net/ttv-boxart/516575-{width}x{height}.jpg</td><td>126459</td><td>2025-06-13T04:20:41.930625</td></tr><tr><td>460630</td><td>Tom Clancy's Rainbow Six Siege X</td><td>https://static-cdn.jtvnw.net/ttv-boxart/460630-{width}x{height}.jpg</td><td>7360</td><td>2025-06-13T04:20:41.930625</td></tr><tr><td>33214</td><td>Fortnite</td><td>https://static-cdn.jtvnw.net/ttv-boxart/33214-{width}x{height}.jpg</td><td>1905</td><td>2025-06-13T04:20:41.930625</td></tr><tr><td>32399</td><td>Counter-Strike</td><td>https://static-cdn.jtvnw.net/ttv-boxart/32399-{width}x{height}.jpg</td><td></td><td>2025-06-13T04:20:41.930625</td></tr><tr><td>1826300051</td><td>Mario Kart World</td><td>https://static-cdn.jtvnw.net/ttv-boxart/1826300051_IGDB-{width}x{height}.jpg</td><td>338067</td><td>2025-06-13T04:20:41.930625</td></tr><tr><td>1987896617</td><td>Dune: Awakening</td><td>https://static-cdn.jtvnw.net/ttv-boxart/1987896617_IGDB-{width}x{height}.jpg</td><td>214394</td><td>2025-06-13T04:20:41.930625</td></tr><tr><td>491487</td><td>Dead by Daylight</td><td>https://static-cdn.jtvnw.net/ttv-boxart/491487-{width}x{height}.jpg</td><td>18866</td><td>2025-06-13T04:20:41.930625</td></tr><tr><td>512710</td><td>Call of Duty: Warzone</td><td>https://static-cdn.jtvnw.net/ttv-boxart/512710-{width}x{height}.jpg</td><td>131800</td><td>2025-06-13T04:20:41.930625</td></tr><tr><td>982348888</td><td>Elden Ring: Nightreign</td><td>https://static-cdn.jtvnw.net/ttv-boxart/982348888_IGDB-{width}x{height}.jpg</td><td>325591</td><td>2025-06-13T04:20:41.930625</td></tr><tr><td>29595</td><td>Dota 2</td><td>https://static-cdn.jtvnw.net/ttv-boxart/29595-{width}x{height}.jpg</td><td></td><td>2025-06-13T04:20:41.930625</td></tr><tr><td>36799602</td><td>Clair Obscur: Expedition 33</td><td>https://static-cdn.jtvnw.net/ttv-boxart/36799602_IGDB-{width}x{height}.jpg</td><td>305152</td><td>2025-06-13T04:20:41.930625</td></tr><tr><td>1264310518</td><td>Marvel Rivals</td><td>https://static-cdn.jtvnw.net/ttv-boxart/1264310518_IGDB-{width}x{height}.jpg</td><td>294041</td><td>2025-06-13T04:20:41.930625</td></tr><tr><td>511224</td><td>Apex Legends</td><td>https://static-cdn.jtvnw.net/ttv-boxart/511224-{width}x{height}.jpg</td><td>114795</td><td>2025-06-13T04:20:41.930625</td></tr><tr><td>27471</td><td>Minecraft</td><td>https://static-cdn.jtvnw.net/ttv-boxart/27471_IGDB-{width}x{height}.jpg</td><td>135400</td><td>2025-06-13T04:20:41.930625</td></tr><tr><td>509659</td><td>ASMR</td><td>https://static-cdn.jtvnw.net/ttv-boxart/509659-{width}x{height}.jpg</td><td></td><td>2025-06-13T04:20:41.930625</td></tr><tr><td>21779</td><td>League of Legends</td><td>https://static-cdn.jtvnw.net/ttv-boxart/21779-{width}x{height}.jpg</td><td>115</td><td>2025-06-13T04:21:46.762120</td></tr><tr><td>488820</td><td>Stranded Deep</td><td>https://static-cdn.jtvnw.net/ttv-boxart/488820_IGDB-{width}x{height}.jpg</td><td>8751</td><td>2025-06-13T04:21:46.762120</td></tr><tr><td>32982</td><td>Grand Theft Auto V</td><td>https://static-cdn.jtvnw.net/ttv-boxart/32982_IGDB-{width}x{height}.jpg</td><td>1020</td><td>2025-06-13T04:21:46.762120</td></tr><tr><td>516575</td><td>VALORANT</td><td>https://static-cdn.jtvnw.net/ttv-boxart/516575-{width}x{height}.jpg</td><td>126459</td><td>2025-06-13T04:21:46.762120</td></tr><tr><td>460630</td><td>Tom Clancy's Rainbow Six Siege X</td><td>https://static-cdn.jtvnw.net/ttv-boxart/460630-{width}x{height}.jpg</td><td>7360</td><td>2025-06-13T04:21:46.762120</td></tr><tr><td>33214</td><td>Fortnite</td><td>https://static-cdn.jtvnw.net/ttv-boxart/33214-{width}x{height}.jpg</td><td>1905</td><td>2025-06-13T04:21:46.762120</td></tr><tr><td>32399</td><td>Counter-Strike</td><td>https://static-cdn.jtvnw.net/ttv-boxart/32399-{width}x{height}.jpg</td><td></td><td>2025-06-13T04:21:46.762120</td></tr><tr><td>1826300051</td><td>Mario Kart World</td><td>https://static-cdn.jtvnw.net/ttv-boxart/1826300051_IGDB-{width}x{height}.jpg</td><td>338067</td><td>2025-06-13T04:21:46.762120</td></tr><tr><td>1987896617</td><td>Dune: Awakening</td><td>https://static-cdn.jtvnw.net/ttv-boxart/1987896617_IGDB-{width}x{height}.jpg</td><td>214394</td><td>2025-06-13T04:21:46.762120</td></tr><tr><td>491487</td><td>Dead by Daylight</td><td>https://static-cdn.jtvnw.net/ttv-boxart/491487-{width}x{height}.jpg</td><td>18866</td><td>2025-06-13T04:21:46.762120</td></tr><tr><td>512710</td><td>Call of Duty: Warzone</td><td>https://static-cdn.jtvnw.net/ttv-boxart/512710-{width}x{height}.jpg</td><td>131800</td><td>2025-06-13T04:21:46.762120</td></tr><tr><td>982348888</td><td>Elden Ring: Nightreign</td><td>https://static-cdn.jtvnw.net/ttv-boxart/982348888_IGDB-{width}x{height}.jpg</td><td>325591</td><td>2025-06-13T04:21:46.762120</td></tr><tr><td>29595</td><td>Dota 2</td><td>https://static-cdn.jtvnw.net/ttv-boxart/29595-{width}x{height}.jpg</td><td></td><td>2025-06-13T04:21:46.762120</td></tr><tr><td>36799602</td><td>Clair Obscur: Expedition 33</td><td>https://static-cdn.jtvnw.net/ttv-boxart/36799602_IGDB-{width}x{height}.jpg</td><td>305152</td><td>2025-06-13T04:21:46.762120</td></tr><tr><td>1264310518</td><td>Marvel Rivals</td><td>https://static-cdn.jtvnw.net/ttv-boxart/1264310518_IGDB-{width}x{height}.jpg</td><td>294041</td><td>2025-06-13T04:21:46.762120</td></tr><tr><td>511224</td><td>Apex Legends</td><td>https://static-cdn.jtvnw.net/ttv-boxart/511224-{width}x{height}.jpg</td><td>114795</td><td>2025-06-13T04:21:46.762120</td></tr><tr><td>27471</td><td>Minecraft</td><td>https://static-cdn.jtvnw.net/ttv-boxart/27471_IGDB-{width}x{height}.jpg</td><td>135400</td><td>2025-06-13T04:21:46.762120</td></tr><tr><td>509659</td><td>ASMR</td><td>https://static-cdn.jtvnw.net/ttv-boxart/509659-{width}x{height}.jpg</td><td></td><td>2025-06-13T04:21:46.762120</td></tr><tr><td>21779</td><td>League of Legends</td><td>https://static-cdn.jtvnw.net/ttv-boxart/21779-{width}x{height}.jpg</td><td>115</td><td>2025-06-13T04:11:08.494688</td></tr><tr><td>32982</td><td>Grand Theft Auto V</td><td>https://static-cdn.jtvnw.net/ttv-boxart/32982_IGDB-{width}x{height}.jpg</td><td>1020</td><td>2025-06-13T04:11:08.494688</td></tr><tr><td>488820</td><td>Stranded Deep</td><td>https://static-cdn.jtvnw.net/ttv-boxart/488820_IGDB-{width}x{height}.jpg</td><td>8751</td><td>2025-06-13T04:11:08.494688</td></tr><tr><td>460630</td><td>Tom Clancy's Rainbow Six Siege X</td><td>https://static-cdn.jtvnw.net/ttv-boxart/460630-{width}x{height}.jpg</td><td>7360</td><td>2025-06-13T04:11:08.494688</td></tr><tr><td>516575</td><td>VALORANT</td><td>https://static-cdn.jtvnw.net/ttv-boxart/516575-{width}x{height}.jpg</td><td>126459</td><td>2025-06-13T04:11:08.494688</td></tr><tr><td>33214</td><td>Fortnite</td><td>https://static-cdn.jtvnw.net/ttv-boxart/33214-{width}x{height}.jpg</td><td>1905</td><td>2025-06-13T04:11:08.494688</td></tr><tr><td>1826300051</td><td>Mario Kart World</td><td>https://static-cdn.jtvnw.net/ttv-boxart/1826300051_IGDB-{width}x{height}.jpg</td><td>338067</td><td>2025-06-13T04:11:08.494688</td></tr><tr><td>32399</td><td>Counter-Strike</td><td>https://static-cdn.jtvnw.net/ttv-boxart/32399-{width}x{height}.jpg</td><td></td><td>2025-06-13T04:11:08.494688</td></tr><tr><td>982348888</td><td>Elden Ring: Nightreign</td><td>https://static-cdn.jtvnw.net/ttv-boxart/982348888_IGDB-{width}x{height}.jpg</td><td>325591</td><td>2025-06-13T04:11:08.494688</td></tr><tr><td>1987896617</td><td>Dune: Awakening</td><td>https://static-cdn.jtvnw.net/ttv-boxart/1987896617_IGDB-{width}x{height}.jpg</td><td>214394</td><td>2025-06-13T04:11:08.494688</td></tr><tr><td>491487</td><td>Dead by Daylight</td><td>https://static-cdn.jtvnw.net/ttv-boxart/491487-{width}x{height}.jpg</td><td>18866</td><td>2025-06-13T04:11:08.494688</td></tr><tr><td>512710</td><td>Call of Duty: Warzone</td><td>https://static-cdn.jtvnw.net/ttv-boxart/512710-{width}x{height}.jpg</td><td>131800</td><td>2025-06-13T04:11:08.494688</td></tr><tr><td>36799602</td><td>Clair Obscur: Expedition 33</td><td>https://static-cdn.jtvnw.net/ttv-boxart/36799602_IGDB-{width}x{height}.jpg</td><td>305152</td><td>2025-06-13T04:11:08.494688</td></tr><tr><td>1264310518</td><td>Marvel Rivals</td><td>https://static-cdn.jtvnw.net/ttv-boxart/1264310518_IGDB-{width}x{height}.jpg</td><td>294041</td><td>2025-06-13T04:11:08.494688</td></tr><tr><td>29595</td><td>Dota 2</td><td>https://static-cdn.jtvnw.net/ttv-boxart/29595-{width}x{height}.jpg</td><td></td><td>2025-06-13T04:11:08.494688</td></tr><tr><td>511224</td><td>Apex Legends</td><td>https://static-cdn.jtvnw.net/ttv-boxart/511224-{width}x{height}.jpg</td><td>114795</td><td>2025-06-13T04:11:08.494688</td></tr><tr><td>27471</td><td>Minecraft</td><td>https://static-cdn.jtvnw.net/ttv-boxart/27471_IGDB-{width}x{height}.jpg</td><td>135400</td><td>2025-06-13T04:11:08.494688</td></tr><tr><td>509659</td><td>ASMR</td><td>https://static-cdn.jtvnw.net/ttv-boxart/509659-{width}x{height}.jpg</td><td></td><td>2025-06-13T04:11:08.494688</td></tr><tr><td>21779</td><td>League of Legends</td><td>https://static-cdn.jtvnw.net/ttv-boxart/21779-{width}x{height}.jpg</td><td>115</td><td>2025-06-13T04:24:57.422144</td></tr><tr><td>32982</td><td>Grand Theft Auto V</td><td>https://static-cdn.jtvnw.net/ttv-boxart/32982_IGDB-{width}x{height}.jpg</td><td>1020</td><td>2025-06-13T04:24:57.422144</td></tr><tr><td>488820</td><td>Stranded Deep</td><td>https://static-cdn.jtvnw.net/ttv-boxart/488820_IGDB-{width}x{height}.jpg</td><td>8751</td><td>2025-06-13T04:24:57.422144</td></tr><tr><td>516575</td><td>VALORANT</td><td>https://static-cdn.jtvnw.net/ttv-boxart/516575-{width}x{height}.jpg</td><td>126459</td><td>2025-06-13T04:24:57.422144</td></tr><tr><td>460630</td><td>Tom Clancy's Rainbow Six Siege X</td><td>https://static-cdn.jtvnw.net/ttv-boxart/460630-{width}x{height}.jpg</td><td>7360</td><td>2025-06-13T04:24:57.422144</td></tr><tr><td>33214</td><td>Fortnite</td><td>https://static-cdn.jtvnw.net/ttv-boxart/33214-{width}x{height}.jpg</td><td>1905</td><td>2025-06-13T04:24:57.422144</td></tr><tr><td>32399</td><td>Counter-Strike</td><td>https://static-cdn.jtvnw.net/ttv-boxart/32399-{width}x{height}.jpg</td><td></td><td>2025-06-13T04:24:57.422144</td></tr><tr><td>1826300051</td><td>Mario Kart World</td><td>https://static-cdn.jtvnw.net/ttv-boxart/1826300051_IGDB-{width}x{height}.jpg</td><td>338067</td><td>2025-06-13T04:24:57.422144</td></tr><tr><td>1987896617</td><td>Dune: Awakening</td><td>https://static-cdn.jtvnw.net/ttv-boxart/1987896617_IGDB-{width}x{height}.jpg</td><td>214394</td><td>2025-06-13T04:24:57.422144</td></tr><tr><td>491487</td><td>Dead by Daylight</td><td>https://static-cdn.jtvnw.net/ttv-boxart/491487-{width}x{height}.jpg</td><td>18866</td><td>2025-06-13T04:24:57.422144</td></tr><tr><td>512710</td><td>Call of Duty: Warzone</td><td>https://static-cdn.jtvnw.net/ttv-boxart/512710-{width}x{height}.jpg</td><td>131800</td><td>2025-06-13T04:24:57.422144</td></tr><tr><td>982348888</td><td>Elden Ring: Nightreign</td><td>https://static-cdn.jtvnw.net/ttv-boxart/982348888_IGDB-{width}x{height}.jpg</td><td>325591</td><td>2025-06-13T04:24:57.422144</td></tr><tr><td>29595</td><td>Dota 2</td><td>https://static-cdn.jtvnw.net/ttv-boxart/29595-{width}x{height}.jpg</td><td></td><td>2025-06-13T04:24:57.422144</td></tr><tr><td>36799602</td><td>Clair Obscur: Expedition 33</td><td>https://static-cdn.jtvnw.net/ttv-boxart/36799602_IGDB-{width}x{height}.jpg</td><td>305152</td><td>2025-06-13T04:24:57.422144</td></tr><tr><td>1264310518</td><td>Marvel Rivals</td><td>https://static-cdn.jtvnw.net/ttv-boxart/1264310518_IGDB-{width}x{height}.jpg</td><td>294041</td><td>2025-06-13T04:24:57.422144</td></tr><tr><td>511224</td><td>Apex Legends</td><td>https://static-cdn.jtvnw.net/ttv-boxart/511224-{width}x{height}.jpg</td><td>114795</td><td>2025-06-13T04:24:57.422144</td></tr><tr><td>27471</td><td>Minecraft</td><td>https://static-cdn.jtvnw.net/ttv-boxart/27471_IGDB-{width}x{height}.jpg</td><td>135400</td><td>2025-06-13T04:24:57.422144</td></tr><tr><td>509659</td><td>ASMR</td><td>https://static-cdn.jtvnw.net/ttv-boxart/509659-{width}x{height}.jpg</td><td></td><td>2025-06-13T04:24:57.422144</td></tr><tr><td>21779</td><td>League of Legends</td><td>https://static-cdn.jtvnw.net/ttv-boxart/21779-{width}x{height}.jpg</td><td>115</td><td>2025-06-13T04:26:01.358334</td></tr><tr><td>32982</td><td>Grand Theft Auto V</td><td>https://static-cdn.jtvnw.net/ttv-boxart/32982_IGDB-{width}x{height}.jpg</td><td>1020</td><td>2025-06-13T04:26:01.358334</td></tr><tr><td>488820</td><td>Stranded Deep</td><td>https://static-cdn.jtvnw.net/ttv-boxart/488820_IGDB-{width}x{height}.jpg</td><td>8751</td><td>2025-06-13T04:26:01.358334</td></tr><tr><td>516575</td><td>VALORANT</td><td>https://static-cdn.jtvnw.net/ttv-boxart/516575-{width}x{height}.jpg</td><td>126459</td><td>2025-06-13T04:26:01.358334</td></tr><tr><td>460630</td><td>Tom Clancy's Rainbow Six Siege X</td><td>https://static-cdn.jtvnw.net/ttv-boxart/460630-{width}x{height}.jpg</td><td>7360</td><td>2025-06-13T04:26:01.358334</td></tr><tr><td>33214</td><td>Fortnite</td><td>https://static-cdn.jtvnw.net/ttv-boxart/33214-{width}x{height}.jpg</td><td>1905</td><td>2025-06-13T04:26:01.358334</td></tr><tr><td>32399</td><td>Counter-Strike</td><td>https://static-cdn.jtvnw.net/ttv-boxart/32399-{width}x{height}.jpg</td><td></td><td>2025-06-13T04:26:01.358334</td></tr><tr><td>1826300051</td><td>Mario Kart World</td><td>https://static-cdn.jtvnw.net/ttv-boxart/1826300051_IGDB-{width}x{height}.jpg</td><td>338067</td><td>2025-06-13T04:26:01.358334</td></tr><tr><td>1987896617</td><td>Dune: Awakening</td><td>https://static-cdn.jtvnw.net/ttv-boxart/1987896617_IGDB-{width}x{height}.jpg</td><td>214394</td><td>2025-06-13T04:26:01.358334</td></tr><tr><td>491487</td><td>Dead by Daylight</td><td>https://static-cdn.jtvnw.net/ttv-boxart/491487-{width}x{height}.jpg</td><td>18866</td><td>2025-06-13T04:26:01.358334</td></tr><tr><td>512710</td><td>Call of Duty: Warzone</td><td>https://static-cdn.jtvnw.net/ttv-boxart/512710-{width}x{height}.jpg</td><td>131800</td><td>2025-06-13T04:26:01.358334</td></tr><tr><td>982348888</td><td>Elden Ring: Nightreign</td><td>https://static-cdn.jtvnw.net/ttv-boxart/982348888_IGDB-{width}x{height}.jpg</td><td>325591</td><td>2025-06-13T04:26:01.358334</td></tr><tr><td>29595</td><td>Dota 2</td><td>https://static-cdn.jtvnw.net/ttv-boxart/29595-{width}x{height}.jpg</td><td></td><td>2025-06-13T04:26:01.358334</td></tr><tr><td>36799602</td><td>Clair Obscur: Expedition 33</td><td>https://static-cdn.jtvnw.net/ttv-boxart/36799602_IGDB-{width}x{height}.jpg</td><td>305152</td><td>2025-06-13T04:26:01.358334</td></tr><tr><td>1264310518</td><td>Marvel Rivals</td><td>https://static-cdn.jtvnw.net/ttv-boxart/1264310518_IGDB-{width}x{height}.jpg</td><td>294041</td><td>2025-06-13T04:26:01.358334</td></tr><tr><td>511224</td><td>Apex Legends</td><td>https://static-cdn.jtvnw.net/ttv-boxart/511224-{width}x{height}.jpg</td><td>114795</td><td>2025-06-13T04:26:01.358334</td></tr><tr><td>27471</td><td>Minecraft</td><td>https://static-cdn.jtvnw.net/ttv-boxart/27471_IGDB-{width}x{height}.jpg</td><td>135400</td><td>2025-06-13T04:26:01.358334</td></tr><tr><td>509659</td><td>ASMR</td><td>https://static-cdn.jtvnw.net/ttv-boxart/509659-{width}x{height}.jpg</td><td></td><td>2025-06-13T04:26:01.358334</td></tr><tr><td>21779</td><td>League of Legends</td><td>https://static-cdn.jtvnw.net/ttv-boxart/21779-{width}x{height}.jpg</td><td>115</td><td>2025-06-13T04:22:50.590949</td></tr><tr><td>32982</td><td>Grand Theft Auto V</td><td>https://static-cdn.jtvnw.net/ttv-boxart/32982_IGDB-{width}x{height}.jpg</td><td>1020</td><td>2025-06-13T04:22:50.590949</td></tr><tr><td>488820</td><td>Stranded Deep</td><td>https://static-cdn.jtvnw.net/ttv-boxart/488820_IGDB-{width}x{height}.jpg</td><td>8751</td><td>2025-06-13T04:22:50.590949</td></tr><tr><td>516575</td><td>VALORANT</td><td>https://static-cdn.jtvnw.net/ttv-boxart/516575-{width}x{height}.jpg</td><td>126459</td><td>2025-06-13T04:22:50.590949</td></tr><tr><td>460630</td><td>Tom Clancy's Rainbow Six Siege X</td><td>https://static-cdn.jtvnw.net/ttv-boxart/460630-{width}x{height}.jpg</td><td>7360</td><td>2025-06-13T04:22:50.590949</td></tr><tr><td>33214</td><td>Fortnite</td><td>https://static-cdn.jtvnw.net/ttv-boxart/33214-{width}x{height}.jpg</td><td>1905</td><td>2025-06-13T04:22:50.590949</td></tr><tr><td>32399</td><td>Counter-Strike</td><td>https://static-cdn.jtvnw.net/ttv-boxart/32399-{width}x{height}.jpg</td><td></td><td>2025-06-13T04:22:50.590949</td></tr><tr><td>1826300051</td><td>Mario Kart World</td><td>https://static-cdn.jtvnw.net/ttv-boxart/1826300051_IGDB-{width}x{height}.jpg</td><td>338067</td><td>2025-06-13T04:22:50.590949</td></tr><tr><td>1987896617</td><td>Dune: Awakening</td><td>https://static-cdn.jtvnw.net/ttv-boxart/1987896617_IGDB-{width}x{height}.jpg</td><td>214394</td><td>2025-06-13T04:22:50.590949</td></tr><tr><td>491487</td><td>Dead by Daylight</td><td>https://static-cdn.jtvnw.net/ttv-boxart/491487-{width}x{height}.jpg</td><td>18866</td><td>2025-06-13T04:22:50.590949</td></tr><tr><td>512710</td><td>Call of Duty: Warzone</td><td>https://static-cdn.jtvnw.net/ttv-boxart/512710-{width}x{height}.jpg</td><td>131800</td><td>2025-06-13T04:22:50.590949</td></tr><tr><td>982348888</td><td>Elden Ring: Nightreign</td><td>https://static-cdn.jtvnw.net/ttv-boxart/982348888_IGDB-{width}x{height}.jpg</td><td>325591</td><td>2025-06-13T04:22:50.590949</td></tr><tr><td>29595</td><td>Dota 2</td><td>https://static-cdn.jtvnw.net/ttv-boxart/29595-{width}x{height}.jpg</td><td></td><td>2025-06-13T04:22:50.590949</td></tr><tr><td>36799602</td><td>Clair Obscur: Expedition 33</td><td>https://static-cdn.jtvnw.net/ttv-boxart/36799602_IGDB-{width}x{height}.jpg</td><td>305152</td><td>2025-06-13T04:22:50.590949</td></tr><tr><td>1264310518</td><td>Marvel Rivals</td><td>https://static-cdn.jtvnw.net/ttv-boxart/1264310518_IGDB-{width}x{height}.jpg</td><td>294041</td><td>2025-06-13T04:22:50.590949</td></tr><tr><td>511224</td><td>Apex Legends</td><td>https://static-cdn.jtvnw.net/ttv-boxart/511224-{width}x{height}.jpg</td><td>114795</td><td>2025-06-13T04:22:50.590949</td></tr><tr><td>27471</td><td>Minecraft</td><td>https://static-cdn.jtvnw.net/ttv-boxart/27471_IGDB-{width}x{height}.jpg</td><td>135400</td><td>2025-06-13T04:22:50.590949</td></tr><tr><td>509659</td><td>ASMR</td><td>https://static-cdn.jtvnw.net/ttv-boxart/509659-{width}x{height}.jpg</td><td></td><td>2025-06-13T04:22:50.590949</td></tr><tr><td>32982</td><td>Grand Theft Auto V</td><td>https://static-cdn.jtvnw.net/ttv-boxart/32982_IGDB-{width}x{height}.jpg</td><td>1020</td><td>2025-06-13T04:03:43.648052</td></tr><tr><td>21779</td><td>League of Legends</td><td>https://static-cdn.jtvnw.net/ttv-boxart/21779-{width}x{height}.jpg</td><td>115</td><td>2025-06-13T04:03:43.648052</td></tr><tr><td>460630</td><td>Tom Clancy's Rainbow Six Siege X</td><td>https://static-cdn.jtvnw.net/ttv-boxart/460630-{width}x{height}.jpg</td><td>7360</td><td>2025-06-13T04:03:43.648052</td></tr><tr><td>488820</td><td>Stranded Deep</td><td>https://static-cdn.jtvnw.net/ttv-boxart/488820_IGDB-{width}x{height}.jpg</td><td>8751</td><td>2025-06-13T04:03:43.648052</td></tr><tr><td>516575</td><td>VALORANT</td><td>https://static-cdn.jtvnw.net/ttv-boxart/516575-{width}x{height}.jpg</td><td>126459</td><td>2025-06-13T04:03:43.648052</td></tr><tr><td>33214</td><td>Fortnite</td><td>https://static-cdn.jtvnw.net/ttv-boxart/33214-{width}x{height}.jpg</td><td>1905</td><td>2025-06-13T04:03:43.648052</td></tr><tr><td>32399</td><td>Counter-Strike</td><td>https://static-cdn.jtvnw.net/ttv-boxart/32399-{width}x{height}.jpg</td><td></td><td>2025-06-13T04:03:43.648052</td></tr><tr><td>1826300051</td><td>Mario Kart World</td><td>https://static-cdn.jtvnw.net/ttv-boxart/1826300051_IGDB-{width}x{height}.jpg</td><td>338067</td><td>2025-06-13T04:03:43.648052</td></tr><tr><td>982348888</td><td>Elden Ring: Nightreign</td><td>https://static-cdn.jtvnw.net/ttv-boxart/982348888_IGDB-{width}x{height}.jpg</td><td>325591</td><td>2025-06-13T04:03:43.648052</td></tr><tr><td>1987896617</td><td>Dune: Awakening</td><td>https://static-cdn.jtvnw.net/ttv-boxart/1987896617_IGDB-{width}x{height}.jpg</td><td>214394</td><td>2025-06-13T04:03:43.648052</td></tr><tr><td>491487</td><td>Dead by Daylight</td><td>https://static-cdn.jtvnw.net/ttv-boxart/491487-{width}x{height}.jpg</td><td>18866</td><td>2025-06-13T04:03:43.648052</td></tr><tr><td>512710</td><td>Call of Duty: Warzone</td><td>https://static-cdn.jtvnw.net/ttv-boxart/512710-{width}x{height}.jpg</td><td>131800</td><td>2025-06-13T04:03:43.648052</td></tr><tr><td>36799602</td><td>Clair Obscur: Expedition 33</td><td>https://static-cdn.jtvnw.net/ttv-boxart/36799602_IGDB-{width}x{height}.jpg</td><td>305152</td><td>2025-06-13T04:03:43.648052</td></tr><tr><td>29595</td><td>Dota 2</td><td>https://static-cdn.jtvnw.net/ttv-boxart/29595-{width}x{height}.jpg</td><td></td><td>2025-06-13T04:03:43.648052</td></tr><tr><td>1264310518</td><td>Marvel Rivals</td><td>https://static-cdn.jtvnw.net/ttv-boxart/1264310518_IGDB-{width}x{height}.jpg</td><td>294041</td><td>2025-06-13T04:03:43.648052</td></tr><tr><td>27471</td><td>Minecraft</td><td>https://static-cdn.jtvnw.net/ttv-boxart/27471_IGDB-{width}x{height}.jpg</td><td>135400</td><td>2025-06-13T04:03:43.648052</td></tr><tr><td>511224</td><td>Apex Legends</td><td>https://static-cdn.jtvnw.net/ttv-boxart/511224-{width}x{height}.jpg</td><td>114795</td><td>2025-06-13T04:03:43.648052</td></tr><tr><td>509659</td><td>ASMR</td><td>https://static-cdn.jtvnw.net/ttv-boxart/509659-{width}x{height}.jpg</td><td></td><td>2025-06-13T04:03:43.648052</td></tr><tr><td>21779</td><td>League of Legends</td><td>https://static-cdn.jtvnw.net/ttv-boxart/21779-{width}x{height}.jpg</td><td>115</td><td>2025-06-13T04:12:11.207826</td></tr><tr><td>32982</td><td>Grand Theft Auto V</td><td>https://static-cdn.jtvnw.net/ttv-boxart/32982_IGDB-{width}x{height}.jpg</td><td>1020</td><td>2025-06-13T04:12:11.207826</td></tr><tr><td>460630</td><td>Tom Clancy's Rainbow Six Siege X</td><td>https://static-cdn.jtvnw.net/ttv-boxart/460630-{width}x{height}.jpg</td><td>7360</td><td>2025-06-13T04:12:11.207826</td></tr><tr><td>488820</td><td>Stranded Deep</td><td>https://static-cdn.jtvnw.net/ttv-boxart/488820_IGDB-{width}x{height}.jpg</td><td>8751</td><td>2025-06-13T04:12:11.207826</td></tr><tr><td>516575</td><td>VALORANT</td><td>https://static-cdn.jtvnw.net/ttv-boxart/516575-{width}x{height}.jpg</td><td>126459</td><td>2025-06-13T04:12:11.207826</td></tr><tr><td>33214</td><td>Fortnite</td><td>https://static-cdn.jtvnw.net/ttv-boxart/33214-{width}x{height}.jpg</td><td>1905</td><td>2025-06-13T04:12:11.207826</td></tr><tr><td>1826300051</td><td>Mario Kart World</td><td>https://static-cdn.jtvnw.net/ttv-boxart/1826300051_IGDB-{width}x{height}.jpg</td><td>338067</td><td>2025-06-13T04:12:11.207826</td></tr><tr><td>32399</td><td>Counter-Strike</td><td>https://static-cdn.jtvnw.net/ttv-boxart/32399-{width}x{height}.jpg</td><td></td><td>2025-06-13T04:12:11.207826</td></tr><tr><td>982348888</td><td>Elden Ring: Nightreign</td><td>https://static-cdn.jtvnw.net/ttv-boxart/982348888_IGDB-{width}x{height}.jpg</td><td>325591</td><td>2025-06-13T04:12:11.207826</td></tr><tr><td>1987896617</td><td>Dune: Awakening</td><td>https://static-cdn.jtvnw.net/ttv-boxart/1987896617_IGDB-{width}x{height}.jpg</td><td>214394</td><td>2025-06-13T04:12:11.207826</td></tr><tr><td>491487</td><td>Dead by Daylight</td><td>https://static-cdn.jtvnw.net/ttv-boxart/491487-{width}x{height}.jpg</td><td>18866</td><td>2025-06-13T04:12:11.207826</td></tr><tr><td>512710</td><td>Call of Duty: Warzone</td><td>https://static-cdn.jtvnw.net/ttv-boxart/512710-{width}x{height}.jpg</td><td>131800</td><td>2025-06-13T04:12:11.207826</td></tr><tr><td>36799602</td><td>Clair Obscur: Expedition 33</td><td>https://static-cdn.jtvnw.net/ttv-boxart/36799602_IGDB-{width}x{height}.jpg</td><td>305152</td><td>2025-06-13T04:12:11.207826</td></tr><tr><td>1264310518</td><td>Marvel Rivals</td><td>https://static-cdn.jtvnw.net/ttv-boxart/1264310518_IGDB-{width}x{height}.jpg</td><td>294041</td><td>2025-06-13T04:12:11.207826</td></tr><tr><td>29595</td><td>Dota 2</td><td>https://static-cdn.jtvnw.net/ttv-boxart/29595-{width}x{height}.jpg</td><td></td><td>2025-06-13T04:12:11.207826</td></tr><tr><td>511224</td><td>Apex Legends</td><td>https://static-cdn.jtvnw.net/ttv-boxart/511224-{width}x{height}.jpg</td><td>114795</td><td>2025-06-13T04:12:11.207826</td></tr><tr><td>27471</td><td>Minecraft</td><td>https://static-cdn.jtvnw.net/ttv-boxart/27471_IGDB-{width}x{height}.jpg</td><td>135400</td><td>2025-06-13T04:12:11.207826</td></tr><tr><td>509659</td><td>ASMR</td><td>https://static-cdn.jtvnw.net/ttv-boxart/509659-{width}x{height}.jpg</td><td></td><td>2025-06-13T04:12:11.207826</td></tr><tr><td>21779</td><td>League of Legends</td><td>https://static-cdn.jtvnw.net/ttv-boxart/21779-{width}x{height}.jpg</td><td>115</td><td>2025-06-13T04:19:38.005836</td></tr><tr><td>488820</td><td>Stranded Deep</td><td>https://static-cdn.jtvnw.net/ttv-boxart/488820_IGDB-{width}x{height}.jpg</td><td>8751</td><td>2025-06-13T04:19:38.005836</td></tr><tr><td>32982</td><td>Grand Theft Auto V</td><td>https://static-cdn.jtvnw.net/ttv-boxart/32982_IGDB-{width}x{height}.jpg</td><td>1020</td><td>2025-06-13T04:19:38.005836</td></tr><tr><td>516575</td><td>VALORANT</td><td>https://static-cdn.jtvnw.net/ttv-boxart/516575-{width}x{height}.jpg</td><td>126459</td><td>2025-06-13T04:19:38.005836</td></tr><tr><td>460630</td><td>Tom Clancy's Rainbow Six Siege X</td><td>https://static-cdn.jtvnw.net/ttv-boxart/460630-{width}x{height}.jpg</td><td>7360</td><td>2025-06-13T04:19:38.005836</td></tr><tr><td>33214</td><td>Fortnite</td><td>https://static-cdn.jtvnw.net/ttv-boxart/33214-{width}x{height}.jpg</td><td>1905</td><td>2025-06-13T04:19:38.005836</td></tr><tr><td>32399</td><td>Counter-Strike</td><td>https://static-cdn.jtvnw.net/ttv-boxart/32399-{width}x{height}.jpg</td><td></td><td>2025-06-13T04:19:38.005836</td></tr><tr><td>1826300051</td><td>Mario Kart World</td><td>https://static-cdn.jtvnw.net/ttv-boxart/1826300051_IGDB-{width}x{height}.jpg</td><td>338067</td><td>2025-06-13T04:19:38.005836</td></tr><tr><td>1987896617</td><td>Dune: Awakening</td><td>https://static-cdn.jtvnw.net/ttv-boxart/1987896617_IGDB-{width}x{height}.jpg</td><td>214394</td><td>2025-06-13T04:19:38.005836</td></tr><tr><td>512710</td><td>Call of Duty: Warzone</td><td>https://static-cdn.jtvnw.net/ttv-boxart/512710-{width}x{height}.jpg</td><td>131800</td><td>2025-06-13T04:19:38.005836</td></tr><tr><td>491487</td><td>Dead by Daylight</td><td>https://static-cdn.jtvnw.net/ttv-boxart/491487-{width}x{height}.jpg</td><td>18866</td><td>2025-06-13T04:19:38.005836</td></tr><tr><td>982348888</td><td>Elden Ring: Nightreign</td><td>https://static-cdn.jtvnw.net/ttv-boxart/982348888_IGDB-{width}x{height}.jpg</td><td>325591</td><td>2025-06-13T04:19:38.005836</td></tr><tr><td>36799602</td><td>Clair Obscur: Expedition 33</td><td>https://static-cdn.jtvnw.net/ttv-boxart/36799602_IGDB-{width}x{height}.jpg</td><td>305152</td><td>2025-06-13T04:19:38.005836</td></tr><tr><td>1264310518</td><td>Marvel Rivals</td><td>https://static-cdn.jtvnw.net/ttv-boxart/1264310518_IGDB-{width}x{height}.jpg</td><td>294041</td><td>2025-06-13T04:19:38.005836</td></tr><tr><td>29595</td><td>Dota 2</td><td>https://static-cdn.jtvnw.net/ttv-boxart/29595-{width}x{height}.jpg</td><td></td><td>2025-06-13T04:19:38.005836</td></tr><tr><td>511224</td><td>Apex Legends</td><td>https://static-cdn.jtvnw.net/ttv-boxart/511224-{width}x{height}.jpg</td><td>114795</td><td>2025-06-13T04:19:38.005836</td></tr><tr><td>27471</td><td>Minecraft</td><td>https://static-cdn.jtvnw.net/ttv-boxart/27471_IGDB-{width}x{height}.jpg</td><td>135400</td><td>2025-06-13T04:19:38.005836</td></tr><tr><td>509659</td><td>ASMR</td><td>https://static-cdn.jtvnw.net/ttv-boxart/509659-{width}x{height}.jpg</td><td></td><td>2025-06-13T04:19:38.005836</td></tr><tr><td>21779</td><td>League of Legends</td><td>https://static-cdn.jtvnw.net/ttv-boxart/21779-{width}x{height}.jpg</td><td>115</td><td>2025-06-13T04:13:14.878744</td></tr><tr><td>32982</td><td>Grand Theft Auto V</td><td>https://static-cdn.jtvnw.net/ttv-boxart/32982_IGDB-{width}x{height}.jpg</td><td>1020</td><td>2025-06-13T04:13:14.878744</td></tr><tr><td>460630</td><td>Tom Clancy's Rainbow Six Siege X</td><td>https://static-cdn.jtvnw.net/ttv-boxart/460630-{width}x{height}.jpg</td><td>7360</td><td>2025-06-13T04:13:14.878744</td></tr><tr><td>488820</td><td>Stranded Deep</td><td>https://static-cdn.jtvnw.net/ttv-boxart/488820_IGDB-{width}x{height}.jpg</td><td>8751</td><td>2025-06-13T04:13:14.878744</td></tr><tr><td>516575</td><td>VALORANT</td><td>https://static-cdn.jtvnw.net/ttv-boxart/516575-{width}x{height}.jpg</td><td>126459</td><td>2025-06-13T04:13:14.878744</td></tr><tr><td>33214</td><td>Fortnite</td><td>https://static-cdn.jtvnw.net/ttv-boxart/33214-{width}x{height}.jpg</td><td>1905</td><td>2025-06-13T04:13:14.878744</td></tr><tr><td>1826300051</td><td>Mario Kart World</td><td>https://static-cdn.jtvnw.net/ttv-boxart/1826300051_IGDB-{width}x{height}.jpg</td><td>338067</td><td>2025-06-13T04:13:14.878744</td></tr><tr><td>32399</td><td>Counter-Strike</td><td>https://static-cdn.jtvnw.net/ttv-boxart/32399-{width}x{height}.jpg</td><td></td><td>2025-06-13T04:13:14.878744</td></tr><tr><td>982348888</td><td>Elden Ring: Nightreign</td><td>https://static-cdn.jtvnw.net/ttv-boxart/982348888_IGDB-{width}x{height}.jpg</td><td>325591</td><td>2025-06-13T04:13:14.878744</td></tr><tr><td>1987896617</td><td>Dune: Awakening</td><td>https://static-cdn.jtvnw.net/ttv-boxart/1987896617_IGDB-{width}x{height}.jpg</td><td>214394</td><td>2025-06-13T04:13:14.878744</td></tr><tr><td>512710</td><td>Call of Duty: Warzone</td><td>https://static-cdn.jtvnw.net/ttv-boxart/512710-{width}x{height}.jpg</td><td>131800</td><td>2025-06-13T04:13:14.878744</td></tr><tr><td>491487</td><td>Dead by Daylight</td><td>https://static-cdn.jtvnw.net/ttv-boxart/491487-{width}x{height}.jpg</td><td>18866</td><td>2025-06-13T04:13:14.878744</td></tr><tr><td>36799602</td><td>Clair Obscur: Expedition 33</td><td>https://static-cdn.jtvnw.net/ttv-boxart/36799602_IGDB-{width}x{height}.jpg</td><td>305152</td><td>2025-06-13T04:13:14.878744</td></tr><tr><td>1264310518</td><td>Marvel Rivals</td><td>https://static-cdn.jtvnw.net/ttv-boxart/1264310518_IGDB-{width}x{height}.jpg</td><td>294041</td><td>2025-06-13T04:13:14.878744</td></tr><tr><td>29595</td><td>Dota 2</td><td>https://static-cdn.jtvnw.net/ttv-boxart/29595-{width}x{height}.jpg</td><td></td><td>2025-06-13T04:13:14.878744</td></tr><tr><td>511224</td><td>Apex Legends</td><td>https://static-cdn.jtvnw.net/ttv-boxart/511224-{width}x{height}.jpg</td><td>114795</td><td>2025-06-13T04:13:14.878744</td></tr><tr><td>27471</td><td>Minecraft</td><td>https://static-cdn.jtvnw.net/ttv-boxart/27471_IGDB-{width}x{height}.jpg</td><td>135400</td><td>2025-06-13T04:13:14.878744</td></tr><tr><td>509659</td><td>ASMR</td><td>https://static-cdn.jtvnw.net/ttv-boxart/509659-{width}x{height}.jpg</td><td></td><td>2025-06-13T04:13:14.878744</td></tr><tr><td>21779</td><td>League of Legends</td><td>https://static-cdn.jtvnw.net/ttv-boxart/21779-{width}x{height}.jpg</td><td>115</td><td>2025-06-13T04:18:34.136917</td></tr><tr><td>32982</td><td>Grand Theft Auto V</td><td>https://static-cdn.jtvnw.net/ttv-boxart/32982_IGDB-{width}x{height}.jpg</td><td>1020</td><td>2025-06-13T04:18:34.136917</td></tr><tr><td>488820</td><td>Stranded Deep</td><td>https://static-cdn.jtvnw.net/ttv-boxart/488820_IGDB-{width}x{height}.jpg</td><td>8751</td><td>2025-06-13T04:18:34.136917</td></tr><tr><td>516575</td><td>VALORANT</td><td>https://static-cdn.jtvnw.net/ttv-boxart/516575-{width}x{height}.jpg</td><td>126459</td><td>2025-06-13T04:18:34.136917</td></tr><tr><td>460630</td><td>Tom Clancy's Rainbow Six Siege X</td><td>https://static-cdn.jtvnw.net/ttv-boxart/460630-{width}x{height}.jpg</td><td>7360</td><td>2025-06-13T04:18:34.136917</td></tr><tr><td>33214</td><td>Fortnite</td><td>https://static-cdn.jtvnw.net/ttv-boxart/33214-{width}x{height}.jpg</td><td>1905</td><td>2025-06-13T04:18:34.136917</td></tr><tr><td>32399</td><td>Counter-Strike</td><td>https://static-cdn.jtvnw.net/ttv-boxart/32399-{width}x{height}.jpg</td><td></td><td>2025-06-13T04:18:34.136917</td></tr><tr><td>1826300051</td><td>Mario Kart World</td><td>https://static-cdn.jtvnw.net/ttv-boxart/1826300051_IGDB-{width}x{height}.jpg</td><td>338067</td><td>2025-06-13T04:18:34.136917</td></tr><tr><td>1987896617</td><td>Dune: Awakening</td><td>https://static-cdn.jtvnw.net/ttv-boxart/1987896617_IGDB-{width}x{height}.jpg</td><td>214394</td><td>2025-06-13T04:18:34.136917</td></tr><tr><td>491487</td><td>Dead by Daylight</td><td>https://static-cdn.jtvnw.net/ttv-boxart/491487-{width}x{height}.jpg</td><td>18866</td><td>2025-06-13T04:18:34.136917</td></tr><tr><td>512710</td><td>Call of Duty: Warzone</td><td>https://static-cdn.jtvnw.net/ttv-boxart/512710-{width}x{height}.jpg</td><td>131800</td><td>2025-06-13T04:18:34.136917</td></tr><tr><td>982348888</td><td>Elden Ring: Nightreign</td><td>https://static-cdn.jtvnw.net/ttv-boxart/982348888_IGDB-{width}x{height}.jpg</td><td>325591</td><td>2025-06-13T04:18:34.136917</td></tr><tr><td>36799602</td><td>Clair Obscur: Expedition 33</td><td>https://static-cdn.jtvnw.net/ttv-boxart/36799602_IGDB-{width}x{height}.jpg</td><td>305152</td><td>2025-06-13T04:18:34.136917</td></tr><tr><td>29595</td><td>Dota 2</td><td>https://static-cdn.jtvnw.net/ttv-boxart/29595-{width}x{height}.jpg</td><td></td><td>2025-06-13T04:18:34.136917</td></tr><tr><td>1264310518</td><td>Marvel Rivals</td><td>https://static-cdn.jtvnw.net/ttv-boxart/1264310518_IGDB-{width}x{height}.jpg</td><td>294041</td><td>2025-06-13T04:18:34.136917</td></tr><tr><td>511224</td><td>Apex Legends</td><td>https://static-cdn.jtvnw.net/ttv-boxart/511224-{width}x{height}.jpg</td><td>114795</td><td>2025-06-13T04:18:34.136917</td></tr><tr><td>27471</td><td>Minecraft</td><td>https://static-cdn.jtvnw.net/ttv-boxart/27471_IGDB-{width}x{height}.jpg</td><td>135400</td><td>2025-06-13T04:18:34.136917</td></tr><tr><td>509659</td><td>ASMR</td><td>https://static-cdn.jtvnw.net/ttv-boxart/509659-{width}x{height}.jpg</td><td></td><td>2025-06-13T04:18:34.136917</td></tr><tr><td>21779</td><td>League of Legends</td><td>https://static-cdn.jtvnw.net/ttv-boxart/21779-{width}x{height}.jpg</td><td>115</td><td>2025-06-13T04:15:23.021885</td></tr><tr><td>32982</td><td>Grand Theft Auto V</td><td>https://static-cdn.jtvnw.net/ttv-boxart/32982_IGDB-{width}x{height}.jpg</td><td>1020</td><td>2025-06-13T04:15:23.021885</td></tr><tr><td>488820</td><td>Stranded Deep</td><td>https://static-cdn.jtvnw.net/ttv-boxart/488820_IGDB-{width}x{height}.jpg</td><td>8751</td><td>2025-06-13T04:15:23.021885</td></tr><tr><td>516575</td><td>VALORANT</td><td>https://static-cdn.jtvnw.net/ttv-boxart/516575-{width}x{height}.jpg</td><td>126459</td><td>2025-06-13T04:15:23.021885</td></tr><tr><td>460630</td><td>Tom Clancy's Rainbow Six Siege X</td><td>https://static-cdn.jtvnw.net/ttv-boxart/460630-{width}x{height}.jpg</td><td>7360</td><td>2025-06-13T04:15:23.021885</td></tr><tr><td>33214</td><td>Fortnite</td><td>https://static-cdn.jtvnw.net/ttv-boxart/33214-{width}x{height}.jpg</td><td>1905</td><td>2025-06-13T04:15:23.021885</td></tr><tr><td>1826300051</td><td>Mario Kart World</td><td>https://static-cdn.jtvnw.net/ttv-boxart/1826300051_IGDB-{width}x{height}.jpg</td><td>338067</td><td>2025-06-13T04:15:23.021885</td></tr><tr><td>32399</td><td>Counter-Strike</td><td>https://static-cdn.jtvnw.net/ttv-boxart/32399-{width}x{height}.jpg</td><td></td><td>2025-06-13T04:15:23.021885</td></tr><tr><td>982348888</td><td>Elden Ring: Nightreign</td><td>https://static-cdn.jtvnw.net/ttv-boxart/982348888_IGDB-{width}x{height}.jpg</td><td>325591</td><td>2025-06-13T04:15:23.021885</td></tr><tr><td>1987896617</td><td>Dune: Awakening</td><td>https://static-cdn.jtvnw.net/ttv-boxart/1987896617_IGDB-{width}x{height}.jpg</td><td>214394</td><td>2025-06-13T04:15:23.021885</td></tr><tr><td>512710</td><td>Call of Duty: Warzone</td><td>https://static-cdn.jtvnw.net/ttv-boxart/512710-{width}x{height}.jpg</td><td>131800</td><td>2025-06-13T04:15:23.021885</td></tr><tr><td>491487</td><td>Dead by Daylight</td><td>https://static-cdn.jtvnw.net/ttv-boxart/491487-{width}x{height}.jpg</td><td>18866</td><td>2025-06-13T04:15:23.021885</td></tr><tr><td>36799602</td><td>Clair Obscur: Expedition 33</td><td>https://static-cdn.jtvnw.net/ttv-boxart/36799602_IGDB-{width}x{height}.jpg</td><td>305152</td><td>2025-06-13T04:15:23.021885</td></tr><tr><td>1264310518</td><td>Marvel Rivals</td><td>https://static-cdn.jtvnw.net/ttv-boxart/1264310518_IGDB-{width}x{height}.jpg</td><td>294041</td><td>2025-06-13T04:15:23.021885</td></tr><tr><td>29595</td><td>Dota 2</td><td>https://static-cdn.jtvnw.net/ttv-boxart/29595-{width}x{height}.jpg</td><td></td><td>2025-06-13T04:15:23.021885</td></tr><tr><td>511224</td><td>Apex Legends</td><td>https://static-cdn.jtvnw.net/ttv-boxart/511224-{width}x{height}.jpg</td><td>114795</td><td>2025-06-13T04:15:23.021885</td></tr><tr><td>27471</td><td>Minecraft</td><td>https://static-cdn.jtvnw.net/ttv-boxart/27471_IGDB-{width}x{height}.jpg</td><td>135400</td><td>2025-06-13T04:15:23.021885</td></tr><tr><td>509659</td><td>ASMR</td><td>https://static-cdn.jtvnw.net/ttv-boxart/509659-{width}x{height}.jpg</td><td></td><td>2025-06-13T04:15:23.021885</td></tr><tr><td>21779</td><td>League of Legends</td><td>https://static-cdn.jtvnw.net/ttv-boxart/21779-{width}x{height}.jpg</td><td>115</td><td>2025-06-13T04:16:26.568917</td></tr><tr><td>32982</td><td>Grand Theft Auto V</td><td>https://static-cdn.jtvnw.net/ttv-boxart/32982_IGDB-{width}x{height}.jpg</td><td>1020</td><td>2025-06-13T04:16:26.568917</td></tr><tr><td>488820</td><td>Stranded Deep</td><td>https://static-cdn.jtvnw.net/ttv-boxart/488820_IGDB-{width}x{height}.jpg</td><td>8751</td><td>2025-06-13T04:16:26.568917</td></tr><tr><td>516575</td><td>VALORANT</td><td>https://static-cdn.jtvnw.net/ttv-boxart/516575-{width}x{height}.jpg</td><td>126459</td><td>2025-06-13T04:16:26.568917</td></tr><tr><td>460630</td><td>Tom Clancy's Rainbow Six Siege X</td><td>https://static-cdn.jtvnw.net/ttv-boxart/460630-{width}x{height}.jpg</td><td>7360</td><td>2025-06-13T04:16:26.568917</td></tr><tr><td>33214</td><td>Fortnite</td><td>https://static-cdn.jtvnw.net/ttv-boxart/33214-{width}x{height}.jpg</td><td>1905</td><td>2025-06-13T04:16:26.568917</td></tr><tr><td>32399</td><td>Counter-Strike</td><td>https://static-cdn.jtvnw.net/ttv-boxart/32399-{width}x{height}.jpg</td><td></td><td>2025-06-13T04:16:26.568917</td></tr><tr><td>1826300051</td><td>Mario Kart World</td><td>https://static-cdn.jtvnw.net/ttv-boxart/1826300051_IGDB-{width}x{height}.jpg</td><td>338067</td><td>2025-06-13T04:16:26.568917</td></tr><tr><td>982348888</td><td>Elden Ring: Nightreign</td><td>https://static-cdn.jtvnw.net/ttv-boxart/982348888_IGDB-{width}x{height}.jpg</td><td>325591</td><td>2025-06-13T04:16:26.568917</td></tr><tr><td>1987896617</td><td>Dune: Awakening</td><td>https://static-cdn.jtvnw.net/ttv-boxart/1987896617_IGDB-{width}x{height}.jpg</td><td>214394</td><td>2025-06-13T04:16:26.568917</td></tr><tr><td>512710</td><td>Call of Duty: Warzone</td><td>https://static-cdn.jtvnw.net/ttv-boxart/512710-{width}x{height}.jpg</td><td>131800</td><td>2025-06-13T04:16:26.568917</td></tr><tr><td>491487</td><td>Dead by Daylight</td><td>https://static-cdn.jtvnw.net/ttv-boxart/491487-{width}x{height}.jpg</td><td>18866</td><td>2025-06-13T04:16:26.568917</td></tr><tr><td>36799602</td><td>Clair Obscur: Expedition 33</td><td>https://static-cdn.jtvnw.net/ttv-boxart/36799602_IGDB-{width}x{height}.jpg</td><td>305152</td><td>2025-06-13T04:16:26.568917</td></tr><tr><td>29595</td><td>Dota 2</td><td>https://static-cdn.jtvnw.net/ttv-boxart/29595-{width}x{height}.jpg</td><td></td><td>2025-06-13T04:16:26.568917</td></tr><tr><td>1264310518</td><td>Marvel Rivals</td><td>https://static-cdn.jtvnw.net/ttv-boxart/1264310518_IGDB-{width}x{height}.jpg</td><td>294041</td><td>2025-06-13T04:16:26.568917</td></tr><tr><td>511224</td><td>Apex Legends</td><td>https://static-cdn.jtvnw.net/ttv-boxart/511224-{width}x{height}.jpg</td><td>114795</td><td>2025-06-13T04:16:26.568917</td></tr><tr><td>27471</td><td>Minecraft</td><td>https://static-cdn.jtvnw.net/ttv-boxart/27471_IGDB-{width}x{height}.jpg</td><td>135400</td><td>2025-06-13T04:16:26.568917</td></tr><tr><td>509659</td><td>ASMR</td><td>https://static-cdn.jtvnw.net/ttv-boxart/509659-{width}x{height}.jpg</td><td></td><td>2025-06-13T04:16:26.568917</td></tr><tr><td>21779</td><td>League of Legends</td><td>https://static-cdn.jtvnw.net/ttv-boxart/21779-{width}x{height}.jpg</td><td>115</td><td>2025-06-13T04:17:31.110012</td></tr><tr><td>32982</td><td>Grand Theft Auto V</td><td>https://static-cdn.jtvnw.net/ttv-boxart/32982_IGDB-{width}x{height}.jpg</td><td>1020</td><td>2025-06-13T04:17:31.110012</td></tr><tr><td>488820</td><td>Stranded Deep</td><td>https://static-cdn.jtvnw.net/ttv-boxart/488820_IGDB-{width}x{height}.jpg</td><td>8751</td><td>2025-06-13T04:17:31.110012</td></tr><tr><td>516575</td><td>VALORANT</td><td>https://static-cdn.jtvnw.net/ttv-boxart/516575-{width}x{height}.jpg</td><td>126459</td><td>2025-06-13T04:17:31.110012</td></tr><tr><td>460630</td><td>Tom Clancy's Rainbow Six Siege X</td><td>https://static-cdn.jtvnw.net/ttv-boxart/460630-{width}x{height}.jpg</td><td>7360</td><td>2025-06-13T04:17:31.110012</td></tr><tr><td>33214</td><td>Fortnite</td><td>https://static-cdn.jtvnw.net/ttv-boxart/33214-{width}x{height}.jpg</td><td>1905</td><td>2025-06-13T04:17:31.110012</td></tr><tr><td>32399</td><td>Counter-Strike</td><td>https://static-cdn.jtvnw.net/ttv-boxart/32399-{width}x{height}.jpg</td><td></td><td>2025-06-13T04:17:31.110012</td></tr><tr><td>1826300051</td><td>Mario Kart World</td><td>https://static-cdn.jtvnw.net/ttv-boxart/1826300051_IGDB-{width}x{height}.jpg</td><td>338067</td><td>2025-06-13T04:17:31.110012</td></tr><tr><td>982348888</td><td>Elden Ring: Nightreign</td><td>https://static-cdn.jtvnw.net/ttv-boxart/982348888_IGDB-{width}x{height}.jpg</td><td>325591</td><td>2025-06-13T04:17:31.110012</td></tr><tr><td>1987896617</td><td>Dune: Awakening</td><td>https://static-cdn.jtvnw.net/ttv-boxart/1987896617_IGDB-{width}x{height}.jpg</td><td>214394</td><td>2025-06-13T04:17:31.110012</td></tr><tr><td>512710</td><td>Call of Duty: Warzone</td><td>https://static-cdn.jtvnw.net/ttv-boxart/512710-{width}x{height}.jpg</td><td>131800</td><td>2025-06-13T04:17:31.110012</td></tr><tr><td>491487</td><td>Dead by Daylight</td><td>https://static-cdn.jtvnw.net/ttv-boxart/491487-{width}x{height}.jpg</td><td>18866</td><td>2025-06-13T04:17:31.110012</td></tr><tr><td>36799602</td><td>Clair Obscur: Expedition 33</td><td>https://static-cdn.jtvnw.net/ttv-boxart/36799602_IGDB-{width}x{height}.jpg</td><td>305152</td><td>2025-06-13T04:17:31.110012</td></tr><tr><td>29595</td><td>Dota 2</td><td>https://static-cdn.jtvnw.net/ttv-boxart/29595-{width}x{height}.jpg</td><td></td><td>2025-06-13T04:17:31.110012</td></tr><tr><td>1264310518</td><td>Marvel Rivals</td><td>https://static-cdn.jtvnw.net/ttv-boxart/1264310518_IGDB-{width}x{height}.jpg</td><td>294041</td><td>2025-06-13T04:17:31.110012</td></tr><tr><td>511224</td><td>Apex Legends</td><td>https://static-cdn.jtvnw.net/ttv-boxart/511224-{width}x{height}.jpg</td><td>114795</td><td>2025-06-13T04:17:31.110012</td></tr><tr><td>27471</td><td>Minecraft</td><td>https://static-cdn.jtvnw.net/ttv-boxart/27471_IGDB-{width}x{height}.jpg</td><td>135400</td><td>2025-06-13T04:17:31.110012</td></tr><tr><td>509659</td><td>ASMR</td><td>https://static-cdn.jtvnw.net/ttv-boxart/509659-{width}x{height}.jpg</td><td></td><td>2025-06-13T04:17:31.110012</td></tr><tr><td>21779</td><td>League of Legends</td><td>https://static-cdn.jtvnw.net/ttv-boxart/21779-{width}x{height}.jpg</td><td>115</td><td>2025-06-13T04:27:04.145185</td></tr><tr><td>32982</td><td>Grand Theft Auto V</td><td>https://static-cdn.jtvnw.net/ttv-boxart/32982_IGDB-{width}x{height}.jpg</td><td>1020</td><td>2025-06-13T04:27:04.145185</td></tr><tr><td>488820</td><td>Stranded Deep</td><td>https://static-cdn.jtvnw.net/ttv-boxart/488820_IGDB-{width}x{height}.jpg</td><td>8751</td><td>2025-06-13T04:27:04.145185</td></tr><tr><td>516575</td><td>VALORANT</td><td>https://static-cdn.jtvnw.net/ttv-boxart/516575-{width}x{height}.jpg</td><td>126459</td><td>2025-06-13T04:27:04.145185</td></tr><tr><td>460630</td><td>Tom Clancy's Rainbow Six Siege X</td><td>https://static-cdn.jtvnw.net/ttv-boxart/460630-{width}x{height}.jpg</td><td>7360</td><td>2025-06-13T04:27:04.145185</td></tr><tr><td>33214</td><td>Fortnite</td><td>https://static-cdn.jtvnw.net/ttv-boxart/33214-{width}x{height}.jpg</td><td>1905</td><td>2025-06-13T04:27:04.145185</td></tr><tr><td>32399</td><td>Counter-Strike</td><td>https://static-cdn.jtvnw.net/ttv-boxart/32399-{width}x{height}.jpg</td><td></td><td>2025-06-13T04:27:04.145185</td></tr><tr><td>1826300051</td><td>Mario Kart World</td><td>https://static-cdn.jtvnw.net/ttv-boxart/1826300051_IGDB-{width}x{height}.jpg</td><td>338067</td><td>2025-06-13T04:27:04.145185</td></tr><tr><td>1987896617</td><td>Dune: Awakening</td><td>https://static-cdn.jtvnw.net/ttv-boxart/1987896617_IGDB-{width}x{height}.jpg</td><td>214394</td><td>2025-06-13T04:27:04.145185</td></tr><tr><td>491487</td><td>Dead by Daylight</td><td>https://static-cdn.jtvnw.net/ttv-boxart/491487-{width}x{height}.jpg</td><td>18866</td><td>2025-06-13T04:27:04.145185</td></tr><tr><td>982348888</td><td>Elden Ring: Nightreign</td><td>https://static-cdn.jtvnw.net/ttv-boxart/982348888_IGDB-{width}x{height}.jpg</td><td>325591</td><td>2025-06-13T04:27:04.145185</td></tr><tr><td>512710</td><td>Call of Duty: Warzone</td><td>https://static-cdn.jtvnw.net/ttv-boxart/512710-{width}x{height}.jpg</td><td>131800</td><td>2025-06-13T04:27:04.145185</td></tr><tr><td>29595</td><td>Dota 2</td><td>https://static-cdn.jtvnw.net/ttv-boxart/29595-{width}x{height}.jpg</td><td></td><td>2025-06-13T04:27:04.145185</td></tr><tr><td>36799602</td><td>Clair Obscur: Expedition 33</td><td>https://static-cdn.jtvnw.net/ttv-boxart/36799602_IGDB-{width}x{height}.jpg</td><td>305152</td><td>2025-06-13T04:27:04.145185</td></tr><tr><td>1264310518</td><td>Marvel Rivals</td><td>https://static-cdn.jtvnw.net/ttv-boxart/1264310518_IGDB-{width}x{height}.jpg</td><td>294041</td><td>2025-06-13T04:27:04.145185</td></tr><tr><td>511224</td><td>Apex Legends</td><td>https://static-cdn.jtvnw.net/ttv-boxart/511224-{width}x{height}.jpg</td><td>114795</td><td>2025-06-13T04:27:04.145185</td></tr><tr><td>27471</td><td>Minecraft</td><td>https://static-cdn.jtvnw.net/ttv-boxart/27471_IGDB-{width}x{height}.jpg</td><td>135400</td><td>2025-06-13T04:27:04.145185</td></tr><tr><td>509659</td><td>ASMR</td><td>https://static-cdn.jtvnw.net/ttv-boxart/509659-{width}x{height}.jpg</td><td></td><td>2025-06-13T04:27:04.145185</td></tr><tr><td>21779</td><td>League of Legends</td><td>https://static-cdn.jtvnw.net/ttv-boxart/21779-{width}x{height}.jpg</td><td>115</td><td>2025-06-13T04:23:54.263951</td></tr><tr><td>32982</td><td>Grand Theft Auto V</td><td>https://static-cdn.jtvnw.net/ttv-boxart/32982_IGDB-{width}x{height}.jpg</td><td>1020</td><td>2025-06-13T04:23:54.263951</td></tr><tr><td>488820</td><td>Stranded Deep</td><td>https://static-cdn.jtvnw.net/ttv-boxart/488820_IGDB-{width}x{height}.jpg</td><td>8751</td><td>2025-06-13T04:23:54.263951</td></tr><tr><td>516575</td><td>VALORANT</td><td>https://static-cdn.jtvnw.net/ttv-boxart/516575-{width}x{height}.jpg</td><td>126459</td><td>2025-06-13T04:23:54.263951</td></tr><tr><td>460630</td><td>Tom Clancy's Rainbow Six Siege X</td><td>https://static-cdn.jtvnw.net/ttv-boxart/460630-{width}x{height}.jpg</td><td>7360</td><td>2025-06-13T04:23:54.263951</td></tr><tr><td>33214</td><td>Fortnite</td><td>https://static-cdn.jtvnw.net/ttv-boxart/33214-{width}x{height}.jpg</td><td>1905</td><td>2025-06-13T04:23:54.263951</td></tr><tr><td>32399</td><td>Counter-Strike</td><td>https://static-cdn.jtvnw.net/ttv-boxart/32399-{width}x{height}.jpg</td><td></td><td>2025-06-13T04:23:54.263951</td></tr><tr><td>1826300051</td><td>Mario Kart World</td><td>https://static-cdn.jtvnw.net/ttv-boxart/1826300051_IGDB-{width}x{height}.jpg</td><td>338067</td><td>2025-06-13T04:23:54.263951</td></tr><tr><td>1987896617</td><td>Dune: Awakening</td><td>https://static-cdn.jtvnw.net/ttv-boxart/1987896617_IGDB-{width}x{height}.jpg</td><td>214394</td><td>2025-06-13T04:23:54.263951</td></tr><tr><td>491487</td><td>Dead by Daylight</td><td>https://static-cdn.jtvnw.net/ttv-boxart/491487-{width}x{height}.jpg</td><td>18866</td><td>2025-06-13T04:23:54.263951</td></tr><tr><td>982348888</td><td>Elden Ring: Nightreign</td><td>https://static-cdn.jtvnw.net/ttv-boxart/982348888_IGDB-{width}x{height}.jpg</td><td>325591</td><td>2025-06-13T04:23:54.263951</td></tr><tr><td>512710</td><td>Call of Duty: Warzone</td><td>https://static-cdn.jtvnw.net/ttv-boxart/512710-{width}x{height}.jpg</td><td>131800</td><td>2025-06-13T04:23:54.263951</td></tr><tr><td>29595</td><td>Dota 2</td><td>https://static-cdn.jtvnw.net/ttv-boxart/29595-{width}x{height}.jpg</td><td></td><td>2025-06-13T04:23:54.263951</td></tr><tr><td>36799602</td><td>Clair Obscur: Expedition 33</td><td>https://static-cdn.jtvnw.net/ttv-boxart/36799602_IGDB-{width}x{height}.jpg</td><td>305152</td><td>2025-06-13T04:23:54.263951</td></tr><tr><td>1264310518</td><td>Marvel Rivals</td><td>https://static-cdn.jtvnw.net/ttv-boxart/1264310518_IGDB-{width}x{height}.jpg</td><td>294041</td><td>2025-06-13T04:23:54.263951</td></tr><tr><td>511224</td><td>Apex Legends</td><td>https://static-cdn.jtvnw.net/ttv-boxart/511224-{width}x{height}.jpg</td><td>114795</td><td>2025-06-13T04:23:54.263951</td></tr><tr><td>27471</td><td>Minecraft</td><td>https://static-cdn.jtvnw.net/ttv-boxart/27471_IGDB-{width}x{height}.jpg</td><td>135400</td><td>2025-06-13T04:23:54.263951</td></tr><tr><td>509659</td><td>ASMR</td><td>https://static-cdn.jtvnw.net/ttv-boxart/509659-{width}x{height}.jpg</td><td></td><td>2025-06-13T04:23:54.263951</td></tr><tr><td>32982</td><td>Grand Theft Auto V</td><td>https://static-cdn.jtvnw.net/ttv-boxart/32982_IGDB-{width}x{height}.jpg</td><td>1020</td><td>2025-06-13T03:48:44.768168</td></tr><tr><td>21779</td><td>League of Legends</td><td>https://static-cdn.jtvnw.net/ttv-boxart/21779-{width}x{height}.jpg</td><td>115</td><td>2025-06-13T03:48:44.768168</td></tr><tr><td>460630</td><td>Tom Clancy's Rainbow Six Siege X</td><td>https://static-cdn.jtvnw.net/ttv-boxart/460630-{width}x{height}.jpg</td><td>7360</td><td>2025-06-13T03:48:44.768168</td></tr><tr><td>33214</td><td>Fortnite</td><td>https://static-cdn.jtvnw.net/ttv-boxart/33214-{width}x{height}.jpg</td><td>1905</td><td>2025-06-13T03:48:44.768168</td></tr><tr><td>488820</td><td>Stranded Deep</td><td>https://static-cdn.jtvnw.net/ttv-boxart/488820_IGDB-{width}x{height}.jpg</td><td>8751</td><td>2025-06-13T03:48:44.768168</td></tr><tr><td>516575</td><td>VALORANT</td><td>https://static-cdn.jtvnw.net/ttv-boxart/516575-{width}x{height}.jpg</td><td>126459</td><td>2025-06-13T03:48:44.768168</td></tr><tr><td>1826300051</td><td>Mario Kart World</td><td>https://static-cdn.jtvnw.net/ttv-boxart/1826300051_IGDB-{width}x{height}.jpg</td><td>338067</td><td>2025-06-13T03:48:44.768168</td></tr><tr><td>32399</td><td>Counter-Strike</td><td>https://static-cdn.jtvnw.net/ttv-boxart/32399-{width}x{height}.jpg</td><td></td><td>2025-06-13T03:48:44.768168</td></tr><tr><td>1987896617</td><td>Dune: Awakening</td><td>https://static-cdn.jtvnw.net/ttv-boxart/1987896617_IGDB-{width}x{height}.jpg</td><td>214394</td><td>2025-06-13T03:48:44.768168</td></tr><tr><td>982348888</td><td>Elden Ring: Nightreign</td><td>https://static-cdn.jtvnw.net/ttv-boxart/982348888_IGDB-{width}x{height}.jpg</td><td>325591</td><td>2025-06-13T03:48:44.768168</td></tr><tr><td>512710</td><td>Call of Duty: Warzone</td><td>https://static-cdn.jtvnw.net/ttv-boxart/512710-{width}x{height}.jpg</td><td>131800</td><td>2025-06-13T03:48:44.768168</td></tr><tr><td>491487</td><td>Dead by Daylight</td><td>https://static-cdn.jtvnw.net/ttv-boxart/491487-{width}x{height}.jpg</td><td>18866</td><td>2025-06-13T03:48:44.768168</td></tr><tr><td>1264310518</td><td>Marvel Rivals</td><td>https://static-cdn.jtvnw.net/ttv-boxart/1264310518_IGDB-{width}x{height}.jpg</td><td>294041</td><td>2025-06-13T03:48:44.768168</td></tr><tr><td>29595</td><td>Dota 2</td><td>https://static-cdn.jtvnw.net/ttv-boxart/29595-{width}x{height}.jpg</td><td></td><td>2025-06-13T03:48:44.768168</td></tr><tr><td>27471</td><td>Minecraft</td><td>https://static-cdn.jtvnw.net/ttv-boxart/27471_IGDB-{width}x{height}.jpg</td><td>135400</td><td>2025-06-13T03:48:44.768168</td></tr><tr><td>511224</td><td>Apex Legends</td><td>https://static-cdn.jtvnw.net/ttv-boxart/511224-{width}x{height}.jpg</td><td>114795</td><td>2025-06-13T03:48:44.768168</td></tr><tr><td>509659</td><td>ASMR</td><td>https://static-cdn.jtvnw.net/ttv-boxart/509659-{width}x{height}.jpg</td><td></td><td>2025-06-13T03:48:44.768168</td></tr><tr><td>29307</td><td>Path of Exile</td><td>https://static-cdn.jtvnw.net/ttv-boxart/29307_IGDB-{width}x{height}.jpg</td><td>1911</td><td>2025-06-13T03:48:44.768168</td></tr><tr><td>32399</td><td>Counter-Strike</td><td>https://static-cdn.jtvnw.net/ttv-boxart/32399-{width}x{height}.jpg</td><td></td><td>2025-06-13T19:05:52.247308</td></tr><tr><td>516575</td><td>VALORANT</td><td>https://static-cdn.jtvnw.net/ttv-boxart/516575-{width}x{height}.jpg</td><td>126459</td><td>2025-06-13T19:05:52.247308</td></tr><tr><td>32982</td><td>Grand Theft Auto V</td><td>https://static-cdn.jtvnw.net/ttv-boxart/32982_IGDB-{width}x{height}.jpg</td><td>1020</td><td>2025-06-13T19:05:52.247308</td></tr><tr><td>29307</td><td>Path of Exile</td><td>https://static-cdn.jtvnw.net/ttv-boxart/29307_IGDB-{width}x{height}.jpg</td><td>1911</td><td>2025-06-13T19:05:52.247308</td></tr><tr><td>21779</td><td>League of Legends</td><td>https://static-cdn.jtvnw.net/ttv-boxart/21779-{width}x{height}.jpg</td><td>115</td><td>2025-06-13T19:05:52.247308</td></tr><tr><td>27471</td><td>Minecraft</td><td>https://static-cdn.jtvnw.net/ttv-boxart/27471_IGDB-{width}x{height}.jpg</td><td>135400</td><td>2025-06-13T19:05:52.247308</td></tr><tr><td>481086259</td><td>The Alters</td><td>https://static-cdn.jtvnw.net/ttv-boxart/481086259_IGDB-{width}x{height}.jpg</td><td>204634</td><td>2025-06-13T19:05:52.247308</td></tr><tr><td>33214</td><td>Fortnite</td><td>https://static-cdn.jtvnw.net/ttv-boxart/33214-{width}x{height}.jpg</td><td>1905</td><td>2025-06-13T19:05:52.247308</td></tr><tr><td>29595</td><td>Dota 2</td><td>https://static-cdn.jtvnw.net/ttv-boxart/29595-{width}x{height}.jpg</td><td></td><td>2025-06-13T19:05:52.247308</td></tr><tr><td>602694215</td><td>Five Nights at Freddy's: Secret of the Mimic</td><td>https://static-cdn.jtvnw.net/ttv-boxart/602694215_IGDB-{width}x{height}.jpg</td><td>312859</td><td>2025-06-13T19:05:52.247308</td></tr><tr><td>2011938005</td><td>EA Sports FC 25</td><td>https://static-cdn.jtvnw.net/ttv-boxart/2011938005_IGDB-{width}x{height}.jpg</td><td>308698</td><td>2025-06-13T19:05:52.247308</td></tr><tr><td>1987896617</td><td>Dune: Awakening</td><td>https://static-cdn.jtvnw.net/ttv-boxart/1987896617_IGDB-{width}x{height}.jpg</td><td>214394</td><td>2025-06-13T19:05:52.247308</td></tr><tr><td>460630</td><td>Tom Clancy's Rainbow Six Siege X</td><td>https://static-cdn.jtvnw.net/ttv-boxart/460630-{width}x{height}.jpg</td><td>7360</td><td>2025-06-13T19:05:52.247308</td></tr><tr><td>55453844</td><td>Street Fighter 6</td><td>https://static-cdn.jtvnw.net/ttv-boxart/55453844_IGDB-{width}x{height}.jpg</td><td>191692</td><td>2025-06-13T19:05:52.247308</td></tr><tr><td>512710</td><td>Call of Duty: Warzone</td><td>https://static-cdn.jtvnw.net/ttv-boxart/512710-{width}x{height}.jpg</td><td>131800</td><td>2025-06-13T19:05:52.247308</td></tr><tr><td>1133341572</td><td>The First Berserker: Khazan</td><td>https://static-cdn.jtvnw.net/ttv-boxart/1133341572_IGDB-{width}x{height}.jpg</td><td>279643</td><td>2025-06-13T19:05:52.247308</td></tr><tr><td>32399</td><td>Counter-Strike</td><td>https://static-cdn.jtvnw.net/ttv-boxart/32399-{width}x{height}.jpg</td><td></td><td>2025-06-13T19:02:45.524445</td></tr><tr><td>516575</td><td>VALORANT</td><td>https://static-cdn.jtvnw.net/ttv-boxart/516575-{width}x{height}.jpg</td><td>126459</td><td>2025-06-13T19:02:45.524445</td></tr><tr><td>32982</td><td>Grand Theft Auto V</td><td>https://static-cdn.jtvnw.net/ttv-boxart/32982_IGDB-{width}x{height}.jpg</td><td>1020</td><td>2025-06-13T19:02:45.524445</td></tr><tr><td>29307</td><td>Path of Exile</td><td>https://static-cdn.jtvnw.net/ttv-boxart/29307_IGDB-{width}x{height}.jpg</td><td>1911</td><td>2025-06-13T19:02:45.524445</td></tr><tr><td>21779</td><td>League of Legends</td><td>https://static-cdn.jtvnw.net/ttv-boxart/21779-{width}x{height}.jpg</td><td>115</td><td>2025-06-13T19:02:45.524445</td></tr><tr><td>27471</td><td>Minecraft</td><td>https://static-cdn.jtvnw.net/ttv-boxart/27471_IGDB-{width}x{height}.jpg</td><td>135400</td><td>2025-06-13T19:02:45.524445</td></tr><tr><td>481086259</td><td>The Alters</td><td>https://static-cdn.jtvnw.net/ttv-boxart/481086259_IGDB-{width}x{height}.jpg</td><td>204634</td><td>2025-06-13T19:02:45.524445</td></tr><tr><td>33214</td><td>Fortnite</td><td>https://static-cdn.jtvnw.net/ttv-boxart/33214-{width}x{height}.jpg</td><td>1905</td><td>2025-06-13T19:02:45.524445</td></tr><tr><td>29595</td><td>Dota 2</td><td>https://static-cdn.jtvnw.net/ttv-boxart/29595-{width}x{height}.jpg</td><td></td><td>2025-06-13T19:02:45.524445</td></tr><tr><td>602694215</td><td>Five Nights at Freddy's: Secret of the Mimic</td><td>https://static-cdn.jtvnw.net/ttv-boxart/602694215_IGDB-{width}x{height}.jpg</td><td>312859</td><td>2025-06-13T19:02:45.524445</td></tr><tr><td>2011938005</td><td>EA Sports FC 25</td><td>https://static-cdn.jtvnw.net/ttv-boxart/2011938005_IGDB-{width}x{height}.jpg</td><td>308698</td><td>2025-06-13T19:02:45.524445</td></tr><tr><td>1987896617</td><td>Dune: Awakening</td><td>https://static-cdn.jtvnw.net/ttv-boxart/1987896617_IGDB-{width}x{height}.jpg</td><td>214394</td><td>2025-06-13T19:02:45.524445</td></tr><tr><td>460630</td><td>Tom Clancy's Rainbow Six Siege X</td><td>https://static-cdn.jtvnw.net/ttv-boxart/460630-{width}x{height}.jpg</td><td>7360</td><td>2025-06-13T19:02:45.524445</td></tr><tr><td>55453844</td><td>Street Fighter 6</td><td>https://static-cdn.jtvnw.net/ttv-boxart/55453844_IGDB-{width}x{height}.jpg</td><td>191692</td><td>2025-06-13T19:02:45.524445</td></tr><tr><td>1133341572</td><td>The First Berserker: Khazan</td><td>https://static-cdn.jtvnw.net/ttv-boxart/1133341572_IGDB-{width}x{height}.jpg</td><td>279643</td><td>2025-06-13T19:02:45.524445</td></tr><tr><td>512710</td><td>Call of Duty: Warzone</td><td>https://static-cdn.jtvnw.net/ttv-boxart/512710-{width}x{height}.jpg</td><td>131800</td><td>2025-06-13T19:02:45.524445</td></tr><tr><td>32399</td><td>Counter-Strike</td><td>https://static-cdn.jtvnw.net/ttv-boxart/32399-{width}x{height}.jpg</td><td></td><td>2025-06-13T19:07:59.424560</td></tr><tr><td>516575</td><td>VALORANT</td><td>https://static-cdn.jtvnw.net/ttv-boxart/516575-{width}x{height}.jpg</td><td>126459</td><td>2025-06-13T19:07:59.424560</td></tr><tr><td>32982</td><td>Grand Theft Auto V</td><td>https://static-cdn.jtvnw.net/ttv-boxart/32982_IGDB-{width}x{height}.jpg</td><td>1020</td><td>2025-06-13T19:07:59.424560</td></tr><tr><td>29307</td><td>Path of Exile</td><td>https://static-cdn.jtvnw.net/ttv-boxart/29307_IGDB-{width}x{height}.jpg</td><td>1911</td><td>2025-06-13T19:07:59.424560</td></tr><tr><td>21779</td><td>League of Legends</td><td>https://static-cdn.jtvnw.net/ttv-boxart/21779-{width}x{height}.jpg</td><td>115</td><td>2025-06-13T19:07:59.424560</td></tr><tr><td>27471</td><td>Minecraft</td><td>https://static-cdn.jtvnw.net/ttv-boxart/27471_IGDB-{width}x{height}.jpg</td><td>135400</td><td>2025-06-13T19:07:59.424560</td></tr><tr><td>481086259</td><td>The Alters</td><td>https://static-cdn.jtvnw.net/ttv-boxart/481086259_IGDB-{width}x{height}.jpg</td><td>204634</td><td>2025-06-13T19:07:59.424560</td></tr><tr><td>33214</td><td>Fortnite</td><td>https://static-cdn.jtvnw.net/ttv-boxart/33214-{width}x{height}.jpg</td><td>1905</td><td>2025-06-13T19:07:59.424560</td></tr><tr><td>602694215</td><td>Five Nights at Freddy's: Secret of the Mimic</td><td>https://static-cdn.jtvnw.net/ttv-boxart/602694215_IGDB-{width}x{height}.jpg</td><td>312859</td><td>2025-06-13T19:07:59.424560</td></tr><tr><td>29595</td><td>Dota 2</td><td>https://static-cdn.jtvnw.net/ttv-boxart/29595-{width}x{height}.jpg</td><td></td><td>2025-06-13T19:07:59.424560</td></tr><tr><td>2011938005</td><td>EA Sports FC 25</td><td>https://static-cdn.jtvnw.net/ttv-boxart/2011938005_IGDB-{width}x{height}.jpg</td><td>308698</td><td>2025-06-13T19:07:59.424560</td></tr><tr><td>1987896617</td><td>Dune: Awakening</td><td>https://static-cdn.jtvnw.net/ttv-boxart/1987896617_IGDB-{width}x{height}.jpg</td><td>214394</td><td>2025-06-13T19:07:59.424560</td></tr><tr><td>460630</td><td>Tom Clancy's Rainbow Six Siege X</td><td>https://static-cdn.jtvnw.net/ttv-boxart/460630-{width}x{height}.jpg</td><td>7360</td><td>2025-06-13T19:07:59.424560</td></tr><tr><td>55453844</td><td>Street Fighter 6</td><td>https://static-cdn.jtvnw.net/ttv-boxart/55453844_IGDB-{width}x{height}.jpg</td><td>191692</td><td>2025-06-13T19:07:59.424560</td></tr><tr><td>512710</td><td>Call of Duty: Warzone</td><td>https://static-cdn.jtvnw.net/ttv-boxart/512710-{width}x{height}.jpg</td><td>131800</td><td>2025-06-13T19:07:59.424560</td></tr><tr><td>1133341572</td><td>The First Berserker: Khazan</td><td>https://static-cdn.jtvnw.net/ttv-boxart/1133341572_IGDB-{width}x{height}.jpg</td><td>279643</td><td>2025-06-13T19:07:59.424560</td></tr><tr><td>32399</td><td>Counter-Strike</td><td>https://static-cdn.jtvnw.net/ttv-boxart/32399-{width}x{height}.jpg</td><td></td><td>2025-06-13T19:06:57.341068</td></tr><tr><td>516575</td><td>VALORANT</td><td>https://static-cdn.jtvnw.net/ttv-boxart/516575-{width}x{height}.jpg</td><td>126459</td><td>2025-06-13T19:06:57.341068</td></tr><tr><td>32982</td><td>Grand Theft Auto V</td><td>https://static-cdn.jtvnw.net/ttv-boxart/32982_IGDB-{width}x{height}.jpg</td><td>1020</td><td>2025-06-13T19:06:57.341068</td></tr><tr><td>29307</td><td>Path of Exile</td><td>https://static-cdn.jtvnw.net/ttv-boxart/29307_IGDB-{width}x{height}.jpg</td><td>1911</td><td>2025-06-13T19:06:57.341068</td></tr><tr><td>21779</td><td>League of Legends</td><td>https://static-cdn.jtvnw.net/ttv-boxart/21779-{width}x{height}.jpg</td><td>115</td><td>2025-06-13T19:06:57.341068</td></tr><tr><td>27471</td><td>Minecraft</td><td>https://static-cdn.jtvnw.net/ttv-boxart/27471_IGDB-{width}x{height}.jpg</td><td>135400</td><td>2025-06-13T19:06:57.341068</td></tr><tr><td>481086259</td><td>The Alters</td><td>https://static-cdn.jtvnw.net/ttv-boxart/481086259_IGDB-{width}x{height}.jpg</td><td>204634</td><td>2025-06-13T19:06:57.341068</td></tr><tr><td>33214</td><td>Fortnite</td><td>https://static-cdn.jtvnw.net/ttv-boxart/33214-{width}x{height}.jpg</td><td>1905</td><td>2025-06-13T19:06:57.341068</td></tr><tr><td>602694215</td><td>Five Nights at Freddy's: Secret of the Mimic</td><td>https://static-cdn.jtvnw.net/ttv-boxart/602694215_IGDB-{width}x{height}.jpg</td><td>312859</td><td>2025-06-13T19:06:57.341068</td></tr><tr><td>29595</td><td>Dota 2</td><td>https://static-cdn.jtvnw.net/ttv-boxart/29595-{width}x{height}.jpg</td><td></td><td>2025-06-13T19:06:57.341068</td></tr><tr><td>2011938005</td><td>EA Sports FC 25</td><td>https://static-cdn.jtvnw.net/ttv-boxart/2011938005_IGDB-{width}x{height}.jpg</td><td>308698</td><td>2025-06-13T19:06:57.341068</td></tr><tr><td>1987896617</td><td>Dune: Awakening</td><td>https://static-cdn.jtvnw.net/ttv-boxart/1987896617_IGDB-{width}x{height}.jpg</td><td>214394</td><td>2025-06-13T19:06:57.341068</td></tr><tr><td>460630</td><td>Tom Clancy's Rainbow Six Siege X</td><td>https://static-cdn.jtvnw.net/ttv-boxart/460630-{width}x{height}.jpg</td><td>7360</td><td>2025-06-13T19:06:57.341068</td></tr><tr><td>55453844</td><td>Street Fighter 6</td><td>https://static-cdn.jtvnw.net/ttv-boxart/55453844_IGDB-{width}x{height}.jpg</td><td>191692</td><td>2025-06-13T19:06:57.341068</td></tr><tr><td>512710</td><td>Call of Duty: Warzone</td><td>https://static-cdn.jtvnw.net/ttv-boxart/512710-{width}x{height}.jpg</td><td>131800</td><td>2025-06-13T19:06:57.341068</td></tr><tr><td>1133341572</td><td>The First Berserker: Khazan</td><td>https://static-cdn.jtvnw.net/ttv-boxart/1133341572_IGDB-{width}x{height}.jpg</td><td>279643</td><td>2025-06-13T19:06:57.341068</td></tr><tr><td>32399</td><td>Counter-Strike</td><td>https://static-cdn.jtvnw.net/ttv-boxart/32399-{width}x{height}.jpg</td><td></td><td>2025-06-13T19:04:50.000309</td></tr><tr><td>516575</td><td>VALORANT</td><td>https://static-cdn.jtvnw.net/ttv-boxart/516575-{width}x{height}.jpg</td><td>126459</td><td>2025-06-13T19:04:50.000309</td></tr><tr><td>32982</td><td>Grand Theft Auto V</td><td>https://static-cdn.jtvnw.net/ttv-boxart/32982_IGDB-{width}x{height}.jpg</td><td>1020</td><td>2025-06-13T19:04:50.000309</td></tr><tr><td>29307</td><td>Path of Exile</td><td>https://static-cdn.jtvnw.net/ttv-boxart/29307_IGDB-{width}x{height}.jpg</td><td>1911</td><td>2025-06-13T19:04:50.000309</td></tr><tr><td>21779</td><td>League of Legends</td><td>https://static-cdn.jtvnw.net/ttv-boxart/21779-{width}x{height}.jpg</td><td>115</td><td>2025-06-13T19:04:50.000309</td></tr><tr><td>27471</td><td>Minecraft</td><td>https://static-cdn.jtvnw.net/ttv-boxart/27471_IGDB-{width}x{height}.jpg</td><td>135400</td><td>2025-06-13T19:04:50.000309</td></tr><tr><td>481086259</td><td>The Alters</td><td>https://static-cdn.jtvnw.net/ttv-boxart/481086259_IGDB-{width}x{height}.jpg</td><td>204634</td><td>2025-06-13T19:04:50.000309</td></tr><tr><td>33214</td><td>Fortnite</td><td>https://static-cdn.jtvnw.net/ttv-boxart/33214-{width}x{height}.jpg</td><td>1905</td><td>2025-06-13T19:04:50.000309</td></tr><tr><td>602694215</td><td>Five Nights at Freddy's: Secret of the Mimic</td><td>https://static-cdn.jtvnw.net/ttv-boxart/602694215_IGDB-{width}x{height}.jpg</td><td>312859</td><td>2025-06-13T19:04:50.000309</td></tr><tr><td>29595</td><td>Dota 2</td><td>https://static-cdn.jtvnw.net/ttv-boxart/29595-{width}x{height}.jpg</td><td></td><td>2025-06-13T19:04:50.000309</td></tr><tr><td>2011938005</td><td>EA Sports FC 25</td><td>https://static-cdn.jtvnw.net/ttv-boxart/2011938005_IGDB-{width}x{height}.jpg</td><td>308698</td><td>2025-06-13T19:04:50.000309</td></tr><tr><td>1987896617</td><td>Dune: Awakening</td><td>https://static-cdn.jtvnw.net/ttv-boxart/1987896617_IGDB-{width}x{height}.jpg</td><td>214394</td><td>2025-06-13T19:04:50.000309</td></tr><tr><td>460630</td><td>Tom Clancy's Rainbow Six Siege X</td><td>https://static-cdn.jtvnw.net/ttv-boxart/460630-{width}x{height}.jpg</td><td>7360</td><td>2025-06-13T19:04:50.000309</td></tr><tr><td>55453844</td><td>Street Fighter 6</td><td>https://static-cdn.jtvnw.net/ttv-boxart/55453844_IGDB-{width}x{height}.jpg</td><td>191692</td><td>2025-06-13T19:04:50.000309</td></tr><tr><td>1133341572</td><td>The First Berserker: Khazan</td><td>https://static-cdn.jtvnw.net/ttv-boxart/1133341572_IGDB-{width}x{height}.jpg</td><td>279643</td><td>2025-06-13T19:04:50.000309</td></tr><tr><td>512710</td><td>Call of Duty: Warzone</td><td>https://static-cdn.jtvnw.net/ttv-boxart/512710-{width}x{height}.jpg</td><td>131800</td><td>2025-06-13T19:04:50.000309</td></tr><tr><td>32982</td><td>Grand Theft Auto V</td><td>https://static-cdn.jtvnw.net/ttv-boxart/32982_IGDB-{width}x{height}.jpg</td><td>1020</td><td>2025-06-13T02:00:55.873976</td></tr><tr><td>460630</td><td>Tom Clancy's Rainbow Six Siege X</td><td>https://static-cdn.jtvnw.net/ttv-boxart/460630-{width}x{height}.jpg</td><td>7360</td><td>2025-06-13T02:00:55.873976</td></tr><tr><td>1826300051</td><td>Mario Kart World</td><td>https://static-cdn.jtvnw.net/ttv-boxart/1826300051_IGDB-{width}x{height}.jpg</td><td>338067</td><td>2025-06-13T02:00:55.873976</td></tr><tr><td>33214</td><td>Fortnite</td><td>https://static-cdn.jtvnw.net/ttv-boxart/33214-{width}x{height}.jpg</td><td>1905</td><td>2025-06-13T02:00:55.873976</td></tr><tr><td>21779</td><td>League of Legends</td><td>https://static-cdn.jtvnw.net/ttv-boxart/21779-{width}x{height}.jpg</td><td>115</td><td>2025-06-13T02:00:55.873976</td></tr><tr><td>32399</td><td>Counter-Strike</td><td>https://static-cdn.jtvnw.net/ttv-boxart/32399-{width}x{height}.jpg</td><td></td><td>2025-06-13T02:00:55.873976</td></tr><tr><td>1264310518</td><td>Marvel Rivals</td><td>https://static-cdn.jtvnw.net/ttv-boxart/1264310518_IGDB-{width}x{height}.jpg</td><td>294041</td><td>2025-06-13T02:00:55.873976</td></tr><tr><td>1987896617</td><td>Dune: Awakening</td><td>https://static-cdn.jtvnw.net/ttv-boxart/1987896617_IGDB-{width}x{height}.jpg</td><td>214394</td><td>2025-06-13T02:00:55.873976</td></tr><tr><td>516575</td><td>VALORANT</td><td>https://static-cdn.jtvnw.net/ttv-boxart/516575-{width}x{height}.jpg</td><td>126459</td><td>2025-06-13T02:00:55.873976</td></tr><tr><td>512710</td><td>Call of Duty: Warzone</td><td>https://static-cdn.jtvnw.net/ttv-boxart/512710-{width}x{height}.jpg</td><td>131800</td><td>2025-06-13T02:00:55.873976</td></tr><tr><td>29595</td><td>Dota 2</td><td>https://static-cdn.jtvnw.net/ttv-boxart/29595-{width}x{height}.jpg</td><td></td><td>2025-06-13T02:00:55.873976</td></tr><tr><td>27471</td><td>Minecraft</td><td>https://static-cdn.jtvnw.net/ttv-boxart/27471_IGDB-{width}x{height}.jpg</td><td>135400</td><td>2025-06-13T02:00:55.873976</td></tr><tr><td>491487</td><td>Dead by Daylight</td><td>https://static-cdn.jtvnw.net/ttv-boxart/491487-{width}x{height}.jpg</td><td>18866</td><td>2025-06-13T02:00:55.873976</td></tr><tr><td>982348888</td><td>Elden Ring: Nightreign</td><td>https://static-cdn.jtvnw.net/ttv-boxart/982348888_IGDB-{width}x{height}.jpg</td><td>325591</td><td>2025-06-13T02:00:55.873976</td></tr><tr><td>29452</td><td>Virtual Casino</td><td>https://static-cdn.jtvnw.net/ttv-boxart/29452_IGDB-{width}x{height}.jpg</td><td>45517</td><td>2025-06-13T02:00:55.873976</td></tr><tr><td>511224</td><td>Apex Legends</td><td>https://static-cdn.jtvnw.net/ttv-boxart/511224-{width}x{height}.jpg</td><td>114795</td><td>2025-06-13T02:00:55.873976</td></tr><tr><td>515025</td><td>Overwatch 2</td><td>https://static-cdn.jtvnw.net/ttv-boxart/515025-{width}x{height}.jpg</td><td>125174</td><td>2025-06-13T02:00:55.873976</td></tr><tr><td>32982</td><td>Grand Theft Auto V</td><td>https://static-cdn.jtvnw.net/ttv-boxart/32982_IGDB-{width}x{height}.jpg</td><td>1020</td><td>2025-06-13T02:01:10.386097</td></tr><tr><td>460630</td><td>Tom Clancy's Rainbow Six Siege X</td><td>https://static-cdn.jtvnw.net/ttv-boxart/460630-{width}x{height}.jpg</td><td>7360</td><td>2025-06-13T02:01:10.386097</td></tr><tr><td>1826300051</td><td>Mario Kart World</td><td>https://static-cdn.jtvnw.net/ttv-boxart/1826300051_IGDB-{width}x{height}.jpg</td><td>338067</td><td>2025-06-13T02:01:10.386097</td></tr><tr><td>33214</td><td>Fortnite</td><td>https://static-cdn.jtvnw.net/ttv-boxart/33214-{width}x{height}.jpg</td><td>1905</td><td>2025-06-13T02:01:10.386097</td></tr><tr><td>21779</td><td>League of Legends</td><td>https://static-cdn.jtvnw.net/ttv-boxart/21779-{width}x{height}.jpg</td><td>115</td><td>2025-06-13T02:01:10.386097</td></tr><tr><td>32399</td><td>Counter-Strike</td><td>https://static-cdn.jtvnw.net/ttv-boxart/32399-{width}x{height}.jpg</td><td></td><td>2025-06-13T02:01:10.386097</td></tr><tr><td>1264310518</td><td>Marvel Rivals</td><td>https://static-cdn.jtvnw.net/ttv-boxart/1264310518_IGDB-{width}x{height}.jpg</td><td>294041</td><td>2025-06-13T02:01:10.386097</td></tr><tr><td>1987896617</td><td>Dune: Awakening</td><td>https://static-cdn.jtvnw.net/ttv-boxart/1987896617_IGDB-{width}x{height}.jpg</td><td>214394</td><td>2025-06-13T02:01:10.386097</td></tr><tr><td>516575</td><td>VALORANT</td><td>https://static-cdn.jtvnw.net/ttv-boxart/516575-{width}x{height}.jpg</td><td>126459</td><td>2025-06-13T02:01:10.386097</td></tr><tr><td>512710</td><td>Call of Duty: Warzone</td><td>https://static-cdn.jtvnw.net/ttv-boxart/512710-{width}x{height}.jpg</td><td>131800</td><td>2025-06-13T02:01:10.386097</td></tr><tr><td>29595</td><td>Dota 2</td><td>https://static-cdn.jtvnw.net/ttv-boxart/29595-{width}x{height}.jpg</td><td></td><td>2025-06-13T02:01:10.386097</td></tr><tr><td>27471</td><td>Minecraft</td><td>https://static-cdn.jtvnw.net/ttv-boxart/27471_IGDB-{width}x{height}.jpg</td><td>135400</td><td>2025-06-13T02:01:10.386097</td></tr><tr><td>491487</td><td>Dead by Daylight</td><td>https://static-cdn.jtvnw.net/ttv-boxart/491487-{width}x{height}.jpg</td><td>18866</td><td>2025-06-13T02:01:10.386097</td></tr><tr><td>982348888</td><td>Elden Ring: Nightreign</td><td>https://static-cdn.jtvnw.net/ttv-boxart/982348888_IGDB-{width}x{height}.jpg</td><td>325591</td><td>2025-06-13T02:01:10.386097</td></tr><tr><td>29452</td><td>Virtual Casino</td><td>https://static-cdn.jtvnw.net/ttv-boxart/29452_IGDB-{width}x{height}.jpg</td><td>45517</td><td>2025-06-13T02:01:10.386097</td></tr><tr><td>511224</td><td>Apex Legends</td><td>https://static-cdn.jtvnw.net/ttv-boxart/511224-{width}x{height}.jpg</td><td>114795</td><td>2025-06-13T02:01:10.386097</td></tr><tr><td>515025</td><td>Overwatch 2</td><td>https://static-cdn.jtvnw.net/ttv-boxart/515025-{width}x{height}.jpg</td><td>125174</td><td>2025-06-13T02:01:10.386097</td></tr><tr><td>32982</td><td>Grand Theft Auto V</td><td>https://static-cdn.jtvnw.net/ttv-boxart/32982_IGDB-{width}x{height}.jpg</td><td>1020</td><td>2025-06-13T02:01:34.180167</td></tr><tr><td>460630</td><td>Tom Clancy's Rainbow Six Siege X</td><td>https://static-cdn.jtvnw.net/ttv-boxart/460630-{width}x{height}.jpg</td><td>7360</td><td>2025-06-13T02:01:34.180167</td></tr><tr><td>1826300051</td><td>Mario Kart World</td><td>https://static-cdn.jtvnw.net/ttv-boxart/1826300051_IGDB-{width}x{height}.jpg</td><td>338067</td><td>2025-06-13T02:01:34.180167</td></tr><tr><td>33214</td><td>Fortnite</td><td>https://static-cdn.jtvnw.net/ttv-boxart/33214-{width}x{height}.jpg</td><td>1905</td><td>2025-06-13T02:01:34.180167</td></tr><tr><td>21779</td><td>League of Legends</td><td>https://static-cdn.jtvnw.net/ttv-boxart/21779-{width}x{height}.jpg</td><td>115</td><td>2025-06-13T02:01:34.180167</td></tr><tr><td>32399</td><td>Counter-Strike</td><td>https://static-cdn.jtvnw.net/ttv-boxart/32399-{width}x{height}.jpg</td><td></td><td>2025-06-13T02:01:34.180167</td></tr><tr><td>1264310518</td><td>Marvel Rivals</td><td>https://static-cdn.jtvnw.net/ttv-boxart/1264310518_IGDB-{width}x{height}.jpg</td><td>294041</td><td>2025-06-13T02:01:34.180167</td></tr><tr><td>1987896617</td><td>Dune: Awakening</td><td>https://static-cdn.jtvnw.net/ttv-boxart/1987896617_IGDB-{width}x{height}.jpg</td><td>214394</td><td>2025-06-13T02:01:34.180167</td></tr><tr><td>516575</td><td>VALORANT</td><td>https://static-cdn.jtvnw.net/ttv-boxart/516575-{width}x{height}.jpg</td><td>126459</td><td>2025-06-13T02:01:34.180167</td></tr><tr><td>512710</td><td>Call of Duty: Warzone</td><td>https://static-cdn.jtvnw.net/ttv-boxart/512710-{width}x{height}.jpg</td><td>131800</td><td>2025-06-13T02:01:34.180167</td></tr><tr><td>29595</td><td>Dota 2</td><td>https://static-cdn.jtvnw.net/ttv-boxart/29595-{width}x{height}.jpg</td><td></td><td>2025-06-13T02:01:34.180167</td></tr><tr><td>27471</td><td>Minecraft</td><td>https://static-cdn.jtvnw.net/ttv-boxart/27471_IGDB-{width}x{height}.jpg</td><td>135400</td><td>2025-06-13T02:01:34.180167</td></tr><tr><td>491487</td><td>Dead by Daylight</td><td>https://static-cdn.jtvnw.net/ttv-boxart/491487-{width}x{height}.jpg</td><td>18866</td><td>2025-06-13T02:01:34.180167</td></tr><tr><td>982348888</td><td>Elden Ring: Nightreign</td><td>https://static-cdn.jtvnw.net/ttv-boxart/982348888_IGDB-{width}x{height}.jpg</td><td>325591</td><td>2025-06-13T02:01:34.180167</td></tr><tr><td>29452</td><td>Virtual Casino</td><td>https://static-cdn.jtvnw.net/ttv-boxart/29452_IGDB-{width}x{height}.jpg</td><td>45517</td><td>2025-06-13T02:01:34.180167</td></tr><tr><td>511224</td><td>Apex Legends</td><td>https://static-cdn.jtvnw.net/ttv-boxart/511224-{width}x{height}.jpg</td><td>114795</td><td>2025-06-13T02:01:34.180167</td></tr><tr><td>515025</td><td>Overwatch 2</td><td>https://static-cdn.jtvnw.net/ttv-boxart/515025-{width}x{height}.jpg</td><td>125174</td><td>2025-06-13T02:01:34.180167</td></tr><tr><td>32399</td><td>Counter-Strike</td><td>https://static-cdn.jtvnw.net/ttv-boxart/32399-{width}x{height}.jpg</td><td></td><td>2025-06-13T19:03:47.885618</td></tr><tr><td>516575</td><td>VALORANT</td><td>https://static-cdn.jtvnw.net/ttv-boxart/516575-{width}x{height}.jpg</td><td>126459</td><td>2025-06-13T19:03:47.885618</td></tr><tr><td>32982</td><td>Grand Theft Auto V</td><td>https://static-cdn.jtvnw.net/ttv-boxart/32982_IGDB-{width}x{height}.jpg</td><td>1020</td><td>2025-06-13T19:03:47.885618</td></tr><tr><td>29307</td><td>Path of Exile</td><td>https://static-cdn.jtvnw.net/ttv-boxart/29307_IGDB-{width}x{height}.jpg</td><td>1911</td><td>2025-06-13T19:03:47.885618</td></tr><tr><td>21779</td><td>League of Legends</td><td>https://static-cdn.jtvnw.net/ttv-boxart/21779-{width}x{height}.jpg</td><td>115</td><td>2025-06-13T19:03:47.885618</td></tr><tr><td>27471</td><td>Minecraft</td><td>https://static-cdn.jtvnw.net/ttv-boxart/27471_IGDB-{width}x{height}.jpg</td><td>135400</td><td>2025-06-13T19:03:47.885618</td></tr><tr><td>481086259</td><td>The Alters</td><td>https://static-cdn.jtvnw.net/ttv-boxart/481086259_IGDB-{width}x{height}.jpg</td><td>204634</td><td>2025-06-13T19:03:47.885618</td></tr><tr><td>33214</td><td>Fortnite</td><td>https://static-cdn.jtvnw.net/ttv-boxart/33214-{width}x{height}.jpg</td><td>1905</td><td>2025-06-13T19:03:47.885618</td></tr><tr><td>602694215</td><td>Five Nights at Freddy's: Secret of the Mimic</td><td>https://static-cdn.jtvnw.net/ttv-boxart/602694215_IGDB-{width}x{height}.jpg</td><td>312859</td><td>2025-06-13T19:03:47.885618</td></tr><tr><td>29595</td><td>Dota 2</td><td>https://static-cdn.jtvnw.net/ttv-boxart/29595-{width}x{height}.jpg</td><td></td><td>2025-06-13T19:03:47.885618</td></tr><tr><td>2011938005</td><td>EA Sports FC 25</td><td>https://static-cdn.jtvnw.net/ttv-boxart/2011938005_IGDB-{width}x{height}.jpg</td><td>308698</td><td>2025-06-13T19:03:47.885618</td></tr><tr><td>1987896617</td><td>Dune: Awakening</td><td>https://static-cdn.jtvnw.net/ttv-boxart/1987896617_IGDB-{width}x{height}.jpg</td><td>214394</td><td>2025-06-13T19:03:47.885618</td></tr><tr><td>460630</td><td>Tom Clancy's Rainbow Six Siege X</td><td>https://static-cdn.jtvnw.net/ttv-boxart/460630-{width}x{height}.jpg</td><td>7360</td><td>2025-06-13T19:03:47.885618</td></tr><tr><td>55453844</td><td>Street Fighter 6</td><td>https://static-cdn.jtvnw.net/ttv-boxart/55453844_IGDB-{width}x{height}.jpg</td><td>191692</td><td>2025-06-13T19:03:47.885618</td></tr><tr><td>1133341572</td><td>The First Berserker: Khazan</td><td>https://static-cdn.jtvnw.net/ttv-boxart/1133341572_IGDB-{width}x{height}.jpg</td><td>279643</td><td>2025-06-13T19:03:47.885618</td></tr><tr><td>512710</td><td>Call of Duty: Warzone</td><td>https://static-cdn.jtvnw.net/ttv-boxart/512710-{width}x{height}.jpg</td><td>131800</td><td>2025-06-13T19:03:47.885618</td></tr><tr><td>32982</td><td>Grand Theft Auto V</td><td>https://static-cdn.jtvnw.net/ttv-boxart/32982_IGDB-{width}x{height}.jpg</td><td>1020</td><td>2025-06-13T03:47:13.867189</td></tr><tr><td>21779</td><td>League of Legends</td><td>https://static-cdn.jtvnw.net/ttv-boxart/21779-{width}x{height}.jpg</td><td>115</td><td>2025-06-13T03:47:13.867189</td></tr><tr><td>460630</td><td>Tom Clancy's Rainbow Six Siege X</td><td>https://static-cdn.jtvnw.net/ttv-boxart/460630-{width}x{height}.jpg</td><td>7360</td><td>2025-06-13T03:47:13.867189</td></tr><tr><td>33214</td><td>Fortnite</td><td>https://static-cdn.jtvnw.net/ttv-boxart/33214-{width}x{height}.jpg</td><td>1905</td><td>2025-06-13T03:47:13.867189</td></tr><tr><td>488820</td><td>Stranded Deep</td><td>https://static-cdn.jtvnw.net/ttv-boxart/488820_IGDB-{width}x{height}.jpg</td><td>8751</td><td>2025-06-13T03:47:13.867189</td></tr><tr><td>516575</td><td>VALORANT</td><td>https://static-cdn.jtvnw.net/ttv-boxart/516575-{width}x{height}.jpg</td><td>126459</td><td>2025-06-13T03:47:13.867189</td></tr><tr><td>1826300051</td><td>Mario Kart World</td><td>https://static-cdn.jtvnw.net/ttv-boxart/1826300051_IGDB-{width}x{height}.jpg</td><td>338067</td><td>2025-06-13T03:47:13.867189</td></tr><tr><td>32399</td><td>Counter-Strike</td><td>https://static-cdn.jtvnw.net/ttv-boxart/32399-{width}x{height}.jpg</td><td></td><td>2025-06-13T03:47:13.867189</td></tr><tr><td>1987896617</td><td>Dune: Awakening</td><td>https://static-cdn.jtvnw.net/ttv-boxart/1987896617_IGDB-{width}x{height}.jpg</td><td>214394</td><td>2025-06-13T03:47:13.867189</td></tr><tr><td>982348888</td><td>Elden Ring: Nightreign</td><td>https://static-cdn.jtvnw.net/ttv-boxart/982348888_IGDB-{width}x{height}.jpg</td><td>325591</td><td>2025-06-13T03:47:13.867189</td></tr><tr><td>491487</td><td>Dead by Daylight</td><td>https://static-cdn.jtvnw.net/ttv-boxart/491487-{width}x{height}.jpg</td><td>18866</td><td>2025-06-13T03:47:13.867189</td></tr><tr><td>512710</td><td>Call of Duty: Warzone</td><td>https://static-cdn.jtvnw.net/ttv-boxart/512710-{width}x{height}.jpg</td><td>131800</td><td>2025-06-13T03:47:13.867189</td></tr><tr><td>1264310518</td><td>Marvel Rivals</td><td>https://static-cdn.jtvnw.net/ttv-boxart/1264310518_IGDB-{width}x{height}.jpg</td><td>294041</td><td>2025-06-13T03:47:13.867189</td></tr><tr><td>29595</td><td>Dota 2</td><td>https://static-cdn.jtvnw.net/ttv-boxart/29595-{width}x{height}.jpg</td><td></td><td>2025-06-13T03:47:13.867189</td></tr><tr><td>27471</td><td>Minecraft</td><td>https://static-cdn.jtvnw.net/ttv-boxart/27471_IGDB-{width}x{height}.jpg</td><td>135400</td><td>2025-06-13T03:47:13.867189</td></tr><tr><td>511224</td><td>Apex Legends</td><td>https://static-cdn.jtvnw.net/ttv-boxart/511224-{width}x{height}.jpg</td><td>114795</td><td>2025-06-13T03:47:13.867189</td></tr><tr><td>509659</td><td>ASMR</td><td>https://static-cdn.jtvnw.net/ttv-boxart/509659-{width}x{height}.jpg</td><td></td><td>2025-06-13T03:47:13.867189</td></tr><tr><td>29307</td><td>Path of Exile</td><td>https://static-cdn.jtvnw.net/ttv-boxart/29307_IGDB-{width}x{height}.jpg</td><td>1911</td><td>2025-06-13T03:47:13.867189</td></tr><tr><td>32982</td><td>Grand Theft Auto V</td><td>https://static-cdn.jtvnw.net/ttv-boxart/32982_IGDB-{width}x{height}.jpg</td><td>1020</td><td>2025-06-13T02:00:03.009885</td></tr><tr><td>460630</td><td>Tom Clancy's Rainbow Six Siege X</td><td>https://static-cdn.jtvnw.net/ttv-boxart/460630-{width}x{height}.jpg</td><td>7360</td><td>2025-06-13T02:00:03.009885</td></tr><tr><td>1826300051</td><td>Mario Kart World</td><td>https://static-cdn.jtvnw.net/ttv-boxart/1826300051_IGDB-{width}x{height}.jpg</td><td>338067</td><td>2025-06-13T02:00:03.009885</td></tr><tr><td>33214</td><td>Fortnite</td><td>https://static-cdn.jtvnw.net/ttv-boxart/33214-{width}x{height}.jpg</td><td>1905</td><td>2025-06-13T02:00:03.009885</td></tr><tr><td>21779</td><td>League of Legends</td><td>https://static-cdn.jtvnw.net/ttv-boxart/21779-{width}x{height}.jpg</td><td>115</td><td>2025-06-13T02:00:03.009885</td></tr><tr><td>32399</td><td>Counter-Strike</td><td>https://static-cdn.jtvnw.net/ttv-boxart/32399-{width}x{height}.jpg</td><td></td><td>2025-06-13T02:00:03.009885</td></tr><tr><td>1264310518</td><td>Marvel Rivals</td><td>https://static-cdn.jtvnw.net/ttv-boxart/1264310518_IGDB-{width}x{height}.jpg</td><td>294041</td><td>2025-06-13T02:00:03.009885</td></tr><tr><td>1987896617</td><td>Dune: Awakening</td><td>https://static-cdn.jtvnw.net/ttv-boxart/1987896617_IGDB-{width}x{height}.jpg</td><td>214394</td><td>2025-06-13T02:00:03.009885</td></tr><tr><td>512710</td><td>Call of Duty: Warzone</td><td>https://static-cdn.jtvnw.net/ttv-boxart/512710-{width}x{height}.jpg</td><td>131800</td><td>2025-06-13T02:00:03.009885</td></tr><tr><td>516575</td><td>VALORANT</td><td>https://static-cdn.jtvnw.net/ttv-boxart/516575-{width}x{height}.jpg</td><td>126459</td><td>2025-06-13T02:00:03.009885</td></tr><tr><td>29595</td><td>Dota 2</td><td>https://static-cdn.jtvnw.net/ttv-boxart/29595-{width}x{height}.jpg</td><td></td><td>2025-06-13T02:00:03.009885</td></tr><tr><td>27471</td><td>Minecraft</td><td>https://static-cdn.jtvnw.net/ttv-boxart/27471_IGDB-{width}x{height}.jpg</td><td>135400</td><td>2025-06-13T02:00:03.009885</td></tr><tr><td>491487</td><td>Dead by Daylight</td><td>https://static-cdn.jtvnw.net/ttv-boxart/491487-{width}x{height}.jpg</td><td>18866</td><td>2025-06-13T02:00:03.009885</td></tr><tr><td>982348888</td><td>Elden Ring: Nightreign</td><td>https://static-cdn.jtvnw.net/ttv-boxart/982348888_IGDB-{width}x{height}.jpg</td><td>325591</td><td>2025-06-13T02:00:03.009885</td></tr><tr><td>29452</td><td>Virtual Casino</td><td>https://static-cdn.jtvnw.net/ttv-boxart/29452_IGDB-{width}x{height}.jpg</td><td>45517</td><td>2025-06-13T02:00:03.009885</td></tr><tr><td>511224</td><td>Apex Legends</td><td>https://static-cdn.jtvnw.net/ttv-boxart/511224-{width}x{height}.jpg</td><td>114795</td><td>2025-06-13T02:00:03.009885</td></tr><tr><td>515025</td><td>Overwatch 2</td><td>https://static-cdn.jtvnw.net/ttv-boxart/515025-{width}x{height}.jpg</td><td>125174</td><td>2025-06-13T02:00:03.009885</td></tr><tr><td>32982</td><td>Grand Theft Auto V</td><td>https://static-cdn.jtvnw.net/ttv-boxart/32982_IGDB-{width}x{height}.jpg</td><td>1020</td><td>2025-06-13T02:00:25.935476</td></tr><tr><td>460630</td><td>Tom Clancy's Rainbow Six Siege X</td><td>https://static-cdn.jtvnw.net/ttv-boxart/460630-{width}x{height}.jpg</td><td>7360</td><td>2025-06-13T02:00:25.935476</td></tr><tr><td>1826300051</td><td>Mario Kart World</td><td>https://static-cdn.jtvnw.net/ttv-boxart/1826300051_IGDB-{width}x{height}.jpg</td><td>338067</td><td>2025-06-13T02:00:25.935476</td></tr><tr><td>33214</td><td>Fortnite</td><td>https://static-cdn.jtvnw.net/ttv-boxart/33214-{width}x{height}.jpg</td><td>1905</td><td>2025-06-13T02:00:25.935476</td></tr><tr><td>21779</td><td>League of Legends</td><td>https://static-cdn.jtvnw.net/ttv-boxart/21779-{width}x{height}.jpg</td><td>115</td><td>2025-06-13T02:00:25.935476</td></tr><tr><td>32399</td><td>Counter-Strike</td><td>https://static-cdn.jtvnw.net/ttv-boxart/32399-{width}x{height}.jpg</td><td></td><td>2025-06-13T02:00:25.935476</td></tr><tr><td>1264310518</td><td>Marvel Rivals</td><td>https://static-cdn.jtvnw.net/ttv-boxart/1264310518_IGDB-{width}x{height}.jpg</td><td>294041</td><td>2025-06-13T02:00:25.935476</td></tr><tr><td>1987896617</td><td>Dune: Awakening</td><td>https://static-cdn.jtvnw.net/ttv-boxart/1987896617_IGDB-{width}x{height}.jpg</td><td>214394</td><td>2025-06-13T02:00:25.935476</td></tr><tr><td>512710</td><td>Call of Duty: Warzone</td><td>https://static-cdn.jtvnw.net/ttv-boxart/512710-{width}x{height}.jpg</td><td>131800</td><td>2025-06-13T02:00:25.935476</td></tr><tr><td>516575</td><td>VALORANT</td><td>https://static-cdn.jtvnw.net/ttv-boxart/516575-{width}x{height}.jpg</td><td>126459</td><td>2025-06-13T02:00:25.935476</td></tr><tr><td>29595</td><td>Dota 2</td><td>https://static-cdn.jtvnw.net/ttv-boxart/29595-{width}x{height}.jpg</td><td></td><td>2025-06-13T02:00:25.935476</td></tr><tr><td>27471</td><td>Minecraft</td><td>https://static-cdn.jtvnw.net/ttv-boxart/27471_IGDB-{width}x{height}.jpg</td><td>135400</td><td>2025-06-13T02:00:25.935476</td></tr><tr><td>491487</td><td>Dead by Daylight</td><td>https://static-cdn.jtvnw.net/ttv-boxart/491487-{width}x{height}.jpg</td><td>18866</td><td>2025-06-13T02:00:25.935476</td></tr><tr><td>982348888</td><td>Elden Ring: Nightreign</td><td>https://static-cdn.jtvnw.net/ttv-boxart/982348888_IGDB-{width}x{height}.jpg</td><td>325591</td><td>2025-06-13T02:00:25.935476</td></tr><tr><td>29452</td><td>Virtual Casino</td><td>https://static-cdn.jtvnw.net/ttv-boxart/29452_IGDB-{width}x{height}.jpg</td><td>45517</td><td>2025-06-13T02:00:25.935476</td></tr><tr><td>511224</td><td>Apex Legends</td><td>https://static-cdn.jtvnw.net/ttv-boxart/511224-{width}x{height}.jpg</td><td>114795</td><td>2025-06-13T02:00:25.935476</td></tr><tr><td>515025</td><td>Overwatch 2</td><td>https://static-cdn.jtvnw.net/ttv-boxart/515025-{width}x{height}.jpg</td><td>125174</td><td>2025-06-13T02:00:25.935476</td></tr><tr><td>32982</td><td>Grand Theft Auto V</td><td>https://static-cdn.jtvnw.net/ttv-boxart/32982_IGDB-{width}x{height}.jpg</td><td>1020</td><td>2025-06-13T01:59:37.949022</td></tr><tr><td>460630</td><td>Tom Clancy's Rainbow Six Siege X</td><td>https://static-cdn.jtvnw.net/ttv-boxart/460630-{width}x{height}.jpg</td><td>7360</td><td>2025-06-13T01:59:37.949022</td></tr><tr><td>1826300051</td><td>Mario Kart World</td><td>https://static-cdn.jtvnw.net/ttv-boxart/1826300051_IGDB-{width}x{height}.jpg</td><td>338067</td><td>2025-06-13T01:59:37.949022</td></tr><tr><td>33214</td><td>Fortnite</td><td>https://static-cdn.jtvnw.net/ttv-boxart/33214-{width}x{height}.jpg</td><td>1905</td><td>2025-06-13T01:59:37.949022</td></tr><tr><td>21779</td><td>League of Legends</td><td>https://static-cdn.jtvnw.net/ttv-boxart/21779-{width}x{height}.jpg</td><td>115</td><td>2025-06-13T01:59:37.949022</td></tr><tr><td>32399</td><td>Counter-Strike</td><td>https://static-cdn.jtvnw.net/ttv-boxart/32399-{width}x{height}.jpg</td><td></td><td>2025-06-13T01:59:37.949022</td></tr><tr><td>1264310518</td><td>Marvel Rivals</td><td>https://static-cdn.jtvnw.net/ttv-boxart/1264310518_IGDB-{width}x{height}.jpg</td><td>294041</td><td>2025-06-13T01:59:37.949022</td></tr><tr><td>1987896617</td><td>Dune: Awakening</td><td>https://static-cdn.jtvnw.net/ttv-boxart/1987896617_IGDB-{width}x{height}.jpg</td><td>214394</td><td>2025-06-13T01:59:37.949022</td></tr><tr><td>512710</td><td>Call of Duty: Warzone</td><td>https://static-cdn.jtvnw.net/ttv-boxart/512710-{width}x{height}.jpg</td><td>131800</td><td>2025-06-13T01:59:37.949022</td></tr><tr><td>516575</td><td>VALORANT</td><td>https://static-cdn.jtvnw.net/ttv-boxart/516575-{width}x{height}.jpg</td><td>126459</td><td>2025-06-13T01:59:37.949022</td></tr><tr><td>29595</td><td>Dota 2</td><td>https://static-cdn.jtvnw.net/ttv-boxart/29595-{width}x{height}.jpg</td><td></td><td>2025-06-13T01:59:37.949022</td></tr><tr><td>27471</td><td>Minecraft</td><td>https://static-cdn.jtvnw.net/ttv-boxart/27471_IGDB-{width}x{height}.jpg</td><td>135400</td><td>2025-06-13T01:59:37.949022</td></tr><tr><td>491487</td><td>Dead by Daylight</td><td>https://static-cdn.jtvnw.net/ttv-boxart/491487-{width}x{height}.jpg</td><td>18866</td><td>2025-06-13T01:59:37.949022</td></tr><tr><td>982348888</td><td>Elden Ring: Nightreign</td><td>https://static-cdn.jtvnw.net/ttv-boxart/982348888_IGDB-{width}x{height}.jpg</td><td>325591</td><td>2025-06-13T01:59:37.949022</td></tr><tr><td>29452</td><td>Virtual Casino</td><td>https://static-cdn.jtvnw.net/ttv-boxart/29452_IGDB-{width}x{height}.jpg</td><td>45517</td><td>2025-06-13T01:59:37.949022</td></tr><tr><td>511224</td><td>Apex Legends</td><td>https://static-cdn.jtvnw.net/ttv-boxart/511224-{width}x{height}.jpg</td><td>114795</td><td>2025-06-13T01:59:37.949022</td></tr><tr><td>515025</td><td>Overwatch 2</td><td>https://static-cdn.jtvnw.net/ttv-boxart/515025-{width}x{height}.jpg</td><td>125174</td><td>2025-06-13T01:59:37.949022</td></tr><tr><td>32399</td><td>Counter-Strike</td><td>https://static-cdn.jtvnw.net/ttv-boxart/32399-{width}x{height}.jpg</td><td></td><td>2025-06-13T19:01:43.345556</td></tr><tr><td>516575</td><td>VALORANT</td><td>https://static-cdn.jtvnw.net/ttv-boxart/516575-{width}x{height}.jpg</td><td>126459</td><td>2025-06-13T19:01:43.345556</td></tr><tr><td>32982</td><td>Grand Theft Auto V</td><td>https://static-cdn.jtvnw.net/ttv-boxart/32982_IGDB-{width}x{height}.jpg</td><td>1020</td><td>2025-06-13T19:01:43.345556</td></tr><tr><td>29307</td><td>Path of Exile</td><td>https://static-cdn.jtvnw.net/ttv-boxart/29307_IGDB-{width}x{height}.jpg</td><td>1911</td><td>2025-06-13T19:01:43.345556</td></tr><tr><td>21779</td><td>League of Legends</td><td>https://static-cdn.jtvnw.net/ttv-boxart/21779-{width}x{height}.jpg</td><td>115</td><td>2025-06-13T19:01:43.345556</td></tr><tr><td>27471</td><td>Minecraft</td><td>https://static-cdn.jtvnw.net/ttv-boxart/27471_IGDB-{width}x{height}.jpg</td><td>135400</td><td>2025-06-13T19:01:43.345556</td></tr><tr><td>481086259</td><td>The Alters</td><td>https://static-cdn.jtvnw.net/ttv-boxart/481086259_IGDB-{width}x{height}.jpg</td><td>204634</td><td>2025-06-13T19:01:43.345556</td></tr><tr><td>33214</td><td>Fortnite</td><td>https://static-cdn.jtvnw.net/ttv-boxart/33214-{width}x{height}.jpg</td><td>1905</td><td>2025-06-13T19:01:43.345556</td></tr><tr><td>29595</td><td>Dota 2</td><td>https://static-cdn.jtvnw.net/ttv-boxart/29595-{width}x{height}.jpg</td><td></td><td>2025-06-13T19:01:43.345556</td></tr><tr><td>602694215</td><td>Five Nights at Freddy's: Secret of the Mimic</td><td>https://static-cdn.jtvnw.net/ttv-boxart/602694215_IGDB-{width}x{height}.jpg</td><td>312859</td><td>2025-06-13T19:01:43.345556</td></tr><tr><td>2011938005</td><td>EA Sports FC 25</td><td>https://static-cdn.jtvnw.net/ttv-boxart/2011938005_IGDB-{width}x{height}.jpg</td><td>308698</td><td>2025-06-13T19:01:43.345556</td></tr><tr><td>1987896617</td><td>Dune: Awakening</td><td>https://static-cdn.jtvnw.net/ttv-boxart/1987896617_IGDB-{width}x{height}.jpg</td><td>214394</td><td>2025-06-13T19:01:43.345556</td></tr><tr><td>460630</td><td>Tom Clancy's Rainbow Six Siege X</td><td>https://static-cdn.jtvnw.net/ttv-boxart/460630-{width}x{height}.jpg</td><td>7360</td><td>2025-06-13T19:01:43.345556</td></tr><tr><td>55453844</td><td>Street Fighter 6</td><td>https://static-cdn.jtvnw.net/ttv-boxart/55453844_IGDB-{width}x{height}.jpg</td><td>191692</td><td>2025-06-13T19:01:43.345556</td></tr><tr><td>512710</td><td>Call of Duty: Warzone</td><td>https://static-cdn.jtvnw.net/ttv-boxart/512710-{width}x{height}.jpg</td><td>131800</td><td>2025-06-13T19:01:43.345556</td></tr><tr><td>1826300051</td><td>Mario Kart World</td><td>https://static-cdn.jtvnw.net/ttv-boxart/1826300051_IGDB-{width}x{height}.jpg</td><td>338067</td><td>2025-06-13T19:01:43.345556</td></tr><tr><td>32399</td><td>Counter-Strike</td><td>https://static-cdn.jtvnw.net/ttv-boxart/32399-{width}x{height}.jpg</td><td></td><td>2025-06-13T19:00:40.870943</td></tr><tr><td>516575</td><td>VALORANT</td><td>https://static-cdn.jtvnw.net/ttv-boxart/516575-{width}x{height}.jpg</td><td>126459</td><td>2025-06-13T19:00:40.870943</td></tr><tr><td>32982</td><td>Grand Theft Auto V</td><td>https://static-cdn.jtvnw.net/ttv-boxart/32982_IGDB-{width}x{height}.jpg</td><td>1020</td><td>2025-06-13T19:00:40.870943</td></tr><tr><td>29307</td><td>Path of Exile</td><td>https://static-cdn.jtvnw.net/ttv-boxart/29307_IGDB-{width}x{height}.jpg</td><td>1911</td><td>2025-06-13T19:00:40.870943</td></tr><tr><td>21779</td><td>League of Legends</td><td>https://static-cdn.jtvnw.net/ttv-boxart/21779-{width}x{height}.jpg</td><td>115</td><td>2025-06-13T19:00:40.870943</td></tr><tr><td>27471</td><td>Minecraft</td><td>https://static-cdn.jtvnw.net/ttv-boxart/27471_IGDB-{width}x{height}.jpg</td><td>135400</td><td>2025-06-13T19:00:40.870943</td></tr><tr><td>481086259</td><td>The Alters</td><td>https://static-cdn.jtvnw.net/ttv-boxart/481086259_IGDB-{width}x{height}.jpg</td><td>204634</td><td>2025-06-13T19:00:40.870943</td></tr><tr><td>33214</td><td>Fortnite</td><td>https://static-cdn.jtvnw.net/ttv-boxart/33214-{width}x{height}.jpg</td><td>1905</td><td>2025-06-13T19:00:40.870943</td></tr><tr><td>29595</td><td>Dota 2</td><td>https://static-cdn.jtvnw.net/ttv-boxart/29595-{width}x{height}.jpg</td><td></td><td>2025-06-13T19:00:40.870943</td></tr><tr><td>602694215</td><td>Five Nights at Freddy's: Secret of the Mimic</td><td>https://static-cdn.jtvnw.net/ttv-boxart/602694215_IGDB-{width}x{height}.jpg</td><td>312859</td><td>2025-06-13T19:00:40.870943</td></tr><tr><td>2011938005</td><td>EA Sports FC 25</td><td>https://static-cdn.jtvnw.net/ttv-boxart/2011938005_IGDB-{width}x{height}.jpg</td><td>308698</td><td>2025-06-13T19:00:40.870943</td></tr><tr><td>1987896617</td><td>Dune: Awakening</td><td>https://static-cdn.jtvnw.net/ttv-boxart/1987896617_IGDB-{width}x{height}.jpg</td><td>214394</td><td>2025-06-13T19:00:40.870943</td></tr><tr><td>460630</td><td>Tom Clancy's Rainbow Six Siege X</td><td>https://static-cdn.jtvnw.net/ttv-boxart/460630-{width}x{height}.jpg</td><td>7360</td><td>2025-06-13T19:00:40.870943</td></tr><tr><td>55453844</td><td>Street Fighter 6</td><td>https://static-cdn.jtvnw.net/ttv-boxart/55453844_IGDB-{width}x{height}.jpg</td><td>191692</td><td>2025-06-13T19:00:40.870943</td></tr><tr><td>512710</td><td>Call of Duty: Warzone</td><td>https://static-cdn.jtvnw.net/ttv-boxart/512710-{width}x{height}.jpg</td><td>131800</td><td>2025-06-13T19:00:40.870943</td></tr><tr><td>1826300051</td><td>Mario Kart World</td><td>https://static-cdn.jtvnw.net/ttv-boxart/1826300051_IGDB-{width}x{height}.jpg</td><td>338067</td><td>2025-06-13T19:00:40.870943</td></tr><tr><td>32399</td><td>Counter-Strike</td><td>https://static-cdn.jtvnw.net/ttv-boxart/32399-{width}x{height}.jpg</td><td></td><td>2025-06-13T19:27:48.683074</td></tr><tr><td>516575</td><td>VALORANT</td><td>https://static-cdn.jtvnw.net/ttv-boxart/516575-{width}x{height}.jpg</td><td>126459</td><td>2025-06-13T19:27:48.683074</td></tr><tr><td>32982</td><td>Grand Theft Auto V</td><td>https://static-cdn.jtvnw.net/ttv-boxart/32982_IGDB-{width}x{height}.jpg</td><td>1020</td><td>2025-06-13T19:27:48.683074</td></tr><tr><td>29307</td><td>Path of Exile</td><td>https://static-cdn.jtvnw.net/ttv-boxart/29307_IGDB-{width}x{height}.jpg</td><td>1911</td><td>2025-06-13T19:27:48.683074</td></tr><tr><td>27471</td><td>Minecraft</td><td>https://static-cdn.jtvnw.net/ttv-boxart/27471_IGDB-{width}x{height}.jpg</td><td>135400</td><td>2025-06-13T19:27:48.683074</td></tr><tr><td>21779</td><td>League of Legends</td><td>https://static-cdn.jtvnw.net/ttv-boxart/21779-{width}x{height}.jpg</td><td>115</td><td>2025-06-13T19:27:48.683074</td></tr><tr><td>481086259</td><td>The Alters</td><td>https://static-cdn.jtvnw.net/ttv-boxart/481086259_IGDB-{width}x{height}.jpg</td><td>204634</td><td>2025-06-13T19:27:48.683074</td></tr><tr><td>33214</td><td>Fortnite</td><td>https://static-cdn.jtvnw.net/ttv-boxart/33214-{width}x{height}.jpg</td><td>1905</td><td>2025-06-13T19:27:48.683074</td></tr><tr><td>602694215</td><td>Five Nights at Freddy's: Secret of the Mimic</td><td>https://static-cdn.jtvnw.net/ttv-boxart/602694215_IGDB-{width}x{height}.jpg</td><td>312859</td><td>2025-06-13T19:27:48.683074</td></tr><tr><td>29595</td><td>Dota 2</td><td>https://static-cdn.jtvnw.net/ttv-boxart/29595-{width}x{height}.jpg</td><td></td><td>2025-06-13T19:27:48.683074</td></tr><tr><td>460630</td><td>Tom Clancy's Rainbow Six Siege X</td><td>https://static-cdn.jtvnw.net/ttv-boxart/460630-{width}x{height}.jpg</td><td>7360</td><td>2025-06-13T19:27:48.683074</td></tr><tr><td>2011938005</td><td>EA Sports FC 25</td><td>https://static-cdn.jtvnw.net/ttv-boxart/2011938005_IGDB-{width}x{height}.jpg</td><td>308698</td><td>2025-06-13T19:27:48.683074</td></tr><tr><td>1987896617</td><td>Dune: Awakening</td><td>https://static-cdn.jtvnw.net/ttv-boxart/1987896617_IGDB-{width}x{height}.jpg</td><td>214394</td><td>2025-06-13T19:27:48.683074</td></tr><tr><td>512710</td><td>Call of Duty: Warzone</td><td>https://static-cdn.jtvnw.net/ttv-boxart/512710-{width}x{height}.jpg</td><td>131800</td><td>2025-06-13T19:27:48.683074</td></tr><tr><td>55453844</td><td>Street Fighter 6</td><td>https://static-cdn.jtvnw.net/ttv-boxart/55453844_IGDB-{width}x{height}.jpg</td><td>191692</td><td>2025-06-13T19:27:48.683074</td></tr><tr><td>1826300051</td><td>Mario Kart World</td><td>https://static-cdn.jtvnw.net/ttv-boxart/1826300051_IGDB-{width}x{height}.jpg</td><td>338067</td><td>2025-06-13T19:27:48.683074</td></tr><tr><td>32399</td><td>Counter-Strike</td><td>https://static-cdn.jtvnw.net/ttv-boxart/32399-{width}x{height}.jpg</td><td></td><td>2025-06-13T19:28:50.776741</td></tr><tr><td>516575</td><td>VALORANT</td><td>https://static-cdn.jtvnw.net/ttv-boxart/516575-{width}x{height}.jpg</td><td>126459</td><td>2025-06-13T19:28:50.776741</td></tr><tr><td>32982</td><td>Grand Theft Auto V</td><td>https://static-cdn.jtvnw.net/ttv-boxart/32982_IGDB-{width}x{height}.jpg</td><td>1020</td><td>2025-06-13T19:28:50.776741</td></tr><tr><td>29307</td><td>Path of Exile</td><td>https://static-cdn.jtvnw.net/ttv-boxart/29307_IGDB-{width}x{height}.jpg</td><td>1911</td><td>2025-06-13T19:28:50.776741</td></tr><tr><td>27471</td><td>Minecraft</td><td>https://static-cdn.jtvnw.net/ttv-boxart/27471_IGDB-{width}x{height}.jpg</td><td>135400</td><td>2025-06-13T19:28:50.776741</td></tr><tr><td>21779</td><td>League of Legends</td><td>https://static-cdn.jtvnw.net/ttv-boxart/21779-{width}x{height}.jpg</td><td>115</td><td>2025-06-13T19:28:50.776741</td></tr><tr><td>481086259</td><td>The Alters</td><td>https://static-cdn.jtvnw.net/ttv-boxart/481086259_IGDB-{width}x{height}.jpg</td><td>204634</td><td>2025-06-13T19:28:50.776741</td></tr><tr><td>33214</td><td>Fortnite</td><td>https://static-cdn.jtvnw.net/ttv-boxart/33214-{width}x{height}.jpg</td><td>1905</td><td>2025-06-13T19:28:50.776741</td></tr><tr><td>602694215</td><td>Five Nights at Freddy's: Secret of the Mimic</td><td>https://static-cdn.jtvnw.net/ttv-boxart/602694215_IGDB-{width}x{height}.jpg</td><td>312859</td><td>2025-06-13T19:28:50.776741</td></tr><tr><td>29595</td><td>Dota 2</td><td>https://static-cdn.jtvnw.net/ttv-boxart/29595-{width}x{height}.jpg</td><td></td><td>2025-06-13T19:28:50.776741</td></tr><tr><td>460630</td><td>Tom Clancy's Rainbow Six Siege X</td><td>https://static-cdn.jtvnw.net/ttv-boxart/460630-{width}x{height}.jpg</td><td>7360</td><td>2025-06-13T19:28:50.776741</td></tr><tr><td>2011938005</td><td>EA Sports FC 25</td><td>https://static-cdn.jtvnw.net/ttv-boxart/2011938005_IGDB-{width}x{height}.jpg</td><td>308698</td><td>2025-06-13T19:28:50.776741</td></tr><tr><td>1987896617</td><td>Dune: Awakening</td><td>https://static-cdn.jtvnw.net/ttv-boxart/1987896617_IGDB-{width}x{height}.jpg</td><td>214394</td><td>2025-06-13T19:28:50.776741</td></tr><tr><td>512710</td><td>Call of Duty: Warzone</td><td>https://static-cdn.jtvnw.net/ttv-boxart/512710-{width}x{height}.jpg</td><td>131800</td><td>2025-06-13T19:28:50.776741</td></tr><tr><td>55453844</td><td>Street Fighter 6</td><td>https://static-cdn.jtvnw.net/ttv-boxart/55453844_IGDB-{width}x{height}.jpg</td><td>191692</td><td>2025-06-13T19:28:50.776741</td></tr><tr><td>1826300051</td><td>Mario Kart World</td><td>https://static-cdn.jtvnw.net/ttv-boxart/1826300051_IGDB-{width}x{height}.jpg</td><td>338067</td><td>2025-06-13T19:28:50.776741</td></tr><tr><td>32399</td><td>Counter-Strike</td><td>https://static-cdn.jtvnw.net/ttv-boxart/32399-{width}x{height}.jpg</td><td></td><td>2025-06-13T18:52:17.597220</td></tr><tr><td>516575</td><td>VALORANT</td><td>https://static-cdn.jtvnw.net/ttv-boxart/516575-{width}x{height}.jpg</td><td>126459</td><td>2025-06-13T18:52:17.597220</td></tr><tr><td>32982</td><td>Grand Theft Auto V</td><td>https://static-cdn.jtvnw.net/ttv-boxart/32982_IGDB-{width}x{height}.jpg</td><td>1020</td><td>2025-06-13T18:52:17.597220</td></tr><tr><td>21779</td><td>League of Legends</td><td>https://static-cdn.jtvnw.net/ttv-boxart/21779-{width}x{height}.jpg</td><td>115</td><td>2025-06-13T18:52:17.597220</td></tr><tr><td>29307</td><td>Path of Exile</td><td>https://static-cdn.jtvnw.net/ttv-boxart/29307_IGDB-{width}x{height}.jpg</td><td>1911</td><td>2025-06-13T18:52:17.597220</td></tr><tr><td>27471</td><td>Minecraft</td><td>https://static-cdn.jtvnw.net/ttv-boxart/27471_IGDB-{width}x{height}.jpg</td><td>135400</td><td>2025-06-13T18:52:17.597220</td></tr><tr><td>29595</td><td>Dota 2</td><td>https://static-cdn.jtvnw.net/ttv-boxart/29595-{width}x{height}.jpg</td><td></td><td>2025-06-13T18:52:17.597220</td></tr><tr><td>481086259</td><td>The Alters</td><td>https://static-cdn.jtvnw.net/ttv-boxart/481086259_IGDB-{width}x{height}.jpg</td><td>204634</td><td>2025-06-13T18:52:17.597220</td></tr><tr><td>33214</td><td>Fortnite</td><td>https://static-cdn.jtvnw.net/ttv-boxart/33214-{width}x{height}.jpg</td><td>1905</td><td>2025-06-13T18:52:17.597220</td></tr><tr><td>2011938005</td><td>EA Sports FC 25</td><td>https://static-cdn.jtvnw.net/ttv-boxart/2011938005_IGDB-{width}x{height}.jpg</td><td>308698</td><td>2025-06-13T18:52:17.597220</td></tr><tr><td>1987896617</td><td>Dune: Awakening</td><td>https://static-cdn.jtvnw.net/ttv-boxart/1987896617_IGDB-{width}x{height}.jpg</td><td>214394</td><td>2025-06-13T18:52:17.597220</td></tr><tr><td>602694215</td><td>Five Nights at Freddy's: Secret of the Mimic</td><td>https://static-cdn.jtvnw.net/ttv-boxart/602694215_IGDB-{width}x{height}.jpg</td><td>312859</td><td>2025-06-13T18:52:17.597220</td></tr><tr><td>55453844</td><td>Street Fighter 6</td><td>https://static-cdn.jtvnw.net/ttv-boxart/55453844_IGDB-{width}x{height}.jpg</td><td>191692</td><td>2025-06-13T18:52:17.597220</td></tr><tr><td>460630</td><td>Tom Clancy's Rainbow Six Siege X</td><td>https://static-cdn.jtvnw.net/ttv-boxart/460630-{width}x{height}.jpg</td><td>7360</td><td>2025-06-13T18:52:17.597220</td></tr><tr><td>512710</td><td>Call of Duty: Warzone</td><td>https://static-cdn.jtvnw.net/ttv-boxart/512710-{width}x{height}.jpg</td><td>131800</td><td>2025-06-13T18:52:17.597220</td></tr><tr><td>1826300051</td><td>Mario Kart World</td><td>https://static-cdn.jtvnw.net/ttv-boxart/1826300051_IGDB-{width}x{height}.jpg</td><td>338067</td><td>2025-06-13T18:52:17.597220</td></tr><tr><td>32399</td><td>Counter-Strike</td><td>https://static-cdn.jtvnw.net/ttv-boxart/32399-{width}x{height}.jpg</td><td></td><td>2025-06-13T18:59:38.330803</td></tr><tr><td>516575</td><td>VALORANT</td><td>https://static-cdn.jtvnw.net/ttv-boxart/516575-{width}x{height}.jpg</td><td>126459</td><td>2025-06-13T18:59:38.330803</td></tr><tr><td>32982</td><td>Grand Theft Auto V</td><td>https://static-cdn.jtvnw.net/ttv-boxart/32982_IGDB-{width}x{height}.jpg</td><td>1020</td><td>2025-06-13T18:59:38.330803</td></tr><tr><td>29307</td><td>Path of Exile</td><td>https://static-cdn.jtvnw.net/ttv-boxart/29307_IGDB-{width}x{height}.jpg</td><td>1911</td><td>2025-06-13T18:59:38.330803</td></tr><tr><td>21779</td><td>League of Legends</td><td>https://static-cdn.jtvnw.net/ttv-boxart/21779-{width}x{height}.jpg</td><td>115</td><td>2025-06-13T18:59:38.330803</td></tr><tr><td>27471</td><td>Minecraft</td><td>https://static-cdn.jtvnw.net/ttv-boxart/27471_IGDB-{width}x{height}.jpg</td><td>135400</td><td>2025-06-13T18:59:38.330803</td></tr><tr><td>481086259</td><td>The Alters</td><td>https://static-cdn.jtvnw.net/ttv-boxart/481086259_IGDB-{width}x{height}.jpg</td><td>204634</td><td>2025-06-13T18:59:38.330803</td></tr><tr><td>33214</td><td>Fortnite</td><td>https://static-cdn.jtvnw.net/ttv-boxart/33214-{width}x{height}.jpg</td><td>1905</td><td>2025-06-13T18:59:38.330803</td></tr><tr><td>29595</td><td>Dota 2</td><td>https://static-cdn.jtvnw.net/ttv-boxart/29595-{width}x{height}.jpg</td><td></td><td>2025-06-13T18:59:38.330803</td></tr><tr><td>2011938005</td><td>EA Sports FC 25</td><td>https://static-cdn.jtvnw.net/ttv-boxart/2011938005_IGDB-{width}x{height}.jpg</td><td>308698</td><td>2025-06-13T18:59:38.330803</td></tr><tr><td>602694215</td><td>Five Nights at Freddy's: Secret of the Mimic</td><td>https://static-cdn.jtvnw.net/ttv-boxart/602694215_IGDB-{width}x{height}.jpg</td><td>312859</td><td>2025-06-13T18:59:38.330803</td></tr><tr><td>1987896617</td><td>Dune: Awakening</td><td>https://static-cdn.jtvnw.net/ttv-boxart/1987896617_IGDB-{width}x{height}.jpg</td><td>214394</td><td>2025-06-13T18:59:38.330803</td></tr><tr><td>460630</td><td>Tom Clancy's Rainbow Six Siege X</td><td>https://static-cdn.jtvnw.net/ttv-boxart/460630-{width}x{height}.jpg</td><td>7360</td><td>2025-06-13T18:59:38.330803</td></tr><tr><td>512710</td><td>Call of Duty: Warzone</td><td>https://static-cdn.jtvnw.net/ttv-boxart/512710-{width}x{height}.jpg</td><td>131800</td><td>2025-06-13T18:59:38.330803</td></tr><tr><td>55453844</td><td>Street Fighter 6</td><td>https://static-cdn.jtvnw.net/ttv-boxart/55453844_IGDB-{width}x{height}.jpg</td><td>191692</td><td>2025-06-13T18:59:38.330803</td></tr><tr><td>1826300051</td><td>Mario Kart World</td><td>https://static-cdn.jtvnw.net/ttv-boxart/1826300051_IGDB-{width}x{height}.jpg</td><td>338067</td><td>2025-06-13T18:59:38.330803</td></tr><tr><td>32399</td><td>Counter-Strike</td><td>https://static-cdn.jtvnw.net/ttv-boxart/32399-{width}x{height}.jpg</td><td></td><td>2025-06-13T19:35:06.178116</td></tr><tr><td>516575</td><td>VALORANT</td><td>https://static-cdn.jtvnw.net/ttv-boxart/516575-{width}x{height}.jpg</td><td>126459</td><td>2025-06-13T19:35:06.178116</td></tr><tr><td>32982</td><td>Grand Theft Auto V</td><td>https://static-cdn.jtvnw.net/ttv-boxart/32982_IGDB-{width}x{height}.jpg</td><td>1020</td><td>2025-06-13T19:35:06.178116</td></tr><tr><td>29307</td><td>Path of Exile</td><td>https://static-cdn.jtvnw.net/ttv-boxart/29307_IGDB-{width}x{height}.jpg</td><td>1911</td><td>2025-06-13T19:35:06.178116</td></tr><tr><td>27471</td><td>Minecraft</td><td>https://static-cdn.jtvnw.net/ttv-boxart/27471_IGDB-{width}x{height}.jpg</td><td>135400</td><td>2025-06-13T19:35:06.178116</td></tr><tr><td>21779</td><td>League of Legends</td><td>https://static-cdn.jtvnw.net/ttv-boxart/21779-{width}x{height}.jpg</td><td>115</td><td>2025-06-13T19:35:06.178116</td></tr><tr><td>481086259</td><td>The Alters</td><td>https://static-cdn.jtvnw.net/ttv-boxart/481086259_IGDB-{width}x{height}.jpg</td><td>204634</td><td>2025-06-13T19:35:06.178116</td></tr><tr><td>33214</td><td>Fortnite</td><td>https://static-cdn.jtvnw.net/ttv-boxart/33214-{width}x{height}.jpg</td><td>1905</td><td>2025-06-13T19:35:06.178116</td></tr><tr><td>602694215</td><td>Five Nights at Freddy's: Secret of the Mimic</td><td>https://static-cdn.jtvnw.net/ttv-boxart/602694215_IGDB-{width}x{height}.jpg</td><td>312859</td><td>2025-06-13T19:35:06.178116</td></tr><tr><td>29595</td><td>Dota 2</td><td>https://static-cdn.jtvnw.net/ttv-boxart/29595-{width}x{height}.jpg</td><td></td><td>2025-06-13T19:35:06.178116</td></tr><tr><td>460630</td><td>Tom Clancy's Rainbow Six Siege X</td><td>https://static-cdn.jtvnw.net/ttv-boxart/460630-{width}x{height}.jpg</td><td>7360</td><td>2025-06-13T19:35:06.178116</td></tr><tr><td>2011938005</td><td>EA Sports FC 25</td><td>https://static-cdn.jtvnw.net/ttv-boxart/2011938005_IGDB-{width}x{height}.jpg</td><td>308698</td><td>2025-06-13T19:35:06.178116</td></tr><tr><td>512710</td><td>Call of Duty: Warzone</td><td>https://static-cdn.jtvnw.net/ttv-boxart/512710-{width}x{height}.jpg</td><td>131800</td><td>2025-06-13T19:35:06.178116</td></tr><tr><td>1987896617</td><td>Dune: Awakening</td><td>https://static-cdn.jtvnw.net/ttv-boxart/1987896617_IGDB-{width}x{height}.jpg</td><td>214394</td><td>2025-06-13T19:35:06.178116</td></tr><tr><td>1826300051</td><td>Mario Kart World</td><td>https://static-cdn.jtvnw.net/ttv-boxart/1826300051_IGDB-{width}x{height}.jpg</td><td>338067</td><td>2025-06-13T19:35:06.178116</td></tr><tr><td>55453844</td><td>Street Fighter 6</td><td>https://static-cdn.jtvnw.net/ttv-boxart/55453844_IGDB-{width}x{height}.jpg</td><td>191692</td><td>2025-06-13T19:35:06.178116</td></tr><tr><td>32399</td><td>Counter-Strike</td><td>https://static-cdn.jtvnw.net/ttv-boxart/32399-{width}x{height}.jpg</td><td></td><td>2025-06-13T18:53:19.852418</td></tr><tr><td>516575</td><td>VALORANT</td><td>https://static-cdn.jtvnw.net/ttv-boxart/516575-{width}x{height}.jpg</td><td>126459</td><td>2025-06-13T18:53:19.852418</td></tr><tr><td>32982</td><td>Grand Theft Auto V</td><td>https://static-cdn.jtvnw.net/ttv-boxart/32982_IGDB-{width}x{height}.jpg</td><td>1020</td><td>2025-06-13T18:53:19.852418</td></tr><tr><td>21779</td><td>League of Legends</td><td>https://static-cdn.jtvnw.net/ttv-boxart/21779-{width}x{height}.jpg</td><td>115</td><td>2025-06-13T18:53:19.852418</td></tr><tr><td>29307</td><td>Path of Exile</td><td>https://static-cdn.jtvnw.net/ttv-boxart/29307_IGDB-{width}x{height}.jpg</td><td>1911</td><td>2025-06-13T18:53:19.852418</td></tr><tr><td>27471</td><td>Minecraft</td><td>https://static-cdn.jtvnw.net/ttv-boxart/27471_IGDB-{width}x{height}.jpg</td><td>135400</td><td>2025-06-13T18:53:19.852418</td></tr><tr><td>29595</td><td>Dota 2</td><td>https://static-cdn.jtvnw.net/ttv-boxart/29595-{width}x{height}.jpg</td><td></td><td>2025-06-13T18:53:19.852418</td></tr><tr><td>481086259</td><td>The Alters</td><td>https://static-cdn.jtvnw.net/ttv-boxart/481086259_IGDB-{width}x{height}.jpg</td><td>204634</td><td>2025-06-13T18:53:19.852418</td></tr><tr><td>33214</td><td>Fortnite</td><td>https://static-cdn.jtvnw.net/ttv-boxart/33214-{width}x{height}.jpg</td><td>1905</td><td>2025-06-13T18:53:19.852418</td></tr><tr><td>2011938005</td><td>EA Sports FC 25</td><td>https://static-cdn.jtvnw.net/ttv-boxart/2011938005_IGDB-{width}x{height}.jpg</td><td>308698</td><td>2025-06-13T18:53:19.852418</td></tr><tr><td>1987896617</td><td>Dune: Awakening</td><td>https://static-cdn.jtvnw.net/ttv-boxart/1987896617_IGDB-{width}x{height}.jpg</td><td>214394</td><td>2025-06-13T18:53:19.852418</td></tr><tr><td>602694215</td><td>Five Nights at Freddy's: Secret of the Mimic</td><td>https://static-cdn.jtvnw.net/ttv-boxart/602694215_IGDB-{width}x{height}.jpg</td><td>312859</td><td>2025-06-13T18:53:19.852418</td></tr><tr><td>460630</td><td>Tom Clancy's Rainbow Six Siege X</td><td>https://static-cdn.jtvnw.net/ttv-boxart/460630-{width}x{height}.jpg</td><td>7360</td><td>2025-06-13T18:53:19.852418</td></tr><tr><td>55453844</td><td>Street Fighter 6</td><td>https://static-cdn.jtvnw.net/ttv-boxart/55453844_IGDB-{width}x{height}.jpg</td><td>191692</td><td>2025-06-13T18:53:19.852418</td></tr><tr><td>512710</td><td>Call of Duty: Warzone</td><td>https://static-cdn.jtvnw.net/ttv-boxart/512710-{width}x{height}.jpg</td><td>131800</td><td>2025-06-13T18:53:19.852418</td></tr><tr><td>1826300051</td><td>Mario Kart World</td><td>https://static-cdn.jtvnw.net/ttv-boxart/1826300051_IGDB-{width}x{height}.jpg</td><td>338067</td><td>2025-06-13T18:53:19.852418</td></tr><tr><td>32399</td><td>Counter-Strike</td><td>https://static-cdn.jtvnw.net/ttv-boxart/32399-{width}x{height}.jpg</td><td></td><td>2025-06-13T19:34:04.232174</td></tr><tr><td>516575</td><td>VALORANT</td><td>https://static-cdn.jtvnw.net/ttv-boxart/516575-{width}x{height}.jpg</td><td>126459</td><td>2025-06-13T19:34:04.232174</td></tr><tr><td>32982</td><td>Grand Theft Auto V</td><td>https://static-cdn.jtvnw.net/ttv-boxart/32982_IGDB-{width}x{height}.jpg</td><td>1020</td><td>2025-06-13T19:34:04.232174</td></tr><tr><td>29307</td><td>Path of Exile</td><td>https://static-cdn.jtvnw.net/ttv-boxart/29307_IGDB-{width}x{height}.jpg</td><td>1911</td><td>2025-06-13T19:34:04.232174</td></tr><tr><td>27471</td><td>Minecraft</td><td>https://static-cdn.jtvnw.net/ttv-boxart/27471_IGDB-{width}x{height}.jpg</td><td>135400</td><td>2025-06-13T19:34:04.232174</td></tr><tr><td>21779</td><td>League of Legends</td><td>https://static-cdn.jtvnw.net/ttv-boxart/21779-{width}x{height}.jpg</td><td>115</td><td>2025-06-13T19:34:04.232174</td></tr><tr><td>481086259</td><td>The Alters</td><td>https://static-cdn.jtvnw.net/ttv-boxart/481086259_IGDB-{width}x{height}.jpg</td><td>204634</td><td>2025-06-13T19:34:04.232174</td></tr><tr><td>33214</td><td>Fortnite</td><td>https://static-cdn.jtvnw.net/ttv-boxart/33214-{width}x{height}.jpg</td><td>1905</td><td>2025-06-13T19:34:04.232174</td></tr><tr><td>602694215</td><td>Five Nights at Freddy's: Secret of the Mimic</td><td>https://static-cdn.jtvnw.net/ttv-boxart/602694215_IGDB-{width}x{height}.jpg</td><td>312859</td><td>2025-06-13T19:34:04.232174</td></tr><tr><td>29595</td><td>Dota 2</td><td>https://static-cdn.jtvnw.net/ttv-boxart/29595-{width}x{height}.jpg</td><td></td><td>2025-06-13T19:34:04.232174</td></tr><tr><td>460630</td><td>Tom Clancy's Rainbow Six Siege X</td><td>https://static-cdn.jtvnw.net/ttv-boxart/460630-{width}x{height}.jpg</td><td>7360</td><td>2025-06-13T19:34:04.232174</td></tr><tr><td>2011938005</td><td>EA Sports FC 25</td><td>https://static-cdn.jtvnw.net/ttv-boxart/2011938005_IGDB-{width}x{height}.jpg</td><td>308698</td><td>2025-06-13T19:34:04.232174</td></tr><tr><td>512710</td><td>Call of Duty: Warzone</td><td>https://static-cdn.jtvnw.net/ttv-boxart/512710-{width}x{height}.jpg</td><td>131800</td><td>2025-06-13T19:34:04.232174</td></tr><tr><td>1987896617</td><td>Dune: Awakening</td><td>https://static-cdn.jtvnw.net/ttv-boxart/1987896617_IGDB-{width}x{height}.jpg</td><td>214394</td><td>2025-06-13T19:34:04.232174</td></tr><tr><td>1826300051</td><td>Mario Kart World</td><td>https://static-cdn.jtvnw.net/ttv-boxart/1826300051_IGDB-{width}x{height}.jpg</td><td>338067</td><td>2025-06-13T19:34:04.232174</td></tr><tr><td>55453844</td><td>Street Fighter 6</td><td>https://static-cdn.jtvnw.net/ttv-boxart/55453844_IGDB-{width}x{height}.jpg</td><td>191692</td><td>2025-06-13T19:34:04.232174</td></tr><tr><td>32399</td><td>Counter-Strike</td><td>https://static-cdn.jtvnw.net/ttv-boxart/32399-{width}x{height}.jpg</td><td></td><td>2025-06-13T19:30:55.169132</td></tr><tr><td>516575</td><td>VALORANT</td><td>https://static-cdn.jtvnw.net/ttv-boxart/516575-{width}x{height}.jpg</td><td>126459</td><td>2025-06-13T19:30:55.169132</td></tr><tr><td>32982</td><td>Grand Theft Auto V</td><td>https://static-cdn.jtvnw.net/ttv-boxart/32982_IGDB-{width}x{height}.jpg</td><td>1020</td><td>2025-06-13T19:30:55.169132</td></tr><tr><td>29307</td><td>Path of Exile</td><td>https://static-cdn.jtvnw.net/ttv-boxart/29307_IGDB-{width}x{height}.jpg</td><td>1911</td><td>2025-06-13T19:30:55.169132</td></tr><tr><td>27471</td><td>Minecraft</td><td>https://static-cdn.jtvnw.net/ttv-boxart/27471_IGDB-{width}x{height}.jpg</td><td>135400</td><td>2025-06-13T19:30:55.169132</td></tr><tr><td>21779</td><td>League of Legends</td><td>https://static-cdn.jtvnw.net/ttv-boxart/21779-{width}x{height}.jpg</td><td>115</td><td>2025-06-13T19:30:55.169132</td></tr><tr><td>481086259</td><td>The Alters</td><td>https://static-cdn.jtvnw.net/ttv-boxart/481086259_IGDB-{width}x{height}.jpg</td><td>204634</td><td>2025-06-13T19:30:55.169132</td></tr><tr><td>33214</td><td>Fortnite</td><td>https://static-cdn.jtvnw.net/ttv-boxart/33214-{width}x{height}.jpg</td><td>1905</td><td>2025-06-13T19:30:55.169132</td></tr><tr><td>602694215</td><td>Five Nights at Freddy's: Secret of the Mimic</td><td>https://static-cdn.jtvnw.net/ttv-boxart/602694215_IGDB-{width}x{height}.jpg</td><td>312859</td><td>2025-06-13T19:30:55.169132</td></tr><tr><td>29595</td><td>Dota 2</td><td>https://static-cdn.jtvnw.net/ttv-boxart/29595-{width}x{height}.jpg</td><td></td><td>2025-06-13T19:30:55.169132</td></tr><tr><td>460630</td><td>Tom Clancy's Rainbow Six Siege X</td><td>https://static-cdn.jtvnw.net/ttv-boxart/460630-{width}x{height}.jpg</td><td>7360</td><td>2025-06-13T19:30:55.169132</td></tr><tr><td>2011938005</td><td>EA Sports FC 25</td><td>https://static-cdn.jtvnw.net/ttv-boxart/2011938005_IGDB-{width}x{height}.jpg</td><td>308698</td><td>2025-06-13T19:30:55.169132</td></tr><tr><td>512710</td><td>Call of Duty: Warzone</td><td>https://static-cdn.jtvnw.net/ttv-boxart/512710-{width}x{height}.jpg</td><td>131800</td><td>2025-06-13T19:30:55.169132</td></tr><tr><td>1987896617</td><td>Dune: Awakening</td><td>https://static-cdn.jtvnw.net/ttv-boxart/1987896617_IGDB-{width}x{height}.jpg</td><td>214394</td><td>2025-06-13T19:30:55.169132</td></tr><tr><td>1826300051</td><td>Mario Kart World</td><td>https://static-cdn.jtvnw.net/ttv-boxart/1826300051_IGDB-{width}x{height}.jpg</td><td>338067</td><td>2025-06-13T19:30:55.169132</td></tr><tr><td>55453844</td><td>Street Fighter 6</td><td>https://static-cdn.jtvnw.net/ttv-boxart/55453844_IGDB-{width}x{height}.jpg</td><td>191692</td><td>2025-06-13T19:30:55.169132</td></tr><tr><td>32399</td><td>Counter-Strike</td><td>https://static-cdn.jtvnw.net/ttv-boxart/32399-{width}x{height}.jpg</td><td></td><td>2025-06-13T19:29:53.196862</td></tr><tr><td>516575</td><td>VALORANT</td><td>https://static-cdn.jtvnw.net/ttv-boxart/516575-{width}x{height}.jpg</td><td>126459</td><td>2025-06-13T19:29:53.196862</td></tr><tr><td>32982</td><td>Grand Theft Auto V</td><td>https://static-cdn.jtvnw.net/ttv-boxart/32982_IGDB-{width}x{height}.jpg</td><td>1020</td><td>2025-06-13T19:29:53.196862</td></tr><tr><td>29307</td><td>Path of Exile</td><td>https://static-cdn.jtvnw.net/ttv-boxart/29307_IGDB-{width}x{height}.jpg</td><td>1911</td><td>2025-06-13T19:29:53.196862</td></tr><tr><td>27471</td><td>Minecraft</td><td>https://static-cdn.jtvnw.net/ttv-boxart/27471_IGDB-{width}x{height}.jpg</td><td>135400</td><td>2025-06-13T19:29:53.196862</td></tr><tr><td>21779</td><td>League of Legends</td><td>https://static-cdn.jtvnw.net/ttv-boxart/21779-{width}x{height}.jpg</td><td>115</td><td>2025-06-13T19:29:53.196862</td></tr><tr><td>481086259</td><td>The Alters</td><td>https://static-cdn.jtvnw.net/ttv-boxart/481086259_IGDB-{width}x{height}.jpg</td><td>204634</td><td>2025-06-13T19:29:53.196862</td></tr><tr><td>33214</td><td>Fortnite</td><td>https://static-cdn.jtvnw.net/ttv-boxart/33214-{width}x{height}.jpg</td><td>1905</td><td>2025-06-13T19:29:53.196862</td></tr><tr><td>602694215</td><td>Five Nights at Freddy's: Secret of the Mimic</td><td>https://static-cdn.jtvnw.net/ttv-boxart/602694215_IGDB-{width}x{height}.jpg</td><td>312859</td><td>2025-06-13T19:29:53.196862</td></tr><tr><td>29595</td><td>Dota 2</td><td>https://static-cdn.jtvnw.net/ttv-boxart/29595-{width}x{height}.jpg</td><td></td><td>2025-06-13T19:29:53.196862</td></tr><tr><td>460630</td><td>Tom Clancy's Rainbow Six Siege X</td><td>https://static-cdn.jtvnw.net/ttv-boxart/460630-{width}x{height}.jpg</td><td>7360</td><td>2025-06-13T19:29:53.196862</td></tr><tr><td>2011938005</td><td>EA Sports FC 25</td><td>https://static-cdn.jtvnw.net/ttv-boxart/2011938005_IGDB-{width}x{height}.jpg</td><td>308698</td><td>2025-06-13T19:29:53.196862</td></tr><tr><td>512710</td><td>Call of Duty: Warzone</td><td>https://static-cdn.jtvnw.net/ttv-boxart/512710-{width}x{height}.jpg</td><td>131800</td><td>2025-06-13T19:29:53.196862</td></tr><tr><td>1987896617</td><td>Dune: Awakening</td><td>https://static-cdn.jtvnw.net/ttv-boxart/1987896617_IGDB-{width}x{height}.jpg</td><td>214394</td><td>2025-06-13T19:29:53.196862</td></tr><tr><td>1826300051</td><td>Mario Kart World</td><td>https://static-cdn.jtvnw.net/ttv-boxart/1826300051_IGDB-{width}x{height}.jpg</td><td>338067</td><td>2025-06-13T19:29:53.196862</td></tr><tr><td>55453844</td><td>Street Fighter 6</td><td>https://static-cdn.jtvnw.net/ttv-boxart/55453844_IGDB-{width}x{height}.jpg</td><td>191692</td><td>2025-06-13T19:29:53.196862</td></tr><tr><td>32399</td><td>Counter-Strike</td><td>https://static-cdn.jtvnw.net/ttv-boxart/32399-{width}x{height}.jpg</td><td></td><td>2025-06-13T19:33:02.248517</td></tr><tr><td>516575</td><td>VALORANT</td><td>https://static-cdn.jtvnw.net/ttv-boxart/516575-{width}x{height}.jpg</td><td>126459</td><td>2025-06-13T19:33:02.248517</td></tr><tr><td>32982</td><td>Grand Theft Auto V</td><td>https://static-cdn.jtvnw.net/ttv-boxart/32982_IGDB-{width}x{height}.jpg</td><td>1020</td><td>2025-06-13T19:33:02.248517</td></tr><tr><td>29307</td><td>Path of Exile</td><td>https://static-cdn.jtvnw.net/ttv-boxart/29307_IGDB-{width}x{height}.jpg</td><td>1911</td><td>2025-06-13T19:33:02.248517</td></tr><tr><td>27471</td><td>Minecraft</td><td>https://static-cdn.jtvnw.net/ttv-boxart/27471_IGDB-{width}x{height}.jpg</td><td>135400</td><td>2025-06-13T19:33:02.248517</td></tr><tr><td>21779</td><td>League of Legends</td><td>https://static-cdn.jtvnw.net/ttv-boxart/21779-{width}x{height}.jpg</td><td>115</td><td>2025-06-13T19:33:02.248517</td></tr><tr><td>481086259</td><td>The Alters</td><td>https://static-cdn.jtvnw.net/ttv-boxart/481086259_IGDB-{width}x{height}.jpg</td><td>204634</td><td>2025-06-13T19:33:02.248517</td></tr><tr><td>33214</td><td>Fortnite</td><td>https://static-cdn.jtvnw.net/ttv-boxart/33214-{width}x{height}.jpg</td><td>1905</td><td>2025-06-13T19:33:02.248517</td></tr><tr><td>602694215</td><td>Five Nights at Freddy's: Secret of the Mimic</td><td>https://static-cdn.jtvnw.net/ttv-boxart/602694215_IGDB-{width}x{height}.jpg</td><td>312859</td><td>2025-06-13T19:33:02.248517</td></tr><tr><td>29595</td><td>Dota 2</td><td>https://static-cdn.jtvnw.net/ttv-boxart/29595-{width}x{height}.jpg</td><td></td><td>2025-06-13T19:33:02.248517</td></tr><tr><td>460630</td><td>Tom Clancy's Rainbow Six Siege X</td><td>https://static-cdn.jtvnw.net/ttv-boxart/460630-{width}x{height}.jpg</td><td>7360</td><td>2025-06-13T19:33:02.248517</td></tr><tr><td>2011938005</td><td>EA Sports FC 25</td><td>https://static-cdn.jtvnw.net/ttv-boxart/2011938005_IGDB-{width}x{height}.jpg</td><td>308698</td><td>2025-06-13T19:33:02.248517</td></tr><tr><td>512710</td><td>Call of Duty: Warzone</td><td>https://static-cdn.jtvnw.net/ttv-boxart/512710-{width}x{height}.jpg</td><td>131800</td><td>2025-06-13T19:33:02.248517</td></tr><tr><td>1987896617</td><td>Dune: Awakening</td><td>https://static-cdn.jtvnw.net/ttv-boxart/1987896617_IGDB-{width}x{height}.jpg</td><td>214394</td><td>2025-06-13T19:33:02.248517</td></tr><tr><td>1826300051</td><td>Mario Kart World</td><td>https://static-cdn.jtvnw.net/ttv-boxart/1826300051_IGDB-{width}x{height}.jpg</td><td>338067</td><td>2025-06-13T19:33:02.248517</td></tr><tr><td>55453844</td><td>Street Fighter 6</td><td>https://static-cdn.jtvnw.net/ttv-boxart/55453844_IGDB-{width}x{height}.jpg</td><td>191692</td><td>2025-06-13T19:33:02.248517</td></tr><tr><td>32399</td><td>Counter-Strike</td><td>https://static-cdn.jtvnw.net/ttv-boxart/32399-{width}x{height}.jpg</td><td></td><td>2025-06-13T18:58:35.988329</td></tr><tr><td>516575</td><td>VALORANT</td><td>https://static-cdn.jtvnw.net/ttv-boxart/516575-{width}x{height}.jpg</td><td>126459</td><td>2025-06-13T18:58:35.988329</td></tr><tr><td>32982</td><td>Grand Theft Auto V</td><td>https://static-cdn.jtvnw.net/ttv-boxart/32982_IGDB-{width}x{height}.jpg</td><td>1020</td><td>2025-06-13T18:58:35.988329</td></tr><tr><td>29307</td><td>Path of Exile</td><td>https://static-cdn.jtvnw.net/ttv-boxart/29307_IGDB-{width}x{height}.jpg</td><td>1911</td><td>2025-06-13T18:58:35.988329</td></tr><tr><td>21779</td><td>League of Legends</td><td>https://static-cdn.jtvnw.net/ttv-boxart/21779-{width}x{height}.jpg</td><td>115</td><td>2025-06-13T18:58:35.988329</td></tr><tr><td>27471</td><td>Minecraft</td><td>https://static-cdn.jtvnw.net/ttv-boxart/27471_IGDB-{width}x{height}.jpg</td><td>135400</td><td>2025-06-13T18:58:35.988329</td></tr><tr><td>481086259</td><td>The Alters</td><td>https://static-cdn.jtvnw.net/ttv-boxart/481086259_IGDB-{width}x{height}.jpg</td><td>204634</td><td>2025-06-13T18:58:35.988329</td></tr><tr><td>33214</td><td>Fortnite</td><td>https://static-cdn.jtvnw.net/ttv-boxart/33214-{width}x{height}.jpg</td><td>1905</td><td>2025-06-13T18:58:35.988329</td></tr><tr><td>29595</td><td>Dota 2</td><td>https://static-cdn.jtvnw.net/ttv-boxart/29595-{width}x{height}.jpg</td><td></td><td>2025-06-13T18:58:35.988329</td></tr><tr><td>2011938005</td><td>EA Sports FC 25</td><td>https://static-cdn.jtvnw.net/ttv-boxart/2011938005_IGDB-{width}x{height}.jpg</td><td>308698</td><td>2025-06-13T18:58:35.988329</td></tr><tr><td>1987896617</td><td>Dune: Awakening</td><td>https://static-cdn.jtvnw.net/ttv-boxart/1987896617_IGDB-{width}x{height}.jpg</td><td>214394</td><td>2025-06-13T18:58:35.988329</td></tr><tr><td>602694215</td><td>Five Nights at Freddy's: Secret of the Mimic</td><td>https://static-cdn.jtvnw.net/ttv-boxart/602694215_IGDB-{width}x{height}.jpg</td><td>312859</td><td>2025-06-13T18:58:35.988329</td></tr><tr><td>460630</td><td>Tom Clancy's Rainbow Six Siege X</td><td>https://static-cdn.jtvnw.net/ttv-boxart/460630-{width}x{height}.jpg</td><td>7360</td><td>2025-06-13T18:58:35.988329</td></tr><tr><td>55453844</td><td>Street Fighter 6</td><td>https://static-cdn.jtvnw.net/ttv-boxart/55453844_IGDB-{width}x{height}.jpg</td><td>191692</td><td>2025-06-13T18:58:35.988329</td></tr><tr><td>512710</td><td>Call of Duty: Warzone</td><td>https://static-cdn.jtvnw.net/ttv-boxart/512710-{width}x{height}.jpg</td><td>131800</td><td>2025-06-13T18:58:35.988329</td></tr><tr><td>1826300051</td><td>Mario Kart World</td><td>https://static-cdn.jtvnw.net/ttv-boxart/1826300051_IGDB-{width}x{height}.jpg</td><td>338067</td><td>2025-06-13T18:58:35.988329</td></tr><tr><td>32399</td><td>Counter-Strike</td><td>https://static-cdn.jtvnw.net/ttv-boxart/32399-{width}x{height}.jpg</td><td></td><td>2025-06-13T19:32:00.135697</td></tr><tr><td>516575</td><td>VALORANT</td><td>https://static-cdn.jtvnw.net/ttv-boxart/516575-{width}x{height}.jpg</td><td>126459</td><td>2025-06-13T19:32:00.135697</td></tr><tr><td>32982</td><td>Grand Theft Auto V</td><td>https://static-cdn.jtvnw.net/ttv-boxart/32982_IGDB-{width}x{height}.jpg</td><td>1020</td><td>2025-06-13T19:32:00.135697</td></tr><tr><td>29307</td><td>Path of Exile</td><td>https://static-cdn.jtvnw.net/ttv-boxart/29307_IGDB-{width}x{height}.jpg</td><td>1911</td><td>2025-06-13T19:32:00.135697</td></tr><tr><td>27471</td><td>Minecraft</td><td>https://static-cdn.jtvnw.net/ttv-boxart/27471_IGDB-{width}x{height}.jpg</td><td>135400</td><td>2025-06-13T19:32:00.135697</td></tr><tr><td>21779</td><td>League of Legends</td><td>https://static-cdn.jtvnw.net/ttv-boxart/21779-{width}x{height}.jpg</td><td>115</td><td>2025-06-13T19:32:00.135697</td></tr><tr><td>481086259</td><td>The Alters</td><td>https://static-cdn.jtvnw.net/ttv-boxart/481086259_IGDB-{width}x{height}.jpg</td><td>204634</td><td>2025-06-13T19:32:00.135697</td></tr><tr><td>33214</td><td>Fortnite</td><td>https://static-cdn.jtvnw.net/ttv-boxart/33214-{width}x{height}.jpg</td><td>1905</td><td>2025-06-13T19:32:00.135697</td></tr><tr><td>602694215</td><td>Five Nights at Freddy's: Secret of the Mimic</td><td>https://static-cdn.jtvnw.net/ttv-boxart/602694215_IGDB-{width}x{height}.jpg</td><td>312859</td><td>2025-06-13T19:32:00.135697</td></tr><tr><td>29595</td><td>Dota 2</td><td>https://static-cdn.jtvnw.net/ttv-boxart/29595-{width}x{height}.jpg</td><td></td><td>2025-06-13T19:32:00.135697</td></tr><tr><td>460630</td><td>Tom Clancy's Rainbow Six Siege X</td><td>https://static-cdn.jtvnw.net/ttv-boxart/460630-{width}x{height}.jpg</td><td>7360</td><td>2025-06-13T19:32:00.135697</td></tr><tr><td>2011938005</td><td>EA Sports FC 25</td><td>https://static-cdn.jtvnw.net/ttv-boxart/2011938005_IGDB-{width}x{height}.jpg</td><td>308698</td><td>2025-06-13T19:32:00.135697</td></tr><tr><td>512710</td><td>Call of Duty: Warzone</td><td>https://static-cdn.jtvnw.net/ttv-boxart/512710-{width}x{height}.jpg</td><td>131800</td><td>2025-06-13T19:32:00.135697</td></tr><tr><td>1987896617</td><td>Dune: Awakening</td><td>https://static-cdn.jtvnw.net/ttv-boxart/1987896617_IGDB-{width}x{height}.jpg</td><td>214394</td><td>2025-06-13T19:32:00.135697</td></tr><tr><td>1826300051</td><td>Mario Kart World</td><td>https://static-cdn.jtvnw.net/ttv-boxart/1826300051_IGDB-{width}x{height}.jpg</td><td>338067</td><td>2025-06-13T19:32:00.135697</td></tr><tr><td>55453844</td><td>Street Fighter 6</td><td>https://static-cdn.jtvnw.net/ttv-boxart/55453844_IGDB-{width}x{height}.jpg</td><td>191692</td><td>2025-06-13T19:32:00.135697</td></tr><tr><td>32399</td><td>Counter-Strike</td><td>https://static-cdn.jtvnw.net/ttv-boxart/32399-{width}x{height}.jpg</td><td></td><td>2025-06-13T18:57:33.650335</td></tr><tr><td>516575</td><td>VALORANT</td><td>https://static-cdn.jtvnw.net/ttv-boxart/516575-{width}x{height}.jpg</td><td>126459</td><td>2025-06-13T18:57:33.650335</td></tr><tr><td>32982</td><td>Grand Theft Auto V</td><td>https://static-cdn.jtvnw.net/ttv-boxart/32982_IGDB-{width}x{height}.jpg</td><td>1020</td><td>2025-06-13T18:57:33.650335</td></tr><tr><td>29307</td><td>Path of Exile</td><td>https://static-cdn.jtvnw.net/ttv-boxart/29307_IGDB-{width}x{height}.jpg</td><td>1911</td><td>2025-06-13T18:57:33.650335</td></tr><tr><td>21779</td><td>League of Legends</td><td>https://static-cdn.jtvnw.net/ttv-boxart/21779-{width}x{height}.jpg</td><td>115</td><td>2025-06-13T18:57:33.650335</td></tr><tr><td>27471</td><td>Minecraft</td><td>https://static-cdn.jtvnw.net/ttv-boxart/27471_IGDB-{width}x{height}.jpg</td><td>135400</td><td>2025-06-13T18:57:33.650335</td></tr><tr><td>481086259</td><td>The Alters</td><td>https://static-cdn.jtvnw.net/ttv-boxart/481086259_IGDB-{width}x{height}.jpg</td><td>204634</td><td>2025-06-13T18:57:33.650335</td></tr><tr><td>33214</td><td>Fortnite</td><td>https://static-cdn.jtvnw.net/ttv-boxart/33214-{width}x{height}.jpg</td><td>1905</td><td>2025-06-13T18:57:33.650335</td></tr><tr><td>29595</td><td>Dota 2</td><td>https://static-cdn.jtvnw.net/ttv-boxart/29595-{width}x{height}.jpg</td><td></td><td>2025-06-13T18:57:33.650335</td></tr><tr><td>2011938005</td><td>EA Sports FC 25</td><td>https://static-cdn.jtvnw.net/ttv-boxart/2011938005_IGDB-{width}x{height}.jpg</td><td>308698</td><td>2025-06-13T18:57:33.650335</td></tr><tr><td>1987896617</td><td>Dune: Awakening</td><td>https://static-cdn.jtvnw.net/ttv-boxart/1987896617_IGDB-{width}x{height}.jpg</td><td>214394</td><td>2025-06-13T18:57:33.650335</td></tr><tr><td>460630</td><td>Tom Clancy's Rainbow Six Siege X</td><td>https://static-cdn.jtvnw.net/ttv-boxart/460630-{width}x{height}.jpg</td><td>7360</td><td>2025-06-13T18:57:33.650335</td></tr><tr><td>602694215</td><td>Five Nights at Freddy's: Secret of the Mimic</td><td>https://static-cdn.jtvnw.net/ttv-boxart/602694215_IGDB-{width}x{height}.jpg</td><td>312859</td><td>2025-06-13T18:57:33.650335</td></tr><tr><td>55453844</td><td>Street Fighter 6</td><td>https://static-cdn.jtvnw.net/ttv-boxart/55453844_IGDB-{width}x{height}.jpg</td><td>191692</td><td>2025-06-13T18:57:33.650335</td></tr><tr><td>512710</td><td>Call of Duty: Warzone</td><td>https://static-cdn.jtvnw.net/ttv-boxart/512710-{width}x{height}.jpg</td><td>131800</td><td>2025-06-13T18:57:33.650335</td></tr><tr><td>1826300051</td><td>Mario Kart World</td><td>https://static-cdn.jtvnw.net/ttv-boxart/1826300051_IGDB-{width}x{height}.jpg</td><td>338067</td><td>2025-06-13T18:57:33.650335</td></tr><tr><td>32399</td><td>Counter-Strike</td><td>https://static-cdn.jtvnw.net/ttv-boxart/32399-{width}x{height}.jpg</td><td></td><td>2025-06-13T18:54:27.218706</td></tr><tr><td>516575</td><td>VALORANT</td><td>https://static-cdn.jtvnw.net/ttv-boxart/516575-{width}x{height}.jpg</td><td>126459</td><td>2025-06-13T18:54:27.218706</td></tr><tr><td>32982</td><td>Grand Theft Auto V</td><td>https://static-cdn.jtvnw.net/ttv-boxart/32982_IGDB-{width}x{height}.jpg</td><td>1020</td><td>2025-06-13T18:54:27.218706</td></tr><tr><td>21779</td><td>League of Legends</td><td>https://static-cdn.jtvnw.net/ttv-boxart/21779-{width}x{height}.jpg</td><td>115</td><td>2025-06-13T18:54:27.218706</td></tr><tr><td>29307</td><td>Path of Exile</td><td>https://static-cdn.jtvnw.net/ttv-boxart/29307_IGDB-{width}x{height}.jpg</td><td>1911</td><td>2025-06-13T18:54:27.218706</td></tr><tr><td>27471</td><td>Minecraft</td><td>https://static-cdn.jtvnw.net/ttv-boxart/27471_IGDB-{width}x{height}.jpg</td><td>135400</td><td>2025-06-13T18:54:27.218706</td></tr><tr><td>29595</td><td>Dota 2</td><td>https://static-cdn.jtvnw.net/ttv-boxart/29595-{width}x{height}.jpg</td><td></td><td>2025-06-13T18:54:27.218706</td></tr><tr><td>481086259</td><td>The Alters</td><td>https://static-cdn.jtvnw.net/ttv-boxart/481086259_IGDB-{width}x{height}.jpg</td><td>204634</td><td>2025-06-13T18:54:27.218706</td></tr><tr><td>33214</td><td>Fortnite</td><td>https://static-cdn.jtvnw.net/ttv-boxart/33214-{width}x{height}.jpg</td><td>1905</td><td>2025-06-13T18:54:27.218706</td></tr><tr><td>2011938005</td><td>EA Sports FC 25</td><td>https://static-cdn.jtvnw.net/ttv-boxart/2011938005_IGDB-{width}x{height}.jpg</td><td>308698</td><td>2025-06-13T18:54:27.218706</td></tr><tr><td>1987896617</td><td>Dune: Awakening</td><td>https://static-cdn.jtvnw.net/ttv-boxart/1987896617_IGDB-{width}x{height}.jpg</td><td>214394</td><td>2025-06-13T18:54:27.218706</td></tr><tr><td>602694215</td><td>Five Nights at Freddy's: Secret of the Mimic</td><td>https://static-cdn.jtvnw.net/ttv-boxart/602694215_IGDB-{width}x{height}.jpg</td><td>312859</td><td>2025-06-13T18:54:27.218706</td></tr><tr><td>460630</td><td>Tom Clancy's Rainbow Six Siege X</td><td>https://static-cdn.jtvnw.net/ttv-boxart/460630-{width}x{height}.jpg</td><td>7360</td><td>2025-06-13T18:54:27.218706</td></tr><tr><td>55453844</td><td>Street Fighter 6</td><td>https://static-cdn.jtvnw.net/ttv-boxart/55453844_IGDB-{width}x{height}.jpg</td><td>191692</td><td>2025-06-13T18:54:27.218706</td></tr><tr><td>512710</td><td>Call of Duty: Warzone</td><td>https://static-cdn.jtvnw.net/ttv-boxart/512710-{width}x{height}.jpg</td><td>131800</td><td>2025-06-13T18:54:27.218706</td></tr><tr><td>1826300051</td><td>Mario Kart World</td><td>https://static-cdn.jtvnw.net/ttv-boxart/1826300051_IGDB-{width}x{height}.jpg</td><td>338067</td><td>2025-06-13T18:54:27.218706</td></tr><tr><td>32399</td><td>Counter-Strike</td><td>https://static-cdn.jtvnw.net/ttv-boxart/32399-{width}x{height}.jpg</td><td></td><td>2025-06-13T19:26:46.642561</td></tr><tr><td>516575</td><td>VALORANT</td><td>https://static-cdn.jtvnw.net/ttv-boxart/516575-{width}x{height}.jpg</td><td>126459</td><td>2025-06-13T19:26:46.642561</td></tr><tr><td>32982</td><td>Grand Theft Auto V</td><td>https://static-cdn.jtvnw.net/ttv-boxart/32982_IGDB-{width}x{height}.jpg</td><td>1020</td><td>2025-06-13T19:26:46.642561</td></tr><tr><td>29307</td><td>Path of Exile</td><td>https://static-cdn.jtvnw.net/ttv-boxart/29307_IGDB-{width}x{height}.jpg</td><td>1911</td><td>2025-06-13T19:26:46.642561</td></tr><tr><td>27471</td><td>Minecraft</td><td>https://static-cdn.jtvnw.net/ttv-boxart/27471_IGDB-{width}x{height}.jpg</td><td>135400</td><td>2025-06-13T19:26:46.642561</td></tr><tr><td>21779</td><td>League of Legends</td><td>https://static-cdn.jtvnw.net/ttv-boxart/21779-{width}x{height}.jpg</td><td>115</td><td>2025-06-13T19:26:46.642561</td></tr><tr><td>481086259</td><td>The Alters</td><td>https://static-cdn.jtvnw.net/ttv-boxart/481086259_IGDB-{width}x{height}.jpg</td><td>204634</td><td>2025-06-13T19:26:46.642561</td></tr><tr><td>33214</td><td>Fortnite</td><td>https://static-cdn.jtvnw.net/ttv-boxart/33214-{width}x{height}.jpg</td><td>1905</td><td>2025-06-13T19:26:46.642561</td></tr><tr><td>602694215</td><td>Five Nights at Freddy's: Secret of the Mimic</td><td>https://static-cdn.jtvnw.net/ttv-boxart/602694215_IGDB-{width}x{height}.jpg</td><td>312859</td><td>2025-06-13T19:26:46.642561</td></tr><tr><td>29595</td><td>Dota 2</td><td>https://static-cdn.jtvnw.net/ttv-boxart/29595-{width}x{height}.jpg</td><td></td><td>2025-06-13T19:26:46.642561</td></tr><tr><td>2011938005</td><td>EA Sports FC 25</td><td>https://static-cdn.jtvnw.net/ttv-boxart/2011938005_IGDB-{width}x{height}.jpg</td><td>308698</td><td>2025-06-13T19:26:46.642561</td></tr><tr><td>460630</td><td>Tom Clancy's Rainbow Six Siege X</td><td>https://static-cdn.jtvnw.net/ttv-boxart/460630-{width}x{height}.jpg</td><td>7360</td><td>2025-06-13T19:26:46.642561</td></tr><tr><td>1987896617</td><td>Dune: Awakening</td><td>https://static-cdn.jtvnw.net/ttv-boxart/1987896617_IGDB-{width}x{height}.jpg</td><td>214394</td><td>2025-06-13T19:26:46.642561</td></tr><tr><td>512710</td><td>Call of Duty: Warzone</td><td>https://static-cdn.jtvnw.net/ttv-boxart/512710-{width}x{height}.jpg</td><td>131800</td><td>2025-06-13T19:26:46.642561</td></tr><tr><td>55453844</td><td>Street Fighter 6</td><td>https://static-cdn.jtvnw.net/ttv-boxart/55453844_IGDB-{width}x{height}.jpg</td><td>191692</td><td>2025-06-13T19:26:46.642561</td></tr><tr><td>1826300051</td><td>Mario Kart World</td><td>https://static-cdn.jtvnw.net/ttv-boxart/1826300051_IGDB-{width}x{height}.jpg</td><td>338067</td><td>2025-06-13T19:26:46.642561</td></tr><tr><td>32399</td><td>Counter-Strike</td><td>https://static-cdn.jtvnw.net/ttv-boxart/32399-{width}x{height}.jpg</td><td></td><td>2025-06-13T18:55:29.438061</td></tr><tr><td>516575</td><td>VALORANT</td><td>https://static-cdn.jtvnw.net/ttv-boxart/516575-{width}x{height}.jpg</td><td>126459</td><td>2025-06-13T18:55:29.438061</td></tr><tr><td>32982</td><td>Grand Theft Auto V</td><td>https://static-cdn.jtvnw.net/ttv-boxart/32982_IGDB-{width}x{height}.jpg</td><td>1020</td><td>2025-06-13T18:55:29.438061</td></tr><tr><td>29307</td><td>Path of Exile</td><td>https://static-cdn.jtvnw.net/ttv-boxart/29307_IGDB-{width}x{height}.jpg</td><td>1911</td><td>2025-06-13T18:55:29.438061</td></tr><tr><td>21779</td><td>League of Legends</td><td>https://static-cdn.jtvnw.net/ttv-boxart/21779-{width}x{height}.jpg</td><td>115</td><td>2025-06-13T18:55:29.438061</td></tr><tr><td>27471</td><td>Minecraft</td><td>https://static-cdn.jtvnw.net/ttv-boxart/27471_IGDB-{width}x{height}.jpg</td><td>135400</td><td>2025-06-13T18:55:29.438061</td></tr><tr><td>481086259</td><td>The Alters</td><td>https://static-cdn.jtvnw.net/ttv-boxart/481086259_IGDB-{width}x{height}.jpg</td><td>204634</td><td>2025-06-13T18:55:29.438061</td></tr><tr><td>29595</td><td>Dota 2</td><td>https://static-cdn.jtvnw.net/ttv-boxart/29595-{width}x{height}.jpg</td><td></td><td>2025-06-13T18:55:29.438061</td></tr><tr><td>33214</td><td>Fortnite</td><td>https://static-cdn.jtvnw.net/ttv-boxart/33214-{width}x{height}.jpg</td><td>1905</td><td>2025-06-13T18:55:29.438061</td></tr><tr><td>2011938005</td><td>EA Sports FC 25</td><td>https://static-cdn.jtvnw.net/ttv-boxart/2011938005_IGDB-{width}x{height}.jpg</td><td>308698</td><td>2025-06-13T18:55:29.438061</td></tr><tr><td>460630</td><td>Tom Clancy's Rainbow Six Siege X</td><td>https://static-cdn.jtvnw.net/ttv-boxart/460630-{width}x{height}.jpg</td><td>7360</td><td>2025-06-13T18:55:29.438061</td></tr><tr><td>602694215</td><td>Five Nights at Freddy's: Secret of the Mimic</td><td>https://static-cdn.jtvnw.net/ttv-boxart/602694215_IGDB-{width}x{height}.jpg</td><td>312859</td><td>2025-06-13T18:55:29.438061</td></tr><tr><td>1987896617</td><td>Dune: Awakening</td><td>https://static-cdn.jtvnw.net/ttv-boxart/1987896617_IGDB-{width}x{height}.jpg</td><td>214394</td><td>2025-06-13T18:55:29.438061</td></tr><tr><td>55453844</td><td>Street Fighter 6</td><td>https://static-cdn.jtvnw.net/ttv-boxart/55453844_IGDB-{width}x{height}.jpg</td><td>191692</td><td>2025-06-13T18:55:29.438061</td></tr><tr><td>512710</td><td>Call of Duty: Warzone</td><td>https://static-cdn.jtvnw.net/ttv-boxart/512710-{width}x{height}.jpg</td><td>131800</td><td>2025-06-13T18:55:29.438061</td></tr><tr><td>1826300051</td><td>Mario Kart World</td><td>https://static-cdn.jtvnw.net/ttv-boxart/1826300051_IGDB-{width}x{height}.jpg</td><td>338067</td><td>2025-06-13T18:55:29.438061</td></tr><tr><td>32399</td><td>Counter-Strike</td><td>https://static-cdn.jtvnw.net/ttv-boxart/32399-{width}x{height}.jpg</td><td></td><td>2025-06-13T18:50:13.332360</td></tr><tr><td>516575</td><td>VALORANT</td><td>https://static-cdn.jtvnw.net/ttv-boxart/516575-{width}x{height}.jpg</td><td>126459</td><td>2025-06-13T18:50:13.332360</td></tr><tr><td>32982</td><td>Grand Theft Auto V</td><td>https://static-cdn.jtvnw.net/ttv-boxart/32982_IGDB-{width}x{height}.jpg</td><td>1020</td><td>2025-06-13T18:50:13.332360</td></tr><tr><td>21779</td><td>League of Legends</td><td>https://static-cdn.jtvnw.net/ttv-boxart/21779-{width}x{height}.jpg</td><td>115</td><td>2025-06-13T18:50:13.332360</td></tr><tr><td>29307</td><td>Path of Exile</td><td>https://static-cdn.jtvnw.net/ttv-boxart/29307_IGDB-{width}x{height}.jpg</td><td>1911</td><td>2025-06-13T18:50:13.332360</td></tr><tr><td>27471</td><td>Minecraft</td><td>https://static-cdn.jtvnw.net/ttv-boxart/27471_IGDB-{width}x{height}.jpg</td><td>135400</td><td>2025-06-13T18:50:13.332360</td></tr><tr><td>29595</td><td>Dota 2</td><td>https://static-cdn.jtvnw.net/ttv-boxart/29595-{width}x{height}.jpg</td><td></td><td>2025-06-13T18:50:13.332360</td></tr><tr><td>481086259</td><td>The Alters</td><td>https://static-cdn.jtvnw.net/ttv-boxart/481086259_IGDB-{width}x{height}.jpg</td><td>204634</td><td>2025-06-13T18:50:13.332360</td></tr><tr><td>33214</td><td>Fortnite</td><td>https://static-cdn.jtvnw.net/ttv-boxart/33214-{width}x{height}.jpg</td><td>1905</td><td>2025-06-13T18:50:13.332360</td></tr><tr><td>2011938005</td><td>EA Sports FC 25</td><td>https://static-cdn.jtvnw.net/ttv-boxart/2011938005_IGDB-{width}x{height}.jpg</td><td>308698</td><td>2025-06-13T18:50:13.332360</td></tr><tr><td>512710</td><td>Call of Duty: Warzone</td><td>https://static-cdn.jtvnw.net/ttv-boxart/512710-{width}x{height}.jpg</td><td>131800</td><td>2025-06-13T18:50:13.332360</td></tr><tr><td>1987896617</td><td>Dune: Awakening</td><td>https://static-cdn.jtvnw.net/ttv-boxart/1987896617_IGDB-{width}x{height}.jpg</td><td>214394</td><td>2025-06-13T18:50:13.332360</td></tr><tr><td>602694215</td><td>Five Nights at Freddy's: Secret of the Mimic</td><td>https://static-cdn.jtvnw.net/ttv-boxart/602694215_IGDB-{width}x{height}.jpg</td><td>312859</td><td>2025-06-13T18:50:13.332360</td></tr><tr><td>55453844</td><td>Street Fighter 6</td><td>https://static-cdn.jtvnw.net/ttv-boxart/55453844_IGDB-{width}x{height}.jpg</td><td>191692</td><td>2025-06-13T18:50:13.332360</td></tr><tr><td>460630</td><td>Tom Clancy's Rainbow Six Siege X</td><td>https://static-cdn.jtvnw.net/ttv-boxart/460630-{width}x{height}.jpg</td><td>7360</td><td>2025-06-13T18:50:13.332360</td></tr><tr><td>1826300051</td><td>Mario Kart World</td><td>https://static-cdn.jtvnw.net/ttv-boxart/1826300051_IGDB-{width}x{height}.jpg</td><td>338067</td><td>2025-06-13T18:50:13.332360</td></tr><tr><td>32399</td><td>Counter-Strike</td><td>https://static-cdn.jtvnw.net/ttv-boxart/32399-{width}x{height}.jpg</td><td></td><td>2025-06-13T18:56:31.520045</td></tr><tr><td>516575</td><td>VALORANT</td><td>https://static-cdn.jtvnw.net/ttv-boxart/516575-{width}x{height}.jpg</td><td>126459</td><td>2025-06-13T18:56:31.520045</td></tr><tr><td>32982</td><td>Grand Theft Auto V</td><td>https://static-cdn.jtvnw.net/ttv-boxart/32982_IGDB-{width}x{height}.jpg</td><td>1020</td><td>2025-06-13T18:56:31.520045</td></tr><tr><td>29307</td><td>Path of Exile</td><td>https://static-cdn.jtvnw.net/ttv-boxart/29307_IGDB-{width}x{height}.jpg</td><td>1911</td><td>2025-06-13T18:56:31.520045</td></tr><tr><td>21779</td><td>League of Legends</td><td>https://static-cdn.jtvnw.net/ttv-boxart/21779-{width}x{height}.jpg</td><td>115</td><td>2025-06-13T18:56:31.520045</td></tr><tr><td>27471</td><td>Minecraft</td><td>https://static-cdn.jtvnw.net/ttv-boxart/27471_IGDB-{width}x{height}.jpg</td><td>135400</td><td>2025-06-13T18:56:31.520045</td></tr><tr><td>481086259</td><td>The Alters</td><td>https://static-cdn.jtvnw.net/ttv-boxart/481086259_IGDB-{width}x{height}.jpg</td><td>204634</td><td>2025-06-13T18:56:31.520045</td></tr><tr><td>29595</td><td>Dota 2</td><td>https://static-cdn.jtvnw.net/ttv-boxart/29595-{width}x{height}.jpg</td><td></td><td>2025-06-13T18:56:31.520045</td></tr><tr><td>33214</td><td>Fortnite</td><td>https://static-cdn.jtvnw.net/ttv-boxart/33214-{width}x{height}.jpg</td><td>1905</td><td>2025-06-13T18:56:31.520045</td></tr><tr><td>2011938005</td><td>EA Sports FC 25</td><td>https://static-cdn.jtvnw.net/ttv-boxart/2011938005_IGDB-{width}x{height}.jpg</td><td>308698</td><td>2025-06-13T18:56:31.520045</td></tr><tr><td>460630</td><td>Tom Clancy's Rainbow Six Siege X</td><td>https://static-cdn.jtvnw.net/ttv-boxart/460630-{width}x{height}.jpg</td><td>7360</td><td>2025-06-13T18:56:31.520045</td></tr><tr><td>602694215</td><td>Five Nights at Freddy's: Secret of the Mimic</td><td>https://static-cdn.jtvnw.net/ttv-boxart/602694215_IGDB-{width}x{height}.jpg</td><td>312859</td><td>2025-06-13T18:56:31.520045</td></tr><tr><td>1987896617</td><td>Dune: Awakening</td><td>https://static-cdn.jtvnw.net/ttv-boxart/1987896617_IGDB-{width}x{height}.jpg</td><td>214394</td><td>2025-06-13T18:56:31.520045</td></tr><tr><td>55453844</td><td>Street Fighter 6</td><td>https://static-cdn.jtvnw.net/ttv-boxart/55453844_IGDB-{width}x{height}.jpg</td><td>191692</td><td>2025-06-13T18:56:31.520045</td></tr><tr><td>512710</td><td>Call of Duty: Warzone</td><td>https://static-cdn.jtvnw.net/ttv-boxart/512710-{width}x{height}.jpg</td><td>131800</td><td>2025-06-13T18:56:31.520045</td></tr><tr><td>1826300051</td><td>Mario Kart World</td><td>https://static-cdn.jtvnw.net/ttv-boxart/1826300051_IGDB-{width}x{height}.jpg</td><td>338067</td><td>2025-06-13T18:56:31.520045</td></tr><tr><td>32399</td><td>Counter-Strike</td><td>https://static-cdn.jtvnw.net/ttv-boxart/32399-{width}x{height}.jpg</td><td></td><td>2025-06-13T18:46:03.968259</td></tr><tr><td>516575</td><td>VALORANT</td><td>https://static-cdn.jtvnw.net/ttv-boxart/516575-{width}x{height}.jpg</td><td>126459</td><td>2025-06-13T18:46:03.968259</td></tr><tr><td>32982</td><td>Grand Theft Auto V</td><td>https://static-cdn.jtvnw.net/ttv-boxart/32982_IGDB-{width}x{height}.jpg</td><td>1020</td><td>2025-06-13T18:46:03.968259</td></tr><tr><td>21779</td><td>League of Legends</td><td>https://static-cdn.jtvnw.net/ttv-boxart/21779-{width}x{height}.jpg</td><td>115</td><td>2025-06-13T18:46:03.968259</td></tr><tr><td>29595</td><td>Dota 2</td><td>https://static-cdn.jtvnw.net/ttv-boxart/29595-{width}x{height}.jpg</td><td></td><td>2025-06-13T18:46:03.968259</td></tr><tr><td>29307</td><td>Path of Exile</td><td>https://static-cdn.jtvnw.net/ttv-boxart/29307_IGDB-{width}x{height}.jpg</td><td>1911</td><td>2025-06-13T18:46:03.968259</td></tr><tr><td>27471</td><td>Minecraft</td><td>https://static-cdn.jtvnw.net/ttv-boxart/27471_IGDB-{width}x{height}.jpg</td><td>135400</td><td>2025-06-13T18:46:03.968259</td></tr><tr><td>481086259</td><td>The Alters</td><td>https://static-cdn.jtvnw.net/ttv-boxart/481086259_IGDB-{width}x{height}.jpg</td><td>204634</td><td>2025-06-13T18:46:03.968259</td></tr><tr><td>33214</td><td>Fortnite</td><td>https://static-cdn.jtvnw.net/ttv-boxart/33214-{width}x{height}.jpg</td><td>1905</td><td>2025-06-13T18:46:03.968259</td></tr><tr><td>2011938005</td><td>EA Sports FC 25</td><td>https://static-cdn.jtvnw.net/ttv-boxart/2011938005_IGDB-{width}x{height}.jpg</td><td>308698</td><td>2025-06-13T18:46:03.968259</td></tr><tr><td>512710</td><td>Call of Duty: Warzone</td><td>https://static-cdn.jtvnw.net/ttv-boxart/512710-{width}x{height}.jpg</td><td>131800</td><td>2025-06-13T18:46:03.968259</td></tr><tr><td>1987896617</td><td>Dune: Awakening</td><td>https://static-cdn.jtvnw.net/ttv-boxart/1987896617_IGDB-{width}x{height}.jpg</td><td>214394</td><td>2025-06-13T18:46:03.968259</td></tr><tr><td>55453844</td><td>Street Fighter 6</td><td>https://static-cdn.jtvnw.net/ttv-boxart/55453844_IGDB-{width}x{height}.jpg</td><td>191692</td><td>2025-06-13T18:46:03.968259</td></tr><tr><td>460630</td><td>Tom Clancy's Rainbow Six Siege X</td><td>https://static-cdn.jtvnw.net/ttv-boxart/460630-{width}x{height}.jpg</td><td>7360</td><td>2025-06-13T18:46:03.968259</td></tr><tr><td>602694215</td><td>Five Nights at Freddy's: Secret of the Mimic</td><td>https://static-cdn.jtvnw.net/ttv-boxart/602694215_IGDB-{width}x{height}.jpg</td><td>312859</td><td>2025-06-13T18:46:03.968259</td></tr><tr><td>1826300051</td><td>Mario Kart World</td><td>https://static-cdn.jtvnw.net/ttv-boxart/1826300051_IGDB-{width}x{height}.jpg</td><td>338067</td><td>2025-06-13T18:46:03.968259</td></tr><tr><td>32982</td><td>Grand Theft Auto V</td><td>https://static-cdn.jtvnw.net/ttv-boxart/32982_IGDB-{width}x{height}.jpg</td><td>1020</td><td>2025-06-13T01:57:30.070268</td></tr><tr><td>460630</td><td>Tom Clancy's Rainbow Six Siege X</td><td>https://static-cdn.jtvnw.net/ttv-boxart/460630-{width}x{height}.jpg</td><td>7360</td><td>2025-06-13T01:57:30.070268</td></tr><tr><td>1826300051</td><td>Mario Kart World</td><td>https://static-cdn.jtvnw.net/ttv-boxart/1826300051_IGDB-{width}x{height}.jpg</td><td>338067</td><td>2025-06-13T01:57:30.070268</td></tr><tr><td>33214</td><td>Fortnite</td><td>https://static-cdn.jtvnw.net/ttv-boxart/33214-{width}x{height}.jpg</td><td>1905</td><td>2025-06-13T01:57:30.070268</td></tr><tr><td>21779</td><td>League of Legends</td><td>https://static-cdn.jtvnw.net/ttv-boxart/21779-{width}x{height}.jpg</td><td>115</td><td>2025-06-13T01:57:30.070268</td></tr><tr><td>32399</td><td>Counter-Strike</td><td>https://static-cdn.jtvnw.net/ttv-boxart/32399-{width}x{height}.jpg</td><td></td><td>2025-06-13T01:57:30.070268</td></tr><tr><td>1264310518</td><td>Marvel Rivals</td><td>https://static-cdn.jtvnw.net/ttv-boxart/1264310518_IGDB-{width}x{height}.jpg</td><td>294041</td><td>2025-06-13T01:57:30.070268</td></tr><tr><td>512710</td><td>Call of Duty: Warzone</td><td>https://static-cdn.jtvnw.net/ttv-boxart/512710-{width}x{height}.jpg</td><td>131800</td><td>2025-06-13T01:57:30.070268</td></tr><tr><td>1987896617</td><td>Dune: Awakening</td><td>https://static-cdn.jtvnw.net/ttv-boxart/1987896617_IGDB-{width}x{height}.jpg</td><td>214394</td><td>2025-06-13T01:57:30.070268</td></tr><tr><td>516575</td><td>VALORANT</td><td>https://static-cdn.jtvnw.net/ttv-boxart/516575-{width}x{height}.jpg</td><td>126459</td><td>2025-06-13T01:57:30.070268</td></tr><tr><td>27471</td><td>Minecraft</td><td>https://static-cdn.jtvnw.net/ttv-boxart/27471_IGDB-{width}x{height}.jpg</td><td>135400</td><td>2025-06-13T01:57:30.070268</td></tr><tr><td>491487</td><td>Dead by Daylight</td><td>https://static-cdn.jtvnw.net/ttv-boxart/491487-{width}x{height}.jpg</td><td>18866</td><td>2025-06-13T01:57:30.070268</td></tr><tr><td>29595</td><td>Dota 2</td><td>https://static-cdn.jtvnw.net/ttv-boxart/29595-{width}x{height}.jpg</td><td></td><td>2025-06-13T01:57:30.070268</td></tr><tr><td>982348888</td><td>Elden Ring: Nightreign</td><td>https://static-cdn.jtvnw.net/ttv-boxart/982348888_IGDB-{width}x{height}.jpg</td><td>325591</td><td>2025-06-13T01:57:30.070268</td></tr><tr><td>29452</td><td>Virtual Casino</td><td>https://static-cdn.jtvnw.net/ttv-boxart/29452_IGDB-{width}x{height}.jpg</td><td>45517</td><td>2025-06-13T01:57:30.070268</td></tr><tr><td>511224</td><td>Apex Legends</td><td>https://static-cdn.jtvnw.net/ttv-boxart/511224-{width}x{height}.jpg</td><td>114795</td><td>2025-06-13T01:57:30.070268</td></tr><tr><td>515025</td><td>Overwatch 2</td><td>https://static-cdn.jtvnw.net/ttv-boxart/515025-{width}x{height}.jpg</td><td>125174</td><td>2025-06-13T01:57:30.070268</td></tr><tr><td>32399</td><td>Counter-Strike</td><td>https://static-cdn.jtvnw.net/ttv-boxart/32399-{width}x{height}.jpg</td><td></td><td>2025-06-13T18:41:24.674122</td></tr><tr><td>516575</td><td>VALORANT</td><td>https://static-cdn.jtvnw.net/ttv-boxart/516575-{width}x{height}.jpg</td><td>126459</td><td>2025-06-13T18:41:24.674122</td></tr><tr><td>32982</td><td>Grand Theft Auto V</td><td>https://static-cdn.jtvnw.net/ttv-boxart/32982_IGDB-{width}x{height}.jpg</td><td>1020</td><td>2025-06-13T18:41:24.674122</td></tr><tr><td>21779</td><td>League of Legends</td><td>https://static-cdn.jtvnw.net/ttv-boxart/21779-{width}x{height}.jpg</td><td>115</td><td>2025-06-13T18:41:24.674122</td></tr><tr><td>29595</td><td>Dota 2</td><td>https://static-cdn.jtvnw.net/ttv-boxart/29595-{width}x{height}.jpg</td><td></td><td>2025-06-13T18:41:24.674122</td></tr><tr><td>29307</td><td>Path of Exile</td><td>https://static-cdn.jtvnw.net/ttv-boxart/29307_IGDB-{width}x{height}.jpg</td><td>1911</td><td>2025-06-13T18:41:24.674122</td></tr><tr><td>27471</td><td>Minecraft</td><td>https://static-cdn.jtvnw.net/ttv-boxart/27471_IGDB-{width}x{height}.jpg</td><td>135400</td><td>2025-06-13T18:41:24.674122</td></tr><tr><td>481086259</td><td>The Alters</td><td>https://static-cdn.jtvnw.net/ttv-boxart/481086259_IGDB-{width}x{height}.jpg</td><td>204634</td><td>2025-06-13T18:41:24.674122</td></tr><tr><td>33214</td><td>Fortnite</td><td>https://static-cdn.jtvnw.net/ttv-boxart/33214-{width}x{height}.jpg</td><td>1905</td><td>2025-06-13T18:41:24.674122</td></tr><tr><td>2011938005</td><td>EA Sports FC 25</td><td>https://static-cdn.jtvnw.net/ttv-boxart/2011938005_IGDB-{width}x{height}.jpg</td><td>308698</td><td>2025-06-13T18:41:24.674122</td></tr><tr><td>512710</td><td>Call of Duty: Warzone</td><td>https://static-cdn.jtvnw.net/ttv-boxart/512710-{width}x{height}.jpg</td><td>131800</td><td>2025-06-13T18:41:24.674122</td></tr><tr><td>55453844</td><td>Street Fighter 6</td><td>https://static-cdn.jtvnw.net/ttv-boxart/55453844_IGDB-{width}x{height}.jpg</td><td>191692</td><td>2025-06-13T18:41:24.674122</td></tr><tr><td>1987896617</td><td>Dune: Awakening</td><td>https://static-cdn.jtvnw.net/ttv-boxart/1987896617_IGDB-{width}x{height}.jpg</td><td>214394</td><td>2025-06-13T18:41:24.674122</td></tr><tr><td>602694215</td><td>Five Nights at Freddy's: Secret of the Mimic</td><td>https://static-cdn.jtvnw.net/ttv-boxart/602694215_IGDB-{width}x{height}.jpg</td><td>312859</td><td>2025-06-13T18:41:24.674122</td></tr><tr><td>460630</td><td>Tom Clancy's Rainbow Six Siege X</td><td>https://static-cdn.jtvnw.net/ttv-boxart/460630-{width}x{height}.jpg</td><td>7360</td><td>2025-06-13T18:41:24.674122</td></tr><tr><td>1826300051</td><td>Mario Kart World</td><td>https://static-cdn.jtvnw.net/ttv-boxart/1826300051_IGDB-{width}x{height}.jpg</td><td>338067</td><td>2025-06-13T18:41:24.674122</td></tr><tr><td>32399</td><td>Counter-Strike</td><td>https://static-cdn.jtvnw.net/ttv-boxart/32399-{width}x{height}.jpg</td><td></td><td>2025-06-13T18:43:58.869535</td></tr><tr><td>516575</td><td>VALORANT</td><td>https://static-cdn.jtvnw.net/ttv-boxart/516575-{width}x{height}.jpg</td><td>126459</td><td>2025-06-13T18:43:58.869535</td></tr><tr><td>32982</td><td>Grand Theft Auto V</td><td>https://static-cdn.jtvnw.net/ttv-boxart/32982_IGDB-{width}x{height}.jpg</td><td>1020</td><td>2025-06-13T18:43:58.869535</td></tr><tr><td>21779</td><td>League of Legends</td><td>https://static-cdn.jtvnw.net/ttv-boxart/21779-{width}x{height}.jpg</td><td>115</td><td>2025-06-13T18:43:58.869535</td></tr><tr><td>29595</td><td>Dota 2</td><td>https://static-cdn.jtvnw.net/ttv-boxart/29595-{width}x{height}.jpg</td><td></td><td>2025-06-13T18:43:58.869535</td></tr><tr><td>29307</td><td>Path of Exile</td><td>https://static-cdn.jtvnw.net/ttv-boxart/29307_IGDB-{width}x{height}.jpg</td><td>1911</td><td>2025-06-13T18:43:58.869535</td></tr><tr><td>27471</td><td>Minecraft</td><td>https://static-cdn.jtvnw.net/ttv-boxart/27471_IGDB-{width}x{height}.jpg</td><td>135400</td><td>2025-06-13T18:43:58.869535</td></tr><tr><td>481086259</td><td>The Alters</td><td>https://static-cdn.jtvnw.net/ttv-boxart/481086259_IGDB-{width}x{height}.jpg</td><td>204634</td><td>2025-06-13T18:43:58.869535</td></tr><tr><td>33214</td><td>Fortnite</td><td>https://static-cdn.jtvnw.net/ttv-boxart/33214-{width}x{height}.jpg</td><td>1905</td><td>2025-06-13T18:43:58.869535</td></tr><tr><td>2011938005</td><td>EA Sports FC 25</td><td>https://static-cdn.jtvnw.net/ttv-boxart/2011938005_IGDB-{width}x{height}.jpg</td><td>308698</td><td>2025-06-13T18:43:58.869535</td></tr><tr><td>512710</td><td>Call of Duty: Warzone</td><td>https://static-cdn.jtvnw.net/ttv-boxart/512710-{width}x{height}.jpg</td><td>131800</td><td>2025-06-13T18:43:58.869535</td></tr><tr><td>55453844</td><td>Street Fighter 6</td><td>https://static-cdn.jtvnw.net/ttv-boxart/55453844_IGDB-{width}x{height}.jpg</td><td>191692</td><td>2025-06-13T18:43:58.869535</td></tr><tr><td>1987896617</td><td>Dune: Awakening</td><td>https://static-cdn.jtvnw.net/ttv-boxart/1987896617_IGDB-{width}x{height}.jpg</td><td>214394</td><td>2025-06-13T18:43:58.869535</td></tr><tr><td>602694215</td><td>Five Nights at Freddy's: Secret of the Mimic</td><td>https://static-cdn.jtvnw.net/ttv-boxart/602694215_IGDB-{width}x{height}.jpg</td><td>312859</td><td>2025-06-13T18:43:58.869535</td></tr><tr><td>460630</td><td>Tom Clancy's Rainbow Six Siege X</td><td>https://static-cdn.jtvnw.net/ttv-boxart/460630-{width}x{height}.jpg</td><td>7360</td><td>2025-06-13T18:43:58.869535</td></tr><tr><td>1826300051</td><td>Mario Kart World</td><td>https://static-cdn.jtvnw.net/ttv-boxart/1826300051_IGDB-{width}x{height}.jpg</td><td>338067</td><td>2025-06-13T18:43:58.869535</td></tr><tr><td>32399</td><td>Counter-Strike</td><td>https://static-cdn.jtvnw.net/ttv-boxart/32399-{width}x{height}.jpg</td><td></td><td>2025-06-13T18:48:08.955140</td></tr><tr><td>516575</td><td>VALORANT</td><td>https://static-cdn.jtvnw.net/ttv-boxart/516575-{width}x{height}.jpg</td><td>126459</td><td>2025-06-13T18:48:08.955140</td></tr><tr><td>32982</td><td>Grand Theft Auto V</td><td>https://static-cdn.jtvnw.net/ttv-boxart/32982_IGDB-{width}x{height}.jpg</td><td>1020</td><td>2025-06-13T18:48:08.955140</td></tr><tr><td>21779</td><td>League of Legends</td><td>https://static-cdn.jtvnw.net/ttv-boxart/21779-{width}x{height}.jpg</td><td>115</td><td>2025-06-13T18:48:08.955140</td></tr><tr><td>29307</td><td>Path of Exile</td><td>https://static-cdn.jtvnw.net/ttv-boxart/29307_IGDB-{width}x{height}.jpg</td><td>1911</td><td>2025-06-13T18:48:08.955140</td></tr><tr><td>27471</td><td>Minecraft</td><td>https://static-cdn.jtvnw.net/ttv-boxart/27471_IGDB-{width}x{height}.jpg</td><td>135400</td><td>2025-06-13T18:48:08.955140</td></tr><tr><td>29595</td><td>Dota 2</td><td>https://static-cdn.jtvnw.net/ttv-boxart/29595-{width}x{height}.jpg</td><td></td><td>2025-06-13T18:48:08.955140</td></tr><tr><td>481086259</td><td>The Alters</td><td>https://static-cdn.jtvnw.net/ttv-boxart/481086259_IGDB-{width}x{height}.jpg</td><td>204634</td><td>2025-06-13T18:48:08.955140</td></tr><tr><td>33214</td><td>Fortnite</td><td>https://static-cdn.jtvnw.net/ttv-boxart/33214-{width}x{height}.jpg</td><td>1905</td><td>2025-06-13T18:48:08.955140</td></tr><tr><td>2011938005</td><td>EA Sports FC 25</td><td>https://static-cdn.jtvnw.net/ttv-boxart/2011938005_IGDB-{width}x{height}.jpg</td><td>308698</td><td>2025-06-13T18:48:08.955140</td></tr><tr><td>512710</td><td>Call of Duty: Warzone</td><td>https://static-cdn.jtvnw.net/ttv-boxart/512710-{width}x{height}.jpg</td><td>131800</td><td>2025-06-13T18:48:08.955140</td></tr><tr><td>1987896617</td><td>Dune: Awakening</td><td>https://static-cdn.jtvnw.net/ttv-boxart/1987896617_IGDB-{width}x{height}.jpg</td><td>214394</td><td>2025-06-13T18:48:08.955140</td></tr><tr><td>460630</td><td>Tom Clancy's Rainbow Six Siege X</td><td>https://static-cdn.jtvnw.net/ttv-boxart/460630-{width}x{height}.jpg</td><td>7360</td><td>2025-06-13T18:48:08.955140</td></tr><tr><td>55453844</td><td>Street Fighter 6</td><td>https://static-cdn.jtvnw.net/ttv-boxart/55453844_IGDB-{width}x{height}.jpg</td><td>191692</td><td>2025-06-13T18:48:08.955140</td></tr><tr><td>602694215</td><td>Five Nights at Freddy's: Secret of the Mimic</td><td>https://static-cdn.jtvnw.net/ttv-boxart/602694215_IGDB-{width}x{height}.jpg</td><td>312859</td><td>2025-06-13T18:48:08.955140</td></tr><tr><td>1826300051</td><td>Mario Kart World</td><td>https://static-cdn.jtvnw.net/ttv-boxart/1826300051_IGDB-{width}x{height}.jpg</td><td>338067</td><td>2025-06-13T18:48:08.955140</td></tr><tr><td>32399</td><td>Counter-Strike</td><td>https://static-cdn.jtvnw.net/ttv-boxart/32399-{width}x{height}.jpg</td><td></td><td>2025-06-13T18:49:11.262427</td></tr><tr><td>516575</td><td>VALORANT</td><td>https://static-cdn.jtvnw.net/ttv-boxart/516575-{width}x{height}.jpg</td><td>126459</td><td>2025-06-13T18:49:11.262427</td></tr><tr><td>32982</td><td>Grand Theft Auto V</td><td>https://static-cdn.jtvnw.net/ttv-boxart/32982_IGDB-{width}x{height}.jpg</td><td>1020</td><td>2025-06-13T18:49:11.262427</td></tr><tr><td>21779</td><td>League of Legends</td><td>https://static-cdn.jtvnw.net/ttv-boxart/21779-{width}x{height}.jpg</td><td>115</td><td>2025-06-13T18:49:11.262427</td></tr><tr><td>29307</td><td>Path of Exile</td><td>https://static-cdn.jtvnw.net/ttv-boxart/29307_IGDB-{width}x{height}.jpg</td><td>1911</td><td>2025-06-13T18:49:11.262427</td></tr><tr><td>27471</td><td>Minecraft</td><td>https://static-cdn.jtvnw.net/ttv-boxart/27471_IGDB-{width}x{height}.jpg</td><td>135400</td><td>2025-06-13T18:49:11.262427</td></tr><tr><td>29595</td><td>Dota 2</td><td>https://static-cdn.jtvnw.net/ttv-boxart/29595-{width}x{height}.jpg</td><td></td><td>2025-06-13T18:49:11.262427</td></tr><tr><td>481086259</td><td>The Alters</td><td>https://static-cdn.jtvnw.net/ttv-boxart/481086259_IGDB-{width}x{height}.jpg</td><td>204634</td><td>2025-06-13T18:49:11.262427</td></tr><tr><td>33214</td><td>Fortnite</td><td>https://static-cdn.jtvnw.net/ttv-boxart/33214-{width}x{height}.jpg</td><td>1905</td><td>2025-06-13T18:49:11.262427</td></tr><tr><td>2011938005</td><td>EA Sports FC 25</td><td>https://static-cdn.jtvnw.net/ttv-boxart/2011938005_IGDB-{width}x{height}.jpg</td><td>308698</td><td>2025-06-13T18:49:11.262427</td></tr><tr><td>512710</td><td>Call of Duty: Warzone</td><td>https://static-cdn.jtvnw.net/ttv-boxart/512710-{width}x{height}.jpg</td><td>131800</td><td>2025-06-13T18:49:11.262427</td></tr><tr><td>1987896617</td><td>Dune: Awakening</td><td>https://static-cdn.jtvnw.net/ttv-boxart/1987896617_IGDB-{width}x{height}.jpg</td><td>214394</td><td>2025-06-13T18:49:11.262427</td></tr><tr><td>460630</td><td>Tom Clancy's Rainbow Six Siege X</td><td>https://static-cdn.jtvnw.net/ttv-boxart/460630-{width}x{height}.jpg</td><td>7360</td><td>2025-06-13T18:49:11.262427</td></tr><tr><td>55453844</td><td>Street Fighter 6</td><td>https://static-cdn.jtvnw.net/ttv-boxart/55453844_IGDB-{width}x{height}.jpg</td><td>191692</td><td>2025-06-13T18:49:11.262427</td></tr><tr><td>602694215</td><td>Five Nights at Freddy's: Secret of the Mimic</td><td>https://static-cdn.jtvnw.net/ttv-boxart/602694215_IGDB-{width}x{height}.jpg</td><td>312859</td><td>2025-06-13T18:49:11.262427</td></tr><tr><td>1826300051</td><td>Mario Kart World</td><td>https://static-cdn.jtvnw.net/ttv-boxart/1826300051_IGDB-{width}x{height}.jpg</td><td>338067</td><td>2025-06-13T18:49:11.262427</td></tr><tr><td>32399</td><td>Counter-Strike</td><td>https://static-cdn.jtvnw.net/ttv-boxart/32399-{width}x{height}.jpg</td><td></td><td>2025-06-13T18:42:56.249526</td></tr><tr><td>516575</td><td>VALORANT</td><td>https://static-cdn.jtvnw.net/ttv-boxart/516575-{width}x{height}.jpg</td><td>126459</td><td>2025-06-13T18:42:56.249526</td></tr><tr><td>32982</td><td>Grand Theft Auto V</td><td>https://static-cdn.jtvnw.net/ttv-boxart/32982_IGDB-{width}x{height}.jpg</td><td>1020</td><td>2025-06-13T18:42:56.249526</td></tr><tr><td>21779</td><td>League of Legends</td><td>https://static-cdn.jtvnw.net/ttv-boxart/21779-{width}x{height}.jpg</td><td>115</td><td>2025-06-13T18:42:56.249526</td></tr><tr><td>29595</td><td>Dota 2</td><td>https://static-cdn.jtvnw.net/ttv-boxart/29595-{width}x{height}.jpg</td><td></td><td>2025-06-13T18:42:56.249526</td></tr><tr><td>29307</td><td>Path of Exile</td><td>https://static-cdn.jtvnw.net/ttv-boxart/29307_IGDB-{width}x{height}.jpg</td><td>1911</td><td>2025-06-13T18:42:56.249526</td></tr><tr><td>27471</td><td>Minecraft</td><td>https://static-cdn.jtvnw.net/ttv-boxart/27471_IGDB-{width}x{height}.jpg</td><td>135400</td><td>2025-06-13T18:42:56.249526</td></tr><tr><td>481086259</td><td>The Alters</td><td>https://static-cdn.jtvnw.net/ttv-boxart/481086259_IGDB-{width}x{height}.jpg</td><td>204634</td><td>2025-06-13T18:42:56.249526</td></tr><tr><td>33214</td><td>Fortnite</td><td>https://static-cdn.jtvnw.net/ttv-boxart/33214-{width}x{height}.jpg</td><td>1905</td><td>2025-06-13T18:42:56.249526</td></tr><tr><td>2011938005</td><td>EA Sports FC 25</td><td>https://static-cdn.jtvnw.net/ttv-boxart/2011938005_IGDB-{width}x{height}.jpg</td><td>308698</td><td>2025-06-13T18:42:56.249526</td></tr><tr><td>512710</td><td>Call of Duty: Warzone</td><td>https://static-cdn.jtvnw.net/ttv-boxart/512710-{width}x{height}.jpg</td><td>131800</td><td>2025-06-13T18:42:56.249526</td></tr><tr><td>55453844</td><td>Street Fighter 6</td><td>https://static-cdn.jtvnw.net/ttv-boxart/55453844_IGDB-{width}x{height}.jpg</td><td>191692</td><td>2025-06-13T18:42:56.249526</td></tr><tr><td>1987896617</td><td>Dune: Awakening</td><td>https://static-cdn.jtvnw.net/ttv-boxart/1987896617_IGDB-{width}x{height}.jpg</td><td>214394</td><td>2025-06-13T18:42:56.249526</td></tr><tr><td>602694215</td><td>Five Nights at Freddy's: Secret of the Mimic</td><td>https://static-cdn.jtvnw.net/ttv-boxart/602694215_IGDB-{width}x{height}.jpg</td><td>312859</td><td>2025-06-13T18:42:56.249526</td></tr><tr><td>460630</td><td>Tom Clancy's Rainbow Six Siege X</td><td>https://static-cdn.jtvnw.net/ttv-boxart/460630-{width}x{height}.jpg</td><td>7360</td><td>2025-06-13T18:42:56.249526</td></tr><tr><td>1826300051</td><td>Mario Kart World</td><td>https://static-cdn.jtvnw.net/ttv-boxart/1826300051_IGDB-{width}x{height}.jpg</td><td>338067</td><td>2025-06-13T18:42:56.249526</td></tr><tr><td>32399</td><td>Counter-Strike</td><td>https://static-cdn.jtvnw.net/ttv-boxart/32399-{width}x{height}.jpg</td><td></td><td>2025-06-13T18:51:15.529147</td></tr><tr><td>516575</td><td>VALORANT</td><td>https://static-cdn.jtvnw.net/ttv-boxart/516575-{width}x{height}.jpg</td><td>126459</td><td>2025-06-13T18:51:15.529147</td></tr><tr><td>32982</td><td>Grand Theft Auto V</td><td>https://static-cdn.jtvnw.net/ttv-boxart/32982_IGDB-{width}x{height}.jpg</td><td>1020</td><td>2025-06-13T18:51:15.529147</td></tr><tr><td>21779</td><td>League of Legends</td><td>https://static-cdn.jtvnw.net/ttv-boxart/21779-{width}x{height}.jpg</td><td>115</td><td>2025-06-13T18:51:15.529147</td></tr><tr><td>29307</td><td>Path of Exile</td><td>https://static-cdn.jtvnw.net/ttv-boxart/29307_IGDB-{width}x{height}.jpg</td><td>1911</td><td>2025-06-13T18:51:15.529147</td></tr><tr><td>27471</td><td>Minecraft</td><td>https://static-cdn.jtvnw.net/ttv-boxart/27471_IGDB-{width}x{height}.jpg</td><td>135400</td><td>2025-06-13T18:51:15.529147</td></tr><tr><td>29595</td><td>Dota 2</td><td>https://static-cdn.jtvnw.net/ttv-boxart/29595-{width}x{height}.jpg</td><td></td><td>2025-06-13T18:51:15.529147</td></tr><tr><td>481086259</td><td>The Alters</td><td>https://static-cdn.jtvnw.net/ttv-boxart/481086259_IGDB-{width}x{height}.jpg</td><td>204634</td><td>2025-06-13T18:51:15.529147</td></tr><tr><td>33214</td><td>Fortnite</td><td>https://static-cdn.jtvnw.net/ttv-boxart/33214-{width}x{height}.jpg</td><td>1905</td><td>2025-06-13T18:51:15.529147</td></tr><tr><td>2011938005</td><td>EA Sports FC 25</td><td>https://static-cdn.jtvnw.net/ttv-boxart/2011938005_IGDB-{width}x{height}.jpg</td><td>308698</td><td>2025-06-13T18:51:15.529147</td></tr><tr><td>512710</td><td>Call of Duty: Warzone</td><td>https://static-cdn.jtvnw.net/ttv-boxart/512710-{width}x{height}.jpg</td><td>131800</td><td>2025-06-13T18:51:15.529147</td></tr><tr><td>1987896617</td><td>Dune: Awakening</td><td>https://static-cdn.jtvnw.net/ttv-boxart/1987896617_IGDB-{width}x{height}.jpg</td><td>214394</td><td>2025-06-13T18:51:15.529147</td></tr><tr><td>602694215</td><td>Five Nights at Freddy's: Secret of the Mimic</td><td>https://static-cdn.jtvnw.net/ttv-boxart/602694215_IGDB-{width}x{height}.jpg</td><td>312859</td><td>2025-06-13T18:51:15.529147</td></tr><tr><td>460630</td><td>Tom Clancy's Rainbow Six Siege X</td><td>https://static-cdn.jtvnw.net/ttv-boxart/460630-{width}x{height}.jpg</td><td>7360</td><td>2025-06-13T18:51:15.529147</td></tr><tr><td>55453844</td><td>Street Fighter 6</td><td>https://static-cdn.jtvnw.net/ttv-boxart/55453844_IGDB-{width}x{height}.jpg</td><td>191692</td><td>2025-06-13T18:51:15.529147</td></tr><tr><td>1826300051</td><td>Mario Kart World</td><td>https://static-cdn.jtvnw.net/ttv-boxart/1826300051_IGDB-{width}x{height}.jpg</td><td>338067</td><td>2025-06-13T18:51:15.529147</td></tr><tr><td>32399</td><td>Counter-Strike</td><td>https://static-cdn.jtvnw.net/ttv-boxart/32399-{width}x{height}.jpg</td><td></td><td>2025-06-13T19:36:08.109513</td></tr><tr><td>516575</td><td>VALORANT</td><td>https://static-cdn.jtvnw.net/ttv-boxart/516575-{width}x{height}.jpg</td><td>126459</td><td>2025-06-13T19:36:08.109513</td></tr><tr><td>32982</td><td>Grand Theft Auto V</td><td>https://static-cdn.jtvnw.net/ttv-boxart/32982_IGDB-{width}x{height}.jpg</td><td>1020</td><td>2025-06-13T19:36:08.109513</td></tr><tr><td>29307</td><td>Path of Exile</td><td>https://static-cdn.jtvnw.net/ttv-boxart/29307_IGDB-{width}x{height}.jpg</td><td>1911</td><td>2025-06-13T19:36:08.109513</td></tr><tr><td>27471</td><td>Minecraft</td><td>https://static-cdn.jtvnw.net/ttv-boxart/27471_IGDB-{width}x{height}.jpg</td><td>135400</td><td>2025-06-13T19:36:08.109513</td></tr><tr><td>21779</td><td>League of Legends</td><td>https://static-cdn.jtvnw.net/ttv-boxart/21779-{width}x{height}.jpg</td><td>115</td><td>2025-06-13T19:36:08.109513</td></tr><tr><td>481086259</td><td>The Alters</td><td>https://static-cdn.jtvnw.net/ttv-boxart/481086259_IGDB-{width}x{height}.jpg</td><td>204634</td><td>2025-06-13T19:36:08.109513</td></tr><tr><td>602694215</td><td>Five Nights at Freddy's: Secret of the Mimic</td><td>https://static-cdn.jtvnw.net/ttv-boxart/602694215_IGDB-{width}x{height}.jpg</td><td>312859</td><td>2025-06-13T19:36:08.109513</td></tr><tr><td>33214</td><td>Fortnite</td><td>https://static-cdn.jtvnw.net/ttv-boxart/33214-{width}x{height}.jpg</td><td>1905</td><td>2025-06-13T19:36:08.109513</td></tr><tr><td>460630</td><td>Tom Clancy's Rainbow Six Siege X</td><td>https://static-cdn.jtvnw.net/ttv-boxart/460630-{width}x{height}.jpg</td><td>7360</td><td>2025-06-13T19:36:08.109513</td></tr><tr><td>29595</td><td>Dota 2</td><td>https://static-cdn.jtvnw.net/ttv-boxart/29595-{width}x{height}.jpg</td><td></td><td>2025-06-13T19:36:08.109513</td></tr><tr><td>512710</td><td>Call of Duty: Warzone</td><td>https://static-cdn.jtvnw.net/ttv-boxart/512710-{width}x{height}.jpg</td><td>131800</td><td>2025-06-13T19:36:08.109513</td></tr><tr><td>2011938005</td><td>EA Sports FC 25</td><td>https://static-cdn.jtvnw.net/ttv-boxart/2011938005_IGDB-{width}x{height}.jpg</td><td>308698</td><td>2025-06-13T19:36:08.109513</td></tr><tr><td>1987896617</td><td>Dune: Awakening</td><td>https://static-cdn.jtvnw.net/ttv-boxart/1987896617_IGDB-{width}x{height}.jpg</td><td>214394</td><td>2025-06-13T19:36:08.109513</td></tr><tr><td>55453844</td><td>Street Fighter 6</td><td>https://static-cdn.jtvnw.net/ttv-boxart/55453844_IGDB-{width}x{height}.jpg</td><td>191692</td><td>2025-06-13T19:36:08.109513</td></tr><tr><td>1826300051</td><td>Mario Kart World</td><td>https://static-cdn.jtvnw.net/ttv-boxart/1826300051_IGDB-{width}x{height}.jpg</td><td>338067</td><td>2025-06-13T19:36:08.109513</td></tr><tr><td>32982</td><td>Grand Theft Auto V</td><td>https://static-cdn.jtvnw.net/ttv-boxart/32982_IGDB-{width}x{height}.jpg</td><td>1020</td><td>2025-06-13T01:58:57.557874</td></tr><tr><td>460630</td><td>Tom Clancy's Rainbow Six Siege X</td><td>https://static-cdn.jtvnw.net/ttv-boxart/460630-{width}x{height}.jpg</td><td>7360</td><td>2025-06-13T01:58:57.557874</td></tr><tr><td>1826300051</td><td>Mario Kart World</td><td>https://static-cdn.jtvnw.net/ttv-boxart/1826300051_IGDB-{width}x{height}.jpg</td><td>338067</td><td>2025-06-13T01:58:57.557874</td></tr><tr><td>33214</td><td>Fortnite</td><td>https://static-cdn.jtvnw.net/ttv-boxart/33214-{width}x{height}.jpg</td><td>1905</td><td>2025-06-13T01:58:57.557874</td></tr><tr><td>21779</td><td>League of Legends</td><td>https://static-cdn.jtvnw.net/ttv-boxart/21779-{width}x{height}.jpg</td><td>115</td><td>2025-06-13T01:58:57.557874</td></tr><tr><td>32399</td><td>Counter-Strike</td><td>https://static-cdn.jtvnw.net/ttv-boxart/32399-{width}x{height}.jpg</td><td></td><td>2025-06-13T01:58:57.557874</td></tr><tr><td>1264310518</td><td>Marvel Rivals</td><td>https://static-cdn.jtvnw.net/ttv-boxart/1264310518_IGDB-{width}x{height}.jpg</td><td>294041</td><td>2025-06-13T01:58:57.557874</td></tr><tr><td>1987896617</td><td>Dune: Awakening</td><td>https://static-cdn.jtvnw.net/ttv-boxart/1987896617_IGDB-{width}x{height}.jpg</td><td>214394</td><td>2025-06-13T01:58:57.557874</td></tr><tr><td>512710</td><td>Call of Duty: Warzone</td><td>https://static-cdn.jtvnw.net/ttv-boxart/512710-{width}x{height}.jpg</td><td>131800</td><td>2025-06-13T01:58:57.557874</td></tr><tr><td>516575</td><td>VALORANT</td><td>https://static-cdn.jtvnw.net/ttv-boxart/516575-{width}x{height}.jpg</td><td>126459</td><td>2025-06-13T01:58:57.557874</td></tr><tr><td>27471</td><td>Minecraft</td><td>https://static-cdn.jtvnw.net/ttv-boxart/27471_IGDB-{width}x{height}.jpg</td><td>135400</td><td>2025-06-13T01:58:57.557874</td></tr><tr><td>491487</td><td>Dead by Daylight</td><td>https://static-cdn.jtvnw.net/ttv-boxart/491487-{width}x{height}.jpg</td><td>18866</td><td>2025-06-13T01:58:57.557874</td></tr><tr><td>29595</td><td>Dota 2</td><td>https://static-cdn.jtvnw.net/ttv-boxart/29595-{width}x{height}.jpg</td><td></td><td>2025-06-13T01:58:57.557874</td></tr><tr><td>982348888</td><td>Elden Ring: Nightreign</td><td>https://static-cdn.jtvnw.net/ttv-boxart/982348888_IGDB-{width}x{height}.jpg</td><td>325591</td><td>2025-06-13T01:58:57.557874</td></tr><tr><td>511224</td><td>Apex Legends</td><td>https://static-cdn.jtvnw.net/ttv-boxart/511224-{width}x{height}.jpg</td><td>114795</td><td>2025-06-13T01:58:57.557874</td></tr><tr><td>29452</td><td>Virtual Casino</td><td>https://static-cdn.jtvnw.net/ttv-boxart/29452_IGDB-{width}x{height}.jpg</td><td>45517</td><td>2025-06-13T01:58:57.557874</td></tr><tr><td>515025</td><td>Overwatch 2</td><td>https://static-cdn.jtvnw.net/ttv-boxart/515025-{width}x{height}.jpg</td><td>125174</td><td>2025-06-13T01:58:57.557874</td></tr><tr><td>32982</td><td>Grand Theft Auto V</td><td>https://static-cdn.jtvnw.net/ttv-boxart/32982_IGDB-{width}x{height}.jpg</td><td>1020</td><td>2025-06-13T01:59:18.953497</td></tr><tr><td>460630</td><td>Tom Clancy's Rainbow Six Siege X</td><td>https://static-cdn.jtvnw.net/ttv-boxart/460630-{width}x{height}.jpg</td><td>7360</td><td>2025-06-13T01:59:18.953497</td></tr><tr><td>1826300051</td><td>Mario Kart World</td><td>https://static-cdn.jtvnw.net/ttv-boxart/1826300051_IGDB-{width}x{height}.jpg</td><td>338067</td><td>2025-06-13T01:59:18.953497</td></tr><tr><td>33214</td><td>Fortnite</td><td>https://static-cdn.jtvnw.net/ttv-boxart/33214-{width}x{height}.jpg</td><td>1905</td><td>2025-06-13T01:59:18.953497</td></tr><tr><td>21779</td><td>League of Legends</td><td>https://static-cdn.jtvnw.net/ttv-boxart/21779-{width}x{height}.jpg</td><td>115</td><td>2025-06-13T01:59:18.953497</td></tr><tr><td>32399</td><td>Counter-Strike</td><td>https://static-cdn.jtvnw.net/ttv-boxart/32399-{width}x{height}.jpg</td><td></td><td>2025-06-13T01:59:18.953497</td></tr><tr><td>1264310518</td><td>Marvel Rivals</td><td>https://static-cdn.jtvnw.net/ttv-boxart/1264310518_IGDB-{width}x{height}.jpg</td><td>294041</td><td>2025-06-13T01:59:18.953497</td></tr><tr><td>1987896617</td><td>Dune: Awakening</td><td>https://static-cdn.jtvnw.net/ttv-boxart/1987896617_IGDB-{width}x{height}.jpg</td><td>214394</td><td>2025-06-13T01:59:18.953497</td></tr><tr><td>512710</td><td>Call of Duty: Warzone</td><td>https://static-cdn.jtvnw.net/ttv-boxart/512710-{width}x{height}.jpg</td><td>131800</td><td>2025-06-13T01:59:18.953497</td></tr><tr><td>516575</td><td>VALORANT</td><td>https://static-cdn.jtvnw.net/ttv-boxart/516575-{width}x{height}.jpg</td><td>126459</td><td>2025-06-13T01:59:18.953497</td></tr><tr><td>27471</td><td>Minecraft</td><td>https://static-cdn.jtvnw.net/ttv-boxart/27471_IGDB-{width}x{height}.jpg</td><td>135400</td><td>2025-06-13T01:59:18.953497</td></tr><tr><td>491487</td><td>Dead by Daylight</td><td>https://static-cdn.jtvnw.net/ttv-boxart/491487-{width}x{height}.jpg</td><td>18866</td><td>2025-06-13T01:59:18.953497</td></tr><tr><td>29595</td><td>Dota 2</td><td>https://static-cdn.jtvnw.net/ttv-boxart/29595-{width}x{height}.jpg</td><td></td><td>2025-06-13T01:59:18.953497</td></tr><tr><td>982348888</td><td>Elden Ring: Nightreign</td><td>https://static-cdn.jtvnw.net/ttv-boxart/982348888_IGDB-{width}x{height}.jpg</td><td>325591</td><td>2025-06-13T01:59:18.953497</td></tr><tr><td>511224</td><td>Apex Legends</td><td>https://static-cdn.jtvnw.net/ttv-boxart/511224-{width}x{height}.jpg</td><td>114795</td><td>2025-06-13T01:59:18.953497</td></tr><tr><td>29452</td><td>Virtual Casino</td><td>https://static-cdn.jtvnw.net/ttv-boxart/29452_IGDB-{width}x{height}.jpg</td><td>45517</td><td>2025-06-13T01:59:18.953497</td></tr><tr><td>515025</td><td>Overwatch 2</td><td>https://static-cdn.jtvnw.net/ttv-boxart/515025-{width}x{height}.jpg</td><td>125174</td><td>2025-06-13T01:59:18.953497</td></tr><tr><td>32399</td><td>Counter-Strike</td><td>https://static-cdn.jtvnw.net/ttv-boxart/32399-{width}x{height}.jpg</td><td></td><td>2025-06-13T18:45:01.228788</td></tr><tr><td>516575</td><td>VALORANT</td><td>https://static-cdn.jtvnw.net/ttv-boxart/516575-{width}x{height}.jpg</td><td>126459</td><td>2025-06-13T18:45:01.228788</td></tr><tr><td>32982</td><td>Grand Theft Auto V</td><td>https://static-cdn.jtvnw.net/ttv-boxart/32982_IGDB-{width}x{height}.jpg</td><td>1020</td><td>2025-06-13T18:45:01.228788</td></tr><tr><td>21779</td><td>League of Legends</td><td>https://static-cdn.jtvnw.net/ttv-boxart/21779-{width}x{height}.jpg</td><td>115</td><td>2025-06-13T18:45:01.228788</td></tr><tr><td>29307</td><td>Path of Exile</td><td>https://static-cdn.jtvnw.net/ttv-boxart/29307_IGDB-{width}x{height}.jpg</td><td>1911</td><td>2025-06-13T18:45:01.228788</td></tr><tr><td>29595</td><td>Dota 2</td><td>https://static-cdn.jtvnw.net/ttv-boxart/29595-{width}x{height}.jpg</td><td></td><td>2025-06-13T18:45:01.228788</td></tr><tr><td>27471</td><td>Minecraft</td><td>https://static-cdn.jtvnw.net/ttv-boxart/27471_IGDB-{width}x{height}.jpg</td><td>135400</td><td>2025-06-13T18:45:01.228788</td></tr><tr><td>481086259</td><td>The Alters</td><td>https://static-cdn.jtvnw.net/ttv-boxart/481086259_IGDB-{width}x{height}.jpg</td><td>204634</td><td>2025-06-13T18:45:01.228788</td></tr><tr><td>33214</td><td>Fortnite</td><td>https://static-cdn.jtvnw.net/ttv-boxart/33214-{width}x{height}.jpg</td><td>1905</td><td>2025-06-13T18:45:01.228788</td></tr><tr><td>2011938005</td><td>EA Sports FC 25</td><td>https://static-cdn.jtvnw.net/ttv-boxart/2011938005_IGDB-{width}x{height}.jpg</td><td>308698</td><td>2025-06-13T18:45:01.228788</td></tr><tr><td>512710</td><td>Call of Duty: Warzone</td><td>https://static-cdn.jtvnw.net/ttv-boxart/512710-{width}x{height}.jpg</td><td>131800</td><td>2025-06-13T18:45:01.228788</td></tr><tr><td>1987896617</td><td>Dune: Awakening</td><td>https://static-cdn.jtvnw.net/ttv-boxart/1987896617_IGDB-{width}x{height}.jpg</td><td>214394</td><td>2025-06-13T18:45:01.228788</td></tr><tr><td>55453844</td><td>Street Fighter 6</td><td>https://static-cdn.jtvnw.net/ttv-boxart/55453844_IGDB-{width}x{height}.jpg</td><td>191692</td><td>2025-06-13T18:45:01.228788</td></tr><tr><td>460630</td><td>Tom Clancy's Rainbow Six Siege X</td><td>https://static-cdn.jtvnw.net/ttv-boxart/460630-{width}x{height}.jpg</td><td>7360</td><td>2025-06-13T18:45:01.228788</td></tr><tr><td>602694215</td><td>Five Nights at Freddy's: Secret of the Mimic</td><td>https://static-cdn.jtvnw.net/ttv-boxart/602694215_IGDB-{width}x{height}.jpg</td><td>312859</td><td>2025-06-13T18:45:01.228788</td></tr><tr><td>1826300051</td><td>Mario Kart World</td><td>https://static-cdn.jtvnw.net/ttv-boxart/1826300051_IGDB-{width}x{height}.jpg</td><td>338067</td><td>2025-06-13T18:45:01.228788</td></tr><tr><td>32399</td><td>Counter-Strike</td><td>https://static-cdn.jtvnw.net/ttv-boxart/32399-{width}x{height}.jpg</td><td></td><td>2025-06-13T19:40:16.647244</td></tr><tr><td>516575</td><td>VALORANT</td><td>https://static-cdn.jtvnw.net/ttv-boxart/516575-{width}x{height}.jpg</td><td>126459</td><td>2025-06-13T19:40:16.647244</td></tr><tr><td>32982</td><td>Grand Theft Auto V</td><td>https://static-cdn.jtvnw.net/ttv-boxart/32982_IGDB-{width}x{height}.jpg</td><td>1020</td><td>2025-06-13T19:40:16.647244</td></tr><tr><td>29307</td><td>Path of Exile</td><td>https://static-cdn.jtvnw.net/ttv-boxart/29307_IGDB-{width}x{height}.jpg</td><td>1911</td><td>2025-06-13T19:40:16.647244</td></tr><tr><td>27471</td><td>Minecraft</td><td>https://static-cdn.jtvnw.net/ttv-boxart/27471_IGDB-{width}x{height}.jpg</td><td>135400</td><td>2025-06-13T19:40:16.647244</td></tr><tr><td>21779</td><td>League of Legends</td><td>https://static-cdn.jtvnw.net/ttv-boxart/21779-{width}x{height}.jpg</td><td>115</td><td>2025-06-13T19:40:16.647244</td></tr><tr><td>481086259</td><td>The Alters</td><td>https://static-cdn.jtvnw.net/ttv-boxart/481086259_IGDB-{width}x{height}.jpg</td><td>204634</td><td>2025-06-13T19:40:16.647244</td></tr><tr><td>602694215</td><td>Five Nights at Freddy's: Secret of the Mimic</td><td>https://static-cdn.jtvnw.net/ttv-boxart/602694215_IGDB-{width}x{height}.jpg</td><td>312859</td><td>2025-06-13T19:40:16.647244</td></tr><tr><td>33214</td><td>Fortnite</td><td>https://static-cdn.jtvnw.net/ttv-boxart/33214-{width}x{height}.jpg</td><td>1905</td><td>2025-06-13T19:40:16.647244</td></tr><tr><td>29595</td><td>Dota 2</td><td>https://static-cdn.jtvnw.net/ttv-boxart/29595-{width}x{height}.jpg</td><td></td><td>2025-06-13T19:40:16.647244</td></tr><tr><td>460630</td><td>Tom Clancy's Rainbow Six Siege X</td><td>https://static-cdn.jtvnw.net/ttv-boxart/460630-{width}x{height}.jpg</td><td>7360</td><td>2025-06-13T19:40:16.647244</td></tr><tr><td>512710</td><td>Call of Duty: Warzone</td><td>https://static-cdn.jtvnw.net/ttv-boxart/512710-{width}x{height}.jpg</td><td>131800</td><td>2025-06-13T19:40:16.647244</td></tr><tr><td>2011938005</td><td>EA Sports FC 25</td><td>https://static-cdn.jtvnw.net/ttv-boxart/2011938005_IGDB-{width}x{height}.jpg</td><td>308698</td><td>2025-06-13T19:40:16.647244</td></tr><tr><td>1987896617</td><td>Dune: Awakening</td><td>https://static-cdn.jtvnw.net/ttv-boxart/1987896617_IGDB-{width}x{height}.jpg</td><td>214394</td><td>2025-06-13T19:40:16.647244</td></tr><tr><td>1826300051</td><td>Mario Kart World</td><td>https://static-cdn.jtvnw.net/ttv-boxart/1826300051_IGDB-{width}x{height}.jpg</td><td>338067</td><td>2025-06-13T19:40:16.647244</td></tr><tr><td>55453844</td><td>Street Fighter 6</td><td>https://static-cdn.jtvnw.net/ttv-boxart/55453844_IGDB-{width}x{height}.jpg</td><td>191692</td><td>2025-06-13T19:40:16.647244</td></tr><tr><td>32399</td><td>Counter-Strike</td><td>https://static-cdn.jtvnw.net/ttv-boxart/32399-{width}x{height}.jpg</td><td></td><td>2025-06-13T19:41:18.785355</td></tr><tr><td>516575</td><td>VALORANT</td><td>https://static-cdn.jtvnw.net/ttv-boxart/516575-{width}x{height}.jpg</td><td>126459</td><td>2025-06-13T19:41:18.785355</td></tr><tr><td>32982</td><td>Grand Theft Auto V</td><td>https://static-cdn.jtvnw.net/ttv-boxart/32982_IGDB-{width}x{height}.jpg</td><td>1020</td><td>2025-06-13T19:41:18.785355</td></tr><tr><td>29307</td><td>Path of Exile</td><td>https://static-cdn.jtvnw.net/ttv-boxart/29307_IGDB-{width}x{height}.jpg</td><td>1911</td><td>2025-06-13T19:41:18.785355</td></tr><tr><td>27471</td><td>Minecraft</td><td>https://static-cdn.jtvnw.net/ttv-boxart/27471_IGDB-{width}x{height}.jpg</td><td>135400</td><td>2025-06-13T19:41:18.785355</td></tr><tr><td>21779</td><td>League of Legends</td><td>https://static-cdn.jtvnw.net/ttv-boxart/21779-{width}x{height}.jpg</td><td>115</td><td>2025-06-13T19:41:18.785355</td></tr><tr><td>481086259</td><td>The Alters</td><td>https://static-cdn.jtvnw.net/ttv-boxart/481086259_IGDB-{width}x{height}.jpg</td><td>204634</td><td>2025-06-13T19:41:18.785355</td></tr><tr><td>602694215</td><td>Five Nights at Freddy's: Secret of the Mimic</td><td>https://static-cdn.jtvnw.net/ttv-boxart/602694215_IGDB-{width}x{height}.jpg</td><td>312859</td><td>2025-06-13T19:41:18.785355</td></tr><tr><td>33214</td><td>Fortnite</td><td>https://static-cdn.jtvnw.net/ttv-boxart/33214-{width}x{height}.jpg</td><td>1905</td><td>2025-06-13T19:41:18.785355</td></tr><tr><td>29595</td><td>Dota 2</td><td>https://static-cdn.jtvnw.net/ttv-boxart/29595-{width}x{height}.jpg</td><td></td><td>2025-06-13T19:41:18.785355</td></tr><tr><td>460630</td><td>Tom Clancy's Rainbow Six Siege X</td><td>https://static-cdn.jtvnw.net/ttv-boxart/460630-{width}x{height}.jpg</td><td>7360</td><td>2025-06-13T19:41:18.785355</td></tr><tr><td>512710</td><td>Call of Duty: Warzone</td><td>https://static-cdn.jtvnw.net/ttv-boxart/512710-{width}x{height}.jpg</td><td>131800</td><td>2025-06-13T19:41:18.785355</td></tr><tr><td>2011938005</td><td>EA Sports FC 25</td><td>https://static-cdn.jtvnw.net/ttv-boxart/2011938005_IGDB-{width}x{height}.jpg</td><td>308698</td><td>2025-06-13T19:41:18.785355</td></tr><tr><td>1987896617</td><td>Dune: Awakening</td><td>https://static-cdn.jtvnw.net/ttv-boxart/1987896617_IGDB-{width}x{height}.jpg</td><td>214394</td><td>2025-06-13T19:41:18.785355</td></tr><tr><td>1826300051</td><td>Mario Kart World</td><td>https://static-cdn.jtvnw.net/ttv-boxart/1826300051_IGDB-{width}x{height}.jpg</td><td>338067</td><td>2025-06-13T19:41:18.785355</td></tr><tr><td>55453844</td><td>Street Fighter 6</td><td>https://static-cdn.jtvnw.net/ttv-boxart/55453844_IGDB-{width}x{height}.jpg</td><td>191692</td><td>2025-06-13T19:41:18.785355</td></tr><tr><td>32399</td><td>Counter-Strike</td><td>https://static-cdn.jtvnw.net/ttv-boxart/32399-{width}x{height}.jpg</td><td></td><td>2025-06-13T19:39:14.705015</td></tr><tr><td>516575</td><td>VALORANT</td><td>https://static-cdn.jtvnw.net/ttv-boxart/516575-{width}x{height}.jpg</td><td>126459</td><td>2025-06-13T19:39:14.705015</td></tr><tr><td>32982</td><td>Grand Theft Auto V</td><td>https://static-cdn.jtvnw.net/ttv-boxart/32982_IGDB-{width}x{height}.jpg</td><td>1020</td><td>2025-06-13T19:39:14.705015</td></tr><tr><td>29307</td><td>Path of Exile</td><td>https://static-cdn.jtvnw.net/ttv-boxart/29307_IGDB-{width}x{height}.jpg</td><td>1911</td><td>2025-06-13T19:39:14.705015</td></tr><tr><td>27471</td><td>Minecraft</td><td>https://static-cdn.jtvnw.net/ttv-boxart/27471_IGDB-{width}x{height}.jpg</td><td>135400</td><td>2025-06-13T19:39:14.705015</td></tr><tr><td>21779</td><td>League of Legends</td><td>https://static-cdn.jtvnw.net/ttv-boxart/21779-{width}x{height}.jpg</td><td>115</td><td>2025-06-13T19:39:14.705015</td></tr><tr><td>481086259</td><td>The Alters</td><td>https://static-cdn.jtvnw.net/ttv-boxart/481086259_IGDB-{width}x{height}.jpg</td><td>204634</td><td>2025-06-13T19:39:14.705015</td></tr><tr><td>602694215</td><td>Five Nights at Freddy's: Secret of the Mimic</td><td>https://static-cdn.jtvnw.net/ttv-boxart/602694215_IGDB-{width}x{height}.jpg</td><td>312859</td><td>2025-06-13T19:39:14.705015</td></tr><tr><td>33214</td><td>Fortnite</td><td>https://static-cdn.jtvnw.net/ttv-boxart/33214-{width}x{height}.jpg</td><td>1905</td><td>2025-06-13T19:39:14.705015</td></tr><tr><td>29595</td><td>Dota 2</td><td>https://static-cdn.jtvnw.net/ttv-boxart/29595-{width}x{height}.jpg</td><td></td><td>2025-06-13T19:39:14.705015</td></tr><tr><td>460630</td><td>Tom Clancy's Rainbow Six Siege X</td><td>https://static-cdn.jtvnw.net/ttv-boxart/460630-{width}x{height}.jpg</td><td>7360</td><td>2025-06-13T19:39:14.705015</td></tr><tr><td>512710</td><td>Call of Duty: Warzone</td><td>https://static-cdn.jtvnw.net/ttv-boxart/512710-{width}x{height}.jpg</td><td>131800</td><td>2025-06-13T19:39:14.705015</td></tr><tr><td>2011938005</td><td>EA Sports FC 25</td><td>https://static-cdn.jtvnw.net/ttv-boxart/2011938005_IGDB-{width}x{height}.jpg</td><td>308698</td><td>2025-06-13T19:39:14.705015</td></tr><tr><td>1987896617</td><td>Dune: Awakening</td><td>https://static-cdn.jtvnw.net/ttv-boxart/1987896617_IGDB-{width}x{height}.jpg</td><td>214394</td><td>2025-06-13T19:39:14.705015</td></tr><tr><td>1826300051</td><td>Mario Kart World</td><td>https://static-cdn.jtvnw.net/ttv-boxart/1826300051_IGDB-{width}x{height}.jpg</td><td>338067</td><td>2025-06-13T19:39:14.705015</td></tr><tr><td>55453844</td><td>Street Fighter 6</td><td>https://static-cdn.jtvnw.net/ttv-boxart/55453844_IGDB-{width}x{height}.jpg</td><td>191692</td><td>2025-06-13T19:39:14.705015</td></tr><tr><td>32399</td><td>Counter-Strike</td><td>https://static-cdn.jtvnw.net/ttv-boxart/32399-{width}x{height}.jpg</td><td></td><td>2025-06-13T19:21:35.793678</td></tr><tr><td>516575</td><td>VALORANT</td><td>https://static-cdn.jtvnw.net/ttv-boxart/516575-{width}x{height}.jpg</td><td>126459</td><td>2025-06-13T19:21:35.793678</td></tr><tr><td>32982</td><td>Grand Theft Auto V</td><td>https://static-cdn.jtvnw.net/ttv-boxart/32982_IGDB-{width}x{height}.jpg</td><td>1020</td><td>2025-06-13T19:21:35.793678</td></tr><tr><td>29307</td><td>Path of Exile</td><td>https://static-cdn.jtvnw.net/ttv-boxart/29307_IGDB-{width}x{height}.jpg</td><td>1911</td><td>2025-06-13T19:21:35.793678</td></tr><tr><td>21779</td><td>League of Legends</td><td>https://static-cdn.jtvnw.net/ttv-boxart/21779-{width}x{height}.jpg</td><td>115</td><td>2025-06-13T19:21:35.793678</td></tr><tr><td>27471</td><td>Minecraft</td><td>https://static-cdn.jtvnw.net/ttv-boxart/27471_IGDB-{width}x{height}.jpg</td><td>135400</td><td>2025-06-13T19:21:35.793678</td></tr><tr><td>481086259</td><td>The Alters</td><td>https://static-cdn.jtvnw.net/ttv-boxart/481086259_IGDB-{width}x{height}.jpg</td><td>204634</td><td>2025-06-13T19:21:35.793678</td></tr><tr><td>33214</td><td>Fortnite</td><td>https://static-cdn.jtvnw.net/ttv-boxart/33214-{width}x{height}.jpg</td><td>1905</td><td>2025-06-13T19:21:35.793678</td></tr><tr><td>29595</td><td>Dota 2</td><td>https://static-cdn.jtvnw.net/ttv-boxart/29595-{width}x{height}.jpg</td><td></td><td>2025-06-13T19:21:35.793678</td></tr><tr><td>602694215</td><td>Five Nights at Freddy's: Secret of the Mimic</td><td>https://static-cdn.jtvnw.net/ttv-boxart/602694215_IGDB-{width}x{height}.jpg</td><td>312859</td><td>2025-06-13T19:21:35.793678</td></tr><tr><td>2011938005</td><td>EA Sports FC 25</td><td>https://static-cdn.jtvnw.net/ttv-boxart/2011938005_IGDB-{width}x{height}.jpg</td><td>308698</td><td>2025-06-13T19:21:35.793678</td></tr><tr><td>460630</td><td>Tom Clancy's Rainbow Six Siege X</td><td>https://static-cdn.jtvnw.net/ttv-boxart/460630-{width}x{height}.jpg</td><td>7360</td><td>2025-06-13T19:21:35.793678</td></tr><tr><td>30921</td><td>Rocket League</td><td>https://static-cdn.jtvnw.net/ttv-boxart/30921-{width}x{height}.jpg</td><td>11198</td><td>2025-06-13T19:21:35.793678</td></tr><tr><td>1987896617</td><td>Dune: Awakening</td><td>https://static-cdn.jtvnw.net/ttv-boxart/1987896617_IGDB-{width}x{height}.jpg</td><td>214394</td><td>2025-06-13T19:21:35.793678</td></tr><tr><td>512710</td><td>Call of Duty: Warzone</td><td>https://static-cdn.jtvnw.net/ttv-boxart/512710-{width}x{height}.jpg</td><td>131800</td><td>2025-06-13T19:21:35.793678</td></tr><tr><td>55453844</td><td>Street Fighter 6</td><td>https://static-cdn.jtvnw.net/ttv-boxart/55453844_IGDB-{width}x{height}.jpg</td><td>191692</td><td>2025-06-13T19:21:35.793678</td></tr><tr><td>32399</td><td>Counter-Strike</td><td>https://static-cdn.jtvnw.net/ttv-boxart/32399-{width}x{height}.jpg</td><td></td><td>2025-06-13T19:38:12.524946</td></tr><tr><td>516575</td><td>VALORANT</td><td>https://static-cdn.jtvnw.net/ttv-boxart/516575-{width}x{height}.jpg</td><td>126459</td><td>2025-06-13T19:38:12.524946</td></tr><tr><td>32982</td><td>Grand Theft Auto V</td><td>https://static-cdn.jtvnw.net/ttv-boxart/32982_IGDB-{width}x{height}.jpg</td><td>1020</td><td>2025-06-13T19:38:12.524946</td></tr><tr><td>29307</td><td>Path of Exile</td><td>https://static-cdn.jtvnw.net/ttv-boxart/29307_IGDB-{width}x{height}.jpg</td><td>1911</td><td>2025-06-13T19:38:12.524946</td></tr><tr><td>27471</td><td>Minecraft</td><td>https://static-cdn.jtvnw.net/ttv-boxart/27471_IGDB-{width}x{height}.jpg</td><td>135400</td><td>2025-06-13T19:38:12.524946</td></tr><tr><td>21779</td><td>League of Legends</td><td>https://static-cdn.jtvnw.net/ttv-boxart/21779-{width}x{height}.jpg</td><td>115</td><td>2025-06-13T19:38:12.524946</td></tr><tr><td>481086259</td><td>The Alters</td><td>https://static-cdn.jtvnw.net/ttv-boxart/481086259_IGDB-{width}x{height}.jpg</td><td>204634</td><td>2025-06-13T19:38:12.524946</td></tr><tr><td>602694215</td><td>Five Nights at Freddy's: Secret of the Mimic</td><td>https://static-cdn.jtvnw.net/ttv-boxart/602694215_IGDB-{width}x{height}.jpg</td><td>312859</td><td>2025-06-13T19:38:12.524946</td></tr><tr><td>33214</td><td>Fortnite</td><td>https://static-cdn.jtvnw.net/ttv-boxart/33214-{width}x{height}.jpg</td><td>1905</td><td>2025-06-13T19:38:12.524946</td></tr><tr><td>29595</td><td>Dota 2</td><td>https://static-cdn.jtvnw.net/ttv-boxart/29595-{width}x{height}.jpg</td><td></td><td>2025-06-13T19:38:12.524946</td></tr><tr><td>460630</td><td>Tom Clancy's Rainbow Six Siege X</td><td>https://static-cdn.jtvnw.net/ttv-boxart/460630-{width}x{height}.jpg</td><td>7360</td><td>2025-06-13T19:38:12.524946</td></tr><tr><td>512710</td><td>Call of Duty: Warzone</td><td>https://static-cdn.jtvnw.net/ttv-boxart/512710-{width}x{height}.jpg</td><td>131800</td><td>2025-06-13T19:38:12.524946</td></tr><tr><td>2011938005</td><td>EA Sports FC 25</td><td>https://static-cdn.jtvnw.net/ttv-boxart/2011938005_IGDB-{width}x{height}.jpg</td><td>308698</td><td>2025-06-13T19:38:12.524946</td></tr><tr><td>1987896617</td><td>Dune: Awakening</td><td>https://static-cdn.jtvnw.net/ttv-boxart/1987896617_IGDB-{width}x{height}.jpg</td><td>214394</td><td>2025-06-13T19:38:12.524946</td></tr><tr><td>1826300051</td><td>Mario Kart World</td><td>https://static-cdn.jtvnw.net/ttv-boxart/1826300051_IGDB-{width}x{height}.jpg</td><td>338067</td><td>2025-06-13T19:38:12.524946</td></tr><tr><td>55453844</td><td>Street Fighter 6</td><td>https://static-cdn.jtvnw.net/ttv-boxart/55453844_IGDB-{width}x{height}.jpg</td><td>191692</td><td>2025-06-13T19:38:12.524946</td></tr><tr><td>32399</td><td>Counter-Strike</td><td>https://static-cdn.jtvnw.net/ttv-boxart/32399-{width}x{height}.jpg</td><td></td><td>2025-06-13T19:45:29.961234</td></tr><tr><td>516575</td><td>VALORANT</td><td>https://static-cdn.jtvnw.net/ttv-boxart/516575-{width}x{height}.jpg</td><td>126459</td><td>2025-06-13T19:45:29.961234</td></tr><tr><td>29307</td><td>Path of Exile</td><td>https://static-cdn.jtvnw.net/ttv-boxart/29307_IGDB-{width}x{height}.jpg</td><td>1911</td><td>2025-06-13T19:45:29.961234</td></tr><tr><td>32982</td><td>Grand Theft Auto V</td><td>https://static-cdn.jtvnw.net/ttv-boxart/32982_IGDB-{width}x{height}.jpg</td><td>1020</td><td>2025-06-13T19:45:29.961234</td></tr><tr><td>21779</td><td>League of Legends</td><td>https://static-cdn.jtvnw.net/ttv-boxart/21779-{width}x{height}.jpg</td><td>115</td><td>2025-06-13T19:45:29.961234</td></tr><tr><td>27471</td><td>Minecraft</td><td>https://static-cdn.jtvnw.net/ttv-boxart/27471_IGDB-{width}x{height}.jpg</td><td>135400</td><td>2025-06-13T19:45:29.961234</td></tr><tr><td>481086259</td><td>The Alters</td><td>https://static-cdn.jtvnw.net/ttv-boxart/481086259_IGDB-{width}x{height}.jpg</td><td>204634</td><td>2025-06-13T19:45:29.961234</td></tr><tr><td>602694215</td><td>Five Nights at Freddy's: Secret of the Mimic</td><td>https://static-cdn.jtvnw.net/ttv-boxart/602694215_IGDB-{width}x{height}.jpg</td><td>312859</td><td>2025-06-13T19:45:29.961234</td></tr><tr><td>33214</td><td>Fortnite</td><td>https://static-cdn.jtvnw.net/ttv-boxart/33214-{width}x{height}.jpg</td><td>1905</td><td>2025-06-13T19:45:29.961234</td></tr><tr><td>460630</td><td>Tom Clancy's Rainbow Six Siege X</td><td>https://static-cdn.jtvnw.net/ttv-boxart/460630-{width}x{height}.jpg</td><td>7360</td><td>2025-06-13T19:45:29.961234</td></tr><tr><td>512710</td><td>Call of Duty: Warzone</td><td>https://static-cdn.jtvnw.net/ttv-boxart/512710-{width}x{height}.jpg</td><td>131800</td><td>2025-06-13T19:45:29.961234</td></tr><tr><td>2011938005</td><td>EA Sports FC 25</td><td>https://static-cdn.jtvnw.net/ttv-boxart/2011938005_IGDB-{width}x{height}.jpg</td><td>308698</td><td>2025-06-13T19:45:29.961234</td></tr><tr><td>29595</td><td>Dota 2</td><td>https://static-cdn.jtvnw.net/ttv-boxart/29595-{width}x{height}.jpg</td><td></td><td>2025-06-13T19:45:29.961234</td></tr><tr><td>1987896617</td><td>Dune: Awakening</td><td>https://static-cdn.jtvnw.net/ttv-boxart/1987896617_IGDB-{width}x{height}.jpg</td><td>214394</td><td>2025-06-13T19:45:29.961234</td></tr><tr><td>1826300051</td><td>Mario Kart World</td><td>https://static-cdn.jtvnw.net/ttv-boxart/1826300051_IGDB-{width}x{height}.jpg</td><td>338067</td><td>2025-06-13T19:45:29.961234</td></tr><tr><td>55453844</td><td>Street Fighter 6</td><td>https://static-cdn.jtvnw.net/ttv-boxart/55453844_IGDB-{width}x{height}.jpg</td><td>191692</td><td>2025-06-13T19:45:29.961234</td></tr><tr><td>32399</td><td>Counter-Strike</td><td>https://static-cdn.jtvnw.net/ttv-boxart/32399-{width}x{height}.jpg</td><td></td><td>2025-06-13T18:47:06.073713</td></tr><tr><td>516575</td><td>VALORANT</td><td>https://static-cdn.jtvnw.net/ttv-boxart/516575-{width}x{height}.jpg</td><td>126459</td><td>2025-06-13T18:47:06.073713</td></tr><tr><td>32982</td><td>Grand Theft Auto V</td><td>https://static-cdn.jtvnw.net/ttv-boxart/32982_IGDB-{width}x{height}.jpg</td><td>1020</td><td>2025-06-13T18:47:06.073713</td></tr><tr><td>21779</td><td>League of Legends</td><td>https://static-cdn.jtvnw.net/ttv-boxart/21779-{width}x{height}.jpg</td><td>115</td><td>2025-06-13T18:47:06.073713</td></tr><tr><td>29307</td><td>Path of Exile</td><td>https://static-cdn.jtvnw.net/ttv-boxart/29307_IGDB-{width}x{height}.jpg</td><td>1911</td><td>2025-06-13T18:47:06.073713</td></tr><tr><td>29595</td><td>Dota 2</td><td>https://static-cdn.jtvnw.net/ttv-boxart/29595-{width}x{height}.jpg</td><td></td><td>2025-06-13T18:47:06.073713</td></tr><tr><td>27471</td><td>Minecraft</td><td>https://static-cdn.jtvnw.net/ttv-boxart/27471_IGDB-{width}x{height}.jpg</td><td>135400</td><td>2025-06-13T18:47:06.073713</td></tr><tr><td>481086259</td><td>The Alters</td><td>https://static-cdn.jtvnw.net/ttv-boxart/481086259_IGDB-{width}x{height}.jpg</td><td>204634</td><td>2025-06-13T18:47:06.073713</td></tr><tr><td>33214</td><td>Fortnite</td><td>https://static-cdn.jtvnw.net/ttv-boxart/33214-{width}x{height}.jpg</td><td>1905</td><td>2025-06-13T18:47:06.073713</td></tr><tr><td>2011938005</td><td>EA Sports FC 25</td><td>https://static-cdn.jtvnw.net/ttv-boxart/2011938005_IGDB-{width}x{height}.jpg</td><td>308698</td><td>2025-06-13T18:47:06.073713</td></tr><tr><td>512710</td><td>Call of Duty: Warzone</td><td>https://static-cdn.jtvnw.net/ttv-boxart/512710-{width}x{height}.jpg</td><td>131800</td><td>2025-06-13T18:47:06.073713</td></tr><tr><td>1987896617</td><td>Dune: Awakening</td><td>https://static-cdn.jtvnw.net/ttv-boxart/1987896617_IGDB-{width}x{height}.jpg</td><td>214394</td><td>2025-06-13T18:47:06.073713</td></tr><tr><td>460630</td><td>Tom Clancy's Rainbow Six Siege X</td><td>https://static-cdn.jtvnw.net/ttv-boxart/460630-{width}x{height}.jpg</td><td>7360</td><td>2025-06-13T18:47:06.073713</td></tr><tr><td>55453844</td><td>Street Fighter 6</td><td>https://static-cdn.jtvnw.net/ttv-boxart/55453844_IGDB-{width}x{height}.jpg</td><td>191692</td><td>2025-06-13T18:47:06.073713</td></tr><tr><td>602694215</td><td>Five Nights at Freddy's: Secret of the Mimic</td><td>https://static-cdn.jtvnw.net/ttv-boxart/602694215_IGDB-{width}x{height}.jpg</td><td>312859</td><td>2025-06-13T18:47:06.073713</td></tr><tr><td>1826300051</td><td>Mario Kart World</td><td>https://static-cdn.jtvnw.net/ttv-boxart/1826300051_IGDB-{width}x{height}.jpg</td><td>338067</td><td>2025-06-13T18:47:06.073713</td></tr><tr><td>32399</td><td>Counter-Strike</td><td>https://static-cdn.jtvnw.net/ttv-boxart/32399-{width}x{height}.jpg</td><td></td><td>2025-06-13T19:37:10.313409</td></tr><tr><td>516575</td><td>VALORANT</td><td>https://static-cdn.jtvnw.net/ttv-boxart/516575-{width}x{height}.jpg</td><td>126459</td><td>2025-06-13T19:37:10.313409</td></tr><tr><td>32982</td><td>Grand Theft Auto V</td><td>https://static-cdn.jtvnw.net/ttv-boxart/32982_IGDB-{width}x{height}.jpg</td><td>1020</td><td>2025-06-13T19:37:10.313409</td></tr><tr><td>29307</td><td>Path of Exile</td><td>https://static-cdn.jtvnw.net/ttv-boxart/29307_IGDB-{width}x{height}.jpg</td><td>1911</td><td>2025-06-13T19:37:10.313409</td></tr><tr><td>27471</td><td>Minecraft</td><td>https://static-cdn.jtvnw.net/ttv-boxart/27471_IGDB-{width}x{height}.jpg</td><td>135400</td><td>2025-06-13T19:37:10.313409</td></tr><tr><td>21779</td><td>League of Legends</td><td>https://static-cdn.jtvnw.net/ttv-boxart/21779-{width}x{height}.jpg</td><td>115</td><td>2025-06-13T19:37:10.313409</td></tr><tr><td>481086259</td><td>The Alters</td><td>https://static-cdn.jtvnw.net/ttv-boxart/481086259_IGDB-{width}x{height}.jpg</td><td>204634</td><td>2025-06-13T19:37:10.313409</td></tr><tr><td>602694215</td><td>Five Nights at Freddy's: Secret of the Mimic</td><td>https://static-cdn.jtvnw.net/ttv-boxart/602694215_IGDB-{width}x{height}.jpg</td><td>312859</td><td>2025-06-13T19:37:10.313409</td></tr><tr><td>33214</td><td>Fortnite</td><td>https://static-cdn.jtvnw.net/ttv-boxart/33214-{width}x{height}.jpg</td><td>1905</td><td>2025-06-13T19:37:10.313409</td></tr><tr><td>460630</td><td>Tom Clancy's Rainbow Six Siege X</td><td>https://static-cdn.jtvnw.net/ttv-boxart/460630-{width}x{height}.jpg</td><td>7360</td><td>2025-06-13T19:37:10.313409</td></tr><tr><td>29595</td><td>Dota 2</td><td>https://static-cdn.jtvnw.net/ttv-boxart/29595-{width}x{height}.jpg</td><td></td><td>2025-06-13T19:37:10.313409</td></tr><tr><td>512710</td><td>Call of Duty: Warzone</td><td>https://static-cdn.jtvnw.net/ttv-boxart/512710-{width}x{height}.jpg</td><td>131800</td><td>2025-06-13T19:37:10.313409</td></tr><tr><td>2011938005</td><td>EA Sports FC 25</td><td>https://static-cdn.jtvnw.net/ttv-boxart/2011938005_IGDB-{width}x{height}.jpg</td><td>308698</td><td>2025-06-13T19:37:10.313409</td></tr><tr><td>1987896617</td><td>Dune: Awakening</td><td>https://static-cdn.jtvnw.net/ttv-boxart/1987896617_IGDB-{width}x{height}.jpg</td><td>214394</td><td>2025-06-13T19:37:10.313409</td></tr><tr><td>1826300051</td><td>Mario Kart World</td><td>https://static-cdn.jtvnw.net/ttv-boxart/1826300051_IGDB-{width}x{height}.jpg</td><td>338067</td><td>2025-06-13T19:37:10.313409</td></tr><tr><td>55453844</td><td>Street Fighter 6</td><td>https://static-cdn.jtvnw.net/ttv-boxart/55453844_IGDB-{width}x{height}.jpg</td><td>191692</td><td>2025-06-13T19:37:10.313409</td></tr><tr><td>32399</td><td>Counter-Strike</td><td>https://static-cdn.jtvnw.net/ttv-boxart/32399-{width}x{height}.jpg</td><td></td><td>2025-06-13T19:09:01.504925</td></tr><tr><td>516575</td><td>VALORANT</td><td>https://static-cdn.jtvnw.net/ttv-boxart/516575-{width}x{height}.jpg</td><td>126459</td><td>2025-06-13T19:09:01.504925</td></tr><tr><td>32982</td><td>Grand Theft Auto V</td><td>https://static-cdn.jtvnw.net/ttv-boxart/32982_IGDB-{width}x{height}.jpg</td><td>1020</td><td>2025-06-13T19:09:01.504925</td></tr><tr><td>29307</td><td>Path of Exile</td><td>https://static-cdn.jtvnw.net/ttv-boxart/29307_IGDB-{width}x{height}.jpg</td><td>1911</td><td>2025-06-13T19:09:01.504925</td></tr><tr><td>21779</td><td>League of Legends</td><td>https://static-cdn.jtvnw.net/ttv-boxart/21779-{width}x{height}.jpg</td><td>115</td><td>2025-06-13T19:09:01.504925</td></tr><tr><td>27471</td><td>Minecraft</td><td>https://static-cdn.jtvnw.net/ttv-boxart/27471_IGDB-{width}x{height}.jpg</td><td>135400</td><td>2025-06-13T19:09:01.504925</td></tr><tr><td>481086259</td><td>The Alters</td><td>https://static-cdn.jtvnw.net/ttv-boxart/481086259_IGDB-{width}x{height}.jpg</td><td>204634</td><td>2025-06-13T19:09:01.504925</td></tr><tr><td>33214</td><td>Fortnite</td><td>https://static-cdn.jtvnw.net/ttv-boxart/33214-{width}x{height}.jpg</td><td>1905</td><td>2025-06-13T19:09:01.504925</td></tr><tr><td>29595</td><td>Dota 2</td><td>https://static-cdn.jtvnw.net/ttv-boxart/29595-{width}x{height}.jpg</td><td></td><td>2025-06-13T19:09:01.504925</td></tr><tr><td>2011938005</td><td>EA Sports FC 25</td><td>https://static-cdn.jtvnw.net/ttv-boxart/2011938005_IGDB-{width}x{height}.jpg</td><td>308698</td><td>2025-06-13T19:09:01.504925</td></tr><tr><td>602694215</td><td>Five Nights at Freddy's: Secret of the Mimic</td><td>https://static-cdn.jtvnw.net/ttv-boxart/602694215_IGDB-{width}x{height}.jpg</td><td>312859</td><td>2025-06-13T19:09:01.504925</td></tr><tr><td>1987896617</td><td>Dune: Awakening</td><td>https://static-cdn.jtvnw.net/ttv-boxart/1987896617_IGDB-{width}x{height}.jpg</td><td>214394</td><td>2025-06-13T19:09:01.504925</td></tr><tr><td>30921</td><td>Rocket League</td><td>https://static-cdn.jtvnw.net/ttv-boxart/30921-{width}x{height}.jpg</td><td>11198</td><td>2025-06-13T19:09:01.504925</td></tr><tr><td>460630</td><td>Tom Clancy's Rainbow Six Siege X</td><td>https://static-cdn.jtvnw.net/ttv-boxart/460630-{width}x{height}.jpg</td><td>7360</td><td>2025-06-13T19:09:01.504925</td></tr><tr><td>55453844</td><td>Street Fighter 6</td><td>https://static-cdn.jtvnw.net/ttv-boxart/55453844_IGDB-{width}x{height}.jpg</td><td>191692</td><td>2025-06-13T19:09:01.504925</td></tr><tr><td>512710</td><td>Call of Duty: Warzone</td><td>https://static-cdn.jtvnw.net/ttv-boxart/512710-{width}x{height}.jpg</td><td>131800</td><td>2025-06-13T19:09:01.504925</td></tr><tr><td>32399</td><td>Counter-Strike</td><td>https://static-cdn.jtvnw.net/ttv-boxart/32399-{width}x{height}.jpg</td><td></td><td>2025-06-13T19:19:22.344326</td></tr><tr><td>516575</td><td>VALORANT</td><td>https://static-cdn.jtvnw.net/ttv-boxart/516575-{width}x{height}.jpg</td><td>126459</td><td>2025-06-13T19:19:22.344326</td></tr><tr><td>32982</td><td>Grand Theft Auto V</td><td>https://static-cdn.jtvnw.net/ttv-boxart/32982_IGDB-{width}x{height}.jpg</td><td>1020</td><td>2025-06-13T19:19:22.344326</td></tr><tr><td>29307</td><td>Path of Exile</td><td>https://static-cdn.jtvnw.net/ttv-boxart/29307_IGDB-{width}x{height}.jpg</td><td>1911</td><td>2025-06-13T19:19:22.344326</td></tr><tr><td>27471</td><td>Minecraft</td><td>https://static-cdn.jtvnw.net/ttv-boxart/27471_IGDB-{width}x{height}.jpg</td><td>135400</td><td>2025-06-13T19:19:22.344326</td></tr><tr><td>21779</td><td>League of Legends</td><td>https://static-cdn.jtvnw.net/ttv-boxart/21779-{width}x{height}.jpg</td><td>115</td><td>2025-06-13T19:19:22.344326</td></tr><tr><td>481086259</td><td>The Alters</td><td>https://static-cdn.jtvnw.net/ttv-boxart/481086259_IGDB-{width}x{height}.jpg</td><td>204634</td><td>2025-06-13T19:19:22.344326</td></tr><tr><td>33214</td><td>Fortnite</td><td>https://static-cdn.jtvnw.net/ttv-boxart/33214-{width}x{height}.jpg</td><td>1905</td><td>2025-06-13T19:19:22.344326</td></tr><tr><td>29595</td><td>Dota 2</td><td>https://static-cdn.jtvnw.net/ttv-boxart/29595-{width}x{height}.jpg</td><td></td><td>2025-06-13T19:19:22.344326</td></tr><tr><td>602694215</td><td>Five Nights at Freddy's: Secret of the Mimic</td><td>https://static-cdn.jtvnw.net/ttv-boxart/602694215_IGDB-{width}x{height}.jpg</td><td>312859</td><td>2025-06-13T19:19:22.344326</td></tr><tr><td>2011938005</td><td>EA Sports FC 25</td><td>https://static-cdn.jtvnw.net/ttv-boxart/2011938005_IGDB-{width}x{height}.jpg</td><td>308698</td><td>2025-06-13T19:19:22.344326</td></tr><tr><td>460630</td><td>Tom Clancy's Rainbow Six Siege X</td><td>https://static-cdn.jtvnw.net/ttv-boxart/460630-{width}x{height}.jpg</td><td>7360</td><td>2025-06-13T19:19:22.344326</td></tr><tr><td>1987896617</td><td>Dune: Awakening</td><td>https://static-cdn.jtvnw.net/ttv-boxart/1987896617_IGDB-{width}x{height}.jpg</td><td>214394</td><td>2025-06-13T19:19:22.344326</td></tr><tr><td>30921</td><td>Rocket League</td><td>https://static-cdn.jtvnw.net/ttv-boxart/30921-{width}x{height}.jpg</td><td>11198</td><td>2025-06-13T19:19:22.344326</td></tr><tr><td>512710</td><td>Call of Duty: Warzone</td><td>https://static-cdn.jtvnw.net/ttv-boxart/512710-{width}x{height}.jpg</td><td>131800</td><td>2025-06-13T19:19:22.344326</td></tr><tr><td>1826300051</td><td>Mario Kart World</td><td>https://static-cdn.jtvnw.net/ttv-boxart/1826300051_IGDB-{width}x{height}.jpg</td><td>338067</td><td>2025-06-13T19:19:22.344326</td></tr><tr><td>32399</td><td>Counter-Strike</td><td>https://static-cdn.jtvnw.net/ttv-boxart/32399-{width}x{height}.jpg</td><td></td><td>2025-06-13T19:49:37.629913</td></tr><tr><td>516575</td><td>VALORANT</td><td>https://static-cdn.jtvnw.net/ttv-boxart/516575-{width}x{height}.jpg</td><td>126459</td><td>2025-06-13T19:49:37.629913</td></tr><tr><td>29307</td><td>Path of Exile</td><td>https://static-cdn.jtvnw.net/ttv-boxart/29307_IGDB-{width}x{height}.jpg</td><td>1911</td><td>2025-06-13T19:49:37.629913</td></tr><tr><td>32982</td><td>Grand Theft Auto V</td><td>https://static-cdn.jtvnw.net/ttv-boxart/32982_IGDB-{width}x{height}.jpg</td><td>1020</td><td>2025-06-13T19:49:37.629913</td></tr><tr><td>27471</td><td>Minecraft</td><td>https://static-cdn.jtvnw.net/ttv-boxart/27471_IGDB-{width}x{height}.jpg</td><td>135400</td><td>2025-06-13T19:49:37.629913</td></tr><tr><td>21779</td><td>League of Legends</td><td>https://static-cdn.jtvnw.net/ttv-boxart/21779-{width}x{height}.jpg</td><td>115</td><td>2025-06-13T19:49:37.629913</td></tr><tr><td>481086259</td><td>The Alters</td><td>https://static-cdn.jtvnw.net/ttv-boxart/481086259_IGDB-{width}x{height}.jpg</td><td>204634</td><td>2025-06-13T19:49:37.629913</td></tr><tr><td>602694215</td><td>Five Nights at Freddy's: Secret of the Mimic</td><td>https://static-cdn.jtvnw.net/ttv-boxart/602694215_IGDB-{width}x{height}.jpg</td><td>312859</td><td>2025-06-13T19:49:37.629913</td></tr><tr><td>33214</td><td>Fortnite</td><td>https://static-cdn.jtvnw.net/ttv-boxart/33214-{width}x{height}.jpg</td><td>1905</td><td>2025-06-13T19:49:37.629913</td></tr><tr><td>460630</td><td>Tom Clancy's Rainbow Six Siege X</td><td>https://static-cdn.jtvnw.net/ttv-boxart/460630-{width}x{height}.jpg</td><td>7360</td><td>2025-06-13T19:49:37.629913</td></tr><tr><td>512710</td><td>Call of Duty: Warzone</td><td>https://static-cdn.jtvnw.net/ttv-boxart/512710-{width}x{height}.jpg</td><td>131800</td><td>2025-06-13T19:49:37.629913</td></tr><tr><td>2011938005</td><td>EA Sports FC 25</td><td>https://static-cdn.jtvnw.net/ttv-boxart/2011938005_IGDB-{width}x{height}.jpg</td><td>308698</td><td>2025-06-13T19:49:37.629913</td></tr><tr><td>29595</td><td>Dota 2</td><td>https://static-cdn.jtvnw.net/ttv-boxart/29595-{width}x{height}.jpg</td><td></td><td>2025-06-13T19:49:37.629913</td></tr><tr><td>1987896617</td><td>Dune: Awakening</td><td>https://static-cdn.jtvnw.net/ttv-boxart/1987896617_IGDB-{width}x{height}.jpg</td><td>214394</td><td>2025-06-13T19:49:37.629913</td></tr><tr><td>1826300051</td><td>Mario Kart World</td><td>https://static-cdn.jtvnw.net/ttv-boxart/1826300051_IGDB-{width}x{height}.jpg</td><td>338067</td><td>2025-06-13T19:49:37.629913</td></tr><tr><td>55453844</td><td>Street Fighter 6</td><td>https://static-cdn.jtvnw.net/ttv-boxart/55453844_IGDB-{width}x{height}.jpg</td><td>191692</td><td>2025-06-13T19:49:37.629913</td></tr><tr><td>32399</td><td>Counter-Strike</td><td>https://static-cdn.jtvnw.net/ttv-boxart/32399-{width}x{height}.jpg</td><td></td><td>2025-06-13T19:48:35.710788</td></tr><tr><td>516575</td><td>VALORANT</td><td>https://static-cdn.jtvnw.net/ttv-boxart/516575-{width}x{height}.jpg</td><td>126459</td><td>2025-06-13T19:48:35.710788</td></tr><tr><td>29307</td><td>Path of Exile</td><td>https://static-cdn.jtvnw.net/ttv-boxart/29307_IGDB-{width}x{height}.jpg</td><td>1911</td><td>2025-06-13T19:48:35.710788</td></tr><tr><td>32982</td><td>Grand Theft Auto V</td><td>https://static-cdn.jtvnw.net/ttv-boxart/32982_IGDB-{width}x{height}.jpg</td><td>1020</td><td>2025-06-13T19:48:35.710788</td></tr><tr><td>27471</td><td>Minecraft</td><td>https://static-cdn.jtvnw.net/ttv-boxart/27471_IGDB-{width}x{height}.jpg</td><td>135400</td><td>2025-06-13T19:48:35.710788</td></tr><tr><td>21779</td><td>League of Legends</td><td>https://static-cdn.jtvnw.net/ttv-boxart/21779-{width}x{height}.jpg</td><td>115</td><td>2025-06-13T19:48:35.710788</td></tr><tr><td>481086259</td><td>The Alters</td><td>https://static-cdn.jtvnw.net/ttv-boxart/481086259_IGDB-{width}x{height}.jpg</td><td>204634</td><td>2025-06-13T19:48:35.710788</td></tr><tr><td>602694215</td><td>Five Nights at Freddy's: Secret of the Mimic</td><td>https://static-cdn.jtvnw.net/ttv-boxart/602694215_IGDB-{width}x{height}.jpg</td><td>312859</td><td>2025-06-13T19:48:35.710788</td></tr><tr><td>33214</td><td>Fortnite</td><td>https://static-cdn.jtvnw.net/ttv-boxart/33214-{width}x{height}.jpg</td><td>1905</td><td>2025-06-13T19:48:35.710788</td></tr><tr><td>460630</td><td>Tom Clancy's Rainbow Six Siege X</td><td>https://static-cdn.jtvnw.net/ttv-boxart/460630-{width}x{height}.jpg</td><td>7360</td><td>2025-06-13T19:48:35.710788</td></tr><tr><td>512710</td><td>Call of Duty: Warzone</td><td>https://static-cdn.jtvnw.net/ttv-boxart/512710-{width}x{height}.jpg</td><td>131800</td><td>2025-06-13T19:48:35.710788</td></tr><tr><td>2011938005</td><td>EA Sports FC 25</td><td>https://static-cdn.jtvnw.net/ttv-boxart/2011938005_IGDB-{width}x{height}.jpg</td><td>308698</td><td>2025-06-13T19:48:35.710788</td></tr><tr><td>29595</td><td>Dota 2</td><td>https://static-cdn.jtvnw.net/ttv-boxart/29595-{width}x{height}.jpg</td><td></td><td>2025-06-13T19:48:35.710788</td></tr><tr><td>1987896617</td><td>Dune: Awakening</td><td>https://static-cdn.jtvnw.net/ttv-boxart/1987896617_IGDB-{width}x{height}.jpg</td><td>214394</td><td>2025-06-13T19:48:35.710788</td></tr><tr><td>1826300051</td><td>Mario Kart World</td><td>https://static-cdn.jtvnw.net/ttv-boxart/1826300051_IGDB-{width}x{height}.jpg</td><td>338067</td><td>2025-06-13T19:48:35.710788</td></tr><tr><td>55453844</td><td>Street Fighter 6</td><td>https://static-cdn.jtvnw.net/ttv-boxart/55453844_IGDB-{width}x{height}.jpg</td><td>191692</td><td>2025-06-13T19:48:35.710788</td></tr><tr><td>32399</td><td>Counter-Strike</td><td>https://static-cdn.jtvnw.net/ttv-boxart/32399-{width}x{height}.jpg</td><td></td><td>2025-06-13T19:46:32.036934</td></tr><tr><td>516575</td><td>VALORANT</td><td>https://static-cdn.jtvnw.net/ttv-boxart/516575-{width}x{height}.jpg</td><td>126459</td><td>2025-06-13T19:46:32.036934</td></tr><tr><td>29307</td><td>Path of Exile</td><td>https://static-cdn.jtvnw.net/ttv-boxart/29307_IGDB-{width}x{height}.jpg</td><td>1911</td><td>2025-06-13T19:46:32.036934</td></tr><tr><td>32982</td><td>Grand Theft Auto V</td><td>https://static-cdn.jtvnw.net/ttv-boxart/32982_IGDB-{width}x{height}.jpg</td><td>1020</td><td>2025-06-13T19:46:32.036934</td></tr><tr><td>27471</td><td>Minecraft</td><td>https://static-cdn.jtvnw.net/ttv-boxart/27471_IGDB-{width}x{height}.jpg</td><td>135400</td><td>2025-06-13T19:46:32.036934</td></tr><tr><td>21779</td><td>League of Legends</td><td>https://static-cdn.jtvnw.net/ttv-boxart/21779-{width}x{height}.jpg</td><td>115</td><td>2025-06-13T19:46:32.036934</td></tr><tr><td>481086259</td><td>The Alters</td><td>https://static-cdn.jtvnw.net/ttv-boxart/481086259_IGDB-{width}x{height}.jpg</td><td>204634</td><td>2025-06-13T19:46:32.036934</td></tr><tr><td>602694215</td><td>Five Nights at Freddy's: Secret of the Mimic</td><td>https://static-cdn.jtvnw.net/ttv-boxart/602694215_IGDB-{width}x{height}.jpg</td><td>312859</td><td>2025-06-13T19:46:32.036934</td></tr><tr><td>33214</td><td>Fortnite</td><td>https://static-cdn.jtvnw.net/ttv-boxart/33214-{width}x{height}.jpg</td><td>1905</td><td>2025-06-13T19:46:32.036934</td></tr><tr><td>460630</td><td>Tom Clancy's Rainbow Six Siege X</td><td>https://static-cdn.jtvnw.net/ttv-boxart/460630-{width}x{height}.jpg</td><td>7360</td><td>2025-06-13T19:46:32.036934</td></tr><tr><td>512710</td><td>Call of Duty: Warzone</td><td>https://static-cdn.jtvnw.net/ttv-boxart/512710-{width}x{height}.jpg</td><td>131800</td><td>2025-06-13T19:46:32.036934</td></tr><tr><td>2011938005</td><td>EA Sports FC 25</td><td>https://static-cdn.jtvnw.net/ttv-boxart/2011938005_IGDB-{width}x{height}.jpg</td><td>308698</td><td>2025-06-13T19:46:32.036934</td></tr><tr><td>29595</td><td>Dota 2</td><td>https://static-cdn.jtvnw.net/ttv-boxart/29595-{width}x{height}.jpg</td><td></td><td>2025-06-13T19:46:32.036934</td></tr><tr><td>1987896617</td><td>Dune: Awakening</td><td>https://static-cdn.jtvnw.net/ttv-boxart/1987896617_IGDB-{width}x{height}.jpg</td><td>214394</td><td>2025-06-13T19:46:32.036934</td></tr><tr><td>1826300051</td><td>Mario Kart World</td><td>https://static-cdn.jtvnw.net/ttv-boxart/1826300051_IGDB-{width}x{height}.jpg</td><td>338067</td><td>2025-06-13T19:46:32.036934</td></tr><tr><td>55453844</td><td>Street Fighter 6</td><td>https://static-cdn.jtvnw.net/ttv-boxart/55453844_IGDB-{width}x{height}.jpg</td><td>191692</td><td>2025-06-13T19:46:32.036934</td></tr><tr><td>32399</td><td>Counter-Strike</td><td>https://static-cdn.jtvnw.net/ttv-boxart/32399-{width}x{height}.jpg</td><td></td><td>2025-06-13T19:47:33.937448</td></tr><tr><td>516575</td><td>VALORANT</td><td>https://static-cdn.jtvnw.net/ttv-boxart/516575-{width}x{height}.jpg</td><td>126459</td><td>2025-06-13T19:47:33.937448</td></tr><tr><td>29307</td><td>Path of Exile</td><td>https://static-cdn.jtvnw.net/ttv-boxart/29307_IGDB-{width}x{height}.jpg</td><td>1911</td><td>2025-06-13T19:47:33.937448</td></tr><tr><td>32982</td><td>Grand Theft Auto V</td><td>https://static-cdn.jtvnw.net/ttv-boxart/32982_IGDB-{width}x{height}.jpg</td><td>1020</td><td>2025-06-13T19:47:33.937448</td></tr><tr><td>27471</td><td>Minecraft</td><td>https://static-cdn.jtvnw.net/ttv-boxart/27471_IGDB-{width}x{height}.jpg</td><td>135400</td><td>2025-06-13T19:47:33.937448</td></tr><tr><td>21779</td><td>League of Legends</td><td>https://static-cdn.jtvnw.net/ttv-boxart/21779-{width}x{height}.jpg</td><td>115</td><td>2025-06-13T19:47:33.937448</td></tr><tr><td>481086259</td><td>The Alters</td><td>https://static-cdn.jtvnw.net/ttv-boxart/481086259_IGDB-{width}x{height}.jpg</td><td>204634</td><td>2025-06-13T19:47:33.937448</td></tr><tr><td>602694215</td><td>Five Nights at Freddy's: Secret of the Mimic</td><td>https://static-cdn.jtvnw.net/ttv-boxart/602694215_IGDB-{width}x{height}.jpg</td><td>312859</td><td>2025-06-13T19:47:33.937448</td></tr><tr><td>33214</td><td>Fortnite</td><td>https://static-cdn.jtvnw.net/ttv-boxart/33214-{width}x{height}.jpg</td><td>1905</td><td>2025-06-13T19:47:33.937448</td></tr><tr><td>460630</td><td>Tom Clancy's Rainbow Six Siege X</td><td>https://static-cdn.jtvnw.net/ttv-boxart/460630-{width}x{height}.jpg</td><td>7360</td><td>2025-06-13T19:47:33.937448</td></tr><tr><td>512710</td><td>Call of Duty: Warzone</td><td>https://static-cdn.jtvnw.net/ttv-boxart/512710-{width}x{height}.jpg</td><td>131800</td><td>2025-06-13T19:47:33.937448</td></tr><tr><td>2011938005</td><td>EA Sports FC 25</td><td>https://static-cdn.jtvnw.net/ttv-boxart/2011938005_IGDB-{width}x{height}.jpg</td><td>308698</td><td>2025-06-13T19:47:33.937448</td></tr><tr><td>29595</td><td>Dota 2</td><td>https://static-cdn.jtvnw.net/ttv-boxart/29595-{width}x{height}.jpg</td><td></td><td>2025-06-13T19:47:33.937448</td></tr><tr><td>1987896617</td><td>Dune: Awakening</td><td>https://static-cdn.jtvnw.net/ttv-boxart/1987896617_IGDB-{width}x{height}.jpg</td><td>214394</td><td>2025-06-13T19:47:33.937448</td></tr><tr><td>1826300051</td><td>Mario Kart World</td><td>https://static-cdn.jtvnw.net/ttv-boxart/1826300051_IGDB-{width}x{height}.jpg</td><td>338067</td><td>2025-06-13T19:47:33.937448</td></tr><tr><td>55453844</td><td>Street Fighter 6</td><td>https://static-cdn.jtvnw.net/ttv-boxart/55453844_IGDB-{width}x{height}.jpg</td><td>191692</td><td>2025-06-13T19:47:33.937448</td></tr><tr><td>32399</td><td>Counter-Strike</td><td>https://static-cdn.jtvnw.net/ttv-boxart/32399-{width}x{height}.jpg</td><td></td><td>2025-06-13T19:53:46.208541</td></tr><tr><td>516575</td><td>VALORANT</td><td>https://static-cdn.jtvnw.net/ttv-boxart/516575-{width}x{height}.jpg</td><td>126459</td><td>2025-06-13T19:53:46.208541</td></tr><tr><td>29307</td><td>Path of Exile</td><td>https://static-cdn.jtvnw.net/ttv-boxart/29307_IGDB-{width}x{height}.jpg</td><td>1911</td><td>2025-06-13T19:53:46.208541</td></tr><tr><td>32982</td><td>Grand Theft Auto V</td><td>https://static-cdn.jtvnw.net/ttv-boxart/32982_IGDB-{width}x{height}.jpg</td><td>1020</td><td>2025-06-13T19:53:46.208541</td></tr><tr><td>27471</td><td>Minecraft</td><td>https://static-cdn.jtvnw.net/ttv-boxart/27471_IGDB-{width}x{height}.jpg</td><td>135400</td><td>2025-06-13T19:53:46.208541</td></tr><tr><td>21779</td><td>League of Legends</td><td>https://static-cdn.jtvnw.net/ttv-boxart/21779-{width}x{height}.jpg</td><td>115</td><td>2025-06-13T19:53:46.208541</td></tr><tr><td>481086259</td><td>The Alters</td><td>https://static-cdn.jtvnw.net/ttv-boxart/481086259_IGDB-{width}x{height}.jpg</td><td>204634</td><td>2025-06-13T19:53:46.208541</td></tr><tr><td>602694215</td><td>Five Nights at Freddy's: Secret of the Mimic</td><td>https://static-cdn.jtvnw.net/ttv-boxart/602694215_IGDB-{width}x{height}.jpg</td><td>312859</td><td>2025-06-13T19:53:46.208541</td></tr><tr><td>33214</td><td>Fortnite</td><td>https://static-cdn.jtvnw.net/ttv-boxart/33214-{width}x{height}.jpg</td><td>1905</td><td>2025-06-13T19:53:46.208541</td></tr><tr><td>460630</td><td>Tom Clancy's Rainbow Six Siege X</td><td>https://static-cdn.jtvnw.net/ttv-boxart/460630-{width}x{height}.jpg</td><td>7360</td><td>2025-06-13T19:53:46.208541</td></tr><tr><td>512710</td><td>Call of Duty: Warzone</td><td>https://static-cdn.jtvnw.net/ttv-boxart/512710-{width}x{height}.jpg</td><td>131800</td><td>2025-06-13T19:53:46.208541</td></tr><tr><td>2011938005</td><td>EA Sports FC 25</td><td>https://static-cdn.jtvnw.net/ttv-boxart/2011938005_IGDB-{width}x{height}.jpg</td><td>308698</td><td>2025-06-13T19:53:46.208541</td></tr><tr><td>29595</td><td>Dota 2</td><td>https://static-cdn.jtvnw.net/ttv-boxart/29595-{width}x{height}.jpg</td><td></td><td>2025-06-13T19:53:46.208541</td></tr><tr><td>1987896617</td><td>Dune: Awakening</td><td>https://static-cdn.jtvnw.net/ttv-boxart/1987896617_IGDB-{width}x{height}.jpg</td><td>214394</td><td>2025-06-13T19:53:46.208541</td></tr><tr><td>1826300051</td><td>Mario Kart World</td><td>https://static-cdn.jtvnw.net/ttv-boxart/1826300051_IGDB-{width}x{height}.jpg</td><td>338067</td><td>2025-06-13T19:53:46.208541</td></tr><tr><td>55453844</td><td>Street Fighter 6</td><td>https://static-cdn.jtvnw.net/ttv-boxart/55453844_IGDB-{width}x{height}.jpg</td><td>191692</td><td>2025-06-13T19:53:46.208541</td></tr><tr><td>32399</td><td>Counter-Strike</td><td>https://static-cdn.jtvnw.net/ttv-boxart/32399-{width}x{height}.jpg</td><td></td><td>2025-06-13T19:52:44.155056</td></tr><tr><td>516575</td><td>VALORANT</td><td>https://static-cdn.jtvnw.net/ttv-boxart/516575-{width}x{height}.jpg</td><td>126459</td><td>2025-06-13T19:52:44.155056</td></tr><tr><td>29307</td><td>Path of Exile</td><td>https://static-cdn.jtvnw.net/ttv-boxart/29307_IGDB-{width}x{height}.jpg</td><td>1911</td><td>2025-06-13T19:52:44.155056</td></tr><tr><td>32982</td><td>Grand Theft Auto V</td><td>https://static-cdn.jtvnw.net/ttv-boxart/32982_IGDB-{width}x{height}.jpg</td><td>1020</td><td>2025-06-13T19:52:44.155056</td></tr><tr><td>27471</td><td>Minecraft</td><td>https://static-cdn.jtvnw.net/ttv-boxart/27471_IGDB-{width}x{height}.jpg</td><td>135400</td><td>2025-06-13T19:52:44.155056</td></tr><tr><td>21779</td><td>League of Legends</td><td>https://static-cdn.jtvnw.net/ttv-boxart/21779-{width}x{height}.jpg</td><td>115</td><td>2025-06-13T19:52:44.155056</td></tr><tr><td>481086259</td><td>The Alters</td><td>https://static-cdn.jtvnw.net/ttv-boxart/481086259_IGDB-{width}x{height}.jpg</td><td>204634</td><td>2025-06-13T19:52:44.155056</td></tr><tr><td>602694215</td><td>Five Nights at Freddy's: Secret of the Mimic</td><td>https://static-cdn.jtvnw.net/ttv-boxart/602694215_IGDB-{width}x{height}.jpg</td><td>312859</td><td>2025-06-13T19:52:44.155056</td></tr><tr><td>33214</td><td>Fortnite</td><td>https://static-cdn.jtvnw.net/ttv-boxart/33214-{width}x{height}.jpg</td><td>1905</td><td>2025-06-13T19:52:44.155056</td></tr><tr><td>460630</td><td>Tom Clancy's Rainbow Six Siege X</td><td>https://static-cdn.jtvnw.net/ttv-boxart/460630-{width}x{height}.jpg</td><td>7360</td><td>2025-06-13T19:52:44.155056</td></tr><tr><td>512710</td><td>Call of Duty: Warzone</td><td>https://static-cdn.jtvnw.net/ttv-boxart/512710-{width}x{height}.jpg</td><td>131800</td><td>2025-06-13T19:52:44.155056</td></tr><tr><td>2011938005</td><td>EA Sports FC 25</td><td>https://static-cdn.jtvnw.net/ttv-boxart/2011938005_IGDB-{width}x{height}.jpg</td><td>308698</td><td>2025-06-13T19:52:44.155056</td></tr><tr><td>29595</td><td>Dota 2</td><td>https://static-cdn.jtvnw.net/ttv-boxart/29595-{width}x{height}.jpg</td><td></td><td>2025-06-13T19:52:44.155056</td></tr><tr><td>1987896617</td><td>Dune: Awakening</td><td>https://static-cdn.jtvnw.net/ttv-boxart/1987896617_IGDB-{width}x{height}.jpg</td><td>214394</td><td>2025-06-13T19:52:44.155056</td></tr><tr><td>1826300051</td><td>Mario Kart World</td><td>https://static-cdn.jtvnw.net/ttv-boxart/1826300051_IGDB-{width}x{height}.jpg</td><td>338067</td><td>2025-06-13T19:52:44.155056</td></tr><tr><td>55453844</td><td>Street Fighter 6</td><td>https://static-cdn.jtvnw.net/ttv-boxart/55453844_IGDB-{width}x{height}.jpg</td><td>191692</td><td>2025-06-13T19:52:44.155056</td></tr><tr><td>32399</td><td>Counter-Strike</td><td>https://static-cdn.jtvnw.net/ttv-boxart/32399-{width}x{height}.jpg</td><td></td><td>2025-06-13T19:54:48.148553</td></tr><tr><td>516575</td><td>VALORANT</td><td>https://static-cdn.jtvnw.net/ttv-boxart/516575-{width}x{height}.jpg</td><td>126459</td><td>2025-06-13T19:54:48.148553</td></tr><tr><td>29307</td><td>Path of Exile</td><td>https://static-cdn.jtvnw.net/ttv-boxart/29307_IGDB-{width}x{height}.jpg</td><td>1911</td><td>2025-06-13T19:54:48.148553</td></tr><tr><td>32982</td><td>Grand Theft Auto V</td><td>https://static-cdn.jtvnw.net/ttv-boxart/32982_IGDB-{width}x{height}.jpg</td><td>1020</td><td>2025-06-13T19:54:48.148553</td></tr><tr><td>27471</td><td>Minecraft</td><td>https://static-cdn.jtvnw.net/ttv-boxart/27471_IGDB-{width}x{height}.jpg</td><td>135400</td><td>2025-06-13T19:54:48.148553</td></tr><tr><td>21779</td><td>League of Legends</td><td>https://static-cdn.jtvnw.net/ttv-boxart/21779-{width}x{height}.jpg</td><td>115</td><td>2025-06-13T19:54:48.148553</td></tr><tr><td>481086259</td><td>The Alters</td><td>https://static-cdn.jtvnw.net/ttv-boxart/481086259_IGDB-{width}x{height}.jpg</td><td>204634</td><td>2025-06-13T19:54:48.148553</td></tr><tr><td>602694215</td><td>Five Nights at Freddy's: Secret of the Mimic</td><td>https://static-cdn.jtvnw.net/ttv-boxart/602694215_IGDB-{width}x{height}.jpg</td><td>312859</td><td>2025-06-13T19:54:48.148553</td></tr><tr><td>33214</td><td>Fortnite</td><td>https://static-cdn.jtvnw.net/ttv-boxart/33214-{width}x{height}.jpg</td><td>1905</td><td>2025-06-13T19:54:48.148553</td></tr><tr><td>460630</td><td>Tom Clancy's Rainbow Six Siege X</td><td>https://static-cdn.jtvnw.net/ttv-boxart/460630-{width}x{height}.jpg</td><td>7360</td><td>2025-06-13T19:54:48.148553</td></tr><tr><td>512710</td><td>Call of Duty: Warzone</td><td>https://static-cdn.jtvnw.net/ttv-boxart/512710-{width}x{height}.jpg</td><td>131800</td><td>2025-06-13T19:54:48.148553</td></tr><tr><td>2011938005</td><td>EA Sports FC 25</td><td>https://static-cdn.jtvnw.net/ttv-boxart/2011938005_IGDB-{width}x{height}.jpg</td><td>308698</td><td>2025-06-13T19:54:48.148553</td></tr><tr><td>29595</td><td>Dota 2</td><td>https://static-cdn.jtvnw.net/ttv-boxart/29595-{width}x{height}.jpg</td><td></td><td>2025-06-13T19:54:48.148553</td></tr><tr><td>1987896617</td><td>Dune: Awakening</td><td>https://static-cdn.jtvnw.net/ttv-boxart/1987896617_IGDB-{width}x{height}.jpg</td><td>214394</td><td>2025-06-13T19:54:48.148553</td></tr><tr><td>1826300051</td><td>Mario Kart World</td><td>https://static-cdn.jtvnw.net/ttv-boxart/1826300051_IGDB-{width}x{height}.jpg</td><td>338067</td><td>2025-06-13T19:54:48.148553</td></tr><tr><td>55453844</td><td>Street Fighter 6</td><td>https://static-cdn.jtvnw.net/ttv-boxart/55453844_IGDB-{width}x{height}.jpg</td><td>191692</td><td>2025-06-13T19:54:48.148553</td></tr><tr><td>32399</td><td>Counter-Strike</td><td>https://static-cdn.jtvnw.net/ttv-boxart/32399-{width}x{height}.jpg</td><td></td><td>2025-06-13T19:55:50.210307</td></tr><tr><td>516575</td><td>VALORANT</td><td>https://static-cdn.jtvnw.net/ttv-boxart/516575-{width}x{height}.jpg</td><td>126459</td><td>2025-06-13T19:55:50.210307</td></tr><tr><td>29307</td><td>Path of Exile</td><td>https://static-cdn.jtvnw.net/ttv-boxart/29307_IGDB-{width}x{height}.jpg</td><td>1911</td><td>2025-06-13T19:55:50.210307</td></tr><tr><td>32982</td><td>Grand Theft Auto V</td><td>https://static-cdn.jtvnw.net/ttv-boxart/32982_IGDB-{width}x{height}.jpg</td><td>1020</td><td>2025-06-13T19:55:50.210307</td></tr><tr><td>27471</td><td>Minecraft</td><td>https://static-cdn.jtvnw.net/ttv-boxart/27471_IGDB-{width}x{height}.jpg</td><td>135400</td><td>2025-06-13T19:55:50.210307</td></tr><tr><td>21779</td><td>League of Legends</td><td>https://static-cdn.jtvnw.net/ttv-boxart/21779-{width}x{height}.jpg</td><td>115</td><td>2025-06-13T19:55:50.210307</td></tr><tr><td>481086259</td><td>The Alters</td><td>https://static-cdn.jtvnw.net/ttv-boxart/481086259_IGDB-{width}x{height}.jpg</td><td>204634</td><td>2025-06-13T19:55:50.210307</td></tr><tr><td>602694215</td><td>Five Nights at Freddy's: Secret of the Mimic</td><td>https://static-cdn.jtvnw.net/ttv-boxart/602694215_IGDB-{width}x{height}.jpg</td><td>312859</td><td>2025-06-13T19:55:50.210307</td></tr><tr><td>33214</td><td>Fortnite</td><td>https://static-cdn.jtvnw.net/ttv-boxart/33214-{width}x{height}.jpg</td><td>1905</td><td>2025-06-13T19:55:50.210307</td></tr><tr><td>460630</td><td>Tom Clancy's Rainbow Six Siege X</td><td>https://static-cdn.jtvnw.net/ttv-boxart/460630-{width}x{height}.jpg</td><td>7360</td><td>2025-06-13T19:55:50.210307</td></tr><tr><td>512710</td><td>Call of Duty: Warzone</td><td>https://static-cdn.jtvnw.net/ttv-boxart/512710-{width}x{height}.jpg</td><td>131800</td><td>2025-06-13T19:55:50.210307</td></tr><tr><td>2011938005</td><td>EA Sports FC 25</td><td>https://static-cdn.jtvnw.net/ttv-boxart/2011938005_IGDB-{width}x{height}.jpg</td><td>308698</td><td>2025-06-13T19:55:50.210307</td></tr><tr><td>29595</td><td>Dota 2</td><td>https://static-cdn.jtvnw.net/ttv-boxart/29595-{width}x{height}.jpg</td><td></td><td>2025-06-13T19:55:50.210307</td></tr><tr><td>1987896617</td><td>Dune: Awakening</td><td>https://static-cdn.jtvnw.net/ttv-boxart/1987896617_IGDB-{width}x{height}.jpg</td><td>214394</td><td>2025-06-13T19:55:50.210307</td></tr><tr><td>1826300051</td><td>Mario Kart World</td><td>https://static-cdn.jtvnw.net/ttv-boxart/1826300051_IGDB-{width}x{height}.jpg</td><td>338067</td><td>2025-06-13T19:55:50.210307</td></tr><tr><td>55453844</td><td>Street Fighter 6</td><td>https://static-cdn.jtvnw.net/ttv-boxart/55453844_IGDB-{width}x{height}.jpg</td><td>191692</td><td>2025-06-13T19:55:50.210307</td></tr><tr><td>32399</td><td>Counter-Strike</td><td>https://static-cdn.jtvnw.net/ttv-boxart/32399-{width}x{height}.jpg</td><td></td><td>2025-06-13T19:51:42.032113</td></tr><tr><td>516575</td><td>VALORANT</td><td>https://static-cdn.jtvnw.net/ttv-boxart/516575-{width}x{height}.jpg</td><td>126459</td><td>2025-06-13T19:51:42.032113</td></tr><tr><td>29307</td><td>Path of Exile</td><td>https://static-cdn.jtvnw.net/ttv-boxart/29307_IGDB-{width}x{height}.jpg</td><td>1911</td><td>2025-06-13T19:51:42.032113</td></tr><tr><td>32982</td><td>Grand Theft Auto V</td><td>https://static-cdn.jtvnw.net/ttv-boxart/32982_IGDB-{width}x{height}.jpg</td><td>1020</td><td>2025-06-13T19:51:42.032113</td></tr><tr><td>27471</td><td>Minecraft</td><td>https://static-cdn.jtvnw.net/ttv-boxart/27471_IGDB-{width}x{height}.jpg</td><td>135400</td><td>2025-06-13T19:51:42.032113</td></tr><tr><td>21779</td><td>League of Legends</td><td>https://static-cdn.jtvnw.net/ttv-boxart/21779-{width}x{height}.jpg</td><td>115</td><td>2025-06-13T19:51:42.032113</td></tr><tr><td>481086259</td><td>The Alters</td><td>https://static-cdn.jtvnw.net/ttv-boxart/481086259_IGDB-{width}x{height}.jpg</td><td>204634</td><td>2025-06-13T19:51:42.032113</td></tr><tr><td>602694215</td><td>Five Nights at Freddy's: Secret of the Mimic</td><td>https://static-cdn.jtvnw.net/ttv-boxart/602694215_IGDB-{width}x{height}.jpg</td><td>312859</td><td>2025-06-13T19:51:42.032113</td></tr><tr><td>33214</td><td>Fortnite</td><td>https://static-cdn.jtvnw.net/ttv-boxart/33214-{width}x{height}.jpg</td><td>1905</td><td>2025-06-13T19:51:42.032113</td></tr><tr><td>460630</td><td>Tom Clancy's Rainbow Six Siege X</td><td>https://static-cdn.jtvnw.net/ttv-boxart/460630-{width}x{height}.jpg</td><td>7360</td><td>2025-06-13T19:51:42.032113</td></tr><tr><td>512710</td><td>Call of Duty: Warzone</td><td>https://static-cdn.jtvnw.net/ttv-boxart/512710-{width}x{height}.jpg</td><td>131800</td><td>2025-06-13T19:51:42.032113</td></tr><tr><td>2011938005</td><td>EA Sports FC 25</td><td>https://static-cdn.jtvnw.net/ttv-boxart/2011938005_IGDB-{width}x{height}.jpg</td><td>308698</td><td>2025-06-13T19:51:42.032113</td></tr><tr><td>29595</td><td>Dota 2</td><td>https://static-cdn.jtvnw.net/ttv-boxart/29595-{width}x{height}.jpg</td><td></td><td>2025-06-13T19:51:42.032113</td></tr><tr><td>1987896617</td><td>Dune: Awakening</td><td>https://static-cdn.jtvnw.net/ttv-boxart/1987896617_IGDB-{width}x{height}.jpg</td><td>214394</td><td>2025-06-13T19:51:42.032113</td></tr><tr><td>1826300051</td><td>Mario Kart World</td><td>https://static-cdn.jtvnw.net/ttv-boxart/1826300051_IGDB-{width}x{height}.jpg</td><td>338067</td><td>2025-06-13T19:51:42.032113</td></tr><tr><td>55453844</td><td>Street Fighter 6</td><td>https://static-cdn.jtvnw.net/ttv-boxart/55453844_IGDB-{width}x{height}.jpg</td><td>191692</td><td>2025-06-13T19:51:42.032113</td></tr><tr><td>32399</td><td>Counter-Strike</td><td>https://static-cdn.jtvnw.net/ttv-boxart/32399-{width}x{height}.jpg</td><td></td><td>2025-06-13T19:56:52.710886</td></tr><tr><td>516575</td><td>VALORANT</td><td>https://static-cdn.jtvnw.net/ttv-boxart/516575-{width}x{height}.jpg</td><td>126459</td><td>2025-06-13T19:56:52.710886</td></tr><tr><td>29307</td><td>Path of Exile</td><td>https://static-cdn.jtvnw.net/ttv-boxart/29307_IGDB-{width}x{height}.jpg</td><td>1911</td><td>2025-06-13T19:56:52.710886</td></tr><tr><td>32982</td><td>Grand Theft Auto V</td><td>https://static-cdn.jtvnw.net/ttv-boxart/32982_IGDB-{width}x{height}.jpg</td><td>1020</td><td>2025-06-13T19:56:52.710886</td></tr><tr><td>27471</td><td>Minecraft</td><td>https://static-cdn.jtvnw.net/ttv-boxart/27471_IGDB-{width}x{height}.jpg</td><td>135400</td><td>2025-06-13T19:56:52.710886</td></tr><tr><td>21779</td><td>League of Legends</td><td>https://static-cdn.jtvnw.net/ttv-boxart/21779-{width}x{height}.jpg</td><td>115</td><td>2025-06-13T19:56:52.710886</td></tr><tr><td>481086259</td><td>The Alters</td><td>https://static-cdn.jtvnw.net/ttv-boxart/481086259_IGDB-{width}x{height}.jpg</td><td>204634</td><td>2025-06-13T19:56:52.710886</td></tr><tr><td>602694215</td><td>Five Nights at Freddy's: Secret of the Mimic</td><td>https://static-cdn.jtvnw.net/ttv-boxart/602694215_IGDB-{width}x{height}.jpg</td><td>312859</td><td>2025-06-13T19:56:52.710886</td></tr><tr><td>33214</td><td>Fortnite</td><td>https://static-cdn.jtvnw.net/ttv-boxart/33214-{width}x{height}.jpg</td><td>1905</td><td>2025-06-13T19:56:52.710886</td></tr><tr><td>460630</td><td>Tom Clancy's Rainbow Six Siege X</td><td>https://static-cdn.jtvnw.net/ttv-boxart/460630-{width}x{height}.jpg</td><td>7360</td><td>2025-06-13T19:56:52.710886</td></tr><tr><td>512710</td><td>Call of Duty: Warzone</td><td>https://static-cdn.jtvnw.net/ttv-boxart/512710-{width}x{height}.jpg</td><td>131800</td><td>2025-06-13T19:56:52.710886</td></tr><tr><td>2011938005</td><td>EA Sports FC 25</td><td>https://static-cdn.jtvnw.net/ttv-boxart/2011938005_IGDB-{width}x{height}.jpg</td><td>308698</td><td>2025-06-13T19:56:52.710886</td></tr><tr><td>29595</td><td>Dota 2</td><td>https://static-cdn.jtvnw.net/ttv-boxart/29595-{width}x{height}.jpg</td><td></td><td>2025-06-13T19:56:52.710886</td></tr><tr><td>1987896617</td><td>Dune: Awakening</td><td>https://static-cdn.jtvnw.net/ttv-boxart/1987896617_IGDB-{width}x{height}.jpg</td><td>214394</td><td>2025-06-13T19:56:52.710886</td></tr><tr><td>1826300051</td><td>Mario Kart World</td><td>https://static-cdn.jtvnw.net/ttv-boxart/1826300051_IGDB-{width}x{height}.jpg</td><td>338067</td><td>2025-06-13T19:56:52.710886</td></tr><tr><td>55453844</td><td>Street Fighter 6</td><td>https://static-cdn.jtvnw.net/ttv-boxart/55453844_IGDB-{width}x{height}.jpg</td><td>191692</td><td>2025-06-13T19:56:52.710886</td></tr><tr><td>32399</td><td>Counter-Strike</td><td>https://static-cdn.jtvnw.net/ttv-boxart/32399-{width}x{height}.jpg</td><td></td><td>2025-06-13T19:57:54.590642</td></tr><tr><td>516575</td><td>VALORANT</td><td>https://static-cdn.jtvnw.net/ttv-boxart/516575-{width}x{height}.jpg</td><td>126459</td><td>2025-06-13T19:57:54.590642</td></tr><tr><td>29307</td><td>Path of Exile</td><td>https://static-cdn.jtvnw.net/ttv-boxart/29307_IGDB-{width}x{height}.jpg</td><td>1911</td><td>2025-06-13T19:57:54.590642</td></tr><tr><td>32982</td><td>Grand Theft Auto V</td><td>https://static-cdn.jtvnw.net/ttv-boxart/32982_IGDB-{width}x{height}.jpg</td><td>1020</td><td>2025-06-13T19:57:54.590642</td></tr><tr><td>27471</td><td>Minecraft</td><td>https://static-cdn.jtvnw.net/ttv-boxart/27471_IGDB-{width}x{height}.jpg</td><td>135400</td><td>2025-06-13T19:57:54.590642</td></tr><tr><td>21779</td><td>League of Legends</td><td>https://static-cdn.jtvnw.net/ttv-boxart/21779-{width}x{height}.jpg</td><td>115</td><td>2025-06-13T19:57:54.590642</td></tr><tr><td>481086259</td><td>The Alters</td><td>https://static-cdn.jtvnw.net/ttv-boxart/481086259_IGDB-{width}x{height}.jpg</td><td>204634</td><td>2025-06-13T19:57:54.590642</td></tr><tr><td>602694215</td><td>Five Nights at Freddy's: Secret of the Mimic</td><td>https://static-cdn.jtvnw.net/ttv-boxart/602694215_IGDB-{width}x{height}.jpg</td><td>312859</td><td>2025-06-13T19:57:54.590642</td></tr><tr><td>33214</td><td>Fortnite</td><td>https://static-cdn.jtvnw.net/ttv-boxart/33214-{width}x{height}.jpg</td><td>1905</td><td>2025-06-13T19:57:54.590642</td></tr><tr><td>460630</td><td>Tom Clancy's Rainbow Six Siege X</td><td>https://static-cdn.jtvnw.net/ttv-boxart/460630-{width}x{height}.jpg</td><td>7360</td><td>2025-06-13T19:57:54.590642</td></tr><tr><td>512710</td><td>Call of Duty: Warzone</td><td>https://static-cdn.jtvnw.net/ttv-boxart/512710-{width}x{height}.jpg</td><td>131800</td><td>2025-06-13T19:57:54.590642</td></tr><tr><td>2011938005</td><td>EA Sports FC 25</td><td>https://static-cdn.jtvnw.net/ttv-boxart/2011938005_IGDB-{width}x{height}.jpg</td><td>308698</td><td>2025-06-13T19:57:54.590642</td></tr><tr><td>29595</td><td>Dota 2</td><td>https://static-cdn.jtvnw.net/ttv-boxart/29595-{width}x{height}.jpg</td><td></td><td>2025-06-13T19:57:54.590642</td></tr><tr><td>1987896617</td><td>Dune: Awakening</td><td>https://static-cdn.jtvnw.net/ttv-boxart/1987896617_IGDB-{width}x{height}.jpg</td><td>214394</td><td>2025-06-13T19:57:54.590642</td></tr><tr><td>1826300051</td><td>Mario Kart World</td><td>https://static-cdn.jtvnw.net/ttv-boxart/1826300051_IGDB-{width}x{height}.jpg</td><td>338067</td><td>2025-06-13T19:57:54.590642</td></tr><tr><td>55453844</td><td>Street Fighter 6</td><td>https://static-cdn.jtvnw.net/ttv-boxart/55453844_IGDB-{width}x{height}.jpg</td><td>191692</td><td>2025-06-13T19:57:54.590642</td></tr><tr><td>32399</td><td>Counter-Strike</td><td>https://static-cdn.jtvnw.net/ttv-boxart/32399-{width}x{height}.jpg</td><td></td><td>2025-06-13T19:42:20.977030</td></tr><tr><td>516575</td><td>VALORANT</td><td>https://static-cdn.jtvnw.net/ttv-boxart/516575-{width}x{height}.jpg</td><td>126459</td><td>2025-06-13T19:42:20.977030</td></tr><tr><td>32982</td><td>Grand Theft Auto V</td><td>https://static-cdn.jtvnw.net/ttv-boxart/32982_IGDB-{width}x{height}.jpg</td><td>1020</td><td>2025-06-13T19:42:20.977030</td></tr><tr><td>29307</td><td>Path of Exile</td><td>https://static-cdn.jtvnw.net/ttv-boxart/29307_IGDB-{width}x{height}.jpg</td><td>1911</td><td>2025-06-13T19:42:20.977030</td></tr><tr><td>27471</td><td>Minecraft</td><td>https://static-cdn.jtvnw.net/ttv-boxart/27471_IGDB-{width}x{height}.jpg</td><td>135400</td><td>2025-06-13T19:42:20.977030</td></tr><tr><td>21779</td><td>League of Legends</td><td>https://static-cdn.jtvnw.net/ttv-boxart/21779-{width}x{height}.jpg</td><td>115</td><td>2025-06-13T19:42:20.977030</td></tr><tr><td>481086259</td><td>The Alters</td><td>https://static-cdn.jtvnw.net/ttv-boxart/481086259_IGDB-{width}x{height}.jpg</td><td>204634</td><td>2025-06-13T19:42:20.977030</td></tr><tr><td>602694215</td><td>Five Nights at Freddy's: Secret of the Mimic</td><td>https://static-cdn.jtvnw.net/ttv-boxart/602694215_IGDB-{width}x{height}.jpg</td><td>312859</td><td>2025-06-13T19:42:20.977030</td></tr><tr><td>33214</td><td>Fortnite</td><td>https://static-cdn.jtvnw.net/ttv-boxart/33214-{width}x{height}.jpg</td><td>1905</td><td>2025-06-13T19:42:20.977030</td></tr><tr><td>460630</td><td>Tom Clancy's Rainbow Six Siege X</td><td>https://static-cdn.jtvnw.net/ttv-boxart/460630-{width}x{height}.jpg</td><td>7360</td><td>2025-06-13T19:42:20.977030</td></tr><tr><td>512710</td><td>Call of Duty: Warzone</td><td>https://static-cdn.jtvnw.net/ttv-boxart/512710-{width}x{height}.jpg</td><td>131800</td><td>2025-06-13T19:42:20.977030</td></tr><tr><td>2011938005</td><td>EA Sports FC 25</td><td>https://static-cdn.jtvnw.net/ttv-boxart/2011938005_IGDB-{width}x{height}.jpg</td><td>308698</td><td>2025-06-13T19:42:20.977030</td></tr><tr><td>29595</td><td>Dota 2</td><td>https://static-cdn.jtvnw.net/ttv-boxart/29595-{width}x{height}.jpg</td><td></td><td>2025-06-13T19:42:20.977030</td></tr><tr><td>1987896617</td><td>Dune: Awakening</td><td>https://static-cdn.jtvnw.net/ttv-boxart/1987896617_IGDB-{width}x{height}.jpg</td><td>214394</td><td>2025-06-13T19:42:20.977030</td></tr><tr><td>1826300051</td><td>Mario Kart World</td><td>https://static-cdn.jtvnw.net/ttv-boxart/1826300051_IGDB-{width}x{height}.jpg</td><td>338067</td><td>2025-06-13T19:42:20.977030</td></tr><tr><td>55453844</td><td>Street Fighter 6</td><td>https://static-cdn.jtvnw.net/ttv-boxart/55453844_IGDB-{width}x{height}.jpg</td><td>191692</td><td>2025-06-13T19:42:20.977030</td></tr><tr><td>32399</td><td>Counter-Strike</td><td>https://static-cdn.jtvnw.net/ttv-boxart/32399-{width}x{height}.jpg</td><td></td><td>2025-06-13T19:43:23.035965</td></tr><tr><td>516575</td><td>VALORANT</td><td>https://static-cdn.jtvnw.net/ttv-boxart/516575-{width}x{height}.jpg</td><td>126459</td><td>2025-06-13T19:43:23.035965</td></tr><tr><td>32982</td><td>Grand Theft Auto V</td><td>https://static-cdn.jtvnw.net/ttv-boxart/32982_IGDB-{width}x{height}.jpg</td><td>1020</td><td>2025-06-13T19:43:23.035965</td></tr><tr><td>29307</td><td>Path of Exile</td><td>https://static-cdn.jtvnw.net/ttv-boxart/29307_IGDB-{width}x{height}.jpg</td><td>1911</td><td>2025-06-13T19:43:23.035965</td></tr><tr><td>27471</td><td>Minecraft</td><td>https://static-cdn.jtvnw.net/ttv-boxart/27471_IGDB-{width}x{height}.jpg</td><td>135400</td><td>2025-06-13T19:43:23.035965</td></tr><tr><td>21779</td><td>League of Legends</td><td>https://static-cdn.jtvnw.net/ttv-boxart/21779-{width}x{height}.jpg</td><td>115</td><td>2025-06-13T19:43:23.035965</td></tr><tr><td>481086259</td><td>The Alters</td><td>https://static-cdn.jtvnw.net/ttv-boxart/481086259_IGDB-{width}x{height}.jpg</td><td>204634</td><td>2025-06-13T19:43:23.035965</td></tr><tr><td>602694215</td><td>Five Nights at Freddy's: Secret of the Mimic</td><td>https://static-cdn.jtvnw.net/ttv-boxart/602694215_IGDB-{width}x{height}.jpg</td><td>312859</td><td>2025-06-13T19:43:23.035965</td></tr><tr><td>33214</td><td>Fortnite</td><td>https://static-cdn.jtvnw.net/ttv-boxart/33214-{width}x{height}.jpg</td><td>1905</td><td>2025-06-13T19:43:23.035965</td></tr><tr><td>460630</td><td>Tom Clancy's Rainbow Six Siege X</td><td>https://static-cdn.jtvnw.net/ttv-boxart/460630-{width}x{height}.jpg</td><td>7360</td><td>2025-06-13T19:43:23.035965</td></tr><tr><td>512710</td><td>Call of Duty: Warzone</td><td>https://static-cdn.jtvnw.net/ttv-boxart/512710-{width}x{height}.jpg</td><td>131800</td><td>2025-06-13T19:43:23.035965</td></tr><tr><td>2011938005</td><td>EA Sports FC 25</td><td>https://static-cdn.jtvnw.net/ttv-boxart/2011938005_IGDB-{width}x{height}.jpg</td><td>308698</td><td>2025-06-13T19:43:23.035965</td></tr><tr><td>29595</td><td>Dota 2</td><td>https://static-cdn.jtvnw.net/ttv-boxart/29595-{width}x{height}.jpg</td><td></td><td>2025-06-13T19:43:23.035965</td></tr><tr><td>1987896617</td><td>Dune: Awakening</td><td>https://static-cdn.jtvnw.net/ttv-boxart/1987896617_IGDB-{width}x{height}.jpg</td><td>214394</td><td>2025-06-13T19:43:23.035965</td></tr><tr><td>1826300051</td><td>Mario Kart World</td><td>https://static-cdn.jtvnw.net/ttv-boxart/1826300051_IGDB-{width}x{height}.jpg</td><td>338067</td><td>2025-06-13T19:43:23.035965</td></tr><tr><td>55453844</td><td>Street Fighter 6</td><td>https://static-cdn.jtvnw.net/ttv-boxart/55453844_IGDB-{width}x{height}.jpg</td><td>191692</td><td>2025-06-13T19:43:23.035965</td></tr><tr><td>32399</td><td>Counter-Strike</td><td>https://static-cdn.jtvnw.net/ttv-boxart/32399-{width}x{height}.jpg</td><td></td><td>2025-06-13T19:44:28.004809</td></tr><tr><td>516575</td><td>VALORANT</td><td>https://static-cdn.jtvnw.net/ttv-boxart/516575-{width}x{height}.jpg</td><td>126459</td><td>2025-06-13T19:44:28.004809</td></tr><tr><td>32982</td><td>Grand Theft Auto V</td><td>https://static-cdn.jtvnw.net/ttv-boxart/32982_IGDB-{width}x{height}.jpg</td><td>1020</td><td>2025-06-13T19:44:28.004809</td></tr><tr><td>29307</td><td>Path of Exile</td><td>https://static-cdn.jtvnw.net/ttv-boxart/29307_IGDB-{width}x{height}.jpg</td><td>1911</td><td>2025-06-13T19:44:28.004809</td></tr><tr><td>27471</td><td>Minecraft</td><td>https://static-cdn.jtvnw.net/ttv-boxart/27471_IGDB-{width}x{height}.jpg</td><td>135400</td><td>2025-06-13T19:44:28.004809</td></tr><tr><td>21779</td><td>League of Legends</td><td>https://static-cdn.jtvnw.net/ttv-boxart/21779-{width}x{height}.jpg</td><td>115</td><td>2025-06-13T19:44:28.004809</td></tr><tr><td>481086259</td><td>The Alters</td><td>https://static-cdn.jtvnw.net/ttv-boxart/481086259_IGDB-{width}x{height}.jpg</td><td>204634</td><td>2025-06-13T19:44:28.004809</td></tr><tr><td>602694215</td><td>Five Nights at Freddy's: Secret of the Mimic</td><td>https://static-cdn.jtvnw.net/ttv-boxart/602694215_IGDB-{width}x{height}.jpg</td><td>312859</td><td>2025-06-13T19:44:28.004809</td></tr><tr><td>33214</td><td>Fortnite</td><td>https://static-cdn.jtvnw.net/ttv-boxart/33214-{width}x{height}.jpg</td><td>1905</td><td>2025-06-13T19:44:28.004809</td></tr><tr><td>460630</td><td>Tom Clancy's Rainbow Six Siege X</td><td>https://static-cdn.jtvnw.net/ttv-boxart/460630-{width}x{height}.jpg</td><td>7360</td><td>2025-06-13T19:44:28.004809</td></tr><tr><td>512710</td><td>Call of Duty: Warzone</td><td>https://static-cdn.jtvnw.net/ttv-boxart/512710-{width}x{height}.jpg</td><td>131800</td><td>2025-06-13T19:44:28.004809</td></tr><tr><td>2011938005</td><td>EA Sports FC 25</td><td>https://static-cdn.jtvnw.net/ttv-boxart/2011938005_IGDB-{width}x{height}.jpg</td><td>308698</td><td>2025-06-13T19:44:28.004809</td></tr><tr><td>29595</td><td>Dota 2</td><td>https://static-cdn.jtvnw.net/ttv-boxart/29595-{width}x{height}.jpg</td><td></td><td>2025-06-13T19:44:28.004809</td></tr><tr><td>1987896617</td><td>Dune: Awakening</td><td>https://static-cdn.jtvnw.net/ttv-boxart/1987896617_IGDB-{width}x{height}.jpg</td><td>214394</td><td>2025-06-13T19:44:28.004809</td></tr><tr><td>1826300051</td><td>Mario Kart World</td><td>https://static-cdn.jtvnw.net/ttv-boxart/1826300051_IGDB-{width}x{height}.jpg</td><td>338067</td><td>2025-06-13T19:44:28.004809</td></tr><tr><td>55453844</td><td>Street Fighter 6</td><td>https://static-cdn.jtvnw.net/ttv-boxart/55453844_IGDB-{width}x{height}.jpg</td><td>191692</td><td>2025-06-13T19:44:28.004809</td></tr><tr><td>32399</td><td>Counter-Strike</td><td>https://static-cdn.jtvnw.net/ttv-boxart/32399-{width}x{height}.jpg</td><td></td><td>2025-06-13T19:50:39.954141</td></tr><tr><td>516575</td><td>VALORANT</td><td>https://static-cdn.jtvnw.net/ttv-boxart/516575-{width}x{height}.jpg</td><td>126459</td><td>2025-06-13T19:50:39.954141</td></tr><tr><td>29307</td><td>Path of Exile</td><td>https://static-cdn.jtvnw.net/ttv-boxart/29307_IGDB-{width}x{height}.jpg</td><td>1911</td><td>2025-06-13T19:50:39.954141</td></tr><tr><td>32982</td><td>Grand Theft Auto V</td><td>https://static-cdn.jtvnw.net/ttv-boxart/32982_IGDB-{width}x{height}.jpg</td><td>1020</td><td>2025-06-13T19:50:39.954141</td></tr><tr><td>27471</td><td>Minecraft</td><td>https://static-cdn.jtvnw.net/ttv-boxart/27471_IGDB-{width}x{height}.jpg</td><td>135400</td><td>2025-06-13T19:50:39.954141</td></tr><tr><td>21779</td><td>League of Legends</td><td>https://static-cdn.jtvnw.net/ttv-boxart/21779-{width}x{height}.jpg</td><td>115</td><td>2025-06-13T19:50:39.954141</td></tr><tr><td>481086259</td><td>The Alters</td><td>https://static-cdn.jtvnw.net/ttv-boxart/481086259_IGDB-{width}x{height}.jpg</td><td>204634</td><td>2025-06-13T19:50:39.954141</td></tr><tr><td>602694215</td><td>Five Nights at Freddy's: Secret of the Mimic</td><td>https://static-cdn.jtvnw.net/ttv-boxart/602694215_IGDB-{width}x{height}.jpg</td><td>312859</td><td>2025-06-13T19:50:39.954141</td></tr><tr><td>33214</td><td>Fortnite</td><td>https://static-cdn.jtvnw.net/ttv-boxart/33214-{width}x{height}.jpg</td><td>1905</td><td>2025-06-13T19:50:39.954141</td></tr><tr><td>460630</td><td>Tom Clancy's Rainbow Six Siege X</td><td>https://static-cdn.jtvnw.net/ttv-boxart/460630-{width}x{height}.jpg</td><td>7360</td><td>2025-06-13T19:50:39.954141</td></tr><tr><td>512710</td><td>Call of Duty: Warzone</td><td>https://static-cdn.jtvnw.net/ttv-boxart/512710-{width}x{height}.jpg</td><td>131800</td><td>2025-06-13T19:50:39.954141</td></tr><tr><td>2011938005</td><td>EA Sports FC 25</td><td>https://static-cdn.jtvnw.net/ttv-boxart/2011938005_IGDB-{width}x{height}.jpg</td><td>308698</td><td>2025-06-13T19:50:39.954141</td></tr><tr><td>29595</td><td>Dota 2</td><td>https://static-cdn.jtvnw.net/ttv-boxart/29595-{width}x{height}.jpg</td><td></td><td>2025-06-13T19:50:39.954141</td></tr><tr><td>1987896617</td><td>Dune: Awakening</td><td>https://static-cdn.jtvnw.net/ttv-boxart/1987896617_IGDB-{width}x{height}.jpg</td><td>214394</td><td>2025-06-13T19:50:39.954141</td></tr><tr><td>1826300051</td><td>Mario Kart World</td><td>https://static-cdn.jtvnw.net/ttv-boxart/1826300051_IGDB-{width}x{height}.jpg</td><td>338067</td><td>2025-06-13T19:50:39.954141</td></tr><tr><td>55453844</td><td>Street Fighter 6</td><td>https://static-cdn.jtvnw.net/ttv-boxart/55453844_IGDB-{width}x{height}.jpg</td><td>191692</td><td>2025-06-13T19:50:39.954141</td></tr><tr><td>32399</td><td>Counter-Strike</td><td>https://static-cdn.jtvnw.net/ttv-boxart/32399-{width}x{height}.jpg</td><td></td><td>2025-06-13T19:11:05.562609</td></tr><tr><td>516575</td><td>VALORANT</td><td>https://static-cdn.jtvnw.net/ttv-boxart/516575-{width}x{height}.jpg</td><td>126459</td><td>2025-06-13T19:11:05.562609</td></tr><tr><td>32982</td><td>Grand Theft Auto V</td><td>https://static-cdn.jtvnw.net/ttv-boxart/32982_IGDB-{width}x{height}.jpg</td><td>1020</td><td>2025-06-13T19:11:05.562609</td></tr><tr><td>29307</td><td>Path of Exile</td><td>https://static-cdn.jtvnw.net/ttv-boxart/29307_IGDB-{width}x{height}.jpg</td><td>1911</td><td>2025-06-13T19:11:05.562609</td></tr><tr><td>21779</td><td>League of Legends</td><td>https://static-cdn.jtvnw.net/ttv-boxart/21779-{width}x{height}.jpg</td><td>115</td><td>2025-06-13T19:11:05.562609</td></tr><tr><td>27471</td><td>Minecraft</td><td>https://static-cdn.jtvnw.net/ttv-boxart/27471_IGDB-{width}x{height}.jpg</td><td>135400</td><td>2025-06-13T19:11:05.562609</td></tr><tr><td>481086259</td><td>The Alters</td><td>https://static-cdn.jtvnw.net/ttv-boxart/481086259_IGDB-{width}x{height}.jpg</td><td>204634</td><td>2025-06-13T19:11:05.562609</td></tr><tr><td>33214</td><td>Fortnite</td><td>https://static-cdn.jtvnw.net/ttv-boxart/33214-{width}x{height}.jpg</td><td>1905</td><td>2025-06-13T19:11:05.562609</td></tr><tr><td>29595</td><td>Dota 2</td><td>https://static-cdn.jtvnw.net/ttv-boxart/29595-{width}x{height}.jpg</td><td></td><td>2025-06-13T19:11:05.562609</td></tr><tr><td>602694215</td><td>Five Nights at Freddy's: Secret of the Mimic</td><td>https://static-cdn.jtvnw.net/ttv-boxart/602694215_IGDB-{width}x{height}.jpg</td><td>312859</td><td>2025-06-13T19:11:05.562609</td></tr><tr><td>2011938005</td><td>EA Sports FC 25</td><td>https://static-cdn.jtvnw.net/ttv-boxart/2011938005_IGDB-{width}x{height}.jpg</td><td>308698</td><td>2025-06-13T19:11:05.562609</td></tr><tr><td>1987896617</td><td>Dune: Awakening</td><td>https://static-cdn.jtvnw.net/ttv-boxart/1987896617_IGDB-{width}x{height}.jpg</td><td>214394</td><td>2025-06-13T19:11:05.562609</td></tr><tr><td>30921</td><td>Rocket League</td><td>https://static-cdn.jtvnw.net/ttv-boxart/30921-{width}x{height}.jpg</td><td>11198</td><td>2025-06-13T19:11:05.562609</td></tr><tr><td>460630</td><td>Tom Clancy's Rainbow Six Siege X</td><td>https://static-cdn.jtvnw.net/ttv-boxart/460630-{width}x{height}.jpg</td><td>7360</td><td>2025-06-13T19:11:05.562609</td></tr><tr><td>512710</td><td>Call of Duty: Warzone</td><td>https://static-cdn.jtvnw.net/ttv-boxart/512710-{width}x{height}.jpg</td><td>131800</td><td>2025-06-13T19:11:05.562609</td></tr><tr><td>55453844</td><td>Street Fighter 6</td><td>https://static-cdn.jtvnw.net/ttv-boxart/55453844_IGDB-{width}x{height}.jpg</td><td>191692</td><td>2025-06-13T19:11:05.562609</td></tr><tr><td>32399</td><td>Counter-Strike</td><td>https://static-cdn.jtvnw.net/ttv-boxart/32399-{width}x{height}.jpg</td><td></td><td>2025-06-13T19:18:20.063938</td></tr><tr><td>516575</td><td>VALORANT</td><td>https://static-cdn.jtvnw.net/ttv-boxart/516575-{width}x{height}.jpg</td><td>126459</td><td>2025-06-13T19:18:20.063938</td></tr><tr><td>32982</td><td>Grand Theft Auto V</td><td>https://static-cdn.jtvnw.net/ttv-boxart/32982_IGDB-{width}x{height}.jpg</td><td>1020</td><td>2025-06-13T19:18:20.063938</td></tr><tr><td>29307</td><td>Path of Exile</td><td>https://static-cdn.jtvnw.net/ttv-boxart/29307_IGDB-{width}x{height}.jpg</td><td>1911</td><td>2025-06-13T19:18:20.063938</td></tr><tr><td>27471</td><td>Minecraft</td><td>https://static-cdn.jtvnw.net/ttv-boxart/27471_IGDB-{width}x{height}.jpg</td><td>135400</td><td>2025-06-13T19:18:20.063938</td></tr><tr><td>21779</td><td>League of Legends</td><td>https://static-cdn.jtvnw.net/ttv-boxart/21779-{width}x{height}.jpg</td><td>115</td><td>2025-06-13T19:18:20.063938</td></tr><tr><td>481086259</td><td>The Alters</td><td>https://static-cdn.jtvnw.net/ttv-boxart/481086259_IGDB-{width}x{height}.jpg</td><td>204634</td><td>2025-06-13T19:18:20.063938</td></tr><tr><td>29595</td><td>Dota 2</td><td>https://static-cdn.jtvnw.net/ttv-boxart/29595-{width}x{height}.jpg</td><td></td><td>2025-06-13T19:18:20.063938</td></tr><tr><td>33214</td><td>Fortnite</td><td>https://static-cdn.jtvnw.net/ttv-boxart/33214-{width}x{height}.jpg</td><td>1905</td><td>2025-06-13T19:18:20.063938</td></tr><tr><td>602694215</td><td>Five Nights at Freddy's: Secret of the Mimic</td><td>https://static-cdn.jtvnw.net/ttv-boxart/602694215_IGDB-{width}x{height}.jpg</td><td>312859</td><td>2025-06-13T19:18:20.063938</td></tr><tr><td>2011938005</td><td>EA Sports FC 25</td><td>https://static-cdn.jtvnw.net/ttv-boxart/2011938005_IGDB-{width}x{height}.jpg</td><td>308698</td><td>2025-06-13T19:18:20.063938</td></tr><tr><td>460630</td><td>Tom Clancy's Rainbow Six Siege X</td><td>https://static-cdn.jtvnw.net/ttv-boxart/460630-{width}x{height}.jpg</td><td>7360</td><td>2025-06-13T19:18:20.063938</td></tr><tr><td>1987896617</td><td>Dune: Awakening</td><td>https://static-cdn.jtvnw.net/ttv-boxart/1987896617_IGDB-{width}x{height}.jpg</td><td>214394</td><td>2025-06-13T19:18:20.063938</td></tr><tr><td>30921</td><td>Rocket League</td><td>https://static-cdn.jtvnw.net/ttv-boxart/30921-{width}x{height}.jpg</td><td>11198</td><td>2025-06-13T19:18:20.063938</td></tr><tr><td>512710</td><td>Call of Duty: Warzone</td><td>https://static-cdn.jtvnw.net/ttv-boxart/512710-{width}x{height}.jpg</td><td>131800</td><td>2025-06-13T19:18:20.063938</td></tr><tr><td>55453844</td><td>Street Fighter 6</td><td>https://static-cdn.jtvnw.net/ttv-boxart/55453844_IGDB-{width}x{height}.jpg</td><td>191692</td><td>2025-06-13T19:18:20.063938</td></tr><tr><td>32399</td><td>Counter-Strike</td><td>https://static-cdn.jtvnw.net/ttv-boxart/32399-{width}x{height}.jpg</td><td></td><td>2025-06-13T19:12:07.642565</td></tr><tr><td>516575</td><td>VALORANT</td><td>https://static-cdn.jtvnw.net/ttv-boxart/516575-{width}x{height}.jpg</td><td>126459</td><td>2025-06-13T19:12:07.642565</td></tr><tr><td>32982</td><td>Grand Theft Auto V</td><td>https://static-cdn.jtvnw.net/ttv-boxart/32982_IGDB-{width}x{height}.jpg</td><td>1020</td><td>2025-06-13T19:12:07.642565</td></tr><tr><td>29307</td><td>Path of Exile</td><td>https://static-cdn.jtvnw.net/ttv-boxart/29307_IGDB-{width}x{height}.jpg</td><td>1911</td><td>2025-06-13T19:12:07.642565</td></tr><tr><td>21779</td><td>League of Legends</td><td>https://static-cdn.jtvnw.net/ttv-boxart/21779-{width}x{height}.jpg</td><td>115</td><td>2025-06-13T19:12:07.642565</td></tr><tr><td>27471</td><td>Minecraft</td><td>https://static-cdn.jtvnw.net/ttv-boxart/27471_IGDB-{width}x{height}.jpg</td><td>135400</td><td>2025-06-13T19:12:07.642565</td></tr><tr><td>481086259</td><td>The Alters</td><td>https://static-cdn.jtvnw.net/ttv-boxart/481086259_IGDB-{width}x{height}.jpg</td><td>204634</td><td>2025-06-13T19:12:07.642565</td></tr><tr><td>33214</td><td>Fortnite</td><td>https://static-cdn.jtvnw.net/ttv-boxart/33214-{width}x{height}.jpg</td><td>1905</td><td>2025-06-13T19:12:07.642565</td></tr><tr><td>29595</td><td>Dota 2</td><td>https://static-cdn.jtvnw.net/ttv-boxart/29595-{width}x{height}.jpg</td><td></td><td>2025-06-13T19:12:07.642565</td></tr><tr><td>602694215</td><td>Five Nights at Freddy's: Secret of the Mimic</td><td>https://static-cdn.jtvnw.net/ttv-boxart/602694215_IGDB-{width}x{height}.jpg</td><td>312859</td><td>2025-06-13T19:12:07.642565</td></tr><tr><td>2011938005</td><td>EA Sports FC 25</td><td>https://static-cdn.jtvnw.net/ttv-boxart/2011938005_IGDB-{width}x{height}.jpg</td><td>308698</td><td>2025-06-13T19:12:07.642565</td></tr><tr><td>1987896617</td><td>Dune: Awakening</td><td>https://static-cdn.jtvnw.net/ttv-boxart/1987896617_IGDB-{width}x{height}.jpg</td><td>214394</td><td>2025-06-13T19:12:07.642565</td></tr><tr><td>30921</td><td>Rocket League</td><td>https://static-cdn.jtvnw.net/ttv-boxart/30921-{width}x{height}.jpg</td><td>11198</td><td>2025-06-13T19:12:07.642565</td></tr><tr><td>460630</td><td>Tom Clancy's Rainbow Six Siege X</td><td>https://static-cdn.jtvnw.net/ttv-boxart/460630-{width}x{height}.jpg</td><td>7360</td><td>2025-06-13T19:12:07.642565</td></tr><tr><td>512710</td><td>Call of Duty: Warzone</td><td>https://static-cdn.jtvnw.net/ttv-boxart/512710-{width}x{height}.jpg</td><td>131800</td><td>2025-06-13T19:12:07.642565</td></tr><tr><td>55453844</td><td>Street Fighter 6</td><td>https://static-cdn.jtvnw.net/ttv-boxart/55453844_IGDB-{width}x{height}.jpg</td><td>191692</td><td>2025-06-13T19:12:07.642565</td></tr><tr><td>32399</td><td>Counter-Strike</td><td>https://static-cdn.jtvnw.net/ttv-boxart/32399-{width}x{height}.jpg</td><td></td><td>2025-06-13T19:10:03.633400</td></tr><tr><td>516575</td><td>VALORANT</td><td>https://static-cdn.jtvnw.net/ttv-boxart/516575-{width}x{height}.jpg</td><td>126459</td><td>2025-06-13T19:10:03.633400</td></tr><tr><td>32982</td><td>Grand Theft Auto V</td><td>https://static-cdn.jtvnw.net/ttv-boxart/32982_IGDB-{width}x{height}.jpg</td><td>1020</td><td>2025-06-13T19:10:03.633400</td></tr><tr><td>29307</td><td>Path of Exile</td><td>https://static-cdn.jtvnw.net/ttv-boxart/29307_IGDB-{width}x{height}.jpg</td><td>1911</td><td>2025-06-13T19:10:03.633400</td></tr><tr><td>21779</td><td>League of Legends</td><td>https://static-cdn.jtvnw.net/ttv-boxart/21779-{width}x{height}.jpg</td><td>115</td><td>2025-06-13T19:10:03.633400</td></tr><tr><td>27471</td><td>Minecraft</td><td>https://static-cdn.jtvnw.net/ttv-boxart/27471_IGDB-{width}x{height}.jpg</td><td>135400</td><td>2025-06-13T19:10:03.633400</td></tr><tr><td>481086259</td><td>The Alters</td><td>https://static-cdn.jtvnw.net/ttv-boxart/481086259_IGDB-{width}x{height}.jpg</td><td>204634</td><td>2025-06-13T19:10:03.633400</td></tr><tr><td>33214</td><td>Fortnite</td><td>https://static-cdn.jtvnw.net/ttv-boxart/33214-{width}x{height}.jpg</td><td>1905</td><td>2025-06-13T19:10:03.633400</td></tr><tr><td>29595</td><td>Dota 2</td><td>https://static-cdn.jtvnw.net/ttv-boxart/29595-{width}x{height}.jpg</td><td></td><td>2025-06-13T19:10:03.633400</td></tr><tr><td>602694215</td><td>Five Nights at Freddy's: Secret of the Mimic</td><td>https://static-cdn.jtvnw.net/ttv-boxart/602694215_IGDB-{width}x{height}.jpg</td><td>312859</td><td>2025-06-13T19:10:03.633400</td></tr><tr><td>2011938005</td><td>EA Sports FC 25</td><td>https://static-cdn.jtvnw.net/ttv-boxart/2011938005_IGDB-{width}x{height}.jpg</td><td>308698</td><td>2025-06-13T19:10:03.633400</td></tr><tr><td>1987896617</td><td>Dune: Awakening</td><td>https://static-cdn.jtvnw.net/ttv-boxart/1987896617_IGDB-{width}x{height}.jpg</td><td>214394</td><td>2025-06-13T19:10:03.633400</td></tr><tr><td>30921</td><td>Rocket League</td><td>https://static-cdn.jtvnw.net/ttv-boxart/30921-{width}x{height}.jpg</td><td>11198</td><td>2025-06-13T19:10:03.633400</td></tr><tr><td>460630</td><td>Tom Clancy's Rainbow Six Siege X</td><td>https://static-cdn.jtvnw.net/ttv-boxart/460630-{width}x{height}.jpg</td><td>7360</td><td>2025-06-13T19:10:03.633400</td></tr><tr><td>512710</td><td>Call of Duty: Warzone</td><td>https://static-cdn.jtvnw.net/ttv-boxart/512710-{width}x{height}.jpg</td><td>131800</td><td>2025-06-13T19:10:03.633400</td></tr><tr><td>55453844</td><td>Street Fighter 6</td><td>https://static-cdn.jtvnw.net/ttv-boxart/55453844_IGDB-{width}x{height}.jpg</td><td>191692</td><td>2025-06-13T19:10:03.633400</td></tr><tr><td>32399</td><td>Counter-Strike</td><td>https://static-cdn.jtvnw.net/ttv-boxart/32399-{width}x{height}.jpg</td><td></td><td>2025-06-13T19:16:16.174212</td></tr><tr><td>516575</td><td>VALORANT</td><td>https://static-cdn.jtvnw.net/ttv-boxart/516575-{width}x{height}.jpg</td><td>126459</td><td>2025-06-13T19:16:16.174212</td></tr><tr><td>32982</td><td>Grand Theft Auto V</td><td>https://static-cdn.jtvnw.net/ttv-boxart/32982_IGDB-{width}x{height}.jpg</td><td>1020</td><td>2025-06-13T19:16:16.174212</td></tr><tr><td>29307</td><td>Path of Exile</td><td>https://static-cdn.jtvnw.net/ttv-boxart/29307_IGDB-{width}x{height}.jpg</td><td>1911</td><td>2025-06-13T19:16:16.174212</td></tr><tr><td>27471</td><td>Minecraft</td><td>https://static-cdn.jtvnw.net/ttv-boxart/27471_IGDB-{width}x{height}.jpg</td><td>135400</td><td>2025-06-13T19:16:16.174212</td></tr><tr><td>21779</td><td>League of Legends</td><td>https://static-cdn.jtvnw.net/ttv-boxart/21779-{width}x{height}.jpg</td><td>115</td><td>2025-06-13T19:16:16.174212</td></tr><tr><td>481086259</td><td>The Alters</td><td>https://static-cdn.jtvnw.net/ttv-boxart/481086259_IGDB-{width}x{height}.jpg</td><td>204634</td><td>2025-06-13T19:16:16.174212</td></tr><tr><td>33214</td><td>Fortnite</td><td>https://static-cdn.jtvnw.net/ttv-boxart/33214-{width}x{height}.jpg</td><td>1905</td><td>2025-06-13T19:16:16.174212</td></tr><tr><td>29595</td><td>Dota 2</td><td>https://static-cdn.jtvnw.net/ttv-boxart/29595-{width}x{height}.jpg</td><td></td><td>2025-06-13T19:16:16.174212</td></tr><tr><td>602694215</td><td>Five Nights at Freddy's: Secret of the Mimic</td><td>https://static-cdn.jtvnw.net/ttv-boxart/602694215_IGDB-{width}x{height}.jpg</td><td>312859</td><td>2025-06-13T19:16:16.174212</td></tr><tr><td>460630</td><td>Tom Clancy's Rainbow Six Siege X</td><td>https://static-cdn.jtvnw.net/ttv-boxart/460630-{width}x{height}.jpg</td><td>7360</td><td>2025-06-13T19:16:16.174212</td></tr><tr><td>2011938005</td><td>EA Sports FC 25</td><td>https://static-cdn.jtvnw.net/ttv-boxart/2011938005_IGDB-{width}x{height}.jpg</td><td>308698</td><td>2025-06-13T19:16:16.174212</td></tr><tr><td>1987896617</td><td>Dune: Awakening</td><td>https://static-cdn.jtvnw.net/ttv-boxart/1987896617_IGDB-{width}x{height}.jpg</td><td>214394</td><td>2025-06-13T19:16:16.174212</td></tr><tr><td>30921</td><td>Rocket League</td><td>https://static-cdn.jtvnw.net/ttv-boxart/30921-{width}x{height}.jpg</td><td>11198</td><td>2025-06-13T19:16:16.174212</td></tr><tr><td>512710</td><td>Call of Duty: Warzone</td><td>https://static-cdn.jtvnw.net/ttv-boxart/512710-{width}x{height}.jpg</td><td>131800</td><td>2025-06-13T19:16:16.174212</td></tr><tr><td>55453844</td><td>Street Fighter 6</td><td>https://static-cdn.jtvnw.net/ttv-boxart/55453844_IGDB-{width}x{height}.jpg</td><td>191692</td><td>2025-06-13T19:16:16.174212</td></tr><tr><td>32399</td><td>Counter-Strike</td><td>https://static-cdn.jtvnw.net/ttv-boxart/32399-{width}x{height}.jpg</td><td></td><td>2025-06-13T19:15:14.167861</td></tr><tr><td>516575</td><td>VALORANT</td><td>https://static-cdn.jtvnw.net/ttv-boxart/516575-{width}x{height}.jpg</td><td>126459</td><td>2025-06-13T19:15:14.167861</td></tr><tr><td>32982</td><td>Grand Theft Auto V</td><td>https://static-cdn.jtvnw.net/ttv-boxart/32982_IGDB-{width}x{height}.jpg</td><td>1020</td><td>2025-06-13T19:15:14.167861</td></tr><tr><td>29307</td><td>Path of Exile</td><td>https://static-cdn.jtvnw.net/ttv-boxart/29307_IGDB-{width}x{height}.jpg</td><td>1911</td><td>2025-06-13T19:15:14.167861</td></tr><tr><td>21779</td><td>League of Legends</td><td>https://static-cdn.jtvnw.net/ttv-boxart/21779-{width}x{height}.jpg</td><td>115</td><td>2025-06-13T19:15:14.167861</td></tr><tr><td>27471</td><td>Minecraft</td><td>https://static-cdn.jtvnw.net/ttv-boxart/27471_IGDB-{width}x{height}.jpg</td><td>135400</td><td>2025-06-13T19:15:14.167861</td></tr><tr><td>481086259</td><td>The Alters</td><td>https://static-cdn.jtvnw.net/ttv-boxart/481086259_IGDB-{width}x{height}.jpg</td><td>204634</td><td>2025-06-13T19:15:14.167861</td></tr><tr><td>33214</td><td>Fortnite</td><td>https://static-cdn.jtvnw.net/ttv-boxart/33214-{width}x{height}.jpg</td><td>1905</td><td>2025-06-13T19:15:14.167861</td></tr><tr><td>29595</td><td>Dota 2</td><td>https://static-cdn.jtvnw.net/ttv-boxart/29595-{width}x{height}.jpg</td><td></td><td>2025-06-13T19:15:14.167861</td></tr><tr><td>602694215</td><td>Five Nights at Freddy's: Secret of the Mimic</td><td>https://static-cdn.jtvnw.net/ttv-boxart/602694215_IGDB-{width}x{height}.jpg</td><td>312859</td><td>2025-06-13T19:15:14.167861</td></tr><tr><td>2011938005</td><td>EA Sports FC 25</td><td>https://static-cdn.jtvnw.net/ttv-boxart/2011938005_IGDB-{width}x{height}.jpg</td><td>308698</td><td>2025-06-13T19:15:14.167861</td></tr><tr><td>1987896617</td><td>Dune: Awakening</td><td>https://static-cdn.jtvnw.net/ttv-boxart/1987896617_IGDB-{width}x{height}.jpg</td><td>214394</td><td>2025-06-13T19:15:14.167861</td></tr><tr><td>460630</td><td>Tom Clancy's Rainbow Six Siege X</td><td>https://static-cdn.jtvnw.net/ttv-boxart/460630-{width}x{height}.jpg</td><td>7360</td><td>2025-06-13T19:15:14.167861</td></tr><tr><td>30921</td><td>Rocket League</td><td>https://static-cdn.jtvnw.net/ttv-boxart/30921-{width}x{height}.jpg</td><td>11198</td><td>2025-06-13T19:15:14.167861</td></tr><tr><td>512710</td><td>Call of Duty: Warzone</td><td>https://static-cdn.jtvnw.net/ttv-boxart/512710-{width}x{height}.jpg</td><td>131800</td><td>2025-06-13T19:15:14.167861</td></tr><tr><td>55453844</td><td>Street Fighter 6</td><td>https://static-cdn.jtvnw.net/ttv-boxart/55453844_IGDB-{width}x{height}.jpg</td><td>191692</td><td>2025-06-13T19:15:14.167861</td></tr><tr><td>32399</td><td>Counter-Strike</td><td>https://static-cdn.jtvnw.net/ttv-boxart/32399-{width}x{height}.jpg</td><td></td><td>2025-06-13T19:13:10.125460</td></tr><tr><td>516575</td><td>VALORANT</td><td>https://static-cdn.jtvnw.net/ttv-boxart/516575-{width}x{height}.jpg</td><td>126459</td><td>2025-06-13T19:13:10.125460</td></tr><tr><td>32982</td><td>Grand Theft Auto V</td><td>https://static-cdn.jtvnw.net/ttv-boxart/32982_IGDB-{width}x{height}.jpg</td><td>1020</td><td>2025-06-13T19:13:10.125460</td></tr><tr><td>29307</td><td>Path of Exile</td><td>https://static-cdn.jtvnw.net/ttv-boxart/29307_IGDB-{width}x{height}.jpg</td><td>1911</td><td>2025-06-13T19:13:10.125460</td></tr><tr><td>21779</td><td>League of Legends</td><td>https://static-cdn.jtvnw.net/ttv-boxart/21779-{width}x{height}.jpg</td><td>115</td><td>2025-06-13T19:13:10.125460</td></tr><tr><td>27471</td><td>Minecraft</td><td>https://static-cdn.jtvnw.net/ttv-boxart/27471_IGDB-{width}x{height}.jpg</td><td>135400</td><td>2025-06-13T19:13:10.125460</td></tr><tr><td>481086259</td><td>The Alters</td><td>https://static-cdn.jtvnw.net/ttv-boxart/481086259_IGDB-{width}x{height}.jpg</td><td>204634</td><td>2025-06-13T19:13:10.125460</td></tr><tr><td>33214</td><td>Fortnite</td><td>https://static-cdn.jtvnw.net/ttv-boxart/33214-{width}x{height}.jpg</td><td>1905</td><td>2025-06-13T19:13:10.125460</td></tr><tr><td>29595</td><td>Dota 2</td><td>https://static-cdn.jtvnw.net/ttv-boxart/29595-{width}x{height}.jpg</td><td></td><td>2025-06-13T19:13:10.125460</td></tr><tr><td>602694215</td><td>Five Nights at Freddy's: Secret of the Mimic</td><td>https://static-cdn.jtvnw.net/ttv-boxart/602694215_IGDB-{width}x{height}.jpg</td><td>312859</td><td>2025-06-13T19:13:10.125460</td></tr><tr><td>2011938005</td><td>EA Sports FC 25</td><td>https://static-cdn.jtvnw.net/ttv-boxart/2011938005_IGDB-{width}x{height}.jpg</td><td>308698</td><td>2025-06-13T19:13:10.125460</td></tr><tr><td>1987896617</td><td>Dune: Awakening</td><td>https://static-cdn.jtvnw.net/ttv-boxart/1987896617_IGDB-{width}x{height}.jpg</td><td>214394</td><td>2025-06-13T19:13:10.125460</td></tr><tr><td>460630</td><td>Tom Clancy's Rainbow Six Siege X</td><td>https://static-cdn.jtvnw.net/ttv-boxart/460630-{width}x{height}.jpg</td><td>7360</td><td>2025-06-13T19:13:10.125460</td></tr><tr><td>30921</td><td>Rocket League</td><td>https://static-cdn.jtvnw.net/ttv-boxart/30921-{width}x{height}.jpg</td><td>11198</td><td>2025-06-13T19:13:10.125460</td></tr><tr><td>512710</td><td>Call of Duty: Warzone</td><td>https://static-cdn.jtvnw.net/ttv-boxart/512710-{width}x{height}.jpg</td><td>131800</td><td>2025-06-13T19:13:10.125460</td></tr><tr><td>55453844</td><td>Street Fighter 6</td><td>https://static-cdn.jtvnw.net/ttv-boxart/55453844_IGDB-{width}x{height}.jpg</td><td>191692</td><td>2025-06-13T19:13:10.125460</td></tr><tr><td>32399</td><td>Counter-Strike</td><td>https://static-cdn.jtvnw.net/ttv-boxart/32399-{width}x{height}.jpg</td><td></td><td>2025-06-13T19:14:12.130911</td></tr><tr><td>516575</td><td>VALORANT</td><td>https://static-cdn.jtvnw.net/ttv-boxart/516575-{width}x{height}.jpg</td><td>126459</td><td>2025-06-13T19:14:12.130911</td></tr><tr><td>32982</td><td>Grand Theft Auto V</td><td>https://static-cdn.jtvnw.net/ttv-boxart/32982_IGDB-{width}x{height}.jpg</td><td>1020</td><td>2025-06-13T19:14:12.130911</td></tr><tr><td>29307</td><td>Path of Exile</td><td>https://static-cdn.jtvnw.net/ttv-boxart/29307_IGDB-{width}x{height}.jpg</td><td>1911</td><td>2025-06-13T19:14:12.130911</td></tr><tr><td>21779</td><td>League of Legends</td><td>https://static-cdn.jtvnw.net/ttv-boxart/21779-{width}x{height}.jpg</td><td>115</td><td>2025-06-13T19:14:12.130911</td></tr><tr><td>27471</td><td>Minecraft</td><td>https://static-cdn.jtvnw.net/ttv-boxart/27471_IGDB-{width}x{height}.jpg</td><td>135400</td><td>2025-06-13T19:14:12.130911</td></tr><tr><td>481086259</td><td>The Alters</td><td>https://static-cdn.jtvnw.net/ttv-boxart/481086259_IGDB-{width}x{height}.jpg</td><td>204634</td><td>2025-06-13T19:14:12.130911</td></tr><tr><td>33214</td><td>Fortnite</td><td>https://static-cdn.jtvnw.net/ttv-boxart/33214-{width}x{height}.jpg</td><td>1905</td><td>2025-06-13T19:14:12.130911</td></tr><tr><td>29595</td><td>Dota 2</td><td>https://static-cdn.jtvnw.net/ttv-boxart/29595-{width}x{height}.jpg</td><td></td><td>2025-06-13T19:14:12.130911</td></tr><tr><td>602694215</td><td>Five Nights at Freddy's: Secret of the Mimic</td><td>https://static-cdn.jtvnw.net/ttv-boxart/602694215_IGDB-{width}x{height}.jpg</td><td>312859</td><td>2025-06-13T19:14:12.130911</td></tr><tr><td>2011938005</td><td>EA Sports FC 25</td><td>https://static-cdn.jtvnw.net/ttv-boxart/2011938005_IGDB-{width}x{height}.jpg</td><td>308698</td><td>2025-06-13T19:14:12.130911</td></tr><tr><td>1987896617</td><td>Dune: Awakening</td><td>https://static-cdn.jtvnw.net/ttv-boxart/1987896617_IGDB-{width}x{height}.jpg</td><td>214394</td><td>2025-06-13T19:14:12.130911</td></tr><tr><td>460630</td><td>Tom Clancy's Rainbow Six Siege X</td><td>https://static-cdn.jtvnw.net/ttv-boxart/460630-{width}x{height}.jpg</td><td>7360</td><td>2025-06-13T19:14:12.130911</td></tr><tr><td>30921</td><td>Rocket League</td><td>https://static-cdn.jtvnw.net/ttv-boxart/30921-{width}x{height}.jpg</td><td>11198</td><td>2025-06-13T19:14:12.130911</td></tr><tr><td>512710</td><td>Call of Duty: Warzone</td><td>https://static-cdn.jtvnw.net/ttv-boxart/512710-{width}x{height}.jpg</td><td>131800</td><td>2025-06-13T19:14:12.130911</td></tr><tr><td>55453844</td><td>Street Fighter 6</td><td>https://static-cdn.jtvnw.net/ttv-boxart/55453844_IGDB-{width}x{height}.jpg</td><td>191692</td><td>2025-06-13T19:14:12.130911</td></tr><tr><td>32399</td><td>Counter-Strike</td><td>https://static-cdn.jtvnw.net/ttv-boxart/32399-{width}x{height}.jpg</td><td></td><td>2025-06-13T19:22:37.822933</td></tr><tr><td>516575</td><td>VALORANT</td><td>https://static-cdn.jtvnw.net/ttv-boxart/516575-{width}x{height}.jpg</td><td>126459</td><td>2025-06-13T19:22:37.822933</td></tr><tr><td>32982</td><td>Grand Theft Auto V</td><td>https://static-cdn.jtvnw.net/ttv-boxart/32982_IGDB-{width}x{height}.jpg</td><td>1020</td><td>2025-06-13T19:22:37.822933</td></tr><tr><td>29307</td><td>Path of Exile</td><td>https://static-cdn.jtvnw.net/ttv-boxart/29307_IGDB-{width}x{height}.jpg</td><td>1911</td><td>2025-06-13T19:22:37.822933</td></tr><tr><td>21779</td><td>League of Legends</td><td>https://static-cdn.jtvnw.net/ttv-boxart/21779-{width}x{height}.jpg</td><td>115</td><td>2025-06-13T19:22:37.822933</td></tr><tr><td>27471</td><td>Minecraft</td><td>https://static-cdn.jtvnw.net/ttv-boxart/27471_IGDB-{width}x{height}.jpg</td><td>135400</td><td>2025-06-13T19:22:37.822933</td></tr><tr><td>481086259</td><td>The Alters</td><td>https://static-cdn.jtvnw.net/ttv-boxart/481086259_IGDB-{width}x{height}.jpg</td><td>204634</td><td>2025-06-13T19:22:37.822933</td></tr><tr><td>33214</td><td>Fortnite</td><td>https://static-cdn.jtvnw.net/ttv-boxart/33214-{width}x{height}.jpg</td><td>1905</td><td>2025-06-13T19:22:37.822933</td></tr><tr><td>602694215</td><td>Five Nights at Freddy's: Secret of the Mimic</td><td>https://static-cdn.jtvnw.net/ttv-boxart/602694215_IGDB-{width}x{height}.jpg</td><td>312859</td><td>2025-06-13T19:22:37.822933</td></tr><tr><td>29595</td><td>Dota 2</td><td>https://static-cdn.jtvnw.net/ttv-boxart/29595-{width}x{height}.jpg</td><td></td><td>2025-06-13T19:22:37.822933</td></tr><tr><td>2011938005</td><td>EA Sports FC 25</td><td>https://static-cdn.jtvnw.net/ttv-boxart/2011938005_IGDB-{width}x{height}.jpg</td><td>308698</td><td>2025-06-13T19:22:37.822933</td></tr><tr><td>460630</td><td>Tom Clancy's Rainbow Six Siege X</td><td>https://static-cdn.jtvnw.net/ttv-boxart/460630-{width}x{height}.jpg</td><td>7360</td><td>2025-06-13T19:22:37.822933</td></tr><tr><td>30921</td><td>Rocket League</td><td>https://static-cdn.jtvnw.net/ttv-boxart/30921-{width}x{height}.jpg</td><td>11198</td><td>2025-06-13T19:22:37.822933</td></tr><tr><td>1987896617</td><td>Dune: Awakening</td><td>https://static-cdn.jtvnw.net/ttv-boxart/1987896617_IGDB-{width}x{height}.jpg</td><td>214394</td><td>2025-06-13T19:22:37.822933</td></tr><tr><td>512710</td><td>Call of Duty: Warzone</td><td>https://static-cdn.jtvnw.net/ttv-boxart/512710-{width}x{height}.jpg</td><td>131800</td><td>2025-06-13T19:22:37.822933</td></tr><tr><td>55453844</td><td>Street Fighter 6</td><td>https://static-cdn.jtvnw.net/ttv-boxart/55453844_IGDB-{width}x{height}.jpg</td><td>191692</td><td>2025-06-13T19:22:37.822933</td></tr><tr><td>32399</td><td>Counter-Strike</td><td>https://static-cdn.jtvnw.net/ttv-boxart/32399-{width}x{height}.jpg</td><td></td><td>2025-06-13T19:25:44.623088</td></tr><tr><td>516575</td><td>VALORANT</td><td>https://static-cdn.jtvnw.net/ttv-boxart/516575-{width}x{height}.jpg</td><td>126459</td><td>2025-06-13T19:25:44.623088</td></tr><tr><td>32982</td><td>Grand Theft Auto V</td><td>https://static-cdn.jtvnw.net/ttv-boxart/32982_IGDB-{width}x{height}.jpg</td><td>1020</td><td>2025-06-13T19:25:44.623088</td></tr><tr><td>29307</td><td>Path of Exile</td><td>https://static-cdn.jtvnw.net/ttv-boxart/29307_IGDB-{width}x{height}.jpg</td><td>1911</td><td>2025-06-13T19:25:44.623088</td></tr><tr><td>27471</td><td>Minecraft</td><td>https://static-cdn.jtvnw.net/ttv-boxart/27471_IGDB-{width}x{height}.jpg</td><td>135400</td><td>2025-06-13T19:25:44.623088</td></tr><tr><td>21779</td><td>League of Legends</td><td>https://static-cdn.jtvnw.net/ttv-boxart/21779-{width}x{height}.jpg</td><td>115</td><td>2025-06-13T19:25:44.623088</td></tr><tr><td>481086259</td><td>The Alters</td><td>https://static-cdn.jtvnw.net/ttv-boxart/481086259_IGDB-{width}x{height}.jpg</td><td>204634</td><td>2025-06-13T19:25:44.623088</td></tr><tr><td>33214</td><td>Fortnite</td><td>https://static-cdn.jtvnw.net/ttv-boxart/33214-{width}x{height}.jpg</td><td>1905</td><td>2025-06-13T19:25:44.623088</td></tr><tr><td>602694215</td><td>Five Nights at Freddy's: Secret of the Mimic</td><td>https://static-cdn.jtvnw.net/ttv-boxart/602694215_IGDB-{width}x{height}.jpg</td><td>312859</td><td>2025-06-13T19:25:44.623088</td></tr><tr><td>29595</td><td>Dota 2</td><td>https://static-cdn.jtvnw.net/ttv-boxart/29595-{width}x{height}.jpg</td><td></td><td>2025-06-13T19:25:44.623088</td></tr><tr><td>2011938005</td><td>EA Sports FC 25</td><td>https://static-cdn.jtvnw.net/ttv-boxart/2011938005_IGDB-{width}x{height}.jpg</td><td>308698</td><td>2025-06-13T19:25:44.623088</td></tr><tr><td>460630</td><td>Tom Clancy's Rainbow Six Siege X</td><td>https://static-cdn.jtvnw.net/ttv-boxart/460630-{width}x{height}.jpg</td><td>7360</td><td>2025-06-13T19:25:44.623088</td></tr><tr><td>30921</td><td>Rocket League</td><td>https://static-cdn.jtvnw.net/ttv-boxart/30921-{width}x{height}.jpg</td><td>11198</td><td>2025-06-13T19:25:44.623088</td></tr><tr><td>1987896617</td><td>Dune: Awakening</td><td>https://static-cdn.jtvnw.net/ttv-boxart/1987896617_IGDB-{width}x{height}.jpg</td><td>214394</td><td>2025-06-13T19:25:44.623088</td></tr><tr><td>512710</td><td>Call of Duty: Warzone</td><td>https://static-cdn.jtvnw.net/ttv-boxart/512710-{width}x{height}.jpg</td><td>131800</td><td>2025-06-13T19:25:44.623088</td></tr><tr><td>55453844</td><td>Street Fighter 6</td><td>https://static-cdn.jtvnw.net/ttv-boxart/55453844_IGDB-{width}x{height}.jpg</td><td>191692</td><td>2025-06-13T19:25:44.623088</td></tr><tr><td>32399</td><td>Counter-Strike</td><td>https://static-cdn.jtvnw.net/ttv-boxart/32399-{width}x{height}.jpg</td><td></td><td>2025-06-13T19:24:42.178173</td></tr><tr><td>516575</td><td>VALORANT</td><td>https://static-cdn.jtvnw.net/ttv-boxart/516575-{width}x{height}.jpg</td><td>126459</td><td>2025-06-13T19:24:42.178173</td></tr><tr><td>32982</td><td>Grand Theft Auto V</td><td>https://static-cdn.jtvnw.net/ttv-boxart/32982_IGDB-{width}x{height}.jpg</td><td>1020</td><td>2025-06-13T19:24:42.178173</td></tr><tr><td>29307</td><td>Path of Exile</td><td>https://static-cdn.jtvnw.net/ttv-boxart/29307_IGDB-{width}x{height}.jpg</td><td>1911</td><td>2025-06-13T19:24:42.178173</td></tr><tr><td>27471</td><td>Minecraft</td><td>https://static-cdn.jtvnw.net/ttv-boxart/27471_IGDB-{width}x{height}.jpg</td><td>135400</td><td>2025-06-13T19:24:42.178173</td></tr><tr><td>21779</td><td>League of Legends</td><td>https://static-cdn.jtvnw.net/ttv-boxart/21779-{width}x{height}.jpg</td><td>115</td><td>2025-06-13T19:24:42.178173</td></tr><tr><td>481086259</td><td>The Alters</td><td>https://static-cdn.jtvnw.net/ttv-boxart/481086259_IGDB-{width}x{height}.jpg</td><td>204634</td><td>2025-06-13T19:24:42.178173</td></tr><tr><td>33214</td><td>Fortnite</td><td>https://static-cdn.jtvnw.net/ttv-boxart/33214-{width}x{height}.jpg</td><td>1905</td><td>2025-06-13T19:24:42.178173</td></tr><tr><td>602694215</td><td>Five Nights at Freddy's: Secret of the Mimic</td><td>https://static-cdn.jtvnw.net/ttv-boxart/602694215_IGDB-{width}x{height}.jpg</td><td>312859</td><td>2025-06-13T19:24:42.178173</td></tr><tr><td>29595</td><td>Dota 2</td><td>https://static-cdn.jtvnw.net/ttv-boxart/29595-{width}x{height}.jpg</td><td></td><td>2025-06-13T19:24:42.178173</td></tr><tr><td>2011938005</td><td>EA Sports FC 25</td><td>https://static-cdn.jtvnw.net/ttv-boxart/2011938005_IGDB-{width}x{height}.jpg</td><td>308698</td><td>2025-06-13T19:24:42.178173</td></tr><tr><td>460630</td><td>Tom Clancy's Rainbow Six Siege X</td><td>https://static-cdn.jtvnw.net/ttv-boxart/460630-{width}x{height}.jpg</td><td>7360</td><td>2025-06-13T19:24:42.178173</td></tr><tr><td>30921</td><td>Rocket League</td><td>https://static-cdn.jtvnw.net/ttv-boxart/30921-{width}x{height}.jpg</td><td>11198</td><td>2025-06-13T19:24:42.178173</td></tr><tr><td>1987896617</td><td>Dune: Awakening</td><td>https://static-cdn.jtvnw.net/ttv-boxart/1987896617_IGDB-{width}x{height}.jpg</td><td>214394</td><td>2025-06-13T19:24:42.178173</td></tr><tr><td>512710</td><td>Call of Duty: Warzone</td><td>https://static-cdn.jtvnw.net/ttv-boxart/512710-{width}x{height}.jpg</td><td>131800</td><td>2025-06-13T19:24:42.178173</td></tr><tr><td>55453844</td><td>Street Fighter 6</td><td>https://static-cdn.jtvnw.net/ttv-boxart/55453844_IGDB-{width}x{height}.jpg</td><td>191692</td><td>2025-06-13T19:24:42.178173</td></tr><tr><td>32399</td><td>Counter-Strike</td><td>https://static-cdn.jtvnw.net/ttv-boxart/32399-{width}x{height}.jpg</td><td></td><td>2025-06-13T19:20:33.820557</td></tr><tr><td>516575</td><td>VALORANT</td><td>https://static-cdn.jtvnw.net/ttv-boxart/516575-{width}x{height}.jpg</td><td>126459</td><td>2025-06-13T19:20:33.820557</td></tr><tr><td>32982</td><td>Grand Theft Auto V</td><td>https://static-cdn.jtvnw.net/ttv-boxart/32982_IGDB-{width}x{height}.jpg</td><td>1020</td><td>2025-06-13T19:20:33.820557</td></tr><tr><td>29307</td><td>Path of Exile</td><td>https://static-cdn.jtvnw.net/ttv-boxart/29307_IGDB-{width}x{height}.jpg</td><td>1911</td><td>2025-06-13T19:20:33.820557</td></tr><tr><td>21779</td><td>League of Legends</td><td>https://static-cdn.jtvnw.net/ttv-boxart/21779-{width}x{height}.jpg</td><td>115</td><td>2025-06-13T19:20:33.820557</td></tr><tr><td>27471</td><td>Minecraft</td><td>https://static-cdn.jtvnw.net/ttv-boxart/27471_IGDB-{width}x{height}.jpg</td><td>135400</td><td>2025-06-13T19:20:33.820557</td></tr><tr><td>481086259</td><td>The Alters</td><td>https://static-cdn.jtvnw.net/ttv-boxart/481086259_IGDB-{width}x{height}.jpg</td><td>204634</td><td>2025-06-13T19:20:33.820557</td></tr><tr><td>33214</td><td>Fortnite</td><td>https://static-cdn.jtvnw.net/ttv-boxart/33214-{width}x{height}.jpg</td><td>1905</td><td>2025-06-13T19:20:33.820557</td></tr><tr><td>29595</td><td>Dota 2</td><td>https://static-cdn.jtvnw.net/ttv-boxart/29595-{width}x{height}.jpg</td><td></td><td>2025-06-13T19:20:33.820557</td></tr><tr><td>602694215</td><td>Five Nights at Freddy's: Secret of the Mimic</td><td>https://static-cdn.jtvnw.net/ttv-boxart/602694215_IGDB-{width}x{height}.jpg</td><td>312859</td><td>2025-06-13T19:20:33.820557</td></tr><tr><td>2011938005</td><td>EA Sports FC 25</td><td>https://static-cdn.jtvnw.net/ttv-boxart/2011938005_IGDB-{width}x{height}.jpg</td><td>308698</td><td>2025-06-13T19:20:33.820557</td></tr><tr><td>30921</td><td>Rocket League</td><td>https://static-cdn.jtvnw.net/ttv-boxart/30921-{width}x{height}.jpg</td><td>11198</td><td>2025-06-13T19:20:33.820557</td></tr><tr><td>460630</td><td>Tom Clancy's Rainbow Six Siege X</td><td>https://static-cdn.jtvnw.net/ttv-boxart/460630-{width}x{height}.jpg</td><td>7360</td><td>2025-06-13T19:20:33.820557</td></tr><tr><td>1987896617</td><td>Dune: Awakening</td><td>https://static-cdn.jtvnw.net/ttv-boxart/1987896617_IGDB-{width}x{height}.jpg</td><td>214394</td><td>2025-06-13T19:20:33.820557</td></tr><tr><td>512710</td><td>Call of Duty: Warzone</td><td>https://static-cdn.jtvnw.net/ttv-boxart/512710-{width}x{height}.jpg</td><td>131800</td><td>2025-06-13T19:20:33.820557</td></tr><tr><td>55453844</td><td>Street Fighter 6</td><td>https://static-cdn.jtvnw.net/ttv-boxart/55453844_IGDB-{width}x{height}.jpg</td><td>191692</td><td>2025-06-13T19:20:33.820557</td></tr><tr><td>32399</td><td>Counter-Strike</td><td>https://static-cdn.jtvnw.net/ttv-boxart/32399-{width}x{height}.jpg</td><td></td><td>2025-06-13T19:23:40.087938</td></tr><tr><td>516575</td><td>VALORANT</td><td>https://static-cdn.jtvnw.net/ttv-boxart/516575-{width}x{height}.jpg</td><td>126459</td><td>2025-06-13T19:23:40.087938</td></tr><tr><td>32982</td><td>Grand Theft Auto V</td><td>https://static-cdn.jtvnw.net/ttv-boxart/32982_IGDB-{width}x{height}.jpg</td><td>1020</td><td>2025-06-13T19:23:40.087938</td></tr><tr><td>29307</td><td>Path of Exile</td><td>https://static-cdn.jtvnw.net/ttv-boxart/29307_IGDB-{width}x{height}.jpg</td><td>1911</td><td>2025-06-13T19:23:40.087938</td></tr><tr><td>27471</td><td>Minecraft</td><td>https://static-cdn.jtvnw.net/ttv-boxart/27471_IGDB-{width}x{height}.jpg</td><td>135400</td><td>2025-06-13T19:23:40.087938</td></tr><tr><td>21779</td><td>League of Legends</td><td>https://static-cdn.jtvnw.net/ttv-boxart/21779-{width}x{height}.jpg</td><td>115</td><td>2025-06-13T19:23:40.087938</td></tr><tr><td>481086259</td><td>The Alters</td><td>https://static-cdn.jtvnw.net/ttv-boxart/481086259_IGDB-{width}x{height}.jpg</td><td>204634</td><td>2025-06-13T19:23:40.087938</td></tr><tr><td>33214</td><td>Fortnite</td><td>https://static-cdn.jtvnw.net/ttv-boxart/33214-{width}x{height}.jpg</td><td>1905</td><td>2025-06-13T19:23:40.087938</td></tr><tr><td>602694215</td><td>Five Nights at Freddy's: Secret of the Mimic</td><td>https://static-cdn.jtvnw.net/ttv-boxart/602694215_IGDB-{width}x{height}.jpg</td><td>312859</td><td>2025-06-13T19:23:40.087938</td></tr><tr><td>29595</td><td>Dota 2</td><td>https://static-cdn.jtvnw.net/ttv-boxart/29595-{width}x{height}.jpg</td><td></td><td>2025-06-13T19:23:40.087938</td></tr><tr><td>2011938005</td><td>EA Sports FC 25</td><td>https://static-cdn.jtvnw.net/ttv-boxart/2011938005_IGDB-{width}x{height}.jpg</td><td>308698</td><td>2025-06-13T19:23:40.087938</td></tr><tr><td>460630</td><td>Tom Clancy's Rainbow Six Siege X</td><td>https://static-cdn.jtvnw.net/ttv-boxart/460630-{width}x{height}.jpg</td><td>7360</td><td>2025-06-13T19:23:40.087938</td></tr><tr><td>30921</td><td>Rocket League</td><td>https://static-cdn.jtvnw.net/ttv-boxart/30921-{width}x{height}.jpg</td><td>11198</td><td>2025-06-13T19:23:40.087938</td></tr><tr><td>1987896617</td><td>Dune: Awakening</td><td>https://static-cdn.jtvnw.net/ttv-boxart/1987896617_IGDB-{width}x{height}.jpg</td><td>214394</td><td>2025-06-13T19:23:40.087938</td></tr><tr><td>512710</td><td>Call of Duty: Warzone</td><td>https://static-cdn.jtvnw.net/ttv-boxart/512710-{width}x{height}.jpg</td><td>131800</td><td>2025-06-13T19:23:40.087938</td></tr><tr><td>1826300051</td><td>Mario Kart World</td><td>https://static-cdn.jtvnw.net/ttv-boxart/1826300051_IGDB-{width}x{height}.jpg</td><td>338067</td><td>2025-06-13T19:23:40.087938</td></tr><tr><td>32399</td><td>Counter-Strike</td><td>https://static-cdn.jtvnw.net/ttv-boxart/32399-{width}x{height}.jpg</td><td></td><td>2025-06-13T19:17:18.143376</td></tr><tr><td>516575</td><td>VALORANT</td><td>https://static-cdn.jtvnw.net/ttv-boxart/516575-{width}x{height}.jpg</td><td>126459</td><td>2025-06-13T19:17:18.143376</td></tr><tr><td>32982</td><td>Grand Theft Auto V</td><td>https://static-cdn.jtvnw.net/ttv-boxart/32982_IGDB-{width}x{height}.jpg</td><td>1020</td><td>2025-06-13T19:17:18.143376</td></tr><tr><td>29307</td><td>Path of Exile</td><td>https://static-cdn.jtvnw.net/ttv-boxart/29307_IGDB-{width}x{height}.jpg</td><td>1911</td><td>2025-06-13T19:17:18.143376</td></tr><tr><td>21779</td><td>League of Legends</td><td>https://static-cdn.jtvnw.net/ttv-boxart/21779-{width}x{height}.jpg</td><td>115</td><td>2025-06-13T19:17:18.143376</td></tr><tr><td>27471</td><td>Minecraft</td><td>https://static-cdn.jtvnw.net/ttv-boxart/27471_IGDB-{width}x{height}.jpg</td><td>135400</td><td>2025-06-13T19:17:18.143376</td></tr><tr><td>481086259</td><td>The Alters</td><td>https://static-cdn.jtvnw.net/ttv-boxart/481086259_IGDB-{width}x{height}.jpg</td><td>204634</td><td>2025-06-13T19:17:18.143376</td></tr><tr><td>33214</td><td>Fortnite</td><td>https://static-cdn.jtvnw.net/ttv-boxart/33214-{width}x{height}.jpg</td><td>1905</td><td>2025-06-13T19:17:18.143376</td></tr><tr><td>29595</td><td>Dota 2</td><td>https://static-cdn.jtvnw.net/ttv-boxart/29595-{width}x{height}.jpg</td><td></td><td>2025-06-13T19:17:18.143376</td></tr><tr><td>602694215</td><td>Five Nights at Freddy's: Secret of the Mimic</td><td>https://static-cdn.jtvnw.net/ttv-boxart/602694215_IGDB-{width}x{height}.jpg</td><td>312859</td><td>2025-06-13T19:17:18.143376</td></tr><tr><td>460630</td><td>Tom Clancy's Rainbow Six Siege X</td><td>https://static-cdn.jtvnw.net/ttv-boxart/460630-{width}x{height}.jpg</td><td>7360</td><td>2025-06-13T19:17:18.143376</td></tr><tr><td>2011938005</td><td>EA Sports FC 25</td><td>https://static-cdn.jtvnw.net/ttv-boxart/2011938005_IGDB-{width}x{height}.jpg</td><td>308698</td><td>2025-06-13T19:17:18.143376</td></tr><tr><td>1987896617</td><td>Dune: Awakening</td><td>https://static-cdn.jtvnw.net/ttv-boxart/1987896617_IGDB-{width}x{height}.jpg</td><td>214394</td><td>2025-06-13T19:17:18.143376</td></tr><tr><td>30921</td><td>Rocket League</td><td>https://static-cdn.jtvnw.net/ttv-boxart/30921-{width}x{height}.jpg</td><td>11198</td><td>2025-06-13T19:17:18.143376</td></tr><tr><td>512710</td><td>Call of Duty: Warzone</td><td>https://static-cdn.jtvnw.net/ttv-boxart/512710-{width}x{height}.jpg</td><td>131800</td><td>2025-06-13T19:17:18.143376</td></tr><tr><td>55453844</td><td>Street Fighter 6</td><td>https://static-cdn.jtvnw.net/ttv-boxart/55453844_IGDB-{width}x{height}.jpg</td><td>191692</td><td>2025-06-13T19:17:18.143376</td></tr><tr><td>32399</td><td>Counter-Strike</td><td>https://static-cdn.jtvnw.net/ttv-boxart/32399-{width}x{height}.jpg</td><td></td><td>2025-06-13T19:58:56.682720</td></tr><tr><td>516575</td><td>VALORANT</td><td>https://static-cdn.jtvnw.net/ttv-boxart/516575-{width}x{height}.jpg</td><td>126459</td><td>2025-06-13T19:58:56.682720</td></tr><tr><td>29307</td><td>Path of Exile</td><td>https://static-cdn.jtvnw.net/ttv-boxart/29307_IGDB-{width}x{height}.jpg</td><td>1911</td><td>2025-06-13T19:58:56.682720</td></tr><tr><td>32982</td><td>Grand Theft Auto V</td><td>https://static-cdn.jtvnw.net/ttv-boxart/32982_IGDB-{width}x{height}.jpg</td><td>1020</td><td>2025-06-13T19:58:56.682720</td></tr><tr><td>27471</td><td>Minecraft</td><td>https://static-cdn.jtvnw.net/ttv-boxart/27471_IGDB-{width}x{height}.jpg</td><td>135400</td><td>2025-06-13T19:58:56.682720</td></tr><tr><td>21779</td><td>League of Legends</td><td>https://static-cdn.jtvnw.net/ttv-boxart/21779-{width}x{height}.jpg</td><td>115</td><td>2025-06-13T19:58:56.682720</td></tr><tr><td>481086259</td><td>The Alters</td><td>https://static-cdn.jtvnw.net/ttv-boxart/481086259_IGDB-{width}x{height}.jpg</td><td>204634</td><td>2025-06-13T19:58:56.682720</td></tr><tr><td>602694215</td><td>Five Nights at Freddy's: Secret of the Mimic</td><td>https://static-cdn.jtvnw.net/ttv-boxart/602694215_IGDB-{width}x{height}.jpg</td><td>312859</td><td>2025-06-13T19:58:56.682720</td></tr><tr><td>33214</td><td>Fortnite</td><td>https://static-cdn.jtvnw.net/ttv-boxart/33214-{width}x{height}.jpg</td><td>1905</td><td>2025-06-13T19:58:56.682720</td></tr><tr><td>460630</td><td>Tom Clancy's Rainbow Six Siege X</td><td>https://static-cdn.jtvnw.net/ttv-boxart/460630-{width}x{height}.jpg</td><td>7360</td><td>2025-06-13T19:58:56.682720</td></tr><tr><td>512710</td><td>Call of Duty: Warzone</td><td>https://static-cdn.jtvnw.net/ttv-boxart/512710-{width}x{height}.jpg</td><td>131800</td><td>2025-06-13T19:58:56.682720</td></tr><tr><td>2011938005</td><td>EA Sports FC 25</td><td>https://static-cdn.jtvnw.net/ttv-boxart/2011938005_IGDB-{width}x{height}.jpg</td><td>308698</td><td>2025-06-13T19:58:56.682720</td></tr><tr><td>29595</td><td>Dota 2</td><td>https://static-cdn.jtvnw.net/ttv-boxart/29595-{width}x{height}.jpg</td><td></td><td>2025-06-13T19:58:56.682720</td></tr><tr><td>1987896617</td><td>Dune: Awakening</td><td>https://static-cdn.jtvnw.net/ttv-boxart/1987896617_IGDB-{width}x{height}.jpg</td><td>214394</td><td>2025-06-13T19:58:56.682720</td></tr><tr><td>1826300051</td><td>Mario Kart World</td><td>https://static-cdn.jtvnw.net/ttv-boxart/1826300051_IGDB-{width}x{height}.jpg</td><td>338067</td><td>2025-06-13T19:58:56.682720</td></tr><tr><td>18122</td><td>World of Warcraft</td><td>https://static-cdn.jtvnw.net/ttv-boxart/18122-{width}x{height}.jpg</td><td>123</td><td>2025-06-13T19:58:56.682720</td></tr></tbody></table></div>"
      ]
     },
     "metadata": {
      "application/vnd.databricks.v1+output": {
       "addedWidgets": {},
       "aggData": [],
       "aggError": "",
       "aggOverflow": false,
       "aggSchema": [],
       "aggSeriesLimitReached": false,
       "aggType": "",
       "arguments": {},
       "columnCustomDisplayInfos": {},
       "data": [
        [
         "32982",
         "Grand Theft Auto V",
         "https://static-cdn.jtvnw.net/ttv-boxart/32982_IGDB-{width}x{height}.jpg",
         "1020",
         "2025-06-13T02:02:13.935930"
        ],
        [
         "460630",
         "Tom Clancy's Rainbow Six Siege X",
         "https://static-cdn.jtvnw.net/ttv-boxart/460630-{width}x{height}.jpg",
         "7360",
         "2025-06-13T02:02:13.935930"
        ],
        [
         "1826300051",
         "Mario Kart World",
         "https://static-cdn.jtvnw.net/ttv-boxart/1826300051_IGDB-{width}x{height}.jpg",
         "338067",
         "2025-06-13T02:02:13.935930"
        ],
        [
         "33214",
         "Fortnite",
         "https://static-cdn.jtvnw.net/ttv-boxart/33214-{width}x{height}.jpg",
         "1905",
         "2025-06-13T02:02:13.935930"
        ],
        [
         "21779",
         "League of Legends",
         "https://static-cdn.jtvnw.net/ttv-boxart/21779-{width}x{height}.jpg",
         "115",
         "2025-06-13T02:02:13.935930"
        ],
        [
         "32399",
         "Counter-Strike",
         "https://static-cdn.jtvnw.net/ttv-boxart/32399-{width}x{height}.jpg",
         "",
         "2025-06-13T02:02:13.935930"
        ],
        [
         "1264310518",
         "Marvel Rivals",
         "https://static-cdn.jtvnw.net/ttv-boxart/1264310518_IGDB-{width}x{height}.jpg",
         "294041",
         "2025-06-13T02:02:13.935930"
        ],
        [
         "1987896617",
         "Dune: Awakening",
         "https://static-cdn.jtvnw.net/ttv-boxart/1987896617_IGDB-{width}x{height}.jpg",
         "214394",
         "2025-06-13T02:02:13.935930"
        ],
        [
         "512710",
         "Call of Duty: Warzone",
         "https://static-cdn.jtvnw.net/ttv-boxart/512710-{width}x{height}.jpg",
         "131800",
         "2025-06-13T02:02:13.935930"
        ],
        [
         "516575",
         "VALORANT",
         "https://static-cdn.jtvnw.net/ttv-boxart/516575-{width}x{height}.jpg",
         "126459",
         "2025-06-13T02:02:13.935930"
        ],
        [
         "29595",
         "Dota 2",
         "https://static-cdn.jtvnw.net/ttv-boxart/29595-{width}x{height}.jpg",
         "",
         "2025-06-13T02:02:13.935930"
        ],
        [
         "27471",
         "Minecraft",
         "https://static-cdn.jtvnw.net/ttv-boxart/27471_IGDB-{width}x{height}.jpg",
         "135400",
         "2025-06-13T02:02:13.935930"
        ],
        [
         "491487",
         "Dead by Daylight",
         "https://static-cdn.jtvnw.net/ttv-boxart/491487-{width}x{height}.jpg",
         "18866",
         "2025-06-13T02:02:13.935930"
        ],
        [
         "982348888",
         "Elden Ring: Nightreign",
         "https://static-cdn.jtvnw.net/ttv-boxart/982348888_IGDB-{width}x{height}.jpg",
         "325591",
         "2025-06-13T02:02:13.935930"
        ],
        [
         "29452",
         "Virtual Casino",
         "https://static-cdn.jtvnw.net/ttv-boxart/29452_IGDB-{width}x{height}.jpg",
         "45517",
         "2025-06-13T02:02:13.935930"
        ],
        [
         "511224",
         "Apex Legends",
         "https://static-cdn.jtvnw.net/ttv-boxart/511224-{width}x{height}.jpg",
         "114795",
         "2025-06-13T02:02:13.935930"
        ],
        [
         "515025",
         "Overwatch 2",
         "https://static-cdn.jtvnw.net/ttv-boxart/515025-{width}x{height}.jpg",
         "125174",
         "2025-06-13T02:02:13.935930"
        ],
        [
         "513143",
         "Teamfight Tactics",
         "https://static-cdn.jtvnw.net/ttv-boxart/513143-{width}x{height}.jpg",
         "120176",
         "2025-06-13T02:02:13.935930"
        ],
        [
         "32982",
         "Grand Theft Auto V",
         "https://static-cdn.jtvnw.net/ttv-boxart/32982_IGDB-{width}x{height}.jpg",
         "1020",
         "2025-06-13T02:02:00.975635"
        ],
        [
         "460630",
         "Tom Clancy's Rainbow Six Siege X",
         "https://static-cdn.jtvnw.net/ttv-boxart/460630-{width}x{height}.jpg",
         "7360",
         "2025-06-13T02:02:00.975635"
        ],
        [
         "1826300051",
         "Mario Kart World",
         "https://static-cdn.jtvnw.net/ttv-boxart/1826300051_IGDB-{width}x{height}.jpg",
         "338067",
         "2025-06-13T02:02:00.975635"
        ],
        [
         "33214",
         "Fortnite",
         "https://static-cdn.jtvnw.net/ttv-boxart/33214-{width}x{height}.jpg",
         "1905",
         "2025-06-13T02:02:00.975635"
        ],
        [
         "21779",
         "League of Legends",
         "https://static-cdn.jtvnw.net/ttv-boxart/21779-{width}x{height}.jpg",
         "115",
         "2025-06-13T02:02:00.975635"
        ],
        [
         "32399",
         "Counter-Strike",
         "https://static-cdn.jtvnw.net/ttv-boxart/32399-{width}x{height}.jpg",
         "",
         "2025-06-13T02:02:00.975635"
        ],
        [
         "1264310518",
         "Marvel Rivals",
         "https://static-cdn.jtvnw.net/ttv-boxart/1264310518_IGDB-{width}x{height}.jpg",
         "294041",
         "2025-06-13T02:02:00.975635"
        ],
        [
         "1987896617",
         "Dune: Awakening",
         "https://static-cdn.jtvnw.net/ttv-boxart/1987896617_IGDB-{width}x{height}.jpg",
         "214394",
         "2025-06-13T02:02:00.975635"
        ],
        [
         "512710",
         "Call of Duty: Warzone",
         "https://static-cdn.jtvnw.net/ttv-boxart/512710-{width}x{height}.jpg",
         "131800",
         "2025-06-13T02:02:00.975635"
        ],
        [
         "516575",
         "VALORANT",
         "https://static-cdn.jtvnw.net/ttv-boxart/516575-{width}x{height}.jpg",
         "126459",
         "2025-06-13T02:02:00.975635"
        ],
        [
         "29595",
         "Dota 2",
         "https://static-cdn.jtvnw.net/ttv-boxart/29595-{width}x{height}.jpg",
         "",
         "2025-06-13T02:02:00.975635"
        ],
        [
         "27471",
         "Minecraft",
         "https://static-cdn.jtvnw.net/ttv-boxart/27471_IGDB-{width}x{height}.jpg",
         "135400",
         "2025-06-13T02:02:00.975635"
        ],
        [
         "491487",
         "Dead by Daylight",
         "https://static-cdn.jtvnw.net/ttv-boxart/491487-{width}x{height}.jpg",
         "18866",
         "2025-06-13T02:02:00.975635"
        ],
        [
         "982348888",
         "Elden Ring: Nightreign",
         "https://static-cdn.jtvnw.net/ttv-boxart/982348888_IGDB-{width}x{height}.jpg",
         "325591",
         "2025-06-13T02:02:00.975635"
        ],
        [
         "29452",
         "Virtual Casino",
         "https://static-cdn.jtvnw.net/ttv-boxart/29452_IGDB-{width}x{height}.jpg",
         "45517",
         "2025-06-13T02:02:00.975635"
        ],
        [
         "511224",
         "Apex Legends",
         "https://static-cdn.jtvnw.net/ttv-boxart/511224-{width}x{height}.jpg",
         "114795",
         "2025-06-13T02:02:00.975635"
        ],
        [
         "515025",
         "Overwatch 2",
         "https://static-cdn.jtvnw.net/ttv-boxart/515025-{width}x{height}.jpg",
         "125174",
         "2025-06-13T02:02:00.975635"
        ],
        [
         "513143",
         "Teamfight Tactics",
         "https://static-cdn.jtvnw.net/ttv-boxart/513143-{width}x{height}.jpg",
         "120176",
         "2025-06-13T02:02:00.975635"
        ],
        [
         "32982",
         "Grand Theft Auto V",
         "https://static-cdn.jtvnw.net/ttv-boxart/32982_IGDB-{width}x{height}.jpg",
         "1020",
         "2025-06-13T03:49:49.715803"
        ],
        [
         "21779",
         "League of Legends",
         "https://static-cdn.jtvnw.net/ttv-boxart/21779-{width}x{height}.jpg",
         "115",
         "2025-06-13T03:49:49.715803"
        ],
        [
         "460630",
         "Tom Clancy's Rainbow Six Siege X",
         "https://static-cdn.jtvnw.net/ttv-boxart/460630-{width}x{height}.jpg",
         "7360",
         "2025-06-13T03:49:49.715803"
        ],
        [
         "33214",
         "Fortnite",
         "https://static-cdn.jtvnw.net/ttv-boxart/33214-{width}x{height}.jpg",
         "1905",
         "2025-06-13T03:49:49.715803"
        ],
        [
         "488820",
         "Stranded Deep",
         "https://static-cdn.jtvnw.net/ttv-boxart/488820_IGDB-{width}x{height}.jpg",
         "8751",
         "2025-06-13T03:49:49.715803"
        ],
        [
         "516575",
         "VALORANT",
         "https://static-cdn.jtvnw.net/ttv-boxart/516575-{width}x{height}.jpg",
         "126459",
         "2025-06-13T03:49:49.715803"
        ],
        [
         "32399",
         "Counter-Strike",
         "https://static-cdn.jtvnw.net/ttv-boxart/32399-{width}x{height}.jpg",
         "",
         "2025-06-13T03:49:49.715803"
        ],
        [
         "1826300051",
         "Mario Kart World",
         "https://static-cdn.jtvnw.net/ttv-boxart/1826300051_IGDB-{width}x{height}.jpg",
         "338067",
         "2025-06-13T03:49:49.715803"
        ],
        [
         "1987896617",
         "Dune: Awakening",
         "https://static-cdn.jtvnw.net/ttv-boxart/1987896617_IGDB-{width}x{height}.jpg",
         "214394",
         "2025-06-13T03:49:49.715803"
        ],
        [
         "491487",
         "Dead by Daylight",
         "https://static-cdn.jtvnw.net/ttv-boxart/491487-{width}x{height}.jpg",
         "18866",
         "2025-06-13T03:49:49.715803"
        ],
        [
         "982348888",
         "Elden Ring: Nightreign",
         "https://static-cdn.jtvnw.net/ttv-boxart/982348888_IGDB-{width}x{height}.jpg",
         "325591",
         "2025-06-13T03:49:49.715803"
        ],
        [
         "512710",
         "Call of Duty: Warzone",
         "https://static-cdn.jtvnw.net/ttv-boxart/512710-{width}x{height}.jpg",
         "131800",
         "2025-06-13T03:49:49.715803"
        ],
        [
         "36799602",
         "Clair Obscur: Expedition 33",
         "https://static-cdn.jtvnw.net/ttv-boxart/36799602_IGDB-{width}x{height}.jpg",
         "305152",
         "2025-06-13T03:49:49.715803"
        ],
        [
         "1264310518",
         "Marvel Rivals",
         "https://static-cdn.jtvnw.net/ttv-boxart/1264310518_IGDB-{width}x{height}.jpg",
         "294041",
         "2025-06-13T03:49:49.715803"
        ],
        [
         "29595",
         "Dota 2",
         "https://static-cdn.jtvnw.net/ttv-boxart/29595-{width}x{height}.jpg",
         "",
         "2025-06-13T03:49:49.715803"
        ],
        [
         "27471",
         "Minecraft",
         "https://static-cdn.jtvnw.net/ttv-boxart/27471_IGDB-{width}x{height}.jpg",
         "135400",
         "2025-06-13T03:49:49.715803"
        ],
        [
         "511224",
         "Apex Legends",
         "https://static-cdn.jtvnw.net/ttv-boxart/511224-{width}x{height}.jpg",
         "114795",
         "2025-06-13T03:49:49.715803"
        ],
        [
         "509659",
         "ASMR",
         "https://static-cdn.jtvnw.net/ttv-boxart/509659-{width}x{height}.jpg",
         "",
         "2025-06-13T03:49:49.715803"
        ],
        [
         "32982",
         "Grand Theft Auto V",
         "https://static-cdn.jtvnw.net/ttv-boxart/32982_IGDB-{width}x{height}.jpg",
         "1020",
         "2025-06-13T03:50:53.299100"
        ],
        [
         "21779",
         "League of Legends",
         "https://static-cdn.jtvnw.net/ttv-boxart/21779-{width}x{height}.jpg",
         "115",
         "2025-06-13T03:50:53.299100"
        ],
        [
         "460630",
         "Tom Clancy's Rainbow Six Siege X",
         "https://static-cdn.jtvnw.net/ttv-boxart/460630-{width}x{height}.jpg",
         "7360",
         "2025-06-13T03:50:53.299100"
        ],
        [
         "33214",
         "Fortnite",
         "https://static-cdn.jtvnw.net/ttv-boxart/33214-{width}x{height}.jpg",
         "1905",
         "2025-06-13T03:50:53.299100"
        ],
        [
         "488820",
         "Stranded Deep",
         "https://static-cdn.jtvnw.net/ttv-boxart/488820_IGDB-{width}x{height}.jpg",
         "8751",
         "2025-06-13T03:50:53.299100"
        ],
        [
         "516575",
         "VALORANT",
         "https://static-cdn.jtvnw.net/ttv-boxart/516575-{width}x{height}.jpg",
         "126459",
         "2025-06-13T03:50:53.299100"
        ],
        [
         "32399",
         "Counter-Strike",
         "https://static-cdn.jtvnw.net/ttv-boxart/32399-{width}x{height}.jpg",
         "",
         "2025-06-13T03:50:53.299100"
        ],
        [
         "1826300051",
         "Mario Kart World",
         "https://static-cdn.jtvnw.net/ttv-boxart/1826300051_IGDB-{width}x{height}.jpg",
         "338067",
         "2025-06-13T03:50:53.299100"
        ],
        [
         "1987896617",
         "Dune: Awakening",
         "https://static-cdn.jtvnw.net/ttv-boxart/1987896617_IGDB-{width}x{height}.jpg",
         "214394",
         "2025-06-13T03:50:53.299100"
        ],
        [
         "491487",
         "Dead by Daylight",
         "https://static-cdn.jtvnw.net/ttv-boxart/491487-{width}x{height}.jpg",
         "18866",
         "2025-06-13T03:50:53.299100"
        ],
        [
         "982348888",
         "Elden Ring: Nightreign",
         "https://static-cdn.jtvnw.net/ttv-boxart/982348888_IGDB-{width}x{height}.jpg",
         "325591",
         "2025-06-13T03:50:53.299100"
        ],
        [
         "512710",
         "Call of Duty: Warzone",
         "https://static-cdn.jtvnw.net/ttv-boxart/512710-{width}x{height}.jpg",
         "131800",
         "2025-06-13T03:50:53.299100"
        ],
        [
         "36799602",
         "Clair Obscur: Expedition 33",
         "https://static-cdn.jtvnw.net/ttv-boxart/36799602_IGDB-{width}x{height}.jpg",
         "305152",
         "2025-06-13T03:50:53.299100"
        ],
        [
         "1264310518",
         "Marvel Rivals",
         "https://static-cdn.jtvnw.net/ttv-boxart/1264310518_IGDB-{width}x{height}.jpg",
         "294041",
         "2025-06-13T03:50:53.299100"
        ],
        [
         "29595",
         "Dota 2",
         "https://static-cdn.jtvnw.net/ttv-boxart/29595-{width}x{height}.jpg",
         "",
         "2025-06-13T03:50:53.299100"
        ],
        [
         "27471",
         "Minecraft",
         "https://static-cdn.jtvnw.net/ttv-boxart/27471_IGDB-{width}x{height}.jpg",
         "135400",
         "2025-06-13T03:50:53.299100"
        ],
        [
         "511224",
         "Apex Legends",
         "https://static-cdn.jtvnw.net/ttv-boxart/511224-{width}x{height}.jpg",
         "114795",
         "2025-06-13T03:50:53.299100"
        ],
        [
         "509659",
         "ASMR",
         "https://static-cdn.jtvnw.net/ttv-boxart/509659-{width}x{height}.jpg",
         "",
         "2025-06-13T03:50:53.299100"
        ],
        [
         "32982",
         "Grand Theft Auto V",
         "https://static-cdn.jtvnw.net/ttv-boxart/32982_IGDB-{width}x{height}.jpg",
         "1020",
         "2025-06-13T03:53:03.465360"
        ],
        [
         "21779",
         "League of Legends",
         "https://static-cdn.jtvnw.net/ttv-boxart/21779-{width}x{height}.jpg",
         "115",
         "2025-06-13T03:53:03.465360"
        ],
        [
         "460630",
         "Tom Clancy's Rainbow Six Siege X",
         "https://static-cdn.jtvnw.net/ttv-boxart/460630-{width}x{height}.jpg",
         "7360",
         "2025-06-13T03:53:03.465360"
        ],
        [
         "33214",
         "Fortnite",
         "https://static-cdn.jtvnw.net/ttv-boxart/33214-{width}x{height}.jpg",
         "1905",
         "2025-06-13T03:53:03.465360"
        ],
        [
         "488820",
         "Stranded Deep",
         "https://static-cdn.jtvnw.net/ttv-boxart/488820_IGDB-{width}x{height}.jpg",
         "8751",
         "2025-06-13T03:53:03.465360"
        ],
        [
         "516575",
         "VALORANT",
         "https://static-cdn.jtvnw.net/ttv-boxart/516575-{width}x{height}.jpg",
         "126459",
         "2025-06-13T03:53:03.465360"
        ],
        [
         "1826300051",
         "Mario Kart World",
         "https://static-cdn.jtvnw.net/ttv-boxart/1826300051_IGDB-{width}x{height}.jpg",
         "338067",
         "2025-06-13T03:53:03.465360"
        ],
        [
         "32399",
         "Counter-Strike",
         "https://static-cdn.jtvnw.net/ttv-boxart/32399-{width}x{height}.jpg",
         "",
         "2025-06-13T03:53:03.465360"
        ],
        [
         "982348888",
         "Elden Ring: Nightreign",
         "https://static-cdn.jtvnw.net/ttv-boxart/982348888_IGDB-{width}x{height}.jpg",
         "325591",
         "2025-06-13T03:53:03.465360"
        ],
        [
         "491487",
         "Dead by Daylight",
         "https://static-cdn.jtvnw.net/ttv-boxart/491487-{width}x{height}.jpg",
         "18866",
         "2025-06-13T03:53:03.465360"
        ],
        [
         "512710",
         "Call of Duty: Warzone",
         "https://static-cdn.jtvnw.net/ttv-boxart/512710-{width}x{height}.jpg",
         "131800",
         "2025-06-13T03:53:03.465360"
        ],
        [
         "1987896617",
         "Dune: Awakening",
         "https://static-cdn.jtvnw.net/ttv-boxart/1987896617_IGDB-{width}x{height}.jpg",
         "214394",
         "2025-06-13T03:53:03.465360"
        ],
        [
         "36799602",
         "Clair Obscur: Expedition 33",
         "https://static-cdn.jtvnw.net/ttv-boxart/36799602_IGDB-{width}x{height}.jpg",
         "305152",
         "2025-06-13T03:53:03.465360"
        ],
        [
         "1264310518",
         "Marvel Rivals",
         "https://static-cdn.jtvnw.net/ttv-boxart/1264310518_IGDB-{width}x{height}.jpg",
         "294041",
         "2025-06-13T03:53:03.465360"
        ],
        [
         "29595",
         "Dota 2",
         "https://static-cdn.jtvnw.net/ttv-boxart/29595-{width}x{height}.jpg",
         "",
         "2025-06-13T03:53:03.465360"
        ],
        [
         "27471",
         "Minecraft",
         "https://static-cdn.jtvnw.net/ttv-boxart/27471_IGDB-{width}x{height}.jpg",
         "135400",
         "2025-06-13T03:53:03.465360"
        ],
        [
         "511224",
         "Apex Legends",
         "https://static-cdn.jtvnw.net/ttv-boxart/511224-{width}x{height}.jpg",
         "114795",
         "2025-06-13T03:53:03.465360"
        ],
        [
         "509659",
         "ASMR",
         "https://static-cdn.jtvnw.net/ttv-boxart/509659-{width}x{height}.jpg",
         "",
         "2025-06-13T03:53:03.465360"
        ],
        [
         "32982",
         "Grand Theft Auto V",
         "https://static-cdn.jtvnw.net/ttv-boxart/32982_IGDB-{width}x{height}.jpg",
         "1020",
         "2025-06-13T03:51:59.710148"
        ],
        [
         "21779",
         "League of Legends",
         "https://static-cdn.jtvnw.net/ttv-boxart/21779-{width}x{height}.jpg",
         "115",
         "2025-06-13T03:51:59.710148"
        ],
        [
         "460630",
         "Tom Clancy's Rainbow Six Siege X",
         "https://static-cdn.jtvnw.net/ttv-boxart/460630-{width}x{height}.jpg",
         "7360",
         "2025-06-13T03:51:59.710148"
        ],
        [
         "33214",
         "Fortnite",
         "https://static-cdn.jtvnw.net/ttv-boxart/33214-{width}x{height}.jpg",
         "1905",
         "2025-06-13T03:51:59.710148"
        ],
        [
         "488820",
         "Stranded Deep",
         "https://static-cdn.jtvnw.net/ttv-boxart/488820_IGDB-{width}x{height}.jpg",
         "8751",
         "2025-06-13T03:51:59.710148"
        ],
        [
         "516575",
         "VALORANT",
         "https://static-cdn.jtvnw.net/ttv-boxart/516575-{width}x{height}.jpg",
         "126459",
         "2025-06-13T03:51:59.710148"
        ],
        [
         "1826300051",
         "Mario Kart World",
         "https://static-cdn.jtvnw.net/ttv-boxart/1826300051_IGDB-{width}x{height}.jpg",
         "338067",
         "2025-06-13T03:51:59.710148"
        ],
        [
         "32399",
         "Counter-Strike",
         "https://static-cdn.jtvnw.net/ttv-boxart/32399-{width}x{height}.jpg",
         "",
         "2025-06-13T03:51:59.710148"
        ],
        [
         "1987896617",
         "Dune: Awakening",
         "https://static-cdn.jtvnw.net/ttv-boxart/1987896617_IGDB-{width}x{height}.jpg",
         "214394",
         "2025-06-13T03:51:59.710148"
        ],
        [
         "491487",
         "Dead by Daylight",
         "https://static-cdn.jtvnw.net/ttv-boxart/491487-{width}x{height}.jpg",
         "18866",
         "2025-06-13T03:51:59.710148"
        ],
        [
         "512710",
         "Call of Duty: Warzone",
         "https://static-cdn.jtvnw.net/ttv-boxart/512710-{width}x{height}.jpg",
         "131800",
         "2025-06-13T03:51:59.710148"
        ],
        [
         "982348888",
         "Elden Ring: Nightreign",
         "https://static-cdn.jtvnw.net/ttv-boxart/982348888_IGDB-{width}x{height}.jpg",
         "325591",
         "2025-06-13T03:51:59.710148"
        ],
        [
         "36799602",
         "Clair Obscur: Expedition 33",
         "https://static-cdn.jtvnw.net/ttv-boxart/36799602_IGDB-{width}x{height}.jpg",
         "305152",
         "2025-06-13T03:51:59.710148"
        ],
        [
         "1264310518",
         "Marvel Rivals",
         "https://static-cdn.jtvnw.net/ttv-boxart/1264310518_IGDB-{width}x{height}.jpg",
         "294041",
         "2025-06-13T03:51:59.710148"
        ],
        [
         "29595",
         "Dota 2",
         "https://static-cdn.jtvnw.net/ttv-boxart/29595-{width}x{height}.jpg",
         "",
         "2025-06-13T03:51:59.710148"
        ],
        [
         "27471",
         "Minecraft",
         "https://static-cdn.jtvnw.net/ttv-boxart/27471_IGDB-{width}x{height}.jpg",
         "135400",
         "2025-06-13T03:51:59.710148"
        ],
        [
         "511224",
         "Apex Legends",
         "https://static-cdn.jtvnw.net/ttv-boxart/511224-{width}x{height}.jpg",
         "114795",
         "2025-06-13T03:51:59.710148"
        ],
        [
         "509659",
         "ASMR",
         "https://static-cdn.jtvnw.net/ttv-boxart/509659-{width}x{height}.jpg",
         "",
         "2025-06-13T03:51:59.710148"
        ],
        [
         "32982",
         "Grand Theft Auto V",
         "https://static-cdn.jtvnw.net/ttv-boxart/32982_IGDB-{width}x{height}.jpg",
         "1020",
         "2025-06-13T03:55:10.148154"
        ],
        [
         "21779",
         "League of Legends",
         "https://static-cdn.jtvnw.net/ttv-boxart/21779-{width}x{height}.jpg",
         "115",
         "2025-06-13T03:55:10.148154"
        ],
        [
         "460630",
         "Tom Clancy's Rainbow Six Siege X",
         "https://static-cdn.jtvnw.net/ttv-boxart/460630-{width}x{height}.jpg",
         "7360",
         "2025-06-13T03:55:10.148154"
        ],
        [
         "33214",
         "Fortnite",
         "https://static-cdn.jtvnw.net/ttv-boxart/33214-{width}x{height}.jpg",
         "1905",
         "2025-06-13T03:55:10.148154"
        ],
        [
         "488820",
         "Stranded Deep",
         "https://static-cdn.jtvnw.net/ttv-boxart/488820_IGDB-{width}x{height}.jpg",
         "8751",
         "2025-06-13T03:55:10.148154"
        ],
        [
         "516575",
         "VALORANT",
         "https://static-cdn.jtvnw.net/ttv-boxart/516575-{width}x{height}.jpg",
         "126459",
         "2025-06-13T03:55:10.148154"
        ],
        [
         "32399",
         "Counter-Strike",
         "https://static-cdn.jtvnw.net/ttv-boxart/32399-{width}x{height}.jpg",
         "",
         "2025-06-13T03:55:10.148154"
        ],
        [
         "1826300051",
         "Mario Kart World",
         "https://static-cdn.jtvnw.net/ttv-boxart/1826300051_IGDB-{width}x{height}.jpg",
         "338067",
         "2025-06-13T03:55:10.148154"
        ],
        [
         "982348888",
         "Elden Ring: Nightreign",
         "https://static-cdn.jtvnw.net/ttv-boxart/982348888_IGDB-{width}x{height}.jpg",
         "325591",
         "2025-06-13T03:55:10.148154"
        ],
        [
         "491487",
         "Dead by Daylight",
         "https://static-cdn.jtvnw.net/ttv-boxart/491487-{width}x{height}.jpg",
         "18866",
         "2025-06-13T03:55:10.148154"
        ],
        [
         "512710",
         "Call of Duty: Warzone",
         "https://static-cdn.jtvnw.net/ttv-boxart/512710-{width}x{height}.jpg",
         "131800",
         "2025-06-13T03:55:10.148154"
        ],
        [
         "1987896617",
         "Dune: Awakening",
         "https://static-cdn.jtvnw.net/ttv-boxart/1987896617_IGDB-{width}x{height}.jpg",
         "214394",
         "2025-06-13T03:55:10.148154"
        ],
        [
         "36799602",
         "Clair Obscur: Expedition 33",
         "https://static-cdn.jtvnw.net/ttv-boxart/36799602_IGDB-{width}x{height}.jpg",
         "305152",
         "2025-06-13T03:55:10.148154"
        ],
        [
         "29595",
         "Dota 2",
         "https://static-cdn.jtvnw.net/ttv-boxart/29595-{width}x{height}.jpg",
         "",
         "2025-06-13T03:55:10.148154"
        ],
        [
         "1264310518",
         "Marvel Rivals",
         "https://static-cdn.jtvnw.net/ttv-boxart/1264310518_IGDB-{width}x{height}.jpg",
         "294041",
         "2025-06-13T03:55:10.148154"
        ],
        [
         "27471",
         "Minecraft",
         "https://static-cdn.jtvnw.net/ttv-boxart/27471_IGDB-{width}x{height}.jpg",
         "135400",
         "2025-06-13T03:55:10.148154"
        ],
        [
         "511224",
         "Apex Legends",
         "https://static-cdn.jtvnw.net/ttv-boxart/511224-{width}x{height}.jpg",
         "114795",
         "2025-06-13T03:55:10.148154"
        ],
        [
         "509659",
         "ASMR",
         "https://static-cdn.jtvnw.net/ttv-boxart/509659-{width}x{height}.jpg",
         "",
         "2025-06-13T03:55:10.148154"
        ],
        [
         "32982",
         "Grand Theft Auto V",
         "https://static-cdn.jtvnw.net/ttv-boxart/32982_IGDB-{width}x{height}.jpg",
         "1020",
         "2025-06-13T03:54:06.518349"
        ],
        [
         "21779",
         "League of Legends",
         "https://static-cdn.jtvnw.net/ttv-boxart/21779-{width}x{height}.jpg",
         "115",
         "2025-06-13T03:54:06.518349"
        ],
        [
         "460630",
         "Tom Clancy's Rainbow Six Siege X",
         "https://static-cdn.jtvnw.net/ttv-boxart/460630-{width}x{height}.jpg",
         "7360",
         "2025-06-13T03:54:06.518349"
        ],
        [
         "33214",
         "Fortnite",
         "https://static-cdn.jtvnw.net/ttv-boxart/33214-{width}x{height}.jpg",
         "1905",
         "2025-06-13T03:54:06.518349"
        ],
        [
         "488820",
         "Stranded Deep",
         "https://static-cdn.jtvnw.net/ttv-boxart/488820_IGDB-{width}x{height}.jpg",
         "8751",
         "2025-06-13T03:54:06.518349"
        ],
        [
         "516575",
         "VALORANT",
         "https://static-cdn.jtvnw.net/ttv-boxart/516575-{width}x{height}.jpg",
         "126459",
         "2025-06-13T03:54:06.518349"
        ],
        [
         "32399",
         "Counter-Strike",
         "https://static-cdn.jtvnw.net/ttv-boxart/32399-{width}x{height}.jpg",
         "",
         "2025-06-13T03:54:06.518349"
        ],
        [
         "1826300051",
         "Mario Kart World",
         "https://static-cdn.jtvnw.net/ttv-boxart/1826300051_IGDB-{width}x{height}.jpg",
         "338067",
         "2025-06-13T03:54:06.518349"
        ],
        [
         "982348888",
         "Elden Ring: Nightreign",
         "https://static-cdn.jtvnw.net/ttv-boxart/982348888_IGDB-{width}x{height}.jpg",
         "325591",
         "2025-06-13T03:54:06.518349"
        ],
        [
         "512710",
         "Call of Duty: Warzone",
         "https://static-cdn.jtvnw.net/ttv-boxart/512710-{width}x{height}.jpg",
         "131800",
         "2025-06-13T03:54:06.518349"
        ],
        [
         "491487",
         "Dead by Daylight",
         "https://static-cdn.jtvnw.net/ttv-boxart/491487-{width}x{height}.jpg",
         "18866",
         "2025-06-13T03:54:06.518349"
        ],
        [
         "1987896617",
         "Dune: Awakening",
         "https://static-cdn.jtvnw.net/ttv-boxart/1987896617_IGDB-{width}x{height}.jpg",
         "214394",
         "2025-06-13T03:54:06.518349"
        ],
        [
         "36799602",
         "Clair Obscur: Expedition 33",
         "https://static-cdn.jtvnw.net/ttv-boxart/36799602_IGDB-{width}x{height}.jpg",
         "305152",
         "2025-06-13T03:54:06.518349"
        ],
        [
         "1264310518",
         "Marvel Rivals",
         "https://static-cdn.jtvnw.net/ttv-boxart/1264310518_IGDB-{width}x{height}.jpg",
         "294041",
         "2025-06-13T03:54:06.518349"
        ],
        [
         "29595",
         "Dota 2",
         "https://static-cdn.jtvnw.net/ttv-boxart/29595-{width}x{height}.jpg",
         "",
         "2025-06-13T03:54:06.518349"
        ],
        [
         "27471",
         "Minecraft",
         "https://static-cdn.jtvnw.net/ttv-boxart/27471_IGDB-{width}x{height}.jpg",
         "135400",
         "2025-06-13T03:54:06.518349"
        ],
        [
         "511224",
         "Apex Legends",
         "https://static-cdn.jtvnw.net/ttv-boxart/511224-{width}x{height}.jpg",
         "114795",
         "2025-06-13T03:54:06.518349"
        ],
        [
         "509659",
         "ASMR",
         "https://static-cdn.jtvnw.net/ttv-boxart/509659-{width}x{height}.jpg",
         "",
         "2025-06-13T03:54:06.518349"
        ],
        [
         "32982",
         "Grand Theft Auto V",
         "https://static-cdn.jtvnw.net/ttv-boxart/32982_IGDB-{width}x{height}.jpg",
         "1020",
         "2025-06-13T04:00:27.281868"
        ],
        [
         "21779",
         "League of Legends",
         "https://static-cdn.jtvnw.net/ttv-boxart/21779-{width}x{height}.jpg",
         "115",
         "2025-06-13T04:00:27.281868"
        ],
        [
         "460630",
         "Tom Clancy's Rainbow Six Siege X",
         "https://static-cdn.jtvnw.net/ttv-boxart/460630-{width}x{height}.jpg",
         "7360",
         "2025-06-13T04:00:27.281868"
        ],
        [
         "488820",
         "Stranded Deep",
         "https://static-cdn.jtvnw.net/ttv-boxart/488820_IGDB-{width}x{height}.jpg",
         "8751",
         "2025-06-13T04:00:27.281868"
        ],
        [
         "33214",
         "Fortnite",
         "https://static-cdn.jtvnw.net/ttv-boxart/33214-{width}x{height}.jpg",
         "1905",
         "2025-06-13T04:00:27.281868"
        ],
        [
         "516575",
         "VALORANT",
         "https://static-cdn.jtvnw.net/ttv-boxart/516575-{width}x{height}.jpg",
         "126459",
         "2025-06-13T04:00:27.281868"
        ],
        [
         "32399",
         "Counter-Strike",
         "https://static-cdn.jtvnw.net/ttv-boxart/32399-{width}x{height}.jpg",
         "",
         "2025-06-13T04:00:27.281868"
        ],
        [
         "1826300051",
         "Mario Kart World",
         "https://static-cdn.jtvnw.net/ttv-boxart/1826300051_IGDB-{width}x{height}.jpg",
         "338067",
         "2025-06-13T04:00:27.281868"
        ],
        [
         "982348888",
         "Elden Ring: Nightreign",
         "https://static-cdn.jtvnw.net/ttv-boxart/982348888_IGDB-{width}x{height}.jpg",
         "325591",
         "2025-06-13T04:00:27.281868"
        ],
        [
         "1987896617",
         "Dune: Awakening",
         "https://static-cdn.jtvnw.net/ttv-boxart/1987896617_IGDB-{width}x{height}.jpg",
         "214394",
         "2025-06-13T04:00:27.281868"
        ],
        [
         "491487",
         "Dead by Daylight",
         "https://static-cdn.jtvnw.net/ttv-boxart/491487-{width}x{height}.jpg",
         "18866",
         "2025-06-13T04:00:27.281868"
        ],
        [
         "512710",
         "Call of Duty: Warzone",
         "https://static-cdn.jtvnw.net/ttv-boxart/512710-{width}x{height}.jpg",
         "131800",
         "2025-06-13T04:00:27.281868"
        ],
        [
         "36799602",
         "Clair Obscur: Expedition 33",
         "https://static-cdn.jtvnw.net/ttv-boxart/36799602_IGDB-{width}x{height}.jpg",
         "305152",
         "2025-06-13T04:00:27.281868"
        ],
        [
         "1264310518",
         "Marvel Rivals",
         "https://static-cdn.jtvnw.net/ttv-boxart/1264310518_IGDB-{width}x{height}.jpg",
         "294041",
         "2025-06-13T04:00:27.281868"
        ],
        [
         "29595",
         "Dota 2",
         "https://static-cdn.jtvnw.net/ttv-boxart/29595-{width}x{height}.jpg",
         "",
         "2025-06-13T04:00:27.281868"
        ],
        [
         "511224",
         "Apex Legends",
         "https://static-cdn.jtvnw.net/ttv-boxart/511224-{width}x{height}.jpg",
         "114795",
         "2025-06-13T04:00:27.281868"
        ],
        [
         "27471",
         "Minecraft",
         "https://static-cdn.jtvnw.net/ttv-boxart/27471_IGDB-{width}x{height}.jpg",
         "135400",
         "2025-06-13T04:00:27.281868"
        ],
        [
         "509659",
         "ASMR",
         "https://static-cdn.jtvnw.net/ttv-boxart/509659-{width}x{height}.jpg",
         "",
         "2025-06-13T04:00:27.281868"
        ],
        [
         "32982",
         "Grand Theft Auto V",
         "https://static-cdn.jtvnw.net/ttv-boxart/32982_IGDB-{width}x{height}.jpg",
         "1020",
         "2025-06-13T03:56:13.670367"
        ],
        [
         "21779",
         "League of Legends",
         "https://static-cdn.jtvnw.net/ttv-boxart/21779-{width}x{height}.jpg",
         "115",
         "2025-06-13T03:56:13.670367"
        ],
        [
         "460630",
         "Tom Clancy's Rainbow Six Siege X",
         "https://static-cdn.jtvnw.net/ttv-boxart/460630-{width}x{height}.jpg",
         "7360",
         "2025-06-13T03:56:13.670367"
        ],
        [
         "488820",
         "Stranded Deep",
         "https://static-cdn.jtvnw.net/ttv-boxart/488820_IGDB-{width}x{height}.jpg",
         "8751",
         "2025-06-13T03:56:13.670367"
        ],
        [
         "33214",
         "Fortnite",
         "https://static-cdn.jtvnw.net/ttv-boxart/33214-{width}x{height}.jpg",
         "1905",
         "2025-06-13T03:56:13.670367"
        ],
        [
         "516575",
         "VALORANT",
         "https://static-cdn.jtvnw.net/ttv-boxart/516575-{width}x{height}.jpg",
         "126459",
         "2025-06-13T03:56:13.670367"
        ],
        [
         "32399",
         "Counter-Strike",
         "https://static-cdn.jtvnw.net/ttv-boxart/32399-{width}x{height}.jpg",
         "",
         "2025-06-13T03:56:13.670367"
        ],
        [
         "1826300051",
         "Mario Kart World",
         "https://static-cdn.jtvnw.net/ttv-boxart/1826300051_IGDB-{width}x{height}.jpg",
         "338067",
         "2025-06-13T03:56:13.670367"
        ],
        [
         "982348888",
         "Elden Ring: Nightreign",
         "https://static-cdn.jtvnw.net/ttv-boxart/982348888_IGDB-{width}x{height}.jpg",
         "325591",
         "2025-06-13T03:56:13.670367"
        ],
        [
         "491487",
         "Dead by Daylight",
         "https://static-cdn.jtvnw.net/ttv-boxart/491487-{width}x{height}.jpg",
         "18866",
         "2025-06-13T03:56:13.670367"
        ],
        [
         "512710",
         "Call of Duty: Warzone",
         "https://static-cdn.jtvnw.net/ttv-boxart/512710-{width}x{height}.jpg",
         "131800",
         "2025-06-13T03:56:13.670367"
        ],
        [
         "1987896617",
         "Dune: Awakening",
         "https://static-cdn.jtvnw.net/ttv-boxart/1987896617_IGDB-{width}x{height}.jpg",
         "214394",
         "2025-06-13T03:56:13.670367"
        ],
        [
         "36799602",
         "Clair Obscur: Expedition 33",
         "https://static-cdn.jtvnw.net/ttv-boxart/36799602_IGDB-{width}x{height}.jpg",
         "305152",
         "2025-06-13T03:56:13.670367"
        ],
        [
         "1264310518",
         "Marvel Rivals",
         "https://static-cdn.jtvnw.net/ttv-boxart/1264310518_IGDB-{width}x{height}.jpg",
         "294041",
         "2025-06-13T03:56:13.670367"
        ],
        [
         "29595",
         "Dota 2",
         "https://static-cdn.jtvnw.net/ttv-boxart/29595-{width}x{height}.jpg",
         "",
         "2025-06-13T03:56:13.670367"
        ],
        [
         "27471",
         "Minecraft",
         "https://static-cdn.jtvnw.net/ttv-boxart/27471_IGDB-{width}x{height}.jpg",
         "135400",
         "2025-06-13T03:56:13.670367"
        ],
        [
         "511224",
         "Apex Legends",
         "https://static-cdn.jtvnw.net/ttv-boxart/511224-{width}x{height}.jpg",
         "114795",
         "2025-06-13T03:56:13.670367"
        ],
        [
         "509659",
         "ASMR",
         "https://static-cdn.jtvnw.net/ttv-boxart/509659-{width}x{height}.jpg",
         "",
         "2025-06-13T03:56:13.670367"
        ],
        [
         "32982",
         "Grand Theft Auto V",
         "https://static-cdn.jtvnw.net/ttv-boxart/32982_IGDB-{width}x{height}.jpg",
         "1020",
         "2025-06-13T04:09:01.681757"
        ],
        [
         "21779",
         "League of Legends",
         "https://static-cdn.jtvnw.net/ttv-boxart/21779-{width}x{height}.jpg",
         "115",
         "2025-06-13T04:09:01.681757"
        ],
        [
         "460630",
         "Tom Clancy's Rainbow Six Siege X",
         "https://static-cdn.jtvnw.net/ttv-boxart/460630-{width}x{height}.jpg",
         "7360",
         "2025-06-13T04:09:01.681757"
        ],
        [
         "488820",
         "Stranded Deep",
         "https://static-cdn.jtvnw.net/ttv-boxart/488820_IGDB-{width}x{height}.jpg",
         "8751",
         "2025-06-13T04:09:01.681757"
        ],
        [
         "516575",
         "VALORANT",
         "https://static-cdn.jtvnw.net/ttv-boxart/516575-{width}x{height}.jpg",
         "126459",
         "2025-06-13T04:09:01.681757"
        ],
        [
         "33214",
         "Fortnite",
         "https://static-cdn.jtvnw.net/ttv-boxart/33214-{width}x{height}.jpg",
         "1905",
         "2025-06-13T04:09:01.681757"
        ],
        [
         "32399",
         "Counter-Strike",
         "https://static-cdn.jtvnw.net/ttv-boxart/32399-{width}x{height}.jpg",
         "",
         "2025-06-13T04:09:01.681757"
        ],
        [
         "1826300051",
         "Mario Kart World",
         "https://static-cdn.jtvnw.net/ttv-boxart/1826300051_IGDB-{width}x{height}.jpg",
         "338067",
         "2025-06-13T04:09:01.681757"
        ],
        [
         "982348888",
         "Elden Ring: Nightreign",
         "https://static-cdn.jtvnw.net/ttv-boxart/982348888_IGDB-{width}x{height}.jpg",
         "325591",
         "2025-06-13T04:09:01.681757"
        ],
        [
         "1987896617",
         "Dune: Awakening",
         "https://static-cdn.jtvnw.net/ttv-boxart/1987896617_IGDB-{width}x{height}.jpg",
         "214394",
         "2025-06-13T04:09:01.681757"
        ],
        [
         "491487",
         "Dead by Daylight",
         "https://static-cdn.jtvnw.net/ttv-boxart/491487-{width}x{height}.jpg",
         "18866",
         "2025-06-13T04:09:01.681757"
        ],
        [
         "512710",
         "Call of Duty: Warzone",
         "https://static-cdn.jtvnw.net/ttv-boxart/512710-{width}x{height}.jpg",
         "131800",
         "2025-06-13T04:09:01.681757"
        ],
        [
         "36799602",
         "Clair Obscur: Expedition 33",
         "https://static-cdn.jtvnw.net/ttv-boxart/36799602_IGDB-{width}x{height}.jpg",
         "305152",
         "2025-06-13T04:09:01.681757"
        ],
        [
         "1264310518",
         "Marvel Rivals",
         "https://static-cdn.jtvnw.net/ttv-boxart/1264310518_IGDB-{width}x{height}.jpg",
         "294041",
         "2025-06-13T04:09:01.681757"
        ],
        [
         "29595",
         "Dota 2",
         "https://static-cdn.jtvnw.net/ttv-boxart/29595-{width}x{height}.jpg",
         "",
         "2025-06-13T04:09:01.681757"
        ],
        [
         "511224",
         "Apex Legends",
         "https://static-cdn.jtvnw.net/ttv-boxart/511224-{width}x{height}.jpg",
         "114795",
         "2025-06-13T04:09:01.681757"
        ],
        [
         "27471",
         "Minecraft",
         "https://static-cdn.jtvnw.net/ttv-boxart/27471_IGDB-{width}x{height}.jpg",
         "135400",
         "2025-06-13T04:09:01.681757"
        ],
        [
         "509659",
         "ASMR",
         "https://static-cdn.jtvnw.net/ttv-boxart/509659-{width}x{height}.jpg",
         "",
         "2025-06-13T04:09:01.681757"
        ],
        [
         "32982",
         "Grand Theft Auto V",
         "https://static-cdn.jtvnw.net/ttv-boxart/32982_IGDB-{width}x{height}.jpg",
         "1020",
         "2025-06-13T04:07:57.591400"
        ],
        [
         "21779",
         "League of Legends",
         "https://static-cdn.jtvnw.net/ttv-boxart/21779-{width}x{height}.jpg",
         "115",
         "2025-06-13T04:07:57.591400"
        ],
        [
         "460630",
         "Tom Clancy's Rainbow Six Siege X",
         "https://static-cdn.jtvnw.net/ttv-boxart/460630-{width}x{height}.jpg",
         "7360",
         "2025-06-13T04:07:57.591400"
        ],
        [
         "488820",
         "Stranded Deep",
         "https://static-cdn.jtvnw.net/ttv-boxart/488820_IGDB-{width}x{height}.jpg",
         "8751",
         "2025-06-13T04:07:57.591400"
        ],
        [
         "516575",
         "VALORANT",
         "https://static-cdn.jtvnw.net/ttv-boxart/516575-{width}x{height}.jpg",
         "126459",
         "2025-06-13T04:07:57.591400"
        ],
        [
         "33214",
         "Fortnite",
         "https://static-cdn.jtvnw.net/ttv-boxart/33214-{width}x{height}.jpg",
         "1905",
         "2025-06-13T04:07:57.591400"
        ],
        [
         "32399",
         "Counter-Strike",
         "https://static-cdn.jtvnw.net/ttv-boxart/32399-{width}x{height}.jpg",
         "",
         "2025-06-13T04:07:57.591400"
        ],
        [
         "1826300051",
         "Mario Kart World",
         "https://static-cdn.jtvnw.net/ttv-boxart/1826300051_IGDB-{width}x{height}.jpg",
         "338067",
         "2025-06-13T04:07:57.591400"
        ],
        [
         "982348888",
         "Elden Ring: Nightreign",
         "https://static-cdn.jtvnw.net/ttv-boxart/982348888_IGDB-{width}x{height}.jpg",
         "325591",
         "2025-06-13T04:07:57.591400"
        ],
        [
         "1987896617",
         "Dune: Awakening",
         "https://static-cdn.jtvnw.net/ttv-boxart/1987896617_IGDB-{width}x{height}.jpg",
         "214394",
         "2025-06-13T04:07:57.591400"
        ],
        [
         "491487",
         "Dead by Daylight",
         "https://static-cdn.jtvnw.net/ttv-boxart/491487-{width}x{height}.jpg",
         "18866",
         "2025-06-13T04:07:57.591400"
        ],
        [
         "512710",
         "Call of Duty: Warzone",
         "https://static-cdn.jtvnw.net/ttv-boxart/512710-{width}x{height}.jpg",
         "131800",
         "2025-06-13T04:07:57.591400"
        ],
        [
         "36799602",
         "Clair Obscur: Expedition 33",
         "https://static-cdn.jtvnw.net/ttv-boxart/36799602_IGDB-{width}x{height}.jpg",
         "305152",
         "2025-06-13T04:07:57.591400"
        ],
        [
         "1264310518",
         "Marvel Rivals",
         "https://static-cdn.jtvnw.net/ttv-boxart/1264310518_IGDB-{width}x{height}.jpg",
         "294041",
         "2025-06-13T04:07:57.591400"
        ],
        [
         "29595",
         "Dota 2",
         "https://static-cdn.jtvnw.net/ttv-boxart/29595-{width}x{height}.jpg",
         "",
         "2025-06-13T04:07:57.591400"
        ],
        [
         "511224",
         "Apex Legends",
         "https://static-cdn.jtvnw.net/ttv-boxart/511224-{width}x{height}.jpg",
         "114795",
         "2025-06-13T04:07:57.591400"
        ],
        [
         "27471",
         "Minecraft",
         "https://static-cdn.jtvnw.net/ttv-boxart/27471_IGDB-{width}x{height}.jpg",
         "135400",
         "2025-06-13T04:07:57.591400"
        ],
        [
         "509659",
         "ASMR",
         "https://static-cdn.jtvnw.net/ttv-boxart/509659-{width}x{height}.jpg",
         "",
         "2025-06-13T04:07:57.591400"
        ],
        [
         "32982",
         "Grand Theft Auto V",
         "https://static-cdn.jtvnw.net/ttv-boxart/32982_IGDB-{width}x{height}.jpg",
         "1020",
         "2025-06-13T04:01:30.602062"
        ],
        [
         "21779",
         "League of Legends",
         "https://static-cdn.jtvnw.net/ttv-boxart/21779-{width}x{height}.jpg",
         "115",
         "2025-06-13T04:01:30.602062"
        ],
        [
         "460630",
         "Tom Clancy's Rainbow Six Siege X",
         "https://static-cdn.jtvnw.net/ttv-boxart/460630-{width}x{height}.jpg",
         "7360",
         "2025-06-13T04:01:30.602062"
        ],
        [
         "488820",
         "Stranded Deep",
         "https://static-cdn.jtvnw.net/ttv-boxart/488820_IGDB-{width}x{height}.jpg",
         "8751",
         "2025-06-13T04:01:30.602062"
        ],
        [
         "33214",
         "Fortnite",
         "https://static-cdn.jtvnw.net/ttv-boxart/33214-{width}x{height}.jpg",
         "1905",
         "2025-06-13T04:01:30.602062"
        ],
        [
         "516575",
         "VALORANT",
         "https://static-cdn.jtvnw.net/ttv-boxart/516575-{width}x{height}.jpg",
         "126459",
         "2025-06-13T04:01:30.602062"
        ],
        [
         "32399",
         "Counter-Strike",
         "https://static-cdn.jtvnw.net/ttv-boxart/32399-{width}x{height}.jpg",
         "",
         "2025-06-13T04:01:30.602062"
        ],
        [
         "1826300051",
         "Mario Kart World",
         "https://static-cdn.jtvnw.net/ttv-boxart/1826300051_IGDB-{width}x{height}.jpg",
         "338067",
         "2025-06-13T04:01:30.602062"
        ],
        [
         "982348888",
         "Elden Ring: Nightreign",
         "https://static-cdn.jtvnw.net/ttv-boxart/982348888_IGDB-{width}x{height}.jpg",
         "325591",
         "2025-06-13T04:01:30.602062"
        ],
        [
         "1987896617",
         "Dune: Awakening",
         "https://static-cdn.jtvnw.net/ttv-boxart/1987896617_IGDB-{width}x{height}.jpg",
         "214394",
         "2025-06-13T04:01:30.602062"
        ],
        [
         "491487",
         "Dead by Daylight",
         "https://static-cdn.jtvnw.net/ttv-boxart/491487-{width}x{height}.jpg",
         "18866",
         "2025-06-13T04:01:30.602062"
        ],
        [
         "512710",
         "Call of Duty: Warzone",
         "https://static-cdn.jtvnw.net/ttv-boxart/512710-{width}x{height}.jpg",
         "131800",
         "2025-06-13T04:01:30.602062"
        ],
        [
         "36799602",
         "Clair Obscur: Expedition 33",
         "https://static-cdn.jtvnw.net/ttv-boxart/36799602_IGDB-{width}x{height}.jpg",
         "305152",
         "2025-06-13T04:01:30.602062"
        ],
        [
         "1264310518",
         "Marvel Rivals",
         "https://static-cdn.jtvnw.net/ttv-boxart/1264310518_IGDB-{width}x{height}.jpg",
         "294041",
         "2025-06-13T04:01:30.602062"
        ],
        [
         "29595",
         "Dota 2",
         "https://static-cdn.jtvnw.net/ttv-boxart/29595-{width}x{height}.jpg",
         "",
         "2025-06-13T04:01:30.602062"
        ],
        [
         "27471",
         "Minecraft",
         "https://static-cdn.jtvnw.net/ttv-boxart/27471_IGDB-{width}x{height}.jpg",
         "135400",
         "2025-06-13T04:01:30.602062"
        ],
        [
         "511224",
         "Apex Legends",
         "https://static-cdn.jtvnw.net/ttv-boxart/511224-{width}x{height}.jpg",
         "114795",
         "2025-06-13T04:01:30.602062"
        ],
        [
         "509659",
         "ASMR",
         "https://static-cdn.jtvnw.net/ttv-boxart/509659-{width}x{height}.jpg",
         "",
         "2025-06-13T04:01:30.602062"
        ],
        [
         "32982",
         "Grand Theft Auto V",
         "https://static-cdn.jtvnw.net/ttv-boxart/32982_IGDB-{width}x{height}.jpg",
         "1020",
         "2025-06-13T04:10:04.727609"
        ],
        [
         "21779",
         "League of Legends",
         "https://static-cdn.jtvnw.net/ttv-boxart/21779-{width}x{height}.jpg",
         "115",
         "2025-06-13T04:10:04.727609"
        ],
        [
         "460630",
         "Tom Clancy's Rainbow Six Siege X",
         "https://static-cdn.jtvnw.net/ttv-boxart/460630-{width}x{height}.jpg",
         "7360",
         "2025-06-13T04:10:04.727609"
        ],
        [
         "488820",
         "Stranded Deep",
         "https://static-cdn.jtvnw.net/ttv-boxart/488820_IGDB-{width}x{height}.jpg",
         "8751",
         "2025-06-13T04:10:04.727609"
        ],
        [
         "516575",
         "VALORANT",
         "https://static-cdn.jtvnw.net/ttv-boxart/516575-{width}x{height}.jpg",
         "126459",
         "2025-06-13T04:10:04.727609"
        ],
        [
         "33214",
         "Fortnite",
         "https://static-cdn.jtvnw.net/ttv-boxart/33214-{width}x{height}.jpg",
         "1905",
         "2025-06-13T04:10:04.727609"
        ],
        [
         "1826300051",
         "Mario Kart World",
         "https://static-cdn.jtvnw.net/ttv-boxart/1826300051_IGDB-{width}x{height}.jpg",
         "338067",
         "2025-06-13T04:10:04.727609"
        ],
        [
         "32399",
         "Counter-Strike",
         "https://static-cdn.jtvnw.net/ttv-boxart/32399-{width}x{height}.jpg",
         "",
         "2025-06-13T04:10:04.727609"
        ],
        [
         "982348888",
         "Elden Ring: Nightreign",
         "https://static-cdn.jtvnw.net/ttv-boxart/982348888_IGDB-{width}x{height}.jpg",
         "325591",
         "2025-06-13T04:10:04.727609"
        ],
        [
         "1987896617",
         "Dune: Awakening",
         "https://static-cdn.jtvnw.net/ttv-boxart/1987896617_IGDB-{width}x{height}.jpg",
         "214394",
         "2025-06-13T04:10:04.727609"
        ],
        [
         "491487",
         "Dead by Daylight",
         "https://static-cdn.jtvnw.net/ttv-boxart/491487-{width}x{height}.jpg",
         "18866",
         "2025-06-13T04:10:04.727609"
        ],
        [
         "512710",
         "Call of Duty: Warzone",
         "https://static-cdn.jtvnw.net/ttv-boxart/512710-{width}x{height}.jpg",
         "131800",
         "2025-06-13T04:10:04.727609"
        ],
        [
         "36799602",
         "Clair Obscur: Expedition 33",
         "https://static-cdn.jtvnw.net/ttv-boxart/36799602_IGDB-{width}x{height}.jpg",
         "305152",
         "2025-06-13T04:10:04.727609"
        ],
        [
         "1264310518",
         "Marvel Rivals",
         "https://static-cdn.jtvnw.net/ttv-boxart/1264310518_IGDB-{width}x{height}.jpg",
         "294041",
         "2025-06-13T04:10:04.727609"
        ],
        [
         "29595",
         "Dota 2",
         "https://static-cdn.jtvnw.net/ttv-boxart/29595-{width}x{height}.jpg",
         "",
         "2025-06-13T04:10:04.727609"
        ],
        [
         "511224",
         "Apex Legends",
         "https://static-cdn.jtvnw.net/ttv-boxart/511224-{width}x{height}.jpg",
         "114795",
         "2025-06-13T04:10:04.727609"
        ],
        [
         "27471",
         "Minecraft",
         "https://static-cdn.jtvnw.net/ttv-boxart/27471_IGDB-{width}x{height}.jpg",
         "135400",
         "2025-06-13T04:10:04.727609"
        ],
        [
         "509659",
         "ASMR",
         "https://static-cdn.jtvnw.net/ttv-boxart/509659-{width}x{height}.jpg",
         "",
         "2025-06-13T04:10:04.727609"
        ],
        [
         "32982",
         "Grand Theft Auto V",
         "https://static-cdn.jtvnw.net/ttv-boxart/32982_IGDB-{width}x{height}.jpg",
         "1020",
         "2025-06-13T03:58:20.802685"
        ],
        [
         "21779",
         "League of Legends",
         "https://static-cdn.jtvnw.net/ttv-boxart/21779-{width}x{height}.jpg",
         "115",
         "2025-06-13T03:58:20.802685"
        ],
        [
         "460630",
         "Tom Clancy's Rainbow Six Siege X",
         "https://static-cdn.jtvnw.net/ttv-boxart/460630-{width}x{height}.jpg",
         "7360",
         "2025-06-13T03:58:20.802685"
        ],
        [
         "488820",
         "Stranded Deep",
         "https://static-cdn.jtvnw.net/ttv-boxart/488820_IGDB-{width}x{height}.jpg",
         "8751",
         "2025-06-13T03:58:20.802685"
        ],
        [
         "33214",
         "Fortnite",
         "https://static-cdn.jtvnw.net/ttv-boxart/33214-{width}x{height}.jpg",
         "1905",
         "2025-06-13T03:58:20.802685"
        ],
        [
         "516575",
         "VALORANT",
         "https://static-cdn.jtvnw.net/ttv-boxart/516575-{width}x{height}.jpg",
         "126459",
         "2025-06-13T03:58:20.802685"
        ],
        [
         "1826300051",
         "Mario Kart World",
         "https://static-cdn.jtvnw.net/ttv-boxart/1826300051_IGDB-{width}x{height}.jpg",
         "338067",
         "2025-06-13T03:58:20.802685"
        ],
        [
         "32399",
         "Counter-Strike",
         "https://static-cdn.jtvnw.net/ttv-boxart/32399-{width}x{height}.jpg",
         "",
         "2025-06-13T03:58:20.802685"
        ],
        [
         "982348888",
         "Elden Ring: Nightreign",
         "https://static-cdn.jtvnw.net/ttv-boxart/982348888_IGDB-{width}x{height}.jpg",
         "325591",
         "2025-06-13T03:58:20.802685"
        ],
        [
         "491487",
         "Dead by Daylight",
         "https://static-cdn.jtvnw.net/ttv-boxart/491487-{width}x{height}.jpg",
         "18866",
         "2025-06-13T03:58:20.802685"
        ],
        [
         "1987896617",
         "Dune: Awakening",
         "https://static-cdn.jtvnw.net/ttv-boxart/1987896617_IGDB-{width}x{height}.jpg",
         "214394",
         "2025-06-13T03:58:20.802685"
        ],
        [
         "512710",
         "Call of Duty: Warzone",
         "https://static-cdn.jtvnw.net/ttv-boxart/512710-{width}x{height}.jpg",
         "131800",
         "2025-06-13T03:58:20.802685"
        ],
        [
         "36799602",
         "Clair Obscur: Expedition 33",
         "https://static-cdn.jtvnw.net/ttv-boxart/36799602_IGDB-{width}x{height}.jpg",
         "305152",
         "2025-06-13T03:58:20.802685"
        ],
        [
         "1264310518",
         "Marvel Rivals",
         "https://static-cdn.jtvnw.net/ttv-boxart/1264310518_IGDB-{width}x{height}.jpg",
         "294041",
         "2025-06-13T03:58:20.802685"
        ],
        [
         "29595",
         "Dota 2",
         "https://static-cdn.jtvnw.net/ttv-boxart/29595-{width}x{height}.jpg",
         "",
         "2025-06-13T03:58:20.802685"
        ],
        [
         "27471",
         "Minecraft",
         "https://static-cdn.jtvnw.net/ttv-boxart/27471_IGDB-{width}x{height}.jpg",
         "135400",
         "2025-06-13T03:58:20.802685"
        ],
        [
         "511224",
         "Apex Legends",
         "https://static-cdn.jtvnw.net/ttv-boxart/511224-{width}x{height}.jpg",
         "114795",
         "2025-06-13T03:58:20.802685"
        ],
        [
         "509659",
         "ASMR",
         "https://static-cdn.jtvnw.net/ttv-boxart/509659-{width}x{height}.jpg",
         "",
         "2025-06-13T03:58:20.802685"
        ],
        [
         "32982",
         "Grand Theft Auto V",
         "https://static-cdn.jtvnw.net/ttv-boxart/32982_IGDB-{width}x{height}.jpg",
         "1020",
         "2025-06-13T03:57:17.110869"
        ],
        [
         "21779",
         "League of Legends",
         "https://static-cdn.jtvnw.net/ttv-boxart/21779-{width}x{height}.jpg",
         "115",
         "2025-06-13T03:57:17.110869"
        ],
        [
         "460630",
         "Tom Clancy's Rainbow Six Siege X",
         "https://static-cdn.jtvnw.net/ttv-boxart/460630-{width}x{height}.jpg",
         "7360",
         "2025-06-13T03:57:17.110869"
        ],
        [
         "488820",
         "Stranded Deep",
         "https://static-cdn.jtvnw.net/ttv-boxart/488820_IGDB-{width}x{height}.jpg",
         "8751",
         "2025-06-13T03:57:17.110869"
        ],
        [
         "33214",
         "Fortnite",
         "https://static-cdn.jtvnw.net/ttv-boxart/33214-{width}x{height}.jpg",
         "1905",
         "2025-06-13T03:57:17.110869"
        ],
        [
         "516575",
         "VALORANT",
         "https://static-cdn.jtvnw.net/ttv-boxart/516575-{width}x{height}.jpg",
         "126459",
         "2025-06-13T03:57:17.110869"
        ],
        [
         "1826300051",
         "Mario Kart World",
         "https://static-cdn.jtvnw.net/ttv-boxart/1826300051_IGDB-{width}x{height}.jpg",
         "338067",
         "2025-06-13T03:57:17.110869"
        ],
        [
         "32399",
         "Counter-Strike",
         "https://static-cdn.jtvnw.net/ttv-boxart/32399-{width}x{height}.jpg",
         "",
         "2025-06-13T03:57:17.110869"
        ],
        [
         "982348888",
         "Elden Ring: Nightreign",
         "https://static-cdn.jtvnw.net/ttv-boxart/982348888_IGDB-{width}x{height}.jpg",
         "325591",
         "2025-06-13T03:57:17.110869"
        ],
        [
         "491487",
         "Dead by Daylight",
         "https://static-cdn.jtvnw.net/ttv-boxart/491487-{width}x{height}.jpg",
         "18866",
         "2025-06-13T03:57:17.110869"
        ],
        [
         "1987896617",
         "Dune: Awakening",
         "https://static-cdn.jtvnw.net/ttv-boxart/1987896617_IGDB-{width}x{height}.jpg",
         "214394",
         "2025-06-13T03:57:17.110869"
        ],
        [
         "512710",
         "Call of Duty: Warzone",
         "https://static-cdn.jtvnw.net/ttv-boxart/512710-{width}x{height}.jpg",
         "131800",
         "2025-06-13T03:57:17.110869"
        ],
        [
         "36799602",
         "Clair Obscur: Expedition 33",
         "https://static-cdn.jtvnw.net/ttv-boxart/36799602_IGDB-{width}x{height}.jpg",
         "305152",
         "2025-06-13T03:57:17.110869"
        ],
        [
         "1264310518",
         "Marvel Rivals",
         "https://static-cdn.jtvnw.net/ttv-boxart/1264310518_IGDB-{width}x{height}.jpg",
         "294041",
         "2025-06-13T03:57:17.110869"
        ],
        [
         "29595",
         "Dota 2",
         "https://static-cdn.jtvnw.net/ttv-boxart/29595-{width}x{height}.jpg",
         "",
         "2025-06-13T03:57:17.110869"
        ],
        [
         "27471",
         "Minecraft",
         "https://static-cdn.jtvnw.net/ttv-boxart/27471_IGDB-{width}x{height}.jpg",
         "135400",
         "2025-06-13T03:57:17.110869"
        ],
        [
         "511224",
         "Apex Legends",
         "https://static-cdn.jtvnw.net/ttv-boxart/511224-{width}x{height}.jpg",
         "114795",
         "2025-06-13T03:57:17.110869"
        ],
        [
         "509659",
         "ASMR",
         "https://static-cdn.jtvnw.net/ttv-boxart/509659-{width}x{height}.jpg",
         "",
         "2025-06-13T03:57:17.110869"
        ],
        [
         "32982",
         "Grand Theft Auto V",
         "https://static-cdn.jtvnw.net/ttv-boxart/32982_IGDB-{width}x{height}.jpg",
         "1020",
         "2025-06-13T04:06:54.705630"
        ],
        [
         "21779",
         "League of Legends",
         "https://static-cdn.jtvnw.net/ttv-boxart/21779-{width}x{height}.jpg",
         "115",
         "2025-06-13T04:06:54.705630"
        ],
        [
         "460630",
         "Tom Clancy's Rainbow Six Siege X",
         "https://static-cdn.jtvnw.net/ttv-boxart/460630-{width}x{height}.jpg",
         "7360",
         "2025-06-13T04:06:54.705630"
        ],
        [
         "488820",
         "Stranded Deep",
         "https://static-cdn.jtvnw.net/ttv-boxart/488820_IGDB-{width}x{height}.jpg",
         "8751",
         "2025-06-13T04:06:54.705630"
        ],
        [
         "516575",
         "VALORANT",
         "https://static-cdn.jtvnw.net/ttv-boxart/516575-{width}x{height}.jpg",
         "126459",
         "2025-06-13T04:06:54.705630"
        ],
        [
         "33214",
         "Fortnite",
         "https://static-cdn.jtvnw.net/ttv-boxart/33214-{width}x{height}.jpg",
         "1905",
         "2025-06-13T04:06:54.705630"
        ],
        [
         "32399",
         "Counter-Strike",
         "https://static-cdn.jtvnw.net/ttv-boxart/32399-{width}x{height}.jpg",
         "",
         "2025-06-13T04:06:54.705630"
        ],
        [
         "1826300051",
         "Mario Kart World",
         "https://static-cdn.jtvnw.net/ttv-boxart/1826300051_IGDB-{width}x{height}.jpg",
         "338067",
         "2025-06-13T04:06:54.705630"
        ],
        [
         "982348888",
         "Elden Ring: Nightreign",
         "https://static-cdn.jtvnw.net/ttv-boxart/982348888_IGDB-{width}x{height}.jpg",
         "325591",
         "2025-06-13T04:06:54.705630"
        ],
        [
         "1987896617",
         "Dune: Awakening",
         "https://static-cdn.jtvnw.net/ttv-boxart/1987896617_IGDB-{width}x{height}.jpg",
         "214394",
         "2025-06-13T04:06:54.705630"
        ],
        [
         "491487",
         "Dead by Daylight",
         "https://static-cdn.jtvnw.net/ttv-boxart/491487-{width}x{height}.jpg",
         "18866",
         "2025-06-13T04:06:54.705630"
        ],
        [
         "512710",
         "Call of Duty: Warzone",
         "https://static-cdn.jtvnw.net/ttv-boxart/512710-{width}x{height}.jpg",
         "131800",
         "2025-06-13T04:06:54.705630"
        ],
        [
         "36799602",
         "Clair Obscur: Expedition 33",
         "https://static-cdn.jtvnw.net/ttv-boxart/36799602_IGDB-{width}x{height}.jpg",
         "305152",
         "2025-06-13T04:06:54.705630"
        ],
        [
         "1264310518",
         "Marvel Rivals",
         "https://static-cdn.jtvnw.net/ttv-boxart/1264310518_IGDB-{width}x{height}.jpg",
         "294041",
         "2025-06-13T04:06:54.705630"
        ],
        [
         "29595",
         "Dota 2",
         "https://static-cdn.jtvnw.net/ttv-boxart/29595-{width}x{height}.jpg",
         "",
         "2025-06-13T04:06:54.705630"
        ],
        [
         "27471",
         "Minecraft",
         "https://static-cdn.jtvnw.net/ttv-boxart/27471_IGDB-{width}x{height}.jpg",
         "135400",
         "2025-06-13T04:06:54.705630"
        ],
        [
         "511224",
         "Apex Legends",
         "https://static-cdn.jtvnw.net/ttv-boxart/511224-{width}x{height}.jpg",
         "114795",
         "2025-06-13T04:06:54.705630"
        ],
        [
         "509659",
         "ASMR",
         "https://static-cdn.jtvnw.net/ttv-boxart/509659-{width}x{height}.jpg",
         "",
         "2025-06-13T04:06:54.705630"
        ],
        [
         "32982",
         "Grand Theft Auto V",
         "https://static-cdn.jtvnw.net/ttv-boxart/32982_IGDB-{width}x{height}.jpg",
         "1020",
         "2025-06-13T04:05:51.100111"
        ],
        [
         "21779",
         "League of Legends",
         "https://static-cdn.jtvnw.net/ttv-boxart/21779-{width}x{height}.jpg",
         "115",
         "2025-06-13T04:05:51.100111"
        ],
        [
         "460630",
         "Tom Clancy's Rainbow Six Siege X",
         "https://static-cdn.jtvnw.net/ttv-boxart/460630-{width}x{height}.jpg",
         "7360",
         "2025-06-13T04:05:51.100111"
        ],
        [
         "488820",
         "Stranded Deep",
         "https://static-cdn.jtvnw.net/ttv-boxart/488820_IGDB-{width}x{height}.jpg",
         "8751",
         "2025-06-13T04:05:51.100111"
        ],
        [
         "516575",
         "VALORANT",
         "https://static-cdn.jtvnw.net/ttv-boxart/516575-{width}x{height}.jpg",
         "126459",
         "2025-06-13T04:05:51.100111"
        ],
        [
         "33214",
         "Fortnite",
         "https://static-cdn.jtvnw.net/ttv-boxart/33214-{width}x{height}.jpg",
         "1905",
         "2025-06-13T04:05:51.100111"
        ],
        [
         "32399",
         "Counter-Strike",
         "https://static-cdn.jtvnw.net/ttv-boxart/32399-{width}x{height}.jpg",
         "",
         "2025-06-13T04:05:51.100111"
        ],
        [
         "1826300051",
         "Mario Kart World",
         "https://static-cdn.jtvnw.net/ttv-boxart/1826300051_IGDB-{width}x{height}.jpg",
         "338067",
         "2025-06-13T04:05:51.100111"
        ],
        [
         "982348888",
         "Elden Ring: Nightreign",
         "https://static-cdn.jtvnw.net/ttv-boxart/982348888_IGDB-{width}x{height}.jpg",
         "325591",
         "2025-06-13T04:05:51.100111"
        ],
        [
         "1987896617",
         "Dune: Awakening",
         "https://static-cdn.jtvnw.net/ttv-boxart/1987896617_IGDB-{width}x{height}.jpg",
         "214394",
         "2025-06-13T04:05:51.100111"
        ],
        [
         "491487",
         "Dead by Daylight",
         "https://static-cdn.jtvnw.net/ttv-boxart/491487-{width}x{height}.jpg",
         "18866",
         "2025-06-13T04:05:51.100111"
        ],
        [
         "512710",
         "Call of Duty: Warzone",
         "https://static-cdn.jtvnw.net/ttv-boxart/512710-{width}x{height}.jpg",
         "131800",
         "2025-06-13T04:05:51.100111"
        ],
        [
         "36799602",
         "Clair Obscur: Expedition 33",
         "https://static-cdn.jtvnw.net/ttv-boxart/36799602_IGDB-{width}x{height}.jpg",
         "305152",
         "2025-06-13T04:05:51.100111"
        ],
        [
         "1264310518",
         "Marvel Rivals",
         "https://static-cdn.jtvnw.net/ttv-boxart/1264310518_IGDB-{width}x{height}.jpg",
         "294041",
         "2025-06-13T04:05:51.100111"
        ],
        [
         "29595",
         "Dota 2",
         "https://static-cdn.jtvnw.net/ttv-boxart/29595-{width}x{height}.jpg",
         "",
         "2025-06-13T04:05:51.100111"
        ],
        [
         "27471",
         "Minecraft",
         "https://static-cdn.jtvnw.net/ttv-boxart/27471_IGDB-{width}x{height}.jpg",
         "135400",
         "2025-06-13T04:05:51.100111"
        ],
        [
         "511224",
         "Apex Legends",
         "https://static-cdn.jtvnw.net/ttv-boxart/511224-{width}x{height}.jpg",
         "114795",
         "2025-06-13T04:05:51.100111"
        ],
        [
         "509659",
         "ASMR",
         "https://static-cdn.jtvnw.net/ttv-boxart/509659-{width}x{height}.jpg",
         "",
         "2025-06-13T04:05:51.100111"
        ],
        [
         "32982",
         "Grand Theft Auto V",
         "https://static-cdn.jtvnw.net/ttv-boxart/32982_IGDB-{width}x{height}.jpg",
         "1020",
         "2025-06-13T03:59:24.408797"
        ],
        [
         "21779",
         "League of Legends",
         "https://static-cdn.jtvnw.net/ttv-boxart/21779-{width}x{height}.jpg",
         "115",
         "2025-06-13T03:59:24.408797"
        ],
        [
         "460630",
         "Tom Clancy's Rainbow Six Siege X",
         "https://static-cdn.jtvnw.net/ttv-boxart/460630-{width}x{height}.jpg",
         "7360",
         "2025-06-13T03:59:24.408797"
        ],
        [
         "488820",
         "Stranded Deep",
         "https://static-cdn.jtvnw.net/ttv-boxart/488820_IGDB-{width}x{height}.jpg",
         "8751",
         "2025-06-13T03:59:24.408797"
        ],
        [
         "33214",
         "Fortnite",
         "https://static-cdn.jtvnw.net/ttv-boxart/33214-{width}x{height}.jpg",
         "1905",
         "2025-06-13T03:59:24.408797"
        ],
        [
         "516575",
         "VALORANT",
         "https://static-cdn.jtvnw.net/ttv-boxart/516575-{width}x{height}.jpg",
         "126459",
         "2025-06-13T03:59:24.408797"
        ],
        [
         "1826300051",
         "Mario Kart World",
         "https://static-cdn.jtvnw.net/ttv-boxart/1826300051_IGDB-{width}x{height}.jpg",
         "338067",
         "2025-06-13T03:59:24.408797"
        ],
        [
         "32399",
         "Counter-Strike",
         "https://static-cdn.jtvnw.net/ttv-boxart/32399-{width}x{height}.jpg",
         "",
         "2025-06-13T03:59:24.408797"
        ],
        [
         "982348888",
         "Elden Ring: Nightreign",
         "https://static-cdn.jtvnw.net/ttv-boxart/982348888_IGDB-{width}x{height}.jpg",
         "325591",
         "2025-06-13T03:59:24.408797"
        ],
        [
         "1987896617",
         "Dune: Awakening",
         "https://static-cdn.jtvnw.net/ttv-boxart/1987896617_IGDB-{width}x{height}.jpg",
         "214394",
         "2025-06-13T03:59:24.408797"
        ],
        [
         "491487",
         "Dead by Daylight",
         "https://static-cdn.jtvnw.net/ttv-boxart/491487-{width}x{height}.jpg",
         "18866",
         "2025-06-13T03:59:24.408797"
        ],
        [
         "512710",
         "Call of Duty: Warzone",
         "https://static-cdn.jtvnw.net/ttv-boxart/512710-{width}x{height}.jpg",
         "131800",
         "2025-06-13T03:59:24.408797"
        ],
        [
         "36799602",
         "Clair Obscur: Expedition 33",
         "https://static-cdn.jtvnw.net/ttv-boxart/36799602_IGDB-{width}x{height}.jpg",
         "305152",
         "2025-06-13T03:59:24.408797"
        ],
        [
         "1264310518",
         "Marvel Rivals",
         "https://static-cdn.jtvnw.net/ttv-boxart/1264310518_IGDB-{width}x{height}.jpg",
         "294041",
         "2025-06-13T03:59:24.408797"
        ],
        [
         "29595",
         "Dota 2",
         "https://static-cdn.jtvnw.net/ttv-boxart/29595-{width}x{height}.jpg",
         "",
         "2025-06-13T03:59:24.408797"
        ],
        [
         "27471",
         "Minecraft",
         "https://static-cdn.jtvnw.net/ttv-boxart/27471_IGDB-{width}x{height}.jpg",
         "135400",
         "2025-06-13T03:59:24.408797"
        ],
        [
         "511224",
         "Apex Legends",
         "https://static-cdn.jtvnw.net/ttv-boxart/511224-{width}x{height}.jpg",
         "114795",
         "2025-06-13T03:59:24.408797"
        ],
        [
         "509659",
         "ASMR",
         "https://static-cdn.jtvnw.net/ttv-boxart/509659-{width}x{height}.jpg",
         "",
         "2025-06-13T03:59:24.408797"
        ],
        [
         "21779",
         "League of Legends",
         "https://static-cdn.jtvnw.net/ttv-boxart/21779-{width}x{height}.jpg",
         "115",
         "2025-06-13T04:14:17.630351"
        ],
        [
         "32982",
         "Grand Theft Auto V",
         "https://static-cdn.jtvnw.net/ttv-boxart/32982_IGDB-{width}x{height}.jpg",
         "1020",
         "2025-06-13T04:14:17.630351"
        ],
        [
         "488820",
         "Stranded Deep",
         "https://static-cdn.jtvnw.net/ttv-boxart/488820_IGDB-{width}x{height}.jpg",
         "8751",
         "2025-06-13T04:14:17.630351"
        ],
        [
         "516575",
         "VALORANT",
         "https://static-cdn.jtvnw.net/ttv-boxart/516575-{width}x{height}.jpg",
         "126459",
         "2025-06-13T04:14:17.630351"
        ],
        [
         "460630",
         "Tom Clancy's Rainbow Six Siege X",
         "https://static-cdn.jtvnw.net/ttv-boxart/460630-{width}x{height}.jpg",
         "7360",
         "2025-06-13T04:14:17.630351"
        ],
        [
         "33214",
         "Fortnite",
         "https://static-cdn.jtvnw.net/ttv-boxart/33214-{width}x{height}.jpg",
         "1905",
         "2025-06-13T04:14:17.630351"
        ],
        [
         "1826300051",
         "Mario Kart World",
         "https://static-cdn.jtvnw.net/ttv-boxart/1826300051_IGDB-{width}x{height}.jpg",
         "338067",
         "2025-06-13T04:14:17.630351"
        ],
        [
         "32399",
         "Counter-Strike",
         "https://static-cdn.jtvnw.net/ttv-boxart/32399-{width}x{height}.jpg",
         "",
         "2025-06-13T04:14:17.630351"
        ],
        [
         "982348888",
         "Elden Ring: Nightreign",
         "https://static-cdn.jtvnw.net/ttv-boxart/982348888_IGDB-{width}x{height}.jpg",
         "325591",
         "2025-06-13T04:14:17.630351"
        ],
        [
         "1987896617",
         "Dune: Awakening",
         "https://static-cdn.jtvnw.net/ttv-boxart/1987896617_IGDB-{width}x{height}.jpg",
         "214394",
         "2025-06-13T04:14:17.630351"
        ],
        [
         "491487",
         "Dead by Daylight",
         "https://static-cdn.jtvnw.net/ttv-boxart/491487-{width}x{height}.jpg",
         "18866",
         "2025-06-13T04:14:17.630351"
        ],
        [
         "512710",
         "Call of Duty: Warzone",
         "https://static-cdn.jtvnw.net/ttv-boxart/512710-{width}x{height}.jpg",
         "131800",
         "2025-06-13T04:14:17.630351"
        ],
        [
         "36799602",
         "Clair Obscur: Expedition 33",
         "https://static-cdn.jtvnw.net/ttv-boxart/36799602_IGDB-{width}x{height}.jpg",
         "305152",
         "2025-06-13T04:14:17.630351"
        ],
        [
         "1264310518",
         "Marvel Rivals",
         "https://static-cdn.jtvnw.net/ttv-boxart/1264310518_IGDB-{width}x{height}.jpg",
         "294041",
         "2025-06-13T04:14:17.630351"
        ],
        [
         "29595",
         "Dota 2",
         "https://static-cdn.jtvnw.net/ttv-boxart/29595-{width}x{height}.jpg",
         "",
         "2025-06-13T04:14:17.630351"
        ],
        [
         "511224",
         "Apex Legends",
         "https://static-cdn.jtvnw.net/ttv-boxart/511224-{width}x{height}.jpg",
         "114795",
         "2025-06-13T04:14:17.630351"
        ],
        [
         "27471",
         "Minecraft",
         "https://static-cdn.jtvnw.net/ttv-boxart/27471_IGDB-{width}x{height}.jpg",
         "135400",
         "2025-06-13T04:14:17.630351"
        ],
        [
         "509659",
         "ASMR",
         "https://static-cdn.jtvnw.net/ttv-boxart/509659-{width}x{height}.jpg",
         "",
         "2025-06-13T04:14:17.630351"
        ],
        [
         "32982",
         "Grand Theft Auto V",
         "https://static-cdn.jtvnw.net/ttv-boxart/32982_IGDB-{width}x{height}.jpg",
         "1020",
         "2025-06-13T04:04:47.091808"
        ],
        [
         "21779",
         "League of Legends",
         "https://static-cdn.jtvnw.net/ttv-boxart/21779-{width}x{height}.jpg",
         "115",
         "2025-06-13T04:04:47.091808"
        ],
        [
         "460630",
         "Tom Clancy's Rainbow Six Siege X",
         "https://static-cdn.jtvnw.net/ttv-boxart/460630-{width}x{height}.jpg",
         "7360",
         "2025-06-13T04:04:47.091808"
        ],
        [
         "488820",
         "Stranded Deep",
         "https://static-cdn.jtvnw.net/ttv-boxart/488820_IGDB-{width}x{height}.jpg",
         "8751",
         "2025-06-13T04:04:47.091808"
        ],
        [
         "516575",
         "VALORANT",
         "https://static-cdn.jtvnw.net/ttv-boxart/516575-{width}x{height}.jpg",
         "126459",
         "2025-06-13T04:04:47.091808"
        ],
        [
         "33214",
         "Fortnite",
         "https://static-cdn.jtvnw.net/ttv-boxart/33214-{width}x{height}.jpg",
         "1905",
         "2025-06-13T04:04:47.091808"
        ],
        [
         "32399",
         "Counter-Strike",
         "https://static-cdn.jtvnw.net/ttv-boxart/32399-{width}x{height}.jpg",
         "",
         "2025-06-13T04:04:47.091808"
        ],
        [
         "1826300051",
         "Mario Kart World",
         "https://static-cdn.jtvnw.net/ttv-boxart/1826300051_IGDB-{width}x{height}.jpg",
         "338067",
         "2025-06-13T04:04:47.091808"
        ],
        [
         "982348888",
         "Elden Ring: Nightreign",
         "https://static-cdn.jtvnw.net/ttv-boxart/982348888_IGDB-{width}x{height}.jpg",
         "325591",
         "2025-06-13T04:04:47.091808"
        ],
        [
         "1987896617",
         "Dune: Awakening",
         "https://static-cdn.jtvnw.net/ttv-boxart/1987896617_IGDB-{width}x{height}.jpg",
         "214394",
         "2025-06-13T04:04:47.091808"
        ],
        [
         "491487",
         "Dead by Daylight",
         "https://static-cdn.jtvnw.net/ttv-boxart/491487-{width}x{height}.jpg",
         "18866",
         "2025-06-13T04:04:47.091808"
        ],
        [
         "512710",
         "Call of Duty: Warzone",
         "https://static-cdn.jtvnw.net/ttv-boxart/512710-{width}x{height}.jpg",
         "131800",
         "2025-06-13T04:04:47.091808"
        ],
        [
         "36799602",
         "Clair Obscur: Expedition 33",
         "https://static-cdn.jtvnw.net/ttv-boxart/36799602_IGDB-{width}x{height}.jpg",
         "305152",
         "2025-06-13T04:04:47.091808"
        ],
        [
         "29595",
         "Dota 2",
         "https://static-cdn.jtvnw.net/ttv-boxart/29595-{width}x{height}.jpg",
         "",
         "2025-06-13T04:04:47.091808"
        ],
        [
         "1264310518",
         "Marvel Rivals",
         "https://static-cdn.jtvnw.net/ttv-boxart/1264310518_IGDB-{width}x{height}.jpg",
         "294041",
         "2025-06-13T04:04:47.091808"
        ],
        [
         "27471",
         "Minecraft",
         "https://static-cdn.jtvnw.net/ttv-boxart/27471_IGDB-{width}x{height}.jpg",
         "135400",
         "2025-06-13T04:04:47.091808"
        ],
        [
         "511224",
         "Apex Legends",
         "https://static-cdn.jtvnw.net/ttv-boxart/511224-{width}x{height}.jpg",
         "114795",
         "2025-06-13T04:04:47.091808"
        ],
        [
         "509659",
         "ASMR",
         "https://static-cdn.jtvnw.net/ttv-boxart/509659-{width}x{height}.jpg",
         "",
         "2025-06-13T04:04:47.091808"
        ],
        [
         "32982",
         "Grand Theft Auto V",
         "https://static-cdn.jtvnw.net/ttv-boxart/32982_IGDB-{width}x{height}.jpg",
         "1020",
         "2025-06-13T04:02:40.540434"
        ],
        [
         "21779",
         "League of Legends",
         "https://static-cdn.jtvnw.net/ttv-boxart/21779-{width}x{height}.jpg",
         "115",
         "2025-06-13T04:02:40.540434"
        ],
        [
         "460630",
         "Tom Clancy's Rainbow Six Siege X",
         "https://static-cdn.jtvnw.net/ttv-boxart/460630-{width}x{height}.jpg",
         "7360",
         "2025-06-13T04:02:40.540434"
        ],
        [
         "488820",
         "Stranded Deep",
         "https://static-cdn.jtvnw.net/ttv-boxart/488820_IGDB-{width}x{height}.jpg",
         "8751",
         "2025-06-13T04:02:40.540434"
        ],
        [
         "516575",
         "VALORANT",
         "https://static-cdn.jtvnw.net/ttv-boxart/516575-{width}x{height}.jpg",
         "126459",
         "2025-06-13T04:02:40.540434"
        ],
        [
         "33214",
         "Fortnite",
         "https://static-cdn.jtvnw.net/ttv-boxart/33214-{width}x{height}.jpg",
         "1905",
         "2025-06-13T04:02:40.540434"
        ],
        [
         "32399",
         "Counter-Strike",
         "https://static-cdn.jtvnw.net/ttv-boxart/32399-{width}x{height}.jpg",
         "",
         "2025-06-13T04:02:40.540434"
        ],
        [
         "1826300051",
         "Mario Kart World",
         "https://static-cdn.jtvnw.net/ttv-boxart/1826300051_IGDB-{width}x{height}.jpg",
         "338067",
         "2025-06-13T04:02:40.540434"
        ],
        [
         "982348888",
         "Elden Ring: Nightreign",
         "https://static-cdn.jtvnw.net/ttv-boxart/982348888_IGDB-{width}x{height}.jpg",
         "325591",
         "2025-06-13T04:02:40.540434"
        ],
        [
         "1987896617",
         "Dune: Awakening",
         "https://static-cdn.jtvnw.net/ttv-boxart/1987896617_IGDB-{width}x{height}.jpg",
         "214394",
         "2025-06-13T04:02:40.540434"
        ],
        [
         "491487",
         "Dead by Daylight",
         "https://static-cdn.jtvnw.net/ttv-boxart/491487-{width}x{height}.jpg",
         "18866",
         "2025-06-13T04:02:40.540434"
        ],
        [
         "512710",
         "Call of Duty: Warzone",
         "https://static-cdn.jtvnw.net/ttv-boxart/512710-{width}x{height}.jpg",
         "131800",
         "2025-06-13T04:02:40.540434"
        ],
        [
         "36799602",
         "Clair Obscur: Expedition 33",
         "https://static-cdn.jtvnw.net/ttv-boxart/36799602_IGDB-{width}x{height}.jpg",
         "305152",
         "2025-06-13T04:02:40.540434"
        ],
        [
         "29595",
         "Dota 2",
         "https://static-cdn.jtvnw.net/ttv-boxart/29595-{width}x{height}.jpg",
         "",
         "2025-06-13T04:02:40.540434"
        ],
        [
         "1264310518",
         "Marvel Rivals",
         "https://static-cdn.jtvnw.net/ttv-boxart/1264310518_IGDB-{width}x{height}.jpg",
         "294041",
         "2025-06-13T04:02:40.540434"
        ],
        [
         "27471",
         "Minecraft",
         "https://static-cdn.jtvnw.net/ttv-boxart/27471_IGDB-{width}x{height}.jpg",
         "135400",
         "2025-06-13T04:02:40.540434"
        ],
        [
         "511224",
         "Apex Legends",
         "https://static-cdn.jtvnw.net/ttv-boxart/511224-{width}x{height}.jpg",
         "114795",
         "2025-06-13T04:02:40.540434"
        ],
        [
         "509659",
         "ASMR",
         "https://static-cdn.jtvnw.net/ttv-boxart/509659-{width}x{height}.jpg",
         "",
         "2025-06-13T04:02:40.540434"
        ],
        [
         "21779",
         "League of Legends",
         "https://static-cdn.jtvnw.net/ttv-boxart/21779-{width}x{height}.jpg",
         "115",
         "2025-06-13T04:20:41.930625"
        ],
        [
         "488820",
         "Stranded Deep",
         "https://static-cdn.jtvnw.net/ttv-boxart/488820_IGDB-{width}x{height}.jpg",
         "8751",
         "2025-06-13T04:20:41.930625"
        ],
        [
         "32982",
         "Grand Theft Auto V",
         "https://static-cdn.jtvnw.net/ttv-boxart/32982_IGDB-{width}x{height}.jpg",
         "1020",
         "2025-06-13T04:20:41.930625"
        ],
        [
         "516575",
         "VALORANT",
         "https://static-cdn.jtvnw.net/ttv-boxart/516575-{width}x{height}.jpg",
         "126459",
         "2025-06-13T04:20:41.930625"
        ],
        [
         "460630",
         "Tom Clancy's Rainbow Six Siege X",
         "https://static-cdn.jtvnw.net/ttv-boxart/460630-{width}x{height}.jpg",
         "7360",
         "2025-06-13T04:20:41.930625"
        ],
        [
         "33214",
         "Fortnite",
         "https://static-cdn.jtvnw.net/ttv-boxart/33214-{width}x{height}.jpg",
         "1905",
         "2025-06-13T04:20:41.930625"
        ],
        [
         "32399",
         "Counter-Strike",
         "https://static-cdn.jtvnw.net/ttv-boxart/32399-{width}x{height}.jpg",
         "",
         "2025-06-13T04:20:41.930625"
        ],
        [
         "1826300051",
         "Mario Kart World",
         "https://static-cdn.jtvnw.net/ttv-boxart/1826300051_IGDB-{width}x{height}.jpg",
         "338067",
         "2025-06-13T04:20:41.930625"
        ],
        [
         "1987896617",
         "Dune: Awakening",
         "https://static-cdn.jtvnw.net/ttv-boxart/1987896617_IGDB-{width}x{height}.jpg",
         "214394",
         "2025-06-13T04:20:41.930625"
        ],
        [
         "491487",
         "Dead by Daylight",
         "https://static-cdn.jtvnw.net/ttv-boxart/491487-{width}x{height}.jpg",
         "18866",
         "2025-06-13T04:20:41.930625"
        ],
        [
         "512710",
         "Call of Duty: Warzone",
         "https://static-cdn.jtvnw.net/ttv-boxart/512710-{width}x{height}.jpg",
         "131800",
         "2025-06-13T04:20:41.930625"
        ],
        [
         "982348888",
         "Elden Ring: Nightreign",
         "https://static-cdn.jtvnw.net/ttv-boxart/982348888_IGDB-{width}x{height}.jpg",
         "325591",
         "2025-06-13T04:20:41.930625"
        ],
        [
         "29595",
         "Dota 2",
         "https://static-cdn.jtvnw.net/ttv-boxart/29595-{width}x{height}.jpg",
         "",
         "2025-06-13T04:20:41.930625"
        ],
        [
         "36799602",
         "Clair Obscur: Expedition 33",
         "https://static-cdn.jtvnw.net/ttv-boxart/36799602_IGDB-{width}x{height}.jpg",
         "305152",
         "2025-06-13T04:20:41.930625"
        ],
        [
         "1264310518",
         "Marvel Rivals",
         "https://static-cdn.jtvnw.net/ttv-boxart/1264310518_IGDB-{width}x{height}.jpg",
         "294041",
         "2025-06-13T04:20:41.930625"
        ],
        [
         "511224",
         "Apex Legends",
         "https://static-cdn.jtvnw.net/ttv-boxart/511224-{width}x{height}.jpg",
         "114795",
         "2025-06-13T04:20:41.930625"
        ],
        [
         "27471",
         "Minecraft",
         "https://static-cdn.jtvnw.net/ttv-boxart/27471_IGDB-{width}x{height}.jpg",
         "135400",
         "2025-06-13T04:20:41.930625"
        ],
        [
         "509659",
         "ASMR",
         "https://static-cdn.jtvnw.net/ttv-boxart/509659-{width}x{height}.jpg",
         "",
         "2025-06-13T04:20:41.930625"
        ],
        [
         "21779",
         "League of Legends",
         "https://static-cdn.jtvnw.net/ttv-boxart/21779-{width}x{height}.jpg",
         "115",
         "2025-06-13T04:21:46.762120"
        ],
        [
         "488820",
         "Stranded Deep",
         "https://static-cdn.jtvnw.net/ttv-boxart/488820_IGDB-{width}x{height}.jpg",
         "8751",
         "2025-06-13T04:21:46.762120"
        ],
        [
         "32982",
         "Grand Theft Auto V",
         "https://static-cdn.jtvnw.net/ttv-boxart/32982_IGDB-{width}x{height}.jpg",
         "1020",
         "2025-06-13T04:21:46.762120"
        ],
        [
         "516575",
         "VALORANT",
         "https://static-cdn.jtvnw.net/ttv-boxart/516575-{width}x{height}.jpg",
         "126459",
         "2025-06-13T04:21:46.762120"
        ],
        [
         "460630",
         "Tom Clancy's Rainbow Six Siege X",
         "https://static-cdn.jtvnw.net/ttv-boxart/460630-{width}x{height}.jpg",
         "7360",
         "2025-06-13T04:21:46.762120"
        ],
        [
         "33214",
         "Fortnite",
         "https://static-cdn.jtvnw.net/ttv-boxart/33214-{width}x{height}.jpg",
         "1905",
         "2025-06-13T04:21:46.762120"
        ],
        [
         "32399",
         "Counter-Strike",
         "https://static-cdn.jtvnw.net/ttv-boxart/32399-{width}x{height}.jpg",
         "",
         "2025-06-13T04:21:46.762120"
        ],
        [
         "1826300051",
         "Mario Kart World",
         "https://static-cdn.jtvnw.net/ttv-boxart/1826300051_IGDB-{width}x{height}.jpg",
         "338067",
         "2025-06-13T04:21:46.762120"
        ],
        [
         "1987896617",
         "Dune: Awakening",
         "https://static-cdn.jtvnw.net/ttv-boxart/1987896617_IGDB-{width}x{height}.jpg",
         "214394",
         "2025-06-13T04:21:46.762120"
        ],
        [
         "491487",
         "Dead by Daylight",
         "https://static-cdn.jtvnw.net/ttv-boxart/491487-{width}x{height}.jpg",
         "18866",
         "2025-06-13T04:21:46.762120"
        ],
        [
         "512710",
         "Call of Duty: Warzone",
         "https://static-cdn.jtvnw.net/ttv-boxart/512710-{width}x{height}.jpg",
         "131800",
         "2025-06-13T04:21:46.762120"
        ],
        [
         "982348888",
         "Elden Ring: Nightreign",
         "https://static-cdn.jtvnw.net/ttv-boxart/982348888_IGDB-{width}x{height}.jpg",
         "325591",
         "2025-06-13T04:21:46.762120"
        ],
        [
         "29595",
         "Dota 2",
         "https://static-cdn.jtvnw.net/ttv-boxart/29595-{width}x{height}.jpg",
         "",
         "2025-06-13T04:21:46.762120"
        ],
        [
         "36799602",
         "Clair Obscur: Expedition 33",
         "https://static-cdn.jtvnw.net/ttv-boxart/36799602_IGDB-{width}x{height}.jpg",
         "305152",
         "2025-06-13T04:21:46.762120"
        ],
        [
         "1264310518",
         "Marvel Rivals",
         "https://static-cdn.jtvnw.net/ttv-boxart/1264310518_IGDB-{width}x{height}.jpg",
         "294041",
         "2025-06-13T04:21:46.762120"
        ],
        [
         "511224",
         "Apex Legends",
         "https://static-cdn.jtvnw.net/ttv-boxart/511224-{width}x{height}.jpg",
         "114795",
         "2025-06-13T04:21:46.762120"
        ],
        [
         "27471",
         "Minecraft",
         "https://static-cdn.jtvnw.net/ttv-boxart/27471_IGDB-{width}x{height}.jpg",
         "135400",
         "2025-06-13T04:21:46.762120"
        ],
        [
         "509659",
         "ASMR",
         "https://static-cdn.jtvnw.net/ttv-boxart/509659-{width}x{height}.jpg",
         "",
         "2025-06-13T04:21:46.762120"
        ],
        [
         "21779",
         "League of Legends",
         "https://static-cdn.jtvnw.net/ttv-boxart/21779-{width}x{height}.jpg",
         "115",
         "2025-06-13T04:11:08.494688"
        ],
        [
         "32982",
         "Grand Theft Auto V",
         "https://static-cdn.jtvnw.net/ttv-boxart/32982_IGDB-{width}x{height}.jpg",
         "1020",
         "2025-06-13T04:11:08.494688"
        ],
        [
         "488820",
         "Stranded Deep",
         "https://static-cdn.jtvnw.net/ttv-boxart/488820_IGDB-{width}x{height}.jpg",
         "8751",
         "2025-06-13T04:11:08.494688"
        ],
        [
         "460630",
         "Tom Clancy's Rainbow Six Siege X",
         "https://static-cdn.jtvnw.net/ttv-boxart/460630-{width}x{height}.jpg",
         "7360",
         "2025-06-13T04:11:08.494688"
        ],
        [
         "516575",
         "VALORANT",
         "https://static-cdn.jtvnw.net/ttv-boxart/516575-{width}x{height}.jpg",
         "126459",
         "2025-06-13T04:11:08.494688"
        ],
        [
         "33214",
         "Fortnite",
         "https://static-cdn.jtvnw.net/ttv-boxart/33214-{width}x{height}.jpg",
         "1905",
         "2025-06-13T04:11:08.494688"
        ],
        [
         "1826300051",
         "Mario Kart World",
         "https://static-cdn.jtvnw.net/ttv-boxart/1826300051_IGDB-{width}x{height}.jpg",
         "338067",
         "2025-06-13T04:11:08.494688"
        ],
        [
         "32399",
         "Counter-Strike",
         "https://static-cdn.jtvnw.net/ttv-boxart/32399-{width}x{height}.jpg",
         "",
         "2025-06-13T04:11:08.494688"
        ],
        [
         "982348888",
         "Elden Ring: Nightreign",
         "https://static-cdn.jtvnw.net/ttv-boxart/982348888_IGDB-{width}x{height}.jpg",
         "325591",
         "2025-06-13T04:11:08.494688"
        ],
        [
         "1987896617",
         "Dune: Awakening",
         "https://static-cdn.jtvnw.net/ttv-boxart/1987896617_IGDB-{width}x{height}.jpg",
         "214394",
         "2025-06-13T04:11:08.494688"
        ],
        [
         "491487",
         "Dead by Daylight",
         "https://static-cdn.jtvnw.net/ttv-boxart/491487-{width}x{height}.jpg",
         "18866",
         "2025-06-13T04:11:08.494688"
        ],
        [
         "512710",
         "Call of Duty: Warzone",
         "https://static-cdn.jtvnw.net/ttv-boxart/512710-{width}x{height}.jpg",
         "131800",
         "2025-06-13T04:11:08.494688"
        ],
        [
         "36799602",
         "Clair Obscur: Expedition 33",
         "https://static-cdn.jtvnw.net/ttv-boxart/36799602_IGDB-{width}x{height}.jpg",
         "305152",
         "2025-06-13T04:11:08.494688"
        ],
        [
         "1264310518",
         "Marvel Rivals",
         "https://static-cdn.jtvnw.net/ttv-boxart/1264310518_IGDB-{width}x{height}.jpg",
         "294041",
         "2025-06-13T04:11:08.494688"
        ],
        [
         "29595",
         "Dota 2",
         "https://static-cdn.jtvnw.net/ttv-boxart/29595-{width}x{height}.jpg",
         "",
         "2025-06-13T04:11:08.494688"
        ],
        [
         "511224",
         "Apex Legends",
         "https://static-cdn.jtvnw.net/ttv-boxart/511224-{width}x{height}.jpg",
         "114795",
         "2025-06-13T04:11:08.494688"
        ],
        [
         "27471",
         "Minecraft",
         "https://static-cdn.jtvnw.net/ttv-boxart/27471_IGDB-{width}x{height}.jpg",
         "135400",
         "2025-06-13T04:11:08.494688"
        ],
        [
         "509659",
         "ASMR",
         "https://static-cdn.jtvnw.net/ttv-boxart/509659-{width}x{height}.jpg",
         "",
         "2025-06-13T04:11:08.494688"
        ],
        [
         "21779",
         "League of Legends",
         "https://static-cdn.jtvnw.net/ttv-boxart/21779-{width}x{height}.jpg",
         "115",
         "2025-06-13T04:24:57.422144"
        ],
        [
         "32982",
         "Grand Theft Auto V",
         "https://static-cdn.jtvnw.net/ttv-boxart/32982_IGDB-{width}x{height}.jpg",
         "1020",
         "2025-06-13T04:24:57.422144"
        ],
        [
         "488820",
         "Stranded Deep",
         "https://static-cdn.jtvnw.net/ttv-boxart/488820_IGDB-{width}x{height}.jpg",
         "8751",
         "2025-06-13T04:24:57.422144"
        ],
        [
         "516575",
         "VALORANT",
         "https://static-cdn.jtvnw.net/ttv-boxart/516575-{width}x{height}.jpg",
         "126459",
         "2025-06-13T04:24:57.422144"
        ],
        [
         "460630",
         "Tom Clancy's Rainbow Six Siege X",
         "https://static-cdn.jtvnw.net/ttv-boxart/460630-{width}x{height}.jpg",
         "7360",
         "2025-06-13T04:24:57.422144"
        ],
        [
         "33214",
         "Fortnite",
         "https://static-cdn.jtvnw.net/ttv-boxart/33214-{width}x{height}.jpg",
         "1905",
         "2025-06-13T04:24:57.422144"
        ],
        [
         "32399",
         "Counter-Strike",
         "https://static-cdn.jtvnw.net/ttv-boxart/32399-{width}x{height}.jpg",
         "",
         "2025-06-13T04:24:57.422144"
        ],
        [
         "1826300051",
         "Mario Kart World",
         "https://static-cdn.jtvnw.net/ttv-boxart/1826300051_IGDB-{width}x{height}.jpg",
         "338067",
         "2025-06-13T04:24:57.422144"
        ],
        [
         "1987896617",
         "Dune: Awakening",
         "https://static-cdn.jtvnw.net/ttv-boxart/1987896617_IGDB-{width}x{height}.jpg",
         "214394",
         "2025-06-13T04:24:57.422144"
        ],
        [
         "491487",
         "Dead by Daylight",
         "https://static-cdn.jtvnw.net/ttv-boxart/491487-{width}x{height}.jpg",
         "18866",
         "2025-06-13T04:24:57.422144"
        ],
        [
         "512710",
         "Call of Duty: Warzone",
         "https://static-cdn.jtvnw.net/ttv-boxart/512710-{width}x{height}.jpg",
         "131800",
         "2025-06-13T04:24:57.422144"
        ],
        [
         "982348888",
         "Elden Ring: Nightreign",
         "https://static-cdn.jtvnw.net/ttv-boxart/982348888_IGDB-{width}x{height}.jpg",
         "325591",
         "2025-06-13T04:24:57.422144"
        ],
        [
         "29595",
         "Dota 2",
         "https://static-cdn.jtvnw.net/ttv-boxart/29595-{width}x{height}.jpg",
         "",
         "2025-06-13T04:24:57.422144"
        ],
        [
         "36799602",
         "Clair Obscur: Expedition 33",
         "https://static-cdn.jtvnw.net/ttv-boxart/36799602_IGDB-{width}x{height}.jpg",
         "305152",
         "2025-06-13T04:24:57.422144"
        ],
        [
         "1264310518",
         "Marvel Rivals",
         "https://static-cdn.jtvnw.net/ttv-boxart/1264310518_IGDB-{width}x{height}.jpg",
         "294041",
         "2025-06-13T04:24:57.422144"
        ],
        [
         "511224",
         "Apex Legends",
         "https://static-cdn.jtvnw.net/ttv-boxart/511224-{width}x{height}.jpg",
         "114795",
         "2025-06-13T04:24:57.422144"
        ],
        [
         "27471",
         "Minecraft",
         "https://static-cdn.jtvnw.net/ttv-boxart/27471_IGDB-{width}x{height}.jpg",
         "135400",
         "2025-06-13T04:24:57.422144"
        ],
        [
         "509659",
         "ASMR",
         "https://static-cdn.jtvnw.net/ttv-boxart/509659-{width}x{height}.jpg",
         "",
         "2025-06-13T04:24:57.422144"
        ],
        [
         "21779",
         "League of Legends",
         "https://static-cdn.jtvnw.net/ttv-boxart/21779-{width}x{height}.jpg",
         "115",
         "2025-06-13T04:26:01.358334"
        ],
        [
         "32982",
         "Grand Theft Auto V",
         "https://static-cdn.jtvnw.net/ttv-boxart/32982_IGDB-{width}x{height}.jpg",
         "1020",
         "2025-06-13T04:26:01.358334"
        ],
        [
         "488820",
         "Stranded Deep",
         "https://static-cdn.jtvnw.net/ttv-boxart/488820_IGDB-{width}x{height}.jpg",
         "8751",
         "2025-06-13T04:26:01.358334"
        ],
        [
         "516575",
         "VALORANT",
         "https://static-cdn.jtvnw.net/ttv-boxart/516575-{width}x{height}.jpg",
         "126459",
         "2025-06-13T04:26:01.358334"
        ],
        [
         "460630",
         "Tom Clancy's Rainbow Six Siege X",
         "https://static-cdn.jtvnw.net/ttv-boxart/460630-{width}x{height}.jpg",
         "7360",
         "2025-06-13T04:26:01.358334"
        ],
        [
         "33214",
         "Fortnite",
         "https://static-cdn.jtvnw.net/ttv-boxart/33214-{width}x{height}.jpg",
         "1905",
         "2025-06-13T04:26:01.358334"
        ],
        [
         "32399",
         "Counter-Strike",
         "https://static-cdn.jtvnw.net/ttv-boxart/32399-{width}x{height}.jpg",
         "",
         "2025-06-13T04:26:01.358334"
        ],
        [
         "1826300051",
         "Mario Kart World",
         "https://static-cdn.jtvnw.net/ttv-boxart/1826300051_IGDB-{width}x{height}.jpg",
         "338067",
         "2025-06-13T04:26:01.358334"
        ],
        [
         "1987896617",
         "Dune: Awakening",
         "https://static-cdn.jtvnw.net/ttv-boxart/1987896617_IGDB-{width}x{height}.jpg",
         "214394",
         "2025-06-13T04:26:01.358334"
        ],
        [
         "491487",
         "Dead by Daylight",
         "https://static-cdn.jtvnw.net/ttv-boxart/491487-{width}x{height}.jpg",
         "18866",
         "2025-06-13T04:26:01.358334"
        ],
        [
         "512710",
         "Call of Duty: Warzone",
         "https://static-cdn.jtvnw.net/ttv-boxart/512710-{width}x{height}.jpg",
         "131800",
         "2025-06-13T04:26:01.358334"
        ],
        [
         "982348888",
         "Elden Ring: Nightreign",
         "https://static-cdn.jtvnw.net/ttv-boxart/982348888_IGDB-{width}x{height}.jpg",
         "325591",
         "2025-06-13T04:26:01.358334"
        ],
        [
         "29595",
         "Dota 2",
         "https://static-cdn.jtvnw.net/ttv-boxart/29595-{width}x{height}.jpg",
         "",
         "2025-06-13T04:26:01.358334"
        ],
        [
         "36799602",
         "Clair Obscur: Expedition 33",
         "https://static-cdn.jtvnw.net/ttv-boxart/36799602_IGDB-{width}x{height}.jpg",
         "305152",
         "2025-06-13T04:26:01.358334"
        ],
        [
         "1264310518",
         "Marvel Rivals",
         "https://static-cdn.jtvnw.net/ttv-boxart/1264310518_IGDB-{width}x{height}.jpg",
         "294041",
         "2025-06-13T04:26:01.358334"
        ],
        [
         "511224",
         "Apex Legends",
         "https://static-cdn.jtvnw.net/ttv-boxart/511224-{width}x{height}.jpg",
         "114795",
         "2025-06-13T04:26:01.358334"
        ],
        [
         "27471",
         "Minecraft",
         "https://static-cdn.jtvnw.net/ttv-boxart/27471_IGDB-{width}x{height}.jpg",
         "135400",
         "2025-06-13T04:26:01.358334"
        ],
        [
         "509659",
         "ASMR",
         "https://static-cdn.jtvnw.net/ttv-boxart/509659-{width}x{height}.jpg",
         "",
         "2025-06-13T04:26:01.358334"
        ],
        [
         "21779",
         "League of Legends",
         "https://static-cdn.jtvnw.net/ttv-boxart/21779-{width}x{height}.jpg",
         "115",
         "2025-06-13T04:22:50.590949"
        ],
        [
         "32982",
         "Grand Theft Auto V",
         "https://static-cdn.jtvnw.net/ttv-boxart/32982_IGDB-{width}x{height}.jpg",
         "1020",
         "2025-06-13T04:22:50.590949"
        ],
        [
         "488820",
         "Stranded Deep",
         "https://static-cdn.jtvnw.net/ttv-boxart/488820_IGDB-{width}x{height}.jpg",
         "8751",
         "2025-06-13T04:22:50.590949"
        ],
        [
         "516575",
         "VALORANT",
         "https://static-cdn.jtvnw.net/ttv-boxart/516575-{width}x{height}.jpg",
         "126459",
         "2025-06-13T04:22:50.590949"
        ],
        [
         "460630",
         "Tom Clancy's Rainbow Six Siege X",
         "https://static-cdn.jtvnw.net/ttv-boxart/460630-{width}x{height}.jpg",
         "7360",
         "2025-06-13T04:22:50.590949"
        ],
        [
         "33214",
         "Fortnite",
         "https://static-cdn.jtvnw.net/ttv-boxart/33214-{width}x{height}.jpg",
         "1905",
         "2025-06-13T04:22:50.590949"
        ],
        [
         "32399",
         "Counter-Strike",
         "https://static-cdn.jtvnw.net/ttv-boxart/32399-{width}x{height}.jpg",
         "",
         "2025-06-13T04:22:50.590949"
        ],
        [
         "1826300051",
         "Mario Kart World",
         "https://static-cdn.jtvnw.net/ttv-boxart/1826300051_IGDB-{width}x{height}.jpg",
         "338067",
         "2025-06-13T04:22:50.590949"
        ],
        [
         "1987896617",
         "Dune: Awakening",
         "https://static-cdn.jtvnw.net/ttv-boxart/1987896617_IGDB-{width}x{height}.jpg",
         "214394",
         "2025-06-13T04:22:50.590949"
        ],
        [
         "491487",
         "Dead by Daylight",
         "https://static-cdn.jtvnw.net/ttv-boxart/491487-{width}x{height}.jpg",
         "18866",
         "2025-06-13T04:22:50.590949"
        ],
        [
         "512710",
         "Call of Duty: Warzone",
         "https://static-cdn.jtvnw.net/ttv-boxart/512710-{width}x{height}.jpg",
         "131800",
         "2025-06-13T04:22:50.590949"
        ],
        [
         "982348888",
         "Elden Ring: Nightreign",
         "https://static-cdn.jtvnw.net/ttv-boxart/982348888_IGDB-{width}x{height}.jpg",
         "325591",
         "2025-06-13T04:22:50.590949"
        ],
        [
         "29595",
         "Dota 2",
         "https://static-cdn.jtvnw.net/ttv-boxart/29595-{width}x{height}.jpg",
         "",
         "2025-06-13T04:22:50.590949"
        ],
        [
         "36799602",
         "Clair Obscur: Expedition 33",
         "https://static-cdn.jtvnw.net/ttv-boxart/36799602_IGDB-{width}x{height}.jpg",
         "305152",
         "2025-06-13T04:22:50.590949"
        ],
        [
         "1264310518",
         "Marvel Rivals",
         "https://static-cdn.jtvnw.net/ttv-boxart/1264310518_IGDB-{width}x{height}.jpg",
         "294041",
         "2025-06-13T04:22:50.590949"
        ],
        [
         "511224",
         "Apex Legends",
         "https://static-cdn.jtvnw.net/ttv-boxart/511224-{width}x{height}.jpg",
         "114795",
         "2025-06-13T04:22:50.590949"
        ],
        [
         "27471",
         "Minecraft",
         "https://static-cdn.jtvnw.net/ttv-boxart/27471_IGDB-{width}x{height}.jpg",
         "135400",
         "2025-06-13T04:22:50.590949"
        ],
        [
         "509659",
         "ASMR",
         "https://static-cdn.jtvnw.net/ttv-boxart/509659-{width}x{height}.jpg",
         "",
         "2025-06-13T04:22:50.590949"
        ],
        [
         "32982",
         "Grand Theft Auto V",
         "https://static-cdn.jtvnw.net/ttv-boxart/32982_IGDB-{width}x{height}.jpg",
         "1020",
         "2025-06-13T04:03:43.648052"
        ],
        [
         "21779",
         "League of Legends",
         "https://static-cdn.jtvnw.net/ttv-boxart/21779-{width}x{height}.jpg",
         "115",
         "2025-06-13T04:03:43.648052"
        ],
        [
         "460630",
         "Tom Clancy's Rainbow Six Siege X",
         "https://static-cdn.jtvnw.net/ttv-boxart/460630-{width}x{height}.jpg",
         "7360",
         "2025-06-13T04:03:43.648052"
        ],
        [
         "488820",
         "Stranded Deep",
         "https://static-cdn.jtvnw.net/ttv-boxart/488820_IGDB-{width}x{height}.jpg",
         "8751",
         "2025-06-13T04:03:43.648052"
        ],
        [
         "516575",
         "VALORANT",
         "https://static-cdn.jtvnw.net/ttv-boxart/516575-{width}x{height}.jpg",
         "126459",
         "2025-06-13T04:03:43.648052"
        ],
        [
         "33214",
         "Fortnite",
         "https://static-cdn.jtvnw.net/ttv-boxart/33214-{width}x{height}.jpg",
         "1905",
         "2025-06-13T04:03:43.648052"
        ],
        [
         "32399",
         "Counter-Strike",
         "https://static-cdn.jtvnw.net/ttv-boxart/32399-{width}x{height}.jpg",
         "",
         "2025-06-13T04:03:43.648052"
        ],
        [
         "1826300051",
         "Mario Kart World",
         "https://static-cdn.jtvnw.net/ttv-boxart/1826300051_IGDB-{width}x{height}.jpg",
         "338067",
         "2025-06-13T04:03:43.648052"
        ],
        [
         "982348888",
         "Elden Ring: Nightreign",
         "https://static-cdn.jtvnw.net/ttv-boxart/982348888_IGDB-{width}x{height}.jpg",
         "325591",
         "2025-06-13T04:03:43.648052"
        ],
        [
         "1987896617",
         "Dune: Awakening",
         "https://static-cdn.jtvnw.net/ttv-boxart/1987896617_IGDB-{width}x{height}.jpg",
         "214394",
         "2025-06-13T04:03:43.648052"
        ],
        [
         "491487",
         "Dead by Daylight",
         "https://static-cdn.jtvnw.net/ttv-boxart/491487-{width}x{height}.jpg",
         "18866",
         "2025-06-13T04:03:43.648052"
        ],
        [
         "512710",
         "Call of Duty: Warzone",
         "https://static-cdn.jtvnw.net/ttv-boxart/512710-{width}x{height}.jpg",
         "131800",
         "2025-06-13T04:03:43.648052"
        ],
        [
         "36799602",
         "Clair Obscur: Expedition 33",
         "https://static-cdn.jtvnw.net/ttv-boxart/36799602_IGDB-{width}x{height}.jpg",
         "305152",
         "2025-06-13T04:03:43.648052"
        ],
        [
         "29595",
         "Dota 2",
         "https://static-cdn.jtvnw.net/ttv-boxart/29595-{width}x{height}.jpg",
         "",
         "2025-06-13T04:03:43.648052"
        ],
        [
         "1264310518",
         "Marvel Rivals",
         "https://static-cdn.jtvnw.net/ttv-boxart/1264310518_IGDB-{width}x{height}.jpg",
         "294041",
         "2025-06-13T04:03:43.648052"
        ],
        [
         "27471",
         "Minecraft",
         "https://static-cdn.jtvnw.net/ttv-boxart/27471_IGDB-{width}x{height}.jpg",
         "135400",
         "2025-06-13T04:03:43.648052"
        ],
        [
         "511224",
         "Apex Legends",
         "https://static-cdn.jtvnw.net/ttv-boxart/511224-{width}x{height}.jpg",
         "114795",
         "2025-06-13T04:03:43.648052"
        ],
        [
         "509659",
         "ASMR",
         "https://static-cdn.jtvnw.net/ttv-boxart/509659-{width}x{height}.jpg",
         "",
         "2025-06-13T04:03:43.648052"
        ],
        [
         "21779",
         "League of Legends",
         "https://static-cdn.jtvnw.net/ttv-boxart/21779-{width}x{height}.jpg",
         "115",
         "2025-06-13T04:12:11.207826"
        ],
        [
         "32982",
         "Grand Theft Auto V",
         "https://static-cdn.jtvnw.net/ttv-boxart/32982_IGDB-{width}x{height}.jpg",
         "1020",
         "2025-06-13T04:12:11.207826"
        ],
        [
         "460630",
         "Tom Clancy's Rainbow Six Siege X",
         "https://static-cdn.jtvnw.net/ttv-boxart/460630-{width}x{height}.jpg",
         "7360",
         "2025-06-13T04:12:11.207826"
        ],
        [
         "488820",
         "Stranded Deep",
         "https://static-cdn.jtvnw.net/ttv-boxart/488820_IGDB-{width}x{height}.jpg",
         "8751",
         "2025-06-13T04:12:11.207826"
        ],
        [
         "516575",
         "VALORANT",
         "https://static-cdn.jtvnw.net/ttv-boxart/516575-{width}x{height}.jpg",
         "126459",
         "2025-06-13T04:12:11.207826"
        ],
        [
         "33214",
         "Fortnite",
         "https://static-cdn.jtvnw.net/ttv-boxart/33214-{width}x{height}.jpg",
         "1905",
         "2025-06-13T04:12:11.207826"
        ],
        [
         "1826300051",
         "Mario Kart World",
         "https://static-cdn.jtvnw.net/ttv-boxart/1826300051_IGDB-{width}x{height}.jpg",
         "338067",
         "2025-06-13T04:12:11.207826"
        ],
        [
         "32399",
         "Counter-Strike",
         "https://static-cdn.jtvnw.net/ttv-boxart/32399-{width}x{height}.jpg",
         "",
         "2025-06-13T04:12:11.207826"
        ],
        [
         "982348888",
         "Elden Ring: Nightreign",
         "https://static-cdn.jtvnw.net/ttv-boxart/982348888_IGDB-{width}x{height}.jpg",
         "325591",
         "2025-06-13T04:12:11.207826"
        ],
        [
         "1987896617",
         "Dune: Awakening",
         "https://static-cdn.jtvnw.net/ttv-boxart/1987896617_IGDB-{width}x{height}.jpg",
         "214394",
         "2025-06-13T04:12:11.207826"
        ],
        [
         "491487",
         "Dead by Daylight",
         "https://static-cdn.jtvnw.net/ttv-boxart/491487-{width}x{height}.jpg",
         "18866",
         "2025-06-13T04:12:11.207826"
        ],
        [
         "512710",
         "Call of Duty: Warzone",
         "https://static-cdn.jtvnw.net/ttv-boxart/512710-{width}x{height}.jpg",
         "131800",
         "2025-06-13T04:12:11.207826"
        ],
        [
         "36799602",
         "Clair Obscur: Expedition 33",
         "https://static-cdn.jtvnw.net/ttv-boxart/36799602_IGDB-{width}x{height}.jpg",
         "305152",
         "2025-06-13T04:12:11.207826"
        ],
        [
         "1264310518",
         "Marvel Rivals",
         "https://static-cdn.jtvnw.net/ttv-boxart/1264310518_IGDB-{width}x{height}.jpg",
         "294041",
         "2025-06-13T04:12:11.207826"
        ],
        [
         "29595",
         "Dota 2",
         "https://static-cdn.jtvnw.net/ttv-boxart/29595-{width}x{height}.jpg",
         "",
         "2025-06-13T04:12:11.207826"
        ],
        [
         "511224",
         "Apex Legends",
         "https://static-cdn.jtvnw.net/ttv-boxart/511224-{width}x{height}.jpg",
         "114795",
         "2025-06-13T04:12:11.207826"
        ],
        [
         "27471",
         "Minecraft",
         "https://static-cdn.jtvnw.net/ttv-boxart/27471_IGDB-{width}x{height}.jpg",
         "135400",
         "2025-06-13T04:12:11.207826"
        ],
        [
         "509659",
         "ASMR",
         "https://static-cdn.jtvnw.net/ttv-boxart/509659-{width}x{height}.jpg",
         "",
         "2025-06-13T04:12:11.207826"
        ],
        [
         "21779",
         "League of Legends",
         "https://static-cdn.jtvnw.net/ttv-boxart/21779-{width}x{height}.jpg",
         "115",
         "2025-06-13T04:19:38.005836"
        ],
        [
         "488820",
         "Stranded Deep",
         "https://static-cdn.jtvnw.net/ttv-boxart/488820_IGDB-{width}x{height}.jpg",
         "8751",
         "2025-06-13T04:19:38.005836"
        ],
        [
         "32982",
         "Grand Theft Auto V",
         "https://static-cdn.jtvnw.net/ttv-boxart/32982_IGDB-{width}x{height}.jpg",
         "1020",
         "2025-06-13T04:19:38.005836"
        ],
        [
         "516575",
         "VALORANT",
         "https://static-cdn.jtvnw.net/ttv-boxart/516575-{width}x{height}.jpg",
         "126459",
         "2025-06-13T04:19:38.005836"
        ],
        [
         "460630",
         "Tom Clancy's Rainbow Six Siege X",
         "https://static-cdn.jtvnw.net/ttv-boxart/460630-{width}x{height}.jpg",
         "7360",
         "2025-06-13T04:19:38.005836"
        ],
        [
         "33214",
         "Fortnite",
         "https://static-cdn.jtvnw.net/ttv-boxart/33214-{width}x{height}.jpg",
         "1905",
         "2025-06-13T04:19:38.005836"
        ],
        [
         "32399",
         "Counter-Strike",
         "https://static-cdn.jtvnw.net/ttv-boxart/32399-{width}x{height}.jpg",
         "",
         "2025-06-13T04:19:38.005836"
        ],
        [
         "1826300051",
         "Mario Kart World",
         "https://static-cdn.jtvnw.net/ttv-boxart/1826300051_IGDB-{width}x{height}.jpg",
         "338067",
         "2025-06-13T04:19:38.005836"
        ],
        [
         "1987896617",
         "Dune: Awakening",
         "https://static-cdn.jtvnw.net/ttv-boxart/1987896617_IGDB-{width}x{height}.jpg",
         "214394",
         "2025-06-13T04:19:38.005836"
        ],
        [
         "512710",
         "Call of Duty: Warzone",
         "https://static-cdn.jtvnw.net/ttv-boxart/512710-{width}x{height}.jpg",
         "131800",
         "2025-06-13T04:19:38.005836"
        ],
        [
         "491487",
         "Dead by Daylight",
         "https://static-cdn.jtvnw.net/ttv-boxart/491487-{width}x{height}.jpg",
         "18866",
         "2025-06-13T04:19:38.005836"
        ],
        [
         "982348888",
         "Elden Ring: Nightreign",
         "https://static-cdn.jtvnw.net/ttv-boxart/982348888_IGDB-{width}x{height}.jpg",
         "325591",
         "2025-06-13T04:19:38.005836"
        ],
        [
         "36799602",
         "Clair Obscur: Expedition 33",
         "https://static-cdn.jtvnw.net/ttv-boxart/36799602_IGDB-{width}x{height}.jpg",
         "305152",
         "2025-06-13T04:19:38.005836"
        ],
        [
         "1264310518",
         "Marvel Rivals",
         "https://static-cdn.jtvnw.net/ttv-boxart/1264310518_IGDB-{width}x{height}.jpg",
         "294041",
         "2025-06-13T04:19:38.005836"
        ],
        [
         "29595",
         "Dota 2",
         "https://static-cdn.jtvnw.net/ttv-boxart/29595-{width}x{height}.jpg",
         "",
         "2025-06-13T04:19:38.005836"
        ],
        [
         "511224",
         "Apex Legends",
         "https://static-cdn.jtvnw.net/ttv-boxart/511224-{width}x{height}.jpg",
         "114795",
         "2025-06-13T04:19:38.005836"
        ],
        [
         "27471",
         "Minecraft",
         "https://static-cdn.jtvnw.net/ttv-boxart/27471_IGDB-{width}x{height}.jpg",
         "135400",
         "2025-06-13T04:19:38.005836"
        ],
        [
         "509659",
         "ASMR",
         "https://static-cdn.jtvnw.net/ttv-boxart/509659-{width}x{height}.jpg",
         "",
         "2025-06-13T04:19:38.005836"
        ],
        [
         "21779",
         "League of Legends",
         "https://static-cdn.jtvnw.net/ttv-boxart/21779-{width}x{height}.jpg",
         "115",
         "2025-06-13T04:13:14.878744"
        ],
        [
         "32982",
         "Grand Theft Auto V",
         "https://static-cdn.jtvnw.net/ttv-boxart/32982_IGDB-{width}x{height}.jpg",
         "1020",
         "2025-06-13T04:13:14.878744"
        ],
        [
         "460630",
         "Tom Clancy's Rainbow Six Siege X",
         "https://static-cdn.jtvnw.net/ttv-boxart/460630-{width}x{height}.jpg",
         "7360",
         "2025-06-13T04:13:14.878744"
        ],
        [
         "488820",
         "Stranded Deep",
         "https://static-cdn.jtvnw.net/ttv-boxart/488820_IGDB-{width}x{height}.jpg",
         "8751",
         "2025-06-13T04:13:14.878744"
        ],
        [
         "516575",
         "VALORANT",
         "https://static-cdn.jtvnw.net/ttv-boxart/516575-{width}x{height}.jpg",
         "126459",
         "2025-06-13T04:13:14.878744"
        ],
        [
         "33214",
         "Fortnite",
         "https://static-cdn.jtvnw.net/ttv-boxart/33214-{width}x{height}.jpg",
         "1905",
         "2025-06-13T04:13:14.878744"
        ],
        [
         "1826300051",
         "Mario Kart World",
         "https://static-cdn.jtvnw.net/ttv-boxart/1826300051_IGDB-{width}x{height}.jpg",
         "338067",
         "2025-06-13T04:13:14.878744"
        ],
        [
         "32399",
         "Counter-Strike",
         "https://static-cdn.jtvnw.net/ttv-boxart/32399-{width}x{height}.jpg",
         "",
         "2025-06-13T04:13:14.878744"
        ],
        [
         "982348888",
         "Elden Ring: Nightreign",
         "https://static-cdn.jtvnw.net/ttv-boxart/982348888_IGDB-{width}x{height}.jpg",
         "325591",
         "2025-06-13T04:13:14.878744"
        ],
        [
         "1987896617",
         "Dune: Awakening",
         "https://static-cdn.jtvnw.net/ttv-boxart/1987896617_IGDB-{width}x{height}.jpg",
         "214394",
         "2025-06-13T04:13:14.878744"
        ],
        [
         "512710",
         "Call of Duty: Warzone",
         "https://static-cdn.jtvnw.net/ttv-boxart/512710-{width}x{height}.jpg",
         "131800",
         "2025-06-13T04:13:14.878744"
        ],
        [
         "491487",
         "Dead by Daylight",
         "https://static-cdn.jtvnw.net/ttv-boxart/491487-{width}x{height}.jpg",
         "18866",
         "2025-06-13T04:13:14.878744"
        ],
        [
         "36799602",
         "Clair Obscur: Expedition 33",
         "https://static-cdn.jtvnw.net/ttv-boxart/36799602_IGDB-{width}x{height}.jpg",
         "305152",
         "2025-06-13T04:13:14.878744"
        ],
        [
         "1264310518",
         "Marvel Rivals",
         "https://static-cdn.jtvnw.net/ttv-boxart/1264310518_IGDB-{width}x{height}.jpg",
         "294041",
         "2025-06-13T04:13:14.878744"
        ],
        [
         "29595",
         "Dota 2",
         "https://static-cdn.jtvnw.net/ttv-boxart/29595-{width}x{height}.jpg",
         "",
         "2025-06-13T04:13:14.878744"
        ],
        [
         "511224",
         "Apex Legends",
         "https://static-cdn.jtvnw.net/ttv-boxart/511224-{width}x{height}.jpg",
         "114795",
         "2025-06-13T04:13:14.878744"
        ],
        [
         "27471",
         "Minecraft",
         "https://static-cdn.jtvnw.net/ttv-boxart/27471_IGDB-{width}x{height}.jpg",
         "135400",
         "2025-06-13T04:13:14.878744"
        ],
        [
         "509659",
         "ASMR",
         "https://static-cdn.jtvnw.net/ttv-boxart/509659-{width}x{height}.jpg",
         "",
         "2025-06-13T04:13:14.878744"
        ],
        [
         "21779",
         "League of Legends",
         "https://static-cdn.jtvnw.net/ttv-boxart/21779-{width}x{height}.jpg",
         "115",
         "2025-06-13T04:18:34.136917"
        ],
        [
         "32982",
         "Grand Theft Auto V",
         "https://static-cdn.jtvnw.net/ttv-boxart/32982_IGDB-{width}x{height}.jpg",
         "1020",
         "2025-06-13T04:18:34.136917"
        ],
        [
         "488820",
         "Stranded Deep",
         "https://static-cdn.jtvnw.net/ttv-boxart/488820_IGDB-{width}x{height}.jpg",
         "8751",
         "2025-06-13T04:18:34.136917"
        ],
        [
         "516575",
         "VALORANT",
         "https://static-cdn.jtvnw.net/ttv-boxart/516575-{width}x{height}.jpg",
         "126459",
         "2025-06-13T04:18:34.136917"
        ],
        [
         "460630",
         "Tom Clancy's Rainbow Six Siege X",
         "https://static-cdn.jtvnw.net/ttv-boxart/460630-{width}x{height}.jpg",
         "7360",
         "2025-06-13T04:18:34.136917"
        ],
        [
         "33214",
         "Fortnite",
         "https://static-cdn.jtvnw.net/ttv-boxart/33214-{width}x{height}.jpg",
         "1905",
         "2025-06-13T04:18:34.136917"
        ],
        [
         "32399",
         "Counter-Strike",
         "https://static-cdn.jtvnw.net/ttv-boxart/32399-{width}x{height}.jpg",
         "",
         "2025-06-13T04:18:34.136917"
        ],
        [
         "1826300051",
         "Mario Kart World",
         "https://static-cdn.jtvnw.net/ttv-boxart/1826300051_IGDB-{width}x{height}.jpg",
         "338067",
         "2025-06-13T04:18:34.136917"
        ],
        [
         "1987896617",
         "Dune: Awakening",
         "https://static-cdn.jtvnw.net/ttv-boxart/1987896617_IGDB-{width}x{height}.jpg",
         "214394",
         "2025-06-13T04:18:34.136917"
        ],
        [
         "491487",
         "Dead by Daylight",
         "https://static-cdn.jtvnw.net/ttv-boxart/491487-{width}x{height}.jpg",
         "18866",
         "2025-06-13T04:18:34.136917"
        ],
        [
         "512710",
         "Call of Duty: Warzone",
         "https://static-cdn.jtvnw.net/ttv-boxart/512710-{width}x{height}.jpg",
         "131800",
         "2025-06-13T04:18:34.136917"
        ],
        [
         "982348888",
         "Elden Ring: Nightreign",
         "https://static-cdn.jtvnw.net/ttv-boxart/982348888_IGDB-{width}x{height}.jpg",
         "325591",
         "2025-06-13T04:18:34.136917"
        ],
        [
         "36799602",
         "Clair Obscur: Expedition 33",
         "https://static-cdn.jtvnw.net/ttv-boxart/36799602_IGDB-{width}x{height}.jpg",
         "305152",
         "2025-06-13T04:18:34.136917"
        ],
        [
         "29595",
         "Dota 2",
         "https://static-cdn.jtvnw.net/ttv-boxart/29595-{width}x{height}.jpg",
         "",
         "2025-06-13T04:18:34.136917"
        ],
        [
         "1264310518",
         "Marvel Rivals",
         "https://static-cdn.jtvnw.net/ttv-boxart/1264310518_IGDB-{width}x{height}.jpg",
         "294041",
         "2025-06-13T04:18:34.136917"
        ],
        [
         "511224",
         "Apex Legends",
         "https://static-cdn.jtvnw.net/ttv-boxart/511224-{width}x{height}.jpg",
         "114795",
         "2025-06-13T04:18:34.136917"
        ],
        [
         "27471",
         "Minecraft",
         "https://static-cdn.jtvnw.net/ttv-boxart/27471_IGDB-{width}x{height}.jpg",
         "135400",
         "2025-06-13T04:18:34.136917"
        ],
        [
         "509659",
         "ASMR",
         "https://static-cdn.jtvnw.net/ttv-boxart/509659-{width}x{height}.jpg",
         "",
         "2025-06-13T04:18:34.136917"
        ],
        [
         "21779",
         "League of Legends",
         "https://static-cdn.jtvnw.net/ttv-boxart/21779-{width}x{height}.jpg",
         "115",
         "2025-06-13T04:15:23.021885"
        ],
        [
         "32982",
         "Grand Theft Auto V",
         "https://static-cdn.jtvnw.net/ttv-boxart/32982_IGDB-{width}x{height}.jpg",
         "1020",
         "2025-06-13T04:15:23.021885"
        ],
        [
         "488820",
         "Stranded Deep",
         "https://static-cdn.jtvnw.net/ttv-boxart/488820_IGDB-{width}x{height}.jpg",
         "8751",
         "2025-06-13T04:15:23.021885"
        ],
        [
         "516575",
         "VALORANT",
         "https://static-cdn.jtvnw.net/ttv-boxart/516575-{width}x{height}.jpg",
         "126459",
         "2025-06-13T04:15:23.021885"
        ],
        [
         "460630",
         "Tom Clancy's Rainbow Six Siege X",
         "https://static-cdn.jtvnw.net/ttv-boxart/460630-{width}x{height}.jpg",
         "7360",
         "2025-06-13T04:15:23.021885"
        ],
        [
         "33214",
         "Fortnite",
         "https://static-cdn.jtvnw.net/ttv-boxart/33214-{width}x{height}.jpg",
         "1905",
         "2025-06-13T04:15:23.021885"
        ],
        [
         "1826300051",
         "Mario Kart World",
         "https://static-cdn.jtvnw.net/ttv-boxart/1826300051_IGDB-{width}x{height}.jpg",
         "338067",
         "2025-06-13T04:15:23.021885"
        ],
        [
         "32399",
         "Counter-Strike",
         "https://static-cdn.jtvnw.net/ttv-boxart/32399-{width}x{height}.jpg",
         "",
         "2025-06-13T04:15:23.021885"
        ],
        [
         "982348888",
         "Elden Ring: Nightreign",
         "https://static-cdn.jtvnw.net/ttv-boxart/982348888_IGDB-{width}x{height}.jpg",
         "325591",
         "2025-06-13T04:15:23.021885"
        ],
        [
         "1987896617",
         "Dune: Awakening",
         "https://static-cdn.jtvnw.net/ttv-boxart/1987896617_IGDB-{width}x{height}.jpg",
         "214394",
         "2025-06-13T04:15:23.021885"
        ],
        [
         "512710",
         "Call of Duty: Warzone",
         "https://static-cdn.jtvnw.net/ttv-boxart/512710-{width}x{height}.jpg",
         "131800",
         "2025-06-13T04:15:23.021885"
        ],
        [
         "491487",
         "Dead by Daylight",
         "https://static-cdn.jtvnw.net/ttv-boxart/491487-{width}x{height}.jpg",
         "18866",
         "2025-06-13T04:15:23.021885"
        ],
        [
         "36799602",
         "Clair Obscur: Expedition 33",
         "https://static-cdn.jtvnw.net/ttv-boxart/36799602_IGDB-{width}x{height}.jpg",
         "305152",
         "2025-06-13T04:15:23.021885"
        ],
        [
         "1264310518",
         "Marvel Rivals",
         "https://static-cdn.jtvnw.net/ttv-boxart/1264310518_IGDB-{width}x{height}.jpg",
         "294041",
         "2025-06-13T04:15:23.021885"
        ],
        [
         "29595",
         "Dota 2",
         "https://static-cdn.jtvnw.net/ttv-boxart/29595-{width}x{height}.jpg",
         "",
         "2025-06-13T04:15:23.021885"
        ],
        [
         "511224",
         "Apex Legends",
         "https://static-cdn.jtvnw.net/ttv-boxart/511224-{width}x{height}.jpg",
         "114795",
         "2025-06-13T04:15:23.021885"
        ],
        [
         "27471",
         "Minecraft",
         "https://static-cdn.jtvnw.net/ttv-boxart/27471_IGDB-{width}x{height}.jpg",
         "135400",
         "2025-06-13T04:15:23.021885"
        ],
        [
         "509659",
         "ASMR",
         "https://static-cdn.jtvnw.net/ttv-boxart/509659-{width}x{height}.jpg",
         "",
         "2025-06-13T04:15:23.021885"
        ],
        [
         "21779",
         "League of Legends",
         "https://static-cdn.jtvnw.net/ttv-boxart/21779-{width}x{height}.jpg",
         "115",
         "2025-06-13T04:16:26.568917"
        ],
        [
         "32982",
         "Grand Theft Auto V",
         "https://static-cdn.jtvnw.net/ttv-boxart/32982_IGDB-{width}x{height}.jpg",
         "1020",
         "2025-06-13T04:16:26.568917"
        ],
        [
         "488820",
         "Stranded Deep",
         "https://static-cdn.jtvnw.net/ttv-boxart/488820_IGDB-{width}x{height}.jpg",
         "8751",
         "2025-06-13T04:16:26.568917"
        ],
        [
         "516575",
         "VALORANT",
         "https://static-cdn.jtvnw.net/ttv-boxart/516575-{width}x{height}.jpg",
         "126459",
         "2025-06-13T04:16:26.568917"
        ],
        [
         "460630",
         "Tom Clancy's Rainbow Six Siege X",
         "https://static-cdn.jtvnw.net/ttv-boxart/460630-{width}x{height}.jpg",
         "7360",
         "2025-06-13T04:16:26.568917"
        ],
        [
         "33214",
         "Fortnite",
         "https://static-cdn.jtvnw.net/ttv-boxart/33214-{width}x{height}.jpg",
         "1905",
         "2025-06-13T04:16:26.568917"
        ],
        [
         "32399",
         "Counter-Strike",
         "https://static-cdn.jtvnw.net/ttv-boxart/32399-{width}x{height}.jpg",
         "",
         "2025-06-13T04:16:26.568917"
        ],
        [
         "1826300051",
         "Mario Kart World",
         "https://static-cdn.jtvnw.net/ttv-boxart/1826300051_IGDB-{width}x{height}.jpg",
         "338067",
         "2025-06-13T04:16:26.568917"
        ],
        [
         "982348888",
         "Elden Ring: Nightreign",
         "https://static-cdn.jtvnw.net/ttv-boxart/982348888_IGDB-{width}x{height}.jpg",
         "325591",
         "2025-06-13T04:16:26.568917"
        ],
        [
         "1987896617",
         "Dune: Awakening",
         "https://static-cdn.jtvnw.net/ttv-boxart/1987896617_IGDB-{width}x{height}.jpg",
         "214394",
         "2025-06-13T04:16:26.568917"
        ],
        [
         "512710",
         "Call of Duty: Warzone",
         "https://static-cdn.jtvnw.net/ttv-boxart/512710-{width}x{height}.jpg",
         "131800",
         "2025-06-13T04:16:26.568917"
        ],
        [
         "491487",
         "Dead by Daylight",
         "https://static-cdn.jtvnw.net/ttv-boxart/491487-{width}x{height}.jpg",
         "18866",
         "2025-06-13T04:16:26.568917"
        ],
        [
         "36799602",
         "Clair Obscur: Expedition 33",
         "https://static-cdn.jtvnw.net/ttv-boxart/36799602_IGDB-{width}x{height}.jpg",
         "305152",
         "2025-06-13T04:16:26.568917"
        ],
        [
         "29595",
         "Dota 2",
         "https://static-cdn.jtvnw.net/ttv-boxart/29595-{width}x{height}.jpg",
         "",
         "2025-06-13T04:16:26.568917"
        ],
        [
         "1264310518",
         "Marvel Rivals",
         "https://static-cdn.jtvnw.net/ttv-boxart/1264310518_IGDB-{width}x{height}.jpg",
         "294041",
         "2025-06-13T04:16:26.568917"
        ],
        [
         "511224",
         "Apex Legends",
         "https://static-cdn.jtvnw.net/ttv-boxart/511224-{width}x{height}.jpg",
         "114795",
         "2025-06-13T04:16:26.568917"
        ],
        [
         "27471",
         "Minecraft",
         "https://static-cdn.jtvnw.net/ttv-boxart/27471_IGDB-{width}x{height}.jpg",
         "135400",
         "2025-06-13T04:16:26.568917"
        ],
        [
         "509659",
         "ASMR",
         "https://static-cdn.jtvnw.net/ttv-boxart/509659-{width}x{height}.jpg",
         "",
         "2025-06-13T04:16:26.568917"
        ],
        [
         "21779",
         "League of Legends",
         "https://static-cdn.jtvnw.net/ttv-boxart/21779-{width}x{height}.jpg",
         "115",
         "2025-06-13T04:17:31.110012"
        ],
        [
         "32982",
         "Grand Theft Auto V",
         "https://static-cdn.jtvnw.net/ttv-boxart/32982_IGDB-{width}x{height}.jpg",
         "1020",
         "2025-06-13T04:17:31.110012"
        ],
        [
         "488820",
         "Stranded Deep",
         "https://static-cdn.jtvnw.net/ttv-boxart/488820_IGDB-{width}x{height}.jpg",
         "8751",
         "2025-06-13T04:17:31.110012"
        ],
        [
         "516575",
         "VALORANT",
         "https://static-cdn.jtvnw.net/ttv-boxart/516575-{width}x{height}.jpg",
         "126459",
         "2025-06-13T04:17:31.110012"
        ],
        [
         "460630",
         "Tom Clancy's Rainbow Six Siege X",
         "https://static-cdn.jtvnw.net/ttv-boxart/460630-{width}x{height}.jpg",
         "7360",
         "2025-06-13T04:17:31.110012"
        ],
        [
         "33214",
         "Fortnite",
         "https://static-cdn.jtvnw.net/ttv-boxart/33214-{width}x{height}.jpg",
         "1905",
         "2025-06-13T04:17:31.110012"
        ],
        [
         "32399",
         "Counter-Strike",
         "https://static-cdn.jtvnw.net/ttv-boxart/32399-{width}x{height}.jpg",
         "",
         "2025-06-13T04:17:31.110012"
        ],
        [
         "1826300051",
         "Mario Kart World",
         "https://static-cdn.jtvnw.net/ttv-boxart/1826300051_IGDB-{width}x{height}.jpg",
         "338067",
         "2025-06-13T04:17:31.110012"
        ],
        [
         "982348888",
         "Elden Ring: Nightreign",
         "https://static-cdn.jtvnw.net/ttv-boxart/982348888_IGDB-{width}x{height}.jpg",
         "325591",
         "2025-06-13T04:17:31.110012"
        ],
        [
         "1987896617",
         "Dune: Awakening",
         "https://static-cdn.jtvnw.net/ttv-boxart/1987896617_IGDB-{width}x{height}.jpg",
         "214394",
         "2025-06-13T04:17:31.110012"
        ],
        [
         "512710",
         "Call of Duty: Warzone",
         "https://static-cdn.jtvnw.net/ttv-boxart/512710-{width}x{height}.jpg",
         "131800",
         "2025-06-13T04:17:31.110012"
        ],
        [
         "491487",
         "Dead by Daylight",
         "https://static-cdn.jtvnw.net/ttv-boxart/491487-{width}x{height}.jpg",
         "18866",
         "2025-06-13T04:17:31.110012"
        ],
        [
         "36799602",
         "Clair Obscur: Expedition 33",
         "https://static-cdn.jtvnw.net/ttv-boxart/36799602_IGDB-{width}x{height}.jpg",
         "305152",
         "2025-06-13T04:17:31.110012"
        ],
        [
         "29595",
         "Dota 2",
         "https://static-cdn.jtvnw.net/ttv-boxart/29595-{width}x{height}.jpg",
         "",
         "2025-06-13T04:17:31.110012"
        ],
        [
         "1264310518",
         "Marvel Rivals",
         "https://static-cdn.jtvnw.net/ttv-boxart/1264310518_IGDB-{width}x{height}.jpg",
         "294041",
         "2025-06-13T04:17:31.110012"
        ],
        [
         "511224",
         "Apex Legends",
         "https://static-cdn.jtvnw.net/ttv-boxart/511224-{width}x{height}.jpg",
         "114795",
         "2025-06-13T04:17:31.110012"
        ],
        [
         "27471",
         "Minecraft",
         "https://static-cdn.jtvnw.net/ttv-boxart/27471_IGDB-{width}x{height}.jpg",
         "135400",
         "2025-06-13T04:17:31.110012"
        ],
        [
         "509659",
         "ASMR",
         "https://static-cdn.jtvnw.net/ttv-boxart/509659-{width}x{height}.jpg",
         "",
         "2025-06-13T04:17:31.110012"
        ],
        [
         "21779",
         "League of Legends",
         "https://static-cdn.jtvnw.net/ttv-boxart/21779-{width}x{height}.jpg",
         "115",
         "2025-06-13T04:27:04.145185"
        ],
        [
         "32982",
         "Grand Theft Auto V",
         "https://static-cdn.jtvnw.net/ttv-boxart/32982_IGDB-{width}x{height}.jpg",
         "1020",
         "2025-06-13T04:27:04.145185"
        ],
        [
         "488820",
         "Stranded Deep",
         "https://static-cdn.jtvnw.net/ttv-boxart/488820_IGDB-{width}x{height}.jpg",
         "8751",
         "2025-06-13T04:27:04.145185"
        ],
        [
         "516575",
         "VALORANT",
         "https://static-cdn.jtvnw.net/ttv-boxart/516575-{width}x{height}.jpg",
         "126459",
         "2025-06-13T04:27:04.145185"
        ],
        [
         "460630",
         "Tom Clancy's Rainbow Six Siege X",
         "https://static-cdn.jtvnw.net/ttv-boxart/460630-{width}x{height}.jpg",
         "7360",
         "2025-06-13T04:27:04.145185"
        ],
        [
         "33214",
         "Fortnite",
         "https://static-cdn.jtvnw.net/ttv-boxart/33214-{width}x{height}.jpg",
         "1905",
         "2025-06-13T04:27:04.145185"
        ],
        [
         "32399",
         "Counter-Strike",
         "https://static-cdn.jtvnw.net/ttv-boxart/32399-{width}x{height}.jpg",
         "",
         "2025-06-13T04:27:04.145185"
        ],
        [
         "1826300051",
         "Mario Kart World",
         "https://static-cdn.jtvnw.net/ttv-boxart/1826300051_IGDB-{width}x{height}.jpg",
         "338067",
         "2025-06-13T04:27:04.145185"
        ],
        [
         "1987896617",
         "Dune: Awakening",
         "https://static-cdn.jtvnw.net/ttv-boxart/1987896617_IGDB-{width}x{height}.jpg",
         "214394",
         "2025-06-13T04:27:04.145185"
        ],
        [
         "491487",
         "Dead by Daylight",
         "https://static-cdn.jtvnw.net/ttv-boxart/491487-{width}x{height}.jpg",
         "18866",
         "2025-06-13T04:27:04.145185"
        ],
        [
         "982348888",
         "Elden Ring: Nightreign",
         "https://static-cdn.jtvnw.net/ttv-boxart/982348888_IGDB-{width}x{height}.jpg",
         "325591",
         "2025-06-13T04:27:04.145185"
        ],
        [
         "512710",
         "Call of Duty: Warzone",
         "https://static-cdn.jtvnw.net/ttv-boxart/512710-{width}x{height}.jpg",
         "131800",
         "2025-06-13T04:27:04.145185"
        ],
        [
         "29595",
         "Dota 2",
         "https://static-cdn.jtvnw.net/ttv-boxart/29595-{width}x{height}.jpg",
         "",
         "2025-06-13T04:27:04.145185"
        ],
        [
         "36799602",
         "Clair Obscur: Expedition 33",
         "https://static-cdn.jtvnw.net/ttv-boxart/36799602_IGDB-{width}x{height}.jpg",
         "305152",
         "2025-06-13T04:27:04.145185"
        ],
        [
         "1264310518",
         "Marvel Rivals",
         "https://static-cdn.jtvnw.net/ttv-boxart/1264310518_IGDB-{width}x{height}.jpg",
         "294041",
         "2025-06-13T04:27:04.145185"
        ],
        [
         "511224",
         "Apex Legends",
         "https://static-cdn.jtvnw.net/ttv-boxart/511224-{width}x{height}.jpg",
         "114795",
         "2025-06-13T04:27:04.145185"
        ],
        [
         "27471",
         "Minecraft",
         "https://static-cdn.jtvnw.net/ttv-boxart/27471_IGDB-{width}x{height}.jpg",
         "135400",
         "2025-06-13T04:27:04.145185"
        ],
        [
         "509659",
         "ASMR",
         "https://static-cdn.jtvnw.net/ttv-boxart/509659-{width}x{height}.jpg",
         "",
         "2025-06-13T04:27:04.145185"
        ],
        [
         "21779",
         "League of Legends",
         "https://static-cdn.jtvnw.net/ttv-boxart/21779-{width}x{height}.jpg",
         "115",
         "2025-06-13T04:23:54.263951"
        ],
        [
         "32982",
         "Grand Theft Auto V",
         "https://static-cdn.jtvnw.net/ttv-boxart/32982_IGDB-{width}x{height}.jpg",
         "1020",
         "2025-06-13T04:23:54.263951"
        ],
        [
         "488820",
         "Stranded Deep",
         "https://static-cdn.jtvnw.net/ttv-boxart/488820_IGDB-{width}x{height}.jpg",
         "8751",
         "2025-06-13T04:23:54.263951"
        ],
        [
         "516575",
         "VALORANT",
         "https://static-cdn.jtvnw.net/ttv-boxart/516575-{width}x{height}.jpg",
         "126459",
         "2025-06-13T04:23:54.263951"
        ],
        [
         "460630",
         "Tom Clancy's Rainbow Six Siege X",
         "https://static-cdn.jtvnw.net/ttv-boxart/460630-{width}x{height}.jpg",
         "7360",
         "2025-06-13T04:23:54.263951"
        ],
        [
         "33214",
         "Fortnite",
         "https://static-cdn.jtvnw.net/ttv-boxart/33214-{width}x{height}.jpg",
         "1905",
         "2025-06-13T04:23:54.263951"
        ],
        [
         "32399",
         "Counter-Strike",
         "https://static-cdn.jtvnw.net/ttv-boxart/32399-{width}x{height}.jpg",
         "",
         "2025-06-13T04:23:54.263951"
        ],
        [
         "1826300051",
         "Mario Kart World",
         "https://static-cdn.jtvnw.net/ttv-boxart/1826300051_IGDB-{width}x{height}.jpg",
         "338067",
         "2025-06-13T04:23:54.263951"
        ],
        [
         "1987896617",
         "Dune: Awakening",
         "https://static-cdn.jtvnw.net/ttv-boxart/1987896617_IGDB-{width}x{height}.jpg",
         "214394",
         "2025-06-13T04:23:54.263951"
        ],
        [
         "491487",
         "Dead by Daylight",
         "https://static-cdn.jtvnw.net/ttv-boxart/491487-{width}x{height}.jpg",
         "18866",
         "2025-06-13T04:23:54.263951"
        ],
        [
         "982348888",
         "Elden Ring: Nightreign",
         "https://static-cdn.jtvnw.net/ttv-boxart/982348888_IGDB-{width}x{height}.jpg",
         "325591",
         "2025-06-13T04:23:54.263951"
        ],
        [
         "512710",
         "Call of Duty: Warzone",
         "https://static-cdn.jtvnw.net/ttv-boxart/512710-{width}x{height}.jpg",
         "131800",
         "2025-06-13T04:23:54.263951"
        ],
        [
         "29595",
         "Dota 2",
         "https://static-cdn.jtvnw.net/ttv-boxart/29595-{width}x{height}.jpg",
         "",
         "2025-06-13T04:23:54.263951"
        ],
        [
         "36799602",
         "Clair Obscur: Expedition 33",
         "https://static-cdn.jtvnw.net/ttv-boxart/36799602_IGDB-{width}x{height}.jpg",
         "305152",
         "2025-06-13T04:23:54.263951"
        ],
        [
         "1264310518",
         "Marvel Rivals",
         "https://static-cdn.jtvnw.net/ttv-boxart/1264310518_IGDB-{width}x{height}.jpg",
         "294041",
         "2025-06-13T04:23:54.263951"
        ],
        [
         "511224",
         "Apex Legends",
         "https://static-cdn.jtvnw.net/ttv-boxart/511224-{width}x{height}.jpg",
         "114795",
         "2025-06-13T04:23:54.263951"
        ],
        [
         "27471",
         "Minecraft",
         "https://static-cdn.jtvnw.net/ttv-boxart/27471_IGDB-{width}x{height}.jpg",
         "135400",
         "2025-06-13T04:23:54.263951"
        ],
        [
         "509659",
         "ASMR",
         "https://static-cdn.jtvnw.net/ttv-boxart/509659-{width}x{height}.jpg",
         "",
         "2025-06-13T04:23:54.263951"
        ],
        [
         "32982",
         "Grand Theft Auto V",
         "https://static-cdn.jtvnw.net/ttv-boxart/32982_IGDB-{width}x{height}.jpg",
         "1020",
         "2025-06-13T03:48:44.768168"
        ],
        [
         "21779",
         "League of Legends",
         "https://static-cdn.jtvnw.net/ttv-boxart/21779-{width}x{height}.jpg",
         "115",
         "2025-06-13T03:48:44.768168"
        ],
        [
         "460630",
         "Tom Clancy's Rainbow Six Siege X",
         "https://static-cdn.jtvnw.net/ttv-boxart/460630-{width}x{height}.jpg",
         "7360",
         "2025-06-13T03:48:44.768168"
        ],
        [
         "33214",
         "Fortnite",
         "https://static-cdn.jtvnw.net/ttv-boxart/33214-{width}x{height}.jpg",
         "1905",
         "2025-06-13T03:48:44.768168"
        ],
        [
         "488820",
         "Stranded Deep",
         "https://static-cdn.jtvnw.net/ttv-boxart/488820_IGDB-{width}x{height}.jpg",
         "8751",
         "2025-06-13T03:48:44.768168"
        ],
        [
         "516575",
         "VALORANT",
         "https://static-cdn.jtvnw.net/ttv-boxart/516575-{width}x{height}.jpg",
         "126459",
         "2025-06-13T03:48:44.768168"
        ],
        [
         "1826300051",
         "Mario Kart World",
         "https://static-cdn.jtvnw.net/ttv-boxart/1826300051_IGDB-{width}x{height}.jpg",
         "338067",
         "2025-06-13T03:48:44.768168"
        ],
        [
         "32399",
         "Counter-Strike",
         "https://static-cdn.jtvnw.net/ttv-boxart/32399-{width}x{height}.jpg",
         "",
         "2025-06-13T03:48:44.768168"
        ],
        [
         "1987896617",
         "Dune: Awakening",
         "https://static-cdn.jtvnw.net/ttv-boxart/1987896617_IGDB-{width}x{height}.jpg",
         "214394",
         "2025-06-13T03:48:44.768168"
        ],
        [
         "982348888",
         "Elden Ring: Nightreign",
         "https://static-cdn.jtvnw.net/ttv-boxart/982348888_IGDB-{width}x{height}.jpg",
         "325591",
         "2025-06-13T03:48:44.768168"
        ],
        [
         "512710",
         "Call of Duty: Warzone",
         "https://static-cdn.jtvnw.net/ttv-boxart/512710-{width}x{height}.jpg",
         "131800",
         "2025-06-13T03:48:44.768168"
        ],
        [
         "491487",
         "Dead by Daylight",
         "https://static-cdn.jtvnw.net/ttv-boxart/491487-{width}x{height}.jpg",
         "18866",
         "2025-06-13T03:48:44.768168"
        ],
        [
         "1264310518",
         "Marvel Rivals",
         "https://static-cdn.jtvnw.net/ttv-boxart/1264310518_IGDB-{width}x{height}.jpg",
         "294041",
         "2025-06-13T03:48:44.768168"
        ],
        [
         "29595",
         "Dota 2",
         "https://static-cdn.jtvnw.net/ttv-boxart/29595-{width}x{height}.jpg",
         "",
         "2025-06-13T03:48:44.768168"
        ],
        [
         "27471",
         "Minecraft",
         "https://static-cdn.jtvnw.net/ttv-boxart/27471_IGDB-{width}x{height}.jpg",
         "135400",
         "2025-06-13T03:48:44.768168"
        ],
        [
         "511224",
         "Apex Legends",
         "https://static-cdn.jtvnw.net/ttv-boxart/511224-{width}x{height}.jpg",
         "114795",
         "2025-06-13T03:48:44.768168"
        ],
        [
         "509659",
         "ASMR",
         "https://static-cdn.jtvnw.net/ttv-boxart/509659-{width}x{height}.jpg",
         "",
         "2025-06-13T03:48:44.768168"
        ],
        [
         "29307",
         "Path of Exile",
         "https://static-cdn.jtvnw.net/ttv-boxart/29307_IGDB-{width}x{height}.jpg",
         "1911",
         "2025-06-13T03:48:44.768168"
        ],
        [
         "32399",
         "Counter-Strike",
         "https://static-cdn.jtvnw.net/ttv-boxart/32399-{width}x{height}.jpg",
         "",
         "2025-06-13T19:05:52.247308"
        ],
        [
         "516575",
         "VALORANT",
         "https://static-cdn.jtvnw.net/ttv-boxart/516575-{width}x{height}.jpg",
         "126459",
         "2025-06-13T19:05:52.247308"
        ],
        [
         "32982",
         "Grand Theft Auto V",
         "https://static-cdn.jtvnw.net/ttv-boxart/32982_IGDB-{width}x{height}.jpg",
         "1020",
         "2025-06-13T19:05:52.247308"
        ],
        [
         "29307",
         "Path of Exile",
         "https://static-cdn.jtvnw.net/ttv-boxart/29307_IGDB-{width}x{height}.jpg",
         "1911",
         "2025-06-13T19:05:52.247308"
        ],
        [
         "21779",
         "League of Legends",
         "https://static-cdn.jtvnw.net/ttv-boxart/21779-{width}x{height}.jpg",
         "115",
         "2025-06-13T19:05:52.247308"
        ],
        [
         "27471",
         "Minecraft",
         "https://static-cdn.jtvnw.net/ttv-boxart/27471_IGDB-{width}x{height}.jpg",
         "135400",
         "2025-06-13T19:05:52.247308"
        ],
        [
         "481086259",
         "The Alters",
         "https://static-cdn.jtvnw.net/ttv-boxart/481086259_IGDB-{width}x{height}.jpg",
         "204634",
         "2025-06-13T19:05:52.247308"
        ],
        [
         "33214",
         "Fortnite",
         "https://static-cdn.jtvnw.net/ttv-boxart/33214-{width}x{height}.jpg",
         "1905",
         "2025-06-13T19:05:52.247308"
        ],
        [
         "29595",
         "Dota 2",
         "https://static-cdn.jtvnw.net/ttv-boxart/29595-{width}x{height}.jpg",
         "",
         "2025-06-13T19:05:52.247308"
        ],
        [
         "602694215",
         "Five Nights at Freddy's: Secret of the Mimic",
         "https://static-cdn.jtvnw.net/ttv-boxart/602694215_IGDB-{width}x{height}.jpg",
         "312859",
         "2025-06-13T19:05:52.247308"
        ],
        [
         "2011938005",
         "EA Sports FC 25",
         "https://static-cdn.jtvnw.net/ttv-boxart/2011938005_IGDB-{width}x{height}.jpg",
         "308698",
         "2025-06-13T19:05:52.247308"
        ],
        [
         "1987896617",
         "Dune: Awakening",
         "https://static-cdn.jtvnw.net/ttv-boxart/1987896617_IGDB-{width}x{height}.jpg",
         "214394",
         "2025-06-13T19:05:52.247308"
        ],
        [
         "460630",
         "Tom Clancy's Rainbow Six Siege X",
         "https://static-cdn.jtvnw.net/ttv-boxart/460630-{width}x{height}.jpg",
         "7360",
         "2025-06-13T19:05:52.247308"
        ],
        [
         "55453844",
         "Street Fighter 6",
         "https://static-cdn.jtvnw.net/ttv-boxart/55453844_IGDB-{width}x{height}.jpg",
         "191692",
         "2025-06-13T19:05:52.247308"
        ],
        [
         "512710",
         "Call of Duty: Warzone",
         "https://static-cdn.jtvnw.net/ttv-boxart/512710-{width}x{height}.jpg",
         "131800",
         "2025-06-13T19:05:52.247308"
        ],
        [
         "1133341572",
         "The First Berserker: Khazan",
         "https://static-cdn.jtvnw.net/ttv-boxart/1133341572_IGDB-{width}x{height}.jpg",
         "279643",
         "2025-06-13T19:05:52.247308"
        ],
        [
         "32399",
         "Counter-Strike",
         "https://static-cdn.jtvnw.net/ttv-boxart/32399-{width}x{height}.jpg",
         "",
         "2025-06-13T19:02:45.524445"
        ],
        [
         "516575",
         "VALORANT",
         "https://static-cdn.jtvnw.net/ttv-boxart/516575-{width}x{height}.jpg",
         "126459",
         "2025-06-13T19:02:45.524445"
        ],
        [
         "32982",
         "Grand Theft Auto V",
         "https://static-cdn.jtvnw.net/ttv-boxart/32982_IGDB-{width}x{height}.jpg",
         "1020",
         "2025-06-13T19:02:45.524445"
        ],
        [
         "29307",
         "Path of Exile",
         "https://static-cdn.jtvnw.net/ttv-boxart/29307_IGDB-{width}x{height}.jpg",
         "1911",
         "2025-06-13T19:02:45.524445"
        ],
        [
         "21779",
         "League of Legends",
         "https://static-cdn.jtvnw.net/ttv-boxart/21779-{width}x{height}.jpg",
         "115",
         "2025-06-13T19:02:45.524445"
        ],
        [
         "27471",
         "Minecraft",
         "https://static-cdn.jtvnw.net/ttv-boxart/27471_IGDB-{width}x{height}.jpg",
         "135400",
         "2025-06-13T19:02:45.524445"
        ],
        [
         "481086259",
         "The Alters",
         "https://static-cdn.jtvnw.net/ttv-boxart/481086259_IGDB-{width}x{height}.jpg",
         "204634",
         "2025-06-13T19:02:45.524445"
        ],
        [
         "33214",
         "Fortnite",
         "https://static-cdn.jtvnw.net/ttv-boxart/33214-{width}x{height}.jpg",
         "1905",
         "2025-06-13T19:02:45.524445"
        ],
        [
         "29595",
         "Dota 2",
         "https://static-cdn.jtvnw.net/ttv-boxart/29595-{width}x{height}.jpg",
         "",
         "2025-06-13T19:02:45.524445"
        ],
        [
         "602694215",
         "Five Nights at Freddy's: Secret of the Mimic",
         "https://static-cdn.jtvnw.net/ttv-boxart/602694215_IGDB-{width}x{height}.jpg",
         "312859",
         "2025-06-13T19:02:45.524445"
        ],
        [
         "2011938005",
         "EA Sports FC 25",
         "https://static-cdn.jtvnw.net/ttv-boxart/2011938005_IGDB-{width}x{height}.jpg",
         "308698",
         "2025-06-13T19:02:45.524445"
        ],
        [
         "1987896617",
         "Dune: Awakening",
         "https://static-cdn.jtvnw.net/ttv-boxart/1987896617_IGDB-{width}x{height}.jpg",
         "214394",
         "2025-06-13T19:02:45.524445"
        ],
        [
         "460630",
         "Tom Clancy's Rainbow Six Siege X",
         "https://static-cdn.jtvnw.net/ttv-boxart/460630-{width}x{height}.jpg",
         "7360",
         "2025-06-13T19:02:45.524445"
        ],
        [
         "55453844",
         "Street Fighter 6",
         "https://static-cdn.jtvnw.net/ttv-boxart/55453844_IGDB-{width}x{height}.jpg",
         "191692",
         "2025-06-13T19:02:45.524445"
        ],
        [
         "1133341572",
         "The First Berserker: Khazan",
         "https://static-cdn.jtvnw.net/ttv-boxart/1133341572_IGDB-{width}x{height}.jpg",
         "279643",
         "2025-06-13T19:02:45.524445"
        ],
        [
         "512710",
         "Call of Duty: Warzone",
         "https://static-cdn.jtvnw.net/ttv-boxart/512710-{width}x{height}.jpg",
         "131800",
         "2025-06-13T19:02:45.524445"
        ],
        [
         "32399",
         "Counter-Strike",
         "https://static-cdn.jtvnw.net/ttv-boxart/32399-{width}x{height}.jpg",
         "",
         "2025-06-13T19:07:59.424560"
        ],
        [
         "516575",
         "VALORANT",
         "https://static-cdn.jtvnw.net/ttv-boxart/516575-{width}x{height}.jpg",
         "126459",
         "2025-06-13T19:07:59.424560"
        ],
        [
         "32982",
         "Grand Theft Auto V",
         "https://static-cdn.jtvnw.net/ttv-boxart/32982_IGDB-{width}x{height}.jpg",
         "1020",
         "2025-06-13T19:07:59.424560"
        ],
        [
         "29307",
         "Path of Exile",
         "https://static-cdn.jtvnw.net/ttv-boxart/29307_IGDB-{width}x{height}.jpg",
         "1911",
         "2025-06-13T19:07:59.424560"
        ],
        [
         "21779",
         "League of Legends",
         "https://static-cdn.jtvnw.net/ttv-boxart/21779-{width}x{height}.jpg",
         "115",
         "2025-06-13T19:07:59.424560"
        ],
        [
         "27471",
         "Minecraft",
         "https://static-cdn.jtvnw.net/ttv-boxart/27471_IGDB-{width}x{height}.jpg",
         "135400",
         "2025-06-13T19:07:59.424560"
        ],
        [
         "481086259",
         "The Alters",
         "https://static-cdn.jtvnw.net/ttv-boxart/481086259_IGDB-{width}x{height}.jpg",
         "204634",
         "2025-06-13T19:07:59.424560"
        ],
        [
         "33214",
         "Fortnite",
         "https://static-cdn.jtvnw.net/ttv-boxart/33214-{width}x{height}.jpg",
         "1905",
         "2025-06-13T19:07:59.424560"
        ],
        [
         "602694215",
         "Five Nights at Freddy's: Secret of the Mimic",
         "https://static-cdn.jtvnw.net/ttv-boxart/602694215_IGDB-{width}x{height}.jpg",
         "312859",
         "2025-06-13T19:07:59.424560"
        ],
        [
         "29595",
         "Dota 2",
         "https://static-cdn.jtvnw.net/ttv-boxart/29595-{width}x{height}.jpg",
         "",
         "2025-06-13T19:07:59.424560"
        ],
        [
         "2011938005",
         "EA Sports FC 25",
         "https://static-cdn.jtvnw.net/ttv-boxart/2011938005_IGDB-{width}x{height}.jpg",
         "308698",
         "2025-06-13T19:07:59.424560"
        ],
        [
         "1987896617",
         "Dune: Awakening",
         "https://static-cdn.jtvnw.net/ttv-boxart/1987896617_IGDB-{width}x{height}.jpg",
         "214394",
         "2025-06-13T19:07:59.424560"
        ],
        [
         "460630",
         "Tom Clancy's Rainbow Six Siege X",
         "https://static-cdn.jtvnw.net/ttv-boxart/460630-{width}x{height}.jpg",
         "7360",
         "2025-06-13T19:07:59.424560"
        ],
        [
         "55453844",
         "Street Fighter 6",
         "https://static-cdn.jtvnw.net/ttv-boxart/55453844_IGDB-{width}x{height}.jpg",
         "191692",
         "2025-06-13T19:07:59.424560"
        ],
        [
         "512710",
         "Call of Duty: Warzone",
         "https://static-cdn.jtvnw.net/ttv-boxart/512710-{width}x{height}.jpg",
         "131800",
         "2025-06-13T19:07:59.424560"
        ],
        [
         "1133341572",
         "The First Berserker: Khazan",
         "https://static-cdn.jtvnw.net/ttv-boxart/1133341572_IGDB-{width}x{height}.jpg",
         "279643",
         "2025-06-13T19:07:59.424560"
        ],
        [
         "32399",
         "Counter-Strike",
         "https://static-cdn.jtvnw.net/ttv-boxart/32399-{width}x{height}.jpg",
         "",
         "2025-06-13T19:06:57.341068"
        ],
        [
         "516575",
         "VALORANT",
         "https://static-cdn.jtvnw.net/ttv-boxart/516575-{width}x{height}.jpg",
         "126459",
         "2025-06-13T19:06:57.341068"
        ],
        [
         "32982",
         "Grand Theft Auto V",
         "https://static-cdn.jtvnw.net/ttv-boxart/32982_IGDB-{width}x{height}.jpg",
         "1020",
         "2025-06-13T19:06:57.341068"
        ],
        [
         "29307",
         "Path of Exile",
         "https://static-cdn.jtvnw.net/ttv-boxart/29307_IGDB-{width}x{height}.jpg",
         "1911",
         "2025-06-13T19:06:57.341068"
        ],
        [
         "21779",
         "League of Legends",
         "https://static-cdn.jtvnw.net/ttv-boxart/21779-{width}x{height}.jpg",
         "115",
         "2025-06-13T19:06:57.341068"
        ],
        [
         "27471",
         "Minecraft",
         "https://static-cdn.jtvnw.net/ttv-boxart/27471_IGDB-{width}x{height}.jpg",
         "135400",
         "2025-06-13T19:06:57.341068"
        ],
        [
         "481086259",
         "The Alters",
         "https://static-cdn.jtvnw.net/ttv-boxart/481086259_IGDB-{width}x{height}.jpg",
         "204634",
         "2025-06-13T19:06:57.341068"
        ],
        [
         "33214",
         "Fortnite",
         "https://static-cdn.jtvnw.net/ttv-boxart/33214-{width}x{height}.jpg",
         "1905",
         "2025-06-13T19:06:57.341068"
        ],
        [
         "602694215",
         "Five Nights at Freddy's: Secret of the Mimic",
         "https://static-cdn.jtvnw.net/ttv-boxart/602694215_IGDB-{width}x{height}.jpg",
         "312859",
         "2025-06-13T19:06:57.341068"
        ],
        [
         "29595",
         "Dota 2",
         "https://static-cdn.jtvnw.net/ttv-boxart/29595-{width}x{height}.jpg",
         "",
         "2025-06-13T19:06:57.341068"
        ],
        [
         "2011938005",
         "EA Sports FC 25",
         "https://static-cdn.jtvnw.net/ttv-boxart/2011938005_IGDB-{width}x{height}.jpg",
         "308698",
         "2025-06-13T19:06:57.341068"
        ],
        [
         "1987896617",
         "Dune: Awakening",
         "https://static-cdn.jtvnw.net/ttv-boxart/1987896617_IGDB-{width}x{height}.jpg",
         "214394",
         "2025-06-13T19:06:57.341068"
        ],
        [
         "460630",
         "Tom Clancy's Rainbow Six Siege X",
         "https://static-cdn.jtvnw.net/ttv-boxart/460630-{width}x{height}.jpg",
         "7360",
         "2025-06-13T19:06:57.341068"
        ],
        [
         "55453844",
         "Street Fighter 6",
         "https://static-cdn.jtvnw.net/ttv-boxart/55453844_IGDB-{width}x{height}.jpg",
         "191692",
         "2025-06-13T19:06:57.341068"
        ],
        [
         "512710",
         "Call of Duty: Warzone",
         "https://static-cdn.jtvnw.net/ttv-boxart/512710-{width}x{height}.jpg",
         "131800",
         "2025-06-13T19:06:57.341068"
        ],
        [
         "1133341572",
         "The First Berserker: Khazan",
         "https://static-cdn.jtvnw.net/ttv-boxart/1133341572_IGDB-{width}x{height}.jpg",
         "279643",
         "2025-06-13T19:06:57.341068"
        ],
        [
         "32399",
         "Counter-Strike",
         "https://static-cdn.jtvnw.net/ttv-boxart/32399-{width}x{height}.jpg",
         "",
         "2025-06-13T19:04:50.000309"
        ],
        [
         "516575",
         "VALORANT",
         "https://static-cdn.jtvnw.net/ttv-boxart/516575-{width}x{height}.jpg",
         "126459",
         "2025-06-13T19:04:50.000309"
        ],
        [
         "32982",
         "Grand Theft Auto V",
         "https://static-cdn.jtvnw.net/ttv-boxart/32982_IGDB-{width}x{height}.jpg",
         "1020",
         "2025-06-13T19:04:50.000309"
        ],
        [
         "29307",
         "Path of Exile",
         "https://static-cdn.jtvnw.net/ttv-boxart/29307_IGDB-{width}x{height}.jpg",
         "1911",
         "2025-06-13T19:04:50.000309"
        ],
        [
         "21779",
         "League of Legends",
         "https://static-cdn.jtvnw.net/ttv-boxart/21779-{width}x{height}.jpg",
         "115",
         "2025-06-13T19:04:50.000309"
        ],
        [
         "27471",
         "Minecraft",
         "https://static-cdn.jtvnw.net/ttv-boxart/27471_IGDB-{width}x{height}.jpg",
         "135400",
         "2025-06-13T19:04:50.000309"
        ],
        [
         "481086259",
         "The Alters",
         "https://static-cdn.jtvnw.net/ttv-boxart/481086259_IGDB-{width}x{height}.jpg",
         "204634",
         "2025-06-13T19:04:50.000309"
        ],
        [
         "33214",
         "Fortnite",
         "https://static-cdn.jtvnw.net/ttv-boxart/33214-{width}x{height}.jpg",
         "1905",
         "2025-06-13T19:04:50.000309"
        ],
        [
         "602694215",
         "Five Nights at Freddy's: Secret of the Mimic",
         "https://static-cdn.jtvnw.net/ttv-boxart/602694215_IGDB-{width}x{height}.jpg",
         "312859",
         "2025-06-13T19:04:50.000309"
        ],
        [
         "29595",
         "Dota 2",
         "https://static-cdn.jtvnw.net/ttv-boxart/29595-{width}x{height}.jpg",
         "",
         "2025-06-13T19:04:50.000309"
        ],
        [
         "2011938005",
         "EA Sports FC 25",
         "https://static-cdn.jtvnw.net/ttv-boxart/2011938005_IGDB-{width}x{height}.jpg",
         "308698",
         "2025-06-13T19:04:50.000309"
        ],
        [
         "1987896617",
         "Dune: Awakening",
         "https://static-cdn.jtvnw.net/ttv-boxart/1987896617_IGDB-{width}x{height}.jpg",
         "214394",
         "2025-06-13T19:04:50.000309"
        ],
        [
         "460630",
         "Tom Clancy's Rainbow Six Siege X",
         "https://static-cdn.jtvnw.net/ttv-boxart/460630-{width}x{height}.jpg",
         "7360",
         "2025-06-13T19:04:50.000309"
        ],
        [
         "55453844",
         "Street Fighter 6",
         "https://static-cdn.jtvnw.net/ttv-boxart/55453844_IGDB-{width}x{height}.jpg",
         "191692",
         "2025-06-13T19:04:50.000309"
        ],
        [
         "1133341572",
         "The First Berserker: Khazan",
         "https://static-cdn.jtvnw.net/ttv-boxart/1133341572_IGDB-{width}x{height}.jpg",
         "279643",
         "2025-06-13T19:04:50.000309"
        ],
        [
         "512710",
         "Call of Duty: Warzone",
         "https://static-cdn.jtvnw.net/ttv-boxart/512710-{width}x{height}.jpg",
         "131800",
         "2025-06-13T19:04:50.000309"
        ],
        [
         "32982",
         "Grand Theft Auto V",
         "https://static-cdn.jtvnw.net/ttv-boxart/32982_IGDB-{width}x{height}.jpg",
         "1020",
         "2025-06-13T02:00:55.873976"
        ],
        [
         "460630",
         "Tom Clancy's Rainbow Six Siege X",
         "https://static-cdn.jtvnw.net/ttv-boxart/460630-{width}x{height}.jpg",
         "7360",
         "2025-06-13T02:00:55.873976"
        ],
        [
         "1826300051",
         "Mario Kart World",
         "https://static-cdn.jtvnw.net/ttv-boxart/1826300051_IGDB-{width}x{height}.jpg",
         "338067",
         "2025-06-13T02:00:55.873976"
        ],
        [
         "33214",
         "Fortnite",
         "https://static-cdn.jtvnw.net/ttv-boxart/33214-{width}x{height}.jpg",
         "1905",
         "2025-06-13T02:00:55.873976"
        ],
        [
         "21779",
         "League of Legends",
         "https://static-cdn.jtvnw.net/ttv-boxart/21779-{width}x{height}.jpg",
         "115",
         "2025-06-13T02:00:55.873976"
        ],
        [
         "32399",
         "Counter-Strike",
         "https://static-cdn.jtvnw.net/ttv-boxart/32399-{width}x{height}.jpg",
         "",
         "2025-06-13T02:00:55.873976"
        ],
        [
         "1264310518",
         "Marvel Rivals",
         "https://static-cdn.jtvnw.net/ttv-boxart/1264310518_IGDB-{width}x{height}.jpg",
         "294041",
         "2025-06-13T02:00:55.873976"
        ],
        [
         "1987896617",
         "Dune: Awakening",
         "https://static-cdn.jtvnw.net/ttv-boxart/1987896617_IGDB-{width}x{height}.jpg",
         "214394",
         "2025-06-13T02:00:55.873976"
        ],
        [
         "516575",
         "VALORANT",
         "https://static-cdn.jtvnw.net/ttv-boxart/516575-{width}x{height}.jpg",
         "126459",
         "2025-06-13T02:00:55.873976"
        ],
        [
         "512710",
         "Call of Duty: Warzone",
         "https://static-cdn.jtvnw.net/ttv-boxart/512710-{width}x{height}.jpg",
         "131800",
         "2025-06-13T02:00:55.873976"
        ],
        [
         "29595",
         "Dota 2",
         "https://static-cdn.jtvnw.net/ttv-boxart/29595-{width}x{height}.jpg",
         "",
         "2025-06-13T02:00:55.873976"
        ],
        [
         "27471",
         "Minecraft",
         "https://static-cdn.jtvnw.net/ttv-boxart/27471_IGDB-{width}x{height}.jpg",
         "135400",
         "2025-06-13T02:00:55.873976"
        ],
        [
         "491487",
         "Dead by Daylight",
         "https://static-cdn.jtvnw.net/ttv-boxart/491487-{width}x{height}.jpg",
         "18866",
         "2025-06-13T02:00:55.873976"
        ],
        [
         "982348888",
         "Elden Ring: Nightreign",
         "https://static-cdn.jtvnw.net/ttv-boxart/982348888_IGDB-{width}x{height}.jpg",
         "325591",
         "2025-06-13T02:00:55.873976"
        ],
        [
         "29452",
         "Virtual Casino",
         "https://static-cdn.jtvnw.net/ttv-boxart/29452_IGDB-{width}x{height}.jpg",
         "45517",
         "2025-06-13T02:00:55.873976"
        ],
        [
         "511224",
         "Apex Legends",
         "https://static-cdn.jtvnw.net/ttv-boxart/511224-{width}x{height}.jpg",
         "114795",
         "2025-06-13T02:00:55.873976"
        ],
        [
         "515025",
         "Overwatch 2",
         "https://static-cdn.jtvnw.net/ttv-boxart/515025-{width}x{height}.jpg",
         "125174",
         "2025-06-13T02:00:55.873976"
        ],
        [
         "32982",
         "Grand Theft Auto V",
         "https://static-cdn.jtvnw.net/ttv-boxart/32982_IGDB-{width}x{height}.jpg",
         "1020",
         "2025-06-13T02:01:10.386097"
        ],
        [
         "460630",
         "Tom Clancy's Rainbow Six Siege X",
         "https://static-cdn.jtvnw.net/ttv-boxart/460630-{width}x{height}.jpg",
         "7360",
         "2025-06-13T02:01:10.386097"
        ],
        [
         "1826300051",
         "Mario Kart World",
         "https://static-cdn.jtvnw.net/ttv-boxart/1826300051_IGDB-{width}x{height}.jpg",
         "338067",
         "2025-06-13T02:01:10.386097"
        ],
        [
         "33214",
         "Fortnite",
         "https://static-cdn.jtvnw.net/ttv-boxart/33214-{width}x{height}.jpg",
         "1905",
         "2025-06-13T02:01:10.386097"
        ],
        [
         "21779",
         "League of Legends",
         "https://static-cdn.jtvnw.net/ttv-boxart/21779-{width}x{height}.jpg",
         "115",
         "2025-06-13T02:01:10.386097"
        ],
        [
         "32399",
         "Counter-Strike",
         "https://static-cdn.jtvnw.net/ttv-boxart/32399-{width}x{height}.jpg",
         "",
         "2025-06-13T02:01:10.386097"
        ],
        [
         "1264310518",
         "Marvel Rivals",
         "https://static-cdn.jtvnw.net/ttv-boxart/1264310518_IGDB-{width}x{height}.jpg",
         "294041",
         "2025-06-13T02:01:10.386097"
        ],
        [
         "1987896617",
         "Dune: Awakening",
         "https://static-cdn.jtvnw.net/ttv-boxart/1987896617_IGDB-{width}x{height}.jpg",
         "214394",
         "2025-06-13T02:01:10.386097"
        ],
        [
         "516575",
         "VALORANT",
         "https://static-cdn.jtvnw.net/ttv-boxart/516575-{width}x{height}.jpg",
         "126459",
         "2025-06-13T02:01:10.386097"
        ],
        [
         "512710",
         "Call of Duty: Warzone",
         "https://static-cdn.jtvnw.net/ttv-boxart/512710-{width}x{height}.jpg",
         "131800",
         "2025-06-13T02:01:10.386097"
        ],
        [
         "29595",
         "Dota 2",
         "https://static-cdn.jtvnw.net/ttv-boxart/29595-{width}x{height}.jpg",
         "",
         "2025-06-13T02:01:10.386097"
        ],
        [
         "27471",
         "Minecraft",
         "https://static-cdn.jtvnw.net/ttv-boxart/27471_IGDB-{width}x{height}.jpg",
         "135400",
         "2025-06-13T02:01:10.386097"
        ],
        [
         "491487",
         "Dead by Daylight",
         "https://static-cdn.jtvnw.net/ttv-boxart/491487-{width}x{height}.jpg",
         "18866",
         "2025-06-13T02:01:10.386097"
        ],
        [
         "982348888",
         "Elden Ring: Nightreign",
         "https://static-cdn.jtvnw.net/ttv-boxart/982348888_IGDB-{width}x{height}.jpg",
         "325591",
         "2025-06-13T02:01:10.386097"
        ],
        [
         "29452",
         "Virtual Casino",
         "https://static-cdn.jtvnw.net/ttv-boxart/29452_IGDB-{width}x{height}.jpg",
         "45517",
         "2025-06-13T02:01:10.386097"
        ],
        [
         "511224",
         "Apex Legends",
         "https://static-cdn.jtvnw.net/ttv-boxart/511224-{width}x{height}.jpg",
         "114795",
         "2025-06-13T02:01:10.386097"
        ],
        [
         "515025",
         "Overwatch 2",
         "https://static-cdn.jtvnw.net/ttv-boxart/515025-{width}x{height}.jpg",
         "125174",
         "2025-06-13T02:01:10.386097"
        ],
        [
         "32982",
         "Grand Theft Auto V",
         "https://static-cdn.jtvnw.net/ttv-boxart/32982_IGDB-{width}x{height}.jpg",
         "1020",
         "2025-06-13T02:01:34.180167"
        ],
        [
         "460630",
         "Tom Clancy's Rainbow Six Siege X",
         "https://static-cdn.jtvnw.net/ttv-boxart/460630-{width}x{height}.jpg",
         "7360",
         "2025-06-13T02:01:34.180167"
        ],
        [
         "1826300051",
         "Mario Kart World",
         "https://static-cdn.jtvnw.net/ttv-boxart/1826300051_IGDB-{width}x{height}.jpg",
         "338067",
         "2025-06-13T02:01:34.180167"
        ],
        [
         "33214",
         "Fortnite",
         "https://static-cdn.jtvnw.net/ttv-boxart/33214-{width}x{height}.jpg",
         "1905",
         "2025-06-13T02:01:34.180167"
        ],
        [
         "21779",
         "League of Legends",
         "https://static-cdn.jtvnw.net/ttv-boxart/21779-{width}x{height}.jpg",
         "115",
         "2025-06-13T02:01:34.180167"
        ],
        [
         "32399",
         "Counter-Strike",
         "https://static-cdn.jtvnw.net/ttv-boxart/32399-{width}x{height}.jpg",
         "",
         "2025-06-13T02:01:34.180167"
        ],
        [
         "1264310518",
         "Marvel Rivals",
         "https://static-cdn.jtvnw.net/ttv-boxart/1264310518_IGDB-{width}x{height}.jpg",
         "294041",
         "2025-06-13T02:01:34.180167"
        ],
        [
         "1987896617",
         "Dune: Awakening",
         "https://static-cdn.jtvnw.net/ttv-boxart/1987896617_IGDB-{width}x{height}.jpg",
         "214394",
         "2025-06-13T02:01:34.180167"
        ],
        [
         "516575",
         "VALORANT",
         "https://static-cdn.jtvnw.net/ttv-boxart/516575-{width}x{height}.jpg",
         "126459",
         "2025-06-13T02:01:34.180167"
        ],
        [
         "512710",
         "Call of Duty: Warzone",
         "https://static-cdn.jtvnw.net/ttv-boxart/512710-{width}x{height}.jpg",
         "131800",
         "2025-06-13T02:01:34.180167"
        ],
        [
         "29595",
         "Dota 2",
         "https://static-cdn.jtvnw.net/ttv-boxart/29595-{width}x{height}.jpg",
         "",
         "2025-06-13T02:01:34.180167"
        ],
        [
         "27471",
         "Minecraft",
         "https://static-cdn.jtvnw.net/ttv-boxart/27471_IGDB-{width}x{height}.jpg",
         "135400",
         "2025-06-13T02:01:34.180167"
        ],
        [
         "491487",
         "Dead by Daylight",
         "https://static-cdn.jtvnw.net/ttv-boxart/491487-{width}x{height}.jpg",
         "18866",
         "2025-06-13T02:01:34.180167"
        ],
        [
         "982348888",
         "Elden Ring: Nightreign",
         "https://static-cdn.jtvnw.net/ttv-boxart/982348888_IGDB-{width}x{height}.jpg",
         "325591",
         "2025-06-13T02:01:34.180167"
        ],
        [
         "29452",
         "Virtual Casino",
         "https://static-cdn.jtvnw.net/ttv-boxart/29452_IGDB-{width}x{height}.jpg",
         "45517",
         "2025-06-13T02:01:34.180167"
        ],
        [
         "511224",
         "Apex Legends",
         "https://static-cdn.jtvnw.net/ttv-boxart/511224-{width}x{height}.jpg",
         "114795",
         "2025-06-13T02:01:34.180167"
        ],
        [
         "515025",
         "Overwatch 2",
         "https://static-cdn.jtvnw.net/ttv-boxart/515025-{width}x{height}.jpg",
         "125174",
         "2025-06-13T02:01:34.180167"
        ],
        [
         "32399",
         "Counter-Strike",
         "https://static-cdn.jtvnw.net/ttv-boxart/32399-{width}x{height}.jpg",
         "",
         "2025-06-13T19:03:47.885618"
        ],
        [
         "516575",
         "VALORANT",
         "https://static-cdn.jtvnw.net/ttv-boxart/516575-{width}x{height}.jpg",
         "126459",
         "2025-06-13T19:03:47.885618"
        ],
        [
         "32982",
         "Grand Theft Auto V",
         "https://static-cdn.jtvnw.net/ttv-boxart/32982_IGDB-{width}x{height}.jpg",
         "1020",
         "2025-06-13T19:03:47.885618"
        ],
        [
         "29307",
         "Path of Exile",
         "https://static-cdn.jtvnw.net/ttv-boxart/29307_IGDB-{width}x{height}.jpg",
         "1911",
         "2025-06-13T19:03:47.885618"
        ],
        [
         "21779",
         "League of Legends",
         "https://static-cdn.jtvnw.net/ttv-boxart/21779-{width}x{height}.jpg",
         "115",
         "2025-06-13T19:03:47.885618"
        ],
        [
         "27471",
         "Minecraft",
         "https://static-cdn.jtvnw.net/ttv-boxart/27471_IGDB-{width}x{height}.jpg",
         "135400",
         "2025-06-13T19:03:47.885618"
        ],
        [
         "481086259",
         "The Alters",
         "https://static-cdn.jtvnw.net/ttv-boxart/481086259_IGDB-{width}x{height}.jpg",
         "204634",
         "2025-06-13T19:03:47.885618"
        ],
        [
         "33214",
         "Fortnite",
         "https://static-cdn.jtvnw.net/ttv-boxart/33214-{width}x{height}.jpg",
         "1905",
         "2025-06-13T19:03:47.885618"
        ],
        [
         "602694215",
         "Five Nights at Freddy's: Secret of the Mimic",
         "https://static-cdn.jtvnw.net/ttv-boxart/602694215_IGDB-{width}x{height}.jpg",
         "312859",
         "2025-06-13T19:03:47.885618"
        ],
        [
         "29595",
         "Dota 2",
         "https://static-cdn.jtvnw.net/ttv-boxart/29595-{width}x{height}.jpg",
         "",
         "2025-06-13T19:03:47.885618"
        ],
        [
         "2011938005",
         "EA Sports FC 25",
         "https://static-cdn.jtvnw.net/ttv-boxart/2011938005_IGDB-{width}x{height}.jpg",
         "308698",
         "2025-06-13T19:03:47.885618"
        ],
        [
         "1987896617",
         "Dune: Awakening",
         "https://static-cdn.jtvnw.net/ttv-boxart/1987896617_IGDB-{width}x{height}.jpg",
         "214394",
         "2025-06-13T19:03:47.885618"
        ],
        [
         "460630",
         "Tom Clancy's Rainbow Six Siege X",
         "https://static-cdn.jtvnw.net/ttv-boxart/460630-{width}x{height}.jpg",
         "7360",
         "2025-06-13T19:03:47.885618"
        ],
        [
         "55453844",
         "Street Fighter 6",
         "https://static-cdn.jtvnw.net/ttv-boxart/55453844_IGDB-{width}x{height}.jpg",
         "191692",
         "2025-06-13T19:03:47.885618"
        ],
        [
         "1133341572",
         "The First Berserker: Khazan",
         "https://static-cdn.jtvnw.net/ttv-boxart/1133341572_IGDB-{width}x{height}.jpg",
         "279643",
         "2025-06-13T19:03:47.885618"
        ],
        [
         "512710",
         "Call of Duty: Warzone",
         "https://static-cdn.jtvnw.net/ttv-boxart/512710-{width}x{height}.jpg",
         "131800",
         "2025-06-13T19:03:47.885618"
        ],
        [
         "32982",
         "Grand Theft Auto V",
         "https://static-cdn.jtvnw.net/ttv-boxart/32982_IGDB-{width}x{height}.jpg",
         "1020",
         "2025-06-13T03:47:13.867189"
        ],
        [
         "21779",
         "League of Legends",
         "https://static-cdn.jtvnw.net/ttv-boxart/21779-{width}x{height}.jpg",
         "115",
         "2025-06-13T03:47:13.867189"
        ],
        [
         "460630",
         "Tom Clancy's Rainbow Six Siege X",
         "https://static-cdn.jtvnw.net/ttv-boxart/460630-{width}x{height}.jpg",
         "7360",
         "2025-06-13T03:47:13.867189"
        ],
        [
         "33214",
         "Fortnite",
         "https://static-cdn.jtvnw.net/ttv-boxart/33214-{width}x{height}.jpg",
         "1905",
         "2025-06-13T03:47:13.867189"
        ],
        [
         "488820",
         "Stranded Deep",
         "https://static-cdn.jtvnw.net/ttv-boxart/488820_IGDB-{width}x{height}.jpg",
         "8751",
         "2025-06-13T03:47:13.867189"
        ],
        [
         "516575",
         "VALORANT",
         "https://static-cdn.jtvnw.net/ttv-boxart/516575-{width}x{height}.jpg",
         "126459",
         "2025-06-13T03:47:13.867189"
        ],
        [
         "1826300051",
         "Mario Kart World",
         "https://static-cdn.jtvnw.net/ttv-boxart/1826300051_IGDB-{width}x{height}.jpg",
         "338067",
         "2025-06-13T03:47:13.867189"
        ],
        [
         "32399",
         "Counter-Strike",
         "https://static-cdn.jtvnw.net/ttv-boxart/32399-{width}x{height}.jpg",
         "",
         "2025-06-13T03:47:13.867189"
        ],
        [
         "1987896617",
         "Dune: Awakening",
         "https://static-cdn.jtvnw.net/ttv-boxart/1987896617_IGDB-{width}x{height}.jpg",
         "214394",
         "2025-06-13T03:47:13.867189"
        ],
        [
         "982348888",
         "Elden Ring: Nightreign",
         "https://static-cdn.jtvnw.net/ttv-boxart/982348888_IGDB-{width}x{height}.jpg",
         "325591",
         "2025-06-13T03:47:13.867189"
        ],
        [
         "491487",
         "Dead by Daylight",
         "https://static-cdn.jtvnw.net/ttv-boxart/491487-{width}x{height}.jpg",
         "18866",
         "2025-06-13T03:47:13.867189"
        ],
        [
         "512710",
         "Call of Duty: Warzone",
         "https://static-cdn.jtvnw.net/ttv-boxart/512710-{width}x{height}.jpg",
         "131800",
         "2025-06-13T03:47:13.867189"
        ],
        [
         "1264310518",
         "Marvel Rivals",
         "https://static-cdn.jtvnw.net/ttv-boxart/1264310518_IGDB-{width}x{height}.jpg",
         "294041",
         "2025-06-13T03:47:13.867189"
        ],
        [
         "29595",
         "Dota 2",
         "https://static-cdn.jtvnw.net/ttv-boxart/29595-{width}x{height}.jpg",
         "",
         "2025-06-13T03:47:13.867189"
        ],
        [
         "27471",
         "Minecraft",
         "https://static-cdn.jtvnw.net/ttv-boxart/27471_IGDB-{width}x{height}.jpg",
         "135400",
         "2025-06-13T03:47:13.867189"
        ],
        [
         "511224",
         "Apex Legends",
         "https://static-cdn.jtvnw.net/ttv-boxart/511224-{width}x{height}.jpg",
         "114795",
         "2025-06-13T03:47:13.867189"
        ],
        [
         "509659",
         "ASMR",
         "https://static-cdn.jtvnw.net/ttv-boxart/509659-{width}x{height}.jpg",
         "",
         "2025-06-13T03:47:13.867189"
        ],
        [
         "29307",
         "Path of Exile",
         "https://static-cdn.jtvnw.net/ttv-boxart/29307_IGDB-{width}x{height}.jpg",
         "1911",
         "2025-06-13T03:47:13.867189"
        ],
        [
         "32982",
         "Grand Theft Auto V",
         "https://static-cdn.jtvnw.net/ttv-boxart/32982_IGDB-{width}x{height}.jpg",
         "1020",
         "2025-06-13T02:00:03.009885"
        ],
        [
         "460630",
         "Tom Clancy's Rainbow Six Siege X",
         "https://static-cdn.jtvnw.net/ttv-boxart/460630-{width}x{height}.jpg",
         "7360",
         "2025-06-13T02:00:03.009885"
        ],
        [
         "1826300051",
         "Mario Kart World",
         "https://static-cdn.jtvnw.net/ttv-boxart/1826300051_IGDB-{width}x{height}.jpg",
         "338067",
         "2025-06-13T02:00:03.009885"
        ],
        [
         "33214",
         "Fortnite",
         "https://static-cdn.jtvnw.net/ttv-boxart/33214-{width}x{height}.jpg",
         "1905",
         "2025-06-13T02:00:03.009885"
        ],
        [
         "21779",
         "League of Legends",
         "https://static-cdn.jtvnw.net/ttv-boxart/21779-{width}x{height}.jpg",
         "115",
         "2025-06-13T02:00:03.009885"
        ],
        [
         "32399",
         "Counter-Strike",
         "https://static-cdn.jtvnw.net/ttv-boxart/32399-{width}x{height}.jpg",
         "",
         "2025-06-13T02:00:03.009885"
        ],
        [
         "1264310518",
         "Marvel Rivals",
         "https://static-cdn.jtvnw.net/ttv-boxart/1264310518_IGDB-{width}x{height}.jpg",
         "294041",
         "2025-06-13T02:00:03.009885"
        ],
        [
         "1987896617",
         "Dune: Awakening",
         "https://static-cdn.jtvnw.net/ttv-boxart/1987896617_IGDB-{width}x{height}.jpg",
         "214394",
         "2025-06-13T02:00:03.009885"
        ],
        [
         "512710",
         "Call of Duty: Warzone",
         "https://static-cdn.jtvnw.net/ttv-boxart/512710-{width}x{height}.jpg",
         "131800",
         "2025-06-13T02:00:03.009885"
        ],
        [
         "516575",
         "VALORANT",
         "https://static-cdn.jtvnw.net/ttv-boxart/516575-{width}x{height}.jpg",
         "126459",
         "2025-06-13T02:00:03.009885"
        ],
        [
         "29595",
         "Dota 2",
         "https://static-cdn.jtvnw.net/ttv-boxart/29595-{width}x{height}.jpg",
         "",
         "2025-06-13T02:00:03.009885"
        ],
        [
         "27471",
         "Minecraft",
         "https://static-cdn.jtvnw.net/ttv-boxart/27471_IGDB-{width}x{height}.jpg",
         "135400",
         "2025-06-13T02:00:03.009885"
        ],
        [
         "491487",
         "Dead by Daylight",
         "https://static-cdn.jtvnw.net/ttv-boxart/491487-{width}x{height}.jpg",
         "18866",
         "2025-06-13T02:00:03.009885"
        ],
        [
         "982348888",
         "Elden Ring: Nightreign",
         "https://static-cdn.jtvnw.net/ttv-boxart/982348888_IGDB-{width}x{height}.jpg",
         "325591",
         "2025-06-13T02:00:03.009885"
        ],
        [
         "29452",
         "Virtual Casino",
         "https://static-cdn.jtvnw.net/ttv-boxart/29452_IGDB-{width}x{height}.jpg",
         "45517",
         "2025-06-13T02:00:03.009885"
        ],
        [
         "511224",
         "Apex Legends",
         "https://static-cdn.jtvnw.net/ttv-boxart/511224-{width}x{height}.jpg",
         "114795",
         "2025-06-13T02:00:03.009885"
        ],
        [
         "515025",
         "Overwatch 2",
         "https://static-cdn.jtvnw.net/ttv-boxart/515025-{width}x{height}.jpg",
         "125174",
         "2025-06-13T02:00:03.009885"
        ],
        [
         "32982",
         "Grand Theft Auto V",
         "https://static-cdn.jtvnw.net/ttv-boxart/32982_IGDB-{width}x{height}.jpg",
         "1020",
         "2025-06-13T02:00:25.935476"
        ],
        [
         "460630",
         "Tom Clancy's Rainbow Six Siege X",
         "https://static-cdn.jtvnw.net/ttv-boxart/460630-{width}x{height}.jpg",
         "7360",
         "2025-06-13T02:00:25.935476"
        ],
        [
         "1826300051",
         "Mario Kart World",
         "https://static-cdn.jtvnw.net/ttv-boxart/1826300051_IGDB-{width}x{height}.jpg",
         "338067",
         "2025-06-13T02:00:25.935476"
        ],
        [
         "33214",
         "Fortnite",
         "https://static-cdn.jtvnw.net/ttv-boxart/33214-{width}x{height}.jpg",
         "1905",
         "2025-06-13T02:00:25.935476"
        ],
        [
         "21779",
         "League of Legends",
         "https://static-cdn.jtvnw.net/ttv-boxart/21779-{width}x{height}.jpg",
         "115",
         "2025-06-13T02:00:25.935476"
        ],
        [
         "32399",
         "Counter-Strike",
         "https://static-cdn.jtvnw.net/ttv-boxart/32399-{width}x{height}.jpg",
         "",
         "2025-06-13T02:00:25.935476"
        ],
        [
         "1264310518",
         "Marvel Rivals",
         "https://static-cdn.jtvnw.net/ttv-boxart/1264310518_IGDB-{width}x{height}.jpg",
         "294041",
         "2025-06-13T02:00:25.935476"
        ],
        [
         "1987896617",
         "Dune: Awakening",
         "https://static-cdn.jtvnw.net/ttv-boxart/1987896617_IGDB-{width}x{height}.jpg",
         "214394",
         "2025-06-13T02:00:25.935476"
        ],
        [
         "512710",
         "Call of Duty: Warzone",
         "https://static-cdn.jtvnw.net/ttv-boxart/512710-{width}x{height}.jpg",
         "131800",
         "2025-06-13T02:00:25.935476"
        ],
        [
         "516575",
         "VALORANT",
         "https://static-cdn.jtvnw.net/ttv-boxart/516575-{width}x{height}.jpg",
         "126459",
         "2025-06-13T02:00:25.935476"
        ],
        [
         "29595",
         "Dota 2",
         "https://static-cdn.jtvnw.net/ttv-boxart/29595-{width}x{height}.jpg",
         "",
         "2025-06-13T02:00:25.935476"
        ],
        [
         "27471",
         "Minecraft",
         "https://static-cdn.jtvnw.net/ttv-boxart/27471_IGDB-{width}x{height}.jpg",
         "135400",
         "2025-06-13T02:00:25.935476"
        ],
        [
         "491487",
         "Dead by Daylight",
         "https://static-cdn.jtvnw.net/ttv-boxart/491487-{width}x{height}.jpg",
         "18866",
         "2025-06-13T02:00:25.935476"
        ],
        [
         "982348888",
         "Elden Ring: Nightreign",
         "https://static-cdn.jtvnw.net/ttv-boxart/982348888_IGDB-{width}x{height}.jpg",
         "325591",
         "2025-06-13T02:00:25.935476"
        ],
        [
         "29452",
         "Virtual Casino",
         "https://static-cdn.jtvnw.net/ttv-boxart/29452_IGDB-{width}x{height}.jpg",
         "45517",
         "2025-06-13T02:00:25.935476"
        ],
        [
         "511224",
         "Apex Legends",
         "https://static-cdn.jtvnw.net/ttv-boxart/511224-{width}x{height}.jpg",
         "114795",
         "2025-06-13T02:00:25.935476"
        ],
        [
         "515025",
         "Overwatch 2",
         "https://static-cdn.jtvnw.net/ttv-boxart/515025-{width}x{height}.jpg",
         "125174",
         "2025-06-13T02:00:25.935476"
        ],
        [
         "32982",
         "Grand Theft Auto V",
         "https://static-cdn.jtvnw.net/ttv-boxart/32982_IGDB-{width}x{height}.jpg",
         "1020",
         "2025-06-13T01:59:37.949022"
        ],
        [
         "460630",
         "Tom Clancy's Rainbow Six Siege X",
         "https://static-cdn.jtvnw.net/ttv-boxart/460630-{width}x{height}.jpg",
         "7360",
         "2025-06-13T01:59:37.949022"
        ],
        [
         "1826300051",
         "Mario Kart World",
         "https://static-cdn.jtvnw.net/ttv-boxart/1826300051_IGDB-{width}x{height}.jpg",
         "338067",
         "2025-06-13T01:59:37.949022"
        ],
        [
         "33214",
         "Fortnite",
         "https://static-cdn.jtvnw.net/ttv-boxart/33214-{width}x{height}.jpg",
         "1905",
         "2025-06-13T01:59:37.949022"
        ],
        [
         "21779",
         "League of Legends",
         "https://static-cdn.jtvnw.net/ttv-boxart/21779-{width}x{height}.jpg",
         "115",
         "2025-06-13T01:59:37.949022"
        ],
        [
         "32399",
         "Counter-Strike",
         "https://static-cdn.jtvnw.net/ttv-boxart/32399-{width}x{height}.jpg",
         "",
         "2025-06-13T01:59:37.949022"
        ],
        [
         "1264310518",
         "Marvel Rivals",
         "https://static-cdn.jtvnw.net/ttv-boxart/1264310518_IGDB-{width}x{height}.jpg",
         "294041",
         "2025-06-13T01:59:37.949022"
        ],
        [
         "1987896617",
         "Dune: Awakening",
         "https://static-cdn.jtvnw.net/ttv-boxart/1987896617_IGDB-{width}x{height}.jpg",
         "214394",
         "2025-06-13T01:59:37.949022"
        ],
        [
         "512710",
         "Call of Duty: Warzone",
         "https://static-cdn.jtvnw.net/ttv-boxart/512710-{width}x{height}.jpg",
         "131800",
         "2025-06-13T01:59:37.949022"
        ],
        [
         "516575",
         "VALORANT",
         "https://static-cdn.jtvnw.net/ttv-boxart/516575-{width}x{height}.jpg",
         "126459",
         "2025-06-13T01:59:37.949022"
        ],
        [
         "29595",
         "Dota 2",
         "https://static-cdn.jtvnw.net/ttv-boxart/29595-{width}x{height}.jpg",
         "",
         "2025-06-13T01:59:37.949022"
        ],
        [
         "27471",
         "Minecraft",
         "https://static-cdn.jtvnw.net/ttv-boxart/27471_IGDB-{width}x{height}.jpg",
         "135400",
         "2025-06-13T01:59:37.949022"
        ],
        [
         "491487",
         "Dead by Daylight",
         "https://static-cdn.jtvnw.net/ttv-boxart/491487-{width}x{height}.jpg",
         "18866",
         "2025-06-13T01:59:37.949022"
        ],
        [
         "982348888",
         "Elden Ring: Nightreign",
         "https://static-cdn.jtvnw.net/ttv-boxart/982348888_IGDB-{width}x{height}.jpg",
         "325591",
         "2025-06-13T01:59:37.949022"
        ],
        [
         "29452",
         "Virtual Casino",
         "https://static-cdn.jtvnw.net/ttv-boxart/29452_IGDB-{width}x{height}.jpg",
         "45517",
         "2025-06-13T01:59:37.949022"
        ],
        [
         "511224",
         "Apex Legends",
         "https://static-cdn.jtvnw.net/ttv-boxart/511224-{width}x{height}.jpg",
         "114795",
         "2025-06-13T01:59:37.949022"
        ],
        [
         "515025",
         "Overwatch 2",
         "https://static-cdn.jtvnw.net/ttv-boxart/515025-{width}x{height}.jpg",
         "125174",
         "2025-06-13T01:59:37.949022"
        ],
        [
         "32399",
         "Counter-Strike",
         "https://static-cdn.jtvnw.net/ttv-boxart/32399-{width}x{height}.jpg",
         "",
         "2025-06-13T19:01:43.345556"
        ],
        [
         "516575",
         "VALORANT",
         "https://static-cdn.jtvnw.net/ttv-boxart/516575-{width}x{height}.jpg",
         "126459",
         "2025-06-13T19:01:43.345556"
        ],
        [
         "32982",
         "Grand Theft Auto V",
         "https://static-cdn.jtvnw.net/ttv-boxart/32982_IGDB-{width}x{height}.jpg",
         "1020",
         "2025-06-13T19:01:43.345556"
        ],
        [
         "29307",
         "Path of Exile",
         "https://static-cdn.jtvnw.net/ttv-boxart/29307_IGDB-{width}x{height}.jpg",
         "1911",
         "2025-06-13T19:01:43.345556"
        ],
        [
         "21779",
         "League of Legends",
         "https://static-cdn.jtvnw.net/ttv-boxart/21779-{width}x{height}.jpg",
         "115",
         "2025-06-13T19:01:43.345556"
        ],
        [
         "27471",
         "Minecraft",
         "https://static-cdn.jtvnw.net/ttv-boxart/27471_IGDB-{width}x{height}.jpg",
         "135400",
         "2025-06-13T19:01:43.345556"
        ],
        [
         "481086259",
         "The Alters",
         "https://static-cdn.jtvnw.net/ttv-boxart/481086259_IGDB-{width}x{height}.jpg",
         "204634",
         "2025-06-13T19:01:43.345556"
        ],
        [
         "33214",
         "Fortnite",
         "https://static-cdn.jtvnw.net/ttv-boxart/33214-{width}x{height}.jpg",
         "1905",
         "2025-06-13T19:01:43.345556"
        ],
        [
         "29595",
         "Dota 2",
         "https://static-cdn.jtvnw.net/ttv-boxart/29595-{width}x{height}.jpg",
         "",
         "2025-06-13T19:01:43.345556"
        ],
        [
         "602694215",
         "Five Nights at Freddy's: Secret of the Mimic",
         "https://static-cdn.jtvnw.net/ttv-boxart/602694215_IGDB-{width}x{height}.jpg",
         "312859",
         "2025-06-13T19:01:43.345556"
        ],
        [
         "2011938005",
         "EA Sports FC 25",
         "https://static-cdn.jtvnw.net/ttv-boxart/2011938005_IGDB-{width}x{height}.jpg",
         "308698",
         "2025-06-13T19:01:43.345556"
        ],
        [
         "1987896617",
         "Dune: Awakening",
         "https://static-cdn.jtvnw.net/ttv-boxart/1987896617_IGDB-{width}x{height}.jpg",
         "214394",
         "2025-06-13T19:01:43.345556"
        ],
        [
         "460630",
         "Tom Clancy's Rainbow Six Siege X",
         "https://static-cdn.jtvnw.net/ttv-boxart/460630-{width}x{height}.jpg",
         "7360",
         "2025-06-13T19:01:43.345556"
        ],
        [
         "55453844",
         "Street Fighter 6",
         "https://static-cdn.jtvnw.net/ttv-boxart/55453844_IGDB-{width}x{height}.jpg",
         "191692",
         "2025-06-13T19:01:43.345556"
        ],
        [
         "512710",
         "Call of Duty: Warzone",
         "https://static-cdn.jtvnw.net/ttv-boxart/512710-{width}x{height}.jpg",
         "131800",
         "2025-06-13T19:01:43.345556"
        ],
        [
         "1826300051",
         "Mario Kart World",
         "https://static-cdn.jtvnw.net/ttv-boxart/1826300051_IGDB-{width}x{height}.jpg",
         "338067",
         "2025-06-13T19:01:43.345556"
        ],
        [
         "32399",
         "Counter-Strike",
         "https://static-cdn.jtvnw.net/ttv-boxart/32399-{width}x{height}.jpg",
         "",
         "2025-06-13T19:00:40.870943"
        ],
        [
         "516575",
         "VALORANT",
         "https://static-cdn.jtvnw.net/ttv-boxart/516575-{width}x{height}.jpg",
         "126459",
         "2025-06-13T19:00:40.870943"
        ],
        [
         "32982",
         "Grand Theft Auto V",
         "https://static-cdn.jtvnw.net/ttv-boxart/32982_IGDB-{width}x{height}.jpg",
         "1020",
         "2025-06-13T19:00:40.870943"
        ],
        [
         "29307",
         "Path of Exile",
         "https://static-cdn.jtvnw.net/ttv-boxart/29307_IGDB-{width}x{height}.jpg",
         "1911",
         "2025-06-13T19:00:40.870943"
        ],
        [
         "21779",
         "League of Legends",
         "https://static-cdn.jtvnw.net/ttv-boxart/21779-{width}x{height}.jpg",
         "115",
         "2025-06-13T19:00:40.870943"
        ],
        [
         "27471",
         "Minecraft",
         "https://static-cdn.jtvnw.net/ttv-boxart/27471_IGDB-{width}x{height}.jpg",
         "135400",
         "2025-06-13T19:00:40.870943"
        ],
        [
         "481086259",
         "The Alters",
         "https://static-cdn.jtvnw.net/ttv-boxart/481086259_IGDB-{width}x{height}.jpg",
         "204634",
         "2025-06-13T19:00:40.870943"
        ],
        [
         "33214",
         "Fortnite",
         "https://static-cdn.jtvnw.net/ttv-boxart/33214-{width}x{height}.jpg",
         "1905",
         "2025-06-13T19:00:40.870943"
        ],
        [
         "29595",
         "Dota 2",
         "https://static-cdn.jtvnw.net/ttv-boxart/29595-{width}x{height}.jpg",
         "",
         "2025-06-13T19:00:40.870943"
        ],
        [
         "602694215",
         "Five Nights at Freddy's: Secret of the Mimic",
         "https://static-cdn.jtvnw.net/ttv-boxart/602694215_IGDB-{width}x{height}.jpg",
         "312859",
         "2025-06-13T19:00:40.870943"
        ],
        [
         "2011938005",
         "EA Sports FC 25",
         "https://static-cdn.jtvnw.net/ttv-boxart/2011938005_IGDB-{width}x{height}.jpg",
         "308698",
         "2025-06-13T19:00:40.870943"
        ],
        [
         "1987896617",
         "Dune: Awakening",
         "https://static-cdn.jtvnw.net/ttv-boxart/1987896617_IGDB-{width}x{height}.jpg",
         "214394",
         "2025-06-13T19:00:40.870943"
        ],
        [
         "460630",
         "Tom Clancy's Rainbow Six Siege X",
         "https://static-cdn.jtvnw.net/ttv-boxart/460630-{width}x{height}.jpg",
         "7360",
         "2025-06-13T19:00:40.870943"
        ],
        [
         "55453844",
         "Street Fighter 6",
         "https://static-cdn.jtvnw.net/ttv-boxart/55453844_IGDB-{width}x{height}.jpg",
         "191692",
         "2025-06-13T19:00:40.870943"
        ],
        [
         "512710",
         "Call of Duty: Warzone",
         "https://static-cdn.jtvnw.net/ttv-boxart/512710-{width}x{height}.jpg",
         "131800",
         "2025-06-13T19:00:40.870943"
        ],
        [
         "1826300051",
         "Mario Kart World",
         "https://static-cdn.jtvnw.net/ttv-boxart/1826300051_IGDB-{width}x{height}.jpg",
         "338067",
         "2025-06-13T19:00:40.870943"
        ],
        [
         "32399",
         "Counter-Strike",
         "https://static-cdn.jtvnw.net/ttv-boxart/32399-{width}x{height}.jpg",
         "",
         "2025-06-13T19:27:48.683074"
        ],
        [
         "516575",
         "VALORANT",
         "https://static-cdn.jtvnw.net/ttv-boxart/516575-{width}x{height}.jpg",
         "126459",
         "2025-06-13T19:27:48.683074"
        ],
        [
         "32982",
         "Grand Theft Auto V",
         "https://static-cdn.jtvnw.net/ttv-boxart/32982_IGDB-{width}x{height}.jpg",
         "1020",
         "2025-06-13T19:27:48.683074"
        ],
        [
         "29307",
         "Path of Exile",
         "https://static-cdn.jtvnw.net/ttv-boxart/29307_IGDB-{width}x{height}.jpg",
         "1911",
         "2025-06-13T19:27:48.683074"
        ],
        [
         "27471",
         "Minecraft",
         "https://static-cdn.jtvnw.net/ttv-boxart/27471_IGDB-{width}x{height}.jpg",
         "135400",
         "2025-06-13T19:27:48.683074"
        ],
        [
         "21779",
         "League of Legends",
         "https://static-cdn.jtvnw.net/ttv-boxart/21779-{width}x{height}.jpg",
         "115",
         "2025-06-13T19:27:48.683074"
        ],
        [
         "481086259",
         "The Alters",
         "https://static-cdn.jtvnw.net/ttv-boxart/481086259_IGDB-{width}x{height}.jpg",
         "204634",
         "2025-06-13T19:27:48.683074"
        ],
        [
         "33214",
         "Fortnite",
         "https://static-cdn.jtvnw.net/ttv-boxart/33214-{width}x{height}.jpg",
         "1905",
         "2025-06-13T19:27:48.683074"
        ],
        [
         "602694215",
         "Five Nights at Freddy's: Secret of the Mimic",
         "https://static-cdn.jtvnw.net/ttv-boxart/602694215_IGDB-{width}x{height}.jpg",
         "312859",
         "2025-06-13T19:27:48.683074"
        ],
        [
         "29595",
         "Dota 2",
         "https://static-cdn.jtvnw.net/ttv-boxart/29595-{width}x{height}.jpg",
         "",
         "2025-06-13T19:27:48.683074"
        ],
        [
         "460630",
         "Tom Clancy's Rainbow Six Siege X",
         "https://static-cdn.jtvnw.net/ttv-boxart/460630-{width}x{height}.jpg",
         "7360",
         "2025-06-13T19:27:48.683074"
        ],
        [
         "2011938005",
         "EA Sports FC 25",
         "https://static-cdn.jtvnw.net/ttv-boxart/2011938005_IGDB-{width}x{height}.jpg",
         "308698",
         "2025-06-13T19:27:48.683074"
        ],
        [
         "1987896617",
         "Dune: Awakening",
         "https://static-cdn.jtvnw.net/ttv-boxart/1987896617_IGDB-{width}x{height}.jpg",
         "214394",
         "2025-06-13T19:27:48.683074"
        ],
        [
         "512710",
         "Call of Duty: Warzone",
         "https://static-cdn.jtvnw.net/ttv-boxart/512710-{width}x{height}.jpg",
         "131800",
         "2025-06-13T19:27:48.683074"
        ],
        [
         "55453844",
         "Street Fighter 6",
         "https://static-cdn.jtvnw.net/ttv-boxart/55453844_IGDB-{width}x{height}.jpg",
         "191692",
         "2025-06-13T19:27:48.683074"
        ],
        [
         "1826300051",
         "Mario Kart World",
         "https://static-cdn.jtvnw.net/ttv-boxart/1826300051_IGDB-{width}x{height}.jpg",
         "338067",
         "2025-06-13T19:27:48.683074"
        ],
        [
         "32399",
         "Counter-Strike",
         "https://static-cdn.jtvnw.net/ttv-boxart/32399-{width}x{height}.jpg",
         "",
         "2025-06-13T19:28:50.776741"
        ],
        [
         "516575",
         "VALORANT",
         "https://static-cdn.jtvnw.net/ttv-boxart/516575-{width}x{height}.jpg",
         "126459",
         "2025-06-13T19:28:50.776741"
        ],
        [
         "32982",
         "Grand Theft Auto V",
         "https://static-cdn.jtvnw.net/ttv-boxart/32982_IGDB-{width}x{height}.jpg",
         "1020",
         "2025-06-13T19:28:50.776741"
        ],
        [
         "29307",
         "Path of Exile",
         "https://static-cdn.jtvnw.net/ttv-boxart/29307_IGDB-{width}x{height}.jpg",
         "1911",
         "2025-06-13T19:28:50.776741"
        ],
        [
         "27471",
         "Minecraft",
         "https://static-cdn.jtvnw.net/ttv-boxart/27471_IGDB-{width}x{height}.jpg",
         "135400",
         "2025-06-13T19:28:50.776741"
        ],
        [
         "21779",
         "League of Legends",
         "https://static-cdn.jtvnw.net/ttv-boxart/21779-{width}x{height}.jpg",
         "115",
         "2025-06-13T19:28:50.776741"
        ],
        [
         "481086259",
         "The Alters",
         "https://static-cdn.jtvnw.net/ttv-boxart/481086259_IGDB-{width}x{height}.jpg",
         "204634",
         "2025-06-13T19:28:50.776741"
        ],
        [
         "33214",
         "Fortnite",
         "https://static-cdn.jtvnw.net/ttv-boxart/33214-{width}x{height}.jpg",
         "1905",
         "2025-06-13T19:28:50.776741"
        ],
        [
         "602694215",
         "Five Nights at Freddy's: Secret of the Mimic",
         "https://static-cdn.jtvnw.net/ttv-boxart/602694215_IGDB-{width}x{height}.jpg",
         "312859",
         "2025-06-13T19:28:50.776741"
        ],
        [
         "29595",
         "Dota 2",
         "https://static-cdn.jtvnw.net/ttv-boxart/29595-{width}x{height}.jpg",
         "",
         "2025-06-13T19:28:50.776741"
        ],
        [
         "460630",
         "Tom Clancy's Rainbow Six Siege X",
         "https://static-cdn.jtvnw.net/ttv-boxart/460630-{width}x{height}.jpg",
         "7360",
         "2025-06-13T19:28:50.776741"
        ],
        [
         "2011938005",
         "EA Sports FC 25",
         "https://static-cdn.jtvnw.net/ttv-boxart/2011938005_IGDB-{width}x{height}.jpg",
         "308698",
         "2025-06-13T19:28:50.776741"
        ],
        [
         "1987896617",
         "Dune: Awakening",
         "https://static-cdn.jtvnw.net/ttv-boxart/1987896617_IGDB-{width}x{height}.jpg",
         "214394",
         "2025-06-13T19:28:50.776741"
        ],
        [
         "512710",
         "Call of Duty: Warzone",
         "https://static-cdn.jtvnw.net/ttv-boxart/512710-{width}x{height}.jpg",
         "131800",
         "2025-06-13T19:28:50.776741"
        ],
        [
         "55453844",
         "Street Fighter 6",
         "https://static-cdn.jtvnw.net/ttv-boxart/55453844_IGDB-{width}x{height}.jpg",
         "191692",
         "2025-06-13T19:28:50.776741"
        ],
        [
         "1826300051",
         "Mario Kart World",
         "https://static-cdn.jtvnw.net/ttv-boxart/1826300051_IGDB-{width}x{height}.jpg",
         "338067",
         "2025-06-13T19:28:50.776741"
        ],
        [
         "32399",
         "Counter-Strike",
         "https://static-cdn.jtvnw.net/ttv-boxart/32399-{width}x{height}.jpg",
         "",
         "2025-06-13T18:52:17.597220"
        ],
        [
         "516575",
         "VALORANT",
         "https://static-cdn.jtvnw.net/ttv-boxart/516575-{width}x{height}.jpg",
         "126459",
         "2025-06-13T18:52:17.597220"
        ],
        [
         "32982",
         "Grand Theft Auto V",
         "https://static-cdn.jtvnw.net/ttv-boxart/32982_IGDB-{width}x{height}.jpg",
         "1020",
         "2025-06-13T18:52:17.597220"
        ],
        [
         "21779",
         "League of Legends",
         "https://static-cdn.jtvnw.net/ttv-boxart/21779-{width}x{height}.jpg",
         "115",
         "2025-06-13T18:52:17.597220"
        ],
        [
         "29307",
         "Path of Exile",
         "https://static-cdn.jtvnw.net/ttv-boxart/29307_IGDB-{width}x{height}.jpg",
         "1911",
         "2025-06-13T18:52:17.597220"
        ],
        [
         "27471",
         "Minecraft",
         "https://static-cdn.jtvnw.net/ttv-boxart/27471_IGDB-{width}x{height}.jpg",
         "135400",
         "2025-06-13T18:52:17.597220"
        ],
        [
         "29595",
         "Dota 2",
         "https://static-cdn.jtvnw.net/ttv-boxart/29595-{width}x{height}.jpg",
         "",
         "2025-06-13T18:52:17.597220"
        ],
        [
         "481086259",
         "The Alters",
         "https://static-cdn.jtvnw.net/ttv-boxart/481086259_IGDB-{width}x{height}.jpg",
         "204634",
         "2025-06-13T18:52:17.597220"
        ],
        [
         "33214",
         "Fortnite",
         "https://static-cdn.jtvnw.net/ttv-boxart/33214-{width}x{height}.jpg",
         "1905",
         "2025-06-13T18:52:17.597220"
        ],
        [
         "2011938005",
         "EA Sports FC 25",
         "https://static-cdn.jtvnw.net/ttv-boxart/2011938005_IGDB-{width}x{height}.jpg",
         "308698",
         "2025-06-13T18:52:17.597220"
        ],
        [
         "1987896617",
         "Dune: Awakening",
         "https://static-cdn.jtvnw.net/ttv-boxart/1987896617_IGDB-{width}x{height}.jpg",
         "214394",
         "2025-06-13T18:52:17.597220"
        ],
        [
         "602694215",
         "Five Nights at Freddy's: Secret of the Mimic",
         "https://static-cdn.jtvnw.net/ttv-boxart/602694215_IGDB-{width}x{height}.jpg",
         "312859",
         "2025-06-13T18:52:17.597220"
        ],
        [
         "55453844",
         "Street Fighter 6",
         "https://static-cdn.jtvnw.net/ttv-boxart/55453844_IGDB-{width}x{height}.jpg",
         "191692",
         "2025-06-13T18:52:17.597220"
        ],
        [
         "460630",
         "Tom Clancy's Rainbow Six Siege X",
         "https://static-cdn.jtvnw.net/ttv-boxart/460630-{width}x{height}.jpg",
         "7360",
         "2025-06-13T18:52:17.597220"
        ],
        [
         "512710",
         "Call of Duty: Warzone",
         "https://static-cdn.jtvnw.net/ttv-boxart/512710-{width}x{height}.jpg",
         "131800",
         "2025-06-13T18:52:17.597220"
        ],
        [
         "1826300051",
         "Mario Kart World",
         "https://static-cdn.jtvnw.net/ttv-boxart/1826300051_IGDB-{width}x{height}.jpg",
         "338067",
         "2025-06-13T18:52:17.597220"
        ],
        [
         "32399",
         "Counter-Strike",
         "https://static-cdn.jtvnw.net/ttv-boxart/32399-{width}x{height}.jpg",
         "",
         "2025-06-13T18:59:38.330803"
        ],
        [
         "516575",
         "VALORANT",
         "https://static-cdn.jtvnw.net/ttv-boxart/516575-{width}x{height}.jpg",
         "126459",
         "2025-06-13T18:59:38.330803"
        ],
        [
         "32982",
         "Grand Theft Auto V",
         "https://static-cdn.jtvnw.net/ttv-boxart/32982_IGDB-{width}x{height}.jpg",
         "1020",
         "2025-06-13T18:59:38.330803"
        ],
        [
         "29307",
         "Path of Exile",
         "https://static-cdn.jtvnw.net/ttv-boxart/29307_IGDB-{width}x{height}.jpg",
         "1911",
         "2025-06-13T18:59:38.330803"
        ],
        [
         "21779",
         "League of Legends",
         "https://static-cdn.jtvnw.net/ttv-boxart/21779-{width}x{height}.jpg",
         "115",
         "2025-06-13T18:59:38.330803"
        ],
        [
         "27471",
         "Minecraft",
         "https://static-cdn.jtvnw.net/ttv-boxart/27471_IGDB-{width}x{height}.jpg",
         "135400",
         "2025-06-13T18:59:38.330803"
        ],
        [
         "481086259",
         "The Alters",
         "https://static-cdn.jtvnw.net/ttv-boxart/481086259_IGDB-{width}x{height}.jpg",
         "204634",
         "2025-06-13T18:59:38.330803"
        ],
        [
         "33214",
         "Fortnite",
         "https://static-cdn.jtvnw.net/ttv-boxart/33214-{width}x{height}.jpg",
         "1905",
         "2025-06-13T18:59:38.330803"
        ],
        [
         "29595",
         "Dota 2",
         "https://static-cdn.jtvnw.net/ttv-boxart/29595-{width}x{height}.jpg",
         "",
         "2025-06-13T18:59:38.330803"
        ],
        [
         "2011938005",
         "EA Sports FC 25",
         "https://static-cdn.jtvnw.net/ttv-boxart/2011938005_IGDB-{width}x{height}.jpg",
         "308698",
         "2025-06-13T18:59:38.330803"
        ],
        [
         "602694215",
         "Five Nights at Freddy's: Secret of the Mimic",
         "https://static-cdn.jtvnw.net/ttv-boxart/602694215_IGDB-{width}x{height}.jpg",
         "312859",
         "2025-06-13T18:59:38.330803"
        ],
        [
         "1987896617",
         "Dune: Awakening",
         "https://static-cdn.jtvnw.net/ttv-boxart/1987896617_IGDB-{width}x{height}.jpg",
         "214394",
         "2025-06-13T18:59:38.330803"
        ],
        [
         "460630",
         "Tom Clancy's Rainbow Six Siege X",
         "https://static-cdn.jtvnw.net/ttv-boxart/460630-{width}x{height}.jpg",
         "7360",
         "2025-06-13T18:59:38.330803"
        ],
        [
         "512710",
         "Call of Duty: Warzone",
         "https://static-cdn.jtvnw.net/ttv-boxart/512710-{width}x{height}.jpg",
         "131800",
         "2025-06-13T18:59:38.330803"
        ],
        [
         "55453844",
         "Street Fighter 6",
         "https://static-cdn.jtvnw.net/ttv-boxart/55453844_IGDB-{width}x{height}.jpg",
         "191692",
         "2025-06-13T18:59:38.330803"
        ],
        [
         "1826300051",
         "Mario Kart World",
         "https://static-cdn.jtvnw.net/ttv-boxart/1826300051_IGDB-{width}x{height}.jpg",
         "338067",
         "2025-06-13T18:59:38.330803"
        ],
        [
         "32399",
         "Counter-Strike",
         "https://static-cdn.jtvnw.net/ttv-boxart/32399-{width}x{height}.jpg",
         "",
         "2025-06-13T19:35:06.178116"
        ],
        [
         "516575",
         "VALORANT",
         "https://static-cdn.jtvnw.net/ttv-boxart/516575-{width}x{height}.jpg",
         "126459",
         "2025-06-13T19:35:06.178116"
        ],
        [
         "32982",
         "Grand Theft Auto V",
         "https://static-cdn.jtvnw.net/ttv-boxart/32982_IGDB-{width}x{height}.jpg",
         "1020",
         "2025-06-13T19:35:06.178116"
        ],
        [
         "29307",
         "Path of Exile",
         "https://static-cdn.jtvnw.net/ttv-boxart/29307_IGDB-{width}x{height}.jpg",
         "1911",
         "2025-06-13T19:35:06.178116"
        ],
        [
         "27471",
         "Minecraft",
         "https://static-cdn.jtvnw.net/ttv-boxart/27471_IGDB-{width}x{height}.jpg",
         "135400",
         "2025-06-13T19:35:06.178116"
        ],
        [
         "21779",
         "League of Legends",
         "https://static-cdn.jtvnw.net/ttv-boxart/21779-{width}x{height}.jpg",
         "115",
         "2025-06-13T19:35:06.178116"
        ],
        [
         "481086259",
         "The Alters",
         "https://static-cdn.jtvnw.net/ttv-boxart/481086259_IGDB-{width}x{height}.jpg",
         "204634",
         "2025-06-13T19:35:06.178116"
        ],
        [
         "33214",
         "Fortnite",
         "https://static-cdn.jtvnw.net/ttv-boxart/33214-{width}x{height}.jpg",
         "1905",
         "2025-06-13T19:35:06.178116"
        ],
        [
         "602694215",
         "Five Nights at Freddy's: Secret of the Mimic",
         "https://static-cdn.jtvnw.net/ttv-boxart/602694215_IGDB-{width}x{height}.jpg",
         "312859",
         "2025-06-13T19:35:06.178116"
        ],
        [
         "29595",
         "Dota 2",
         "https://static-cdn.jtvnw.net/ttv-boxart/29595-{width}x{height}.jpg",
         "",
         "2025-06-13T19:35:06.178116"
        ],
        [
         "460630",
         "Tom Clancy's Rainbow Six Siege X",
         "https://static-cdn.jtvnw.net/ttv-boxart/460630-{width}x{height}.jpg",
         "7360",
         "2025-06-13T19:35:06.178116"
        ],
        [
         "2011938005",
         "EA Sports FC 25",
         "https://static-cdn.jtvnw.net/ttv-boxart/2011938005_IGDB-{width}x{height}.jpg",
         "308698",
         "2025-06-13T19:35:06.178116"
        ],
        [
         "512710",
         "Call of Duty: Warzone",
         "https://static-cdn.jtvnw.net/ttv-boxart/512710-{width}x{height}.jpg",
         "131800",
         "2025-06-13T19:35:06.178116"
        ],
        [
         "1987896617",
         "Dune: Awakening",
         "https://static-cdn.jtvnw.net/ttv-boxart/1987896617_IGDB-{width}x{height}.jpg",
         "214394",
         "2025-06-13T19:35:06.178116"
        ],
        [
         "1826300051",
         "Mario Kart World",
         "https://static-cdn.jtvnw.net/ttv-boxart/1826300051_IGDB-{width}x{height}.jpg",
         "338067",
         "2025-06-13T19:35:06.178116"
        ],
        [
         "55453844",
         "Street Fighter 6",
         "https://static-cdn.jtvnw.net/ttv-boxart/55453844_IGDB-{width}x{height}.jpg",
         "191692",
         "2025-06-13T19:35:06.178116"
        ],
        [
         "32399",
         "Counter-Strike",
         "https://static-cdn.jtvnw.net/ttv-boxart/32399-{width}x{height}.jpg",
         "",
         "2025-06-13T18:53:19.852418"
        ],
        [
         "516575",
         "VALORANT",
         "https://static-cdn.jtvnw.net/ttv-boxart/516575-{width}x{height}.jpg",
         "126459",
         "2025-06-13T18:53:19.852418"
        ],
        [
         "32982",
         "Grand Theft Auto V",
         "https://static-cdn.jtvnw.net/ttv-boxart/32982_IGDB-{width}x{height}.jpg",
         "1020",
         "2025-06-13T18:53:19.852418"
        ],
        [
         "21779",
         "League of Legends",
         "https://static-cdn.jtvnw.net/ttv-boxart/21779-{width}x{height}.jpg",
         "115",
         "2025-06-13T18:53:19.852418"
        ],
        [
         "29307",
         "Path of Exile",
         "https://static-cdn.jtvnw.net/ttv-boxart/29307_IGDB-{width}x{height}.jpg",
         "1911",
         "2025-06-13T18:53:19.852418"
        ],
        [
         "27471",
         "Minecraft",
         "https://static-cdn.jtvnw.net/ttv-boxart/27471_IGDB-{width}x{height}.jpg",
         "135400",
         "2025-06-13T18:53:19.852418"
        ],
        [
         "29595",
         "Dota 2",
         "https://static-cdn.jtvnw.net/ttv-boxart/29595-{width}x{height}.jpg",
         "",
         "2025-06-13T18:53:19.852418"
        ],
        [
         "481086259",
         "The Alters",
         "https://static-cdn.jtvnw.net/ttv-boxart/481086259_IGDB-{width}x{height}.jpg",
         "204634",
         "2025-06-13T18:53:19.852418"
        ],
        [
         "33214",
         "Fortnite",
         "https://static-cdn.jtvnw.net/ttv-boxart/33214-{width}x{height}.jpg",
         "1905",
         "2025-06-13T18:53:19.852418"
        ],
        [
         "2011938005",
         "EA Sports FC 25",
         "https://static-cdn.jtvnw.net/ttv-boxart/2011938005_IGDB-{width}x{height}.jpg",
         "308698",
         "2025-06-13T18:53:19.852418"
        ],
        [
         "1987896617",
         "Dune: Awakening",
         "https://static-cdn.jtvnw.net/ttv-boxart/1987896617_IGDB-{width}x{height}.jpg",
         "214394",
         "2025-06-13T18:53:19.852418"
        ],
        [
         "602694215",
         "Five Nights at Freddy's: Secret of the Mimic",
         "https://static-cdn.jtvnw.net/ttv-boxart/602694215_IGDB-{width}x{height}.jpg",
         "312859",
         "2025-06-13T18:53:19.852418"
        ],
        [
         "460630",
         "Tom Clancy's Rainbow Six Siege X",
         "https://static-cdn.jtvnw.net/ttv-boxart/460630-{width}x{height}.jpg",
         "7360",
         "2025-06-13T18:53:19.852418"
        ],
        [
         "55453844",
         "Street Fighter 6",
         "https://static-cdn.jtvnw.net/ttv-boxart/55453844_IGDB-{width}x{height}.jpg",
         "191692",
         "2025-06-13T18:53:19.852418"
        ],
        [
         "512710",
         "Call of Duty: Warzone",
         "https://static-cdn.jtvnw.net/ttv-boxart/512710-{width}x{height}.jpg",
         "131800",
         "2025-06-13T18:53:19.852418"
        ],
        [
         "1826300051",
         "Mario Kart World",
         "https://static-cdn.jtvnw.net/ttv-boxart/1826300051_IGDB-{width}x{height}.jpg",
         "338067",
         "2025-06-13T18:53:19.852418"
        ],
        [
         "32399",
         "Counter-Strike",
         "https://static-cdn.jtvnw.net/ttv-boxart/32399-{width}x{height}.jpg",
         "",
         "2025-06-13T19:34:04.232174"
        ],
        [
         "516575",
         "VALORANT",
         "https://static-cdn.jtvnw.net/ttv-boxart/516575-{width}x{height}.jpg",
         "126459",
         "2025-06-13T19:34:04.232174"
        ],
        [
         "32982",
         "Grand Theft Auto V",
         "https://static-cdn.jtvnw.net/ttv-boxart/32982_IGDB-{width}x{height}.jpg",
         "1020",
         "2025-06-13T19:34:04.232174"
        ],
        [
         "29307",
         "Path of Exile",
         "https://static-cdn.jtvnw.net/ttv-boxart/29307_IGDB-{width}x{height}.jpg",
         "1911",
         "2025-06-13T19:34:04.232174"
        ],
        [
         "27471",
         "Minecraft",
         "https://static-cdn.jtvnw.net/ttv-boxart/27471_IGDB-{width}x{height}.jpg",
         "135400",
         "2025-06-13T19:34:04.232174"
        ],
        [
         "21779",
         "League of Legends",
         "https://static-cdn.jtvnw.net/ttv-boxart/21779-{width}x{height}.jpg",
         "115",
         "2025-06-13T19:34:04.232174"
        ],
        [
         "481086259",
         "The Alters",
         "https://static-cdn.jtvnw.net/ttv-boxart/481086259_IGDB-{width}x{height}.jpg",
         "204634",
         "2025-06-13T19:34:04.232174"
        ],
        [
         "33214",
         "Fortnite",
         "https://static-cdn.jtvnw.net/ttv-boxart/33214-{width}x{height}.jpg",
         "1905",
         "2025-06-13T19:34:04.232174"
        ],
        [
         "602694215",
         "Five Nights at Freddy's: Secret of the Mimic",
         "https://static-cdn.jtvnw.net/ttv-boxart/602694215_IGDB-{width}x{height}.jpg",
         "312859",
         "2025-06-13T19:34:04.232174"
        ],
        [
         "29595",
         "Dota 2",
         "https://static-cdn.jtvnw.net/ttv-boxart/29595-{width}x{height}.jpg",
         "",
         "2025-06-13T19:34:04.232174"
        ],
        [
         "460630",
         "Tom Clancy's Rainbow Six Siege X",
         "https://static-cdn.jtvnw.net/ttv-boxart/460630-{width}x{height}.jpg",
         "7360",
         "2025-06-13T19:34:04.232174"
        ],
        [
         "2011938005",
         "EA Sports FC 25",
         "https://static-cdn.jtvnw.net/ttv-boxart/2011938005_IGDB-{width}x{height}.jpg",
         "308698",
         "2025-06-13T19:34:04.232174"
        ],
        [
         "512710",
         "Call of Duty: Warzone",
         "https://static-cdn.jtvnw.net/ttv-boxart/512710-{width}x{height}.jpg",
         "131800",
         "2025-06-13T19:34:04.232174"
        ],
        [
         "1987896617",
         "Dune: Awakening",
         "https://static-cdn.jtvnw.net/ttv-boxart/1987896617_IGDB-{width}x{height}.jpg",
         "214394",
         "2025-06-13T19:34:04.232174"
        ],
        [
         "1826300051",
         "Mario Kart World",
         "https://static-cdn.jtvnw.net/ttv-boxart/1826300051_IGDB-{width}x{height}.jpg",
         "338067",
         "2025-06-13T19:34:04.232174"
        ],
        [
         "55453844",
         "Street Fighter 6",
         "https://static-cdn.jtvnw.net/ttv-boxart/55453844_IGDB-{width}x{height}.jpg",
         "191692",
         "2025-06-13T19:34:04.232174"
        ],
        [
         "32399",
         "Counter-Strike",
         "https://static-cdn.jtvnw.net/ttv-boxart/32399-{width}x{height}.jpg",
         "",
         "2025-06-13T19:30:55.169132"
        ],
        [
         "516575",
         "VALORANT",
         "https://static-cdn.jtvnw.net/ttv-boxart/516575-{width}x{height}.jpg",
         "126459",
         "2025-06-13T19:30:55.169132"
        ],
        [
         "32982",
         "Grand Theft Auto V",
         "https://static-cdn.jtvnw.net/ttv-boxart/32982_IGDB-{width}x{height}.jpg",
         "1020",
         "2025-06-13T19:30:55.169132"
        ],
        [
         "29307",
         "Path of Exile",
         "https://static-cdn.jtvnw.net/ttv-boxart/29307_IGDB-{width}x{height}.jpg",
         "1911",
         "2025-06-13T19:30:55.169132"
        ],
        [
         "27471",
         "Minecraft",
         "https://static-cdn.jtvnw.net/ttv-boxart/27471_IGDB-{width}x{height}.jpg",
         "135400",
         "2025-06-13T19:30:55.169132"
        ],
        [
         "21779",
         "League of Legends",
         "https://static-cdn.jtvnw.net/ttv-boxart/21779-{width}x{height}.jpg",
         "115",
         "2025-06-13T19:30:55.169132"
        ],
        [
         "481086259",
         "The Alters",
         "https://static-cdn.jtvnw.net/ttv-boxart/481086259_IGDB-{width}x{height}.jpg",
         "204634",
         "2025-06-13T19:30:55.169132"
        ],
        [
         "33214",
         "Fortnite",
         "https://static-cdn.jtvnw.net/ttv-boxart/33214-{width}x{height}.jpg",
         "1905",
         "2025-06-13T19:30:55.169132"
        ],
        [
         "602694215",
         "Five Nights at Freddy's: Secret of the Mimic",
         "https://static-cdn.jtvnw.net/ttv-boxart/602694215_IGDB-{width}x{height}.jpg",
         "312859",
         "2025-06-13T19:30:55.169132"
        ],
        [
         "29595",
         "Dota 2",
         "https://static-cdn.jtvnw.net/ttv-boxart/29595-{width}x{height}.jpg",
         "",
         "2025-06-13T19:30:55.169132"
        ],
        [
         "460630",
         "Tom Clancy's Rainbow Six Siege X",
         "https://static-cdn.jtvnw.net/ttv-boxart/460630-{width}x{height}.jpg",
         "7360",
         "2025-06-13T19:30:55.169132"
        ],
        [
         "2011938005",
         "EA Sports FC 25",
         "https://static-cdn.jtvnw.net/ttv-boxart/2011938005_IGDB-{width}x{height}.jpg",
         "308698",
         "2025-06-13T19:30:55.169132"
        ],
        [
         "512710",
         "Call of Duty: Warzone",
         "https://static-cdn.jtvnw.net/ttv-boxart/512710-{width}x{height}.jpg",
         "131800",
         "2025-06-13T19:30:55.169132"
        ],
        [
         "1987896617",
         "Dune: Awakening",
         "https://static-cdn.jtvnw.net/ttv-boxart/1987896617_IGDB-{width}x{height}.jpg",
         "214394",
         "2025-06-13T19:30:55.169132"
        ],
        [
         "1826300051",
         "Mario Kart World",
         "https://static-cdn.jtvnw.net/ttv-boxart/1826300051_IGDB-{width}x{height}.jpg",
         "338067",
         "2025-06-13T19:30:55.169132"
        ],
        [
         "55453844",
         "Street Fighter 6",
         "https://static-cdn.jtvnw.net/ttv-boxart/55453844_IGDB-{width}x{height}.jpg",
         "191692",
         "2025-06-13T19:30:55.169132"
        ],
        [
         "32399",
         "Counter-Strike",
         "https://static-cdn.jtvnw.net/ttv-boxart/32399-{width}x{height}.jpg",
         "",
         "2025-06-13T19:29:53.196862"
        ],
        [
         "516575",
         "VALORANT",
         "https://static-cdn.jtvnw.net/ttv-boxart/516575-{width}x{height}.jpg",
         "126459",
         "2025-06-13T19:29:53.196862"
        ],
        [
         "32982",
         "Grand Theft Auto V",
         "https://static-cdn.jtvnw.net/ttv-boxart/32982_IGDB-{width}x{height}.jpg",
         "1020",
         "2025-06-13T19:29:53.196862"
        ],
        [
         "29307",
         "Path of Exile",
         "https://static-cdn.jtvnw.net/ttv-boxart/29307_IGDB-{width}x{height}.jpg",
         "1911",
         "2025-06-13T19:29:53.196862"
        ],
        [
         "27471",
         "Minecraft",
         "https://static-cdn.jtvnw.net/ttv-boxart/27471_IGDB-{width}x{height}.jpg",
         "135400",
         "2025-06-13T19:29:53.196862"
        ],
        [
         "21779",
         "League of Legends",
         "https://static-cdn.jtvnw.net/ttv-boxart/21779-{width}x{height}.jpg",
         "115",
         "2025-06-13T19:29:53.196862"
        ],
        [
         "481086259",
         "The Alters",
         "https://static-cdn.jtvnw.net/ttv-boxart/481086259_IGDB-{width}x{height}.jpg",
         "204634",
         "2025-06-13T19:29:53.196862"
        ],
        [
         "33214",
         "Fortnite",
         "https://static-cdn.jtvnw.net/ttv-boxart/33214-{width}x{height}.jpg",
         "1905",
         "2025-06-13T19:29:53.196862"
        ],
        [
         "602694215",
         "Five Nights at Freddy's: Secret of the Mimic",
         "https://static-cdn.jtvnw.net/ttv-boxart/602694215_IGDB-{width}x{height}.jpg",
         "312859",
         "2025-06-13T19:29:53.196862"
        ],
        [
         "29595",
         "Dota 2",
         "https://static-cdn.jtvnw.net/ttv-boxart/29595-{width}x{height}.jpg",
         "",
         "2025-06-13T19:29:53.196862"
        ],
        [
         "460630",
         "Tom Clancy's Rainbow Six Siege X",
         "https://static-cdn.jtvnw.net/ttv-boxart/460630-{width}x{height}.jpg",
         "7360",
         "2025-06-13T19:29:53.196862"
        ],
        [
         "2011938005",
         "EA Sports FC 25",
         "https://static-cdn.jtvnw.net/ttv-boxart/2011938005_IGDB-{width}x{height}.jpg",
         "308698",
         "2025-06-13T19:29:53.196862"
        ],
        [
         "512710",
         "Call of Duty: Warzone",
         "https://static-cdn.jtvnw.net/ttv-boxart/512710-{width}x{height}.jpg",
         "131800",
         "2025-06-13T19:29:53.196862"
        ],
        [
         "1987896617",
         "Dune: Awakening",
         "https://static-cdn.jtvnw.net/ttv-boxart/1987896617_IGDB-{width}x{height}.jpg",
         "214394",
         "2025-06-13T19:29:53.196862"
        ],
        [
         "1826300051",
         "Mario Kart World",
         "https://static-cdn.jtvnw.net/ttv-boxart/1826300051_IGDB-{width}x{height}.jpg",
         "338067",
         "2025-06-13T19:29:53.196862"
        ],
        [
         "55453844",
         "Street Fighter 6",
         "https://static-cdn.jtvnw.net/ttv-boxart/55453844_IGDB-{width}x{height}.jpg",
         "191692",
         "2025-06-13T19:29:53.196862"
        ],
        [
         "32399",
         "Counter-Strike",
         "https://static-cdn.jtvnw.net/ttv-boxart/32399-{width}x{height}.jpg",
         "",
         "2025-06-13T19:33:02.248517"
        ],
        [
         "516575",
         "VALORANT",
         "https://static-cdn.jtvnw.net/ttv-boxart/516575-{width}x{height}.jpg",
         "126459",
         "2025-06-13T19:33:02.248517"
        ],
        [
         "32982",
         "Grand Theft Auto V",
         "https://static-cdn.jtvnw.net/ttv-boxart/32982_IGDB-{width}x{height}.jpg",
         "1020",
         "2025-06-13T19:33:02.248517"
        ],
        [
         "29307",
         "Path of Exile",
         "https://static-cdn.jtvnw.net/ttv-boxart/29307_IGDB-{width}x{height}.jpg",
         "1911",
         "2025-06-13T19:33:02.248517"
        ],
        [
         "27471",
         "Minecraft",
         "https://static-cdn.jtvnw.net/ttv-boxart/27471_IGDB-{width}x{height}.jpg",
         "135400",
         "2025-06-13T19:33:02.248517"
        ],
        [
         "21779",
         "League of Legends",
         "https://static-cdn.jtvnw.net/ttv-boxart/21779-{width}x{height}.jpg",
         "115",
         "2025-06-13T19:33:02.248517"
        ],
        [
         "481086259",
         "The Alters",
         "https://static-cdn.jtvnw.net/ttv-boxart/481086259_IGDB-{width}x{height}.jpg",
         "204634",
         "2025-06-13T19:33:02.248517"
        ],
        [
         "33214",
         "Fortnite",
         "https://static-cdn.jtvnw.net/ttv-boxart/33214-{width}x{height}.jpg",
         "1905",
         "2025-06-13T19:33:02.248517"
        ],
        [
         "602694215",
         "Five Nights at Freddy's: Secret of the Mimic",
         "https://static-cdn.jtvnw.net/ttv-boxart/602694215_IGDB-{width}x{height}.jpg",
         "312859",
         "2025-06-13T19:33:02.248517"
        ],
        [
         "29595",
         "Dota 2",
         "https://static-cdn.jtvnw.net/ttv-boxart/29595-{width}x{height}.jpg",
         "",
         "2025-06-13T19:33:02.248517"
        ],
        [
         "460630",
         "Tom Clancy's Rainbow Six Siege X",
         "https://static-cdn.jtvnw.net/ttv-boxart/460630-{width}x{height}.jpg",
         "7360",
         "2025-06-13T19:33:02.248517"
        ],
        [
         "2011938005",
         "EA Sports FC 25",
         "https://static-cdn.jtvnw.net/ttv-boxart/2011938005_IGDB-{width}x{height}.jpg",
         "308698",
         "2025-06-13T19:33:02.248517"
        ],
        [
         "512710",
         "Call of Duty: Warzone",
         "https://static-cdn.jtvnw.net/ttv-boxart/512710-{width}x{height}.jpg",
         "131800",
         "2025-06-13T19:33:02.248517"
        ],
        [
         "1987896617",
         "Dune: Awakening",
         "https://static-cdn.jtvnw.net/ttv-boxart/1987896617_IGDB-{width}x{height}.jpg",
         "214394",
         "2025-06-13T19:33:02.248517"
        ],
        [
         "1826300051",
         "Mario Kart World",
         "https://static-cdn.jtvnw.net/ttv-boxart/1826300051_IGDB-{width}x{height}.jpg",
         "338067",
         "2025-06-13T19:33:02.248517"
        ],
        [
         "55453844",
         "Street Fighter 6",
         "https://static-cdn.jtvnw.net/ttv-boxart/55453844_IGDB-{width}x{height}.jpg",
         "191692",
         "2025-06-13T19:33:02.248517"
        ],
        [
         "32399",
         "Counter-Strike",
         "https://static-cdn.jtvnw.net/ttv-boxart/32399-{width}x{height}.jpg",
         "",
         "2025-06-13T18:58:35.988329"
        ],
        [
         "516575",
         "VALORANT",
         "https://static-cdn.jtvnw.net/ttv-boxart/516575-{width}x{height}.jpg",
         "126459",
         "2025-06-13T18:58:35.988329"
        ],
        [
         "32982",
         "Grand Theft Auto V",
         "https://static-cdn.jtvnw.net/ttv-boxart/32982_IGDB-{width}x{height}.jpg",
         "1020",
         "2025-06-13T18:58:35.988329"
        ],
        [
         "29307",
         "Path of Exile",
         "https://static-cdn.jtvnw.net/ttv-boxart/29307_IGDB-{width}x{height}.jpg",
         "1911",
         "2025-06-13T18:58:35.988329"
        ],
        [
         "21779",
         "League of Legends",
         "https://static-cdn.jtvnw.net/ttv-boxart/21779-{width}x{height}.jpg",
         "115",
         "2025-06-13T18:58:35.988329"
        ],
        [
         "27471",
         "Minecraft",
         "https://static-cdn.jtvnw.net/ttv-boxart/27471_IGDB-{width}x{height}.jpg",
         "135400",
         "2025-06-13T18:58:35.988329"
        ],
        [
         "481086259",
         "The Alters",
         "https://static-cdn.jtvnw.net/ttv-boxart/481086259_IGDB-{width}x{height}.jpg",
         "204634",
         "2025-06-13T18:58:35.988329"
        ],
        [
         "33214",
         "Fortnite",
         "https://static-cdn.jtvnw.net/ttv-boxart/33214-{width}x{height}.jpg",
         "1905",
         "2025-06-13T18:58:35.988329"
        ],
        [
         "29595",
         "Dota 2",
         "https://static-cdn.jtvnw.net/ttv-boxart/29595-{width}x{height}.jpg",
         "",
         "2025-06-13T18:58:35.988329"
        ],
        [
         "2011938005",
         "EA Sports FC 25",
         "https://static-cdn.jtvnw.net/ttv-boxart/2011938005_IGDB-{width}x{height}.jpg",
         "308698",
         "2025-06-13T18:58:35.988329"
        ],
        [
         "1987896617",
         "Dune: Awakening",
         "https://static-cdn.jtvnw.net/ttv-boxart/1987896617_IGDB-{width}x{height}.jpg",
         "214394",
         "2025-06-13T18:58:35.988329"
        ],
        [
         "602694215",
         "Five Nights at Freddy's: Secret of the Mimic",
         "https://static-cdn.jtvnw.net/ttv-boxart/602694215_IGDB-{width}x{height}.jpg",
         "312859",
         "2025-06-13T18:58:35.988329"
        ],
        [
         "460630",
         "Tom Clancy's Rainbow Six Siege X",
         "https://static-cdn.jtvnw.net/ttv-boxart/460630-{width}x{height}.jpg",
         "7360",
         "2025-06-13T18:58:35.988329"
        ],
        [
         "55453844",
         "Street Fighter 6",
         "https://static-cdn.jtvnw.net/ttv-boxart/55453844_IGDB-{width}x{height}.jpg",
         "191692",
         "2025-06-13T18:58:35.988329"
        ],
        [
         "512710",
         "Call of Duty: Warzone",
         "https://static-cdn.jtvnw.net/ttv-boxart/512710-{width}x{height}.jpg",
         "131800",
         "2025-06-13T18:58:35.988329"
        ],
        [
         "1826300051",
         "Mario Kart World",
         "https://static-cdn.jtvnw.net/ttv-boxart/1826300051_IGDB-{width}x{height}.jpg",
         "338067",
         "2025-06-13T18:58:35.988329"
        ],
        [
         "32399",
         "Counter-Strike",
         "https://static-cdn.jtvnw.net/ttv-boxart/32399-{width}x{height}.jpg",
         "",
         "2025-06-13T19:32:00.135697"
        ],
        [
         "516575",
         "VALORANT",
         "https://static-cdn.jtvnw.net/ttv-boxart/516575-{width}x{height}.jpg",
         "126459",
         "2025-06-13T19:32:00.135697"
        ],
        [
         "32982",
         "Grand Theft Auto V",
         "https://static-cdn.jtvnw.net/ttv-boxart/32982_IGDB-{width}x{height}.jpg",
         "1020",
         "2025-06-13T19:32:00.135697"
        ],
        [
         "29307",
         "Path of Exile",
         "https://static-cdn.jtvnw.net/ttv-boxart/29307_IGDB-{width}x{height}.jpg",
         "1911",
         "2025-06-13T19:32:00.135697"
        ],
        [
         "27471",
         "Minecraft",
         "https://static-cdn.jtvnw.net/ttv-boxart/27471_IGDB-{width}x{height}.jpg",
         "135400",
         "2025-06-13T19:32:00.135697"
        ],
        [
         "21779",
         "League of Legends",
         "https://static-cdn.jtvnw.net/ttv-boxart/21779-{width}x{height}.jpg",
         "115",
         "2025-06-13T19:32:00.135697"
        ],
        [
         "481086259",
         "The Alters",
         "https://static-cdn.jtvnw.net/ttv-boxart/481086259_IGDB-{width}x{height}.jpg",
         "204634",
         "2025-06-13T19:32:00.135697"
        ],
        [
         "33214",
         "Fortnite",
         "https://static-cdn.jtvnw.net/ttv-boxart/33214-{width}x{height}.jpg",
         "1905",
         "2025-06-13T19:32:00.135697"
        ],
        [
         "602694215",
         "Five Nights at Freddy's: Secret of the Mimic",
         "https://static-cdn.jtvnw.net/ttv-boxart/602694215_IGDB-{width}x{height}.jpg",
         "312859",
         "2025-06-13T19:32:00.135697"
        ],
        [
         "29595",
         "Dota 2",
         "https://static-cdn.jtvnw.net/ttv-boxart/29595-{width}x{height}.jpg",
         "",
         "2025-06-13T19:32:00.135697"
        ],
        [
         "460630",
         "Tom Clancy's Rainbow Six Siege X",
         "https://static-cdn.jtvnw.net/ttv-boxart/460630-{width}x{height}.jpg",
         "7360",
         "2025-06-13T19:32:00.135697"
        ],
        [
         "2011938005",
         "EA Sports FC 25",
         "https://static-cdn.jtvnw.net/ttv-boxart/2011938005_IGDB-{width}x{height}.jpg",
         "308698",
         "2025-06-13T19:32:00.135697"
        ],
        [
         "512710",
         "Call of Duty: Warzone",
         "https://static-cdn.jtvnw.net/ttv-boxart/512710-{width}x{height}.jpg",
         "131800",
         "2025-06-13T19:32:00.135697"
        ],
        [
         "1987896617",
         "Dune: Awakening",
         "https://static-cdn.jtvnw.net/ttv-boxart/1987896617_IGDB-{width}x{height}.jpg",
         "214394",
         "2025-06-13T19:32:00.135697"
        ],
        [
         "1826300051",
         "Mario Kart World",
         "https://static-cdn.jtvnw.net/ttv-boxart/1826300051_IGDB-{width}x{height}.jpg",
         "338067",
         "2025-06-13T19:32:00.135697"
        ],
        [
         "55453844",
         "Street Fighter 6",
         "https://static-cdn.jtvnw.net/ttv-boxart/55453844_IGDB-{width}x{height}.jpg",
         "191692",
         "2025-06-13T19:32:00.135697"
        ],
        [
         "32399",
         "Counter-Strike",
         "https://static-cdn.jtvnw.net/ttv-boxart/32399-{width}x{height}.jpg",
         "",
         "2025-06-13T18:57:33.650335"
        ],
        [
         "516575",
         "VALORANT",
         "https://static-cdn.jtvnw.net/ttv-boxart/516575-{width}x{height}.jpg",
         "126459",
         "2025-06-13T18:57:33.650335"
        ],
        [
         "32982",
         "Grand Theft Auto V",
         "https://static-cdn.jtvnw.net/ttv-boxart/32982_IGDB-{width}x{height}.jpg",
         "1020",
         "2025-06-13T18:57:33.650335"
        ],
        [
         "29307",
         "Path of Exile",
         "https://static-cdn.jtvnw.net/ttv-boxart/29307_IGDB-{width}x{height}.jpg",
         "1911",
         "2025-06-13T18:57:33.650335"
        ],
        [
         "21779",
         "League of Legends",
         "https://static-cdn.jtvnw.net/ttv-boxart/21779-{width}x{height}.jpg",
         "115",
         "2025-06-13T18:57:33.650335"
        ],
        [
         "27471",
         "Minecraft",
         "https://static-cdn.jtvnw.net/ttv-boxart/27471_IGDB-{width}x{height}.jpg",
         "135400",
         "2025-06-13T18:57:33.650335"
        ],
        [
         "481086259",
         "The Alters",
         "https://static-cdn.jtvnw.net/ttv-boxart/481086259_IGDB-{width}x{height}.jpg",
         "204634",
         "2025-06-13T18:57:33.650335"
        ],
        [
         "33214",
         "Fortnite",
         "https://static-cdn.jtvnw.net/ttv-boxart/33214-{width}x{height}.jpg",
         "1905",
         "2025-06-13T18:57:33.650335"
        ],
        [
         "29595",
         "Dota 2",
         "https://static-cdn.jtvnw.net/ttv-boxart/29595-{width}x{height}.jpg",
         "",
         "2025-06-13T18:57:33.650335"
        ],
        [
         "2011938005",
         "EA Sports FC 25",
         "https://static-cdn.jtvnw.net/ttv-boxart/2011938005_IGDB-{width}x{height}.jpg",
         "308698",
         "2025-06-13T18:57:33.650335"
        ],
        [
         "1987896617",
         "Dune: Awakening",
         "https://static-cdn.jtvnw.net/ttv-boxart/1987896617_IGDB-{width}x{height}.jpg",
         "214394",
         "2025-06-13T18:57:33.650335"
        ],
        [
         "460630",
         "Tom Clancy's Rainbow Six Siege X",
         "https://static-cdn.jtvnw.net/ttv-boxart/460630-{width}x{height}.jpg",
         "7360",
         "2025-06-13T18:57:33.650335"
        ],
        [
         "602694215",
         "Five Nights at Freddy's: Secret of the Mimic",
         "https://static-cdn.jtvnw.net/ttv-boxart/602694215_IGDB-{width}x{height}.jpg",
         "312859",
         "2025-06-13T18:57:33.650335"
        ],
        [
         "55453844",
         "Street Fighter 6",
         "https://static-cdn.jtvnw.net/ttv-boxart/55453844_IGDB-{width}x{height}.jpg",
         "191692",
         "2025-06-13T18:57:33.650335"
        ],
        [
         "512710",
         "Call of Duty: Warzone",
         "https://static-cdn.jtvnw.net/ttv-boxart/512710-{width}x{height}.jpg",
         "131800",
         "2025-06-13T18:57:33.650335"
        ],
        [
         "1826300051",
         "Mario Kart World",
         "https://static-cdn.jtvnw.net/ttv-boxart/1826300051_IGDB-{width}x{height}.jpg",
         "338067",
         "2025-06-13T18:57:33.650335"
        ],
        [
         "32399",
         "Counter-Strike",
         "https://static-cdn.jtvnw.net/ttv-boxart/32399-{width}x{height}.jpg",
         "",
         "2025-06-13T18:54:27.218706"
        ],
        [
         "516575",
         "VALORANT",
         "https://static-cdn.jtvnw.net/ttv-boxart/516575-{width}x{height}.jpg",
         "126459",
         "2025-06-13T18:54:27.218706"
        ],
        [
         "32982",
         "Grand Theft Auto V",
         "https://static-cdn.jtvnw.net/ttv-boxart/32982_IGDB-{width}x{height}.jpg",
         "1020",
         "2025-06-13T18:54:27.218706"
        ],
        [
         "21779",
         "League of Legends",
         "https://static-cdn.jtvnw.net/ttv-boxart/21779-{width}x{height}.jpg",
         "115",
         "2025-06-13T18:54:27.218706"
        ],
        [
         "29307",
         "Path of Exile",
         "https://static-cdn.jtvnw.net/ttv-boxart/29307_IGDB-{width}x{height}.jpg",
         "1911",
         "2025-06-13T18:54:27.218706"
        ],
        [
         "27471",
         "Minecraft",
         "https://static-cdn.jtvnw.net/ttv-boxart/27471_IGDB-{width}x{height}.jpg",
         "135400",
         "2025-06-13T18:54:27.218706"
        ],
        [
         "29595",
         "Dota 2",
         "https://static-cdn.jtvnw.net/ttv-boxart/29595-{width}x{height}.jpg",
         "",
         "2025-06-13T18:54:27.218706"
        ],
        [
         "481086259",
         "The Alters",
         "https://static-cdn.jtvnw.net/ttv-boxart/481086259_IGDB-{width}x{height}.jpg",
         "204634",
         "2025-06-13T18:54:27.218706"
        ],
        [
         "33214",
         "Fortnite",
         "https://static-cdn.jtvnw.net/ttv-boxart/33214-{width}x{height}.jpg",
         "1905",
         "2025-06-13T18:54:27.218706"
        ],
        [
         "2011938005",
         "EA Sports FC 25",
         "https://static-cdn.jtvnw.net/ttv-boxart/2011938005_IGDB-{width}x{height}.jpg",
         "308698",
         "2025-06-13T18:54:27.218706"
        ],
        [
         "1987896617",
         "Dune: Awakening",
         "https://static-cdn.jtvnw.net/ttv-boxart/1987896617_IGDB-{width}x{height}.jpg",
         "214394",
         "2025-06-13T18:54:27.218706"
        ],
        [
         "602694215",
         "Five Nights at Freddy's: Secret of the Mimic",
         "https://static-cdn.jtvnw.net/ttv-boxart/602694215_IGDB-{width}x{height}.jpg",
         "312859",
         "2025-06-13T18:54:27.218706"
        ],
        [
         "460630",
         "Tom Clancy's Rainbow Six Siege X",
         "https://static-cdn.jtvnw.net/ttv-boxart/460630-{width}x{height}.jpg",
         "7360",
         "2025-06-13T18:54:27.218706"
        ],
        [
         "55453844",
         "Street Fighter 6",
         "https://static-cdn.jtvnw.net/ttv-boxart/55453844_IGDB-{width}x{height}.jpg",
         "191692",
         "2025-06-13T18:54:27.218706"
        ],
        [
         "512710",
         "Call of Duty: Warzone",
         "https://static-cdn.jtvnw.net/ttv-boxart/512710-{width}x{height}.jpg",
         "131800",
         "2025-06-13T18:54:27.218706"
        ],
        [
         "1826300051",
         "Mario Kart World",
         "https://static-cdn.jtvnw.net/ttv-boxart/1826300051_IGDB-{width}x{height}.jpg",
         "338067",
         "2025-06-13T18:54:27.218706"
        ],
        [
         "32399",
         "Counter-Strike",
         "https://static-cdn.jtvnw.net/ttv-boxart/32399-{width}x{height}.jpg",
         "",
         "2025-06-13T19:26:46.642561"
        ],
        [
         "516575",
         "VALORANT",
         "https://static-cdn.jtvnw.net/ttv-boxart/516575-{width}x{height}.jpg",
         "126459",
         "2025-06-13T19:26:46.642561"
        ],
        [
         "32982",
         "Grand Theft Auto V",
         "https://static-cdn.jtvnw.net/ttv-boxart/32982_IGDB-{width}x{height}.jpg",
         "1020",
         "2025-06-13T19:26:46.642561"
        ],
        [
         "29307",
         "Path of Exile",
         "https://static-cdn.jtvnw.net/ttv-boxart/29307_IGDB-{width}x{height}.jpg",
         "1911",
         "2025-06-13T19:26:46.642561"
        ],
        [
         "27471",
         "Minecraft",
         "https://static-cdn.jtvnw.net/ttv-boxart/27471_IGDB-{width}x{height}.jpg",
         "135400",
         "2025-06-13T19:26:46.642561"
        ],
        [
         "21779",
         "League of Legends",
         "https://static-cdn.jtvnw.net/ttv-boxart/21779-{width}x{height}.jpg",
         "115",
         "2025-06-13T19:26:46.642561"
        ],
        [
         "481086259",
         "The Alters",
         "https://static-cdn.jtvnw.net/ttv-boxart/481086259_IGDB-{width}x{height}.jpg",
         "204634",
         "2025-06-13T19:26:46.642561"
        ],
        [
         "33214",
         "Fortnite",
         "https://static-cdn.jtvnw.net/ttv-boxart/33214-{width}x{height}.jpg",
         "1905",
         "2025-06-13T19:26:46.642561"
        ],
        [
         "602694215",
         "Five Nights at Freddy's: Secret of the Mimic",
         "https://static-cdn.jtvnw.net/ttv-boxart/602694215_IGDB-{width}x{height}.jpg",
         "312859",
         "2025-06-13T19:26:46.642561"
        ],
        [
         "29595",
         "Dota 2",
         "https://static-cdn.jtvnw.net/ttv-boxart/29595-{width}x{height}.jpg",
         "",
         "2025-06-13T19:26:46.642561"
        ],
        [
         "2011938005",
         "EA Sports FC 25",
         "https://static-cdn.jtvnw.net/ttv-boxart/2011938005_IGDB-{width}x{height}.jpg",
         "308698",
         "2025-06-13T19:26:46.642561"
        ],
        [
         "460630",
         "Tom Clancy's Rainbow Six Siege X",
         "https://static-cdn.jtvnw.net/ttv-boxart/460630-{width}x{height}.jpg",
         "7360",
         "2025-06-13T19:26:46.642561"
        ],
        [
         "1987896617",
         "Dune: Awakening",
         "https://static-cdn.jtvnw.net/ttv-boxart/1987896617_IGDB-{width}x{height}.jpg",
         "214394",
         "2025-06-13T19:26:46.642561"
        ],
        [
         "512710",
         "Call of Duty: Warzone",
         "https://static-cdn.jtvnw.net/ttv-boxart/512710-{width}x{height}.jpg",
         "131800",
         "2025-06-13T19:26:46.642561"
        ],
        [
         "55453844",
         "Street Fighter 6",
         "https://static-cdn.jtvnw.net/ttv-boxart/55453844_IGDB-{width}x{height}.jpg",
         "191692",
         "2025-06-13T19:26:46.642561"
        ],
        [
         "1826300051",
         "Mario Kart World",
         "https://static-cdn.jtvnw.net/ttv-boxart/1826300051_IGDB-{width}x{height}.jpg",
         "338067",
         "2025-06-13T19:26:46.642561"
        ],
        [
         "32399",
         "Counter-Strike",
         "https://static-cdn.jtvnw.net/ttv-boxart/32399-{width}x{height}.jpg",
         "",
         "2025-06-13T18:55:29.438061"
        ],
        [
         "516575",
         "VALORANT",
         "https://static-cdn.jtvnw.net/ttv-boxart/516575-{width}x{height}.jpg",
         "126459",
         "2025-06-13T18:55:29.438061"
        ],
        [
         "32982",
         "Grand Theft Auto V",
         "https://static-cdn.jtvnw.net/ttv-boxart/32982_IGDB-{width}x{height}.jpg",
         "1020",
         "2025-06-13T18:55:29.438061"
        ],
        [
         "29307",
         "Path of Exile",
         "https://static-cdn.jtvnw.net/ttv-boxart/29307_IGDB-{width}x{height}.jpg",
         "1911",
         "2025-06-13T18:55:29.438061"
        ],
        [
         "21779",
         "League of Legends",
         "https://static-cdn.jtvnw.net/ttv-boxart/21779-{width}x{height}.jpg",
         "115",
         "2025-06-13T18:55:29.438061"
        ],
        [
         "27471",
         "Minecraft",
         "https://static-cdn.jtvnw.net/ttv-boxart/27471_IGDB-{width}x{height}.jpg",
         "135400",
         "2025-06-13T18:55:29.438061"
        ],
        [
         "481086259",
         "The Alters",
         "https://static-cdn.jtvnw.net/ttv-boxart/481086259_IGDB-{width}x{height}.jpg",
         "204634",
         "2025-06-13T18:55:29.438061"
        ],
        [
         "29595",
         "Dota 2",
         "https://static-cdn.jtvnw.net/ttv-boxart/29595-{width}x{height}.jpg",
         "",
         "2025-06-13T18:55:29.438061"
        ],
        [
         "33214",
         "Fortnite",
         "https://static-cdn.jtvnw.net/ttv-boxart/33214-{width}x{height}.jpg",
         "1905",
         "2025-06-13T18:55:29.438061"
        ],
        [
         "2011938005",
         "EA Sports FC 25",
         "https://static-cdn.jtvnw.net/ttv-boxart/2011938005_IGDB-{width}x{height}.jpg",
         "308698",
         "2025-06-13T18:55:29.438061"
        ],
        [
         "460630",
         "Tom Clancy's Rainbow Six Siege X",
         "https://static-cdn.jtvnw.net/ttv-boxart/460630-{width}x{height}.jpg",
         "7360",
         "2025-06-13T18:55:29.438061"
        ],
        [
         "602694215",
         "Five Nights at Freddy's: Secret of the Mimic",
         "https://static-cdn.jtvnw.net/ttv-boxart/602694215_IGDB-{width}x{height}.jpg",
         "312859",
         "2025-06-13T18:55:29.438061"
        ],
        [
         "1987896617",
         "Dune: Awakening",
         "https://static-cdn.jtvnw.net/ttv-boxart/1987896617_IGDB-{width}x{height}.jpg",
         "214394",
         "2025-06-13T18:55:29.438061"
        ],
        [
         "55453844",
         "Street Fighter 6",
         "https://static-cdn.jtvnw.net/ttv-boxart/55453844_IGDB-{width}x{height}.jpg",
         "191692",
         "2025-06-13T18:55:29.438061"
        ],
        [
         "512710",
         "Call of Duty: Warzone",
         "https://static-cdn.jtvnw.net/ttv-boxart/512710-{width}x{height}.jpg",
         "131800",
         "2025-06-13T18:55:29.438061"
        ],
        [
         "1826300051",
         "Mario Kart World",
         "https://static-cdn.jtvnw.net/ttv-boxart/1826300051_IGDB-{width}x{height}.jpg",
         "338067",
         "2025-06-13T18:55:29.438061"
        ],
        [
         "32399",
         "Counter-Strike",
         "https://static-cdn.jtvnw.net/ttv-boxart/32399-{width}x{height}.jpg",
         "",
         "2025-06-13T18:50:13.332360"
        ],
        [
         "516575",
         "VALORANT",
         "https://static-cdn.jtvnw.net/ttv-boxart/516575-{width}x{height}.jpg",
         "126459",
         "2025-06-13T18:50:13.332360"
        ],
        [
         "32982",
         "Grand Theft Auto V",
         "https://static-cdn.jtvnw.net/ttv-boxart/32982_IGDB-{width}x{height}.jpg",
         "1020",
         "2025-06-13T18:50:13.332360"
        ],
        [
         "21779",
         "League of Legends",
         "https://static-cdn.jtvnw.net/ttv-boxart/21779-{width}x{height}.jpg",
         "115",
         "2025-06-13T18:50:13.332360"
        ],
        [
         "29307",
         "Path of Exile",
         "https://static-cdn.jtvnw.net/ttv-boxart/29307_IGDB-{width}x{height}.jpg",
         "1911",
         "2025-06-13T18:50:13.332360"
        ],
        [
         "27471",
         "Minecraft",
         "https://static-cdn.jtvnw.net/ttv-boxart/27471_IGDB-{width}x{height}.jpg",
         "135400",
         "2025-06-13T18:50:13.332360"
        ],
        [
         "29595",
         "Dota 2",
         "https://static-cdn.jtvnw.net/ttv-boxart/29595-{width}x{height}.jpg",
         "",
         "2025-06-13T18:50:13.332360"
        ],
        [
         "481086259",
         "The Alters",
         "https://static-cdn.jtvnw.net/ttv-boxart/481086259_IGDB-{width}x{height}.jpg",
         "204634",
         "2025-06-13T18:50:13.332360"
        ],
        [
         "33214",
         "Fortnite",
         "https://static-cdn.jtvnw.net/ttv-boxart/33214-{width}x{height}.jpg",
         "1905",
         "2025-06-13T18:50:13.332360"
        ],
        [
         "2011938005",
         "EA Sports FC 25",
         "https://static-cdn.jtvnw.net/ttv-boxart/2011938005_IGDB-{width}x{height}.jpg",
         "308698",
         "2025-06-13T18:50:13.332360"
        ],
        [
         "512710",
         "Call of Duty: Warzone",
         "https://static-cdn.jtvnw.net/ttv-boxart/512710-{width}x{height}.jpg",
         "131800",
         "2025-06-13T18:50:13.332360"
        ],
        [
         "1987896617",
         "Dune: Awakening",
         "https://static-cdn.jtvnw.net/ttv-boxart/1987896617_IGDB-{width}x{height}.jpg",
         "214394",
         "2025-06-13T18:50:13.332360"
        ],
        [
         "602694215",
         "Five Nights at Freddy's: Secret of the Mimic",
         "https://static-cdn.jtvnw.net/ttv-boxart/602694215_IGDB-{width}x{height}.jpg",
         "312859",
         "2025-06-13T18:50:13.332360"
        ],
        [
         "55453844",
         "Street Fighter 6",
         "https://static-cdn.jtvnw.net/ttv-boxart/55453844_IGDB-{width}x{height}.jpg",
         "191692",
         "2025-06-13T18:50:13.332360"
        ],
        [
         "460630",
         "Tom Clancy's Rainbow Six Siege X",
         "https://static-cdn.jtvnw.net/ttv-boxart/460630-{width}x{height}.jpg",
         "7360",
         "2025-06-13T18:50:13.332360"
        ],
        [
         "1826300051",
         "Mario Kart World",
         "https://static-cdn.jtvnw.net/ttv-boxart/1826300051_IGDB-{width}x{height}.jpg",
         "338067",
         "2025-06-13T18:50:13.332360"
        ],
        [
         "32399",
         "Counter-Strike",
         "https://static-cdn.jtvnw.net/ttv-boxart/32399-{width}x{height}.jpg",
         "",
         "2025-06-13T18:56:31.520045"
        ],
        [
         "516575",
         "VALORANT",
         "https://static-cdn.jtvnw.net/ttv-boxart/516575-{width}x{height}.jpg",
         "126459",
         "2025-06-13T18:56:31.520045"
        ],
        [
         "32982",
         "Grand Theft Auto V",
         "https://static-cdn.jtvnw.net/ttv-boxart/32982_IGDB-{width}x{height}.jpg",
         "1020",
         "2025-06-13T18:56:31.520045"
        ],
        [
         "29307",
         "Path of Exile",
         "https://static-cdn.jtvnw.net/ttv-boxart/29307_IGDB-{width}x{height}.jpg",
         "1911",
         "2025-06-13T18:56:31.520045"
        ],
        [
         "21779",
         "League of Legends",
         "https://static-cdn.jtvnw.net/ttv-boxart/21779-{width}x{height}.jpg",
         "115",
         "2025-06-13T18:56:31.520045"
        ],
        [
         "27471",
         "Minecraft",
         "https://static-cdn.jtvnw.net/ttv-boxart/27471_IGDB-{width}x{height}.jpg",
         "135400",
         "2025-06-13T18:56:31.520045"
        ],
        [
         "481086259",
         "The Alters",
         "https://static-cdn.jtvnw.net/ttv-boxart/481086259_IGDB-{width}x{height}.jpg",
         "204634",
         "2025-06-13T18:56:31.520045"
        ],
        [
         "29595",
         "Dota 2",
         "https://static-cdn.jtvnw.net/ttv-boxart/29595-{width}x{height}.jpg",
         "",
         "2025-06-13T18:56:31.520045"
        ],
        [
         "33214",
         "Fortnite",
         "https://static-cdn.jtvnw.net/ttv-boxart/33214-{width}x{height}.jpg",
         "1905",
         "2025-06-13T18:56:31.520045"
        ],
        [
         "2011938005",
         "EA Sports FC 25",
         "https://static-cdn.jtvnw.net/ttv-boxart/2011938005_IGDB-{width}x{height}.jpg",
         "308698",
         "2025-06-13T18:56:31.520045"
        ],
        [
         "460630",
         "Tom Clancy's Rainbow Six Siege X",
         "https://static-cdn.jtvnw.net/ttv-boxart/460630-{width}x{height}.jpg",
         "7360",
         "2025-06-13T18:56:31.520045"
        ],
        [
         "602694215",
         "Five Nights at Freddy's: Secret of the Mimic",
         "https://static-cdn.jtvnw.net/ttv-boxart/602694215_IGDB-{width}x{height}.jpg",
         "312859",
         "2025-06-13T18:56:31.520045"
        ],
        [
         "1987896617",
         "Dune: Awakening",
         "https://static-cdn.jtvnw.net/ttv-boxart/1987896617_IGDB-{width}x{height}.jpg",
         "214394",
         "2025-06-13T18:56:31.520045"
        ],
        [
         "55453844",
         "Street Fighter 6",
         "https://static-cdn.jtvnw.net/ttv-boxart/55453844_IGDB-{width}x{height}.jpg",
         "191692",
         "2025-06-13T18:56:31.520045"
        ],
        [
         "512710",
         "Call of Duty: Warzone",
         "https://static-cdn.jtvnw.net/ttv-boxart/512710-{width}x{height}.jpg",
         "131800",
         "2025-06-13T18:56:31.520045"
        ],
        [
         "1826300051",
         "Mario Kart World",
         "https://static-cdn.jtvnw.net/ttv-boxart/1826300051_IGDB-{width}x{height}.jpg",
         "338067",
         "2025-06-13T18:56:31.520045"
        ],
        [
         "32399",
         "Counter-Strike",
         "https://static-cdn.jtvnw.net/ttv-boxart/32399-{width}x{height}.jpg",
         "",
         "2025-06-13T18:46:03.968259"
        ],
        [
         "516575",
         "VALORANT",
         "https://static-cdn.jtvnw.net/ttv-boxart/516575-{width}x{height}.jpg",
         "126459",
         "2025-06-13T18:46:03.968259"
        ],
        [
         "32982",
         "Grand Theft Auto V",
         "https://static-cdn.jtvnw.net/ttv-boxart/32982_IGDB-{width}x{height}.jpg",
         "1020",
         "2025-06-13T18:46:03.968259"
        ],
        [
         "21779",
         "League of Legends",
         "https://static-cdn.jtvnw.net/ttv-boxart/21779-{width}x{height}.jpg",
         "115",
         "2025-06-13T18:46:03.968259"
        ],
        [
         "29595",
         "Dota 2",
         "https://static-cdn.jtvnw.net/ttv-boxart/29595-{width}x{height}.jpg",
         "",
         "2025-06-13T18:46:03.968259"
        ],
        [
         "29307",
         "Path of Exile",
         "https://static-cdn.jtvnw.net/ttv-boxart/29307_IGDB-{width}x{height}.jpg",
         "1911",
         "2025-06-13T18:46:03.968259"
        ],
        [
         "27471",
         "Minecraft",
         "https://static-cdn.jtvnw.net/ttv-boxart/27471_IGDB-{width}x{height}.jpg",
         "135400",
         "2025-06-13T18:46:03.968259"
        ],
        [
         "481086259",
         "The Alters",
         "https://static-cdn.jtvnw.net/ttv-boxart/481086259_IGDB-{width}x{height}.jpg",
         "204634",
         "2025-06-13T18:46:03.968259"
        ],
        [
         "33214",
         "Fortnite",
         "https://static-cdn.jtvnw.net/ttv-boxart/33214-{width}x{height}.jpg",
         "1905",
         "2025-06-13T18:46:03.968259"
        ],
        [
         "2011938005",
         "EA Sports FC 25",
         "https://static-cdn.jtvnw.net/ttv-boxart/2011938005_IGDB-{width}x{height}.jpg",
         "308698",
         "2025-06-13T18:46:03.968259"
        ],
        [
         "512710",
         "Call of Duty: Warzone",
         "https://static-cdn.jtvnw.net/ttv-boxart/512710-{width}x{height}.jpg",
         "131800",
         "2025-06-13T18:46:03.968259"
        ],
        [
         "1987896617",
         "Dune: Awakening",
         "https://static-cdn.jtvnw.net/ttv-boxart/1987896617_IGDB-{width}x{height}.jpg",
         "214394",
         "2025-06-13T18:46:03.968259"
        ],
        [
         "55453844",
         "Street Fighter 6",
         "https://static-cdn.jtvnw.net/ttv-boxart/55453844_IGDB-{width}x{height}.jpg",
         "191692",
         "2025-06-13T18:46:03.968259"
        ],
        [
         "460630",
         "Tom Clancy's Rainbow Six Siege X",
         "https://static-cdn.jtvnw.net/ttv-boxart/460630-{width}x{height}.jpg",
         "7360",
         "2025-06-13T18:46:03.968259"
        ],
        [
         "602694215",
         "Five Nights at Freddy's: Secret of the Mimic",
         "https://static-cdn.jtvnw.net/ttv-boxart/602694215_IGDB-{width}x{height}.jpg",
         "312859",
         "2025-06-13T18:46:03.968259"
        ],
        [
         "1826300051",
         "Mario Kart World",
         "https://static-cdn.jtvnw.net/ttv-boxart/1826300051_IGDB-{width}x{height}.jpg",
         "338067",
         "2025-06-13T18:46:03.968259"
        ],
        [
         "32982",
         "Grand Theft Auto V",
         "https://static-cdn.jtvnw.net/ttv-boxart/32982_IGDB-{width}x{height}.jpg",
         "1020",
         "2025-06-13T01:57:30.070268"
        ],
        [
         "460630",
         "Tom Clancy's Rainbow Six Siege X",
         "https://static-cdn.jtvnw.net/ttv-boxart/460630-{width}x{height}.jpg",
         "7360",
         "2025-06-13T01:57:30.070268"
        ],
        [
         "1826300051",
         "Mario Kart World",
         "https://static-cdn.jtvnw.net/ttv-boxart/1826300051_IGDB-{width}x{height}.jpg",
         "338067",
         "2025-06-13T01:57:30.070268"
        ],
        [
         "33214",
         "Fortnite",
         "https://static-cdn.jtvnw.net/ttv-boxart/33214-{width}x{height}.jpg",
         "1905",
         "2025-06-13T01:57:30.070268"
        ],
        [
         "21779",
         "League of Legends",
         "https://static-cdn.jtvnw.net/ttv-boxart/21779-{width}x{height}.jpg",
         "115",
         "2025-06-13T01:57:30.070268"
        ],
        [
         "32399",
         "Counter-Strike",
         "https://static-cdn.jtvnw.net/ttv-boxart/32399-{width}x{height}.jpg",
         "",
         "2025-06-13T01:57:30.070268"
        ],
        [
         "1264310518",
         "Marvel Rivals",
         "https://static-cdn.jtvnw.net/ttv-boxart/1264310518_IGDB-{width}x{height}.jpg",
         "294041",
         "2025-06-13T01:57:30.070268"
        ],
        [
         "512710",
         "Call of Duty: Warzone",
         "https://static-cdn.jtvnw.net/ttv-boxart/512710-{width}x{height}.jpg",
         "131800",
         "2025-06-13T01:57:30.070268"
        ],
        [
         "1987896617",
         "Dune: Awakening",
         "https://static-cdn.jtvnw.net/ttv-boxart/1987896617_IGDB-{width}x{height}.jpg",
         "214394",
         "2025-06-13T01:57:30.070268"
        ],
        [
         "516575",
         "VALORANT",
         "https://static-cdn.jtvnw.net/ttv-boxart/516575-{width}x{height}.jpg",
         "126459",
         "2025-06-13T01:57:30.070268"
        ],
        [
         "27471",
         "Minecraft",
         "https://static-cdn.jtvnw.net/ttv-boxart/27471_IGDB-{width}x{height}.jpg",
         "135400",
         "2025-06-13T01:57:30.070268"
        ],
        [
         "491487",
         "Dead by Daylight",
         "https://static-cdn.jtvnw.net/ttv-boxart/491487-{width}x{height}.jpg",
         "18866",
         "2025-06-13T01:57:30.070268"
        ],
        [
         "29595",
         "Dota 2",
         "https://static-cdn.jtvnw.net/ttv-boxart/29595-{width}x{height}.jpg",
         "",
         "2025-06-13T01:57:30.070268"
        ],
        [
         "982348888",
         "Elden Ring: Nightreign",
         "https://static-cdn.jtvnw.net/ttv-boxart/982348888_IGDB-{width}x{height}.jpg",
         "325591",
         "2025-06-13T01:57:30.070268"
        ],
        [
         "29452",
         "Virtual Casino",
         "https://static-cdn.jtvnw.net/ttv-boxart/29452_IGDB-{width}x{height}.jpg",
         "45517",
         "2025-06-13T01:57:30.070268"
        ],
        [
         "511224",
         "Apex Legends",
         "https://static-cdn.jtvnw.net/ttv-boxart/511224-{width}x{height}.jpg",
         "114795",
         "2025-06-13T01:57:30.070268"
        ],
        [
         "515025",
         "Overwatch 2",
         "https://static-cdn.jtvnw.net/ttv-boxart/515025-{width}x{height}.jpg",
         "125174",
         "2025-06-13T01:57:30.070268"
        ],
        [
         "32399",
         "Counter-Strike",
         "https://static-cdn.jtvnw.net/ttv-boxart/32399-{width}x{height}.jpg",
         "",
         "2025-06-13T18:41:24.674122"
        ],
        [
         "516575",
         "VALORANT",
         "https://static-cdn.jtvnw.net/ttv-boxart/516575-{width}x{height}.jpg",
         "126459",
         "2025-06-13T18:41:24.674122"
        ],
        [
         "32982",
         "Grand Theft Auto V",
         "https://static-cdn.jtvnw.net/ttv-boxart/32982_IGDB-{width}x{height}.jpg",
         "1020",
         "2025-06-13T18:41:24.674122"
        ],
        [
         "21779",
         "League of Legends",
         "https://static-cdn.jtvnw.net/ttv-boxart/21779-{width}x{height}.jpg",
         "115",
         "2025-06-13T18:41:24.674122"
        ],
        [
         "29595",
         "Dota 2",
         "https://static-cdn.jtvnw.net/ttv-boxart/29595-{width}x{height}.jpg",
         "",
         "2025-06-13T18:41:24.674122"
        ],
        [
         "29307",
         "Path of Exile",
         "https://static-cdn.jtvnw.net/ttv-boxart/29307_IGDB-{width}x{height}.jpg",
         "1911",
         "2025-06-13T18:41:24.674122"
        ],
        [
         "27471",
         "Minecraft",
         "https://static-cdn.jtvnw.net/ttv-boxart/27471_IGDB-{width}x{height}.jpg",
         "135400",
         "2025-06-13T18:41:24.674122"
        ],
        [
         "481086259",
         "The Alters",
         "https://static-cdn.jtvnw.net/ttv-boxart/481086259_IGDB-{width}x{height}.jpg",
         "204634",
         "2025-06-13T18:41:24.674122"
        ],
        [
         "33214",
         "Fortnite",
         "https://static-cdn.jtvnw.net/ttv-boxart/33214-{width}x{height}.jpg",
         "1905",
         "2025-06-13T18:41:24.674122"
        ],
        [
         "2011938005",
         "EA Sports FC 25",
         "https://static-cdn.jtvnw.net/ttv-boxart/2011938005_IGDB-{width}x{height}.jpg",
         "308698",
         "2025-06-13T18:41:24.674122"
        ],
        [
         "512710",
         "Call of Duty: Warzone",
         "https://static-cdn.jtvnw.net/ttv-boxart/512710-{width}x{height}.jpg",
         "131800",
         "2025-06-13T18:41:24.674122"
        ],
        [
         "55453844",
         "Street Fighter 6",
         "https://static-cdn.jtvnw.net/ttv-boxart/55453844_IGDB-{width}x{height}.jpg",
         "191692",
         "2025-06-13T18:41:24.674122"
        ],
        [
         "1987896617",
         "Dune: Awakening",
         "https://static-cdn.jtvnw.net/ttv-boxart/1987896617_IGDB-{width}x{height}.jpg",
         "214394",
         "2025-06-13T18:41:24.674122"
        ],
        [
         "602694215",
         "Five Nights at Freddy's: Secret of the Mimic",
         "https://static-cdn.jtvnw.net/ttv-boxart/602694215_IGDB-{width}x{height}.jpg",
         "312859",
         "2025-06-13T18:41:24.674122"
        ],
        [
         "460630",
         "Tom Clancy's Rainbow Six Siege X",
         "https://static-cdn.jtvnw.net/ttv-boxart/460630-{width}x{height}.jpg",
         "7360",
         "2025-06-13T18:41:24.674122"
        ],
        [
         "1826300051",
         "Mario Kart World",
         "https://static-cdn.jtvnw.net/ttv-boxart/1826300051_IGDB-{width}x{height}.jpg",
         "338067",
         "2025-06-13T18:41:24.674122"
        ],
        [
         "32399",
         "Counter-Strike",
         "https://static-cdn.jtvnw.net/ttv-boxart/32399-{width}x{height}.jpg",
         "",
         "2025-06-13T18:43:58.869535"
        ],
        [
         "516575",
         "VALORANT",
         "https://static-cdn.jtvnw.net/ttv-boxart/516575-{width}x{height}.jpg",
         "126459",
         "2025-06-13T18:43:58.869535"
        ],
        [
         "32982",
         "Grand Theft Auto V",
         "https://static-cdn.jtvnw.net/ttv-boxart/32982_IGDB-{width}x{height}.jpg",
         "1020",
         "2025-06-13T18:43:58.869535"
        ],
        [
         "21779",
         "League of Legends",
         "https://static-cdn.jtvnw.net/ttv-boxart/21779-{width}x{height}.jpg",
         "115",
         "2025-06-13T18:43:58.869535"
        ],
        [
         "29595",
         "Dota 2",
         "https://static-cdn.jtvnw.net/ttv-boxart/29595-{width}x{height}.jpg",
         "",
         "2025-06-13T18:43:58.869535"
        ],
        [
         "29307",
         "Path of Exile",
         "https://static-cdn.jtvnw.net/ttv-boxart/29307_IGDB-{width}x{height}.jpg",
         "1911",
         "2025-06-13T18:43:58.869535"
        ],
        [
         "27471",
         "Minecraft",
         "https://static-cdn.jtvnw.net/ttv-boxart/27471_IGDB-{width}x{height}.jpg",
         "135400",
         "2025-06-13T18:43:58.869535"
        ],
        [
         "481086259",
         "The Alters",
         "https://static-cdn.jtvnw.net/ttv-boxart/481086259_IGDB-{width}x{height}.jpg",
         "204634",
         "2025-06-13T18:43:58.869535"
        ],
        [
         "33214",
         "Fortnite",
         "https://static-cdn.jtvnw.net/ttv-boxart/33214-{width}x{height}.jpg",
         "1905",
         "2025-06-13T18:43:58.869535"
        ],
        [
         "2011938005",
         "EA Sports FC 25",
         "https://static-cdn.jtvnw.net/ttv-boxart/2011938005_IGDB-{width}x{height}.jpg",
         "308698",
         "2025-06-13T18:43:58.869535"
        ],
        [
         "512710",
         "Call of Duty: Warzone",
         "https://static-cdn.jtvnw.net/ttv-boxart/512710-{width}x{height}.jpg",
         "131800",
         "2025-06-13T18:43:58.869535"
        ],
        [
         "55453844",
         "Street Fighter 6",
         "https://static-cdn.jtvnw.net/ttv-boxart/55453844_IGDB-{width}x{height}.jpg",
         "191692",
         "2025-06-13T18:43:58.869535"
        ],
        [
         "1987896617",
         "Dune: Awakening",
         "https://static-cdn.jtvnw.net/ttv-boxart/1987896617_IGDB-{width}x{height}.jpg",
         "214394",
         "2025-06-13T18:43:58.869535"
        ],
        [
         "602694215",
         "Five Nights at Freddy's: Secret of the Mimic",
         "https://static-cdn.jtvnw.net/ttv-boxart/602694215_IGDB-{width}x{height}.jpg",
         "312859",
         "2025-06-13T18:43:58.869535"
        ],
        [
         "460630",
         "Tom Clancy's Rainbow Six Siege X",
         "https://static-cdn.jtvnw.net/ttv-boxart/460630-{width}x{height}.jpg",
         "7360",
         "2025-06-13T18:43:58.869535"
        ],
        [
         "1826300051",
         "Mario Kart World",
         "https://static-cdn.jtvnw.net/ttv-boxart/1826300051_IGDB-{width}x{height}.jpg",
         "338067",
         "2025-06-13T18:43:58.869535"
        ],
        [
         "32399",
         "Counter-Strike",
         "https://static-cdn.jtvnw.net/ttv-boxart/32399-{width}x{height}.jpg",
         "",
         "2025-06-13T18:48:08.955140"
        ],
        [
         "516575",
         "VALORANT",
         "https://static-cdn.jtvnw.net/ttv-boxart/516575-{width}x{height}.jpg",
         "126459",
         "2025-06-13T18:48:08.955140"
        ],
        [
         "32982",
         "Grand Theft Auto V",
         "https://static-cdn.jtvnw.net/ttv-boxart/32982_IGDB-{width}x{height}.jpg",
         "1020",
         "2025-06-13T18:48:08.955140"
        ],
        [
         "21779",
         "League of Legends",
         "https://static-cdn.jtvnw.net/ttv-boxart/21779-{width}x{height}.jpg",
         "115",
         "2025-06-13T18:48:08.955140"
        ],
        [
         "29307",
         "Path of Exile",
         "https://static-cdn.jtvnw.net/ttv-boxart/29307_IGDB-{width}x{height}.jpg",
         "1911",
         "2025-06-13T18:48:08.955140"
        ],
        [
         "27471",
         "Minecraft",
         "https://static-cdn.jtvnw.net/ttv-boxart/27471_IGDB-{width}x{height}.jpg",
         "135400",
         "2025-06-13T18:48:08.955140"
        ],
        [
         "29595",
         "Dota 2",
         "https://static-cdn.jtvnw.net/ttv-boxart/29595-{width}x{height}.jpg",
         "",
         "2025-06-13T18:48:08.955140"
        ],
        [
         "481086259",
         "The Alters",
         "https://static-cdn.jtvnw.net/ttv-boxart/481086259_IGDB-{width}x{height}.jpg",
         "204634",
         "2025-06-13T18:48:08.955140"
        ],
        [
         "33214",
         "Fortnite",
         "https://static-cdn.jtvnw.net/ttv-boxart/33214-{width}x{height}.jpg",
         "1905",
         "2025-06-13T18:48:08.955140"
        ],
        [
         "2011938005",
         "EA Sports FC 25",
         "https://static-cdn.jtvnw.net/ttv-boxart/2011938005_IGDB-{width}x{height}.jpg",
         "308698",
         "2025-06-13T18:48:08.955140"
        ],
        [
         "512710",
         "Call of Duty: Warzone",
         "https://static-cdn.jtvnw.net/ttv-boxart/512710-{width}x{height}.jpg",
         "131800",
         "2025-06-13T18:48:08.955140"
        ],
        [
         "1987896617",
         "Dune: Awakening",
         "https://static-cdn.jtvnw.net/ttv-boxart/1987896617_IGDB-{width}x{height}.jpg",
         "214394",
         "2025-06-13T18:48:08.955140"
        ],
        [
         "460630",
         "Tom Clancy's Rainbow Six Siege X",
         "https://static-cdn.jtvnw.net/ttv-boxart/460630-{width}x{height}.jpg",
         "7360",
         "2025-06-13T18:48:08.955140"
        ],
        [
         "55453844",
         "Street Fighter 6",
         "https://static-cdn.jtvnw.net/ttv-boxart/55453844_IGDB-{width}x{height}.jpg",
         "191692",
         "2025-06-13T18:48:08.955140"
        ],
        [
         "602694215",
         "Five Nights at Freddy's: Secret of the Mimic",
         "https://static-cdn.jtvnw.net/ttv-boxart/602694215_IGDB-{width}x{height}.jpg",
         "312859",
         "2025-06-13T18:48:08.955140"
        ],
        [
         "1826300051",
         "Mario Kart World",
         "https://static-cdn.jtvnw.net/ttv-boxart/1826300051_IGDB-{width}x{height}.jpg",
         "338067",
         "2025-06-13T18:48:08.955140"
        ],
        [
         "32399",
         "Counter-Strike",
         "https://static-cdn.jtvnw.net/ttv-boxart/32399-{width}x{height}.jpg",
         "",
         "2025-06-13T18:49:11.262427"
        ],
        [
         "516575",
         "VALORANT",
         "https://static-cdn.jtvnw.net/ttv-boxart/516575-{width}x{height}.jpg",
         "126459",
         "2025-06-13T18:49:11.262427"
        ],
        [
         "32982",
         "Grand Theft Auto V",
         "https://static-cdn.jtvnw.net/ttv-boxart/32982_IGDB-{width}x{height}.jpg",
         "1020",
         "2025-06-13T18:49:11.262427"
        ],
        [
         "21779",
         "League of Legends",
         "https://static-cdn.jtvnw.net/ttv-boxart/21779-{width}x{height}.jpg",
         "115",
         "2025-06-13T18:49:11.262427"
        ],
        [
         "29307",
         "Path of Exile",
         "https://static-cdn.jtvnw.net/ttv-boxart/29307_IGDB-{width}x{height}.jpg",
         "1911",
         "2025-06-13T18:49:11.262427"
        ],
        [
         "27471",
         "Minecraft",
         "https://static-cdn.jtvnw.net/ttv-boxart/27471_IGDB-{width}x{height}.jpg",
         "135400",
         "2025-06-13T18:49:11.262427"
        ],
        [
         "29595",
         "Dota 2",
         "https://static-cdn.jtvnw.net/ttv-boxart/29595-{width}x{height}.jpg",
         "",
         "2025-06-13T18:49:11.262427"
        ],
        [
         "481086259",
         "The Alters",
         "https://static-cdn.jtvnw.net/ttv-boxart/481086259_IGDB-{width}x{height}.jpg",
         "204634",
         "2025-06-13T18:49:11.262427"
        ],
        [
         "33214",
         "Fortnite",
         "https://static-cdn.jtvnw.net/ttv-boxart/33214-{width}x{height}.jpg",
         "1905",
         "2025-06-13T18:49:11.262427"
        ],
        [
         "2011938005",
         "EA Sports FC 25",
         "https://static-cdn.jtvnw.net/ttv-boxart/2011938005_IGDB-{width}x{height}.jpg",
         "308698",
         "2025-06-13T18:49:11.262427"
        ],
        [
         "512710",
         "Call of Duty: Warzone",
         "https://static-cdn.jtvnw.net/ttv-boxart/512710-{width}x{height}.jpg",
         "131800",
         "2025-06-13T18:49:11.262427"
        ],
        [
         "1987896617",
         "Dune: Awakening",
         "https://static-cdn.jtvnw.net/ttv-boxart/1987896617_IGDB-{width}x{height}.jpg",
         "214394",
         "2025-06-13T18:49:11.262427"
        ],
        [
         "460630",
         "Tom Clancy's Rainbow Six Siege X",
         "https://static-cdn.jtvnw.net/ttv-boxart/460630-{width}x{height}.jpg",
         "7360",
         "2025-06-13T18:49:11.262427"
        ],
        [
         "55453844",
         "Street Fighter 6",
         "https://static-cdn.jtvnw.net/ttv-boxart/55453844_IGDB-{width}x{height}.jpg",
         "191692",
         "2025-06-13T18:49:11.262427"
        ],
        [
         "602694215",
         "Five Nights at Freddy's: Secret of the Mimic",
         "https://static-cdn.jtvnw.net/ttv-boxart/602694215_IGDB-{width}x{height}.jpg",
         "312859",
         "2025-06-13T18:49:11.262427"
        ],
        [
         "1826300051",
         "Mario Kart World",
         "https://static-cdn.jtvnw.net/ttv-boxart/1826300051_IGDB-{width}x{height}.jpg",
         "338067",
         "2025-06-13T18:49:11.262427"
        ],
        [
         "32399",
         "Counter-Strike",
         "https://static-cdn.jtvnw.net/ttv-boxart/32399-{width}x{height}.jpg",
         "",
         "2025-06-13T18:42:56.249526"
        ],
        [
         "516575",
         "VALORANT",
         "https://static-cdn.jtvnw.net/ttv-boxart/516575-{width}x{height}.jpg",
         "126459",
         "2025-06-13T18:42:56.249526"
        ],
        [
         "32982",
         "Grand Theft Auto V",
         "https://static-cdn.jtvnw.net/ttv-boxart/32982_IGDB-{width}x{height}.jpg",
         "1020",
         "2025-06-13T18:42:56.249526"
        ],
        [
         "21779",
         "League of Legends",
         "https://static-cdn.jtvnw.net/ttv-boxart/21779-{width}x{height}.jpg",
         "115",
         "2025-06-13T18:42:56.249526"
        ],
        [
         "29595",
         "Dota 2",
         "https://static-cdn.jtvnw.net/ttv-boxart/29595-{width}x{height}.jpg",
         "",
         "2025-06-13T18:42:56.249526"
        ],
        [
         "29307",
         "Path of Exile",
         "https://static-cdn.jtvnw.net/ttv-boxart/29307_IGDB-{width}x{height}.jpg",
         "1911",
         "2025-06-13T18:42:56.249526"
        ],
        [
         "27471",
         "Minecraft",
         "https://static-cdn.jtvnw.net/ttv-boxart/27471_IGDB-{width}x{height}.jpg",
         "135400",
         "2025-06-13T18:42:56.249526"
        ],
        [
         "481086259",
         "The Alters",
         "https://static-cdn.jtvnw.net/ttv-boxart/481086259_IGDB-{width}x{height}.jpg",
         "204634",
         "2025-06-13T18:42:56.249526"
        ],
        [
         "33214",
         "Fortnite",
         "https://static-cdn.jtvnw.net/ttv-boxart/33214-{width}x{height}.jpg",
         "1905",
         "2025-06-13T18:42:56.249526"
        ],
        [
         "2011938005",
         "EA Sports FC 25",
         "https://static-cdn.jtvnw.net/ttv-boxart/2011938005_IGDB-{width}x{height}.jpg",
         "308698",
         "2025-06-13T18:42:56.249526"
        ],
        [
         "512710",
         "Call of Duty: Warzone",
         "https://static-cdn.jtvnw.net/ttv-boxart/512710-{width}x{height}.jpg",
         "131800",
         "2025-06-13T18:42:56.249526"
        ],
        [
         "55453844",
         "Street Fighter 6",
         "https://static-cdn.jtvnw.net/ttv-boxart/55453844_IGDB-{width}x{height}.jpg",
         "191692",
         "2025-06-13T18:42:56.249526"
        ],
        [
         "1987896617",
         "Dune: Awakening",
         "https://static-cdn.jtvnw.net/ttv-boxart/1987896617_IGDB-{width}x{height}.jpg",
         "214394",
         "2025-06-13T18:42:56.249526"
        ],
        [
         "602694215",
         "Five Nights at Freddy's: Secret of the Mimic",
         "https://static-cdn.jtvnw.net/ttv-boxart/602694215_IGDB-{width}x{height}.jpg",
         "312859",
         "2025-06-13T18:42:56.249526"
        ],
        [
         "460630",
         "Tom Clancy's Rainbow Six Siege X",
         "https://static-cdn.jtvnw.net/ttv-boxart/460630-{width}x{height}.jpg",
         "7360",
         "2025-06-13T18:42:56.249526"
        ],
        [
         "1826300051",
         "Mario Kart World",
         "https://static-cdn.jtvnw.net/ttv-boxart/1826300051_IGDB-{width}x{height}.jpg",
         "338067",
         "2025-06-13T18:42:56.249526"
        ],
        [
         "32399",
         "Counter-Strike",
         "https://static-cdn.jtvnw.net/ttv-boxart/32399-{width}x{height}.jpg",
         "",
         "2025-06-13T18:51:15.529147"
        ],
        [
         "516575",
         "VALORANT",
         "https://static-cdn.jtvnw.net/ttv-boxart/516575-{width}x{height}.jpg",
         "126459",
         "2025-06-13T18:51:15.529147"
        ],
        [
         "32982",
         "Grand Theft Auto V",
         "https://static-cdn.jtvnw.net/ttv-boxart/32982_IGDB-{width}x{height}.jpg",
         "1020",
         "2025-06-13T18:51:15.529147"
        ],
        [
         "21779",
         "League of Legends",
         "https://static-cdn.jtvnw.net/ttv-boxart/21779-{width}x{height}.jpg",
         "115",
         "2025-06-13T18:51:15.529147"
        ],
        [
         "29307",
         "Path of Exile",
         "https://static-cdn.jtvnw.net/ttv-boxart/29307_IGDB-{width}x{height}.jpg",
         "1911",
         "2025-06-13T18:51:15.529147"
        ],
        [
         "27471",
         "Minecraft",
         "https://static-cdn.jtvnw.net/ttv-boxart/27471_IGDB-{width}x{height}.jpg",
         "135400",
         "2025-06-13T18:51:15.529147"
        ],
        [
         "29595",
         "Dota 2",
         "https://static-cdn.jtvnw.net/ttv-boxart/29595-{width}x{height}.jpg",
         "",
         "2025-06-13T18:51:15.529147"
        ],
        [
         "481086259",
         "The Alters",
         "https://static-cdn.jtvnw.net/ttv-boxart/481086259_IGDB-{width}x{height}.jpg",
         "204634",
         "2025-06-13T18:51:15.529147"
        ],
        [
         "33214",
         "Fortnite",
         "https://static-cdn.jtvnw.net/ttv-boxart/33214-{width}x{height}.jpg",
         "1905",
         "2025-06-13T18:51:15.529147"
        ],
        [
         "2011938005",
         "EA Sports FC 25",
         "https://static-cdn.jtvnw.net/ttv-boxart/2011938005_IGDB-{width}x{height}.jpg",
         "308698",
         "2025-06-13T18:51:15.529147"
        ],
        [
         "512710",
         "Call of Duty: Warzone",
         "https://static-cdn.jtvnw.net/ttv-boxart/512710-{width}x{height}.jpg",
         "131800",
         "2025-06-13T18:51:15.529147"
        ],
        [
         "1987896617",
         "Dune: Awakening",
         "https://static-cdn.jtvnw.net/ttv-boxart/1987896617_IGDB-{width}x{height}.jpg",
         "214394",
         "2025-06-13T18:51:15.529147"
        ],
        [
         "602694215",
         "Five Nights at Freddy's: Secret of the Mimic",
         "https://static-cdn.jtvnw.net/ttv-boxart/602694215_IGDB-{width}x{height}.jpg",
         "312859",
         "2025-06-13T18:51:15.529147"
        ],
        [
         "460630",
         "Tom Clancy's Rainbow Six Siege X",
         "https://static-cdn.jtvnw.net/ttv-boxart/460630-{width}x{height}.jpg",
         "7360",
         "2025-06-13T18:51:15.529147"
        ],
        [
         "55453844",
         "Street Fighter 6",
         "https://static-cdn.jtvnw.net/ttv-boxart/55453844_IGDB-{width}x{height}.jpg",
         "191692",
         "2025-06-13T18:51:15.529147"
        ],
        [
         "1826300051",
         "Mario Kart World",
         "https://static-cdn.jtvnw.net/ttv-boxart/1826300051_IGDB-{width}x{height}.jpg",
         "338067",
         "2025-06-13T18:51:15.529147"
        ],
        [
         "32399",
         "Counter-Strike",
         "https://static-cdn.jtvnw.net/ttv-boxart/32399-{width}x{height}.jpg",
         "",
         "2025-06-13T19:36:08.109513"
        ],
        [
         "516575",
         "VALORANT",
         "https://static-cdn.jtvnw.net/ttv-boxart/516575-{width}x{height}.jpg",
         "126459",
         "2025-06-13T19:36:08.109513"
        ],
        [
         "32982",
         "Grand Theft Auto V",
         "https://static-cdn.jtvnw.net/ttv-boxart/32982_IGDB-{width}x{height}.jpg",
         "1020",
         "2025-06-13T19:36:08.109513"
        ],
        [
         "29307",
         "Path of Exile",
         "https://static-cdn.jtvnw.net/ttv-boxart/29307_IGDB-{width}x{height}.jpg",
         "1911",
         "2025-06-13T19:36:08.109513"
        ],
        [
         "27471",
         "Minecraft",
         "https://static-cdn.jtvnw.net/ttv-boxart/27471_IGDB-{width}x{height}.jpg",
         "135400",
         "2025-06-13T19:36:08.109513"
        ],
        [
         "21779",
         "League of Legends",
         "https://static-cdn.jtvnw.net/ttv-boxart/21779-{width}x{height}.jpg",
         "115",
         "2025-06-13T19:36:08.109513"
        ],
        [
         "481086259",
         "The Alters",
         "https://static-cdn.jtvnw.net/ttv-boxart/481086259_IGDB-{width}x{height}.jpg",
         "204634",
         "2025-06-13T19:36:08.109513"
        ],
        [
         "602694215",
         "Five Nights at Freddy's: Secret of the Mimic",
         "https://static-cdn.jtvnw.net/ttv-boxart/602694215_IGDB-{width}x{height}.jpg",
         "312859",
         "2025-06-13T19:36:08.109513"
        ],
        [
         "33214",
         "Fortnite",
         "https://static-cdn.jtvnw.net/ttv-boxart/33214-{width}x{height}.jpg",
         "1905",
         "2025-06-13T19:36:08.109513"
        ],
        [
         "460630",
         "Tom Clancy's Rainbow Six Siege X",
         "https://static-cdn.jtvnw.net/ttv-boxart/460630-{width}x{height}.jpg",
         "7360",
         "2025-06-13T19:36:08.109513"
        ],
        [
         "29595",
         "Dota 2",
         "https://static-cdn.jtvnw.net/ttv-boxart/29595-{width}x{height}.jpg",
         "",
         "2025-06-13T19:36:08.109513"
        ],
        [
         "512710",
         "Call of Duty: Warzone",
         "https://static-cdn.jtvnw.net/ttv-boxart/512710-{width}x{height}.jpg",
         "131800",
         "2025-06-13T19:36:08.109513"
        ],
        [
         "2011938005",
         "EA Sports FC 25",
         "https://static-cdn.jtvnw.net/ttv-boxart/2011938005_IGDB-{width}x{height}.jpg",
         "308698",
         "2025-06-13T19:36:08.109513"
        ],
        [
         "1987896617",
         "Dune: Awakening",
         "https://static-cdn.jtvnw.net/ttv-boxart/1987896617_IGDB-{width}x{height}.jpg",
         "214394",
         "2025-06-13T19:36:08.109513"
        ],
        [
         "55453844",
         "Street Fighter 6",
         "https://static-cdn.jtvnw.net/ttv-boxart/55453844_IGDB-{width}x{height}.jpg",
         "191692",
         "2025-06-13T19:36:08.109513"
        ],
        [
         "1826300051",
         "Mario Kart World",
         "https://static-cdn.jtvnw.net/ttv-boxart/1826300051_IGDB-{width}x{height}.jpg",
         "338067",
         "2025-06-13T19:36:08.109513"
        ],
        [
         "32982",
         "Grand Theft Auto V",
         "https://static-cdn.jtvnw.net/ttv-boxart/32982_IGDB-{width}x{height}.jpg",
         "1020",
         "2025-06-13T01:58:57.557874"
        ],
        [
         "460630",
         "Tom Clancy's Rainbow Six Siege X",
         "https://static-cdn.jtvnw.net/ttv-boxart/460630-{width}x{height}.jpg",
         "7360",
         "2025-06-13T01:58:57.557874"
        ],
        [
         "1826300051",
         "Mario Kart World",
         "https://static-cdn.jtvnw.net/ttv-boxart/1826300051_IGDB-{width}x{height}.jpg",
         "338067",
         "2025-06-13T01:58:57.557874"
        ],
        [
         "33214",
         "Fortnite",
         "https://static-cdn.jtvnw.net/ttv-boxart/33214-{width}x{height}.jpg",
         "1905",
         "2025-06-13T01:58:57.557874"
        ],
        [
         "21779",
         "League of Legends",
         "https://static-cdn.jtvnw.net/ttv-boxart/21779-{width}x{height}.jpg",
         "115",
         "2025-06-13T01:58:57.557874"
        ],
        [
         "32399",
         "Counter-Strike",
         "https://static-cdn.jtvnw.net/ttv-boxart/32399-{width}x{height}.jpg",
         "",
         "2025-06-13T01:58:57.557874"
        ],
        [
         "1264310518",
         "Marvel Rivals",
         "https://static-cdn.jtvnw.net/ttv-boxart/1264310518_IGDB-{width}x{height}.jpg",
         "294041",
         "2025-06-13T01:58:57.557874"
        ],
        [
         "1987896617",
         "Dune: Awakening",
         "https://static-cdn.jtvnw.net/ttv-boxart/1987896617_IGDB-{width}x{height}.jpg",
         "214394",
         "2025-06-13T01:58:57.557874"
        ],
        [
         "512710",
         "Call of Duty: Warzone",
         "https://static-cdn.jtvnw.net/ttv-boxart/512710-{width}x{height}.jpg",
         "131800",
         "2025-06-13T01:58:57.557874"
        ],
        [
         "516575",
         "VALORANT",
         "https://static-cdn.jtvnw.net/ttv-boxart/516575-{width}x{height}.jpg",
         "126459",
         "2025-06-13T01:58:57.557874"
        ],
        [
         "27471",
         "Minecraft",
         "https://static-cdn.jtvnw.net/ttv-boxart/27471_IGDB-{width}x{height}.jpg",
         "135400",
         "2025-06-13T01:58:57.557874"
        ],
        [
         "491487",
         "Dead by Daylight",
         "https://static-cdn.jtvnw.net/ttv-boxart/491487-{width}x{height}.jpg",
         "18866",
         "2025-06-13T01:58:57.557874"
        ],
        [
         "29595",
         "Dota 2",
         "https://static-cdn.jtvnw.net/ttv-boxart/29595-{width}x{height}.jpg",
         "",
         "2025-06-13T01:58:57.557874"
        ],
        [
         "982348888",
         "Elden Ring: Nightreign",
         "https://static-cdn.jtvnw.net/ttv-boxart/982348888_IGDB-{width}x{height}.jpg",
         "325591",
         "2025-06-13T01:58:57.557874"
        ],
        [
         "511224",
         "Apex Legends",
         "https://static-cdn.jtvnw.net/ttv-boxart/511224-{width}x{height}.jpg",
         "114795",
         "2025-06-13T01:58:57.557874"
        ],
        [
         "29452",
         "Virtual Casino",
         "https://static-cdn.jtvnw.net/ttv-boxart/29452_IGDB-{width}x{height}.jpg",
         "45517",
         "2025-06-13T01:58:57.557874"
        ],
        [
         "515025",
         "Overwatch 2",
         "https://static-cdn.jtvnw.net/ttv-boxart/515025-{width}x{height}.jpg",
         "125174",
         "2025-06-13T01:58:57.557874"
        ],
        [
         "32982",
         "Grand Theft Auto V",
         "https://static-cdn.jtvnw.net/ttv-boxart/32982_IGDB-{width}x{height}.jpg",
         "1020",
         "2025-06-13T01:59:18.953497"
        ],
        [
         "460630",
         "Tom Clancy's Rainbow Six Siege X",
         "https://static-cdn.jtvnw.net/ttv-boxart/460630-{width}x{height}.jpg",
         "7360",
         "2025-06-13T01:59:18.953497"
        ],
        [
         "1826300051",
         "Mario Kart World",
         "https://static-cdn.jtvnw.net/ttv-boxart/1826300051_IGDB-{width}x{height}.jpg",
         "338067",
         "2025-06-13T01:59:18.953497"
        ],
        [
         "33214",
         "Fortnite",
         "https://static-cdn.jtvnw.net/ttv-boxart/33214-{width}x{height}.jpg",
         "1905",
         "2025-06-13T01:59:18.953497"
        ],
        [
         "21779",
         "League of Legends",
         "https://static-cdn.jtvnw.net/ttv-boxart/21779-{width}x{height}.jpg",
         "115",
         "2025-06-13T01:59:18.953497"
        ],
        [
         "32399",
         "Counter-Strike",
         "https://static-cdn.jtvnw.net/ttv-boxart/32399-{width}x{height}.jpg",
         "",
         "2025-06-13T01:59:18.953497"
        ],
        [
         "1264310518",
         "Marvel Rivals",
         "https://static-cdn.jtvnw.net/ttv-boxart/1264310518_IGDB-{width}x{height}.jpg",
         "294041",
         "2025-06-13T01:59:18.953497"
        ],
        [
         "1987896617",
         "Dune: Awakening",
         "https://static-cdn.jtvnw.net/ttv-boxart/1987896617_IGDB-{width}x{height}.jpg",
         "214394",
         "2025-06-13T01:59:18.953497"
        ],
        [
         "512710",
         "Call of Duty: Warzone",
         "https://static-cdn.jtvnw.net/ttv-boxart/512710-{width}x{height}.jpg",
         "131800",
         "2025-06-13T01:59:18.953497"
        ],
        [
         "516575",
         "VALORANT",
         "https://static-cdn.jtvnw.net/ttv-boxart/516575-{width}x{height}.jpg",
         "126459",
         "2025-06-13T01:59:18.953497"
        ],
        [
         "27471",
         "Minecraft",
         "https://static-cdn.jtvnw.net/ttv-boxart/27471_IGDB-{width}x{height}.jpg",
         "135400",
         "2025-06-13T01:59:18.953497"
        ],
        [
         "491487",
         "Dead by Daylight",
         "https://static-cdn.jtvnw.net/ttv-boxart/491487-{width}x{height}.jpg",
         "18866",
         "2025-06-13T01:59:18.953497"
        ],
        [
         "29595",
         "Dota 2",
         "https://static-cdn.jtvnw.net/ttv-boxart/29595-{width}x{height}.jpg",
         "",
         "2025-06-13T01:59:18.953497"
        ],
        [
         "982348888",
         "Elden Ring: Nightreign",
         "https://static-cdn.jtvnw.net/ttv-boxart/982348888_IGDB-{width}x{height}.jpg",
         "325591",
         "2025-06-13T01:59:18.953497"
        ],
        [
         "511224",
         "Apex Legends",
         "https://static-cdn.jtvnw.net/ttv-boxart/511224-{width}x{height}.jpg",
         "114795",
         "2025-06-13T01:59:18.953497"
        ],
        [
         "29452",
         "Virtual Casino",
         "https://static-cdn.jtvnw.net/ttv-boxart/29452_IGDB-{width}x{height}.jpg",
         "45517",
         "2025-06-13T01:59:18.953497"
        ],
        [
         "515025",
         "Overwatch 2",
         "https://static-cdn.jtvnw.net/ttv-boxart/515025-{width}x{height}.jpg",
         "125174",
         "2025-06-13T01:59:18.953497"
        ],
        [
         "32399",
         "Counter-Strike",
         "https://static-cdn.jtvnw.net/ttv-boxart/32399-{width}x{height}.jpg",
         "",
         "2025-06-13T18:45:01.228788"
        ],
        [
         "516575",
         "VALORANT",
         "https://static-cdn.jtvnw.net/ttv-boxart/516575-{width}x{height}.jpg",
         "126459",
         "2025-06-13T18:45:01.228788"
        ],
        [
         "32982",
         "Grand Theft Auto V",
         "https://static-cdn.jtvnw.net/ttv-boxart/32982_IGDB-{width}x{height}.jpg",
         "1020",
         "2025-06-13T18:45:01.228788"
        ],
        [
         "21779",
         "League of Legends",
         "https://static-cdn.jtvnw.net/ttv-boxart/21779-{width}x{height}.jpg",
         "115",
         "2025-06-13T18:45:01.228788"
        ],
        [
         "29307",
         "Path of Exile",
         "https://static-cdn.jtvnw.net/ttv-boxart/29307_IGDB-{width}x{height}.jpg",
         "1911",
         "2025-06-13T18:45:01.228788"
        ],
        [
         "29595",
         "Dota 2",
         "https://static-cdn.jtvnw.net/ttv-boxart/29595-{width}x{height}.jpg",
         "",
         "2025-06-13T18:45:01.228788"
        ],
        [
         "27471",
         "Minecraft",
         "https://static-cdn.jtvnw.net/ttv-boxart/27471_IGDB-{width}x{height}.jpg",
         "135400",
         "2025-06-13T18:45:01.228788"
        ],
        [
         "481086259",
         "The Alters",
         "https://static-cdn.jtvnw.net/ttv-boxart/481086259_IGDB-{width}x{height}.jpg",
         "204634",
         "2025-06-13T18:45:01.228788"
        ],
        [
         "33214",
         "Fortnite",
         "https://static-cdn.jtvnw.net/ttv-boxart/33214-{width}x{height}.jpg",
         "1905",
         "2025-06-13T18:45:01.228788"
        ],
        [
         "2011938005",
         "EA Sports FC 25",
         "https://static-cdn.jtvnw.net/ttv-boxart/2011938005_IGDB-{width}x{height}.jpg",
         "308698",
         "2025-06-13T18:45:01.228788"
        ],
        [
         "512710",
         "Call of Duty: Warzone",
         "https://static-cdn.jtvnw.net/ttv-boxart/512710-{width}x{height}.jpg",
         "131800",
         "2025-06-13T18:45:01.228788"
        ],
        [
         "1987896617",
         "Dune: Awakening",
         "https://static-cdn.jtvnw.net/ttv-boxart/1987896617_IGDB-{width}x{height}.jpg",
         "214394",
         "2025-06-13T18:45:01.228788"
        ],
        [
         "55453844",
         "Street Fighter 6",
         "https://static-cdn.jtvnw.net/ttv-boxart/55453844_IGDB-{width}x{height}.jpg",
         "191692",
         "2025-06-13T18:45:01.228788"
        ],
        [
         "460630",
         "Tom Clancy's Rainbow Six Siege X",
         "https://static-cdn.jtvnw.net/ttv-boxart/460630-{width}x{height}.jpg",
         "7360",
         "2025-06-13T18:45:01.228788"
        ],
        [
         "602694215",
         "Five Nights at Freddy's: Secret of the Mimic",
         "https://static-cdn.jtvnw.net/ttv-boxart/602694215_IGDB-{width}x{height}.jpg",
         "312859",
         "2025-06-13T18:45:01.228788"
        ],
        [
         "1826300051",
         "Mario Kart World",
         "https://static-cdn.jtvnw.net/ttv-boxart/1826300051_IGDB-{width}x{height}.jpg",
         "338067",
         "2025-06-13T18:45:01.228788"
        ],
        [
         "32399",
         "Counter-Strike",
         "https://static-cdn.jtvnw.net/ttv-boxart/32399-{width}x{height}.jpg",
         "",
         "2025-06-13T19:40:16.647244"
        ],
        [
         "516575",
         "VALORANT",
         "https://static-cdn.jtvnw.net/ttv-boxart/516575-{width}x{height}.jpg",
         "126459",
         "2025-06-13T19:40:16.647244"
        ],
        [
         "32982",
         "Grand Theft Auto V",
         "https://static-cdn.jtvnw.net/ttv-boxart/32982_IGDB-{width}x{height}.jpg",
         "1020",
         "2025-06-13T19:40:16.647244"
        ],
        [
         "29307",
         "Path of Exile",
         "https://static-cdn.jtvnw.net/ttv-boxart/29307_IGDB-{width}x{height}.jpg",
         "1911",
         "2025-06-13T19:40:16.647244"
        ],
        [
         "27471",
         "Minecraft",
         "https://static-cdn.jtvnw.net/ttv-boxart/27471_IGDB-{width}x{height}.jpg",
         "135400",
         "2025-06-13T19:40:16.647244"
        ],
        [
         "21779",
         "League of Legends",
         "https://static-cdn.jtvnw.net/ttv-boxart/21779-{width}x{height}.jpg",
         "115",
         "2025-06-13T19:40:16.647244"
        ],
        [
         "481086259",
         "The Alters",
         "https://static-cdn.jtvnw.net/ttv-boxart/481086259_IGDB-{width}x{height}.jpg",
         "204634",
         "2025-06-13T19:40:16.647244"
        ],
        [
         "602694215",
         "Five Nights at Freddy's: Secret of the Mimic",
         "https://static-cdn.jtvnw.net/ttv-boxart/602694215_IGDB-{width}x{height}.jpg",
         "312859",
         "2025-06-13T19:40:16.647244"
        ],
        [
         "33214",
         "Fortnite",
         "https://static-cdn.jtvnw.net/ttv-boxart/33214-{width}x{height}.jpg",
         "1905",
         "2025-06-13T19:40:16.647244"
        ],
        [
         "29595",
         "Dota 2",
         "https://static-cdn.jtvnw.net/ttv-boxart/29595-{width}x{height}.jpg",
         "",
         "2025-06-13T19:40:16.647244"
        ],
        [
         "460630",
         "Tom Clancy's Rainbow Six Siege X",
         "https://static-cdn.jtvnw.net/ttv-boxart/460630-{width}x{height}.jpg",
         "7360",
         "2025-06-13T19:40:16.647244"
        ],
        [
         "512710",
         "Call of Duty: Warzone",
         "https://static-cdn.jtvnw.net/ttv-boxart/512710-{width}x{height}.jpg",
         "131800",
         "2025-06-13T19:40:16.647244"
        ],
        [
         "2011938005",
         "EA Sports FC 25",
         "https://static-cdn.jtvnw.net/ttv-boxart/2011938005_IGDB-{width}x{height}.jpg",
         "308698",
         "2025-06-13T19:40:16.647244"
        ],
        [
         "1987896617",
         "Dune: Awakening",
         "https://static-cdn.jtvnw.net/ttv-boxart/1987896617_IGDB-{width}x{height}.jpg",
         "214394",
         "2025-06-13T19:40:16.647244"
        ],
        [
         "1826300051",
         "Mario Kart World",
         "https://static-cdn.jtvnw.net/ttv-boxart/1826300051_IGDB-{width}x{height}.jpg",
         "338067",
         "2025-06-13T19:40:16.647244"
        ],
        [
         "55453844",
         "Street Fighter 6",
         "https://static-cdn.jtvnw.net/ttv-boxart/55453844_IGDB-{width}x{height}.jpg",
         "191692",
         "2025-06-13T19:40:16.647244"
        ],
        [
         "32399",
         "Counter-Strike",
         "https://static-cdn.jtvnw.net/ttv-boxart/32399-{width}x{height}.jpg",
         "",
         "2025-06-13T19:41:18.785355"
        ],
        [
         "516575",
         "VALORANT",
         "https://static-cdn.jtvnw.net/ttv-boxart/516575-{width}x{height}.jpg",
         "126459",
         "2025-06-13T19:41:18.785355"
        ],
        [
         "32982",
         "Grand Theft Auto V",
         "https://static-cdn.jtvnw.net/ttv-boxart/32982_IGDB-{width}x{height}.jpg",
         "1020",
         "2025-06-13T19:41:18.785355"
        ],
        [
         "29307",
         "Path of Exile",
         "https://static-cdn.jtvnw.net/ttv-boxart/29307_IGDB-{width}x{height}.jpg",
         "1911",
         "2025-06-13T19:41:18.785355"
        ],
        [
         "27471",
         "Minecraft",
         "https://static-cdn.jtvnw.net/ttv-boxart/27471_IGDB-{width}x{height}.jpg",
         "135400",
         "2025-06-13T19:41:18.785355"
        ],
        [
         "21779",
         "League of Legends",
         "https://static-cdn.jtvnw.net/ttv-boxart/21779-{width}x{height}.jpg",
         "115",
         "2025-06-13T19:41:18.785355"
        ],
        [
         "481086259",
         "The Alters",
         "https://static-cdn.jtvnw.net/ttv-boxart/481086259_IGDB-{width}x{height}.jpg",
         "204634",
         "2025-06-13T19:41:18.785355"
        ],
        [
         "602694215",
         "Five Nights at Freddy's: Secret of the Mimic",
         "https://static-cdn.jtvnw.net/ttv-boxart/602694215_IGDB-{width}x{height}.jpg",
         "312859",
         "2025-06-13T19:41:18.785355"
        ],
        [
         "33214",
         "Fortnite",
         "https://static-cdn.jtvnw.net/ttv-boxart/33214-{width}x{height}.jpg",
         "1905",
         "2025-06-13T19:41:18.785355"
        ],
        [
         "29595",
         "Dota 2",
         "https://static-cdn.jtvnw.net/ttv-boxart/29595-{width}x{height}.jpg",
         "",
         "2025-06-13T19:41:18.785355"
        ],
        [
         "460630",
         "Tom Clancy's Rainbow Six Siege X",
         "https://static-cdn.jtvnw.net/ttv-boxart/460630-{width}x{height}.jpg",
         "7360",
         "2025-06-13T19:41:18.785355"
        ],
        [
         "512710",
         "Call of Duty: Warzone",
         "https://static-cdn.jtvnw.net/ttv-boxart/512710-{width}x{height}.jpg",
         "131800",
         "2025-06-13T19:41:18.785355"
        ],
        [
         "2011938005",
         "EA Sports FC 25",
         "https://static-cdn.jtvnw.net/ttv-boxart/2011938005_IGDB-{width}x{height}.jpg",
         "308698",
         "2025-06-13T19:41:18.785355"
        ],
        [
         "1987896617",
         "Dune: Awakening",
         "https://static-cdn.jtvnw.net/ttv-boxart/1987896617_IGDB-{width}x{height}.jpg",
         "214394",
         "2025-06-13T19:41:18.785355"
        ],
        [
         "1826300051",
         "Mario Kart World",
         "https://static-cdn.jtvnw.net/ttv-boxart/1826300051_IGDB-{width}x{height}.jpg",
         "338067",
         "2025-06-13T19:41:18.785355"
        ],
        [
         "55453844",
         "Street Fighter 6",
         "https://static-cdn.jtvnw.net/ttv-boxart/55453844_IGDB-{width}x{height}.jpg",
         "191692",
         "2025-06-13T19:41:18.785355"
        ],
        [
         "32399",
         "Counter-Strike",
         "https://static-cdn.jtvnw.net/ttv-boxart/32399-{width}x{height}.jpg",
         "",
         "2025-06-13T19:39:14.705015"
        ],
        [
         "516575",
         "VALORANT",
         "https://static-cdn.jtvnw.net/ttv-boxart/516575-{width}x{height}.jpg",
         "126459",
         "2025-06-13T19:39:14.705015"
        ],
        [
         "32982",
         "Grand Theft Auto V",
         "https://static-cdn.jtvnw.net/ttv-boxart/32982_IGDB-{width}x{height}.jpg",
         "1020",
         "2025-06-13T19:39:14.705015"
        ],
        [
         "29307",
         "Path of Exile",
         "https://static-cdn.jtvnw.net/ttv-boxart/29307_IGDB-{width}x{height}.jpg",
         "1911",
         "2025-06-13T19:39:14.705015"
        ],
        [
         "27471",
         "Minecraft",
         "https://static-cdn.jtvnw.net/ttv-boxart/27471_IGDB-{width}x{height}.jpg",
         "135400",
         "2025-06-13T19:39:14.705015"
        ],
        [
         "21779",
         "League of Legends",
         "https://static-cdn.jtvnw.net/ttv-boxart/21779-{width}x{height}.jpg",
         "115",
         "2025-06-13T19:39:14.705015"
        ],
        [
         "481086259",
         "The Alters",
         "https://static-cdn.jtvnw.net/ttv-boxart/481086259_IGDB-{width}x{height}.jpg",
         "204634",
         "2025-06-13T19:39:14.705015"
        ],
        [
         "602694215",
         "Five Nights at Freddy's: Secret of the Mimic",
         "https://static-cdn.jtvnw.net/ttv-boxart/602694215_IGDB-{width}x{height}.jpg",
         "312859",
         "2025-06-13T19:39:14.705015"
        ],
        [
         "33214",
         "Fortnite",
         "https://static-cdn.jtvnw.net/ttv-boxart/33214-{width}x{height}.jpg",
         "1905",
         "2025-06-13T19:39:14.705015"
        ],
        [
         "29595",
         "Dota 2",
         "https://static-cdn.jtvnw.net/ttv-boxart/29595-{width}x{height}.jpg",
         "",
         "2025-06-13T19:39:14.705015"
        ],
        [
         "460630",
         "Tom Clancy's Rainbow Six Siege X",
         "https://static-cdn.jtvnw.net/ttv-boxart/460630-{width}x{height}.jpg",
         "7360",
         "2025-06-13T19:39:14.705015"
        ],
        [
         "512710",
         "Call of Duty: Warzone",
         "https://static-cdn.jtvnw.net/ttv-boxart/512710-{width}x{height}.jpg",
         "131800",
         "2025-06-13T19:39:14.705015"
        ],
        [
         "2011938005",
         "EA Sports FC 25",
         "https://static-cdn.jtvnw.net/ttv-boxart/2011938005_IGDB-{width}x{height}.jpg",
         "308698",
         "2025-06-13T19:39:14.705015"
        ],
        [
         "1987896617",
         "Dune: Awakening",
         "https://static-cdn.jtvnw.net/ttv-boxart/1987896617_IGDB-{width}x{height}.jpg",
         "214394",
         "2025-06-13T19:39:14.705015"
        ],
        [
         "1826300051",
         "Mario Kart World",
         "https://static-cdn.jtvnw.net/ttv-boxart/1826300051_IGDB-{width}x{height}.jpg",
         "338067",
         "2025-06-13T19:39:14.705015"
        ],
        [
         "55453844",
         "Street Fighter 6",
         "https://static-cdn.jtvnw.net/ttv-boxart/55453844_IGDB-{width}x{height}.jpg",
         "191692",
         "2025-06-13T19:39:14.705015"
        ],
        [
         "32399",
         "Counter-Strike",
         "https://static-cdn.jtvnw.net/ttv-boxart/32399-{width}x{height}.jpg",
         "",
         "2025-06-13T19:21:35.793678"
        ],
        [
         "516575",
         "VALORANT",
         "https://static-cdn.jtvnw.net/ttv-boxart/516575-{width}x{height}.jpg",
         "126459",
         "2025-06-13T19:21:35.793678"
        ],
        [
         "32982",
         "Grand Theft Auto V",
         "https://static-cdn.jtvnw.net/ttv-boxart/32982_IGDB-{width}x{height}.jpg",
         "1020",
         "2025-06-13T19:21:35.793678"
        ],
        [
         "29307",
         "Path of Exile",
         "https://static-cdn.jtvnw.net/ttv-boxart/29307_IGDB-{width}x{height}.jpg",
         "1911",
         "2025-06-13T19:21:35.793678"
        ],
        [
         "21779",
         "League of Legends",
         "https://static-cdn.jtvnw.net/ttv-boxart/21779-{width}x{height}.jpg",
         "115",
         "2025-06-13T19:21:35.793678"
        ],
        [
         "27471",
         "Minecraft",
         "https://static-cdn.jtvnw.net/ttv-boxart/27471_IGDB-{width}x{height}.jpg",
         "135400",
         "2025-06-13T19:21:35.793678"
        ],
        [
         "481086259",
         "The Alters",
         "https://static-cdn.jtvnw.net/ttv-boxart/481086259_IGDB-{width}x{height}.jpg",
         "204634",
         "2025-06-13T19:21:35.793678"
        ],
        [
         "33214",
         "Fortnite",
         "https://static-cdn.jtvnw.net/ttv-boxart/33214-{width}x{height}.jpg",
         "1905",
         "2025-06-13T19:21:35.793678"
        ],
        [
         "29595",
         "Dota 2",
         "https://static-cdn.jtvnw.net/ttv-boxart/29595-{width}x{height}.jpg",
         "",
         "2025-06-13T19:21:35.793678"
        ],
        [
         "602694215",
         "Five Nights at Freddy's: Secret of the Mimic",
         "https://static-cdn.jtvnw.net/ttv-boxart/602694215_IGDB-{width}x{height}.jpg",
         "312859",
         "2025-06-13T19:21:35.793678"
        ],
        [
         "2011938005",
         "EA Sports FC 25",
         "https://static-cdn.jtvnw.net/ttv-boxart/2011938005_IGDB-{width}x{height}.jpg",
         "308698",
         "2025-06-13T19:21:35.793678"
        ],
        [
         "460630",
         "Tom Clancy's Rainbow Six Siege X",
         "https://static-cdn.jtvnw.net/ttv-boxart/460630-{width}x{height}.jpg",
         "7360",
         "2025-06-13T19:21:35.793678"
        ],
        [
         "30921",
         "Rocket League",
         "https://static-cdn.jtvnw.net/ttv-boxart/30921-{width}x{height}.jpg",
         "11198",
         "2025-06-13T19:21:35.793678"
        ],
        [
         "1987896617",
         "Dune: Awakening",
         "https://static-cdn.jtvnw.net/ttv-boxart/1987896617_IGDB-{width}x{height}.jpg",
         "214394",
         "2025-06-13T19:21:35.793678"
        ],
        [
         "512710",
         "Call of Duty: Warzone",
         "https://static-cdn.jtvnw.net/ttv-boxart/512710-{width}x{height}.jpg",
         "131800",
         "2025-06-13T19:21:35.793678"
        ],
        [
         "55453844",
         "Street Fighter 6",
         "https://static-cdn.jtvnw.net/ttv-boxart/55453844_IGDB-{width}x{height}.jpg",
         "191692",
         "2025-06-13T19:21:35.793678"
        ],
        [
         "32399",
         "Counter-Strike",
         "https://static-cdn.jtvnw.net/ttv-boxart/32399-{width}x{height}.jpg",
         "",
         "2025-06-13T19:38:12.524946"
        ],
        [
         "516575",
         "VALORANT",
         "https://static-cdn.jtvnw.net/ttv-boxart/516575-{width}x{height}.jpg",
         "126459",
         "2025-06-13T19:38:12.524946"
        ],
        [
         "32982",
         "Grand Theft Auto V",
         "https://static-cdn.jtvnw.net/ttv-boxart/32982_IGDB-{width}x{height}.jpg",
         "1020",
         "2025-06-13T19:38:12.524946"
        ],
        [
         "29307",
         "Path of Exile",
         "https://static-cdn.jtvnw.net/ttv-boxart/29307_IGDB-{width}x{height}.jpg",
         "1911",
         "2025-06-13T19:38:12.524946"
        ],
        [
         "27471",
         "Minecraft",
         "https://static-cdn.jtvnw.net/ttv-boxart/27471_IGDB-{width}x{height}.jpg",
         "135400",
         "2025-06-13T19:38:12.524946"
        ],
        [
         "21779",
         "League of Legends",
         "https://static-cdn.jtvnw.net/ttv-boxart/21779-{width}x{height}.jpg",
         "115",
         "2025-06-13T19:38:12.524946"
        ],
        [
         "481086259",
         "The Alters",
         "https://static-cdn.jtvnw.net/ttv-boxart/481086259_IGDB-{width}x{height}.jpg",
         "204634",
         "2025-06-13T19:38:12.524946"
        ],
        [
         "602694215",
         "Five Nights at Freddy's: Secret of the Mimic",
         "https://static-cdn.jtvnw.net/ttv-boxart/602694215_IGDB-{width}x{height}.jpg",
         "312859",
         "2025-06-13T19:38:12.524946"
        ],
        [
         "33214",
         "Fortnite",
         "https://static-cdn.jtvnw.net/ttv-boxart/33214-{width}x{height}.jpg",
         "1905",
         "2025-06-13T19:38:12.524946"
        ],
        [
         "29595",
         "Dota 2",
         "https://static-cdn.jtvnw.net/ttv-boxart/29595-{width}x{height}.jpg",
         "",
         "2025-06-13T19:38:12.524946"
        ],
        [
         "460630",
         "Tom Clancy's Rainbow Six Siege X",
         "https://static-cdn.jtvnw.net/ttv-boxart/460630-{width}x{height}.jpg",
         "7360",
         "2025-06-13T19:38:12.524946"
        ],
        [
         "512710",
         "Call of Duty: Warzone",
         "https://static-cdn.jtvnw.net/ttv-boxart/512710-{width}x{height}.jpg",
         "131800",
         "2025-06-13T19:38:12.524946"
        ],
        [
         "2011938005",
         "EA Sports FC 25",
         "https://static-cdn.jtvnw.net/ttv-boxart/2011938005_IGDB-{width}x{height}.jpg",
         "308698",
         "2025-06-13T19:38:12.524946"
        ],
        [
         "1987896617",
         "Dune: Awakening",
         "https://static-cdn.jtvnw.net/ttv-boxart/1987896617_IGDB-{width}x{height}.jpg",
         "214394",
         "2025-06-13T19:38:12.524946"
        ],
        [
         "1826300051",
         "Mario Kart World",
         "https://static-cdn.jtvnw.net/ttv-boxart/1826300051_IGDB-{width}x{height}.jpg",
         "338067",
         "2025-06-13T19:38:12.524946"
        ],
        [
         "55453844",
         "Street Fighter 6",
         "https://static-cdn.jtvnw.net/ttv-boxart/55453844_IGDB-{width}x{height}.jpg",
         "191692",
         "2025-06-13T19:38:12.524946"
        ],
        [
         "32399",
         "Counter-Strike",
         "https://static-cdn.jtvnw.net/ttv-boxart/32399-{width}x{height}.jpg",
         "",
         "2025-06-13T19:45:29.961234"
        ],
        [
         "516575",
         "VALORANT",
         "https://static-cdn.jtvnw.net/ttv-boxart/516575-{width}x{height}.jpg",
         "126459",
         "2025-06-13T19:45:29.961234"
        ],
        [
         "29307",
         "Path of Exile",
         "https://static-cdn.jtvnw.net/ttv-boxart/29307_IGDB-{width}x{height}.jpg",
         "1911",
         "2025-06-13T19:45:29.961234"
        ],
        [
         "32982",
         "Grand Theft Auto V",
         "https://static-cdn.jtvnw.net/ttv-boxart/32982_IGDB-{width}x{height}.jpg",
         "1020",
         "2025-06-13T19:45:29.961234"
        ],
        [
         "21779",
         "League of Legends",
         "https://static-cdn.jtvnw.net/ttv-boxart/21779-{width}x{height}.jpg",
         "115",
         "2025-06-13T19:45:29.961234"
        ],
        [
         "27471",
         "Minecraft",
         "https://static-cdn.jtvnw.net/ttv-boxart/27471_IGDB-{width}x{height}.jpg",
         "135400",
         "2025-06-13T19:45:29.961234"
        ],
        [
         "481086259",
         "The Alters",
         "https://static-cdn.jtvnw.net/ttv-boxart/481086259_IGDB-{width}x{height}.jpg",
         "204634",
         "2025-06-13T19:45:29.961234"
        ],
        [
         "602694215",
         "Five Nights at Freddy's: Secret of the Mimic",
         "https://static-cdn.jtvnw.net/ttv-boxart/602694215_IGDB-{width}x{height}.jpg",
         "312859",
         "2025-06-13T19:45:29.961234"
        ],
        [
         "33214",
         "Fortnite",
         "https://static-cdn.jtvnw.net/ttv-boxart/33214-{width}x{height}.jpg",
         "1905",
         "2025-06-13T19:45:29.961234"
        ],
        [
         "460630",
         "Tom Clancy's Rainbow Six Siege X",
         "https://static-cdn.jtvnw.net/ttv-boxart/460630-{width}x{height}.jpg",
         "7360",
         "2025-06-13T19:45:29.961234"
        ],
        [
         "512710",
         "Call of Duty: Warzone",
         "https://static-cdn.jtvnw.net/ttv-boxart/512710-{width}x{height}.jpg",
         "131800",
         "2025-06-13T19:45:29.961234"
        ],
        [
         "2011938005",
         "EA Sports FC 25",
         "https://static-cdn.jtvnw.net/ttv-boxart/2011938005_IGDB-{width}x{height}.jpg",
         "308698",
         "2025-06-13T19:45:29.961234"
        ],
        [
         "29595",
         "Dota 2",
         "https://static-cdn.jtvnw.net/ttv-boxart/29595-{width}x{height}.jpg",
         "",
         "2025-06-13T19:45:29.961234"
        ],
        [
         "1987896617",
         "Dune: Awakening",
         "https://static-cdn.jtvnw.net/ttv-boxart/1987896617_IGDB-{width}x{height}.jpg",
         "214394",
         "2025-06-13T19:45:29.961234"
        ],
        [
         "1826300051",
         "Mario Kart World",
         "https://static-cdn.jtvnw.net/ttv-boxart/1826300051_IGDB-{width}x{height}.jpg",
         "338067",
         "2025-06-13T19:45:29.961234"
        ],
        [
         "55453844",
         "Street Fighter 6",
         "https://static-cdn.jtvnw.net/ttv-boxart/55453844_IGDB-{width}x{height}.jpg",
         "191692",
         "2025-06-13T19:45:29.961234"
        ],
        [
         "32399",
         "Counter-Strike",
         "https://static-cdn.jtvnw.net/ttv-boxart/32399-{width}x{height}.jpg",
         "",
         "2025-06-13T18:47:06.073713"
        ],
        [
         "516575",
         "VALORANT",
         "https://static-cdn.jtvnw.net/ttv-boxart/516575-{width}x{height}.jpg",
         "126459",
         "2025-06-13T18:47:06.073713"
        ],
        [
         "32982",
         "Grand Theft Auto V",
         "https://static-cdn.jtvnw.net/ttv-boxart/32982_IGDB-{width}x{height}.jpg",
         "1020",
         "2025-06-13T18:47:06.073713"
        ],
        [
         "21779",
         "League of Legends",
         "https://static-cdn.jtvnw.net/ttv-boxart/21779-{width}x{height}.jpg",
         "115",
         "2025-06-13T18:47:06.073713"
        ],
        [
         "29307",
         "Path of Exile",
         "https://static-cdn.jtvnw.net/ttv-boxart/29307_IGDB-{width}x{height}.jpg",
         "1911",
         "2025-06-13T18:47:06.073713"
        ],
        [
         "29595",
         "Dota 2",
         "https://static-cdn.jtvnw.net/ttv-boxart/29595-{width}x{height}.jpg",
         "",
         "2025-06-13T18:47:06.073713"
        ],
        [
         "27471",
         "Minecraft",
         "https://static-cdn.jtvnw.net/ttv-boxart/27471_IGDB-{width}x{height}.jpg",
         "135400",
         "2025-06-13T18:47:06.073713"
        ],
        [
         "481086259",
         "The Alters",
         "https://static-cdn.jtvnw.net/ttv-boxart/481086259_IGDB-{width}x{height}.jpg",
         "204634",
         "2025-06-13T18:47:06.073713"
        ],
        [
         "33214",
         "Fortnite",
         "https://static-cdn.jtvnw.net/ttv-boxart/33214-{width}x{height}.jpg",
         "1905",
         "2025-06-13T18:47:06.073713"
        ],
        [
         "2011938005",
         "EA Sports FC 25",
         "https://static-cdn.jtvnw.net/ttv-boxart/2011938005_IGDB-{width}x{height}.jpg",
         "308698",
         "2025-06-13T18:47:06.073713"
        ],
        [
         "512710",
         "Call of Duty: Warzone",
         "https://static-cdn.jtvnw.net/ttv-boxart/512710-{width}x{height}.jpg",
         "131800",
         "2025-06-13T18:47:06.073713"
        ],
        [
         "1987896617",
         "Dune: Awakening",
         "https://static-cdn.jtvnw.net/ttv-boxart/1987896617_IGDB-{width}x{height}.jpg",
         "214394",
         "2025-06-13T18:47:06.073713"
        ],
        [
         "460630",
         "Tom Clancy's Rainbow Six Siege X",
         "https://static-cdn.jtvnw.net/ttv-boxart/460630-{width}x{height}.jpg",
         "7360",
         "2025-06-13T18:47:06.073713"
        ],
        [
         "55453844",
         "Street Fighter 6",
         "https://static-cdn.jtvnw.net/ttv-boxart/55453844_IGDB-{width}x{height}.jpg",
         "191692",
         "2025-06-13T18:47:06.073713"
        ],
        [
         "602694215",
         "Five Nights at Freddy's: Secret of the Mimic",
         "https://static-cdn.jtvnw.net/ttv-boxart/602694215_IGDB-{width}x{height}.jpg",
         "312859",
         "2025-06-13T18:47:06.073713"
        ],
        [
         "1826300051",
         "Mario Kart World",
         "https://static-cdn.jtvnw.net/ttv-boxart/1826300051_IGDB-{width}x{height}.jpg",
         "338067",
         "2025-06-13T18:47:06.073713"
        ],
        [
         "32399",
         "Counter-Strike",
         "https://static-cdn.jtvnw.net/ttv-boxart/32399-{width}x{height}.jpg",
         "",
         "2025-06-13T19:37:10.313409"
        ],
        [
         "516575",
         "VALORANT",
         "https://static-cdn.jtvnw.net/ttv-boxart/516575-{width}x{height}.jpg",
         "126459",
         "2025-06-13T19:37:10.313409"
        ],
        [
         "32982",
         "Grand Theft Auto V",
         "https://static-cdn.jtvnw.net/ttv-boxart/32982_IGDB-{width}x{height}.jpg",
         "1020",
         "2025-06-13T19:37:10.313409"
        ],
        [
         "29307",
         "Path of Exile",
         "https://static-cdn.jtvnw.net/ttv-boxart/29307_IGDB-{width}x{height}.jpg",
         "1911",
         "2025-06-13T19:37:10.313409"
        ],
        [
         "27471",
         "Minecraft",
         "https://static-cdn.jtvnw.net/ttv-boxart/27471_IGDB-{width}x{height}.jpg",
         "135400",
         "2025-06-13T19:37:10.313409"
        ],
        [
         "21779",
         "League of Legends",
         "https://static-cdn.jtvnw.net/ttv-boxart/21779-{width}x{height}.jpg",
         "115",
         "2025-06-13T19:37:10.313409"
        ],
        [
         "481086259",
         "The Alters",
         "https://static-cdn.jtvnw.net/ttv-boxart/481086259_IGDB-{width}x{height}.jpg",
         "204634",
         "2025-06-13T19:37:10.313409"
        ],
        [
         "602694215",
         "Five Nights at Freddy's: Secret of the Mimic",
         "https://static-cdn.jtvnw.net/ttv-boxart/602694215_IGDB-{width}x{height}.jpg",
         "312859",
         "2025-06-13T19:37:10.313409"
        ],
        [
         "33214",
         "Fortnite",
         "https://static-cdn.jtvnw.net/ttv-boxart/33214-{width}x{height}.jpg",
         "1905",
         "2025-06-13T19:37:10.313409"
        ],
        [
         "460630",
         "Tom Clancy's Rainbow Six Siege X",
         "https://static-cdn.jtvnw.net/ttv-boxart/460630-{width}x{height}.jpg",
         "7360",
         "2025-06-13T19:37:10.313409"
        ],
        [
         "29595",
         "Dota 2",
         "https://static-cdn.jtvnw.net/ttv-boxart/29595-{width}x{height}.jpg",
         "",
         "2025-06-13T19:37:10.313409"
        ],
        [
         "512710",
         "Call of Duty: Warzone",
         "https://static-cdn.jtvnw.net/ttv-boxart/512710-{width}x{height}.jpg",
         "131800",
         "2025-06-13T19:37:10.313409"
        ],
        [
         "2011938005",
         "EA Sports FC 25",
         "https://static-cdn.jtvnw.net/ttv-boxart/2011938005_IGDB-{width}x{height}.jpg",
         "308698",
         "2025-06-13T19:37:10.313409"
        ],
        [
         "1987896617",
         "Dune: Awakening",
         "https://static-cdn.jtvnw.net/ttv-boxart/1987896617_IGDB-{width}x{height}.jpg",
         "214394",
         "2025-06-13T19:37:10.313409"
        ],
        [
         "1826300051",
         "Mario Kart World",
         "https://static-cdn.jtvnw.net/ttv-boxart/1826300051_IGDB-{width}x{height}.jpg",
         "338067",
         "2025-06-13T19:37:10.313409"
        ],
        [
         "55453844",
         "Street Fighter 6",
         "https://static-cdn.jtvnw.net/ttv-boxart/55453844_IGDB-{width}x{height}.jpg",
         "191692",
         "2025-06-13T19:37:10.313409"
        ],
        [
         "32399",
         "Counter-Strike",
         "https://static-cdn.jtvnw.net/ttv-boxart/32399-{width}x{height}.jpg",
         "",
         "2025-06-13T19:09:01.504925"
        ],
        [
         "516575",
         "VALORANT",
         "https://static-cdn.jtvnw.net/ttv-boxart/516575-{width}x{height}.jpg",
         "126459",
         "2025-06-13T19:09:01.504925"
        ],
        [
         "32982",
         "Grand Theft Auto V",
         "https://static-cdn.jtvnw.net/ttv-boxart/32982_IGDB-{width}x{height}.jpg",
         "1020",
         "2025-06-13T19:09:01.504925"
        ],
        [
         "29307",
         "Path of Exile",
         "https://static-cdn.jtvnw.net/ttv-boxart/29307_IGDB-{width}x{height}.jpg",
         "1911",
         "2025-06-13T19:09:01.504925"
        ],
        [
         "21779",
         "League of Legends",
         "https://static-cdn.jtvnw.net/ttv-boxart/21779-{width}x{height}.jpg",
         "115",
         "2025-06-13T19:09:01.504925"
        ],
        [
         "27471",
         "Minecraft",
         "https://static-cdn.jtvnw.net/ttv-boxart/27471_IGDB-{width}x{height}.jpg",
         "135400",
         "2025-06-13T19:09:01.504925"
        ],
        [
         "481086259",
         "The Alters",
         "https://static-cdn.jtvnw.net/ttv-boxart/481086259_IGDB-{width}x{height}.jpg",
         "204634",
         "2025-06-13T19:09:01.504925"
        ],
        [
         "33214",
         "Fortnite",
         "https://static-cdn.jtvnw.net/ttv-boxart/33214-{width}x{height}.jpg",
         "1905",
         "2025-06-13T19:09:01.504925"
        ],
        [
         "29595",
         "Dota 2",
         "https://static-cdn.jtvnw.net/ttv-boxart/29595-{width}x{height}.jpg",
         "",
         "2025-06-13T19:09:01.504925"
        ],
        [
         "2011938005",
         "EA Sports FC 25",
         "https://static-cdn.jtvnw.net/ttv-boxart/2011938005_IGDB-{width}x{height}.jpg",
         "308698",
         "2025-06-13T19:09:01.504925"
        ],
        [
         "602694215",
         "Five Nights at Freddy's: Secret of the Mimic",
         "https://static-cdn.jtvnw.net/ttv-boxart/602694215_IGDB-{width}x{height}.jpg",
         "312859",
         "2025-06-13T19:09:01.504925"
        ],
        [
         "1987896617",
         "Dune: Awakening",
         "https://static-cdn.jtvnw.net/ttv-boxart/1987896617_IGDB-{width}x{height}.jpg",
         "214394",
         "2025-06-13T19:09:01.504925"
        ],
        [
         "30921",
         "Rocket League",
         "https://static-cdn.jtvnw.net/ttv-boxart/30921-{width}x{height}.jpg",
         "11198",
         "2025-06-13T19:09:01.504925"
        ],
        [
         "460630",
         "Tom Clancy's Rainbow Six Siege X",
         "https://static-cdn.jtvnw.net/ttv-boxart/460630-{width}x{height}.jpg",
         "7360",
         "2025-06-13T19:09:01.504925"
        ],
        [
         "55453844",
         "Street Fighter 6",
         "https://static-cdn.jtvnw.net/ttv-boxart/55453844_IGDB-{width}x{height}.jpg",
         "191692",
         "2025-06-13T19:09:01.504925"
        ],
        [
         "512710",
         "Call of Duty: Warzone",
         "https://static-cdn.jtvnw.net/ttv-boxart/512710-{width}x{height}.jpg",
         "131800",
         "2025-06-13T19:09:01.504925"
        ],
        [
         "32399",
         "Counter-Strike",
         "https://static-cdn.jtvnw.net/ttv-boxart/32399-{width}x{height}.jpg",
         "",
         "2025-06-13T19:19:22.344326"
        ],
        [
         "516575",
         "VALORANT",
         "https://static-cdn.jtvnw.net/ttv-boxart/516575-{width}x{height}.jpg",
         "126459",
         "2025-06-13T19:19:22.344326"
        ],
        [
         "32982",
         "Grand Theft Auto V",
         "https://static-cdn.jtvnw.net/ttv-boxart/32982_IGDB-{width}x{height}.jpg",
         "1020",
         "2025-06-13T19:19:22.344326"
        ],
        [
         "29307",
         "Path of Exile",
         "https://static-cdn.jtvnw.net/ttv-boxart/29307_IGDB-{width}x{height}.jpg",
         "1911",
         "2025-06-13T19:19:22.344326"
        ],
        [
         "27471",
         "Minecraft",
         "https://static-cdn.jtvnw.net/ttv-boxart/27471_IGDB-{width}x{height}.jpg",
         "135400",
         "2025-06-13T19:19:22.344326"
        ],
        [
         "21779",
         "League of Legends",
         "https://static-cdn.jtvnw.net/ttv-boxart/21779-{width}x{height}.jpg",
         "115",
         "2025-06-13T19:19:22.344326"
        ],
        [
         "481086259",
         "The Alters",
         "https://static-cdn.jtvnw.net/ttv-boxart/481086259_IGDB-{width}x{height}.jpg",
         "204634",
         "2025-06-13T19:19:22.344326"
        ],
        [
         "33214",
         "Fortnite",
         "https://static-cdn.jtvnw.net/ttv-boxart/33214-{width}x{height}.jpg",
         "1905",
         "2025-06-13T19:19:22.344326"
        ],
        [
         "29595",
         "Dota 2",
         "https://static-cdn.jtvnw.net/ttv-boxart/29595-{width}x{height}.jpg",
         "",
         "2025-06-13T19:19:22.344326"
        ],
        [
         "602694215",
         "Five Nights at Freddy's: Secret of the Mimic",
         "https://static-cdn.jtvnw.net/ttv-boxart/602694215_IGDB-{width}x{height}.jpg",
         "312859",
         "2025-06-13T19:19:22.344326"
        ],
        [
         "2011938005",
         "EA Sports FC 25",
         "https://static-cdn.jtvnw.net/ttv-boxart/2011938005_IGDB-{width}x{height}.jpg",
         "308698",
         "2025-06-13T19:19:22.344326"
        ],
        [
         "460630",
         "Tom Clancy's Rainbow Six Siege X",
         "https://static-cdn.jtvnw.net/ttv-boxart/460630-{width}x{height}.jpg",
         "7360",
         "2025-06-13T19:19:22.344326"
        ],
        [
         "1987896617",
         "Dune: Awakening",
         "https://static-cdn.jtvnw.net/ttv-boxart/1987896617_IGDB-{width}x{height}.jpg",
         "214394",
         "2025-06-13T19:19:22.344326"
        ],
        [
         "30921",
         "Rocket League",
         "https://static-cdn.jtvnw.net/ttv-boxart/30921-{width}x{height}.jpg",
         "11198",
         "2025-06-13T19:19:22.344326"
        ],
        [
         "512710",
         "Call of Duty: Warzone",
         "https://static-cdn.jtvnw.net/ttv-boxart/512710-{width}x{height}.jpg",
         "131800",
         "2025-06-13T19:19:22.344326"
        ],
        [
         "1826300051",
         "Mario Kart World",
         "https://static-cdn.jtvnw.net/ttv-boxart/1826300051_IGDB-{width}x{height}.jpg",
         "338067",
         "2025-06-13T19:19:22.344326"
        ],
        [
         "32399",
         "Counter-Strike",
         "https://static-cdn.jtvnw.net/ttv-boxart/32399-{width}x{height}.jpg",
         "",
         "2025-06-13T19:49:37.629913"
        ],
        [
         "516575",
         "VALORANT",
         "https://static-cdn.jtvnw.net/ttv-boxart/516575-{width}x{height}.jpg",
         "126459",
         "2025-06-13T19:49:37.629913"
        ],
        [
         "29307",
         "Path of Exile",
         "https://static-cdn.jtvnw.net/ttv-boxart/29307_IGDB-{width}x{height}.jpg",
         "1911",
         "2025-06-13T19:49:37.629913"
        ],
        [
         "32982",
         "Grand Theft Auto V",
         "https://static-cdn.jtvnw.net/ttv-boxart/32982_IGDB-{width}x{height}.jpg",
         "1020",
         "2025-06-13T19:49:37.629913"
        ],
        [
         "27471",
         "Minecraft",
         "https://static-cdn.jtvnw.net/ttv-boxart/27471_IGDB-{width}x{height}.jpg",
         "135400",
         "2025-06-13T19:49:37.629913"
        ],
        [
         "21779",
         "League of Legends",
         "https://static-cdn.jtvnw.net/ttv-boxart/21779-{width}x{height}.jpg",
         "115",
         "2025-06-13T19:49:37.629913"
        ],
        [
         "481086259",
         "The Alters",
         "https://static-cdn.jtvnw.net/ttv-boxart/481086259_IGDB-{width}x{height}.jpg",
         "204634",
         "2025-06-13T19:49:37.629913"
        ],
        [
         "602694215",
         "Five Nights at Freddy's: Secret of the Mimic",
         "https://static-cdn.jtvnw.net/ttv-boxart/602694215_IGDB-{width}x{height}.jpg",
         "312859",
         "2025-06-13T19:49:37.629913"
        ],
        [
         "33214",
         "Fortnite",
         "https://static-cdn.jtvnw.net/ttv-boxart/33214-{width}x{height}.jpg",
         "1905",
         "2025-06-13T19:49:37.629913"
        ],
        [
         "460630",
         "Tom Clancy's Rainbow Six Siege X",
         "https://static-cdn.jtvnw.net/ttv-boxart/460630-{width}x{height}.jpg",
         "7360",
         "2025-06-13T19:49:37.629913"
        ],
        [
         "512710",
         "Call of Duty: Warzone",
         "https://static-cdn.jtvnw.net/ttv-boxart/512710-{width}x{height}.jpg",
         "131800",
         "2025-06-13T19:49:37.629913"
        ],
        [
         "2011938005",
         "EA Sports FC 25",
         "https://static-cdn.jtvnw.net/ttv-boxart/2011938005_IGDB-{width}x{height}.jpg",
         "308698",
         "2025-06-13T19:49:37.629913"
        ],
        [
         "29595",
         "Dota 2",
         "https://static-cdn.jtvnw.net/ttv-boxart/29595-{width}x{height}.jpg",
         "",
         "2025-06-13T19:49:37.629913"
        ],
        [
         "1987896617",
         "Dune: Awakening",
         "https://static-cdn.jtvnw.net/ttv-boxart/1987896617_IGDB-{width}x{height}.jpg",
         "214394",
         "2025-06-13T19:49:37.629913"
        ],
        [
         "1826300051",
         "Mario Kart World",
         "https://static-cdn.jtvnw.net/ttv-boxart/1826300051_IGDB-{width}x{height}.jpg",
         "338067",
         "2025-06-13T19:49:37.629913"
        ],
        [
         "55453844",
         "Street Fighter 6",
         "https://static-cdn.jtvnw.net/ttv-boxart/55453844_IGDB-{width}x{height}.jpg",
         "191692",
         "2025-06-13T19:49:37.629913"
        ],
        [
         "32399",
         "Counter-Strike",
         "https://static-cdn.jtvnw.net/ttv-boxart/32399-{width}x{height}.jpg",
         "",
         "2025-06-13T19:48:35.710788"
        ],
        [
         "516575",
         "VALORANT",
         "https://static-cdn.jtvnw.net/ttv-boxart/516575-{width}x{height}.jpg",
         "126459",
         "2025-06-13T19:48:35.710788"
        ],
        [
         "29307",
         "Path of Exile",
         "https://static-cdn.jtvnw.net/ttv-boxart/29307_IGDB-{width}x{height}.jpg",
         "1911",
         "2025-06-13T19:48:35.710788"
        ],
        [
         "32982",
         "Grand Theft Auto V",
         "https://static-cdn.jtvnw.net/ttv-boxart/32982_IGDB-{width}x{height}.jpg",
         "1020",
         "2025-06-13T19:48:35.710788"
        ],
        [
         "27471",
         "Minecraft",
         "https://static-cdn.jtvnw.net/ttv-boxart/27471_IGDB-{width}x{height}.jpg",
         "135400",
         "2025-06-13T19:48:35.710788"
        ],
        [
         "21779",
         "League of Legends",
         "https://static-cdn.jtvnw.net/ttv-boxart/21779-{width}x{height}.jpg",
         "115",
         "2025-06-13T19:48:35.710788"
        ],
        [
         "481086259",
         "The Alters",
         "https://static-cdn.jtvnw.net/ttv-boxart/481086259_IGDB-{width}x{height}.jpg",
         "204634",
         "2025-06-13T19:48:35.710788"
        ],
        [
         "602694215",
         "Five Nights at Freddy's: Secret of the Mimic",
         "https://static-cdn.jtvnw.net/ttv-boxart/602694215_IGDB-{width}x{height}.jpg",
         "312859",
         "2025-06-13T19:48:35.710788"
        ],
        [
         "33214",
         "Fortnite",
         "https://static-cdn.jtvnw.net/ttv-boxart/33214-{width}x{height}.jpg",
         "1905",
         "2025-06-13T19:48:35.710788"
        ],
        [
         "460630",
         "Tom Clancy's Rainbow Six Siege X",
         "https://static-cdn.jtvnw.net/ttv-boxart/460630-{width}x{height}.jpg",
         "7360",
         "2025-06-13T19:48:35.710788"
        ],
        [
         "512710",
         "Call of Duty: Warzone",
         "https://static-cdn.jtvnw.net/ttv-boxart/512710-{width}x{height}.jpg",
         "131800",
         "2025-06-13T19:48:35.710788"
        ],
        [
         "2011938005",
         "EA Sports FC 25",
         "https://static-cdn.jtvnw.net/ttv-boxart/2011938005_IGDB-{width}x{height}.jpg",
         "308698",
         "2025-06-13T19:48:35.710788"
        ],
        [
         "29595",
         "Dota 2",
         "https://static-cdn.jtvnw.net/ttv-boxart/29595-{width}x{height}.jpg",
         "",
         "2025-06-13T19:48:35.710788"
        ],
        [
         "1987896617",
         "Dune: Awakening",
         "https://static-cdn.jtvnw.net/ttv-boxart/1987896617_IGDB-{width}x{height}.jpg",
         "214394",
         "2025-06-13T19:48:35.710788"
        ],
        [
         "1826300051",
         "Mario Kart World",
         "https://static-cdn.jtvnw.net/ttv-boxart/1826300051_IGDB-{width}x{height}.jpg",
         "338067",
         "2025-06-13T19:48:35.710788"
        ],
        [
         "55453844",
         "Street Fighter 6",
         "https://static-cdn.jtvnw.net/ttv-boxart/55453844_IGDB-{width}x{height}.jpg",
         "191692",
         "2025-06-13T19:48:35.710788"
        ],
        [
         "32399",
         "Counter-Strike",
         "https://static-cdn.jtvnw.net/ttv-boxart/32399-{width}x{height}.jpg",
         "",
         "2025-06-13T19:46:32.036934"
        ],
        [
         "516575",
         "VALORANT",
         "https://static-cdn.jtvnw.net/ttv-boxart/516575-{width}x{height}.jpg",
         "126459",
         "2025-06-13T19:46:32.036934"
        ],
        [
         "29307",
         "Path of Exile",
         "https://static-cdn.jtvnw.net/ttv-boxart/29307_IGDB-{width}x{height}.jpg",
         "1911",
         "2025-06-13T19:46:32.036934"
        ],
        [
         "32982",
         "Grand Theft Auto V",
         "https://static-cdn.jtvnw.net/ttv-boxart/32982_IGDB-{width}x{height}.jpg",
         "1020",
         "2025-06-13T19:46:32.036934"
        ],
        [
         "27471",
         "Minecraft",
         "https://static-cdn.jtvnw.net/ttv-boxart/27471_IGDB-{width}x{height}.jpg",
         "135400",
         "2025-06-13T19:46:32.036934"
        ],
        [
         "21779",
         "League of Legends",
         "https://static-cdn.jtvnw.net/ttv-boxart/21779-{width}x{height}.jpg",
         "115",
         "2025-06-13T19:46:32.036934"
        ],
        [
         "481086259",
         "The Alters",
         "https://static-cdn.jtvnw.net/ttv-boxart/481086259_IGDB-{width}x{height}.jpg",
         "204634",
         "2025-06-13T19:46:32.036934"
        ],
        [
         "602694215",
         "Five Nights at Freddy's: Secret of the Mimic",
         "https://static-cdn.jtvnw.net/ttv-boxart/602694215_IGDB-{width}x{height}.jpg",
         "312859",
         "2025-06-13T19:46:32.036934"
        ],
        [
         "33214",
         "Fortnite",
         "https://static-cdn.jtvnw.net/ttv-boxart/33214-{width}x{height}.jpg",
         "1905",
         "2025-06-13T19:46:32.036934"
        ],
        [
         "460630",
         "Tom Clancy's Rainbow Six Siege X",
         "https://static-cdn.jtvnw.net/ttv-boxart/460630-{width}x{height}.jpg",
         "7360",
         "2025-06-13T19:46:32.036934"
        ],
        [
         "512710",
         "Call of Duty: Warzone",
         "https://static-cdn.jtvnw.net/ttv-boxart/512710-{width}x{height}.jpg",
         "131800",
         "2025-06-13T19:46:32.036934"
        ],
        [
         "2011938005",
         "EA Sports FC 25",
         "https://static-cdn.jtvnw.net/ttv-boxart/2011938005_IGDB-{width}x{height}.jpg",
         "308698",
         "2025-06-13T19:46:32.036934"
        ],
        [
         "29595",
         "Dota 2",
         "https://static-cdn.jtvnw.net/ttv-boxart/29595-{width}x{height}.jpg",
         "",
         "2025-06-13T19:46:32.036934"
        ],
        [
         "1987896617",
         "Dune: Awakening",
         "https://static-cdn.jtvnw.net/ttv-boxart/1987896617_IGDB-{width}x{height}.jpg",
         "214394",
         "2025-06-13T19:46:32.036934"
        ],
        [
         "1826300051",
         "Mario Kart World",
         "https://static-cdn.jtvnw.net/ttv-boxart/1826300051_IGDB-{width}x{height}.jpg",
         "338067",
         "2025-06-13T19:46:32.036934"
        ],
        [
         "55453844",
         "Street Fighter 6",
         "https://static-cdn.jtvnw.net/ttv-boxart/55453844_IGDB-{width}x{height}.jpg",
         "191692",
         "2025-06-13T19:46:32.036934"
        ],
        [
         "32399",
         "Counter-Strike",
         "https://static-cdn.jtvnw.net/ttv-boxart/32399-{width}x{height}.jpg",
         "",
         "2025-06-13T19:47:33.937448"
        ],
        [
         "516575",
         "VALORANT",
         "https://static-cdn.jtvnw.net/ttv-boxart/516575-{width}x{height}.jpg",
         "126459",
         "2025-06-13T19:47:33.937448"
        ],
        [
         "29307",
         "Path of Exile",
         "https://static-cdn.jtvnw.net/ttv-boxart/29307_IGDB-{width}x{height}.jpg",
         "1911",
         "2025-06-13T19:47:33.937448"
        ],
        [
         "32982",
         "Grand Theft Auto V",
         "https://static-cdn.jtvnw.net/ttv-boxart/32982_IGDB-{width}x{height}.jpg",
         "1020",
         "2025-06-13T19:47:33.937448"
        ],
        [
         "27471",
         "Minecraft",
         "https://static-cdn.jtvnw.net/ttv-boxart/27471_IGDB-{width}x{height}.jpg",
         "135400",
         "2025-06-13T19:47:33.937448"
        ],
        [
         "21779",
         "League of Legends",
         "https://static-cdn.jtvnw.net/ttv-boxart/21779-{width}x{height}.jpg",
         "115",
         "2025-06-13T19:47:33.937448"
        ],
        [
         "481086259",
         "The Alters",
         "https://static-cdn.jtvnw.net/ttv-boxart/481086259_IGDB-{width}x{height}.jpg",
         "204634",
         "2025-06-13T19:47:33.937448"
        ],
        [
         "602694215",
         "Five Nights at Freddy's: Secret of the Mimic",
         "https://static-cdn.jtvnw.net/ttv-boxart/602694215_IGDB-{width}x{height}.jpg",
         "312859",
         "2025-06-13T19:47:33.937448"
        ],
        [
         "33214",
         "Fortnite",
         "https://static-cdn.jtvnw.net/ttv-boxart/33214-{width}x{height}.jpg",
         "1905",
         "2025-06-13T19:47:33.937448"
        ],
        [
         "460630",
         "Tom Clancy's Rainbow Six Siege X",
         "https://static-cdn.jtvnw.net/ttv-boxart/460630-{width}x{height}.jpg",
         "7360",
         "2025-06-13T19:47:33.937448"
        ],
        [
         "512710",
         "Call of Duty: Warzone",
         "https://static-cdn.jtvnw.net/ttv-boxart/512710-{width}x{height}.jpg",
         "131800",
         "2025-06-13T19:47:33.937448"
        ],
        [
         "2011938005",
         "EA Sports FC 25",
         "https://static-cdn.jtvnw.net/ttv-boxart/2011938005_IGDB-{width}x{height}.jpg",
         "308698",
         "2025-06-13T19:47:33.937448"
        ],
        [
         "29595",
         "Dota 2",
         "https://static-cdn.jtvnw.net/ttv-boxart/29595-{width}x{height}.jpg",
         "",
         "2025-06-13T19:47:33.937448"
        ],
        [
         "1987896617",
         "Dune: Awakening",
         "https://static-cdn.jtvnw.net/ttv-boxart/1987896617_IGDB-{width}x{height}.jpg",
         "214394",
         "2025-06-13T19:47:33.937448"
        ],
        [
         "1826300051",
         "Mario Kart World",
         "https://static-cdn.jtvnw.net/ttv-boxart/1826300051_IGDB-{width}x{height}.jpg",
         "338067",
         "2025-06-13T19:47:33.937448"
        ],
        [
         "55453844",
         "Street Fighter 6",
         "https://static-cdn.jtvnw.net/ttv-boxart/55453844_IGDB-{width}x{height}.jpg",
         "191692",
         "2025-06-13T19:47:33.937448"
        ],
        [
         "32399",
         "Counter-Strike",
         "https://static-cdn.jtvnw.net/ttv-boxart/32399-{width}x{height}.jpg",
         "",
         "2025-06-13T19:53:46.208541"
        ],
        [
         "516575",
         "VALORANT",
         "https://static-cdn.jtvnw.net/ttv-boxart/516575-{width}x{height}.jpg",
         "126459",
         "2025-06-13T19:53:46.208541"
        ],
        [
         "29307",
         "Path of Exile",
         "https://static-cdn.jtvnw.net/ttv-boxart/29307_IGDB-{width}x{height}.jpg",
         "1911",
         "2025-06-13T19:53:46.208541"
        ],
        [
         "32982",
         "Grand Theft Auto V",
         "https://static-cdn.jtvnw.net/ttv-boxart/32982_IGDB-{width}x{height}.jpg",
         "1020",
         "2025-06-13T19:53:46.208541"
        ],
        [
         "27471",
         "Minecraft",
         "https://static-cdn.jtvnw.net/ttv-boxart/27471_IGDB-{width}x{height}.jpg",
         "135400",
         "2025-06-13T19:53:46.208541"
        ],
        [
         "21779",
         "League of Legends",
         "https://static-cdn.jtvnw.net/ttv-boxart/21779-{width}x{height}.jpg",
         "115",
         "2025-06-13T19:53:46.208541"
        ],
        [
         "481086259",
         "The Alters",
         "https://static-cdn.jtvnw.net/ttv-boxart/481086259_IGDB-{width}x{height}.jpg",
         "204634",
         "2025-06-13T19:53:46.208541"
        ],
        [
         "602694215",
         "Five Nights at Freddy's: Secret of the Mimic",
         "https://static-cdn.jtvnw.net/ttv-boxart/602694215_IGDB-{width}x{height}.jpg",
         "312859",
         "2025-06-13T19:53:46.208541"
        ],
        [
         "33214",
         "Fortnite",
         "https://static-cdn.jtvnw.net/ttv-boxart/33214-{width}x{height}.jpg",
         "1905",
         "2025-06-13T19:53:46.208541"
        ],
        [
         "460630",
         "Tom Clancy's Rainbow Six Siege X",
         "https://static-cdn.jtvnw.net/ttv-boxart/460630-{width}x{height}.jpg",
         "7360",
         "2025-06-13T19:53:46.208541"
        ],
        [
         "512710",
         "Call of Duty: Warzone",
         "https://static-cdn.jtvnw.net/ttv-boxart/512710-{width}x{height}.jpg",
         "131800",
         "2025-06-13T19:53:46.208541"
        ],
        [
         "2011938005",
         "EA Sports FC 25",
         "https://static-cdn.jtvnw.net/ttv-boxart/2011938005_IGDB-{width}x{height}.jpg",
         "308698",
         "2025-06-13T19:53:46.208541"
        ],
        [
         "29595",
         "Dota 2",
         "https://static-cdn.jtvnw.net/ttv-boxart/29595-{width}x{height}.jpg",
         "",
         "2025-06-13T19:53:46.208541"
        ],
        [
         "1987896617",
         "Dune: Awakening",
         "https://static-cdn.jtvnw.net/ttv-boxart/1987896617_IGDB-{width}x{height}.jpg",
         "214394",
         "2025-06-13T19:53:46.208541"
        ],
        [
         "1826300051",
         "Mario Kart World",
         "https://static-cdn.jtvnw.net/ttv-boxart/1826300051_IGDB-{width}x{height}.jpg",
         "338067",
         "2025-06-13T19:53:46.208541"
        ],
        [
         "55453844",
         "Street Fighter 6",
         "https://static-cdn.jtvnw.net/ttv-boxart/55453844_IGDB-{width}x{height}.jpg",
         "191692",
         "2025-06-13T19:53:46.208541"
        ],
        [
         "32399",
         "Counter-Strike",
         "https://static-cdn.jtvnw.net/ttv-boxart/32399-{width}x{height}.jpg",
         "",
         "2025-06-13T19:52:44.155056"
        ],
        [
         "516575",
         "VALORANT",
         "https://static-cdn.jtvnw.net/ttv-boxart/516575-{width}x{height}.jpg",
         "126459",
         "2025-06-13T19:52:44.155056"
        ],
        [
         "29307",
         "Path of Exile",
         "https://static-cdn.jtvnw.net/ttv-boxart/29307_IGDB-{width}x{height}.jpg",
         "1911",
         "2025-06-13T19:52:44.155056"
        ],
        [
         "32982",
         "Grand Theft Auto V",
         "https://static-cdn.jtvnw.net/ttv-boxart/32982_IGDB-{width}x{height}.jpg",
         "1020",
         "2025-06-13T19:52:44.155056"
        ],
        [
         "27471",
         "Minecraft",
         "https://static-cdn.jtvnw.net/ttv-boxart/27471_IGDB-{width}x{height}.jpg",
         "135400",
         "2025-06-13T19:52:44.155056"
        ],
        [
         "21779",
         "League of Legends",
         "https://static-cdn.jtvnw.net/ttv-boxart/21779-{width}x{height}.jpg",
         "115",
         "2025-06-13T19:52:44.155056"
        ],
        [
         "481086259",
         "The Alters",
         "https://static-cdn.jtvnw.net/ttv-boxart/481086259_IGDB-{width}x{height}.jpg",
         "204634",
         "2025-06-13T19:52:44.155056"
        ],
        [
         "602694215",
         "Five Nights at Freddy's: Secret of the Mimic",
         "https://static-cdn.jtvnw.net/ttv-boxart/602694215_IGDB-{width}x{height}.jpg",
         "312859",
         "2025-06-13T19:52:44.155056"
        ],
        [
         "33214",
         "Fortnite",
         "https://static-cdn.jtvnw.net/ttv-boxart/33214-{width}x{height}.jpg",
         "1905",
         "2025-06-13T19:52:44.155056"
        ],
        [
         "460630",
         "Tom Clancy's Rainbow Six Siege X",
         "https://static-cdn.jtvnw.net/ttv-boxart/460630-{width}x{height}.jpg",
         "7360",
         "2025-06-13T19:52:44.155056"
        ],
        [
         "512710",
         "Call of Duty: Warzone",
         "https://static-cdn.jtvnw.net/ttv-boxart/512710-{width}x{height}.jpg",
         "131800",
         "2025-06-13T19:52:44.155056"
        ],
        [
         "2011938005",
         "EA Sports FC 25",
         "https://static-cdn.jtvnw.net/ttv-boxart/2011938005_IGDB-{width}x{height}.jpg",
         "308698",
         "2025-06-13T19:52:44.155056"
        ],
        [
         "29595",
         "Dota 2",
         "https://static-cdn.jtvnw.net/ttv-boxart/29595-{width}x{height}.jpg",
         "",
         "2025-06-13T19:52:44.155056"
        ],
        [
         "1987896617",
         "Dune: Awakening",
         "https://static-cdn.jtvnw.net/ttv-boxart/1987896617_IGDB-{width}x{height}.jpg",
         "214394",
         "2025-06-13T19:52:44.155056"
        ],
        [
         "1826300051",
         "Mario Kart World",
         "https://static-cdn.jtvnw.net/ttv-boxart/1826300051_IGDB-{width}x{height}.jpg",
         "338067",
         "2025-06-13T19:52:44.155056"
        ],
        [
         "55453844",
         "Street Fighter 6",
         "https://static-cdn.jtvnw.net/ttv-boxart/55453844_IGDB-{width}x{height}.jpg",
         "191692",
         "2025-06-13T19:52:44.155056"
        ],
        [
         "32399",
         "Counter-Strike",
         "https://static-cdn.jtvnw.net/ttv-boxart/32399-{width}x{height}.jpg",
         "",
         "2025-06-13T19:54:48.148553"
        ],
        [
         "516575",
         "VALORANT",
         "https://static-cdn.jtvnw.net/ttv-boxart/516575-{width}x{height}.jpg",
         "126459",
         "2025-06-13T19:54:48.148553"
        ],
        [
         "29307",
         "Path of Exile",
         "https://static-cdn.jtvnw.net/ttv-boxart/29307_IGDB-{width}x{height}.jpg",
         "1911",
         "2025-06-13T19:54:48.148553"
        ],
        [
         "32982",
         "Grand Theft Auto V",
         "https://static-cdn.jtvnw.net/ttv-boxart/32982_IGDB-{width}x{height}.jpg",
         "1020",
         "2025-06-13T19:54:48.148553"
        ],
        [
         "27471",
         "Minecraft",
         "https://static-cdn.jtvnw.net/ttv-boxart/27471_IGDB-{width}x{height}.jpg",
         "135400",
         "2025-06-13T19:54:48.148553"
        ],
        [
         "21779",
         "League of Legends",
         "https://static-cdn.jtvnw.net/ttv-boxart/21779-{width}x{height}.jpg",
         "115",
         "2025-06-13T19:54:48.148553"
        ],
        [
         "481086259",
         "The Alters",
         "https://static-cdn.jtvnw.net/ttv-boxart/481086259_IGDB-{width}x{height}.jpg",
         "204634",
         "2025-06-13T19:54:48.148553"
        ],
        [
         "602694215",
         "Five Nights at Freddy's: Secret of the Mimic",
         "https://static-cdn.jtvnw.net/ttv-boxart/602694215_IGDB-{width}x{height}.jpg",
         "312859",
         "2025-06-13T19:54:48.148553"
        ],
        [
         "33214",
         "Fortnite",
         "https://static-cdn.jtvnw.net/ttv-boxart/33214-{width}x{height}.jpg",
         "1905",
         "2025-06-13T19:54:48.148553"
        ],
        [
         "460630",
         "Tom Clancy's Rainbow Six Siege X",
         "https://static-cdn.jtvnw.net/ttv-boxart/460630-{width}x{height}.jpg",
         "7360",
         "2025-06-13T19:54:48.148553"
        ],
        [
         "512710",
         "Call of Duty: Warzone",
         "https://static-cdn.jtvnw.net/ttv-boxart/512710-{width}x{height}.jpg",
         "131800",
         "2025-06-13T19:54:48.148553"
        ],
        [
         "2011938005",
         "EA Sports FC 25",
         "https://static-cdn.jtvnw.net/ttv-boxart/2011938005_IGDB-{width}x{height}.jpg",
         "308698",
         "2025-06-13T19:54:48.148553"
        ],
        [
         "29595",
         "Dota 2",
         "https://static-cdn.jtvnw.net/ttv-boxart/29595-{width}x{height}.jpg",
         "",
         "2025-06-13T19:54:48.148553"
        ],
        [
         "1987896617",
         "Dune: Awakening",
         "https://static-cdn.jtvnw.net/ttv-boxart/1987896617_IGDB-{width}x{height}.jpg",
         "214394",
         "2025-06-13T19:54:48.148553"
        ],
        [
         "1826300051",
         "Mario Kart World",
         "https://static-cdn.jtvnw.net/ttv-boxart/1826300051_IGDB-{width}x{height}.jpg",
         "338067",
         "2025-06-13T19:54:48.148553"
        ],
        [
         "55453844",
         "Street Fighter 6",
         "https://static-cdn.jtvnw.net/ttv-boxart/55453844_IGDB-{width}x{height}.jpg",
         "191692",
         "2025-06-13T19:54:48.148553"
        ],
        [
         "32399",
         "Counter-Strike",
         "https://static-cdn.jtvnw.net/ttv-boxart/32399-{width}x{height}.jpg",
         "",
         "2025-06-13T19:55:50.210307"
        ],
        [
         "516575",
         "VALORANT",
         "https://static-cdn.jtvnw.net/ttv-boxart/516575-{width}x{height}.jpg",
         "126459",
         "2025-06-13T19:55:50.210307"
        ],
        [
         "29307",
         "Path of Exile",
         "https://static-cdn.jtvnw.net/ttv-boxart/29307_IGDB-{width}x{height}.jpg",
         "1911",
         "2025-06-13T19:55:50.210307"
        ],
        [
         "32982",
         "Grand Theft Auto V",
         "https://static-cdn.jtvnw.net/ttv-boxart/32982_IGDB-{width}x{height}.jpg",
         "1020",
         "2025-06-13T19:55:50.210307"
        ],
        [
         "27471",
         "Minecraft",
         "https://static-cdn.jtvnw.net/ttv-boxart/27471_IGDB-{width}x{height}.jpg",
         "135400",
         "2025-06-13T19:55:50.210307"
        ],
        [
         "21779",
         "League of Legends",
         "https://static-cdn.jtvnw.net/ttv-boxart/21779-{width}x{height}.jpg",
         "115",
         "2025-06-13T19:55:50.210307"
        ],
        [
         "481086259",
         "The Alters",
         "https://static-cdn.jtvnw.net/ttv-boxart/481086259_IGDB-{width}x{height}.jpg",
         "204634",
         "2025-06-13T19:55:50.210307"
        ],
        [
         "602694215",
         "Five Nights at Freddy's: Secret of the Mimic",
         "https://static-cdn.jtvnw.net/ttv-boxart/602694215_IGDB-{width}x{height}.jpg",
         "312859",
         "2025-06-13T19:55:50.210307"
        ],
        [
         "33214",
         "Fortnite",
         "https://static-cdn.jtvnw.net/ttv-boxart/33214-{width}x{height}.jpg",
         "1905",
         "2025-06-13T19:55:50.210307"
        ],
        [
         "460630",
         "Tom Clancy's Rainbow Six Siege X",
         "https://static-cdn.jtvnw.net/ttv-boxart/460630-{width}x{height}.jpg",
         "7360",
         "2025-06-13T19:55:50.210307"
        ],
        [
         "512710",
         "Call of Duty: Warzone",
         "https://static-cdn.jtvnw.net/ttv-boxart/512710-{width}x{height}.jpg",
         "131800",
         "2025-06-13T19:55:50.210307"
        ],
        [
         "2011938005",
         "EA Sports FC 25",
         "https://static-cdn.jtvnw.net/ttv-boxart/2011938005_IGDB-{width}x{height}.jpg",
         "308698",
         "2025-06-13T19:55:50.210307"
        ],
        [
         "29595",
         "Dota 2",
         "https://static-cdn.jtvnw.net/ttv-boxart/29595-{width}x{height}.jpg",
         "",
         "2025-06-13T19:55:50.210307"
        ],
        [
         "1987896617",
         "Dune: Awakening",
         "https://static-cdn.jtvnw.net/ttv-boxart/1987896617_IGDB-{width}x{height}.jpg",
         "214394",
         "2025-06-13T19:55:50.210307"
        ],
        [
         "1826300051",
         "Mario Kart World",
         "https://static-cdn.jtvnw.net/ttv-boxart/1826300051_IGDB-{width}x{height}.jpg",
         "338067",
         "2025-06-13T19:55:50.210307"
        ],
        [
         "55453844",
         "Street Fighter 6",
         "https://static-cdn.jtvnw.net/ttv-boxart/55453844_IGDB-{width}x{height}.jpg",
         "191692",
         "2025-06-13T19:55:50.210307"
        ],
        [
         "32399",
         "Counter-Strike",
         "https://static-cdn.jtvnw.net/ttv-boxart/32399-{width}x{height}.jpg",
         "",
         "2025-06-13T19:51:42.032113"
        ],
        [
         "516575",
         "VALORANT",
         "https://static-cdn.jtvnw.net/ttv-boxart/516575-{width}x{height}.jpg",
         "126459",
         "2025-06-13T19:51:42.032113"
        ],
        [
         "29307",
         "Path of Exile",
         "https://static-cdn.jtvnw.net/ttv-boxart/29307_IGDB-{width}x{height}.jpg",
         "1911",
         "2025-06-13T19:51:42.032113"
        ],
        [
         "32982",
         "Grand Theft Auto V",
         "https://static-cdn.jtvnw.net/ttv-boxart/32982_IGDB-{width}x{height}.jpg",
         "1020",
         "2025-06-13T19:51:42.032113"
        ],
        [
         "27471",
         "Minecraft",
         "https://static-cdn.jtvnw.net/ttv-boxart/27471_IGDB-{width}x{height}.jpg",
         "135400",
         "2025-06-13T19:51:42.032113"
        ],
        [
         "21779",
         "League of Legends",
         "https://static-cdn.jtvnw.net/ttv-boxart/21779-{width}x{height}.jpg",
         "115",
         "2025-06-13T19:51:42.032113"
        ],
        [
         "481086259",
         "The Alters",
         "https://static-cdn.jtvnw.net/ttv-boxart/481086259_IGDB-{width}x{height}.jpg",
         "204634",
         "2025-06-13T19:51:42.032113"
        ],
        [
         "602694215",
         "Five Nights at Freddy's: Secret of the Mimic",
         "https://static-cdn.jtvnw.net/ttv-boxart/602694215_IGDB-{width}x{height}.jpg",
         "312859",
         "2025-06-13T19:51:42.032113"
        ],
        [
         "33214",
         "Fortnite",
         "https://static-cdn.jtvnw.net/ttv-boxart/33214-{width}x{height}.jpg",
         "1905",
         "2025-06-13T19:51:42.032113"
        ],
        [
         "460630",
         "Tom Clancy's Rainbow Six Siege X",
         "https://static-cdn.jtvnw.net/ttv-boxart/460630-{width}x{height}.jpg",
         "7360",
         "2025-06-13T19:51:42.032113"
        ],
        [
         "512710",
         "Call of Duty: Warzone",
         "https://static-cdn.jtvnw.net/ttv-boxart/512710-{width}x{height}.jpg",
         "131800",
         "2025-06-13T19:51:42.032113"
        ],
        [
         "2011938005",
         "EA Sports FC 25",
         "https://static-cdn.jtvnw.net/ttv-boxart/2011938005_IGDB-{width}x{height}.jpg",
         "308698",
         "2025-06-13T19:51:42.032113"
        ],
        [
         "29595",
         "Dota 2",
         "https://static-cdn.jtvnw.net/ttv-boxart/29595-{width}x{height}.jpg",
         "",
         "2025-06-13T19:51:42.032113"
        ],
        [
         "1987896617",
         "Dune: Awakening",
         "https://static-cdn.jtvnw.net/ttv-boxart/1987896617_IGDB-{width}x{height}.jpg",
         "214394",
         "2025-06-13T19:51:42.032113"
        ],
        [
         "1826300051",
         "Mario Kart World",
         "https://static-cdn.jtvnw.net/ttv-boxart/1826300051_IGDB-{width}x{height}.jpg",
         "338067",
         "2025-06-13T19:51:42.032113"
        ],
        [
         "55453844",
         "Street Fighter 6",
         "https://static-cdn.jtvnw.net/ttv-boxart/55453844_IGDB-{width}x{height}.jpg",
         "191692",
         "2025-06-13T19:51:42.032113"
        ],
        [
         "32399",
         "Counter-Strike",
         "https://static-cdn.jtvnw.net/ttv-boxart/32399-{width}x{height}.jpg",
         "",
         "2025-06-13T19:56:52.710886"
        ],
        [
         "516575",
         "VALORANT",
         "https://static-cdn.jtvnw.net/ttv-boxart/516575-{width}x{height}.jpg",
         "126459",
         "2025-06-13T19:56:52.710886"
        ],
        [
         "29307",
         "Path of Exile",
         "https://static-cdn.jtvnw.net/ttv-boxart/29307_IGDB-{width}x{height}.jpg",
         "1911",
         "2025-06-13T19:56:52.710886"
        ],
        [
         "32982",
         "Grand Theft Auto V",
         "https://static-cdn.jtvnw.net/ttv-boxart/32982_IGDB-{width}x{height}.jpg",
         "1020",
         "2025-06-13T19:56:52.710886"
        ],
        [
         "27471",
         "Minecraft",
         "https://static-cdn.jtvnw.net/ttv-boxart/27471_IGDB-{width}x{height}.jpg",
         "135400",
         "2025-06-13T19:56:52.710886"
        ],
        [
         "21779",
         "League of Legends",
         "https://static-cdn.jtvnw.net/ttv-boxart/21779-{width}x{height}.jpg",
         "115",
         "2025-06-13T19:56:52.710886"
        ],
        [
         "481086259",
         "The Alters",
         "https://static-cdn.jtvnw.net/ttv-boxart/481086259_IGDB-{width}x{height}.jpg",
         "204634",
         "2025-06-13T19:56:52.710886"
        ],
        [
         "602694215",
         "Five Nights at Freddy's: Secret of the Mimic",
         "https://static-cdn.jtvnw.net/ttv-boxart/602694215_IGDB-{width}x{height}.jpg",
         "312859",
         "2025-06-13T19:56:52.710886"
        ],
        [
         "33214",
         "Fortnite",
         "https://static-cdn.jtvnw.net/ttv-boxart/33214-{width}x{height}.jpg",
         "1905",
         "2025-06-13T19:56:52.710886"
        ],
        [
         "460630",
         "Tom Clancy's Rainbow Six Siege X",
         "https://static-cdn.jtvnw.net/ttv-boxart/460630-{width}x{height}.jpg",
         "7360",
         "2025-06-13T19:56:52.710886"
        ],
        [
         "512710",
         "Call of Duty: Warzone",
         "https://static-cdn.jtvnw.net/ttv-boxart/512710-{width}x{height}.jpg",
         "131800",
         "2025-06-13T19:56:52.710886"
        ],
        [
         "2011938005",
         "EA Sports FC 25",
         "https://static-cdn.jtvnw.net/ttv-boxart/2011938005_IGDB-{width}x{height}.jpg",
         "308698",
         "2025-06-13T19:56:52.710886"
        ],
        [
         "29595",
         "Dota 2",
         "https://static-cdn.jtvnw.net/ttv-boxart/29595-{width}x{height}.jpg",
         "",
         "2025-06-13T19:56:52.710886"
        ],
        [
         "1987896617",
         "Dune: Awakening",
         "https://static-cdn.jtvnw.net/ttv-boxart/1987896617_IGDB-{width}x{height}.jpg",
         "214394",
         "2025-06-13T19:56:52.710886"
        ],
        [
         "1826300051",
         "Mario Kart World",
         "https://static-cdn.jtvnw.net/ttv-boxart/1826300051_IGDB-{width}x{height}.jpg",
         "338067",
         "2025-06-13T19:56:52.710886"
        ],
        [
         "55453844",
         "Street Fighter 6",
         "https://static-cdn.jtvnw.net/ttv-boxart/55453844_IGDB-{width}x{height}.jpg",
         "191692",
         "2025-06-13T19:56:52.710886"
        ],
        [
         "32399",
         "Counter-Strike",
         "https://static-cdn.jtvnw.net/ttv-boxart/32399-{width}x{height}.jpg",
         "",
         "2025-06-13T19:57:54.590642"
        ],
        [
         "516575",
         "VALORANT",
         "https://static-cdn.jtvnw.net/ttv-boxart/516575-{width}x{height}.jpg",
         "126459",
         "2025-06-13T19:57:54.590642"
        ],
        [
         "29307",
         "Path of Exile",
         "https://static-cdn.jtvnw.net/ttv-boxart/29307_IGDB-{width}x{height}.jpg",
         "1911",
         "2025-06-13T19:57:54.590642"
        ],
        [
         "32982",
         "Grand Theft Auto V",
         "https://static-cdn.jtvnw.net/ttv-boxart/32982_IGDB-{width}x{height}.jpg",
         "1020",
         "2025-06-13T19:57:54.590642"
        ],
        [
         "27471",
         "Minecraft",
         "https://static-cdn.jtvnw.net/ttv-boxart/27471_IGDB-{width}x{height}.jpg",
         "135400",
         "2025-06-13T19:57:54.590642"
        ],
        [
         "21779",
         "League of Legends",
         "https://static-cdn.jtvnw.net/ttv-boxart/21779-{width}x{height}.jpg",
         "115",
         "2025-06-13T19:57:54.590642"
        ],
        [
         "481086259",
         "The Alters",
         "https://static-cdn.jtvnw.net/ttv-boxart/481086259_IGDB-{width}x{height}.jpg",
         "204634",
         "2025-06-13T19:57:54.590642"
        ],
        [
         "602694215",
         "Five Nights at Freddy's: Secret of the Mimic",
         "https://static-cdn.jtvnw.net/ttv-boxart/602694215_IGDB-{width}x{height}.jpg",
         "312859",
         "2025-06-13T19:57:54.590642"
        ],
        [
         "33214",
         "Fortnite",
         "https://static-cdn.jtvnw.net/ttv-boxart/33214-{width}x{height}.jpg",
         "1905",
         "2025-06-13T19:57:54.590642"
        ],
        [
         "460630",
         "Tom Clancy's Rainbow Six Siege X",
         "https://static-cdn.jtvnw.net/ttv-boxart/460630-{width}x{height}.jpg",
         "7360",
         "2025-06-13T19:57:54.590642"
        ],
        [
         "512710",
         "Call of Duty: Warzone",
         "https://static-cdn.jtvnw.net/ttv-boxart/512710-{width}x{height}.jpg",
         "131800",
         "2025-06-13T19:57:54.590642"
        ],
        [
         "2011938005",
         "EA Sports FC 25",
         "https://static-cdn.jtvnw.net/ttv-boxart/2011938005_IGDB-{width}x{height}.jpg",
         "308698",
         "2025-06-13T19:57:54.590642"
        ],
        [
         "29595",
         "Dota 2",
         "https://static-cdn.jtvnw.net/ttv-boxart/29595-{width}x{height}.jpg",
         "",
         "2025-06-13T19:57:54.590642"
        ],
        [
         "1987896617",
         "Dune: Awakening",
         "https://static-cdn.jtvnw.net/ttv-boxart/1987896617_IGDB-{width}x{height}.jpg",
         "214394",
         "2025-06-13T19:57:54.590642"
        ],
        [
         "1826300051",
         "Mario Kart World",
         "https://static-cdn.jtvnw.net/ttv-boxart/1826300051_IGDB-{width}x{height}.jpg",
         "338067",
         "2025-06-13T19:57:54.590642"
        ],
        [
         "55453844",
         "Street Fighter 6",
         "https://static-cdn.jtvnw.net/ttv-boxart/55453844_IGDB-{width}x{height}.jpg",
         "191692",
         "2025-06-13T19:57:54.590642"
        ],
        [
         "32399",
         "Counter-Strike",
         "https://static-cdn.jtvnw.net/ttv-boxart/32399-{width}x{height}.jpg",
         "",
         "2025-06-13T19:42:20.977030"
        ],
        [
         "516575",
         "VALORANT",
         "https://static-cdn.jtvnw.net/ttv-boxart/516575-{width}x{height}.jpg",
         "126459",
         "2025-06-13T19:42:20.977030"
        ],
        [
         "32982",
         "Grand Theft Auto V",
         "https://static-cdn.jtvnw.net/ttv-boxart/32982_IGDB-{width}x{height}.jpg",
         "1020",
         "2025-06-13T19:42:20.977030"
        ],
        [
         "29307",
         "Path of Exile",
         "https://static-cdn.jtvnw.net/ttv-boxart/29307_IGDB-{width}x{height}.jpg",
         "1911",
         "2025-06-13T19:42:20.977030"
        ],
        [
         "27471",
         "Minecraft",
         "https://static-cdn.jtvnw.net/ttv-boxart/27471_IGDB-{width}x{height}.jpg",
         "135400",
         "2025-06-13T19:42:20.977030"
        ],
        [
         "21779",
         "League of Legends",
         "https://static-cdn.jtvnw.net/ttv-boxart/21779-{width}x{height}.jpg",
         "115",
         "2025-06-13T19:42:20.977030"
        ],
        [
         "481086259",
         "The Alters",
         "https://static-cdn.jtvnw.net/ttv-boxart/481086259_IGDB-{width}x{height}.jpg",
         "204634",
         "2025-06-13T19:42:20.977030"
        ],
        [
         "602694215",
         "Five Nights at Freddy's: Secret of the Mimic",
         "https://static-cdn.jtvnw.net/ttv-boxart/602694215_IGDB-{width}x{height}.jpg",
         "312859",
         "2025-06-13T19:42:20.977030"
        ],
        [
         "33214",
         "Fortnite",
         "https://static-cdn.jtvnw.net/ttv-boxart/33214-{width}x{height}.jpg",
         "1905",
         "2025-06-13T19:42:20.977030"
        ],
        [
         "460630",
         "Tom Clancy's Rainbow Six Siege X",
         "https://static-cdn.jtvnw.net/ttv-boxart/460630-{width}x{height}.jpg",
         "7360",
         "2025-06-13T19:42:20.977030"
        ],
        [
         "512710",
         "Call of Duty: Warzone",
         "https://static-cdn.jtvnw.net/ttv-boxart/512710-{width}x{height}.jpg",
         "131800",
         "2025-06-13T19:42:20.977030"
        ],
        [
         "2011938005",
         "EA Sports FC 25",
         "https://static-cdn.jtvnw.net/ttv-boxart/2011938005_IGDB-{width}x{height}.jpg",
         "308698",
         "2025-06-13T19:42:20.977030"
        ],
        [
         "29595",
         "Dota 2",
         "https://static-cdn.jtvnw.net/ttv-boxart/29595-{width}x{height}.jpg",
         "",
         "2025-06-13T19:42:20.977030"
        ],
        [
         "1987896617",
         "Dune: Awakening",
         "https://static-cdn.jtvnw.net/ttv-boxart/1987896617_IGDB-{width}x{height}.jpg",
         "214394",
         "2025-06-13T19:42:20.977030"
        ],
        [
         "1826300051",
         "Mario Kart World",
         "https://static-cdn.jtvnw.net/ttv-boxart/1826300051_IGDB-{width}x{height}.jpg",
         "338067",
         "2025-06-13T19:42:20.977030"
        ],
        [
         "55453844",
         "Street Fighter 6",
         "https://static-cdn.jtvnw.net/ttv-boxart/55453844_IGDB-{width}x{height}.jpg",
         "191692",
         "2025-06-13T19:42:20.977030"
        ],
        [
         "32399",
         "Counter-Strike",
         "https://static-cdn.jtvnw.net/ttv-boxart/32399-{width}x{height}.jpg",
         "",
         "2025-06-13T19:43:23.035965"
        ],
        [
         "516575",
         "VALORANT",
         "https://static-cdn.jtvnw.net/ttv-boxart/516575-{width}x{height}.jpg",
         "126459",
         "2025-06-13T19:43:23.035965"
        ],
        [
         "32982",
         "Grand Theft Auto V",
         "https://static-cdn.jtvnw.net/ttv-boxart/32982_IGDB-{width}x{height}.jpg",
         "1020",
         "2025-06-13T19:43:23.035965"
        ],
        [
         "29307",
         "Path of Exile",
         "https://static-cdn.jtvnw.net/ttv-boxart/29307_IGDB-{width}x{height}.jpg",
         "1911",
         "2025-06-13T19:43:23.035965"
        ],
        [
         "27471",
         "Minecraft",
         "https://static-cdn.jtvnw.net/ttv-boxart/27471_IGDB-{width}x{height}.jpg",
         "135400",
         "2025-06-13T19:43:23.035965"
        ],
        [
         "21779",
         "League of Legends",
         "https://static-cdn.jtvnw.net/ttv-boxart/21779-{width}x{height}.jpg",
         "115",
         "2025-06-13T19:43:23.035965"
        ],
        [
         "481086259",
         "The Alters",
         "https://static-cdn.jtvnw.net/ttv-boxart/481086259_IGDB-{width}x{height}.jpg",
         "204634",
         "2025-06-13T19:43:23.035965"
        ],
        [
         "602694215",
         "Five Nights at Freddy's: Secret of the Mimic",
         "https://static-cdn.jtvnw.net/ttv-boxart/602694215_IGDB-{width}x{height}.jpg",
         "312859",
         "2025-06-13T19:43:23.035965"
        ],
        [
         "33214",
         "Fortnite",
         "https://static-cdn.jtvnw.net/ttv-boxart/33214-{width}x{height}.jpg",
         "1905",
         "2025-06-13T19:43:23.035965"
        ],
        [
         "460630",
         "Tom Clancy's Rainbow Six Siege X",
         "https://static-cdn.jtvnw.net/ttv-boxart/460630-{width}x{height}.jpg",
         "7360",
         "2025-06-13T19:43:23.035965"
        ],
        [
         "512710",
         "Call of Duty: Warzone",
         "https://static-cdn.jtvnw.net/ttv-boxart/512710-{width}x{height}.jpg",
         "131800",
         "2025-06-13T19:43:23.035965"
        ],
        [
         "2011938005",
         "EA Sports FC 25",
         "https://static-cdn.jtvnw.net/ttv-boxart/2011938005_IGDB-{width}x{height}.jpg",
         "308698",
         "2025-06-13T19:43:23.035965"
        ],
        [
         "29595",
         "Dota 2",
         "https://static-cdn.jtvnw.net/ttv-boxart/29595-{width}x{height}.jpg",
         "",
         "2025-06-13T19:43:23.035965"
        ],
        [
         "1987896617",
         "Dune: Awakening",
         "https://static-cdn.jtvnw.net/ttv-boxart/1987896617_IGDB-{width}x{height}.jpg",
         "214394",
         "2025-06-13T19:43:23.035965"
        ],
        [
         "1826300051",
         "Mario Kart World",
         "https://static-cdn.jtvnw.net/ttv-boxart/1826300051_IGDB-{width}x{height}.jpg",
         "338067",
         "2025-06-13T19:43:23.035965"
        ],
        [
         "55453844",
         "Street Fighter 6",
         "https://static-cdn.jtvnw.net/ttv-boxart/55453844_IGDB-{width}x{height}.jpg",
         "191692",
         "2025-06-13T19:43:23.035965"
        ],
        [
         "32399",
         "Counter-Strike",
         "https://static-cdn.jtvnw.net/ttv-boxart/32399-{width}x{height}.jpg",
         "",
         "2025-06-13T19:44:28.004809"
        ],
        [
         "516575",
         "VALORANT",
         "https://static-cdn.jtvnw.net/ttv-boxart/516575-{width}x{height}.jpg",
         "126459",
         "2025-06-13T19:44:28.004809"
        ],
        [
         "32982",
         "Grand Theft Auto V",
         "https://static-cdn.jtvnw.net/ttv-boxart/32982_IGDB-{width}x{height}.jpg",
         "1020",
         "2025-06-13T19:44:28.004809"
        ],
        [
         "29307",
         "Path of Exile",
         "https://static-cdn.jtvnw.net/ttv-boxart/29307_IGDB-{width}x{height}.jpg",
         "1911",
         "2025-06-13T19:44:28.004809"
        ],
        [
         "27471",
         "Minecraft",
         "https://static-cdn.jtvnw.net/ttv-boxart/27471_IGDB-{width}x{height}.jpg",
         "135400",
         "2025-06-13T19:44:28.004809"
        ],
        [
         "21779",
         "League of Legends",
         "https://static-cdn.jtvnw.net/ttv-boxart/21779-{width}x{height}.jpg",
         "115",
         "2025-06-13T19:44:28.004809"
        ],
        [
         "481086259",
         "The Alters",
         "https://static-cdn.jtvnw.net/ttv-boxart/481086259_IGDB-{width}x{height}.jpg",
         "204634",
         "2025-06-13T19:44:28.004809"
        ],
        [
         "602694215",
         "Five Nights at Freddy's: Secret of the Mimic",
         "https://static-cdn.jtvnw.net/ttv-boxart/602694215_IGDB-{width}x{height}.jpg",
         "312859",
         "2025-06-13T19:44:28.004809"
        ],
        [
         "33214",
         "Fortnite",
         "https://static-cdn.jtvnw.net/ttv-boxart/33214-{width}x{height}.jpg",
         "1905",
         "2025-06-13T19:44:28.004809"
        ],
        [
         "460630",
         "Tom Clancy's Rainbow Six Siege X",
         "https://static-cdn.jtvnw.net/ttv-boxart/460630-{width}x{height}.jpg",
         "7360",
         "2025-06-13T19:44:28.004809"
        ],
        [
         "512710",
         "Call of Duty: Warzone",
         "https://static-cdn.jtvnw.net/ttv-boxart/512710-{width}x{height}.jpg",
         "131800",
         "2025-06-13T19:44:28.004809"
        ],
        [
         "2011938005",
         "EA Sports FC 25",
         "https://static-cdn.jtvnw.net/ttv-boxart/2011938005_IGDB-{width}x{height}.jpg",
         "308698",
         "2025-06-13T19:44:28.004809"
        ],
        [
         "29595",
         "Dota 2",
         "https://static-cdn.jtvnw.net/ttv-boxart/29595-{width}x{height}.jpg",
         "",
         "2025-06-13T19:44:28.004809"
        ],
        [
         "1987896617",
         "Dune: Awakening",
         "https://static-cdn.jtvnw.net/ttv-boxart/1987896617_IGDB-{width}x{height}.jpg",
         "214394",
         "2025-06-13T19:44:28.004809"
        ],
        [
         "1826300051",
         "Mario Kart World",
         "https://static-cdn.jtvnw.net/ttv-boxart/1826300051_IGDB-{width}x{height}.jpg",
         "338067",
         "2025-06-13T19:44:28.004809"
        ],
        [
         "55453844",
         "Street Fighter 6",
         "https://static-cdn.jtvnw.net/ttv-boxart/55453844_IGDB-{width}x{height}.jpg",
         "191692",
         "2025-06-13T19:44:28.004809"
        ],
        [
         "32399",
         "Counter-Strike",
         "https://static-cdn.jtvnw.net/ttv-boxart/32399-{width}x{height}.jpg",
         "",
         "2025-06-13T19:50:39.954141"
        ],
        [
         "516575",
         "VALORANT",
         "https://static-cdn.jtvnw.net/ttv-boxart/516575-{width}x{height}.jpg",
         "126459",
         "2025-06-13T19:50:39.954141"
        ],
        [
         "29307",
         "Path of Exile",
         "https://static-cdn.jtvnw.net/ttv-boxart/29307_IGDB-{width}x{height}.jpg",
         "1911",
         "2025-06-13T19:50:39.954141"
        ],
        [
         "32982",
         "Grand Theft Auto V",
         "https://static-cdn.jtvnw.net/ttv-boxart/32982_IGDB-{width}x{height}.jpg",
         "1020",
         "2025-06-13T19:50:39.954141"
        ],
        [
         "27471",
         "Minecraft",
         "https://static-cdn.jtvnw.net/ttv-boxart/27471_IGDB-{width}x{height}.jpg",
         "135400",
         "2025-06-13T19:50:39.954141"
        ],
        [
         "21779",
         "League of Legends",
         "https://static-cdn.jtvnw.net/ttv-boxart/21779-{width}x{height}.jpg",
         "115",
         "2025-06-13T19:50:39.954141"
        ],
        [
         "481086259",
         "The Alters",
         "https://static-cdn.jtvnw.net/ttv-boxart/481086259_IGDB-{width}x{height}.jpg",
         "204634",
         "2025-06-13T19:50:39.954141"
        ],
        [
         "602694215",
         "Five Nights at Freddy's: Secret of the Mimic",
         "https://static-cdn.jtvnw.net/ttv-boxart/602694215_IGDB-{width}x{height}.jpg",
         "312859",
         "2025-06-13T19:50:39.954141"
        ],
        [
         "33214",
         "Fortnite",
         "https://static-cdn.jtvnw.net/ttv-boxart/33214-{width}x{height}.jpg",
         "1905",
         "2025-06-13T19:50:39.954141"
        ],
        [
         "460630",
         "Tom Clancy's Rainbow Six Siege X",
         "https://static-cdn.jtvnw.net/ttv-boxart/460630-{width}x{height}.jpg",
         "7360",
         "2025-06-13T19:50:39.954141"
        ],
        [
         "512710",
         "Call of Duty: Warzone",
         "https://static-cdn.jtvnw.net/ttv-boxart/512710-{width}x{height}.jpg",
         "131800",
         "2025-06-13T19:50:39.954141"
        ],
        [
         "2011938005",
         "EA Sports FC 25",
         "https://static-cdn.jtvnw.net/ttv-boxart/2011938005_IGDB-{width}x{height}.jpg",
         "308698",
         "2025-06-13T19:50:39.954141"
        ],
        [
         "29595",
         "Dota 2",
         "https://static-cdn.jtvnw.net/ttv-boxart/29595-{width}x{height}.jpg",
         "",
         "2025-06-13T19:50:39.954141"
        ],
        [
         "1987896617",
         "Dune: Awakening",
         "https://static-cdn.jtvnw.net/ttv-boxart/1987896617_IGDB-{width}x{height}.jpg",
         "214394",
         "2025-06-13T19:50:39.954141"
        ],
        [
         "1826300051",
         "Mario Kart World",
         "https://static-cdn.jtvnw.net/ttv-boxart/1826300051_IGDB-{width}x{height}.jpg",
         "338067",
         "2025-06-13T19:50:39.954141"
        ],
        [
         "55453844",
         "Street Fighter 6",
         "https://static-cdn.jtvnw.net/ttv-boxart/55453844_IGDB-{width}x{height}.jpg",
         "191692",
         "2025-06-13T19:50:39.954141"
        ],
        [
         "32399",
         "Counter-Strike",
         "https://static-cdn.jtvnw.net/ttv-boxart/32399-{width}x{height}.jpg",
         "",
         "2025-06-13T19:11:05.562609"
        ],
        [
         "516575",
         "VALORANT",
         "https://static-cdn.jtvnw.net/ttv-boxart/516575-{width}x{height}.jpg",
         "126459",
         "2025-06-13T19:11:05.562609"
        ],
        [
         "32982",
         "Grand Theft Auto V",
         "https://static-cdn.jtvnw.net/ttv-boxart/32982_IGDB-{width}x{height}.jpg",
         "1020",
         "2025-06-13T19:11:05.562609"
        ],
        [
         "29307",
         "Path of Exile",
         "https://static-cdn.jtvnw.net/ttv-boxart/29307_IGDB-{width}x{height}.jpg",
         "1911",
         "2025-06-13T19:11:05.562609"
        ],
        [
         "21779",
         "League of Legends",
         "https://static-cdn.jtvnw.net/ttv-boxart/21779-{width}x{height}.jpg",
         "115",
         "2025-06-13T19:11:05.562609"
        ],
        [
         "27471",
         "Minecraft",
         "https://static-cdn.jtvnw.net/ttv-boxart/27471_IGDB-{width}x{height}.jpg",
         "135400",
         "2025-06-13T19:11:05.562609"
        ],
        [
         "481086259",
         "The Alters",
         "https://static-cdn.jtvnw.net/ttv-boxart/481086259_IGDB-{width}x{height}.jpg",
         "204634",
         "2025-06-13T19:11:05.562609"
        ],
        [
         "33214",
         "Fortnite",
         "https://static-cdn.jtvnw.net/ttv-boxart/33214-{width}x{height}.jpg",
         "1905",
         "2025-06-13T19:11:05.562609"
        ],
        [
         "29595",
         "Dota 2",
         "https://static-cdn.jtvnw.net/ttv-boxart/29595-{width}x{height}.jpg",
         "",
         "2025-06-13T19:11:05.562609"
        ],
        [
         "602694215",
         "Five Nights at Freddy's: Secret of the Mimic",
         "https://static-cdn.jtvnw.net/ttv-boxart/602694215_IGDB-{width}x{height}.jpg",
         "312859",
         "2025-06-13T19:11:05.562609"
        ],
        [
         "2011938005",
         "EA Sports FC 25",
         "https://static-cdn.jtvnw.net/ttv-boxart/2011938005_IGDB-{width}x{height}.jpg",
         "308698",
         "2025-06-13T19:11:05.562609"
        ],
        [
         "1987896617",
         "Dune: Awakening",
         "https://static-cdn.jtvnw.net/ttv-boxart/1987896617_IGDB-{width}x{height}.jpg",
         "214394",
         "2025-06-13T19:11:05.562609"
        ],
        [
         "30921",
         "Rocket League",
         "https://static-cdn.jtvnw.net/ttv-boxart/30921-{width}x{height}.jpg",
         "11198",
         "2025-06-13T19:11:05.562609"
        ],
        [
         "460630",
         "Tom Clancy's Rainbow Six Siege X",
         "https://static-cdn.jtvnw.net/ttv-boxart/460630-{width}x{height}.jpg",
         "7360",
         "2025-06-13T19:11:05.562609"
        ],
        [
         "512710",
         "Call of Duty: Warzone",
         "https://static-cdn.jtvnw.net/ttv-boxart/512710-{width}x{height}.jpg",
         "131800",
         "2025-06-13T19:11:05.562609"
        ],
        [
         "55453844",
         "Street Fighter 6",
         "https://static-cdn.jtvnw.net/ttv-boxart/55453844_IGDB-{width}x{height}.jpg",
         "191692",
         "2025-06-13T19:11:05.562609"
        ],
        [
         "32399",
         "Counter-Strike",
         "https://static-cdn.jtvnw.net/ttv-boxart/32399-{width}x{height}.jpg",
         "",
         "2025-06-13T19:18:20.063938"
        ],
        [
         "516575",
         "VALORANT",
         "https://static-cdn.jtvnw.net/ttv-boxart/516575-{width}x{height}.jpg",
         "126459",
         "2025-06-13T19:18:20.063938"
        ],
        [
         "32982",
         "Grand Theft Auto V",
         "https://static-cdn.jtvnw.net/ttv-boxart/32982_IGDB-{width}x{height}.jpg",
         "1020",
         "2025-06-13T19:18:20.063938"
        ],
        [
         "29307",
         "Path of Exile",
         "https://static-cdn.jtvnw.net/ttv-boxart/29307_IGDB-{width}x{height}.jpg",
         "1911",
         "2025-06-13T19:18:20.063938"
        ],
        [
         "27471",
         "Minecraft",
         "https://static-cdn.jtvnw.net/ttv-boxart/27471_IGDB-{width}x{height}.jpg",
         "135400",
         "2025-06-13T19:18:20.063938"
        ],
        [
         "21779",
         "League of Legends",
         "https://static-cdn.jtvnw.net/ttv-boxart/21779-{width}x{height}.jpg",
         "115",
         "2025-06-13T19:18:20.063938"
        ],
        [
         "481086259",
         "The Alters",
         "https://static-cdn.jtvnw.net/ttv-boxart/481086259_IGDB-{width}x{height}.jpg",
         "204634",
         "2025-06-13T19:18:20.063938"
        ],
        [
         "29595",
         "Dota 2",
         "https://static-cdn.jtvnw.net/ttv-boxart/29595-{width}x{height}.jpg",
         "",
         "2025-06-13T19:18:20.063938"
        ],
        [
         "33214",
         "Fortnite",
         "https://static-cdn.jtvnw.net/ttv-boxart/33214-{width}x{height}.jpg",
         "1905",
         "2025-06-13T19:18:20.063938"
        ],
        [
         "602694215",
         "Five Nights at Freddy's: Secret of the Mimic",
         "https://static-cdn.jtvnw.net/ttv-boxart/602694215_IGDB-{width}x{height}.jpg",
         "312859",
         "2025-06-13T19:18:20.063938"
        ],
        [
         "2011938005",
         "EA Sports FC 25",
         "https://static-cdn.jtvnw.net/ttv-boxart/2011938005_IGDB-{width}x{height}.jpg",
         "308698",
         "2025-06-13T19:18:20.063938"
        ],
        [
         "460630",
         "Tom Clancy's Rainbow Six Siege X",
         "https://static-cdn.jtvnw.net/ttv-boxart/460630-{width}x{height}.jpg",
         "7360",
         "2025-06-13T19:18:20.063938"
        ],
        [
         "1987896617",
         "Dune: Awakening",
         "https://static-cdn.jtvnw.net/ttv-boxart/1987896617_IGDB-{width}x{height}.jpg",
         "214394",
         "2025-06-13T19:18:20.063938"
        ],
        [
         "30921",
         "Rocket League",
         "https://static-cdn.jtvnw.net/ttv-boxart/30921-{width}x{height}.jpg",
         "11198",
         "2025-06-13T19:18:20.063938"
        ],
        [
         "512710",
         "Call of Duty: Warzone",
         "https://static-cdn.jtvnw.net/ttv-boxart/512710-{width}x{height}.jpg",
         "131800",
         "2025-06-13T19:18:20.063938"
        ],
        [
         "55453844",
         "Street Fighter 6",
         "https://static-cdn.jtvnw.net/ttv-boxart/55453844_IGDB-{width}x{height}.jpg",
         "191692",
         "2025-06-13T19:18:20.063938"
        ],
        [
         "32399",
         "Counter-Strike",
         "https://static-cdn.jtvnw.net/ttv-boxart/32399-{width}x{height}.jpg",
         "",
         "2025-06-13T19:12:07.642565"
        ],
        [
         "516575",
         "VALORANT",
         "https://static-cdn.jtvnw.net/ttv-boxart/516575-{width}x{height}.jpg",
         "126459",
         "2025-06-13T19:12:07.642565"
        ],
        [
         "32982",
         "Grand Theft Auto V",
         "https://static-cdn.jtvnw.net/ttv-boxart/32982_IGDB-{width}x{height}.jpg",
         "1020",
         "2025-06-13T19:12:07.642565"
        ],
        [
         "29307",
         "Path of Exile",
         "https://static-cdn.jtvnw.net/ttv-boxart/29307_IGDB-{width}x{height}.jpg",
         "1911",
         "2025-06-13T19:12:07.642565"
        ],
        [
         "21779",
         "League of Legends",
         "https://static-cdn.jtvnw.net/ttv-boxart/21779-{width}x{height}.jpg",
         "115",
         "2025-06-13T19:12:07.642565"
        ],
        [
         "27471",
         "Minecraft",
         "https://static-cdn.jtvnw.net/ttv-boxart/27471_IGDB-{width}x{height}.jpg",
         "135400",
         "2025-06-13T19:12:07.642565"
        ],
        [
         "481086259",
         "The Alters",
         "https://static-cdn.jtvnw.net/ttv-boxart/481086259_IGDB-{width}x{height}.jpg",
         "204634",
         "2025-06-13T19:12:07.642565"
        ],
        [
         "33214",
         "Fortnite",
         "https://static-cdn.jtvnw.net/ttv-boxart/33214-{width}x{height}.jpg",
         "1905",
         "2025-06-13T19:12:07.642565"
        ],
        [
         "29595",
         "Dota 2",
         "https://static-cdn.jtvnw.net/ttv-boxart/29595-{width}x{height}.jpg",
         "",
         "2025-06-13T19:12:07.642565"
        ],
        [
         "602694215",
         "Five Nights at Freddy's: Secret of the Mimic",
         "https://static-cdn.jtvnw.net/ttv-boxart/602694215_IGDB-{width}x{height}.jpg",
         "312859",
         "2025-06-13T19:12:07.642565"
        ],
        [
         "2011938005",
         "EA Sports FC 25",
         "https://static-cdn.jtvnw.net/ttv-boxart/2011938005_IGDB-{width}x{height}.jpg",
         "308698",
         "2025-06-13T19:12:07.642565"
        ],
        [
         "1987896617",
         "Dune: Awakening",
         "https://static-cdn.jtvnw.net/ttv-boxart/1987896617_IGDB-{width}x{height}.jpg",
         "214394",
         "2025-06-13T19:12:07.642565"
        ],
        [
         "30921",
         "Rocket League",
         "https://static-cdn.jtvnw.net/ttv-boxart/30921-{width}x{height}.jpg",
         "11198",
         "2025-06-13T19:12:07.642565"
        ],
        [
         "460630",
         "Tom Clancy's Rainbow Six Siege X",
         "https://static-cdn.jtvnw.net/ttv-boxart/460630-{width}x{height}.jpg",
         "7360",
         "2025-06-13T19:12:07.642565"
        ],
        [
         "512710",
         "Call of Duty: Warzone",
         "https://static-cdn.jtvnw.net/ttv-boxart/512710-{width}x{height}.jpg",
         "131800",
         "2025-06-13T19:12:07.642565"
        ],
        [
         "55453844",
         "Street Fighter 6",
         "https://static-cdn.jtvnw.net/ttv-boxart/55453844_IGDB-{width}x{height}.jpg",
         "191692",
         "2025-06-13T19:12:07.642565"
        ],
        [
         "32399",
         "Counter-Strike",
         "https://static-cdn.jtvnw.net/ttv-boxart/32399-{width}x{height}.jpg",
         "",
         "2025-06-13T19:10:03.633400"
        ],
        [
         "516575",
         "VALORANT",
         "https://static-cdn.jtvnw.net/ttv-boxart/516575-{width}x{height}.jpg",
         "126459",
         "2025-06-13T19:10:03.633400"
        ],
        [
         "32982",
         "Grand Theft Auto V",
         "https://static-cdn.jtvnw.net/ttv-boxart/32982_IGDB-{width}x{height}.jpg",
         "1020",
         "2025-06-13T19:10:03.633400"
        ],
        [
         "29307",
         "Path of Exile",
         "https://static-cdn.jtvnw.net/ttv-boxart/29307_IGDB-{width}x{height}.jpg",
         "1911",
         "2025-06-13T19:10:03.633400"
        ],
        [
         "21779",
         "League of Legends",
         "https://static-cdn.jtvnw.net/ttv-boxart/21779-{width}x{height}.jpg",
         "115",
         "2025-06-13T19:10:03.633400"
        ],
        [
         "27471",
         "Minecraft",
         "https://static-cdn.jtvnw.net/ttv-boxart/27471_IGDB-{width}x{height}.jpg",
         "135400",
         "2025-06-13T19:10:03.633400"
        ],
        [
         "481086259",
         "The Alters",
         "https://static-cdn.jtvnw.net/ttv-boxart/481086259_IGDB-{width}x{height}.jpg",
         "204634",
         "2025-06-13T19:10:03.633400"
        ],
        [
         "33214",
         "Fortnite",
         "https://static-cdn.jtvnw.net/ttv-boxart/33214-{width}x{height}.jpg",
         "1905",
         "2025-06-13T19:10:03.633400"
        ],
        [
         "29595",
         "Dota 2",
         "https://static-cdn.jtvnw.net/ttv-boxart/29595-{width}x{height}.jpg",
         "",
         "2025-06-13T19:10:03.633400"
        ],
        [
         "602694215",
         "Five Nights at Freddy's: Secret of the Mimic",
         "https://static-cdn.jtvnw.net/ttv-boxart/602694215_IGDB-{width}x{height}.jpg",
         "312859",
         "2025-06-13T19:10:03.633400"
        ],
        [
         "2011938005",
         "EA Sports FC 25",
         "https://static-cdn.jtvnw.net/ttv-boxart/2011938005_IGDB-{width}x{height}.jpg",
         "308698",
         "2025-06-13T19:10:03.633400"
        ],
        [
         "1987896617",
         "Dune: Awakening",
         "https://static-cdn.jtvnw.net/ttv-boxart/1987896617_IGDB-{width}x{height}.jpg",
         "214394",
         "2025-06-13T19:10:03.633400"
        ],
        [
         "30921",
         "Rocket League",
         "https://static-cdn.jtvnw.net/ttv-boxart/30921-{width}x{height}.jpg",
         "11198",
         "2025-06-13T19:10:03.633400"
        ],
        [
         "460630",
         "Tom Clancy's Rainbow Six Siege X",
         "https://static-cdn.jtvnw.net/ttv-boxart/460630-{width}x{height}.jpg",
         "7360",
         "2025-06-13T19:10:03.633400"
        ],
        [
         "512710",
         "Call of Duty: Warzone",
         "https://static-cdn.jtvnw.net/ttv-boxart/512710-{width}x{height}.jpg",
         "131800",
         "2025-06-13T19:10:03.633400"
        ],
        [
         "55453844",
         "Street Fighter 6",
         "https://static-cdn.jtvnw.net/ttv-boxart/55453844_IGDB-{width}x{height}.jpg",
         "191692",
         "2025-06-13T19:10:03.633400"
        ],
        [
         "32399",
         "Counter-Strike",
         "https://static-cdn.jtvnw.net/ttv-boxart/32399-{width}x{height}.jpg",
         "",
         "2025-06-13T19:16:16.174212"
        ],
        [
         "516575",
         "VALORANT",
         "https://static-cdn.jtvnw.net/ttv-boxart/516575-{width}x{height}.jpg",
         "126459",
         "2025-06-13T19:16:16.174212"
        ],
        [
         "32982",
         "Grand Theft Auto V",
         "https://static-cdn.jtvnw.net/ttv-boxart/32982_IGDB-{width}x{height}.jpg",
         "1020",
         "2025-06-13T19:16:16.174212"
        ],
        [
         "29307",
         "Path of Exile",
         "https://static-cdn.jtvnw.net/ttv-boxart/29307_IGDB-{width}x{height}.jpg",
         "1911",
         "2025-06-13T19:16:16.174212"
        ],
        [
         "27471",
         "Minecraft",
         "https://static-cdn.jtvnw.net/ttv-boxart/27471_IGDB-{width}x{height}.jpg",
         "135400",
         "2025-06-13T19:16:16.174212"
        ],
        [
         "21779",
         "League of Legends",
         "https://static-cdn.jtvnw.net/ttv-boxart/21779-{width}x{height}.jpg",
         "115",
         "2025-06-13T19:16:16.174212"
        ],
        [
         "481086259",
         "The Alters",
         "https://static-cdn.jtvnw.net/ttv-boxart/481086259_IGDB-{width}x{height}.jpg",
         "204634",
         "2025-06-13T19:16:16.174212"
        ],
        [
         "33214",
         "Fortnite",
         "https://static-cdn.jtvnw.net/ttv-boxart/33214-{width}x{height}.jpg",
         "1905",
         "2025-06-13T19:16:16.174212"
        ],
        [
         "29595",
         "Dota 2",
         "https://static-cdn.jtvnw.net/ttv-boxart/29595-{width}x{height}.jpg",
         "",
         "2025-06-13T19:16:16.174212"
        ],
        [
         "602694215",
         "Five Nights at Freddy's: Secret of the Mimic",
         "https://static-cdn.jtvnw.net/ttv-boxart/602694215_IGDB-{width}x{height}.jpg",
         "312859",
         "2025-06-13T19:16:16.174212"
        ],
        [
         "460630",
         "Tom Clancy's Rainbow Six Siege X",
         "https://static-cdn.jtvnw.net/ttv-boxart/460630-{width}x{height}.jpg",
         "7360",
         "2025-06-13T19:16:16.174212"
        ],
        [
         "2011938005",
         "EA Sports FC 25",
         "https://static-cdn.jtvnw.net/ttv-boxart/2011938005_IGDB-{width}x{height}.jpg",
         "308698",
         "2025-06-13T19:16:16.174212"
        ],
        [
         "1987896617",
         "Dune: Awakening",
         "https://static-cdn.jtvnw.net/ttv-boxart/1987896617_IGDB-{width}x{height}.jpg",
         "214394",
         "2025-06-13T19:16:16.174212"
        ],
        [
         "30921",
         "Rocket League",
         "https://static-cdn.jtvnw.net/ttv-boxart/30921-{width}x{height}.jpg",
         "11198",
         "2025-06-13T19:16:16.174212"
        ],
        [
         "512710",
         "Call of Duty: Warzone",
         "https://static-cdn.jtvnw.net/ttv-boxart/512710-{width}x{height}.jpg",
         "131800",
         "2025-06-13T19:16:16.174212"
        ],
        [
         "55453844",
         "Street Fighter 6",
         "https://static-cdn.jtvnw.net/ttv-boxart/55453844_IGDB-{width}x{height}.jpg",
         "191692",
         "2025-06-13T19:16:16.174212"
        ],
        [
         "32399",
         "Counter-Strike",
         "https://static-cdn.jtvnw.net/ttv-boxart/32399-{width}x{height}.jpg",
         "",
         "2025-06-13T19:15:14.167861"
        ],
        [
         "516575",
         "VALORANT",
         "https://static-cdn.jtvnw.net/ttv-boxart/516575-{width}x{height}.jpg",
         "126459",
         "2025-06-13T19:15:14.167861"
        ],
        [
         "32982",
         "Grand Theft Auto V",
         "https://static-cdn.jtvnw.net/ttv-boxart/32982_IGDB-{width}x{height}.jpg",
         "1020",
         "2025-06-13T19:15:14.167861"
        ],
        [
         "29307",
         "Path of Exile",
         "https://static-cdn.jtvnw.net/ttv-boxart/29307_IGDB-{width}x{height}.jpg",
         "1911",
         "2025-06-13T19:15:14.167861"
        ],
        [
         "21779",
         "League of Legends",
         "https://static-cdn.jtvnw.net/ttv-boxart/21779-{width}x{height}.jpg",
         "115",
         "2025-06-13T19:15:14.167861"
        ],
        [
         "27471",
         "Minecraft",
         "https://static-cdn.jtvnw.net/ttv-boxart/27471_IGDB-{width}x{height}.jpg",
         "135400",
         "2025-06-13T19:15:14.167861"
        ],
        [
         "481086259",
         "The Alters",
         "https://static-cdn.jtvnw.net/ttv-boxart/481086259_IGDB-{width}x{height}.jpg",
         "204634",
         "2025-06-13T19:15:14.167861"
        ],
        [
         "33214",
         "Fortnite",
         "https://static-cdn.jtvnw.net/ttv-boxart/33214-{width}x{height}.jpg",
         "1905",
         "2025-06-13T19:15:14.167861"
        ],
        [
         "29595",
         "Dota 2",
         "https://static-cdn.jtvnw.net/ttv-boxart/29595-{width}x{height}.jpg",
         "",
         "2025-06-13T19:15:14.167861"
        ],
        [
         "602694215",
         "Five Nights at Freddy's: Secret of the Mimic",
         "https://static-cdn.jtvnw.net/ttv-boxart/602694215_IGDB-{width}x{height}.jpg",
         "312859",
         "2025-06-13T19:15:14.167861"
        ],
        [
         "2011938005",
         "EA Sports FC 25",
         "https://static-cdn.jtvnw.net/ttv-boxart/2011938005_IGDB-{width}x{height}.jpg",
         "308698",
         "2025-06-13T19:15:14.167861"
        ],
        [
         "1987896617",
         "Dune: Awakening",
         "https://static-cdn.jtvnw.net/ttv-boxart/1987896617_IGDB-{width}x{height}.jpg",
         "214394",
         "2025-06-13T19:15:14.167861"
        ],
        [
         "460630",
         "Tom Clancy's Rainbow Six Siege X",
         "https://static-cdn.jtvnw.net/ttv-boxart/460630-{width}x{height}.jpg",
         "7360",
         "2025-06-13T19:15:14.167861"
        ],
        [
         "30921",
         "Rocket League",
         "https://static-cdn.jtvnw.net/ttv-boxart/30921-{width}x{height}.jpg",
         "11198",
         "2025-06-13T19:15:14.167861"
        ],
        [
         "512710",
         "Call of Duty: Warzone",
         "https://static-cdn.jtvnw.net/ttv-boxart/512710-{width}x{height}.jpg",
         "131800",
         "2025-06-13T19:15:14.167861"
        ],
        [
         "55453844",
         "Street Fighter 6",
         "https://static-cdn.jtvnw.net/ttv-boxart/55453844_IGDB-{width}x{height}.jpg",
         "191692",
         "2025-06-13T19:15:14.167861"
        ],
        [
         "32399",
         "Counter-Strike",
         "https://static-cdn.jtvnw.net/ttv-boxart/32399-{width}x{height}.jpg",
         "",
         "2025-06-13T19:13:10.125460"
        ],
        [
         "516575",
         "VALORANT",
         "https://static-cdn.jtvnw.net/ttv-boxart/516575-{width}x{height}.jpg",
         "126459",
         "2025-06-13T19:13:10.125460"
        ],
        [
         "32982",
         "Grand Theft Auto V",
         "https://static-cdn.jtvnw.net/ttv-boxart/32982_IGDB-{width}x{height}.jpg",
         "1020",
         "2025-06-13T19:13:10.125460"
        ],
        [
         "29307",
         "Path of Exile",
         "https://static-cdn.jtvnw.net/ttv-boxart/29307_IGDB-{width}x{height}.jpg",
         "1911",
         "2025-06-13T19:13:10.125460"
        ],
        [
         "21779",
         "League of Legends",
         "https://static-cdn.jtvnw.net/ttv-boxart/21779-{width}x{height}.jpg",
         "115",
         "2025-06-13T19:13:10.125460"
        ],
        [
         "27471",
         "Minecraft",
         "https://static-cdn.jtvnw.net/ttv-boxart/27471_IGDB-{width}x{height}.jpg",
         "135400",
         "2025-06-13T19:13:10.125460"
        ],
        [
         "481086259",
         "The Alters",
         "https://static-cdn.jtvnw.net/ttv-boxart/481086259_IGDB-{width}x{height}.jpg",
         "204634",
         "2025-06-13T19:13:10.125460"
        ],
        [
         "33214",
         "Fortnite",
         "https://static-cdn.jtvnw.net/ttv-boxart/33214-{width}x{height}.jpg",
         "1905",
         "2025-06-13T19:13:10.125460"
        ],
        [
         "29595",
         "Dota 2",
         "https://static-cdn.jtvnw.net/ttv-boxart/29595-{width}x{height}.jpg",
         "",
         "2025-06-13T19:13:10.125460"
        ],
        [
         "602694215",
         "Five Nights at Freddy's: Secret of the Mimic",
         "https://static-cdn.jtvnw.net/ttv-boxart/602694215_IGDB-{width}x{height}.jpg",
         "312859",
         "2025-06-13T19:13:10.125460"
        ],
        [
         "2011938005",
         "EA Sports FC 25",
         "https://static-cdn.jtvnw.net/ttv-boxart/2011938005_IGDB-{width}x{height}.jpg",
         "308698",
         "2025-06-13T19:13:10.125460"
        ],
        [
         "1987896617",
         "Dune: Awakening",
         "https://static-cdn.jtvnw.net/ttv-boxart/1987896617_IGDB-{width}x{height}.jpg",
         "214394",
         "2025-06-13T19:13:10.125460"
        ],
        [
         "460630",
         "Tom Clancy's Rainbow Six Siege X",
         "https://static-cdn.jtvnw.net/ttv-boxart/460630-{width}x{height}.jpg",
         "7360",
         "2025-06-13T19:13:10.125460"
        ],
        [
         "30921",
         "Rocket League",
         "https://static-cdn.jtvnw.net/ttv-boxart/30921-{width}x{height}.jpg",
         "11198",
         "2025-06-13T19:13:10.125460"
        ],
        [
         "512710",
         "Call of Duty: Warzone",
         "https://static-cdn.jtvnw.net/ttv-boxart/512710-{width}x{height}.jpg",
         "131800",
         "2025-06-13T19:13:10.125460"
        ],
        [
         "55453844",
         "Street Fighter 6",
         "https://static-cdn.jtvnw.net/ttv-boxart/55453844_IGDB-{width}x{height}.jpg",
         "191692",
         "2025-06-13T19:13:10.125460"
        ],
        [
         "32399",
         "Counter-Strike",
         "https://static-cdn.jtvnw.net/ttv-boxart/32399-{width}x{height}.jpg",
         "",
         "2025-06-13T19:14:12.130911"
        ],
        [
         "516575",
         "VALORANT",
         "https://static-cdn.jtvnw.net/ttv-boxart/516575-{width}x{height}.jpg",
         "126459",
         "2025-06-13T19:14:12.130911"
        ],
        [
         "32982",
         "Grand Theft Auto V",
         "https://static-cdn.jtvnw.net/ttv-boxart/32982_IGDB-{width}x{height}.jpg",
         "1020",
         "2025-06-13T19:14:12.130911"
        ],
        [
         "29307",
         "Path of Exile",
         "https://static-cdn.jtvnw.net/ttv-boxart/29307_IGDB-{width}x{height}.jpg",
         "1911",
         "2025-06-13T19:14:12.130911"
        ],
        [
         "21779",
         "League of Legends",
         "https://static-cdn.jtvnw.net/ttv-boxart/21779-{width}x{height}.jpg",
         "115",
         "2025-06-13T19:14:12.130911"
        ],
        [
         "27471",
         "Minecraft",
         "https://static-cdn.jtvnw.net/ttv-boxart/27471_IGDB-{width}x{height}.jpg",
         "135400",
         "2025-06-13T19:14:12.130911"
        ],
        [
         "481086259",
         "The Alters",
         "https://static-cdn.jtvnw.net/ttv-boxart/481086259_IGDB-{width}x{height}.jpg",
         "204634",
         "2025-06-13T19:14:12.130911"
        ],
        [
         "33214",
         "Fortnite",
         "https://static-cdn.jtvnw.net/ttv-boxart/33214-{width}x{height}.jpg",
         "1905",
         "2025-06-13T19:14:12.130911"
        ],
        [
         "29595",
         "Dota 2",
         "https://static-cdn.jtvnw.net/ttv-boxart/29595-{width}x{height}.jpg",
         "",
         "2025-06-13T19:14:12.130911"
        ],
        [
         "602694215",
         "Five Nights at Freddy's: Secret of the Mimic",
         "https://static-cdn.jtvnw.net/ttv-boxart/602694215_IGDB-{width}x{height}.jpg",
         "312859",
         "2025-06-13T19:14:12.130911"
        ],
        [
         "2011938005",
         "EA Sports FC 25",
         "https://static-cdn.jtvnw.net/ttv-boxart/2011938005_IGDB-{width}x{height}.jpg",
         "308698",
         "2025-06-13T19:14:12.130911"
        ],
        [
         "1987896617",
         "Dune: Awakening",
         "https://static-cdn.jtvnw.net/ttv-boxart/1987896617_IGDB-{width}x{height}.jpg",
         "214394",
         "2025-06-13T19:14:12.130911"
        ],
        [
         "460630",
         "Tom Clancy's Rainbow Six Siege X",
         "https://static-cdn.jtvnw.net/ttv-boxart/460630-{width}x{height}.jpg",
         "7360",
         "2025-06-13T19:14:12.130911"
        ],
        [
         "30921",
         "Rocket League",
         "https://static-cdn.jtvnw.net/ttv-boxart/30921-{width}x{height}.jpg",
         "11198",
         "2025-06-13T19:14:12.130911"
        ],
        [
         "512710",
         "Call of Duty: Warzone",
         "https://static-cdn.jtvnw.net/ttv-boxart/512710-{width}x{height}.jpg",
         "131800",
         "2025-06-13T19:14:12.130911"
        ],
        [
         "55453844",
         "Street Fighter 6",
         "https://static-cdn.jtvnw.net/ttv-boxart/55453844_IGDB-{width}x{height}.jpg",
         "191692",
         "2025-06-13T19:14:12.130911"
        ],
        [
         "32399",
         "Counter-Strike",
         "https://static-cdn.jtvnw.net/ttv-boxart/32399-{width}x{height}.jpg",
         "",
         "2025-06-13T19:22:37.822933"
        ],
        [
         "516575",
         "VALORANT",
         "https://static-cdn.jtvnw.net/ttv-boxart/516575-{width}x{height}.jpg",
         "126459",
         "2025-06-13T19:22:37.822933"
        ],
        [
         "32982",
         "Grand Theft Auto V",
         "https://static-cdn.jtvnw.net/ttv-boxart/32982_IGDB-{width}x{height}.jpg",
         "1020",
         "2025-06-13T19:22:37.822933"
        ],
        [
         "29307",
         "Path of Exile",
         "https://static-cdn.jtvnw.net/ttv-boxart/29307_IGDB-{width}x{height}.jpg",
         "1911",
         "2025-06-13T19:22:37.822933"
        ],
        [
         "21779",
         "League of Legends",
         "https://static-cdn.jtvnw.net/ttv-boxart/21779-{width}x{height}.jpg",
         "115",
         "2025-06-13T19:22:37.822933"
        ],
        [
         "27471",
         "Minecraft",
         "https://static-cdn.jtvnw.net/ttv-boxart/27471_IGDB-{width}x{height}.jpg",
         "135400",
         "2025-06-13T19:22:37.822933"
        ],
        [
         "481086259",
         "The Alters",
         "https://static-cdn.jtvnw.net/ttv-boxart/481086259_IGDB-{width}x{height}.jpg",
         "204634",
         "2025-06-13T19:22:37.822933"
        ],
        [
         "33214",
         "Fortnite",
         "https://static-cdn.jtvnw.net/ttv-boxart/33214-{width}x{height}.jpg",
         "1905",
         "2025-06-13T19:22:37.822933"
        ],
        [
         "602694215",
         "Five Nights at Freddy's: Secret of the Mimic",
         "https://static-cdn.jtvnw.net/ttv-boxart/602694215_IGDB-{width}x{height}.jpg",
         "312859",
         "2025-06-13T19:22:37.822933"
        ],
        [
         "29595",
         "Dota 2",
         "https://static-cdn.jtvnw.net/ttv-boxart/29595-{width}x{height}.jpg",
         "",
         "2025-06-13T19:22:37.822933"
        ],
        [
         "2011938005",
         "EA Sports FC 25",
         "https://static-cdn.jtvnw.net/ttv-boxart/2011938005_IGDB-{width}x{height}.jpg",
         "308698",
         "2025-06-13T19:22:37.822933"
        ],
        [
         "460630",
         "Tom Clancy's Rainbow Six Siege X",
         "https://static-cdn.jtvnw.net/ttv-boxart/460630-{width}x{height}.jpg",
         "7360",
         "2025-06-13T19:22:37.822933"
        ],
        [
         "30921",
         "Rocket League",
         "https://static-cdn.jtvnw.net/ttv-boxart/30921-{width}x{height}.jpg",
         "11198",
         "2025-06-13T19:22:37.822933"
        ],
        [
         "1987896617",
         "Dune: Awakening",
         "https://static-cdn.jtvnw.net/ttv-boxart/1987896617_IGDB-{width}x{height}.jpg",
         "214394",
         "2025-06-13T19:22:37.822933"
        ],
        [
         "512710",
         "Call of Duty: Warzone",
         "https://static-cdn.jtvnw.net/ttv-boxart/512710-{width}x{height}.jpg",
         "131800",
         "2025-06-13T19:22:37.822933"
        ],
        [
         "55453844",
         "Street Fighter 6",
         "https://static-cdn.jtvnw.net/ttv-boxart/55453844_IGDB-{width}x{height}.jpg",
         "191692",
         "2025-06-13T19:22:37.822933"
        ],
        [
         "32399",
         "Counter-Strike",
         "https://static-cdn.jtvnw.net/ttv-boxart/32399-{width}x{height}.jpg",
         "",
         "2025-06-13T19:25:44.623088"
        ],
        [
         "516575",
         "VALORANT",
         "https://static-cdn.jtvnw.net/ttv-boxart/516575-{width}x{height}.jpg",
         "126459",
         "2025-06-13T19:25:44.623088"
        ],
        [
         "32982",
         "Grand Theft Auto V",
         "https://static-cdn.jtvnw.net/ttv-boxart/32982_IGDB-{width}x{height}.jpg",
         "1020",
         "2025-06-13T19:25:44.623088"
        ],
        [
         "29307",
         "Path of Exile",
         "https://static-cdn.jtvnw.net/ttv-boxart/29307_IGDB-{width}x{height}.jpg",
         "1911",
         "2025-06-13T19:25:44.623088"
        ],
        [
         "27471",
         "Minecraft",
         "https://static-cdn.jtvnw.net/ttv-boxart/27471_IGDB-{width}x{height}.jpg",
         "135400",
         "2025-06-13T19:25:44.623088"
        ],
        [
         "21779",
         "League of Legends",
         "https://static-cdn.jtvnw.net/ttv-boxart/21779-{width}x{height}.jpg",
         "115",
         "2025-06-13T19:25:44.623088"
        ],
        [
         "481086259",
         "The Alters",
         "https://static-cdn.jtvnw.net/ttv-boxart/481086259_IGDB-{width}x{height}.jpg",
         "204634",
         "2025-06-13T19:25:44.623088"
        ],
        [
         "33214",
         "Fortnite",
         "https://static-cdn.jtvnw.net/ttv-boxart/33214-{width}x{height}.jpg",
         "1905",
         "2025-06-13T19:25:44.623088"
        ],
        [
         "602694215",
         "Five Nights at Freddy's: Secret of the Mimic",
         "https://static-cdn.jtvnw.net/ttv-boxart/602694215_IGDB-{width}x{height}.jpg",
         "312859",
         "2025-06-13T19:25:44.623088"
        ],
        [
         "29595",
         "Dota 2",
         "https://static-cdn.jtvnw.net/ttv-boxart/29595-{width}x{height}.jpg",
         "",
         "2025-06-13T19:25:44.623088"
        ],
        [
         "2011938005",
         "EA Sports FC 25",
         "https://static-cdn.jtvnw.net/ttv-boxart/2011938005_IGDB-{width}x{height}.jpg",
         "308698",
         "2025-06-13T19:25:44.623088"
        ],
        [
         "460630",
         "Tom Clancy's Rainbow Six Siege X",
         "https://static-cdn.jtvnw.net/ttv-boxart/460630-{width}x{height}.jpg",
         "7360",
         "2025-06-13T19:25:44.623088"
        ],
        [
         "30921",
         "Rocket League",
         "https://static-cdn.jtvnw.net/ttv-boxart/30921-{width}x{height}.jpg",
         "11198",
         "2025-06-13T19:25:44.623088"
        ],
        [
         "1987896617",
         "Dune: Awakening",
         "https://static-cdn.jtvnw.net/ttv-boxart/1987896617_IGDB-{width}x{height}.jpg",
         "214394",
         "2025-06-13T19:25:44.623088"
        ],
        [
         "512710",
         "Call of Duty: Warzone",
         "https://static-cdn.jtvnw.net/ttv-boxart/512710-{width}x{height}.jpg",
         "131800",
         "2025-06-13T19:25:44.623088"
        ],
        [
         "55453844",
         "Street Fighter 6",
         "https://static-cdn.jtvnw.net/ttv-boxart/55453844_IGDB-{width}x{height}.jpg",
         "191692",
         "2025-06-13T19:25:44.623088"
        ],
        [
         "32399",
         "Counter-Strike",
         "https://static-cdn.jtvnw.net/ttv-boxart/32399-{width}x{height}.jpg",
         "",
         "2025-06-13T19:24:42.178173"
        ],
        [
         "516575",
         "VALORANT",
         "https://static-cdn.jtvnw.net/ttv-boxart/516575-{width}x{height}.jpg",
         "126459",
         "2025-06-13T19:24:42.178173"
        ],
        [
         "32982",
         "Grand Theft Auto V",
         "https://static-cdn.jtvnw.net/ttv-boxart/32982_IGDB-{width}x{height}.jpg",
         "1020",
         "2025-06-13T19:24:42.178173"
        ],
        [
         "29307",
         "Path of Exile",
         "https://static-cdn.jtvnw.net/ttv-boxart/29307_IGDB-{width}x{height}.jpg",
         "1911",
         "2025-06-13T19:24:42.178173"
        ],
        [
         "27471",
         "Minecraft",
         "https://static-cdn.jtvnw.net/ttv-boxart/27471_IGDB-{width}x{height}.jpg",
         "135400",
         "2025-06-13T19:24:42.178173"
        ],
        [
         "21779",
         "League of Legends",
         "https://static-cdn.jtvnw.net/ttv-boxart/21779-{width}x{height}.jpg",
         "115",
         "2025-06-13T19:24:42.178173"
        ],
        [
         "481086259",
         "The Alters",
         "https://static-cdn.jtvnw.net/ttv-boxart/481086259_IGDB-{width}x{height}.jpg",
         "204634",
         "2025-06-13T19:24:42.178173"
        ],
        [
         "33214",
         "Fortnite",
         "https://static-cdn.jtvnw.net/ttv-boxart/33214-{width}x{height}.jpg",
         "1905",
         "2025-06-13T19:24:42.178173"
        ],
        [
         "602694215",
         "Five Nights at Freddy's: Secret of the Mimic",
         "https://static-cdn.jtvnw.net/ttv-boxart/602694215_IGDB-{width}x{height}.jpg",
         "312859",
         "2025-06-13T19:24:42.178173"
        ],
        [
         "29595",
         "Dota 2",
         "https://static-cdn.jtvnw.net/ttv-boxart/29595-{width}x{height}.jpg",
         "",
         "2025-06-13T19:24:42.178173"
        ],
        [
         "2011938005",
         "EA Sports FC 25",
         "https://static-cdn.jtvnw.net/ttv-boxart/2011938005_IGDB-{width}x{height}.jpg",
         "308698",
         "2025-06-13T19:24:42.178173"
        ],
        [
         "460630",
         "Tom Clancy's Rainbow Six Siege X",
         "https://static-cdn.jtvnw.net/ttv-boxart/460630-{width}x{height}.jpg",
         "7360",
         "2025-06-13T19:24:42.178173"
        ],
        [
         "30921",
         "Rocket League",
         "https://static-cdn.jtvnw.net/ttv-boxart/30921-{width}x{height}.jpg",
         "11198",
         "2025-06-13T19:24:42.178173"
        ],
        [
         "1987896617",
         "Dune: Awakening",
         "https://static-cdn.jtvnw.net/ttv-boxart/1987896617_IGDB-{width}x{height}.jpg",
         "214394",
         "2025-06-13T19:24:42.178173"
        ],
        [
         "512710",
         "Call of Duty: Warzone",
         "https://static-cdn.jtvnw.net/ttv-boxart/512710-{width}x{height}.jpg",
         "131800",
         "2025-06-13T19:24:42.178173"
        ],
        [
         "55453844",
         "Street Fighter 6",
         "https://static-cdn.jtvnw.net/ttv-boxart/55453844_IGDB-{width}x{height}.jpg",
         "191692",
         "2025-06-13T19:24:42.178173"
        ],
        [
         "32399",
         "Counter-Strike",
         "https://static-cdn.jtvnw.net/ttv-boxart/32399-{width}x{height}.jpg",
         "",
         "2025-06-13T19:20:33.820557"
        ],
        [
         "516575",
         "VALORANT",
         "https://static-cdn.jtvnw.net/ttv-boxart/516575-{width}x{height}.jpg",
         "126459",
         "2025-06-13T19:20:33.820557"
        ],
        [
         "32982",
         "Grand Theft Auto V",
         "https://static-cdn.jtvnw.net/ttv-boxart/32982_IGDB-{width}x{height}.jpg",
         "1020",
         "2025-06-13T19:20:33.820557"
        ],
        [
         "29307",
         "Path of Exile",
         "https://static-cdn.jtvnw.net/ttv-boxart/29307_IGDB-{width}x{height}.jpg",
         "1911",
         "2025-06-13T19:20:33.820557"
        ],
        [
         "21779",
         "League of Legends",
         "https://static-cdn.jtvnw.net/ttv-boxart/21779-{width}x{height}.jpg",
         "115",
         "2025-06-13T19:20:33.820557"
        ],
        [
         "27471",
         "Minecraft",
         "https://static-cdn.jtvnw.net/ttv-boxart/27471_IGDB-{width}x{height}.jpg",
         "135400",
         "2025-06-13T19:20:33.820557"
        ],
        [
         "481086259",
         "The Alters",
         "https://static-cdn.jtvnw.net/ttv-boxart/481086259_IGDB-{width}x{height}.jpg",
         "204634",
         "2025-06-13T19:20:33.820557"
        ],
        [
         "33214",
         "Fortnite",
         "https://static-cdn.jtvnw.net/ttv-boxart/33214-{width}x{height}.jpg",
         "1905",
         "2025-06-13T19:20:33.820557"
        ],
        [
         "29595",
         "Dota 2",
         "https://static-cdn.jtvnw.net/ttv-boxart/29595-{width}x{height}.jpg",
         "",
         "2025-06-13T19:20:33.820557"
        ],
        [
         "602694215",
         "Five Nights at Freddy's: Secret of the Mimic",
         "https://static-cdn.jtvnw.net/ttv-boxart/602694215_IGDB-{width}x{height}.jpg",
         "312859",
         "2025-06-13T19:20:33.820557"
        ],
        [
         "2011938005",
         "EA Sports FC 25",
         "https://static-cdn.jtvnw.net/ttv-boxart/2011938005_IGDB-{width}x{height}.jpg",
         "308698",
         "2025-06-13T19:20:33.820557"
        ],
        [
         "30921",
         "Rocket League",
         "https://static-cdn.jtvnw.net/ttv-boxart/30921-{width}x{height}.jpg",
         "11198",
         "2025-06-13T19:20:33.820557"
        ],
        [
         "460630",
         "Tom Clancy's Rainbow Six Siege X",
         "https://static-cdn.jtvnw.net/ttv-boxart/460630-{width}x{height}.jpg",
         "7360",
         "2025-06-13T19:20:33.820557"
        ],
        [
         "1987896617",
         "Dune: Awakening",
         "https://static-cdn.jtvnw.net/ttv-boxart/1987896617_IGDB-{width}x{height}.jpg",
         "214394",
         "2025-06-13T19:20:33.820557"
        ],
        [
         "512710",
         "Call of Duty: Warzone",
         "https://static-cdn.jtvnw.net/ttv-boxart/512710-{width}x{height}.jpg",
         "131800",
         "2025-06-13T19:20:33.820557"
        ],
        [
         "55453844",
         "Street Fighter 6",
         "https://static-cdn.jtvnw.net/ttv-boxart/55453844_IGDB-{width}x{height}.jpg",
         "191692",
         "2025-06-13T19:20:33.820557"
        ],
        [
         "32399",
         "Counter-Strike",
         "https://static-cdn.jtvnw.net/ttv-boxart/32399-{width}x{height}.jpg",
         "",
         "2025-06-13T19:23:40.087938"
        ],
        [
         "516575",
         "VALORANT",
         "https://static-cdn.jtvnw.net/ttv-boxart/516575-{width}x{height}.jpg",
         "126459",
         "2025-06-13T19:23:40.087938"
        ],
        [
         "32982",
         "Grand Theft Auto V",
         "https://static-cdn.jtvnw.net/ttv-boxart/32982_IGDB-{width}x{height}.jpg",
         "1020",
         "2025-06-13T19:23:40.087938"
        ],
        [
         "29307",
         "Path of Exile",
         "https://static-cdn.jtvnw.net/ttv-boxart/29307_IGDB-{width}x{height}.jpg",
         "1911",
         "2025-06-13T19:23:40.087938"
        ],
        [
         "27471",
         "Minecraft",
         "https://static-cdn.jtvnw.net/ttv-boxart/27471_IGDB-{width}x{height}.jpg",
         "135400",
         "2025-06-13T19:23:40.087938"
        ],
        [
         "21779",
         "League of Legends",
         "https://static-cdn.jtvnw.net/ttv-boxart/21779-{width}x{height}.jpg",
         "115",
         "2025-06-13T19:23:40.087938"
        ],
        [
         "481086259",
         "The Alters",
         "https://static-cdn.jtvnw.net/ttv-boxart/481086259_IGDB-{width}x{height}.jpg",
         "204634",
         "2025-06-13T19:23:40.087938"
        ],
        [
         "33214",
         "Fortnite",
         "https://static-cdn.jtvnw.net/ttv-boxart/33214-{width}x{height}.jpg",
         "1905",
         "2025-06-13T19:23:40.087938"
        ],
        [
         "602694215",
         "Five Nights at Freddy's: Secret of the Mimic",
         "https://static-cdn.jtvnw.net/ttv-boxart/602694215_IGDB-{width}x{height}.jpg",
         "312859",
         "2025-06-13T19:23:40.087938"
        ],
        [
         "29595",
         "Dota 2",
         "https://static-cdn.jtvnw.net/ttv-boxart/29595-{width}x{height}.jpg",
         "",
         "2025-06-13T19:23:40.087938"
        ],
        [
         "2011938005",
         "EA Sports FC 25",
         "https://static-cdn.jtvnw.net/ttv-boxart/2011938005_IGDB-{width}x{height}.jpg",
         "308698",
         "2025-06-13T19:23:40.087938"
        ],
        [
         "460630",
         "Tom Clancy's Rainbow Six Siege X",
         "https://static-cdn.jtvnw.net/ttv-boxart/460630-{width}x{height}.jpg",
         "7360",
         "2025-06-13T19:23:40.087938"
        ],
        [
         "30921",
         "Rocket League",
         "https://static-cdn.jtvnw.net/ttv-boxart/30921-{width}x{height}.jpg",
         "11198",
         "2025-06-13T19:23:40.087938"
        ],
        [
         "1987896617",
         "Dune: Awakening",
         "https://static-cdn.jtvnw.net/ttv-boxart/1987896617_IGDB-{width}x{height}.jpg",
         "214394",
         "2025-06-13T19:23:40.087938"
        ],
        [
         "512710",
         "Call of Duty: Warzone",
         "https://static-cdn.jtvnw.net/ttv-boxart/512710-{width}x{height}.jpg",
         "131800",
         "2025-06-13T19:23:40.087938"
        ],
        [
         "1826300051",
         "Mario Kart World",
         "https://static-cdn.jtvnw.net/ttv-boxart/1826300051_IGDB-{width}x{height}.jpg",
         "338067",
         "2025-06-13T19:23:40.087938"
        ],
        [
         "32399",
         "Counter-Strike",
         "https://static-cdn.jtvnw.net/ttv-boxart/32399-{width}x{height}.jpg",
         "",
         "2025-06-13T19:17:18.143376"
        ],
        [
         "516575",
         "VALORANT",
         "https://static-cdn.jtvnw.net/ttv-boxart/516575-{width}x{height}.jpg",
         "126459",
         "2025-06-13T19:17:18.143376"
        ],
        [
         "32982",
         "Grand Theft Auto V",
         "https://static-cdn.jtvnw.net/ttv-boxart/32982_IGDB-{width}x{height}.jpg",
         "1020",
         "2025-06-13T19:17:18.143376"
        ],
        [
         "29307",
         "Path of Exile",
         "https://static-cdn.jtvnw.net/ttv-boxart/29307_IGDB-{width}x{height}.jpg",
         "1911",
         "2025-06-13T19:17:18.143376"
        ],
        [
         "21779",
         "League of Legends",
         "https://static-cdn.jtvnw.net/ttv-boxart/21779-{width}x{height}.jpg",
         "115",
         "2025-06-13T19:17:18.143376"
        ],
        [
         "27471",
         "Minecraft",
         "https://static-cdn.jtvnw.net/ttv-boxart/27471_IGDB-{width}x{height}.jpg",
         "135400",
         "2025-06-13T19:17:18.143376"
        ],
        [
         "481086259",
         "The Alters",
         "https://static-cdn.jtvnw.net/ttv-boxart/481086259_IGDB-{width}x{height}.jpg",
         "204634",
         "2025-06-13T19:17:18.143376"
        ],
        [
         "33214",
         "Fortnite",
         "https://static-cdn.jtvnw.net/ttv-boxart/33214-{width}x{height}.jpg",
         "1905",
         "2025-06-13T19:17:18.143376"
        ],
        [
         "29595",
         "Dota 2",
         "https://static-cdn.jtvnw.net/ttv-boxart/29595-{width}x{height}.jpg",
         "",
         "2025-06-13T19:17:18.143376"
        ],
        [
         "602694215",
         "Five Nights at Freddy's: Secret of the Mimic",
         "https://static-cdn.jtvnw.net/ttv-boxart/602694215_IGDB-{width}x{height}.jpg",
         "312859",
         "2025-06-13T19:17:18.143376"
        ],
        [
         "460630",
         "Tom Clancy's Rainbow Six Siege X",
         "https://static-cdn.jtvnw.net/ttv-boxart/460630-{width}x{height}.jpg",
         "7360",
         "2025-06-13T19:17:18.143376"
        ],
        [
         "2011938005",
         "EA Sports FC 25",
         "https://static-cdn.jtvnw.net/ttv-boxart/2011938005_IGDB-{width}x{height}.jpg",
         "308698",
         "2025-06-13T19:17:18.143376"
        ],
        [
         "1987896617",
         "Dune: Awakening",
         "https://static-cdn.jtvnw.net/ttv-boxart/1987896617_IGDB-{width}x{height}.jpg",
         "214394",
         "2025-06-13T19:17:18.143376"
        ],
        [
         "30921",
         "Rocket League",
         "https://static-cdn.jtvnw.net/ttv-boxart/30921-{width}x{height}.jpg",
         "11198",
         "2025-06-13T19:17:18.143376"
        ],
        [
         "512710",
         "Call of Duty: Warzone",
         "https://static-cdn.jtvnw.net/ttv-boxart/512710-{width}x{height}.jpg",
         "131800",
         "2025-06-13T19:17:18.143376"
        ],
        [
         "55453844",
         "Street Fighter 6",
         "https://static-cdn.jtvnw.net/ttv-boxart/55453844_IGDB-{width}x{height}.jpg",
         "191692",
         "2025-06-13T19:17:18.143376"
        ],
        [
         "32399",
         "Counter-Strike",
         "https://static-cdn.jtvnw.net/ttv-boxart/32399-{width}x{height}.jpg",
         "",
         "2025-06-13T19:58:56.682720"
        ],
        [
         "516575",
         "VALORANT",
         "https://static-cdn.jtvnw.net/ttv-boxart/516575-{width}x{height}.jpg",
         "126459",
         "2025-06-13T19:58:56.682720"
        ],
        [
         "29307",
         "Path of Exile",
         "https://static-cdn.jtvnw.net/ttv-boxart/29307_IGDB-{width}x{height}.jpg",
         "1911",
         "2025-06-13T19:58:56.682720"
        ],
        [
         "32982",
         "Grand Theft Auto V",
         "https://static-cdn.jtvnw.net/ttv-boxart/32982_IGDB-{width}x{height}.jpg",
         "1020",
         "2025-06-13T19:58:56.682720"
        ],
        [
         "27471",
         "Minecraft",
         "https://static-cdn.jtvnw.net/ttv-boxart/27471_IGDB-{width}x{height}.jpg",
         "135400",
         "2025-06-13T19:58:56.682720"
        ],
        [
         "21779",
         "League of Legends",
         "https://static-cdn.jtvnw.net/ttv-boxart/21779-{width}x{height}.jpg",
         "115",
         "2025-06-13T19:58:56.682720"
        ],
        [
         "481086259",
         "The Alters",
         "https://static-cdn.jtvnw.net/ttv-boxart/481086259_IGDB-{width}x{height}.jpg",
         "204634",
         "2025-06-13T19:58:56.682720"
        ],
        [
         "602694215",
         "Five Nights at Freddy's: Secret of the Mimic",
         "https://static-cdn.jtvnw.net/ttv-boxart/602694215_IGDB-{width}x{height}.jpg",
         "312859",
         "2025-06-13T19:58:56.682720"
        ],
        [
         "33214",
         "Fortnite",
         "https://static-cdn.jtvnw.net/ttv-boxart/33214-{width}x{height}.jpg",
         "1905",
         "2025-06-13T19:58:56.682720"
        ],
        [
         "460630",
         "Tom Clancy's Rainbow Six Siege X",
         "https://static-cdn.jtvnw.net/ttv-boxart/460630-{width}x{height}.jpg",
         "7360",
         "2025-06-13T19:58:56.682720"
        ],
        [
         "512710",
         "Call of Duty: Warzone",
         "https://static-cdn.jtvnw.net/ttv-boxart/512710-{width}x{height}.jpg",
         "131800",
         "2025-06-13T19:58:56.682720"
        ],
        [
         "2011938005",
         "EA Sports FC 25",
         "https://static-cdn.jtvnw.net/ttv-boxart/2011938005_IGDB-{width}x{height}.jpg",
         "308698",
         "2025-06-13T19:58:56.682720"
        ],
        [
         "29595",
         "Dota 2",
         "https://static-cdn.jtvnw.net/ttv-boxart/29595-{width}x{height}.jpg",
         "",
         "2025-06-13T19:58:56.682720"
        ],
        [
         "1987896617",
         "Dune: Awakening",
         "https://static-cdn.jtvnw.net/ttv-boxart/1987896617_IGDB-{width}x{height}.jpg",
         "214394",
         "2025-06-13T19:58:56.682720"
        ],
        [
         "1826300051",
         "Mario Kart World",
         "https://static-cdn.jtvnw.net/ttv-boxart/1826300051_IGDB-{width}x{height}.jpg",
         "338067",
         "2025-06-13T19:58:56.682720"
        ],
        [
         "18122",
         "World of Warcraft",
         "https://static-cdn.jtvnw.net/ttv-boxart/18122-{width}x{height}.jpg",
         "123",
         "2025-06-13T19:58:56.682720"
        ]
       ],
       "datasetInfos": [],
       "dbfsResultPath": null,
       "isJsonSchema": true,
       "metadata": {},
       "overflow": false,
       "plotOptions": {
        "customPlotOptions": {},
        "displayType": "table",
        "pivotAggregation": null,
        "pivotColumns": null,
        "xColumns": null,
        "yColumns": null
       },
       "removedWidgets": [],
       "schema": [
        {
         "metadata": "{}",
         "name": "id",
         "type": "\"string\""
        },
        {
         "metadata": "{}",
         "name": "name",
         "type": "\"string\""
        },
        {
         "metadata": "{}",
         "name": "box_art_url",
         "type": "\"string\""
        },
        {
         "metadata": "{}",
         "name": "igdb_id",
         "type": "\"string\""
        },
        {
         "metadata": "{}",
         "name": "ingestion_time",
         "type": "\"string\""
        }
       ],
       "type": "table"
      }
     },
     "output_type": "display_data"
    }
   ],
   "source": [
    "display(spark.read.format(\"delta\").load(\"/mnt/trusted/twitch/streams\"))"
   ]
  }
 ],
 "metadata": {
  "application/vnd.databricks.v1+notebook": {
   "computePreferences": null,
   "dashboards": [],
   "environmentMetadata": {
    "base_environment": "",
    "environment_version": "2"
   },
   "inputWidgetPreferences": null,
   "language": "python",
   "notebookMetadata": {
    "pythonIndentUnit": 4
   },
   "notebookName": "streaming",
   "widgets": {}
  },
  "language_info": {
   "name": "python"
  }
 },
 "nbformat": 4,
 "nbformat_minor": 0
}
